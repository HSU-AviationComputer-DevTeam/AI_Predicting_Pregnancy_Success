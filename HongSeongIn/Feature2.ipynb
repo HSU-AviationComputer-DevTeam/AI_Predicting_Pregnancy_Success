{
 "cells": [
  {
   "cell_type": "code",
   "execution_count": 1,
   "metadata": {},
   "outputs": [],
   "source": [
    "# Log in to your W&B account\n",
    "import wandb\n",
    "import random\n",
    "import math"
   ]
  },
  {
   "cell_type": "code",
   "execution_count": 5,
   "metadata": {},
   "outputs": [],
   "source": [
    "import wandb\n",
    "import pandas as pd\n",
    "import numpy as np\n",
    "\n",
    "from sklearn.model_selection import cross_val_score, StratifiedKFold\n",
    "from sklearn.pipeline import Pipeline\n",
    "from sklearn.preprocessing import StandardScaler, OneHotEncoder\n",
    "from sklearn.compose import ColumnTransformer\n",
    "from lightgbm import LGBMClassifier"
   ]
  },
  {
   "cell_type": "markdown",
   "metadata": {},
   "source": [
    "# 1차"
   ]
  },
  {
   "cell_type": "code",
   "execution_count": 33,
   "metadata": {},
   "outputs": [
    {
     "name": "stderr",
     "output_type": "stream",
     "text": [
      "\u001b[34m\u001b[1mwandb\u001b[0m: \u001b[33mWARNING\u001b[0m If you're specifying your api key in code, ensure this code is not shared publicly.\n",
      "\u001b[34m\u001b[1mwandb\u001b[0m: \u001b[33mWARNING\u001b[0m Consider setting the WANDB_API_KEY environment variable, or running `wandb login` from the command line.\n",
      "\u001b[34m\u001b[1mwandb\u001b[0m: Appending key for api.wandb.ai to your netrc file: C:\\Users\\tjddl\\_netrc\n"
     ]
    },
    {
     "name": "stdout",
     "output_type": "stream",
     "text": [
      "Create sweep with ID: d6kdsk99\n",
      "Sweep URL: https://wandb.ai/espada105-hanseouniversity/LGaimers/sweeps/d6kdsk99\n",
      "Sweep ID: d6kdsk99\n"
     ]
    },
    {
     "name": "stderr",
     "output_type": "stream",
     "text": [
      "\u001b[34m\u001b[1mwandb\u001b[0m: Agent Starting Run: rpir7gr0 with config:\n",
      "\u001b[34m\u001b[1mwandb\u001b[0m: \tlearning_rate: 0.01\n",
      "\u001b[34m\u001b[1mwandb\u001b[0m: \tmax_depth: 5\n",
      "\u001b[34m\u001b[1mwandb\u001b[0m: \tn_estimators: 100\n"
     ]
    },
    {
     "data": {
      "text/html": [
       "Ignoring project 'LGaimers' when running a sweep."
      ],
      "text/plain": [
       "<IPython.core.display.HTML object>"
      ]
     },
     "metadata": {},
     "output_type": "display_data"
    },
    {
     "data": {
      "text/html": [
       "Ignoring entity 'espada105-hanseouniversity' when running a sweep."
      ],
      "text/plain": [
       "<IPython.core.display.HTML object>"
      ]
     },
     "metadata": {},
     "output_type": "display_data"
    },
    {
     "data": {
      "text/html": [
       "Tracking run with wandb version 0.19.6"
      ],
      "text/plain": [
       "<IPython.core.display.HTML object>"
      ]
     },
     "metadata": {},
     "output_type": "display_data"
    },
    {
     "data": {
      "text/html": [
       "Run data is saved locally in <code>c:\\GitHubRepo\\AI_Predicting_Pregnancy_Success\\HongSeongIn\\wandb\\run-20250207_223955-rpir7gr0</code>"
      ],
      "text/plain": [
       "<IPython.core.display.HTML object>"
      ]
     },
     "metadata": {},
     "output_type": "display_data"
    },
    {
     "data": {
      "text/html": [
       "Syncing run <strong><a href='https://wandb.ai/espada105-hanseouniversity/LGaimers/runs/rpir7gr0' target=\"_blank\">ancient-sweep-1</a></strong> to <a href='https://wandb.ai/espada105-hanseouniversity/LGaimers' target=\"_blank\">Weights & Biases</a> (<a href='https://wandb.me/developer-guide' target=\"_blank\">docs</a>)<br>Sweep page: <a href='https://wandb.ai/espada105-hanseouniversity/LGaimers/sweeps/d6kdsk99' target=\"_blank\">https://wandb.ai/espada105-hanseouniversity/LGaimers/sweeps/d6kdsk99</a>"
      ],
      "text/plain": [
       "<IPython.core.display.HTML object>"
      ]
     },
     "metadata": {},
     "output_type": "display_data"
    },
    {
     "data": {
      "text/html": [
       " View project at <a href='https://wandb.ai/espada105-hanseouniversity/LGaimers' target=\"_blank\">https://wandb.ai/espada105-hanseouniversity/LGaimers</a>"
      ],
      "text/plain": [
       "<IPython.core.display.HTML object>"
      ]
     },
     "metadata": {},
     "output_type": "display_data"
    },
    {
     "data": {
      "text/html": [
       " View sweep at <a href='https://wandb.ai/espada105-hanseouniversity/LGaimers/sweeps/d6kdsk99' target=\"_blank\">https://wandb.ai/espada105-hanseouniversity/LGaimers/sweeps/d6kdsk99</a>"
      ],
      "text/plain": [
       "<IPython.core.display.HTML object>"
      ]
     },
     "metadata": {},
     "output_type": "display_data"
    },
    {
     "data": {
      "text/html": [
       " View run at <a href='https://wandb.ai/espada105-hanseouniversity/LGaimers/runs/rpir7gr0' target=\"_blank\">https://wandb.ai/espada105-hanseouniversity/LGaimers/runs/rpir7gr0</a>"
      ],
      "text/plain": [
       "<IPython.core.display.HTML object>"
      ]
     },
     "metadata": {},
     "output_type": "display_data"
    },
    {
     "name": "stderr",
     "output_type": "stream",
     "text": [
      "c:\\Users\\tjddl\\AppData\\Local\\Programs\\Python\\Python310\\lib\\site-packages\\sklearn\\utils\\deprecation.py:151: FutureWarning: 'force_all_finite' was renamed to 'ensure_all_finite' in 1.6 and will be removed in 1.8.\n",
      "  warnings.warn(\n",
      "c:\\Users\\tjddl\\AppData\\Local\\Programs\\Python\\Python310\\lib\\site-packages\\sklearn\\utils\\deprecation.py:151: FutureWarning: 'force_all_finite' was renamed to 'ensure_all_finite' in 1.6 and will be removed in 1.8.\n",
      "  warnings.warn(\n",
      "c:\\Users\\tjddl\\AppData\\Local\\Programs\\Python\\Python310\\lib\\site-packages\\sklearn\\utils\\deprecation.py:151: FutureWarning: 'force_all_finite' was renamed to 'ensure_all_finite' in 1.6 and will be removed in 1.8.\n",
      "  warnings.warn(\n",
      "c:\\Users\\tjddl\\AppData\\Local\\Programs\\Python\\Python310\\lib\\site-packages\\sklearn\\utils\\deprecation.py:151: FutureWarning: 'force_all_finite' was renamed to 'ensure_all_finite' in 1.6 and will be removed in 1.8.\n",
      "  warnings.warn(\n",
      "c:\\Users\\tjddl\\AppData\\Local\\Programs\\Python\\Python310\\lib\\site-packages\\sklearn\\utils\\deprecation.py:151: FutureWarning: 'force_all_finite' was renamed to 'ensure_all_finite' in 1.6 and will be removed in 1.8.\n",
      "  warnings.warn(\n",
      "c:\\Users\\tjddl\\AppData\\Local\\Programs\\Python\\Python310\\lib\\site-packages\\sklearn\\utils\\deprecation.py:151: FutureWarning: 'force_all_finite' was renamed to 'ensure_all_finite' in 1.6 and will be removed in 1.8.\n",
      "  warnings.warn(\n",
      "c:\\Users\\tjddl\\AppData\\Local\\Programs\\Python\\Python310\\lib\\site-packages\\sklearn\\utils\\deprecation.py:151: FutureWarning: 'force_all_finite' was renamed to 'ensure_all_finite' in 1.6 and will be removed in 1.8.\n",
      "  warnings.warn(\n",
      "c:\\Users\\tjddl\\AppData\\Local\\Programs\\Python\\Python310\\lib\\site-packages\\sklearn\\utils\\deprecation.py:151: FutureWarning: 'force_all_finite' was renamed to 'ensure_all_finite' in 1.6 and will be removed in 1.8.\n",
      "  warnings.warn(\n",
      "c:\\Users\\tjddl\\AppData\\Local\\Programs\\Python\\Python310\\lib\\site-packages\\sklearn\\utils\\deprecation.py:151: FutureWarning: 'force_all_finite' was renamed to 'ensure_all_finite' in 1.6 and will be removed in 1.8.\n",
      "  warnings.warn(\n"
     ]
    },
    {
     "name": "stdout",
     "output_type": "stream",
     "text": [
      "Mean ROC AUC: 0.7293\n"
     ]
    },
    {
     "name": "stderr",
     "output_type": "stream",
     "text": [
      "c:\\Users\\tjddl\\AppData\\Local\\Programs\\Python\\Python310\\lib\\site-packages\\sklearn\\utils\\deprecation.py:151: FutureWarning: 'force_all_finite' was renamed to 'ensure_all_finite' in 1.6 and will be removed in 1.8.\n",
      "  warnings.warn(\n"
     ]
    },
    {
     "data": {
      "text/html": [],
      "text/plain": [
       "<IPython.core.display.HTML object>"
      ]
     },
     "metadata": {},
     "output_type": "display_data"
    },
    {
     "data": {
      "text/html": [
       "<br>    <style><br>        .wandb-row {<br>            display: flex;<br>            flex-direction: row;<br>            flex-wrap: wrap;<br>            justify-content: flex-start;<br>            width: 100%;<br>        }<br>        .wandb-col {<br>            display: flex;<br>            flex-direction: column;<br>            flex-basis: 100%;<br>            flex: 1;<br>            padding: 10px;<br>        }<br>    </style><br><div class=\"wandb-row\"><div class=\"wandb-col\"><h3>Run history:</h3><br/><table class=\"wandb\"><tr><td>roc_auc</td><td>▁</td></tr></table><br/></div><div class=\"wandb-col\"><h3>Run summary:</h3><br/><table class=\"wandb\"><tr><td>roc_auc</td><td>0.72932</td></tr></table><br/></div></div>"
      ],
      "text/plain": [
       "<IPython.core.display.HTML object>"
      ]
     },
     "metadata": {},
     "output_type": "display_data"
    },
    {
     "data": {
      "text/html": [
       " View run <strong style=\"color:#cdcd00\">ancient-sweep-1</strong> at: <a href='https://wandb.ai/espada105-hanseouniversity/LGaimers/runs/rpir7gr0' target=\"_blank\">https://wandb.ai/espada105-hanseouniversity/LGaimers/runs/rpir7gr0</a><br> View project at: <a href='https://wandb.ai/espada105-hanseouniversity/LGaimers' target=\"_blank\">https://wandb.ai/espada105-hanseouniversity/LGaimers</a><br>Synced 5 W&B file(s), 0 media file(s), 0 artifact file(s) and 0 other file(s)"
      ],
      "text/plain": [
       "<IPython.core.display.HTML object>"
      ]
     },
     "metadata": {},
     "output_type": "display_data"
    },
    {
     "data": {
      "text/html": [
       "Find logs at: <code>.\\wandb\\run-20250207_223955-rpir7gr0\\logs</code>"
      ],
      "text/plain": [
       "<IPython.core.display.HTML object>"
      ]
     },
     "metadata": {},
     "output_type": "display_data"
    },
    {
     "name": "stderr",
     "output_type": "stream",
     "text": [
      "\u001b[34m\u001b[1mwandb\u001b[0m: Agent Starting Run: 93yvj83k with config:\n",
      "\u001b[34m\u001b[1mwandb\u001b[0m: \tlearning_rate: 0.01\n",
      "\u001b[34m\u001b[1mwandb\u001b[0m: \tmax_depth: 5\n",
      "\u001b[34m\u001b[1mwandb\u001b[0m: \tn_estimators: 200\n"
     ]
    },
    {
     "data": {
      "text/html": [
       "Ignoring project 'LGaimers' when running a sweep."
      ],
      "text/plain": [
       "<IPython.core.display.HTML object>"
      ]
     },
     "metadata": {},
     "output_type": "display_data"
    },
    {
     "data": {
      "text/html": [
       "Ignoring entity 'espada105-hanseouniversity' when running a sweep."
      ],
      "text/plain": [
       "<IPython.core.display.HTML object>"
      ]
     },
     "metadata": {},
     "output_type": "display_data"
    },
    {
     "data": {
      "text/html": [
       "Tracking run with wandb version 0.19.6"
      ],
      "text/plain": [
       "<IPython.core.display.HTML object>"
      ]
     },
     "metadata": {},
     "output_type": "display_data"
    },
    {
     "data": {
      "text/html": [
       "Run data is saved locally in <code>c:\\GitHubRepo\\AI_Predicting_Pregnancy_Success\\HongSeongIn\\wandb\\run-20250207_224011-93yvj83k</code>"
      ],
      "text/plain": [
       "<IPython.core.display.HTML object>"
      ]
     },
     "metadata": {},
     "output_type": "display_data"
    },
    {
     "data": {
      "text/html": [
       "Syncing run <strong><a href='https://wandb.ai/espada105-hanseouniversity/LGaimers/runs/93yvj83k' target=\"_blank\">brisk-sweep-2</a></strong> to <a href='https://wandb.ai/espada105-hanseouniversity/LGaimers' target=\"_blank\">Weights & Biases</a> (<a href='https://wandb.me/developer-guide' target=\"_blank\">docs</a>)<br>Sweep page: <a href='https://wandb.ai/espada105-hanseouniversity/LGaimers/sweeps/d6kdsk99' target=\"_blank\">https://wandb.ai/espada105-hanseouniversity/LGaimers/sweeps/d6kdsk99</a>"
      ],
      "text/plain": [
       "<IPython.core.display.HTML object>"
      ]
     },
     "metadata": {},
     "output_type": "display_data"
    },
    {
     "data": {
      "text/html": [
       " View project at <a href='https://wandb.ai/espada105-hanseouniversity/LGaimers' target=\"_blank\">https://wandb.ai/espada105-hanseouniversity/LGaimers</a>"
      ],
      "text/plain": [
       "<IPython.core.display.HTML object>"
      ]
     },
     "metadata": {},
     "output_type": "display_data"
    },
    {
     "data": {
      "text/html": [
       " View sweep at <a href='https://wandb.ai/espada105-hanseouniversity/LGaimers/sweeps/d6kdsk99' target=\"_blank\">https://wandb.ai/espada105-hanseouniversity/LGaimers/sweeps/d6kdsk99</a>"
      ],
      "text/plain": [
       "<IPython.core.display.HTML object>"
      ]
     },
     "metadata": {},
     "output_type": "display_data"
    },
    {
     "data": {
      "text/html": [
       " View run at <a href='https://wandb.ai/espada105-hanseouniversity/LGaimers/runs/93yvj83k' target=\"_blank\">https://wandb.ai/espada105-hanseouniversity/LGaimers/runs/93yvj83k</a>"
      ],
      "text/plain": [
       "<IPython.core.display.HTML object>"
      ]
     },
     "metadata": {},
     "output_type": "display_data"
    },
    {
     "name": "stderr",
     "output_type": "stream",
     "text": [
      "c:\\Users\\tjddl\\AppData\\Local\\Programs\\Python\\Python310\\lib\\site-packages\\sklearn\\utils\\deprecation.py:151: FutureWarning: 'force_all_finite' was renamed to 'ensure_all_finite' in 1.6 and will be removed in 1.8.\n",
      "  warnings.warn(\n",
      "c:\\Users\\tjddl\\AppData\\Local\\Programs\\Python\\Python310\\lib\\site-packages\\sklearn\\utils\\deprecation.py:151: FutureWarning: 'force_all_finite' was renamed to 'ensure_all_finite' in 1.6 and will be removed in 1.8.\n",
      "  warnings.warn(\n",
      "c:\\Users\\tjddl\\AppData\\Local\\Programs\\Python\\Python310\\lib\\site-packages\\sklearn\\utils\\deprecation.py:151: FutureWarning: 'force_all_finite' was renamed to 'ensure_all_finite' in 1.6 and will be removed in 1.8.\n",
      "  warnings.warn(\n",
      "c:\\Users\\tjddl\\AppData\\Local\\Programs\\Python\\Python310\\lib\\site-packages\\sklearn\\utils\\deprecation.py:151: FutureWarning: 'force_all_finite' was renamed to 'ensure_all_finite' in 1.6 and will be removed in 1.8.\n",
      "  warnings.warn(\n",
      "c:\\Users\\tjddl\\AppData\\Local\\Programs\\Python\\Python310\\lib\\site-packages\\sklearn\\utils\\deprecation.py:151: FutureWarning: 'force_all_finite' was renamed to 'ensure_all_finite' in 1.6 and will be removed in 1.8.\n",
      "  warnings.warn(\n",
      "c:\\Users\\tjddl\\AppData\\Local\\Programs\\Python\\Python310\\lib\\site-packages\\sklearn\\utils\\deprecation.py:151: FutureWarning: 'force_all_finite' was renamed to 'ensure_all_finite' in 1.6 and will be removed in 1.8.\n",
      "  warnings.warn(\n",
      "c:\\Users\\tjddl\\AppData\\Local\\Programs\\Python\\Python310\\lib\\site-packages\\sklearn\\utils\\deprecation.py:151: FutureWarning: 'force_all_finite' was renamed to 'ensure_all_finite' in 1.6 and will be removed in 1.8.\n",
      "  warnings.warn(\n",
      "c:\\Users\\tjddl\\AppData\\Local\\Programs\\Python\\Python310\\lib\\site-packages\\sklearn\\utils\\deprecation.py:151: FutureWarning: 'force_all_finite' was renamed to 'ensure_all_finite' in 1.6 and will be removed in 1.8.\n",
      "  warnings.warn(\n",
      "c:\\Users\\tjddl\\AppData\\Local\\Programs\\Python\\Python310\\lib\\site-packages\\sklearn\\utils\\deprecation.py:151: FutureWarning: 'force_all_finite' was renamed to 'ensure_all_finite' in 1.6 and will be removed in 1.8.\n",
      "  warnings.warn(\n"
     ]
    },
    {
     "name": "stdout",
     "output_type": "stream",
     "text": [
      "Mean ROC AUC: 0.7328\n"
     ]
    },
    {
     "name": "stderr",
     "output_type": "stream",
     "text": [
      "c:\\Users\\tjddl\\AppData\\Local\\Programs\\Python\\Python310\\lib\\site-packages\\sklearn\\utils\\deprecation.py:151: FutureWarning: 'force_all_finite' was renamed to 'ensure_all_finite' in 1.6 and will be removed in 1.8.\n",
      "  warnings.warn(\n"
     ]
    },
    {
     "data": {
      "text/html": [],
      "text/plain": [
       "<IPython.core.display.HTML object>"
      ]
     },
     "metadata": {},
     "output_type": "display_data"
    },
    {
     "data": {
      "text/html": [
       "<br>    <style><br>        .wandb-row {<br>            display: flex;<br>            flex-direction: row;<br>            flex-wrap: wrap;<br>            justify-content: flex-start;<br>            width: 100%;<br>        }<br>        .wandb-col {<br>            display: flex;<br>            flex-direction: column;<br>            flex-basis: 100%;<br>            flex: 1;<br>            padding: 10px;<br>        }<br>    </style><br><div class=\"wandb-row\"><div class=\"wandb-col\"><h3>Run history:</h3><br/><table class=\"wandb\"><tr><td>roc_auc</td><td>▁</td></tr></table><br/></div><div class=\"wandb-col\"><h3>Run summary:</h3><br/><table class=\"wandb\"><tr><td>roc_auc</td><td>0.7328</td></tr></table><br/></div></div>"
      ],
      "text/plain": [
       "<IPython.core.display.HTML object>"
      ]
     },
     "metadata": {},
     "output_type": "display_data"
    },
    {
     "data": {
      "text/html": [
       " View run <strong style=\"color:#cdcd00\">brisk-sweep-2</strong> at: <a href='https://wandb.ai/espada105-hanseouniversity/LGaimers/runs/93yvj83k' target=\"_blank\">https://wandb.ai/espada105-hanseouniversity/LGaimers/runs/93yvj83k</a><br> View project at: <a href='https://wandb.ai/espada105-hanseouniversity/LGaimers' target=\"_blank\">https://wandb.ai/espada105-hanseouniversity/LGaimers</a><br>Synced 5 W&B file(s), 0 media file(s), 0 artifact file(s) and 0 other file(s)"
      ],
      "text/plain": [
       "<IPython.core.display.HTML object>"
      ]
     },
     "metadata": {},
     "output_type": "display_data"
    },
    {
     "data": {
      "text/html": [
       "Find logs at: <code>.\\wandb\\run-20250207_224011-93yvj83k\\logs</code>"
      ],
      "text/plain": [
       "<IPython.core.display.HTML object>"
      ]
     },
     "metadata": {},
     "output_type": "display_data"
    },
    {
     "name": "stderr",
     "output_type": "stream",
     "text": [
      "\u001b[34m\u001b[1mwandb\u001b[0m: Agent Starting Run: 5l0i07kq with config:\n",
      "\u001b[34m\u001b[1mwandb\u001b[0m: \tlearning_rate: 0.01\n",
      "\u001b[34m\u001b[1mwandb\u001b[0m: \tmax_depth: 7\n",
      "\u001b[34m\u001b[1mwandb\u001b[0m: \tn_estimators: 100\n"
     ]
    },
    {
     "data": {
      "text/html": [
       "Ignoring project 'LGaimers' when running a sweep."
      ],
      "text/plain": [
       "<IPython.core.display.HTML object>"
      ]
     },
     "metadata": {},
     "output_type": "display_data"
    },
    {
     "data": {
      "text/html": [
       "Ignoring entity 'espada105-hanseouniversity' when running a sweep."
      ],
      "text/plain": [
       "<IPython.core.display.HTML object>"
      ]
     },
     "metadata": {},
     "output_type": "display_data"
    },
    {
     "data": {
      "text/html": [
       "Tracking run with wandb version 0.19.6"
      ],
      "text/plain": [
       "<IPython.core.display.HTML object>"
      ]
     },
     "metadata": {},
     "output_type": "display_data"
    },
    {
     "data": {
      "text/html": [
       "Run data is saved locally in <code>c:\\GitHubRepo\\AI_Predicting_Pregnancy_Success\\HongSeongIn\\wandb\\run-20250207_224032-5l0i07kq</code>"
      ],
      "text/plain": [
       "<IPython.core.display.HTML object>"
      ]
     },
     "metadata": {},
     "output_type": "display_data"
    },
    {
     "data": {
      "text/html": [
       "Syncing run <strong><a href='https://wandb.ai/espada105-hanseouniversity/LGaimers/runs/5l0i07kq' target=\"_blank\">fast-sweep-3</a></strong> to <a href='https://wandb.ai/espada105-hanseouniversity/LGaimers' target=\"_blank\">Weights & Biases</a> (<a href='https://wandb.me/developer-guide' target=\"_blank\">docs</a>)<br>Sweep page: <a href='https://wandb.ai/espada105-hanseouniversity/LGaimers/sweeps/d6kdsk99' target=\"_blank\">https://wandb.ai/espada105-hanseouniversity/LGaimers/sweeps/d6kdsk99</a>"
      ],
      "text/plain": [
       "<IPython.core.display.HTML object>"
      ]
     },
     "metadata": {},
     "output_type": "display_data"
    },
    {
     "data": {
      "text/html": [
       " View project at <a href='https://wandb.ai/espada105-hanseouniversity/LGaimers' target=\"_blank\">https://wandb.ai/espada105-hanseouniversity/LGaimers</a>"
      ],
      "text/plain": [
       "<IPython.core.display.HTML object>"
      ]
     },
     "metadata": {},
     "output_type": "display_data"
    },
    {
     "data": {
      "text/html": [
       " View sweep at <a href='https://wandb.ai/espada105-hanseouniversity/LGaimers/sweeps/d6kdsk99' target=\"_blank\">https://wandb.ai/espada105-hanseouniversity/LGaimers/sweeps/d6kdsk99</a>"
      ],
      "text/plain": [
       "<IPython.core.display.HTML object>"
      ]
     },
     "metadata": {},
     "output_type": "display_data"
    },
    {
     "data": {
      "text/html": [
       " View run at <a href='https://wandb.ai/espada105-hanseouniversity/LGaimers/runs/5l0i07kq' target=\"_blank\">https://wandb.ai/espada105-hanseouniversity/LGaimers/runs/5l0i07kq</a>"
      ],
      "text/plain": [
       "<IPython.core.display.HTML object>"
      ]
     },
     "metadata": {},
     "output_type": "display_data"
    },
    {
     "name": "stderr",
     "output_type": "stream",
     "text": [
      "c:\\Users\\tjddl\\AppData\\Local\\Programs\\Python\\Python310\\lib\\site-packages\\sklearn\\utils\\deprecation.py:151: FutureWarning: 'force_all_finite' was renamed to 'ensure_all_finite' in 1.6 and will be removed in 1.8.\n",
      "  warnings.warn(\n",
      "c:\\Users\\tjddl\\AppData\\Local\\Programs\\Python\\Python310\\lib\\site-packages\\sklearn\\utils\\deprecation.py:151: FutureWarning: 'force_all_finite' was renamed to 'ensure_all_finite' in 1.6 and will be removed in 1.8.\n",
      "  warnings.warn(\n",
      "c:\\Users\\tjddl\\AppData\\Local\\Programs\\Python\\Python310\\lib\\site-packages\\sklearn\\utils\\deprecation.py:151: FutureWarning: 'force_all_finite' was renamed to 'ensure_all_finite' in 1.6 and will be removed in 1.8.\n",
      "  warnings.warn(\n",
      "c:\\Users\\tjddl\\AppData\\Local\\Programs\\Python\\Python310\\lib\\site-packages\\sklearn\\utils\\deprecation.py:151: FutureWarning: 'force_all_finite' was renamed to 'ensure_all_finite' in 1.6 and will be removed in 1.8.\n",
      "  warnings.warn(\n",
      "c:\\Users\\tjddl\\AppData\\Local\\Programs\\Python\\Python310\\lib\\site-packages\\sklearn\\utils\\deprecation.py:151: FutureWarning: 'force_all_finite' was renamed to 'ensure_all_finite' in 1.6 and will be removed in 1.8.\n",
      "  warnings.warn(\n",
      "c:\\Users\\tjddl\\AppData\\Local\\Programs\\Python\\Python310\\lib\\site-packages\\sklearn\\utils\\deprecation.py:151: FutureWarning: 'force_all_finite' was renamed to 'ensure_all_finite' in 1.6 and will be removed in 1.8.\n",
      "  warnings.warn(\n",
      "c:\\Users\\tjddl\\AppData\\Local\\Programs\\Python\\Python310\\lib\\site-packages\\sklearn\\utils\\deprecation.py:151: FutureWarning: 'force_all_finite' was renamed to 'ensure_all_finite' in 1.6 and will be removed in 1.8.\n",
      "  warnings.warn(\n",
      "c:\\Users\\tjddl\\AppData\\Local\\Programs\\Python\\Python310\\lib\\site-packages\\sklearn\\utils\\deprecation.py:151: FutureWarning: 'force_all_finite' was renamed to 'ensure_all_finite' in 1.6 and will be removed in 1.8.\n",
      "  warnings.warn(\n",
      "c:\\Users\\tjddl\\AppData\\Local\\Programs\\Python\\Python310\\lib\\site-packages\\sklearn\\utils\\deprecation.py:151: FutureWarning: 'force_all_finite' was renamed to 'ensure_all_finite' in 1.6 and will be removed in 1.8.\n",
      "  warnings.warn(\n"
     ]
    },
    {
     "name": "stdout",
     "output_type": "stream",
     "text": [
      "Mean ROC AUC: 0.7331\n"
     ]
    },
    {
     "name": "stderr",
     "output_type": "stream",
     "text": [
      "c:\\Users\\tjddl\\AppData\\Local\\Programs\\Python\\Python310\\lib\\site-packages\\sklearn\\utils\\deprecation.py:151: FutureWarning: 'force_all_finite' was renamed to 'ensure_all_finite' in 1.6 and will be removed in 1.8.\n",
      "  warnings.warn(\n"
     ]
    },
    {
     "data": {
      "text/html": [],
      "text/plain": [
       "<IPython.core.display.HTML object>"
      ]
     },
     "metadata": {},
     "output_type": "display_data"
    },
    {
     "data": {
      "text/html": [
       "<br>    <style><br>        .wandb-row {<br>            display: flex;<br>            flex-direction: row;<br>            flex-wrap: wrap;<br>            justify-content: flex-start;<br>            width: 100%;<br>        }<br>        .wandb-col {<br>            display: flex;<br>            flex-direction: column;<br>            flex-basis: 100%;<br>            flex: 1;<br>            padding: 10px;<br>        }<br>    </style><br><div class=\"wandb-row\"><div class=\"wandb-col\"><h3>Run history:</h3><br/><table class=\"wandb\"><tr><td>roc_auc</td><td>▁</td></tr></table><br/></div><div class=\"wandb-col\"><h3>Run summary:</h3><br/><table class=\"wandb\"><tr><td>roc_auc</td><td>0.73309</td></tr></table><br/></div></div>"
      ],
      "text/plain": [
       "<IPython.core.display.HTML object>"
      ]
     },
     "metadata": {},
     "output_type": "display_data"
    },
    {
     "data": {
      "text/html": [
       " View run <strong style=\"color:#cdcd00\">fast-sweep-3</strong> at: <a href='https://wandb.ai/espada105-hanseouniversity/LGaimers/runs/5l0i07kq' target=\"_blank\">https://wandb.ai/espada105-hanseouniversity/LGaimers/runs/5l0i07kq</a><br> View project at: <a href='https://wandb.ai/espada105-hanseouniversity/LGaimers' target=\"_blank\">https://wandb.ai/espada105-hanseouniversity/LGaimers</a><br>Synced 5 W&B file(s), 0 media file(s), 0 artifact file(s) and 0 other file(s)"
      ],
      "text/plain": [
       "<IPython.core.display.HTML object>"
      ]
     },
     "metadata": {},
     "output_type": "display_data"
    },
    {
     "data": {
      "text/html": [
       "Find logs at: <code>.\\wandb\\run-20250207_224032-5l0i07kq\\logs</code>"
      ],
      "text/plain": [
       "<IPython.core.display.HTML object>"
      ]
     },
     "metadata": {},
     "output_type": "display_data"
    },
    {
     "name": "stderr",
     "output_type": "stream",
     "text": [
      "\u001b[34m\u001b[1mwandb\u001b[0m: Agent Starting Run: ab7iq93p with config:\n",
      "\u001b[34m\u001b[1mwandb\u001b[0m: \tlearning_rate: 0.01\n",
      "\u001b[34m\u001b[1mwandb\u001b[0m: \tmax_depth: 7\n",
      "\u001b[34m\u001b[1mwandb\u001b[0m: \tn_estimators: 200\n"
     ]
    },
    {
     "data": {
      "text/html": [
       "Ignoring project 'LGaimers' when running a sweep."
      ],
      "text/plain": [
       "<IPython.core.display.HTML object>"
      ]
     },
     "metadata": {},
     "output_type": "display_data"
    },
    {
     "data": {
      "text/html": [
       "Ignoring entity 'espada105-hanseouniversity' when running a sweep."
      ],
      "text/plain": [
       "<IPython.core.display.HTML object>"
      ]
     },
     "metadata": {},
     "output_type": "display_data"
    },
    {
     "data": {
      "text/html": [
       "Tracking run with wandb version 0.19.6"
      ],
      "text/plain": [
       "<IPython.core.display.HTML object>"
      ]
     },
     "metadata": {},
     "output_type": "display_data"
    },
    {
     "data": {
      "text/html": [
       "Run data is saved locally in <code>c:\\GitHubRepo\\AI_Predicting_Pregnancy_Success\\HongSeongIn\\wandb\\run-20250207_224048-ab7iq93p</code>"
      ],
      "text/plain": [
       "<IPython.core.display.HTML object>"
      ]
     },
     "metadata": {},
     "output_type": "display_data"
    },
    {
     "data": {
      "text/html": [
       "Syncing run <strong><a href='https://wandb.ai/espada105-hanseouniversity/LGaimers/runs/ab7iq93p' target=\"_blank\">chocolate-sweep-4</a></strong> to <a href='https://wandb.ai/espada105-hanseouniversity/LGaimers' target=\"_blank\">Weights & Biases</a> (<a href='https://wandb.me/developer-guide' target=\"_blank\">docs</a>)<br>Sweep page: <a href='https://wandb.ai/espada105-hanseouniversity/LGaimers/sweeps/d6kdsk99' target=\"_blank\">https://wandb.ai/espada105-hanseouniversity/LGaimers/sweeps/d6kdsk99</a>"
      ],
      "text/plain": [
       "<IPython.core.display.HTML object>"
      ]
     },
     "metadata": {},
     "output_type": "display_data"
    },
    {
     "data": {
      "text/html": [
       " View project at <a href='https://wandb.ai/espada105-hanseouniversity/LGaimers' target=\"_blank\">https://wandb.ai/espada105-hanseouniversity/LGaimers</a>"
      ],
      "text/plain": [
       "<IPython.core.display.HTML object>"
      ]
     },
     "metadata": {},
     "output_type": "display_data"
    },
    {
     "data": {
      "text/html": [
       " View sweep at <a href='https://wandb.ai/espada105-hanseouniversity/LGaimers/sweeps/d6kdsk99' target=\"_blank\">https://wandb.ai/espada105-hanseouniversity/LGaimers/sweeps/d6kdsk99</a>"
      ],
      "text/plain": [
       "<IPython.core.display.HTML object>"
      ]
     },
     "metadata": {},
     "output_type": "display_data"
    },
    {
     "data": {
      "text/html": [
       " View run at <a href='https://wandb.ai/espada105-hanseouniversity/LGaimers/runs/ab7iq93p' target=\"_blank\">https://wandb.ai/espada105-hanseouniversity/LGaimers/runs/ab7iq93p</a>"
      ],
      "text/plain": [
       "<IPython.core.display.HTML object>"
      ]
     },
     "metadata": {},
     "output_type": "display_data"
    },
    {
     "name": "stderr",
     "output_type": "stream",
     "text": [
      "c:\\Users\\tjddl\\AppData\\Local\\Programs\\Python\\Python310\\lib\\site-packages\\sklearn\\utils\\deprecation.py:151: FutureWarning: 'force_all_finite' was renamed to 'ensure_all_finite' in 1.6 and will be removed in 1.8.\n",
      "  warnings.warn(\n",
      "c:\\Users\\tjddl\\AppData\\Local\\Programs\\Python\\Python310\\lib\\site-packages\\sklearn\\utils\\deprecation.py:151: FutureWarning: 'force_all_finite' was renamed to 'ensure_all_finite' in 1.6 and will be removed in 1.8.\n",
      "  warnings.warn(\n",
      "c:\\Users\\tjddl\\AppData\\Local\\Programs\\Python\\Python310\\lib\\site-packages\\sklearn\\utils\\deprecation.py:151: FutureWarning: 'force_all_finite' was renamed to 'ensure_all_finite' in 1.6 and will be removed in 1.8.\n",
      "  warnings.warn(\n",
      "c:\\Users\\tjddl\\AppData\\Local\\Programs\\Python\\Python310\\lib\\site-packages\\sklearn\\utils\\deprecation.py:151: FutureWarning: 'force_all_finite' was renamed to 'ensure_all_finite' in 1.6 and will be removed in 1.8.\n",
      "  warnings.warn(\n",
      "c:\\Users\\tjddl\\AppData\\Local\\Programs\\Python\\Python310\\lib\\site-packages\\sklearn\\utils\\deprecation.py:151: FutureWarning: 'force_all_finite' was renamed to 'ensure_all_finite' in 1.6 and will be removed in 1.8.\n",
      "  warnings.warn(\n",
      "c:\\Users\\tjddl\\AppData\\Local\\Programs\\Python\\Python310\\lib\\site-packages\\sklearn\\utils\\deprecation.py:151: FutureWarning: 'force_all_finite' was renamed to 'ensure_all_finite' in 1.6 and will be removed in 1.8.\n",
      "  warnings.warn(\n",
      "c:\\Users\\tjddl\\AppData\\Local\\Programs\\Python\\Python310\\lib\\site-packages\\sklearn\\utils\\deprecation.py:151: FutureWarning: 'force_all_finite' was renamed to 'ensure_all_finite' in 1.6 and will be removed in 1.8.\n",
      "  warnings.warn(\n",
      "c:\\Users\\tjddl\\AppData\\Local\\Programs\\Python\\Python310\\lib\\site-packages\\sklearn\\utils\\deprecation.py:151: FutureWarning: 'force_all_finite' was renamed to 'ensure_all_finite' in 1.6 and will be removed in 1.8.\n",
      "  warnings.warn(\n",
      "c:\\Users\\tjddl\\AppData\\Local\\Programs\\Python\\Python310\\lib\\site-packages\\sklearn\\utils\\deprecation.py:151: FutureWarning: 'force_all_finite' was renamed to 'ensure_all_finite' in 1.6 and will be removed in 1.8.\n",
      "  warnings.warn(\n"
     ]
    },
    {
     "name": "stdout",
     "output_type": "stream",
     "text": [
      "Mean ROC AUC: 0.7357\n"
     ]
    },
    {
     "name": "stderr",
     "output_type": "stream",
     "text": [
      "c:\\Users\\tjddl\\AppData\\Local\\Programs\\Python\\Python310\\lib\\site-packages\\sklearn\\utils\\deprecation.py:151: FutureWarning: 'force_all_finite' was renamed to 'ensure_all_finite' in 1.6 and will be removed in 1.8.\n",
      "  warnings.warn(\n"
     ]
    },
    {
     "data": {
      "text/html": [],
      "text/plain": [
       "<IPython.core.display.HTML object>"
      ]
     },
     "metadata": {},
     "output_type": "display_data"
    },
    {
     "data": {
      "text/html": [
       "<br>    <style><br>        .wandb-row {<br>            display: flex;<br>            flex-direction: row;<br>            flex-wrap: wrap;<br>            justify-content: flex-start;<br>            width: 100%;<br>        }<br>        .wandb-col {<br>            display: flex;<br>            flex-direction: column;<br>            flex-basis: 100%;<br>            flex: 1;<br>            padding: 10px;<br>        }<br>    </style><br><div class=\"wandb-row\"><div class=\"wandb-col\"><h3>Run history:</h3><br/><table class=\"wandb\"><tr><td>roc_auc</td><td>▁</td></tr></table><br/></div><div class=\"wandb-col\"><h3>Run summary:</h3><br/><table class=\"wandb\"><tr><td>roc_auc</td><td>0.73567</td></tr></table><br/></div></div>"
      ],
      "text/plain": [
       "<IPython.core.display.HTML object>"
      ]
     },
     "metadata": {},
     "output_type": "display_data"
    },
    {
     "data": {
      "text/html": [
       " View run <strong style=\"color:#cdcd00\">chocolate-sweep-4</strong> at: <a href='https://wandb.ai/espada105-hanseouniversity/LGaimers/runs/ab7iq93p' target=\"_blank\">https://wandb.ai/espada105-hanseouniversity/LGaimers/runs/ab7iq93p</a><br> View project at: <a href='https://wandb.ai/espada105-hanseouniversity/LGaimers' target=\"_blank\">https://wandb.ai/espada105-hanseouniversity/LGaimers</a><br>Synced 5 W&B file(s), 0 media file(s), 0 artifact file(s) and 0 other file(s)"
      ],
      "text/plain": [
       "<IPython.core.display.HTML object>"
      ]
     },
     "metadata": {},
     "output_type": "display_data"
    },
    {
     "data": {
      "text/html": [
       "Find logs at: <code>.\\wandb\\run-20250207_224048-ab7iq93p\\logs</code>"
      ],
      "text/plain": [
       "<IPython.core.display.HTML object>"
      ]
     },
     "metadata": {},
     "output_type": "display_data"
    },
    {
     "name": "stderr",
     "output_type": "stream",
     "text": [
      "\u001b[34m\u001b[1mwandb\u001b[0m: Agent Starting Run: 6tg7gk1s with config:\n",
      "\u001b[34m\u001b[1mwandb\u001b[0m: \tlearning_rate: 0.01\n",
      "\u001b[34m\u001b[1mwandb\u001b[0m: \tmax_depth: 10\n",
      "\u001b[34m\u001b[1mwandb\u001b[0m: \tn_estimators: 100\n"
     ]
    },
    {
     "data": {
      "text/html": [
       "Ignoring project 'LGaimers' when running a sweep."
      ],
      "text/plain": [
       "<IPython.core.display.HTML object>"
      ]
     },
     "metadata": {},
     "output_type": "display_data"
    },
    {
     "data": {
      "text/html": [
       "Ignoring entity 'espada105-hanseouniversity' when running a sweep."
      ],
      "text/plain": [
       "<IPython.core.display.HTML object>"
      ]
     },
     "metadata": {},
     "output_type": "display_data"
    },
    {
     "data": {
      "text/html": [
       "Tracking run with wandb version 0.19.6"
      ],
      "text/plain": [
       "<IPython.core.display.HTML object>"
      ]
     },
     "metadata": {},
     "output_type": "display_data"
    },
    {
     "data": {
      "text/html": [
       "Run data is saved locally in <code>c:\\GitHubRepo\\AI_Predicting_Pregnancy_Success\\HongSeongIn\\wandb\\run-20250207_224109-6tg7gk1s</code>"
      ],
      "text/plain": [
       "<IPython.core.display.HTML object>"
      ]
     },
     "metadata": {},
     "output_type": "display_data"
    },
    {
     "data": {
      "text/html": [
       "Syncing run <strong><a href='https://wandb.ai/espada105-hanseouniversity/LGaimers/runs/6tg7gk1s' target=\"_blank\">earnest-sweep-5</a></strong> to <a href='https://wandb.ai/espada105-hanseouniversity/LGaimers' target=\"_blank\">Weights & Biases</a> (<a href='https://wandb.me/developer-guide' target=\"_blank\">docs</a>)<br>Sweep page: <a href='https://wandb.ai/espada105-hanseouniversity/LGaimers/sweeps/d6kdsk99' target=\"_blank\">https://wandb.ai/espada105-hanseouniversity/LGaimers/sweeps/d6kdsk99</a>"
      ],
      "text/plain": [
       "<IPython.core.display.HTML object>"
      ]
     },
     "metadata": {},
     "output_type": "display_data"
    },
    {
     "data": {
      "text/html": [
       " View project at <a href='https://wandb.ai/espada105-hanseouniversity/LGaimers' target=\"_blank\">https://wandb.ai/espada105-hanseouniversity/LGaimers</a>"
      ],
      "text/plain": [
       "<IPython.core.display.HTML object>"
      ]
     },
     "metadata": {},
     "output_type": "display_data"
    },
    {
     "data": {
      "text/html": [
       " View sweep at <a href='https://wandb.ai/espada105-hanseouniversity/LGaimers/sweeps/d6kdsk99' target=\"_blank\">https://wandb.ai/espada105-hanseouniversity/LGaimers/sweeps/d6kdsk99</a>"
      ],
      "text/plain": [
       "<IPython.core.display.HTML object>"
      ]
     },
     "metadata": {},
     "output_type": "display_data"
    },
    {
     "data": {
      "text/html": [
       " View run at <a href='https://wandb.ai/espada105-hanseouniversity/LGaimers/runs/6tg7gk1s' target=\"_blank\">https://wandb.ai/espada105-hanseouniversity/LGaimers/runs/6tg7gk1s</a>"
      ],
      "text/plain": [
       "<IPython.core.display.HTML object>"
      ]
     },
     "metadata": {},
     "output_type": "display_data"
    },
    {
     "name": "stderr",
     "output_type": "stream",
     "text": [
      "c:\\Users\\tjddl\\AppData\\Local\\Programs\\Python\\Python310\\lib\\site-packages\\sklearn\\utils\\deprecation.py:151: FutureWarning: 'force_all_finite' was renamed to 'ensure_all_finite' in 1.6 and will be removed in 1.8.\n",
      "  warnings.warn(\n",
      "c:\\Users\\tjddl\\AppData\\Local\\Programs\\Python\\Python310\\lib\\site-packages\\sklearn\\utils\\deprecation.py:151: FutureWarning: 'force_all_finite' was renamed to 'ensure_all_finite' in 1.6 and will be removed in 1.8.\n",
      "  warnings.warn(\n",
      "c:\\Users\\tjddl\\AppData\\Local\\Programs\\Python\\Python310\\lib\\site-packages\\sklearn\\utils\\deprecation.py:151: FutureWarning: 'force_all_finite' was renamed to 'ensure_all_finite' in 1.6 and will be removed in 1.8.\n",
      "  warnings.warn(\n",
      "c:\\Users\\tjddl\\AppData\\Local\\Programs\\Python\\Python310\\lib\\site-packages\\sklearn\\utils\\deprecation.py:151: FutureWarning: 'force_all_finite' was renamed to 'ensure_all_finite' in 1.6 and will be removed in 1.8.\n",
      "  warnings.warn(\n",
      "c:\\Users\\tjddl\\AppData\\Local\\Programs\\Python\\Python310\\lib\\site-packages\\sklearn\\utils\\deprecation.py:151: FutureWarning: 'force_all_finite' was renamed to 'ensure_all_finite' in 1.6 and will be removed in 1.8.\n",
      "  warnings.warn(\n",
      "c:\\Users\\tjddl\\AppData\\Local\\Programs\\Python\\Python310\\lib\\site-packages\\sklearn\\utils\\deprecation.py:151: FutureWarning: 'force_all_finite' was renamed to 'ensure_all_finite' in 1.6 and will be removed in 1.8.\n",
      "  warnings.warn(\n",
      "c:\\Users\\tjddl\\AppData\\Local\\Programs\\Python\\Python310\\lib\\site-packages\\sklearn\\utils\\deprecation.py:151: FutureWarning: 'force_all_finite' was renamed to 'ensure_all_finite' in 1.6 and will be removed in 1.8.\n",
      "  warnings.warn(\n",
      "c:\\Users\\tjddl\\AppData\\Local\\Programs\\Python\\Python310\\lib\\site-packages\\sklearn\\utils\\deprecation.py:151: FutureWarning: 'force_all_finite' was renamed to 'ensure_all_finite' in 1.6 and will be removed in 1.8.\n",
      "  warnings.warn(\n",
      "c:\\Users\\tjddl\\AppData\\Local\\Programs\\Python\\Python310\\lib\\site-packages\\sklearn\\utils\\deprecation.py:151: FutureWarning: 'force_all_finite' was renamed to 'ensure_all_finite' in 1.6 and will be removed in 1.8.\n",
      "  warnings.warn(\n"
     ]
    },
    {
     "name": "stdout",
     "output_type": "stream",
     "text": [
      "Mean ROC AUC: 0.7331\n"
     ]
    },
    {
     "name": "stderr",
     "output_type": "stream",
     "text": [
      "c:\\Users\\tjddl\\AppData\\Local\\Programs\\Python\\Python310\\lib\\site-packages\\sklearn\\utils\\deprecation.py:151: FutureWarning: 'force_all_finite' was renamed to 'ensure_all_finite' in 1.6 and will be removed in 1.8.\n",
      "  warnings.warn(\n"
     ]
    },
    {
     "data": {
      "text/html": [],
      "text/plain": [
       "<IPython.core.display.HTML object>"
      ]
     },
     "metadata": {},
     "output_type": "display_data"
    },
    {
     "data": {
      "text/html": [
       "<br>    <style><br>        .wandb-row {<br>            display: flex;<br>            flex-direction: row;<br>            flex-wrap: wrap;<br>            justify-content: flex-start;<br>            width: 100%;<br>        }<br>        .wandb-col {<br>            display: flex;<br>            flex-direction: column;<br>            flex-basis: 100%;<br>            flex: 1;<br>            padding: 10px;<br>        }<br>    </style><br><div class=\"wandb-row\"><div class=\"wandb-col\"><h3>Run history:</h3><br/><table class=\"wandb\"><tr><td>roc_auc</td><td>▁</td></tr></table><br/></div><div class=\"wandb-col\"><h3>Run summary:</h3><br/><table class=\"wandb\"><tr><td>roc_auc</td><td>0.7331</td></tr></table><br/></div></div>"
      ],
      "text/plain": [
       "<IPython.core.display.HTML object>"
      ]
     },
     "metadata": {},
     "output_type": "display_data"
    },
    {
     "data": {
      "text/html": [
       " View run <strong style=\"color:#cdcd00\">earnest-sweep-5</strong> at: <a href='https://wandb.ai/espada105-hanseouniversity/LGaimers/runs/6tg7gk1s' target=\"_blank\">https://wandb.ai/espada105-hanseouniversity/LGaimers/runs/6tg7gk1s</a><br> View project at: <a href='https://wandb.ai/espada105-hanseouniversity/LGaimers' target=\"_blank\">https://wandb.ai/espada105-hanseouniversity/LGaimers</a><br>Synced 5 W&B file(s), 0 media file(s), 0 artifact file(s) and 0 other file(s)"
      ],
      "text/plain": [
       "<IPython.core.display.HTML object>"
      ]
     },
     "metadata": {},
     "output_type": "display_data"
    },
    {
     "data": {
      "text/html": [
       "Find logs at: <code>.\\wandb\\run-20250207_224109-6tg7gk1s\\logs</code>"
      ],
      "text/plain": [
       "<IPython.core.display.HTML object>"
      ]
     },
     "metadata": {},
     "output_type": "display_data"
    },
    {
     "name": "stderr",
     "output_type": "stream",
     "text": [
      "\u001b[34m\u001b[1mwandb\u001b[0m: Agent Starting Run: bb85zo02 with config:\n",
      "\u001b[34m\u001b[1mwandb\u001b[0m: \tlearning_rate: 0.01\n",
      "\u001b[34m\u001b[1mwandb\u001b[0m: \tmax_depth: 10\n",
      "\u001b[34m\u001b[1mwandb\u001b[0m: \tn_estimators: 200\n"
     ]
    },
    {
     "data": {
      "text/html": [
       "Ignoring project 'LGaimers' when running a sweep."
      ],
      "text/plain": [
       "<IPython.core.display.HTML object>"
      ]
     },
     "metadata": {},
     "output_type": "display_data"
    },
    {
     "data": {
      "text/html": [
       "Ignoring entity 'espada105-hanseouniversity' when running a sweep."
      ],
      "text/plain": [
       "<IPython.core.display.HTML object>"
      ]
     },
     "metadata": {},
     "output_type": "display_data"
    },
    {
     "data": {
      "text/html": [
       "Tracking run with wandb version 0.19.6"
      ],
      "text/plain": [
       "<IPython.core.display.HTML object>"
      ]
     },
     "metadata": {},
     "output_type": "display_data"
    },
    {
     "data": {
      "text/html": [
       "Run data is saved locally in <code>c:\\GitHubRepo\\AI_Predicting_Pregnancy_Success\\HongSeongIn\\wandb\\run-20250207_224125-bb85zo02</code>"
      ],
      "text/plain": [
       "<IPython.core.display.HTML object>"
      ]
     },
     "metadata": {},
     "output_type": "display_data"
    },
    {
     "data": {
      "text/html": [
       "Syncing run <strong><a href='https://wandb.ai/espada105-hanseouniversity/LGaimers/runs/bb85zo02' target=\"_blank\">confused-sweep-6</a></strong> to <a href='https://wandb.ai/espada105-hanseouniversity/LGaimers' target=\"_blank\">Weights & Biases</a> (<a href='https://wandb.me/developer-guide' target=\"_blank\">docs</a>)<br>Sweep page: <a href='https://wandb.ai/espada105-hanseouniversity/LGaimers/sweeps/d6kdsk99' target=\"_blank\">https://wandb.ai/espada105-hanseouniversity/LGaimers/sweeps/d6kdsk99</a>"
      ],
      "text/plain": [
       "<IPython.core.display.HTML object>"
      ]
     },
     "metadata": {},
     "output_type": "display_data"
    },
    {
     "data": {
      "text/html": [
       " View project at <a href='https://wandb.ai/espada105-hanseouniversity/LGaimers' target=\"_blank\">https://wandb.ai/espada105-hanseouniversity/LGaimers</a>"
      ],
      "text/plain": [
       "<IPython.core.display.HTML object>"
      ]
     },
     "metadata": {},
     "output_type": "display_data"
    },
    {
     "data": {
      "text/html": [
       " View sweep at <a href='https://wandb.ai/espada105-hanseouniversity/LGaimers/sweeps/d6kdsk99' target=\"_blank\">https://wandb.ai/espada105-hanseouniversity/LGaimers/sweeps/d6kdsk99</a>"
      ],
      "text/plain": [
       "<IPython.core.display.HTML object>"
      ]
     },
     "metadata": {},
     "output_type": "display_data"
    },
    {
     "data": {
      "text/html": [
       " View run at <a href='https://wandb.ai/espada105-hanseouniversity/LGaimers/runs/bb85zo02' target=\"_blank\">https://wandb.ai/espada105-hanseouniversity/LGaimers/runs/bb85zo02</a>"
      ],
      "text/plain": [
       "<IPython.core.display.HTML object>"
      ]
     },
     "metadata": {},
     "output_type": "display_data"
    },
    {
     "name": "stderr",
     "output_type": "stream",
     "text": [
      "c:\\Users\\tjddl\\AppData\\Local\\Programs\\Python\\Python310\\lib\\site-packages\\sklearn\\utils\\deprecation.py:151: FutureWarning: 'force_all_finite' was renamed to 'ensure_all_finite' in 1.6 and will be removed in 1.8.\n",
      "  warnings.warn(\n",
      "c:\\Users\\tjddl\\AppData\\Local\\Programs\\Python\\Python310\\lib\\site-packages\\sklearn\\utils\\deprecation.py:151: FutureWarning: 'force_all_finite' was renamed to 'ensure_all_finite' in 1.6 and will be removed in 1.8.\n",
      "  warnings.warn(\n",
      "c:\\Users\\tjddl\\AppData\\Local\\Programs\\Python\\Python310\\lib\\site-packages\\sklearn\\utils\\deprecation.py:151: FutureWarning: 'force_all_finite' was renamed to 'ensure_all_finite' in 1.6 and will be removed in 1.8.\n",
      "  warnings.warn(\n",
      "c:\\Users\\tjddl\\AppData\\Local\\Programs\\Python\\Python310\\lib\\site-packages\\sklearn\\utils\\deprecation.py:151: FutureWarning: 'force_all_finite' was renamed to 'ensure_all_finite' in 1.6 and will be removed in 1.8.\n",
      "  warnings.warn(\n",
      "c:\\Users\\tjddl\\AppData\\Local\\Programs\\Python\\Python310\\lib\\site-packages\\sklearn\\utils\\deprecation.py:151: FutureWarning: 'force_all_finite' was renamed to 'ensure_all_finite' in 1.6 and will be removed in 1.8.\n",
      "  warnings.warn(\n",
      "c:\\Users\\tjddl\\AppData\\Local\\Programs\\Python\\Python310\\lib\\site-packages\\sklearn\\utils\\deprecation.py:151: FutureWarning: 'force_all_finite' was renamed to 'ensure_all_finite' in 1.6 and will be removed in 1.8.\n",
      "  warnings.warn(\n",
      "c:\\Users\\tjddl\\AppData\\Local\\Programs\\Python\\Python310\\lib\\site-packages\\sklearn\\utils\\deprecation.py:151: FutureWarning: 'force_all_finite' was renamed to 'ensure_all_finite' in 1.6 and will be removed in 1.8.\n",
      "  warnings.warn(\n",
      "c:\\Users\\tjddl\\AppData\\Local\\Programs\\Python\\Python310\\lib\\site-packages\\sklearn\\utils\\deprecation.py:151: FutureWarning: 'force_all_finite' was renamed to 'ensure_all_finite' in 1.6 and will be removed in 1.8.\n",
      "  warnings.warn(\n",
      "c:\\Users\\tjddl\\AppData\\Local\\Programs\\Python\\Python310\\lib\\site-packages\\sklearn\\utils\\deprecation.py:151: FutureWarning: 'force_all_finite' was renamed to 'ensure_all_finite' in 1.6 and will be removed in 1.8.\n",
      "  warnings.warn(\n"
     ]
    },
    {
     "name": "stdout",
     "output_type": "stream",
     "text": [
      "Mean ROC AUC: 0.7358\n"
     ]
    },
    {
     "name": "stderr",
     "output_type": "stream",
     "text": [
      "c:\\Users\\tjddl\\AppData\\Local\\Programs\\Python\\Python310\\lib\\site-packages\\sklearn\\utils\\deprecation.py:151: FutureWarning: 'force_all_finite' was renamed to 'ensure_all_finite' in 1.6 and will be removed in 1.8.\n",
      "  warnings.warn(\n"
     ]
    },
    {
     "data": {
      "text/html": [],
      "text/plain": [
       "<IPython.core.display.HTML object>"
      ]
     },
     "metadata": {},
     "output_type": "display_data"
    },
    {
     "data": {
      "text/html": [
       "<br>    <style><br>        .wandb-row {<br>            display: flex;<br>            flex-direction: row;<br>            flex-wrap: wrap;<br>            justify-content: flex-start;<br>            width: 100%;<br>        }<br>        .wandb-col {<br>            display: flex;<br>            flex-direction: column;<br>            flex-basis: 100%;<br>            flex: 1;<br>            padding: 10px;<br>        }<br>    </style><br><div class=\"wandb-row\"><div class=\"wandb-col\"><h3>Run history:</h3><br/><table class=\"wandb\"><tr><td>roc_auc</td><td>▁</td></tr></table><br/></div><div class=\"wandb-col\"><h3>Run summary:</h3><br/><table class=\"wandb\"><tr><td>roc_auc</td><td>0.7358</td></tr></table><br/></div></div>"
      ],
      "text/plain": [
       "<IPython.core.display.HTML object>"
      ]
     },
     "metadata": {},
     "output_type": "display_data"
    },
    {
     "data": {
      "text/html": [
       " View run <strong style=\"color:#cdcd00\">confused-sweep-6</strong> at: <a href='https://wandb.ai/espada105-hanseouniversity/LGaimers/runs/bb85zo02' target=\"_blank\">https://wandb.ai/espada105-hanseouniversity/LGaimers/runs/bb85zo02</a><br> View project at: <a href='https://wandb.ai/espada105-hanseouniversity/LGaimers' target=\"_blank\">https://wandb.ai/espada105-hanseouniversity/LGaimers</a><br>Synced 5 W&B file(s), 0 media file(s), 0 artifact file(s) and 0 other file(s)"
      ],
      "text/plain": [
       "<IPython.core.display.HTML object>"
      ]
     },
     "metadata": {},
     "output_type": "display_data"
    },
    {
     "data": {
      "text/html": [
       "Find logs at: <code>.\\wandb\\run-20250207_224125-bb85zo02\\logs</code>"
      ],
      "text/plain": [
       "<IPython.core.display.HTML object>"
      ]
     },
     "metadata": {},
     "output_type": "display_data"
    },
    {
     "name": "stderr",
     "output_type": "stream",
     "text": [
      "\u001b[34m\u001b[1mwandb\u001b[0m: Agent Starting Run: mvb8aip9 with config:\n",
      "\u001b[34m\u001b[1mwandb\u001b[0m: \tlearning_rate: 0.05\n",
      "\u001b[34m\u001b[1mwandb\u001b[0m: \tmax_depth: 5\n",
      "\u001b[34m\u001b[1mwandb\u001b[0m: \tn_estimators: 100\n"
     ]
    },
    {
     "data": {
      "text/html": [
       "Ignoring project 'LGaimers' when running a sweep."
      ],
      "text/plain": [
       "<IPython.core.display.HTML object>"
      ]
     },
     "metadata": {},
     "output_type": "display_data"
    },
    {
     "data": {
      "text/html": [
       "Ignoring entity 'espada105-hanseouniversity' when running a sweep."
      ],
      "text/plain": [
       "<IPython.core.display.HTML object>"
      ]
     },
     "metadata": {},
     "output_type": "display_data"
    },
    {
     "data": {
      "text/html": [
       "Tracking run with wandb version 0.19.6"
      ],
      "text/plain": [
       "<IPython.core.display.HTML object>"
      ]
     },
     "metadata": {},
     "output_type": "display_data"
    },
    {
     "data": {
      "text/html": [
       "Run data is saved locally in <code>c:\\GitHubRepo\\AI_Predicting_Pregnancy_Success\\HongSeongIn\\wandb\\run-20250207_224146-mvb8aip9</code>"
      ],
      "text/plain": [
       "<IPython.core.display.HTML object>"
      ]
     },
     "metadata": {},
     "output_type": "display_data"
    },
    {
     "data": {
      "text/html": [
       "Syncing run <strong><a href='https://wandb.ai/espada105-hanseouniversity/LGaimers/runs/mvb8aip9' target=\"_blank\">wandering-sweep-7</a></strong> to <a href='https://wandb.ai/espada105-hanseouniversity/LGaimers' target=\"_blank\">Weights & Biases</a> (<a href='https://wandb.me/developer-guide' target=\"_blank\">docs</a>)<br>Sweep page: <a href='https://wandb.ai/espada105-hanseouniversity/LGaimers/sweeps/d6kdsk99' target=\"_blank\">https://wandb.ai/espada105-hanseouniversity/LGaimers/sweeps/d6kdsk99</a>"
      ],
      "text/plain": [
       "<IPython.core.display.HTML object>"
      ]
     },
     "metadata": {},
     "output_type": "display_data"
    },
    {
     "data": {
      "text/html": [
       " View project at <a href='https://wandb.ai/espada105-hanseouniversity/LGaimers' target=\"_blank\">https://wandb.ai/espada105-hanseouniversity/LGaimers</a>"
      ],
      "text/plain": [
       "<IPython.core.display.HTML object>"
      ]
     },
     "metadata": {},
     "output_type": "display_data"
    },
    {
     "data": {
      "text/html": [
       " View sweep at <a href='https://wandb.ai/espada105-hanseouniversity/LGaimers/sweeps/d6kdsk99' target=\"_blank\">https://wandb.ai/espada105-hanseouniversity/LGaimers/sweeps/d6kdsk99</a>"
      ],
      "text/plain": [
       "<IPython.core.display.HTML object>"
      ]
     },
     "metadata": {},
     "output_type": "display_data"
    },
    {
     "data": {
      "text/html": [
       " View run at <a href='https://wandb.ai/espada105-hanseouniversity/LGaimers/runs/mvb8aip9' target=\"_blank\">https://wandb.ai/espada105-hanseouniversity/LGaimers/runs/mvb8aip9</a>"
      ],
      "text/plain": [
       "<IPython.core.display.HTML object>"
      ]
     },
     "metadata": {},
     "output_type": "display_data"
    },
    {
     "name": "stderr",
     "output_type": "stream",
     "text": [
      "c:\\Users\\tjddl\\AppData\\Local\\Programs\\Python\\Python310\\lib\\site-packages\\sklearn\\utils\\deprecation.py:151: FutureWarning: 'force_all_finite' was renamed to 'ensure_all_finite' in 1.6 and will be removed in 1.8.\n",
      "  warnings.warn(\n",
      "c:\\Users\\tjddl\\AppData\\Local\\Programs\\Python\\Python310\\lib\\site-packages\\sklearn\\utils\\deprecation.py:151: FutureWarning: 'force_all_finite' was renamed to 'ensure_all_finite' in 1.6 and will be removed in 1.8.\n",
      "  warnings.warn(\n",
      "c:\\Users\\tjddl\\AppData\\Local\\Programs\\Python\\Python310\\lib\\site-packages\\sklearn\\utils\\deprecation.py:151: FutureWarning: 'force_all_finite' was renamed to 'ensure_all_finite' in 1.6 and will be removed in 1.8.\n",
      "  warnings.warn(\n",
      "c:\\Users\\tjddl\\AppData\\Local\\Programs\\Python\\Python310\\lib\\site-packages\\sklearn\\utils\\deprecation.py:151: FutureWarning: 'force_all_finite' was renamed to 'ensure_all_finite' in 1.6 and will be removed in 1.8.\n",
      "  warnings.warn(\n",
      "c:\\Users\\tjddl\\AppData\\Local\\Programs\\Python\\Python310\\lib\\site-packages\\sklearn\\utils\\deprecation.py:151: FutureWarning: 'force_all_finite' was renamed to 'ensure_all_finite' in 1.6 and will be removed in 1.8.\n",
      "  warnings.warn(\n",
      "c:\\Users\\tjddl\\AppData\\Local\\Programs\\Python\\Python310\\lib\\site-packages\\sklearn\\utils\\deprecation.py:151: FutureWarning: 'force_all_finite' was renamed to 'ensure_all_finite' in 1.6 and will be removed in 1.8.\n",
      "  warnings.warn(\n",
      "c:\\Users\\tjddl\\AppData\\Local\\Programs\\Python\\Python310\\lib\\site-packages\\sklearn\\utils\\deprecation.py:151: FutureWarning: 'force_all_finite' was renamed to 'ensure_all_finite' in 1.6 and will be removed in 1.8.\n",
      "  warnings.warn(\n",
      "c:\\Users\\tjddl\\AppData\\Local\\Programs\\Python\\Python310\\lib\\site-packages\\sklearn\\utils\\deprecation.py:151: FutureWarning: 'force_all_finite' was renamed to 'ensure_all_finite' in 1.6 and will be removed in 1.8.\n",
      "  warnings.warn(\n",
      "c:\\Users\\tjddl\\AppData\\Local\\Programs\\Python\\Python310\\lib\\site-packages\\sklearn\\utils\\deprecation.py:151: FutureWarning: 'force_all_finite' was renamed to 'ensure_all_finite' in 1.6 and will be removed in 1.8.\n",
      "  warnings.warn(\n"
     ]
    },
    {
     "name": "stdout",
     "output_type": "stream",
     "text": [
      "Mean ROC AUC: 0.7370\n"
     ]
    },
    {
     "name": "stderr",
     "output_type": "stream",
     "text": [
      "c:\\Users\\tjddl\\AppData\\Local\\Programs\\Python\\Python310\\lib\\site-packages\\sklearn\\utils\\deprecation.py:151: FutureWarning: 'force_all_finite' was renamed to 'ensure_all_finite' in 1.6 and will be removed in 1.8.\n",
      "  warnings.warn(\n"
     ]
    },
    {
     "data": {
      "text/html": [],
      "text/plain": [
       "<IPython.core.display.HTML object>"
      ]
     },
     "metadata": {},
     "output_type": "display_data"
    },
    {
     "data": {
      "text/html": [
       "<br>    <style><br>        .wandb-row {<br>            display: flex;<br>            flex-direction: row;<br>            flex-wrap: wrap;<br>            justify-content: flex-start;<br>            width: 100%;<br>        }<br>        .wandb-col {<br>            display: flex;<br>            flex-direction: column;<br>            flex-basis: 100%;<br>            flex: 1;<br>            padding: 10px;<br>        }<br>    </style><br><div class=\"wandb-row\"><div class=\"wandb-col\"><h3>Run history:</h3><br/><table class=\"wandb\"><tr><td>roc_auc</td><td>▁</td></tr></table><br/></div><div class=\"wandb-col\"><h3>Run summary:</h3><br/><table class=\"wandb\"><tr><td>roc_auc</td><td>0.73703</td></tr></table><br/></div></div>"
      ],
      "text/plain": [
       "<IPython.core.display.HTML object>"
      ]
     },
     "metadata": {},
     "output_type": "display_data"
    },
    {
     "data": {
      "text/html": [
       " View run <strong style=\"color:#cdcd00\">wandering-sweep-7</strong> at: <a href='https://wandb.ai/espada105-hanseouniversity/LGaimers/runs/mvb8aip9' target=\"_blank\">https://wandb.ai/espada105-hanseouniversity/LGaimers/runs/mvb8aip9</a><br> View project at: <a href='https://wandb.ai/espada105-hanseouniversity/LGaimers' target=\"_blank\">https://wandb.ai/espada105-hanseouniversity/LGaimers</a><br>Synced 5 W&B file(s), 0 media file(s), 0 artifact file(s) and 0 other file(s)"
      ],
      "text/plain": [
       "<IPython.core.display.HTML object>"
      ]
     },
     "metadata": {},
     "output_type": "display_data"
    },
    {
     "data": {
      "text/html": [
       "Find logs at: <code>.\\wandb\\run-20250207_224146-mvb8aip9\\logs</code>"
      ],
      "text/plain": [
       "<IPython.core.display.HTML object>"
      ]
     },
     "metadata": {},
     "output_type": "display_data"
    },
    {
     "name": "stderr",
     "output_type": "stream",
     "text": [
      "\u001b[34m\u001b[1mwandb\u001b[0m: Agent Starting Run: r7ybkim1 with config:\n",
      "\u001b[34m\u001b[1mwandb\u001b[0m: \tlearning_rate: 0.05\n",
      "\u001b[34m\u001b[1mwandb\u001b[0m: \tmax_depth: 5\n",
      "\u001b[34m\u001b[1mwandb\u001b[0m: \tn_estimators: 200\n"
     ]
    },
    {
     "data": {
      "text/html": [
       "Ignoring project 'LGaimers' when running a sweep."
      ],
      "text/plain": [
       "<IPython.core.display.HTML object>"
      ]
     },
     "metadata": {},
     "output_type": "display_data"
    },
    {
     "data": {
      "text/html": [
       "Ignoring entity 'espada105-hanseouniversity' when running a sweep."
      ],
      "text/plain": [
       "<IPython.core.display.HTML object>"
      ]
     },
     "metadata": {},
     "output_type": "display_data"
    },
    {
     "data": {
      "text/html": [
       "Tracking run with wandb version 0.19.6"
      ],
      "text/plain": [
       "<IPython.core.display.HTML object>"
      ]
     },
     "metadata": {},
     "output_type": "display_data"
    },
    {
     "data": {
      "text/html": [
       "Run data is saved locally in <code>c:\\GitHubRepo\\AI_Predicting_Pregnancy_Success\\HongSeongIn\\wandb\\run-20250207_224202-r7ybkim1</code>"
      ],
      "text/plain": [
       "<IPython.core.display.HTML object>"
      ]
     },
     "metadata": {},
     "output_type": "display_data"
    },
    {
     "data": {
      "text/html": [
       "Syncing run <strong><a href='https://wandb.ai/espada105-hanseouniversity/LGaimers/runs/r7ybkim1' target=\"_blank\">zesty-sweep-8</a></strong> to <a href='https://wandb.ai/espada105-hanseouniversity/LGaimers' target=\"_blank\">Weights & Biases</a> (<a href='https://wandb.me/developer-guide' target=\"_blank\">docs</a>)<br>Sweep page: <a href='https://wandb.ai/espada105-hanseouniversity/LGaimers/sweeps/d6kdsk99' target=\"_blank\">https://wandb.ai/espada105-hanseouniversity/LGaimers/sweeps/d6kdsk99</a>"
      ],
      "text/plain": [
       "<IPython.core.display.HTML object>"
      ]
     },
     "metadata": {},
     "output_type": "display_data"
    },
    {
     "data": {
      "text/html": [
       " View project at <a href='https://wandb.ai/espada105-hanseouniversity/LGaimers' target=\"_blank\">https://wandb.ai/espada105-hanseouniversity/LGaimers</a>"
      ],
      "text/plain": [
       "<IPython.core.display.HTML object>"
      ]
     },
     "metadata": {},
     "output_type": "display_data"
    },
    {
     "data": {
      "text/html": [
       " View sweep at <a href='https://wandb.ai/espada105-hanseouniversity/LGaimers/sweeps/d6kdsk99' target=\"_blank\">https://wandb.ai/espada105-hanseouniversity/LGaimers/sweeps/d6kdsk99</a>"
      ],
      "text/plain": [
       "<IPython.core.display.HTML object>"
      ]
     },
     "metadata": {},
     "output_type": "display_data"
    },
    {
     "data": {
      "text/html": [
       " View run at <a href='https://wandb.ai/espada105-hanseouniversity/LGaimers/runs/r7ybkim1' target=\"_blank\">https://wandb.ai/espada105-hanseouniversity/LGaimers/runs/r7ybkim1</a>"
      ],
      "text/plain": [
       "<IPython.core.display.HTML object>"
      ]
     },
     "metadata": {},
     "output_type": "display_data"
    },
    {
     "name": "stderr",
     "output_type": "stream",
     "text": [
      "c:\\Users\\tjddl\\AppData\\Local\\Programs\\Python\\Python310\\lib\\site-packages\\sklearn\\utils\\deprecation.py:151: FutureWarning: 'force_all_finite' was renamed to 'ensure_all_finite' in 1.6 and will be removed in 1.8.\n",
      "  warnings.warn(\n",
      "c:\\Users\\tjddl\\AppData\\Local\\Programs\\Python\\Python310\\lib\\site-packages\\sklearn\\utils\\deprecation.py:151: FutureWarning: 'force_all_finite' was renamed to 'ensure_all_finite' in 1.6 and will be removed in 1.8.\n",
      "  warnings.warn(\n",
      "c:\\Users\\tjddl\\AppData\\Local\\Programs\\Python\\Python310\\lib\\site-packages\\sklearn\\utils\\deprecation.py:151: FutureWarning: 'force_all_finite' was renamed to 'ensure_all_finite' in 1.6 and will be removed in 1.8.\n",
      "  warnings.warn(\n",
      "c:\\Users\\tjddl\\AppData\\Local\\Programs\\Python\\Python310\\lib\\site-packages\\sklearn\\utils\\deprecation.py:151: FutureWarning: 'force_all_finite' was renamed to 'ensure_all_finite' in 1.6 and will be removed in 1.8.\n",
      "  warnings.warn(\n",
      "c:\\Users\\tjddl\\AppData\\Local\\Programs\\Python\\Python310\\lib\\site-packages\\sklearn\\utils\\deprecation.py:151: FutureWarning: 'force_all_finite' was renamed to 'ensure_all_finite' in 1.6 and will be removed in 1.8.\n",
      "  warnings.warn(\n",
      "c:\\Users\\tjddl\\AppData\\Local\\Programs\\Python\\Python310\\lib\\site-packages\\sklearn\\utils\\deprecation.py:151: FutureWarning: 'force_all_finite' was renamed to 'ensure_all_finite' in 1.6 and will be removed in 1.8.\n",
      "  warnings.warn(\n",
      "c:\\Users\\tjddl\\AppData\\Local\\Programs\\Python\\Python310\\lib\\site-packages\\sklearn\\utils\\deprecation.py:151: FutureWarning: 'force_all_finite' was renamed to 'ensure_all_finite' in 1.6 and will be removed in 1.8.\n",
      "  warnings.warn(\n",
      "c:\\Users\\tjddl\\AppData\\Local\\Programs\\Python\\Python310\\lib\\site-packages\\sklearn\\utils\\deprecation.py:151: FutureWarning: 'force_all_finite' was renamed to 'ensure_all_finite' in 1.6 and will be removed in 1.8.\n",
      "  warnings.warn(\n",
      "c:\\Users\\tjddl\\AppData\\Local\\Programs\\Python\\Python310\\lib\\site-packages\\sklearn\\utils\\deprecation.py:151: FutureWarning: 'force_all_finite' was renamed to 'ensure_all_finite' in 1.6 and will be removed in 1.8.\n",
      "  warnings.warn(\n"
     ]
    },
    {
     "name": "stdout",
     "output_type": "stream",
     "text": [
      "Mean ROC AUC: 0.7389\n"
     ]
    },
    {
     "name": "stderr",
     "output_type": "stream",
     "text": [
      "c:\\Users\\tjddl\\AppData\\Local\\Programs\\Python\\Python310\\lib\\site-packages\\sklearn\\utils\\deprecation.py:151: FutureWarning: 'force_all_finite' was renamed to 'ensure_all_finite' in 1.6 and will be removed in 1.8.\n",
      "  warnings.warn(\n"
     ]
    },
    {
     "data": {
      "text/html": [],
      "text/plain": [
       "<IPython.core.display.HTML object>"
      ]
     },
     "metadata": {},
     "output_type": "display_data"
    },
    {
     "data": {
      "text/html": [
       "<br>    <style><br>        .wandb-row {<br>            display: flex;<br>            flex-direction: row;<br>            flex-wrap: wrap;<br>            justify-content: flex-start;<br>            width: 100%;<br>        }<br>        .wandb-col {<br>            display: flex;<br>            flex-direction: column;<br>            flex-basis: 100%;<br>            flex: 1;<br>            padding: 10px;<br>        }<br>    </style><br><div class=\"wandb-row\"><div class=\"wandb-col\"><h3>Run history:</h3><br/><table class=\"wandb\"><tr><td>roc_auc</td><td>▁</td></tr></table><br/></div><div class=\"wandb-col\"><h3>Run summary:</h3><br/><table class=\"wandb\"><tr><td>roc_auc</td><td>0.73888</td></tr></table><br/></div></div>"
      ],
      "text/plain": [
       "<IPython.core.display.HTML object>"
      ]
     },
     "metadata": {},
     "output_type": "display_data"
    },
    {
     "data": {
      "text/html": [
       " View run <strong style=\"color:#cdcd00\">zesty-sweep-8</strong> at: <a href='https://wandb.ai/espada105-hanseouniversity/LGaimers/runs/r7ybkim1' target=\"_blank\">https://wandb.ai/espada105-hanseouniversity/LGaimers/runs/r7ybkim1</a><br> View project at: <a href='https://wandb.ai/espada105-hanseouniversity/LGaimers' target=\"_blank\">https://wandb.ai/espada105-hanseouniversity/LGaimers</a><br>Synced 5 W&B file(s), 0 media file(s), 0 artifact file(s) and 0 other file(s)"
      ],
      "text/plain": [
       "<IPython.core.display.HTML object>"
      ]
     },
     "metadata": {},
     "output_type": "display_data"
    },
    {
     "data": {
      "text/html": [
       "Find logs at: <code>.\\wandb\\run-20250207_224202-r7ybkim1\\logs</code>"
      ],
      "text/plain": [
       "<IPython.core.display.HTML object>"
      ]
     },
     "metadata": {},
     "output_type": "display_data"
    },
    {
     "name": "stderr",
     "output_type": "stream",
     "text": [
      "\u001b[34m\u001b[1mwandb\u001b[0m: Agent Starting Run: fdolufym with config:\n",
      "\u001b[34m\u001b[1mwandb\u001b[0m: \tlearning_rate: 0.05\n",
      "\u001b[34m\u001b[1mwandb\u001b[0m: \tmax_depth: 7\n",
      "\u001b[34m\u001b[1mwandb\u001b[0m: \tn_estimators: 100\n"
     ]
    },
    {
     "data": {
      "text/html": [
       "Ignoring project 'LGaimers' when running a sweep."
      ],
      "text/plain": [
       "<IPython.core.display.HTML object>"
      ]
     },
     "metadata": {},
     "output_type": "display_data"
    },
    {
     "data": {
      "text/html": [
       "Ignoring entity 'espada105-hanseouniversity' when running a sweep."
      ],
      "text/plain": [
       "<IPython.core.display.HTML object>"
      ]
     },
     "metadata": {},
     "output_type": "display_data"
    },
    {
     "data": {
      "text/html": [
       "Tracking run with wandb version 0.19.6"
      ],
      "text/plain": [
       "<IPython.core.display.HTML object>"
      ]
     },
     "metadata": {},
     "output_type": "display_data"
    },
    {
     "data": {
      "text/html": [
       "Run data is saved locally in <code>c:\\GitHubRepo\\AI_Predicting_Pregnancy_Success\\HongSeongIn\\wandb\\run-20250207_224223-fdolufym</code>"
      ],
      "text/plain": [
       "<IPython.core.display.HTML object>"
      ]
     },
     "metadata": {},
     "output_type": "display_data"
    },
    {
     "data": {
      "text/html": [
       "Syncing run <strong><a href='https://wandb.ai/espada105-hanseouniversity/LGaimers/runs/fdolufym' target=\"_blank\">astral-sweep-9</a></strong> to <a href='https://wandb.ai/espada105-hanseouniversity/LGaimers' target=\"_blank\">Weights & Biases</a> (<a href='https://wandb.me/developer-guide' target=\"_blank\">docs</a>)<br>Sweep page: <a href='https://wandb.ai/espada105-hanseouniversity/LGaimers/sweeps/d6kdsk99' target=\"_blank\">https://wandb.ai/espada105-hanseouniversity/LGaimers/sweeps/d6kdsk99</a>"
      ],
      "text/plain": [
       "<IPython.core.display.HTML object>"
      ]
     },
     "metadata": {},
     "output_type": "display_data"
    },
    {
     "data": {
      "text/html": [
       " View project at <a href='https://wandb.ai/espada105-hanseouniversity/LGaimers' target=\"_blank\">https://wandb.ai/espada105-hanseouniversity/LGaimers</a>"
      ],
      "text/plain": [
       "<IPython.core.display.HTML object>"
      ]
     },
     "metadata": {},
     "output_type": "display_data"
    },
    {
     "data": {
      "text/html": [
       " View sweep at <a href='https://wandb.ai/espada105-hanseouniversity/LGaimers/sweeps/d6kdsk99' target=\"_blank\">https://wandb.ai/espada105-hanseouniversity/LGaimers/sweeps/d6kdsk99</a>"
      ],
      "text/plain": [
       "<IPython.core.display.HTML object>"
      ]
     },
     "metadata": {},
     "output_type": "display_data"
    },
    {
     "data": {
      "text/html": [
       " View run at <a href='https://wandb.ai/espada105-hanseouniversity/LGaimers/runs/fdolufym' target=\"_blank\">https://wandb.ai/espada105-hanseouniversity/LGaimers/runs/fdolufym</a>"
      ],
      "text/plain": [
       "<IPython.core.display.HTML object>"
      ]
     },
     "metadata": {},
     "output_type": "display_data"
    },
    {
     "name": "stderr",
     "output_type": "stream",
     "text": [
      "c:\\Users\\tjddl\\AppData\\Local\\Programs\\Python\\Python310\\lib\\site-packages\\sklearn\\utils\\deprecation.py:151: FutureWarning: 'force_all_finite' was renamed to 'ensure_all_finite' in 1.6 and will be removed in 1.8.\n",
      "  warnings.warn(\n",
      "c:\\Users\\tjddl\\AppData\\Local\\Programs\\Python\\Python310\\lib\\site-packages\\sklearn\\utils\\deprecation.py:151: FutureWarning: 'force_all_finite' was renamed to 'ensure_all_finite' in 1.6 and will be removed in 1.8.\n",
      "  warnings.warn(\n",
      "c:\\Users\\tjddl\\AppData\\Local\\Programs\\Python\\Python310\\lib\\site-packages\\sklearn\\utils\\deprecation.py:151: FutureWarning: 'force_all_finite' was renamed to 'ensure_all_finite' in 1.6 and will be removed in 1.8.\n",
      "  warnings.warn(\n",
      "c:\\Users\\tjddl\\AppData\\Local\\Programs\\Python\\Python310\\lib\\site-packages\\sklearn\\utils\\deprecation.py:151: FutureWarning: 'force_all_finite' was renamed to 'ensure_all_finite' in 1.6 and will be removed in 1.8.\n",
      "  warnings.warn(\n",
      "c:\\Users\\tjddl\\AppData\\Local\\Programs\\Python\\Python310\\lib\\site-packages\\sklearn\\utils\\deprecation.py:151: FutureWarning: 'force_all_finite' was renamed to 'ensure_all_finite' in 1.6 and will be removed in 1.8.\n",
      "  warnings.warn(\n",
      "c:\\Users\\tjddl\\AppData\\Local\\Programs\\Python\\Python310\\lib\\site-packages\\sklearn\\utils\\deprecation.py:151: FutureWarning: 'force_all_finite' was renamed to 'ensure_all_finite' in 1.6 and will be removed in 1.8.\n",
      "  warnings.warn(\n",
      "c:\\Users\\tjddl\\AppData\\Local\\Programs\\Python\\Python310\\lib\\site-packages\\sklearn\\utils\\deprecation.py:151: FutureWarning: 'force_all_finite' was renamed to 'ensure_all_finite' in 1.6 and will be removed in 1.8.\n",
      "  warnings.warn(\n",
      "c:\\Users\\tjddl\\AppData\\Local\\Programs\\Python\\Python310\\lib\\site-packages\\sklearn\\utils\\deprecation.py:151: FutureWarning: 'force_all_finite' was renamed to 'ensure_all_finite' in 1.6 and will be removed in 1.8.\n",
      "  warnings.warn(\n",
      "c:\\Users\\tjddl\\AppData\\Local\\Programs\\Python\\Python310\\lib\\site-packages\\sklearn\\utils\\deprecation.py:151: FutureWarning: 'force_all_finite' was renamed to 'ensure_all_finite' in 1.6 and will be removed in 1.8.\n",
      "  warnings.warn(\n"
     ]
    },
    {
     "name": "stdout",
     "output_type": "stream",
     "text": [
      "Mean ROC AUC: 0.7389\n"
     ]
    },
    {
     "name": "stderr",
     "output_type": "stream",
     "text": [
      "c:\\Users\\tjddl\\AppData\\Local\\Programs\\Python\\Python310\\lib\\site-packages\\sklearn\\utils\\deprecation.py:151: FutureWarning: 'force_all_finite' was renamed to 'ensure_all_finite' in 1.6 and will be removed in 1.8.\n",
      "  warnings.warn(\n"
     ]
    },
    {
     "data": {
      "text/html": [],
      "text/plain": [
       "<IPython.core.display.HTML object>"
      ]
     },
     "metadata": {},
     "output_type": "display_data"
    },
    {
     "data": {
      "text/html": [
       "<br>    <style><br>        .wandb-row {<br>            display: flex;<br>            flex-direction: row;<br>            flex-wrap: wrap;<br>            justify-content: flex-start;<br>            width: 100%;<br>        }<br>        .wandb-col {<br>            display: flex;<br>            flex-direction: column;<br>            flex-basis: 100%;<br>            flex: 1;<br>            padding: 10px;<br>        }<br>    </style><br><div class=\"wandb-row\"><div class=\"wandb-col\"><h3>Run history:</h3><br/><table class=\"wandb\"><tr><td>roc_auc</td><td>▁</td></tr></table><br/></div><div class=\"wandb-col\"><h3>Run summary:</h3><br/><table class=\"wandb\"><tr><td>roc_auc</td><td>0.73889</td></tr></table><br/></div></div>"
      ],
      "text/plain": [
       "<IPython.core.display.HTML object>"
      ]
     },
     "metadata": {},
     "output_type": "display_data"
    },
    {
     "data": {
      "text/html": [
       " View run <strong style=\"color:#cdcd00\">astral-sweep-9</strong> at: <a href='https://wandb.ai/espada105-hanseouniversity/LGaimers/runs/fdolufym' target=\"_blank\">https://wandb.ai/espada105-hanseouniversity/LGaimers/runs/fdolufym</a><br> View project at: <a href='https://wandb.ai/espada105-hanseouniversity/LGaimers' target=\"_blank\">https://wandb.ai/espada105-hanseouniversity/LGaimers</a><br>Synced 5 W&B file(s), 0 media file(s), 0 artifact file(s) and 0 other file(s)"
      ],
      "text/plain": [
       "<IPython.core.display.HTML object>"
      ]
     },
     "metadata": {},
     "output_type": "display_data"
    },
    {
     "data": {
      "text/html": [
       "Find logs at: <code>.\\wandb\\run-20250207_224223-fdolufym\\logs</code>"
      ],
      "text/plain": [
       "<IPython.core.display.HTML object>"
      ]
     },
     "metadata": {},
     "output_type": "display_data"
    },
    {
     "name": "stderr",
     "output_type": "stream",
     "text": [
      "\u001b[34m\u001b[1mwandb\u001b[0m: Agent Starting Run: kswllc0v with config:\n",
      "\u001b[34m\u001b[1mwandb\u001b[0m: \tlearning_rate: 0.05\n",
      "\u001b[34m\u001b[1mwandb\u001b[0m: \tmax_depth: 7\n",
      "\u001b[34m\u001b[1mwandb\u001b[0m: \tn_estimators: 200\n"
     ]
    },
    {
     "data": {
      "text/html": [
       "Ignoring project 'LGaimers' when running a sweep."
      ],
      "text/plain": [
       "<IPython.core.display.HTML object>"
      ]
     },
     "metadata": {},
     "output_type": "display_data"
    },
    {
     "data": {
      "text/html": [
       "Ignoring entity 'espada105-hanseouniversity' when running a sweep."
      ],
      "text/plain": [
       "<IPython.core.display.HTML object>"
      ]
     },
     "metadata": {},
     "output_type": "display_data"
    },
    {
     "data": {
      "text/html": [
       "Tracking run with wandb version 0.19.6"
      ],
      "text/plain": [
       "<IPython.core.display.HTML object>"
      ]
     },
     "metadata": {},
     "output_type": "display_data"
    },
    {
     "data": {
      "text/html": [
       "Run data is saved locally in <code>c:\\GitHubRepo\\AI_Predicting_Pregnancy_Success\\HongSeongIn\\wandb\\run-20250207_224239-kswllc0v</code>"
      ],
      "text/plain": [
       "<IPython.core.display.HTML object>"
      ]
     },
     "metadata": {},
     "output_type": "display_data"
    },
    {
     "data": {
      "text/html": [
       "Syncing run <strong><a href='https://wandb.ai/espada105-hanseouniversity/LGaimers/runs/kswllc0v' target=\"_blank\">ancient-sweep-10</a></strong> to <a href='https://wandb.ai/espada105-hanseouniversity/LGaimers' target=\"_blank\">Weights & Biases</a> (<a href='https://wandb.me/developer-guide' target=\"_blank\">docs</a>)<br>Sweep page: <a href='https://wandb.ai/espada105-hanseouniversity/LGaimers/sweeps/d6kdsk99' target=\"_blank\">https://wandb.ai/espada105-hanseouniversity/LGaimers/sweeps/d6kdsk99</a>"
      ],
      "text/plain": [
       "<IPython.core.display.HTML object>"
      ]
     },
     "metadata": {},
     "output_type": "display_data"
    },
    {
     "data": {
      "text/html": [
       " View project at <a href='https://wandb.ai/espada105-hanseouniversity/LGaimers' target=\"_blank\">https://wandb.ai/espada105-hanseouniversity/LGaimers</a>"
      ],
      "text/plain": [
       "<IPython.core.display.HTML object>"
      ]
     },
     "metadata": {},
     "output_type": "display_data"
    },
    {
     "data": {
      "text/html": [
       " View sweep at <a href='https://wandb.ai/espada105-hanseouniversity/LGaimers/sweeps/d6kdsk99' target=\"_blank\">https://wandb.ai/espada105-hanseouniversity/LGaimers/sweeps/d6kdsk99</a>"
      ],
      "text/plain": [
       "<IPython.core.display.HTML object>"
      ]
     },
     "metadata": {},
     "output_type": "display_data"
    },
    {
     "data": {
      "text/html": [
       " View run at <a href='https://wandb.ai/espada105-hanseouniversity/LGaimers/runs/kswllc0v' target=\"_blank\">https://wandb.ai/espada105-hanseouniversity/LGaimers/runs/kswllc0v</a>"
      ],
      "text/plain": [
       "<IPython.core.display.HTML object>"
      ]
     },
     "metadata": {},
     "output_type": "display_data"
    },
    {
     "name": "stderr",
     "output_type": "stream",
     "text": [
      "c:\\Users\\tjddl\\AppData\\Local\\Programs\\Python\\Python310\\lib\\site-packages\\sklearn\\utils\\deprecation.py:151: FutureWarning: 'force_all_finite' was renamed to 'ensure_all_finite' in 1.6 and will be removed in 1.8.\n",
      "  warnings.warn(\n",
      "c:\\Users\\tjddl\\AppData\\Local\\Programs\\Python\\Python310\\lib\\site-packages\\sklearn\\utils\\deprecation.py:151: FutureWarning: 'force_all_finite' was renamed to 'ensure_all_finite' in 1.6 and will be removed in 1.8.\n",
      "  warnings.warn(\n",
      "c:\\Users\\tjddl\\AppData\\Local\\Programs\\Python\\Python310\\lib\\site-packages\\sklearn\\utils\\deprecation.py:151: FutureWarning: 'force_all_finite' was renamed to 'ensure_all_finite' in 1.6 and will be removed in 1.8.\n",
      "  warnings.warn(\n",
      "c:\\Users\\tjddl\\AppData\\Local\\Programs\\Python\\Python310\\lib\\site-packages\\sklearn\\utils\\deprecation.py:151: FutureWarning: 'force_all_finite' was renamed to 'ensure_all_finite' in 1.6 and will be removed in 1.8.\n",
      "  warnings.warn(\n",
      "c:\\Users\\tjddl\\AppData\\Local\\Programs\\Python\\Python310\\lib\\site-packages\\sklearn\\utils\\deprecation.py:151: FutureWarning: 'force_all_finite' was renamed to 'ensure_all_finite' in 1.6 and will be removed in 1.8.\n",
      "  warnings.warn(\n",
      "c:\\Users\\tjddl\\AppData\\Local\\Programs\\Python\\Python310\\lib\\site-packages\\sklearn\\utils\\deprecation.py:151: FutureWarning: 'force_all_finite' was renamed to 'ensure_all_finite' in 1.6 and will be removed in 1.8.\n",
      "  warnings.warn(\n",
      "c:\\Users\\tjddl\\AppData\\Local\\Programs\\Python\\Python310\\lib\\site-packages\\sklearn\\utils\\deprecation.py:151: FutureWarning: 'force_all_finite' was renamed to 'ensure_all_finite' in 1.6 and will be removed in 1.8.\n",
      "  warnings.warn(\n",
      "c:\\Users\\tjddl\\AppData\\Local\\Programs\\Python\\Python310\\lib\\site-packages\\sklearn\\utils\\deprecation.py:151: FutureWarning: 'force_all_finite' was renamed to 'ensure_all_finite' in 1.6 and will be removed in 1.8.\n",
      "  warnings.warn(\n",
      "c:\\Users\\tjddl\\AppData\\Local\\Programs\\Python\\Python310\\lib\\site-packages\\sklearn\\utils\\deprecation.py:151: FutureWarning: 'force_all_finite' was renamed to 'ensure_all_finite' in 1.6 and will be removed in 1.8.\n",
      "  warnings.warn(\n"
     ]
    },
    {
     "name": "stdout",
     "output_type": "stream",
     "text": [
      "Mean ROC AUC: 0.7395\n"
     ]
    },
    {
     "name": "stderr",
     "output_type": "stream",
     "text": [
      "c:\\Users\\tjddl\\AppData\\Local\\Programs\\Python\\Python310\\lib\\site-packages\\sklearn\\utils\\deprecation.py:151: FutureWarning: 'force_all_finite' was renamed to 'ensure_all_finite' in 1.6 and will be removed in 1.8.\n",
      "  warnings.warn(\n"
     ]
    },
    {
     "data": {
      "text/html": [],
      "text/plain": [
       "<IPython.core.display.HTML object>"
      ]
     },
     "metadata": {},
     "output_type": "display_data"
    },
    {
     "data": {
      "text/html": [
       "<br>    <style><br>        .wandb-row {<br>            display: flex;<br>            flex-direction: row;<br>            flex-wrap: wrap;<br>            justify-content: flex-start;<br>            width: 100%;<br>        }<br>        .wandb-col {<br>            display: flex;<br>            flex-direction: column;<br>            flex-basis: 100%;<br>            flex: 1;<br>            padding: 10px;<br>        }<br>    </style><br><div class=\"wandb-row\"><div class=\"wandb-col\"><h3>Run history:</h3><br/><table class=\"wandb\"><tr><td>roc_auc</td><td>▁</td></tr></table><br/></div><div class=\"wandb-col\"><h3>Run summary:</h3><br/><table class=\"wandb\"><tr><td>roc_auc</td><td>0.7395</td></tr></table><br/></div></div>"
      ],
      "text/plain": [
       "<IPython.core.display.HTML object>"
      ]
     },
     "metadata": {},
     "output_type": "display_data"
    },
    {
     "data": {
      "text/html": [
       " View run <strong style=\"color:#cdcd00\">ancient-sweep-10</strong> at: <a href='https://wandb.ai/espada105-hanseouniversity/LGaimers/runs/kswllc0v' target=\"_blank\">https://wandb.ai/espada105-hanseouniversity/LGaimers/runs/kswllc0v</a><br> View project at: <a href='https://wandb.ai/espada105-hanseouniversity/LGaimers' target=\"_blank\">https://wandb.ai/espada105-hanseouniversity/LGaimers</a><br>Synced 5 W&B file(s), 0 media file(s), 0 artifact file(s) and 0 other file(s)"
      ],
      "text/plain": [
       "<IPython.core.display.HTML object>"
      ]
     },
     "metadata": {},
     "output_type": "display_data"
    },
    {
     "data": {
      "text/html": [
       "Find logs at: <code>.\\wandb\\run-20250207_224239-kswllc0v\\logs</code>"
      ],
      "text/plain": [
       "<IPython.core.display.HTML object>"
      ]
     },
     "metadata": {},
     "output_type": "display_data"
    },
    {
     "name": "stderr",
     "output_type": "stream",
     "text": [
      "\u001b[34m\u001b[1mwandb\u001b[0m: Agent Starting Run: x5x2rkon with config:\n",
      "\u001b[34m\u001b[1mwandb\u001b[0m: \tlearning_rate: 0.05\n",
      "\u001b[34m\u001b[1mwandb\u001b[0m: \tmax_depth: 10\n",
      "\u001b[34m\u001b[1mwandb\u001b[0m: \tn_estimators: 100\n"
     ]
    },
    {
     "data": {
      "text/html": [
       "Ignoring project 'LGaimers' when running a sweep."
      ],
      "text/plain": [
       "<IPython.core.display.HTML object>"
      ]
     },
     "metadata": {},
     "output_type": "display_data"
    },
    {
     "data": {
      "text/html": [
       "Ignoring entity 'espada105-hanseouniversity' when running a sweep."
      ],
      "text/plain": [
       "<IPython.core.display.HTML object>"
      ]
     },
     "metadata": {},
     "output_type": "display_data"
    },
    {
     "data": {
      "text/html": [
       "Tracking run with wandb version 0.19.6"
      ],
      "text/plain": [
       "<IPython.core.display.HTML object>"
      ]
     },
     "metadata": {},
     "output_type": "display_data"
    },
    {
     "data": {
      "text/html": [
       "Run data is saved locally in <code>c:\\GitHubRepo\\AI_Predicting_Pregnancy_Success\\HongSeongIn\\wandb\\run-20250207_224301-x5x2rkon</code>"
      ],
      "text/plain": [
       "<IPython.core.display.HTML object>"
      ]
     },
     "metadata": {},
     "output_type": "display_data"
    },
    {
     "data": {
      "text/html": [
       "Syncing run <strong><a href='https://wandb.ai/espada105-hanseouniversity/LGaimers/runs/x5x2rkon' target=\"_blank\">decent-sweep-11</a></strong> to <a href='https://wandb.ai/espada105-hanseouniversity/LGaimers' target=\"_blank\">Weights & Biases</a> (<a href='https://wandb.me/developer-guide' target=\"_blank\">docs</a>)<br>Sweep page: <a href='https://wandb.ai/espada105-hanseouniversity/LGaimers/sweeps/d6kdsk99' target=\"_blank\">https://wandb.ai/espada105-hanseouniversity/LGaimers/sweeps/d6kdsk99</a>"
      ],
      "text/plain": [
       "<IPython.core.display.HTML object>"
      ]
     },
     "metadata": {},
     "output_type": "display_data"
    },
    {
     "data": {
      "text/html": [
       " View project at <a href='https://wandb.ai/espada105-hanseouniversity/LGaimers' target=\"_blank\">https://wandb.ai/espada105-hanseouniversity/LGaimers</a>"
      ],
      "text/plain": [
       "<IPython.core.display.HTML object>"
      ]
     },
     "metadata": {},
     "output_type": "display_data"
    },
    {
     "data": {
      "text/html": [
       " View sweep at <a href='https://wandb.ai/espada105-hanseouniversity/LGaimers/sweeps/d6kdsk99' target=\"_blank\">https://wandb.ai/espada105-hanseouniversity/LGaimers/sweeps/d6kdsk99</a>"
      ],
      "text/plain": [
       "<IPython.core.display.HTML object>"
      ]
     },
     "metadata": {},
     "output_type": "display_data"
    },
    {
     "data": {
      "text/html": [
       " View run at <a href='https://wandb.ai/espada105-hanseouniversity/LGaimers/runs/x5x2rkon' target=\"_blank\">https://wandb.ai/espada105-hanseouniversity/LGaimers/runs/x5x2rkon</a>"
      ],
      "text/plain": [
       "<IPython.core.display.HTML object>"
      ]
     },
     "metadata": {},
     "output_type": "display_data"
    },
    {
     "name": "stderr",
     "output_type": "stream",
     "text": [
      "c:\\Users\\tjddl\\AppData\\Local\\Programs\\Python\\Python310\\lib\\site-packages\\sklearn\\utils\\deprecation.py:151: FutureWarning: 'force_all_finite' was renamed to 'ensure_all_finite' in 1.6 and will be removed in 1.8.\n",
      "  warnings.warn(\n",
      "c:\\Users\\tjddl\\AppData\\Local\\Programs\\Python\\Python310\\lib\\site-packages\\sklearn\\utils\\deprecation.py:151: FutureWarning: 'force_all_finite' was renamed to 'ensure_all_finite' in 1.6 and will be removed in 1.8.\n",
      "  warnings.warn(\n",
      "c:\\Users\\tjddl\\AppData\\Local\\Programs\\Python\\Python310\\lib\\site-packages\\sklearn\\utils\\deprecation.py:151: FutureWarning: 'force_all_finite' was renamed to 'ensure_all_finite' in 1.6 and will be removed in 1.8.\n",
      "  warnings.warn(\n",
      "c:\\Users\\tjddl\\AppData\\Local\\Programs\\Python\\Python310\\lib\\site-packages\\sklearn\\utils\\deprecation.py:151: FutureWarning: 'force_all_finite' was renamed to 'ensure_all_finite' in 1.6 and will be removed in 1.8.\n",
      "  warnings.warn(\n",
      "c:\\Users\\tjddl\\AppData\\Local\\Programs\\Python\\Python310\\lib\\site-packages\\sklearn\\utils\\deprecation.py:151: FutureWarning: 'force_all_finite' was renamed to 'ensure_all_finite' in 1.6 and will be removed in 1.8.\n",
      "  warnings.warn(\n",
      "c:\\Users\\tjddl\\AppData\\Local\\Programs\\Python\\Python310\\lib\\site-packages\\sklearn\\utils\\deprecation.py:151: FutureWarning: 'force_all_finite' was renamed to 'ensure_all_finite' in 1.6 and will be removed in 1.8.\n",
      "  warnings.warn(\n",
      "c:\\Users\\tjddl\\AppData\\Local\\Programs\\Python\\Python310\\lib\\site-packages\\sklearn\\utils\\deprecation.py:151: FutureWarning: 'force_all_finite' was renamed to 'ensure_all_finite' in 1.6 and will be removed in 1.8.\n",
      "  warnings.warn(\n",
      "c:\\Users\\tjddl\\AppData\\Local\\Programs\\Python\\Python310\\lib\\site-packages\\sklearn\\utils\\deprecation.py:151: FutureWarning: 'force_all_finite' was renamed to 'ensure_all_finite' in 1.6 and will be removed in 1.8.\n",
      "  warnings.warn(\n",
      "c:\\Users\\tjddl\\AppData\\Local\\Programs\\Python\\Python310\\lib\\site-packages\\sklearn\\utils\\deprecation.py:151: FutureWarning: 'force_all_finite' was renamed to 'ensure_all_finite' in 1.6 and will be removed in 1.8.\n",
      "  warnings.warn(\n"
     ]
    },
    {
     "name": "stdout",
     "output_type": "stream",
     "text": [
      "Mean ROC AUC: 0.7391\n"
     ]
    },
    {
     "name": "stderr",
     "output_type": "stream",
     "text": [
      "c:\\Users\\tjddl\\AppData\\Local\\Programs\\Python\\Python310\\lib\\site-packages\\sklearn\\utils\\deprecation.py:151: FutureWarning: 'force_all_finite' was renamed to 'ensure_all_finite' in 1.6 and will be removed in 1.8.\n",
      "  warnings.warn(\n"
     ]
    },
    {
     "data": {
      "text/html": [],
      "text/plain": [
       "<IPython.core.display.HTML object>"
      ]
     },
     "metadata": {},
     "output_type": "display_data"
    },
    {
     "data": {
      "text/html": [
       "<br>    <style><br>        .wandb-row {<br>            display: flex;<br>            flex-direction: row;<br>            flex-wrap: wrap;<br>            justify-content: flex-start;<br>            width: 100%;<br>        }<br>        .wandb-col {<br>            display: flex;<br>            flex-direction: column;<br>            flex-basis: 100%;<br>            flex: 1;<br>            padding: 10px;<br>        }<br>    </style><br><div class=\"wandb-row\"><div class=\"wandb-col\"><h3>Run history:</h3><br/><table class=\"wandb\"><tr><td>roc_auc</td><td>▁</td></tr></table><br/></div><div class=\"wandb-col\"><h3>Run summary:</h3><br/><table class=\"wandb\"><tr><td>roc_auc</td><td>0.73912</td></tr></table><br/></div></div>"
      ],
      "text/plain": [
       "<IPython.core.display.HTML object>"
      ]
     },
     "metadata": {},
     "output_type": "display_data"
    },
    {
     "data": {
      "text/html": [
       " View run <strong style=\"color:#cdcd00\">decent-sweep-11</strong> at: <a href='https://wandb.ai/espada105-hanseouniversity/LGaimers/runs/x5x2rkon' target=\"_blank\">https://wandb.ai/espada105-hanseouniversity/LGaimers/runs/x5x2rkon</a><br> View project at: <a href='https://wandb.ai/espada105-hanseouniversity/LGaimers' target=\"_blank\">https://wandb.ai/espada105-hanseouniversity/LGaimers</a><br>Synced 5 W&B file(s), 0 media file(s), 0 artifact file(s) and 0 other file(s)"
      ],
      "text/plain": [
       "<IPython.core.display.HTML object>"
      ]
     },
     "metadata": {},
     "output_type": "display_data"
    },
    {
     "data": {
      "text/html": [
       "Find logs at: <code>.\\wandb\\run-20250207_224301-x5x2rkon\\logs</code>"
      ],
      "text/plain": [
       "<IPython.core.display.HTML object>"
      ]
     },
     "metadata": {},
     "output_type": "display_data"
    },
    {
     "name": "stderr",
     "output_type": "stream",
     "text": [
      "\u001b[34m\u001b[1mwandb\u001b[0m: Sweep Agent: Waiting for job.\n",
      "\u001b[34m\u001b[1mwandb\u001b[0m: Job received.\n",
      "\u001b[34m\u001b[1mwandb\u001b[0m: Agent Starting Run: yxbgakch with config:\n",
      "\u001b[34m\u001b[1mwandb\u001b[0m: \tlearning_rate: 0.05\n",
      "\u001b[34m\u001b[1mwandb\u001b[0m: \tmax_depth: 10\n",
      "\u001b[34m\u001b[1mwandb\u001b[0m: \tn_estimators: 200\n"
     ]
    },
    {
     "data": {
      "text/html": [
       "Ignoring project 'LGaimers' when running a sweep."
      ],
      "text/plain": [
       "<IPython.core.display.HTML object>"
      ]
     },
     "metadata": {},
     "output_type": "display_data"
    },
    {
     "data": {
      "text/html": [
       "Ignoring entity 'espada105-hanseouniversity' when running a sweep."
      ],
      "text/plain": [
       "<IPython.core.display.HTML object>"
      ]
     },
     "metadata": {},
     "output_type": "display_data"
    },
    {
     "data": {
      "text/html": [
       "Tracking run with wandb version 0.19.6"
      ],
      "text/plain": [
       "<IPython.core.display.HTML object>"
      ]
     },
     "metadata": {},
     "output_type": "display_data"
    },
    {
     "data": {
      "text/html": [
       "Run data is saved locally in <code>c:\\GitHubRepo\\AI_Predicting_Pregnancy_Success\\HongSeongIn\\wandb\\run-20250207_224327-yxbgakch</code>"
      ],
      "text/plain": [
       "<IPython.core.display.HTML object>"
      ]
     },
     "metadata": {},
     "output_type": "display_data"
    },
    {
     "data": {
      "text/html": [
       "Syncing run <strong><a href='https://wandb.ai/espada105-hanseouniversity/LGaimers/runs/yxbgakch' target=\"_blank\">sandy-sweep-12</a></strong> to <a href='https://wandb.ai/espada105-hanseouniversity/LGaimers' target=\"_blank\">Weights & Biases</a> (<a href='https://wandb.me/developer-guide' target=\"_blank\">docs</a>)<br>Sweep page: <a href='https://wandb.ai/espada105-hanseouniversity/LGaimers/sweeps/d6kdsk99' target=\"_blank\">https://wandb.ai/espada105-hanseouniversity/LGaimers/sweeps/d6kdsk99</a>"
      ],
      "text/plain": [
       "<IPython.core.display.HTML object>"
      ]
     },
     "metadata": {},
     "output_type": "display_data"
    },
    {
     "data": {
      "text/html": [
       " View project at <a href='https://wandb.ai/espada105-hanseouniversity/LGaimers' target=\"_blank\">https://wandb.ai/espada105-hanseouniversity/LGaimers</a>"
      ],
      "text/plain": [
       "<IPython.core.display.HTML object>"
      ]
     },
     "metadata": {},
     "output_type": "display_data"
    },
    {
     "data": {
      "text/html": [
       " View sweep at <a href='https://wandb.ai/espada105-hanseouniversity/LGaimers/sweeps/d6kdsk99' target=\"_blank\">https://wandb.ai/espada105-hanseouniversity/LGaimers/sweeps/d6kdsk99</a>"
      ],
      "text/plain": [
       "<IPython.core.display.HTML object>"
      ]
     },
     "metadata": {},
     "output_type": "display_data"
    },
    {
     "data": {
      "text/html": [
       " View run at <a href='https://wandb.ai/espada105-hanseouniversity/LGaimers/runs/yxbgakch' target=\"_blank\">https://wandb.ai/espada105-hanseouniversity/LGaimers/runs/yxbgakch</a>"
      ],
      "text/plain": [
       "<IPython.core.display.HTML object>"
      ]
     },
     "metadata": {},
     "output_type": "display_data"
    },
    {
     "name": "stderr",
     "output_type": "stream",
     "text": [
      "c:\\Users\\tjddl\\AppData\\Local\\Programs\\Python\\Python310\\lib\\site-packages\\sklearn\\utils\\deprecation.py:151: FutureWarning: 'force_all_finite' was renamed to 'ensure_all_finite' in 1.6 and will be removed in 1.8.\n",
      "  warnings.warn(\n",
      "c:\\Users\\tjddl\\AppData\\Local\\Programs\\Python\\Python310\\lib\\site-packages\\sklearn\\utils\\deprecation.py:151: FutureWarning: 'force_all_finite' was renamed to 'ensure_all_finite' in 1.6 and will be removed in 1.8.\n",
      "  warnings.warn(\n",
      "c:\\Users\\tjddl\\AppData\\Local\\Programs\\Python\\Python310\\lib\\site-packages\\sklearn\\utils\\deprecation.py:151: FutureWarning: 'force_all_finite' was renamed to 'ensure_all_finite' in 1.6 and will be removed in 1.8.\n",
      "  warnings.warn(\n",
      "c:\\Users\\tjddl\\AppData\\Local\\Programs\\Python\\Python310\\lib\\site-packages\\sklearn\\utils\\deprecation.py:151: FutureWarning: 'force_all_finite' was renamed to 'ensure_all_finite' in 1.6 and will be removed in 1.8.\n",
      "  warnings.warn(\n",
      "c:\\Users\\tjddl\\AppData\\Local\\Programs\\Python\\Python310\\lib\\site-packages\\sklearn\\utils\\deprecation.py:151: FutureWarning: 'force_all_finite' was renamed to 'ensure_all_finite' in 1.6 and will be removed in 1.8.\n",
      "  warnings.warn(\n",
      "c:\\Users\\tjddl\\AppData\\Local\\Programs\\Python\\Python310\\lib\\site-packages\\sklearn\\utils\\deprecation.py:151: FutureWarning: 'force_all_finite' was renamed to 'ensure_all_finite' in 1.6 and will be removed in 1.8.\n",
      "  warnings.warn(\n",
      "c:\\Users\\tjddl\\AppData\\Local\\Programs\\Python\\Python310\\lib\\site-packages\\sklearn\\utils\\deprecation.py:151: FutureWarning: 'force_all_finite' was renamed to 'ensure_all_finite' in 1.6 and will be removed in 1.8.\n",
      "  warnings.warn(\n",
      "c:\\Users\\tjddl\\AppData\\Local\\Programs\\Python\\Python310\\lib\\site-packages\\sklearn\\utils\\deprecation.py:151: FutureWarning: 'force_all_finite' was renamed to 'ensure_all_finite' in 1.6 and will be removed in 1.8.\n",
      "  warnings.warn(\n",
      "c:\\Users\\tjddl\\AppData\\Local\\Programs\\Python\\Python310\\lib\\site-packages\\sklearn\\utils\\deprecation.py:151: FutureWarning: 'force_all_finite' was renamed to 'ensure_all_finite' in 1.6 and will be removed in 1.8.\n",
      "  warnings.warn(\n"
     ]
    },
    {
     "name": "stdout",
     "output_type": "stream",
     "text": [
      "Mean ROC AUC: 0.7396\n"
     ]
    },
    {
     "name": "stderr",
     "output_type": "stream",
     "text": [
      "c:\\Users\\tjddl\\AppData\\Local\\Programs\\Python\\Python310\\lib\\site-packages\\sklearn\\utils\\deprecation.py:151: FutureWarning: 'force_all_finite' was renamed to 'ensure_all_finite' in 1.6 and will be removed in 1.8.\n",
      "  warnings.warn(\n"
     ]
    },
    {
     "data": {
      "text/html": [],
      "text/plain": [
       "<IPython.core.display.HTML object>"
      ]
     },
     "metadata": {},
     "output_type": "display_data"
    },
    {
     "data": {
      "text/html": [
       "<br>    <style><br>        .wandb-row {<br>            display: flex;<br>            flex-direction: row;<br>            flex-wrap: wrap;<br>            justify-content: flex-start;<br>            width: 100%;<br>        }<br>        .wandb-col {<br>            display: flex;<br>            flex-direction: column;<br>            flex-basis: 100%;<br>            flex: 1;<br>            padding: 10px;<br>        }<br>    </style><br><div class=\"wandb-row\"><div class=\"wandb-col\"><h3>Run history:</h3><br/><table class=\"wandb\"><tr><td>roc_auc</td><td>▁</td></tr></table><br/></div><div class=\"wandb-col\"><h3>Run summary:</h3><br/><table class=\"wandb\"><tr><td>roc_auc</td><td>0.73957</td></tr></table><br/></div></div>"
      ],
      "text/plain": [
       "<IPython.core.display.HTML object>"
      ]
     },
     "metadata": {},
     "output_type": "display_data"
    },
    {
     "data": {
      "text/html": [
       " View run <strong style=\"color:#cdcd00\">sandy-sweep-12</strong> at: <a href='https://wandb.ai/espada105-hanseouniversity/LGaimers/runs/yxbgakch' target=\"_blank\">https://wandb.ai/espada105-hanseouniversity/LGaimers/runs/yxbgakch</a><br> View project at: <a href='https://wandb.ai/espada105-hanseouniversity/LGaimers' target=\"_blank\">https://wandb.ai/espada105-hanseouniversity/LGaimers</a><br>Synced 5 W&B file(s), 0 media file(s), 0 artifact file(s) and 0 other file(s)"
      ],
      "text/plain": [
       "<IPython.core.display.HTML object>"
      ]
     },
     "metadata": {},
     "output_type": "display_data"
    },
    {
     "data": {
      "text/html": [
       "Find logs at: <code>.\\wandb\\run-20250207_224327-yxbgakch\\logs</code>"
      ],
      "text/plain": [
       "<IPython.core.display.HTML object>"
      ]
     },
     "metadata": {},
     "output_type": "display_data"
    },
    {
     "name": "stderr",
     "output_type": "stream",
     "text": [
      "\u001b[34m\u001b[1mwandb\u001b[0m: Agent Starting Run: wndxr4uf with config:\n",
      "\u001b[34m\u001b[1mwandb\u001b[0m: \tlearning_rate: 0.1\n",
      "\u001b[34m\u001b[1mwandb\u001b[0m: \tmax_depth: 5\n",
      "\u001b[34m\u001b[1mwandb\u001b[0m: \tn_estimators: 100\n"
     ]
    },
    {
     "data": {
      "text/html": [
       "Ignoring project 'LGaimers' when running a sweep."
      ],
      "text/plain": [
       "<IPython.core.display.HTML object>"
      ]
     },
     "metadata": {},
     "output_type": "display_data"
    },
    {
     "data": {
      "text/html": [
       "Ignoring entity 'espada105-hanseouniversity' when running a sweep."
      ],
      "text/plain": [
       "<IPython.core.display.HTML object>"
      ]
     },
     "metadata": {},
     "output_type": "display_data"
    },
    {
     "data": {
      "text/html": [
       "Tracking run with wandb version 0.19.6"
      ],
      "text/plain": [
       "<IPython.core.display.HTML object>"
      ]
     },
     "metadata": {},
     "output_type": "display_data"
    },
    {
     "data": {
      "text/html": [
       "Run data is saved locally in <code>c:\\GitHubRepo\\AI_Predicting_Pregnancy_Success\\HongSeongIn\\wandb\\run-20250207_224348-wndxr4uf</code>"
      ],
      "text/plain": [
       "<IPython.core.display.HTML object>"
      ]
     },
     "metadata": {},
     "output_type": "display_data"
    },
    {
     "data": {
      "text/html": [
       "Syncing run <strong><a href='https://wandb.ai/espada105-hanseouniversity/LGaimers/runs/wndxr4uf' target=\"_blank\">silver-sweep-13</a></strong> to <a href='https://wandb.ai/espada105-hanseouniversity/LGaimers' target=\"_blank\">Weights & Biases</a> (<a href='https://wandb.me/developer-guide' target=\"_blank\">docs</a>)<br>Sweep page: <a href='https://wandb.ai/espada105-hanseouniversity/LGaimers/sweeps/d6kdsk99' target=\"_blank\">https://wandb.ai/espada105-hanseouniversity/LGaimers/sweeps/d6kdsk99</a>"
      ],
      "text/plain": [
       "<IPython.core.display.HTML object>"
      ]
     },
     "metadata": {},
     "output_type": "display_data"
    },
    {
     "data": {
      "text/html": [
       " View project at <a href='https://wandb.ai/espada105-hanseouniversity/LGaimers' target=\"_blank\">https://wandb.ai/espada105-hanseouniversity/LGaimers</a>"
      ],
      "text/plain": [
       "<IPython.core.display.HTML object>"
      ]
     },
     "metadata": {},
     "output_type": "display_data"
    },
    {
     "data": {
      "text/html": [
       " View sweep at <a href='https://wandb.ai/espada105-hanseouniversity/LGaimers/sweeps/d6kdsk99' target=\"_blank\">https://wandb.ai/espada105-hanseouniversity/LGaimers/sweeps/d6kdsk99</a>"
      ],
      "text/plain": [
       "<IPython.core.display.HTML object>"
      ]
     },
     "metadata": {},
     "output_type": "display_data"
    },
    {
     "data": {
      "text/html": [
       " View run at <a href='https://wandb.ai/espada105-hanseouniversity/LGaimers/runs/wndxr4uf' target=\"_blank\">https://wandb.ai/espada105-hanseouniversity/LGaimers/runs/wndxr4uf</a>"
      ],
      "text/plain": [
       "<IPython.core.display.HTML object>"
      ]
     },
     "metadata": {},
     "output_type": "display_data"
    },
    {
     "name": "stderr",
     "output_type": "stream",
     "text": [
      "c:\\Users\\tjddl\\AppData\\Local\\Programs\\Python\\Python310\\lib\\site-packages\\sklearn\\utils\\deprecation.py:151: FutureWarning: 'force_all_finite' was renamed to 'ensure_all_finite' in 1.6 and will be removed in 1.8.\n",
      "  warnings.warn(\n",
      "c:\\Users\\tjddl\\AppData\\Local\\Programs\\Python\\Python310\\lib\\site-packages\\sklearn\\utils\\deprecation.py:151: FutureWarning: 'force_all_finite' was renamed to 'ensure_all_finite' in 1.6 and will be removed in 1.8.\n",
      "  warnings.warn(\n",
      "c:\\Users\\tjddl\\AppData\\Local\\Programs\\Python\\Python310\\lib\\site-packages\\sklearn\\utils\\deprecation.py:151: FutureWarning: 'force_all_finite' was renamed to 'ensure_all_finite' in 1.6 and will be removed in 1.8.\n",
      "  warnings.warn(\n",
      "c:\\Users\\tjddl\\AppData\\Local\\Programs\\Python\\Python310\\lib\\site-packages\\sklearn\\utils\\deprecation.py:151: FutureWarning: 'force_all_finite' was renamed to 'ensure_all_finite' in 1.6 and will be removed in 1.8.\n",
      "  warnings.warn(\n",
      "c:\\Users\\tjddl\\AppData\\Local\\Programs\\Python\\Python310\\lib\\site-packages\\sklearn\\utils\\deprecation.py:151: FutureWarning: 'force_all_finite' was renamed to 'ensure_all_finite' in 1.6 and will be removed in 1.8.\n",
      "  warnings.warn(\n",
      "c:\\Users\\tjddl\\AppData\\Local\\Programs\\Python\\Python310\\lib\\site-packages\\sklearn\\utils\\deprecation.py:151: FutureWarning: 'force_all_finite' was renamed to 'ensure_all_finite' in 1.6 and will be removed in 1.8.\n",
      "  warnings.warn(\n",
      "c:\\Users\\tjddl\\AppData\\Local\\Programs\\Python\\Python310\\lib\\site-packages\\sklearn\\utils\\deprecation.py:151: FutureWarning: 'force_all_finite' was renamed to 'ensure_all_finite' in 1.6 and will be removed in 1.8.\n",
      "  warnings.warn(\n",
      "c:\\Users\\tjddl\\AppData\\Local\\Programs\\Python\\Python310\\lib\\site-packages\\sklearn\\utils\\deprecation.py:151: FutureWarning: 'force_all_finite' was renamed to 'ensure_all_finite' in 1.6 and will be removed in 1.8.\n",
      "  warnings.warn(\n",
      "c:\\Users\\tjddl\\AppData\\Local\\Programs\\Python\\Python310\\lib\\site-packages\\sklearn\\utils\\deprecation.py:151: FutureWarning: 'force_all_finite' was renamed to 'ensure_all_finite' in 1.6 and will be removed in 1.8.\n",
      "  warnings.warn(\n"
     ]
    },
    {
     "name": "stdout",
     "output_type": "stream",
     "text": [
      "Mean ROC AUC: 0.7388\n"
     ]
    },
    {
     "name": "stderr",
     "output_type": "stream",
     "text": [
      "c:\\Users\\tjddl\\AppData\\Local\\Programs\\Python\\Python310\\lib\\site-packages\\sklearn\\utils\\deprecation.py:151: FutureWarning: 'force_all_finite' was renamed to 'ensure_all_finite' in 1.6 and will be removed in 1.8.\n",
      "  warnings.warn(\n"
     ]
    },
    {
     "data": {
      "text/html": [],
      "text/plain": [
       "<IPython.core.display.HTML object>"
      ]
     },
     "metadata": {},
     "output_type": "display_data"
    },
    {
     "data": {
      "text/html": [
       "<br>    <style><br>        .wandb-row {<br>            display: flex;<br>            flex-direction: row;<br>            flex-wrap: wrap;<br>            justify-content: flex-start;<br>            width: 100%;<br>        }<br>        .wandb-col {<br>            display: flex;<br>            flex-direction: column;<br>            flex-basis: 100%;<br>            flex: 1;<br>            padding: 10px;<br>        }<br>    </style><br><div class=\"wandb-row\"><div class=\"wandb-col\"><h3>Run history:</h3><br/><table class=\"wandb\"><tr><td>roc_auc</td><td>▁</td></tr></table><br/></div><div class=\"wandb-col\"><h3>Run summary:</h3><br/><table class=\"wandb\"><tr><td>roc_auc</td><td>0.73879</td></tr></table><br/></div></div>"
      ],
      "text/plain": [
       "<IPython.core.display.HTML object>"
      ]
     },
     "metadata": {},
     "output_type": "display_data"
    },
    {
     "data": {
      "text/html": [
       " View run <strong style=\"color:#cdcd00\">silver-sweep-13</strong> at: <a href='https://wandb.ai/espada105-hanseouniversity/LGaimers/runs/wndxr4uf' target=\"_blank\">https://wandb.ai/espada105-hanseouniversity/LGaimers/runs/wndxr4uf</a><br> View project at: <a href='https://wandb.ai/espada105-hanseouniversity/LGaimers' target=\"_blank\">https://wandb.ai/espada105-hanseouniversity/LGaimers</a><br>Synced 5 W&B file(s), 0 media file(s), 0 artifact file(s) and 0 other file(s)"
      ],
      "text/plain": [
       "<IPython.core.display.HTML object>"
      ]
     },
     "metadata": {},
     "output_type": "display_data"
    },
    {
     "data": {
      "text/html": [
       "Find logs at: <code>.\\wandb\\run-20250207_224348-wndxr4uf\\logs</code>"
      ],
      "text/plain": [
       "<IPython.core.display.HTML object>"
      ]
     },
     "metadata": {},
     "output_type": "display_data"
    },
    {
     "name": "stderr",
     "output_type": "stream",
     "text": [
      "\u001b[34m\u001b[1mwandb\u001b[0m: Agent Starting Run: 99jclt1r with config:\n",
      "\u001b[34m\u001b[1mwandb\u001b[0m: \tlearning_rate: 0.1\n",
      "\u001b[34m\u001b[1mwandb\u001b[0m: \tmax_depth: 5\n",
      "\u001b[34m\u001b[1mwandb\u001b[0m: \tn_estimators: 200\n"
     ]
    },
    {
     "data": {
      "text/html": [
       "Ignoring project 'LGaimers' when running a sweep."
      ],
      "text/plain": [
       "<IPython.core.display.HTML object>"
      ]
     },
     "metadata": {},
     "output_type": "display_data"
    },
    {
     "data": {
      "text/html": [
       "Ignoring entity 'espada105-hanseouniversity' when running a sweep."
      ],
      "text/plain": [
       "<IPython.core.display.HTML object>"
      ]
     },
     "metadata": {},
     "output_type": "display_data"
    },
    {
     "data": {
      "text/html": [
       "Tracking run with wandb version 0.19.6"
      ],
      "text/plain": [
       "<IPython.core.display.HTML object>"
      ]
     },
     "metadata": {},
     "output_type": "display_data"
    },
    {
     "data": {
      "text/html": [
       "Run data is saved locally in <code>c:\\GitHubRepo\\AI_Predicting_Pregnancy_Success\\HongSeongIn\\wandb\\run-20250207_224404-99jclt1r</code>"
      ],
      "text/plain": [
       "<IPython.core.display.HTML object>"
      ]
     },
     "metadata": {},
     "output_type": "display_data"
    },
    {
     "data": {
      "text/html": [
       "Syncing run <strong><a href='https://wandb.ai/espada105-hanseouniversity/LGaimers/runs/99jclt1r' target=\"_blank\">sage-sweep-14</a></strong> to <a href='https://wandb.ai/espada105-hanseouniversity/LGaimers' target=\"_blank\">Weights & Biases</a> (<a href='https://wandb.me/developer-guide' target=\"_blank\">docs</a>)<br>Sweep page: <a href='https://wandb.ai/espada105-hanseouniversity/LGaimers/sweeps/d6kdsk99' target=\"_blank\">https://wandb.ai/espada105-hanseouniversity/LGaimers/sweeps/d6kdsk99</a>"
      ],
      "text/plain": [
       "<IPython.core.display.HTML object>"
      ]
     },
     "metadata": {},
     "output_type": "display_data"
    },
    {
     "data": {
      "text/html": [
       " View project at <a href='https://wandb.ai/espada105-hanseouniversity/LGaimers' target=\"_blank\">https://wandb.ai/espada105-hanseouniversity/LGaimers</a>"
      ],
      "text/plain": [
       "<IPython.core.display.HTML object>"
      ]
     },
     "metadata": {},
     "output_type": "display_data"
    },
    {
     "data": {
      "text/html": [
       " View sweep at <a href='https://wandb.ai/espada105-hanseouniversity/LGaimers/sweeps/d6kdsk99' target=\"_blank\">https://wandb.ai/espada105-hanseouniversity/LGaimers/sweeps/d6kdsk99</a>"
      ],
      "text/plain": [
       "<IPython.core.display.HTML object>"
      ]
     },
     "metadata": {},
     "output_type": "display_data"
    },
    {
     "data": {
      "text/html": [
       " View run at <a href='https://wandb.ai/espada105-hanseouniversity/LGaimers/runs/99jclt1r' target=\"_blank\">https://wandb.ai/espada105-hanseouniversity/LGaimers/runs/99jclt1r</a>"
      ],
      "text/plain": [
       "<IPython.core.display.HTML object>"
      ]
     },
     "metadata": {},
     "output_type": "display_data"
    },
    {
     "name": "stderr",
     "output_type": "stream",
     "text": [
      "c:\\Users\\tjddl\\AppData\\Local\\Programs\\Python\\Python310\\lib\\site-packages\\sklearn\\utils\\deprecation.py:151: FutureWarning: 'force_all_finite' was renamed to 'ensure_all_finite' in 1.6 and will be removed in 1.8.\n",
      "  warnings.warn(\n",
      "c:\\Users\\tjddl\\AppData\\Local\\Programs\\Python\\Python310\\lib\\site-packages\\sklearn\\utils\\deprecation.py:151: FutureWarning: 'force_all_finite' was renamed to 'ensure_all_finite' in 1.6 and will be removed in 1.8.\n",
      "  warnings.warn(\n",
      "c:\\Users\\tjddl\\AppData\\Local\\Programs\\Python\\Python310\\lib\\site-packages\\sklearn\\utils\\deprecation.py:151: FutureWarning: 'force_all_finite' was renamed to 'ensure_all_finite' in 1.6 and will be removed in 1.8.\n",
      "  warnings.warn(\n",
      "c:\\Users\\tjddl\\AppData\\Local\\Programs\\Python\\Python310\\lib\\site-packages\\sklearn\\utils\\deprecation.py:151: FutureWarning: 'force_all_finite' was renamed to 'ensure_all_finite' in 1.6 and will be removed in 1.8.\n",
      "  warnings.warn(\n",
      "c:\\Users\\tjddl\\AppData\\Local\\Programs\\Python\\Python310\\lib\\site-packages\\sklearn\\utils\\deprecation.py:151: FutureWarning: 'force_all_finite' was renamed to 'ensure_all_finite' in 1.6 and will be removed in 1.8.\n",
      "  warnings.warn(\n",
      "c:\\Users\\tjddl\\AppData\\Local\\Programs\\Python\\Python310\\lib\\site-packages\\sklearn\\utils\\deprecation.py:151: FutureWarning: 'force_all_finite' was renamed to 'ensure_all_finite' in 1.6 and will be removed in 1.8.\n",
      "  warnings.warn(\n",
      "c:\\Users\\tjddl\\AppData\\Local\\Programs\\Python\\Python310\\lib\\site-packages\\sklearn\\utils\\deprecation.py:151: FutureWarning: 'force_all_finite' was renamed to 'ensure_all_finite' in 1.6 and will be removed in 1.8.\n",
      "  warnings.warn(\n",
      "c:\\Users\\tjddl\\AppData\\Local\\Programs\\Python\\Python310\\lib\\site-packages\\sklearn\\utils\\deprecation.py:151: FutureWarning: 'force_all_finite' was renamed to 'ensure_all_finite' in 1.6 and will be removed in 1.8.\n",
      "  warnings.warn(\n",
      "c:\\Users\\tjddl\\AppData\\Local\\Programs\\Python\\Python310\\lib\\site-packages\\sklearn\\utils\\deprecation.py:151: FutureWarning: 'force_all_finite' was renamed to 'ensure_all_finite' in 1.6 and will be removed in 1.8.\n",
      "  warnings.warn(\n"
     ]
    },
    {
     "name": "stdout",
     "output_type": "stream",
     "text": [
      "Mean ROC AUC: 0.7389\n"
     ]
    },
    {
     "name": "stderr",
     "output_type": "stream",
     "text": [
      "c:\\Users\\tjddl\\AppData\\Local\\Programs\\Python\\Python310\\lib\\site-packages\\sklearn\\utils\\deprecation.py:151: FutureWarning: 'force_all_finite' was renamed to 'ensure_all_finite' in 1.6 and will be removed in 1.8.\n",
      "  warnings.warn(\n"
     ]
    },
    {
     "data": {
      "text/html": [],
      "text/plain": [
       "<IPython.core.display.HTML object>"
      ]
     },
     "metadata": {},
     "output_type": "display_data"
    },
    {
     "data": {
      "text/html": [
       "<br>    <style><br>        .wandb-row {<br>            display: flex;<br>            flex-direction: row;<br>            flex-wrap: wrap;<br>            justify-content: flex-start;<br>            width: 100%;<br>        }<br>        .wandb-col {<br>            display: flex;<br>            flex-direction: column;<br>            flex-basis: 100%;<br>            flex: 1;<br>            padding: 10px;<br>        }<br>    </style><br><div class=\"wandb-row\"><div class=\"wandb-col\"><h3>Run history:</h3><br/><table class=\"wandb\"><tr><td>roc_auc</td><td>▁</td></tr></table><br/></div><div class=\"wandb-col\"><h3>Run summary:</h3><br/><table class=\"wandb\"><tr><td>roc_auc</td><td>0.73887</td></tr></table><br/></div></div>"
      ],
      "text/plain": [
       "<IPython.core.display.HTML object>"
      ]
     },
     "metadata": {},
     "output_type": "display_data"
    },
    {
     "data": {
      "text/html": [
       " View run <strong style=\"color:#cdcd00\">sage-sweep-14</strong> at: <a href='https://wandb.ai/espada105-hanseouniversity/LGaimers/runs/99jclt1r' target=\"_blank\">https://wandb.ai/espada105-hanseouniversity/LGaimers/runs/99jclt1r</a><br> View project at: <a href='https://wandb.ai/espada105-hanseouniversity/LGaimers' target=\"_blank\">https://wandb.ai/espada105-hanseouniversity/LGaimers</a><br>Synced 5 W&B file(s), 0 media file(s), 0 artifact file(s) and 0 other file(s)"
      ],
      "text/plain": [
       "<IPython.core.display.HTML object>"
      ]
     },
     "metadata": {},
     "output_type": "display_data"
    },
    {
     "data": {
      "text/html": [
       "Find logs at: <code>.\\wandb\\run-20250207_224404-99jclt1r\\logs</code>"
      ],
      "text/plain": [
       "<IPython.core.display.HTML object>"
      ]
     },
     "metadata": {},
     "output_type": "display_data"
    },
    {
     "name": "stderr",
     "output_type": "stream",
     "text": [
      "\u001b[34m\u001b[1mwandb\u001b[0m: Agent Starting Run: vg76vuex with config:\n",
      "\u001b[34m\u001b[1mwandb\u001b[0m: \tlearning_rate: 0.1\n",
      "\u001b[34m\u001b[1mwandb\u001b[0m: \tmax_depth: 7\n",
      "\u001b[34m\u001b[1mwandb\u001b[0m: \tn_estimators: 100\n"
     ]
    },
    {
     "data": {
      "text/html": [
       "Ignoring project 'LGaimers' when running a sweep."
      ],
      "text/plain": [
       "<IPython.core.display.HTML object>"
      ]
     },
     "metadata": {},
     "output_type": "display_data"
    },
    {
     "data": {
      "text/html": [
       "Ignoring entity 'espada105-hanseouniversity' when running a sweep."
      ],
      "text/plain": [
       "<IPython.core.display.HTML object>"
      ]
     },
     "metadata": {},
     "output_type": "display_data"
    },
    {
     "data": {
      "text/html": [
       "Tracking run with wandb version 0.19.6"
      ],
      "text/plain": [
       "<IPython.core.display.HTML object>"
      ]
     },
     "metadata": {},
     "output_type": "display_data"
    },
    {
     "data": {
      "text/html": [
       "Run data is saved locally in <code>c:\\GitHubRepo\\AI_Predicting_Pregnancy_Success\\HongSeongIn\\wandb\\run-20250207_224425-vg76vuex</code>"
      ],
      "text/plain": [
       "<IPython.core.display.HTML object>"
      ]
     },
     "metadata": {},
     "output_type": "display_data"
    },
    {
     "data": {
      "text/html": [
       "Syncing run <strong><a href='https://wandb.ai/espada105-hanseouniversity/LGaimers/runs/vg76vuex' target=\"_blank\">giddy-sweep-15</a></strong> to <a href='https://wandb.ai/espada105-hanseouniversity/LGaimers' target=\"_blank\">Weights & Biases</a> (<a href='https://wandb.me/developer-guide' target=\"_blank\">docs</a>)<br>Sweep page: <a href='https://wandb.ai/espada105-hanseouniversity/LGaimers/sweeps/d6kdsk99' target=\"_blank\">https://wandb.ai/espada105-hanseouniversity/LGaimers/sweeps/d6kdsk99</a>"
      ],
      "text/plain": [
       "<IPython.core.display.HTML object>"
      ]
     },
     "metadata": {},
     "output_type": "display_data"
    },
    {
     "data": {
      "text/html": [
       " View project at <a href='https://wandb.ai/espada105-hanseouniversity/LGaimers' target=\"_blank\">https://wandb.ai/espada105-hanseouniversity/LGaimers</a>"
      ],
      "text/plain": [
       "<IPython.core.display.HTML object>"
      ]
     },
     "metadata": {},
     "output_type": "display_data"
    },
    {
     "data": {
      "text/html": [
       " View sweep at <a href='https://wandb.ai/espada105-hanseouniversity/LGaimers/sweeps/d6kdsk99' target=\"_blank\">https://wandb.ai/espada105-hanseouniversity/LGaimers/sweeps/d6kdsk99</a>"
      ],
      "text/plain": [
       "<IPython.core.display.HTML object>"
      ]
     },
     "metadata": {},
     "output_type": "display_data"
    },
    {
     "data": {
      "text/html": [
       " View run at <a href='https://wandb.ai/espada105-hanseouniversity/LGaimers/runs/vg76vuex' target=\"_blank\">https://wandb.ai/espada105-hanseouniversity/LGaimers/runs/vg76vuex</a>"
      ],
      "text/plain": [
       "<IPython.core.display.HTML object>"
      ]
     },
     "metadata": {},
     "output_type": "display_data"
    },
    {
     "name": "stderr",
     "output_type": "stream",
     "text": [
      "c:\\Users\\tjddl\\AppData\\Local\\Programs\\Python\\Python310\\lib\\site-packages\\sklearn\\utils\\deprecation.py:151: FutureWarning: 'force_all_finite' was renamed to 'ensure_all_finite' in 1.6 and will be removed in 1.8.\n",
      "  warnings.warn(\n",
      "c:\\Users\\tjddl\\AppData\\Local\\Programs\\Python\\Python310\\lib\\site-packages\\sklearn\\utils\\deprecation.py:151: FutureWarning: 'force_all_finite' was renamed to 'ensure_all_finite' in 1.6 and will be removed in 1.8.\n",
      "  warnings.warn(\n",
      "c:\\Users\\tjddl\\AppData\\Local\\Programs\\Python\\Python310\\lib\\site-packages\\sklearn\\utils\\deprecation.py:151: FutureWarning: 'force_all_finite' was renamed to 'ensure_all_finite' in 1.6 and will be removed in 1.8.\n",
      "  warnings.warn(\n",
      "c:\\Users\\tjddl\\AppData\\Local\\Programs\\Python\\Python310\\lib\\site-packages\\sklearn\\utils\\deprecation.py:151: FutureWarning: 'force_all_finite' was renamed to 'ensure_all_finite' in 1.6 and will be removed in 1.8.\n",
      "  warnings.warn(\n",
      "c:\\Users\\tjddl\\AppData\\Local\\Programs\\Python\\Python310\\lib\\site-packages\\sklearn\\utils\\deprecation.py:151: FutureWarning: 'force_all_finite' was renamed to 'ensure_all_finite' in 1.6 and will be removed in 1.8.\n",
      "  warnings.warn(\n",
      "c:\\Users\\tjddl\\AppData\\Local\\Programs\\Python\\Python310\\lib\\site-packages\\sklearn\\utils\\deprecation.py:151: FutureWarning: 'force_all_finite' was renamed to 'ensure_all_finite' in 1.6 and will be removed in 1.8.\n",
      "  warnings.warn(\n",
      "c:\\Users\\tjddl\\AppData\\Local\\Programs\\Python\\Python310\\lib\\site-packages\\sklearn\\utils\\deprecation.py:151: FutureWarning: 'force_all_finite' was renamed to 'ensure_all_finite' in 1.6 and will be removed in 1.8.\n",
      "  warnings.warn(\n",
      "c:\\Users\\tjddl\\AppData\\Local\\Programs\\Python\\Python310\\lib\\site-packages\\sklearn\\utils\\deprecation.py:151: FutureWarning: 'force_all_finite' was renamed to 'ensure_all_finite' in 1.6 and will be removed in 1.8.\n",
      "  warnings.warn(\n",
      "c:\\Users\\tjddl\\AppData\\Local\\Programs\\Python\\Python310\\lib\\site-packages\\sklearn\\utils\\deprecation.py:151: FutureWarning: 'force_all_finite' was renamed to 'ensure_all_finite' in 1.6 and will be removed in 1.8.\n",
      "  warnings.warn(\n"
     ]
    },
    {
     "name": "stdout",
     "output_type": "stream",
     "text": [
      "Mean ROC AUC: 0.7392\n"
     ]
    },
    {
     "name": "stderr",
     "output_type": "stream",
     "text": [
      "c:\\Users\\tjddl\\AppData\\Local\\Programs\\Python\\Python310\\lib\\site-packages\\sklearn\\utils\\deprecation.py:151: FutureWarning: 'force_all_finite' was renamed to 'ensure_all_finite' in 1.6 and will be removed in 1.8.\n",
      "  warnings.warn(\n"
     ]
    },
    {
     "data": {
      "text/html": [],
      "text/plain": [
       "<IPython.core.display.HTML object>"
      ]
     },
     "metadata": {},
     "output_type": "display_data"
    },
    {
     "data": {
      "text/html": [
       "<br>    <style><br>        .wandb-row {<br>            display: flex;<br>            flex-direction: row;<br>            flex-wrap: wrap;<br>            justify-content: flex-start;<br>            width: 100%;<br>        }<br>        .wandb-col {<br>            display: flex;<br>            flex-direction: column;<br>            flex-basis: 100%;<br>            flex: 1;<br>            padding: 10px;<br>        }<br>    </style><br><div class=\"wandb-row\"><div class=\"wandb-col\"><h3>Run history:</h3><br/><table class=\"wandb\"><tr><td>roc_auc</td><td>▁</td></tr></table><br/></div><div class=\"wandb-col\"><h3>Run summary:</h3><br/><table class=\"wandb\"><tr><td>roc_auc</td><td>0.73921</td></tr></table><br/></div></div>"
      ],
      "text/plain": [
       "<IPython.core.display.HTML object>"
      ]
     },
     "metadata": {},
     "output_type": "display_data"
    },
    {
     "data": {
      "text/html": [
       " View run <strong style=\"color:#cdcd00\">giddy-sweep-15</strong> at: <a href='https://wandb.ai/espada105-hanseouniversity/LGaimers/runs/vg76vuex' target=\"_blank\">https://wandb.ai/espada105-hanseouniversity/LGaimers/runs/vg76vuex</a><br> View project at: <a href='https://wandb.ai/espada105-hanseouniversity/LGaimers' target=\"_blank\">https://wandb.ai/espada105-hanseouniversity/LGaimers</a><br>Synced 5 W&B file(s), 0 media file(s), 0 artifact file(s) and 0 other file(s)"
      ],
      "text/plain": [
       "<IPython.core.display.HTML object>"
      ]
     },
     "metadata": {},
     "output_type": "display_data"
    },
    {
     "data": {
      "text/html": [
       "Find logs at: <code>.\\wandb\\run-20250207_224425-vg76vuex\\logs</code>"
      ],
      "text/plain": [
       "<IPython.core.display.HTML object>"
      ]
     },
     "metadata": {},
     "output_type": "display_data"
    },
    {
     "name": "stderr",
     "output_type": "stream",
     "text": [
      "\u001b[34m\u001b[1mwandb\u001b[0m: Agent Starting Run: h15mbceg with config:\n",
      "\u001b[34m\u001b[1mwandb\u001b[0m: \tlearning_rate: 0.1\n",
      "\u001b[34m\u001b[1mwandb\u001b[0m: \tmax_depth: 7\n",
      "\u001b[34m\u001b[1mwandb\u001b[0m: \tn_estimators: 200\n"
     ]
    },
    {
     "data": {
      "text/html": [
       "Ignoring project 'LGaimers' when running a sweep."
      ],
      "text/plain": [
       "<IPython.core.display.HTML object>"
      ]
     },
     "metadata": {},
     "output_type": "display_data"
    },
    {
     "data": {
      "text/html": [
       "Ignoring entity 'espada105-hanseouniversity' when running a sweep."
      ],
      "text/plain": [
       "<IPython.core.display.HTML object>"
      ]
     },
     "metadata": {},
     "output_type": "display_data"
    },
    {
     "data": {
      "text/html": [
       "Tracking run with wandb version 0.19.6"
      ],
      "text/plain": [
       "<IPython.core.display.HTML object>"
      ]
     },
     "metadata": {},
     "output_type": "display_data"
    },
    {
     "data": {
      "text/html": [
       "Run data is saved locally in <code>c:\\GitHubRepo\\AI_Predicting_Pregnancy_Success\\HongSeongIn\\wandb\\run-20250207_224441-h15mbceg</code>"
      ],
      "text/plain": [
       "<IPython.core.display.HTML object>"
      ]
     },
     "metadata": {},
     "output_type": "display_data"
    },
    {
     "data": {
      "text/html": [
       "Syncing run <strong><a href='https://wandb.ai/espada105-hanseouniversity/LGaimers/runs/h15mbceg' target=\"_blank\">rural-sweep-16</a></strong> to <a href='https://wandb.ai/espada105-hanseouniversity/LGaimers' target=\"_blank\">Weights & Biases</a> (<a href='https://wandb.me/developer-guide' target=\"_blank\">docs</a>)<br>Sweep page: <a href='https://wandb.ai/espada105-hanseouniversity/LGaimers/sweeps/d6kdsk99' target=\"_blank\">https://wandb.ai/espada105-hanseouniversity/LGaimers/sweeps/d6kdsk99</a>"
      ],
      "text/plain": [
       "<IPython.core.display.HTML object>"
      ]
     },
     "metadata": {},
     "output_type": "display_data"
    },
    {
     "data": {
      "text/html": [
       " View project at <a href='https://wandb.ai/espada105-hanseouniversity/LGaimers' target=\"_blank\">https://wandb.ai/espada105-hanseouniversity/LGaimers</a>"
      ],
      "text/plain": [
       "<IPython.core.display.HTML object>"
      ]
     },
     "metadata": {},
     "output_type": "display_data"
    },
    {
     "data": {
      "text/html": [
       " View sweep at <a href='https://wandb.ai/espada105-hanseouniversity/LGaimers/sweeps/d6kdsk99' target=\"_blank\">https://wandb.ai/espada105-hanseouniversity/LGaimers/sweeps/d6kdsk99</a>"
      ],
      "text/plain": [
       "<IPython.core.display.HTML object>"
      ]
     },
     "metadata": {},
     "output_type": "display_data"
    },
    {
     "data": {
      "text/html": [
       " View run at <a href='https://wandb.ai/espada105-hanseouniversity/LGaimers/runs/h15mbceg' target=\"_blank\">https://wandb.ai/espada105-hanseouniversity/LGaimers/runs/h15mbceg</a>"
      ],
      "text/plain": [
       "<IPython.core.display.HTML object>"
      ]
     },
     "metadata": {},
     "output_type": "display_data"
    },
    {
     "name": "stderr",
     "output_type": "stream",
     "text": [
      "c:\\Users\\tjddl\\AppData\\Local\\Programs\\Python\\Python310\\lib\\site-packages\\sklearn\\utils\\deprecation.py:151: FutureWarning: 'force_all_finite' was renamed to 'ensure_all_finite' in 1.6 and will be removed in 1.8.\n",
      "  warnings.warn(\n",
      "c:\\Users\\tjddl\\AppData\\Local\\Programs\\Python\\Python310\\lib\\site-packages\\sklearn\\utils\\deprecation.py:151: FutureWarning: 'force_all_finite' was renamed to 'ensure_all_finite' in 1.6 and will be removed in 1.8.\n",
      "  warnings.warn(\n",
      "c:\\Users\\tjddl\\AppData\\Local\\Programs\\Python\\Python310\\lib\\site-packages\\sklearn\\utils\\deprecation.py:151: FutureWarning: 'force_all_finite' was renamed to 'ensure_all_finite' in 1.6 and will be removed in 1.8.\n",
      "  warnings.warn(\n",
      "c:\\Users\\tjddl\\AppData\\Local\\Programs\\Python\\Python310\\lib\\site-packages\\sklearn\\utils\\deprecation.py:151: FutureWarning: 'force_all_finite' was renamed to 'ensure_all_finite' in 1.6 and will be removed in 1.8.\n",
      "  warnings.warn(\n",
      "c:\\Users\\tjddl\\AppData\\Local\\Programs\\Python\\Python310\\lib\\site-packages\\sklearn\\utils\\deprecation.py:151: FutureWarning: 'force_all_finite' was renamed to 'ensure_all_finite' in 1.6 and will be removed in 1.8.\n",
      "  warnings.warn(\n",
      "c:\\Users\\tjddl\\AppData\\Local\\Programs\\Python\\Python310\\lib\\site-packages\\sklearn\\utils\\deprecation.py:151: FutureWarning: 'force_all_finite' was renamed to 'ensure_all_finite' in 1.6 and will be removed in 1.8.\n",
      "  warnings.warn(\n",
      "c:\\Users\\tjddl\\AppData\\Local\\Programs\\Python\\Python310\\lib\\site-packages\\sklearn\\utils\\deprecation.py:151: FutureWarning: 'force_all_finite' was renamed to 'ensure_all_finite' in 1.6 and will be removed in 1.8.\n",
      "  warnings.warn(\n",
      "c:\\Users\\tjddl\\AppData\\Local\\Programs\\Python\\Python310\\lib\\site-packages\\sklearn\\utils\\deprecation.py:151: FutureWarning: 'force_all_finite' was renamed to 'ensure_all_finite' in 1.6 and will be removed in 1.8.\n",
      "  warnings.warn(\n",
      "c:\\Users\\tjddl\\AppData\\Local\\Programs\\Python\\Python310\\lib\\site-packages\\sklearn\\utils\\deprecation.py:151: FutureWarning: 'force_all_finite' was renamed to 'ensure_all_finite' in 1.6 and will be removed in 1.8.\n",
      "  warnings.warn(\n"
     ]
    },
    {
     "name": "stdout",
     "output_type": "stream",
     "text": [
      "Mean ROC AUC: 0.7388\n"
     ]
    },
    {
     "name": "stderr",
     "output_type": "stream",
     "text": [
      "c:\\Users\\tjddl\\AppData\\Local\\Programs\\Python\\Python310\\lib\\site-packages\\sklearn\\utils\\deprecation.py:151: FutureWarning: 'force_all_finite' was renamed to 'ensure_all_finite' in 1.6 and will be removed in 1.8.\n",
      "  warnings.warn(\n"
     ]
    },
    {
     "data": {
      "text/html": [],
      "text/plain": [
       "<IPython.core.display.HTML object>"
      ]
     },
     "metadata": {},
     "output_type": "display_data"
    },
    {
     "data": {
      "text/html": [
       "<br>    <style><br>        .wandb-row {<br>            display: flex;<br>            flex-direction: row;<br>            flex-wrap: wrap;<br>            justify-content: flex-start;<br>            width: 100%;<br>        }<br>        .wandb-col {<br>            display: flex;<br>            flex-direction: column;<br>            flex-basis: 100%;<br>            flex: 1;<br>            padding: 10px;<br>        }<br>    </style><br><div class=\"wandb-row\"><div class=\"wandb-col\"><h3>Run history:</h3><br/><table class=\"wandb\"><tr><td>roc_auc</td><td>▁</td></tr></table><br/></div><div class=\"wandb-col\"><h3>Run summary:</h3><br/><table class=\"wandb\"><tr><td>roc_auc</td><td>0.73878</td></tr></table><br/></div></div>"
      ],
      "text/plain": [
       "<IPython.core.display.HTML object>"
      ]
     },
     "metadata": {},
     "output_type": "display_data"
    },
    {
     "data": {
      "text/html": [
       " View run <strong style=\"color:#cdcd00\">rural-sweep-16</strong> at: <a href='https://wandb.ai/espada105-hanseouniversity/LGaimers/runs/h15mbceg' target=\"_blank\">https://wandb.ai/espada105-hanseouniversity/LGaimers/runs/h15mbceg</a><br> View project at: <a href='https://wandb.ai/espada105-hanseouniversity/LGaimers' target=\"_blank\">https://wandb.ai/espada105-hanseouniversity/LGaimers</a><br>Synced 5 W&B file(s), 0 media file(s), 0 artifact file(s) and 0 other file(s)"
      ],
      "text/plain": [
       "<IPython.core.display.HTML object>"
      ]
     },
     "metadata": {},
     "output_type": "display_data"
    },
    {
     "data": {
      "text/html": [
       "Find logs at: <code>.\\wandb\\run-20250207_224441-h15mbceg\\logs</code>"
      ],
      "text/plain": [
       "<IPython.core.display.HTML object>"
      ]
     },
     "metadata": {},
     "output_type": "display_data"
    },
    {
     "name": "stderr",
     "output_type": "stream",
     "text": [
      "\u001b[34m\u001b[1mwandb\u001b[0m: Agent Starting Run: u20ullj1 with config:\n",
      "\u001b[34m\u001b[1mwandb\u001b[0m: \tlearning_rate: 0.1\n",
      "\u001b[34m\u001b[1mwandb\u001b[0m: \tmax_depth: 10\n",
      "\u001b[34m\u001b[1mwandb\u001b[0m: \tn_estimators: 100\n"
     ]
    },
    {
     "data": {
      "text/html": [
       "Ignoring project 'LGaimers' when running a sweep."
      ],
      "text/plain": [
       "<IPython.core.display.HTML object>"
      ]
     },
     "metadata": {},
     "output_type": "display_data"
    },
    {
     "data": {
      "text/html": [
       "Ignoring entity 'espada105-hanseouniversity' when running a sweep."
      ],
      "text/plain": [
       "<IPython.core.display.HTML object>"
      ]
     },
     "metadata": {},
     "output_type": "display_data"
    },
    {
     "data": {
      "text/html": [
       "Tracking run with wandb version 0.19.6"
      ],
      "text/plain": [
       "<IPython.core.display.HTML object>"
      ]
     },
     "metadata": {},
     "output_type": "display_data"
    },
    {
     "data": {
      "text/html": [
       "Run data is saved locally in <code>c:\\GitHubRepo\\AI_Predicting_Pregnancy_Success\\HongSeongIn\\wandb\\run-20250207_224502-u20ullj1</code>"
      ],
      "text/plain": [
       "<IPython.core.display.HTML object>"
      ]
     },
     "metadata": {},
     "output_type": "display_data"
    },
    {
     "data": {
      "text/html": [
       "Syncing run <strong><a href='https://wandb.ai/espada105-hanseouniversity/LGaimers/runs/u20ullj1' target=\"_blank\">sunny-sweep-17</a></strong> to <a href='https://wandb.ai/espada105-hanseouniversity/LGaimers' target=\"_blank\">Weights & Biases</a> (<a href='https://wandb.me/developer-guide' target=\"_blank\">docs</a>)<br>Sweep page: <a href='https://wandb.ai/espada105-hanseouniversity/LGaimers/sweeps/d6kdsk99' target=\"_blank\">https://wandb.ai/espada105-hanseouniversity/LGaimers/sweeps/d6kdsk99</a>"
      ],
      "text/plain": [
       "<IPython.core.display.HTML object>"
      ]
     },
     "metadata": {},
     "output_type": "display_data"
    },
    {
     "data": {
      "text/html": [
       " View project at <a href='https://wandb.ai/espada105-hanseouniversity/LGaimers' target=\"_blank\">https://wandb.ai/espada105-hanseouniversity/LGaimers</a>"
      ],
      "text/plain": [
       "<IPython.core.display.HTML object>"
      ]
     },
     "metadata": {},
     "output_type": "display_data"
    },
    {
     "data": {
      "text/html": [
       " View sweep at <a href='https://wandb.ai/espada105-hanseouniversity/LGaimers/sweeps/d6kdsk99' target=\"_blank\">https://wandb.ai/espada105-hanseouniversity/LGaimers/sweeps/d6kdsk99</a>"
      ],
      "text/plain": [
       "<IPython.core.display.HTML object>"
      ]
     },
     "metadata": {},
     "output_type": "display_data"
    },
    {
     "data": {
      "text/html": [
       " View run at <a href='https://wandb.ai/espada105-hanseouniversity/LGaimers/runs/u20ullj1' target=\"_blank\">https://wandb.ai/espada105-hanseouniversity/LGaimers/runs/u20ullj1</a>"
      ],
      "text/plain": [
       "<IPython.core.display.HTML object>"
      ]
     },
     "metadata": {},
     "output_type": "display_data"
    },
    {
     "name": "stderr",
     "output_type": "stream",
     "text": [
      "c:\\Users\\tjddl\\AppData\\Local\\Programs\\Python\\Python310\\lib\\site-packages\\sklearn\\utils\\deprecation.py:151: FutureWarning: 'force_all_finite' was renamed to 'ensure_all_finite' in 1.6 and will be removed in 1.8.\n",
      "  warnings.warn(\n",
      "c:\\Users\\tjddl\\AppData\\Local\\Programs\\Python\\Python310\\lib\\site-packages\\sklearn\\utils\\deprecation.py:151: FutureWarning: 'force_all_finite' was renamed to 'ensure_all_finite' in 1.6 and will be removed in 1.8.\n",
      "  warnings.warn(\n",
      "c:\\Users\\tjddl\\AppData\\Local\\Programs\\Python\\Python310\\lib\\site-packages\\sklearn\\utils\\deprecation.py:151: FutureWarning: 'force_all_finite' was renamed to 'ensure_all_finite' in 1.6 and will be removed in 1.8.\n",
      "  warnings.warn(\n",
      "c:\\Users\\tjddl\\AppData\\Local\\Programs\\Python\\Python310\\lib\\site-packages\\sklearn\\utils\\deprecation.py:151: FutureWarning: 'force_all_finite' was renamed to 'ensure_all_finite' in 1.6 and will be removed in 1.8.\n",
      "  warnings.warn(\n",
      "c:\\Users\\tjddl\\AppData\\Local\\Programs\\Python\\Python310\\lib\\site-packages\\sklearn\\utils\\deprecation.py:151: FutureWarning: 'force_all_finite' was renamed to 'ensure_all_finite' in 1.6 and will be removed in 1.8.\n",
      "  warnings.warn(\n",
      "c:\\Users\\tjddl\\AppData\\Local\\Programs\\Python\\Python310\\lib\\site-packages\\sklearn\\utils\\deprecation.py:151: FutureWarning: 'force_all_finite' was renamed to 'ensure_all_finite' in 1.6 and will be removed in 1.8.\n",
      "  warnings.warn(\n",
      "c:\\Users\\tjddl\\AppData\\Local\\Programs\\Python\\Python310\\lib\\site-packages\\sklearn\\utils\\deprecation.py:151: FutureWarning: 'force_all_finite' was renamed to 'ensure_all_finite' in 1.6 and will be removed in 1.8.\n",
      "  warnings.warn(\n",
      "c:\\Users\\tjddl\\AppData\\Local\\Programs\\Python\\Python310\\lib\\site-packages\\sklearn\\utils\\deprecation.py:151: FutureWarning: 'force_all_finite' was renamed to 'ensure_all_finite' in 1.6 and will be removed in 1.8.\n",
      "  warnings.warn(\n",
      "c:\\Users\\tjddl\\AppData\\Local\\Programs\\Python\\Python310\\lib\\site-packages\\sklearn\\utils\\deprecation.py:151: FutureWarning: 'force_all_finite' was renamed to 'ensure_all_finite' in 1.6 and will be removed in 1.8.\n",
      "  warnings.warn(\n"
     ]
    },
    {
     "name": "stdout",
     "output_type": "stream",
     "text": [
      "Mean ROC AUC: 0.7394\n"
     ]
    },
    {
     "name": "stderr",
     "output_type": "stream",
     "text": [
      "c:\\Users\\tjddl\\AppData\\Local\\Programs\\Python\\Python310\\lib\\site-packages\\sklearn\\utils\\deprecation.py:151: FutureWarning: 'force_all_finite' was renamed to 'ensure_all_finite' in 1.6 and will be removed in 1.8.\n",
      "  warnings.warn(\n"
     ]
    },
    {
     "data": {
      "text/html": [],
      "text/plain": [
       "<IPython.core.display.HTML object>"
      ]
     },
     "metadata": {},
     "output_type": "display_data"
    },
    {
     "data": {
      "text/html": [
       "<br>    <style><br>        .wandb-row {<br>            display: flex;<br>            flex-direction: row;<br>            flex-wrap: wrap;<br>            justify-content: flex-start;<br>            width: 100%;<br>        }<br>        .wandb-col {<br>            display: flex;<br>            flex-direction: column;<br>            flex-basis: 100%;<br>            flex: 1;<br>            padding: 10px;<br>        }<br>    </style><br><div class=\"wandb-row\"><div class=\"wandb-col\"><h3>Run history:</h3><br/><table class=\"wandb\"><tr><td>roc_auc</td><td>▁</td></tr></table><br/></div><div class=\"wandb-col\"><h3>Run summary:</h3><br/><table class=\"wandb\"><tr><td>roc_auc</td><td>0.73938</td></tr></table><br/></div></div>"
      ],
      "text/plain": [
       "<IPython.core.display.HTML object>"
      ]
     },
     "metadata": {},
     "output_type": "display_data"
    },
    {
     "data": {
      "text/html": [
       " View run <strong style=\"color:#cdcd00\">sunny-sweep-17</strong> at: <a href='https://wandb.ai/espada105-hanseouniversity/LGaimers/runs/u20ullj1' target=\"_blank\">https://wandb.ai/espada105-hanseouniversity/LGaimers/runs/u20ullj1</a><br> View project at: <a href='https://wandb.ai/espada105-hanseouniversity/LGaimers' target=\"_blank\">https://wandb.ai/espada105-hanseouniversity/LGaimers</a><br>Synced 5 W&B file(s), 0 media file(s), 0 artifact file(s) and 0 other file(s)"
      ],
      "text/plain": [
       "<IPython.core.display.HTML object>"
      ]
     },
     "metadata": {},
     "output_type": "display_data"
    },
    {
     "data": {
      "text/html": [
       "Find logs at: <code>.\\wandb\\run-20250207_224502-u20ullj1\\logs</code>"
      ],
      "text/plain": [
       "<IPython.core.display.HTML object>"
      ]
     },
     "metadata": {},
     "output_type": "display_data"
    },
    {
     "name": "stderr",
     "output_type": "stream",
     "text": [
      "\u001b[34m\u001b[1mwandb\u001b[0m: Sweep Agent: Waiting for job.\n",
      "\u001b[34m\u001b[1mwandb\u001b[0m: Job received.\n",
      "\u001b[34m\u001b[1mwandb\u001b[0m: Agent Starting Run: 8ea6inl9 with config:\n",
      "\u001b[34m\u001b[1mwandb\u001b[0m: \tlearning_rate: 0.1\n",
      "\u001b[34m\u001b[1mwandb\u001b[0m: \tmax_depth: 10\n",
      "\u001b[34m\u001b[1mwandb\u001b[0m: \tn_estimators: 200\n"
     ]
    },
    {
     "data": {
      "text/html": [
       "Ignoring project 'LGaimers' when running a sweep."
      ],
      "text/plain": [
       "<IPython.core.display.HTML object>"
      ]
     },
     "metadata": {},
     "output_type": "display_data"
    },
    {
     "data": {
      "text/html": [
       "Ignoring entity 'espada105-hanseouniversity' when running a sweep."
      ],
      "text/plain": [
       "<IPython.core.display.HTML object>"
      ]
     },
     "metadata": {},
     "output_type": "display_data"
    },
    {
     "data": {
      "text/html": [
       "Tracking run with wandb version 0.19.6"
      ],
      "text/plain": [
       "<IPython.core.display.HTML object>"
      ]
     },
     "metadata": {},
     "output_type": "display_data"
    },
    {
     "data": {
      "text/html": [
       "Run data is saved locally in <code>c:\\GitHubRepo\\AI_Predicting_Pregnancy_Success\\HongSeongIn\\wandb\\run-20250207_224528-8ea6inl9</code>"
      ],
      "text/plain": [
       "<IPython.core.display.HTML object>"
      ]
     },
     "metadata": {},
     "output_type": "display_data"
    },
    {
     "data": {
      "text/html": [
       "Syncing run <strong><a href='https://wandb.ai/espada105-hanseouniversity/LGaimers/runs/8ea6inl9' target=\"_blank\">avid-sweep-18</a></strong> to <a href='https://wandb.ai/espada105-hanseouniversity/LGaimers' target=\"_blank\">Weights & Biases</a> (<a href='https://wandb.me/developer-guide' target=\"_blank\">docs</a>)<br>Sweep page: <a href='https://wandb.ai/espada105-hanseouniversity/LGaimers/sweeps/d6kdsk99' target=\"_blank\">https://wandb.ai/espada105-hanseouniversity/LGaimers/sweeps/d6kdsk99</a>"
      ],
      "text/plain": [
       "<IPython.core.display.HTML object>"
      ]
     },
     "metadata": {},
     "output_type": "display_data"
    },
    {
     "data": {
      "text/html": [
       " View project at <a href='https://wandb.ai/espada105-hanseouniversity/LGaimers' target=\"_blank\">https://wandb.ai/espada105-hanseouniversity/LGaimers</a>"
      ],
      "text/plain": [
       "<IPython.core.display.HTML object>"
      ]
     },
     "metadata": {},
     "output_type": "display_data"
    },
    {
     "data": {
      "text/html": [
       " View sweep at <a href='https://wandb.ai/espada105-hanseouniversity/LGaimers/sweeps/d6kdsk99' target=\"_blank\">https://wandb.ai/espada105-hanseouniversity/LGaimers/sweeps/d6kdsk99</a>"
      ],
      "text/plain": [
       "<IPython.core.display.HTML object>"
      ]
     },
     "metadata": {},
     "output_type": "display_data"
    },
    {
     "data": {
      "text/html": [
       " View run at <a href='https://wandb.ai/espada105-hanseouniversity/LGaimers/runs/8ea6inl9' target=\"_blank\">https://wandb.ai/espada105-hanseouniversity/LGaimers/runs/8ea6inl9</a>"
      ],
      "text/plain": [
       "<IPython.core.display.HTML object>"
      ]
     },
     "metadata": {},
     "output_type": "display_data"
    },
    {
     "name": "stderr",
     "output_type": "stream",
     "text": [
      "c:\\Users\\tjddl\\AppData\\Local\\Programs\\Python\\Python310\\lib\\site-packages\\sklearn\\utils\\deprecation.py:151: FutureWarning: 'force_all_finite' was renamed to 'ensure_all_finite' in 1.6 and will be removed in 1.8.\n",
      "  warnings.warn(\n",
      "c:\\Users\\tjddl\\AppData\\Local\\Programs\\Python\\Python310\\lib\\site-packages\\sklearn\\utils\\deprecation.py:151: FutureWarning: 'force_all_finite' was renamed to 'ensure_all_finite' in 1.6 and will be removed in 1.8.\n",
      "  warnings.warn(\n",
      "c:\\Users\\tjddl\\AppData\\Local\\Programs\\Python\\Python310\\lib\\site-packages\\sklearn\\utils\\deprecation.py:151: FutureWarning: 'force_all_finite' was renamed to 'ensure_all_finite' in 1.6 and will be removed in 1.8.\n",
      "  warnings.warn(\n",
      "c:\\Users\\tjddl\\AppData\\Local\\Programs\\Python\\Python310\\lib\\site-packages\\sklearn\\utils\\deprecation.py:151: FutureWarning: 'force_all_finite' was renamed to 'ensure_all_finite' in 1.6 and will be removed in 1.8.\n",
      "  warnings.warn(\n",
      "c:\\Users\\tjddl\\AppData\\Local\\Programs\\Python\\Python310\\lib\\site-packages\\sklearn\\utils\\deprecation.py:151: FutureWarning: 'force_all_finite' was renamed to 'ensure_all_finite' in 1.6 and will be removed in 1.8.\n",
      "  warnings.warn(\n",
      "c:\\Users\\tjddl\\AppData\\Local\\Programs\\Python\\Python310\\lib\\site-packages\\sklearn\\utils\\deprecation.py:151: FutureWarning: 'force_all_finite' was renamed to 'ensure_all_finite' in 1.6 and will be removed in 1.8.\n",
      "  warnings.warn(\n",
      "c:\\Users\\tjddl\\AppData\\Local\\Programs\\Python\\Python310\\lib\\site-packages\\sklearn\\utils\\deprecation.py:151: FutureWarning: 'force_all_finite' was renamed to 'ensure_all_finite' in 1.6 and will be removed in 1.8.\n",
      "  warnings.warn(\n",
      "c:\\Users\\tjddl\\AppData\\Local\\Programs\\Python\\Python310\\lib\\site-packages\\sklearn\\utils\\deprecation.py:151: FutureWarning: 'force_all_finite' was renamed to 'ensure_all_finite' in 1.6 and will be removed in 1.8.\n",
      "  warnings.warn(\n",
      "c:\\Users\\tjddl\\AppData\\Local\\Programs\\Python\\Python310\\lib\\site-packages\\sklearn\\utils\\deprecation.py:151: FutureWarning: 'force_all_finite' was renamed to 'ensure_all_finite' in 1.6 and will be removed in 1.8.\n",
      "  warnings.warn(\n"
     ]
    },
    {
     "name": "stdout",
     "output_type": "stream",
     "text": [
      "Mean ROC AUC: 0.7388\n"
     ]
    },
    {
     "name": "stderr",
     "output_type": "stream",
     "text": [
      "c:\\Users\\tjddl\\AppData\\Local\\Programs\\Python\\Python310\\lib\\site-packages\\sklearn\\utils\\deprecation.py:151: FutureWarning: 'force_all_finite' was renamed to 'ensure_all_finite' in 1.6 and will be removed in 1.8.\n",
      "  warnings.warn(\n"
     ]
    },
    {
     "data": {
      "text/html": [],
      "text/plain": [
       "<IPython.core.display.HTML object>"
      ]
     },
     "metadata": {},
     "output_type": "display_data"
    },
    {
     "data": {
      "text/html": [
       "<br>    <style><br>        .wandb-row {<br>            display: flex;<br>            flex-direction: row;<br>            flex-wrap: wrap;<br>            justify-content: flex-start;<br>            width: 100%;<br>        }<br>        .wandb-col {<br>            display: flex;<br>            flex-direction: column;<br>            flex-basis: 100%;<br>            flex: 1;<br>            padding: 10px;<br>        }<br>    </style><br><div class=\"wandb-row\"><div class=\"wandb-col\"><h3>Run history:</h3><br/><table class=\"wandb\"><tr><td>roc_auc</td><td>▁</td></tr></table><br/></div><div class=\"wandb-col\"><h3>Run summary:</h3><br/><table class=\"wandb\"><tr><td>roc_auc</td><td>0.73876</td></tr></table><br/></div></div>"
      ],
      "text/plain": [
       "<IPython.core.display.HTML object>"
      ]
     },
     "metadata": {},
     "output_type": "display_data"
    },
    {
     "data": {
      "text/html": [
       " View run <strong style=\"color:#cdcd00\">avid-sweep-18</strong> at: <a href='https://wandb.ai/espada105-hanseouniversity/LGaimers/runs/8ea6inl9' target=\"_blank\">https://wandb.ai/espada105-hanseouniversity/LGaimers/runs/8ea6inl9</a><br> View project at: <a href='https://wandb.ai/espada105-hanseouniversity/LGaimers' target=\"_blank\">https://wandb.ai/espada105-hanseouniversity/LGaimers</a><br>Synced 5 W&B file(s), 0 media file(s), 0 artifact file(s) and 0 other file(s)"
      ],
      "text/plain": [
       "<IPython.core.display.HTML object>"
      ]
     },
     "metadata": {},
     "output_type": "display_data"
    },
    {
     "data": {
      "text/html": [
       "Find logs at: <code>.\\wandb\\run-20250207_224528-8ea6inl9\\logs</code>"
      ],
      "text/plain": [
       "<IPython.core.display.HTML object>"
      ]
     },
     "metadata": {},
     "output_type": "display_data"
    },
    {
     "name": "stderr",
     "output_type": "stream",
     "text": [
      "\u001b[34m\u001b[1mwandb\u001b[0m: Sweep Agent: Waiting for job.\n",
      "\u001b[34m\u001b[1mwandb\u001b[0m: Sweep Agent: Exiting.\n"
     ]
    }
   ],
   "source": [
    "\n",
    "# 1. wandb 로그인 (API key를 이용)\n",
    "wandb.login(key=\"8bab4affd59dd33bd76096b069d74f6dc0abb056\")\n",
    "\n",
    "# 2. 데이터 불러오기 및 전처리\n",
    "train_df = pd.read_csv('train.csv')\n",
    "# test_df = pd.read_csv('test.csv')  # 필요시 불러오기\n",
    "\n",
    "# ID 컬럼 제거 (예시로 'ID', 'id', 'RecordID', 'patient_id' 등)\n",
    "for col in ['id', 'ID', 'RecordID', 'patient_id']:\n",
    "    if col in train_df.columns:\n",
    "        train_df = train_df.drop(col, axis=1)\n",
    "    # if col in test_df.columns:\n",
    "    #     test_df = test_df.drop(col, axis=1)\n",
    "\n",
    "# 타깃과 피처 분리 (타깃 컬럼명이 '임신 성공 여부'라고 가정)\n",
    "target = '임신 성공 여부'\n",
    "X = train_df.drop(target, axis=1)\n",
    "y = train_df[target]\n",
    "\n",
    "# 범주형, 수치형 변수 지정\n",
    "# (아래 목록은 예시이므로 실제 데이터에 맞게 수정하세요)\n",
    "categorical_columns = [\n",
    "    '시술 시기 코드', '시술 당시 나이', '시술 유형', '특정 시술 유형',  # \"특정 시술 유형\"은 문자열이므로 반드시 범주형에 포함!\n",
    "    '배란 자극 여부', '배란 유도 유형', '단일 배아 이식 여부',\n",
    "    '착상 전 유전 검사 사용 여부', '착상 전 유전 진단 사용 여부',\n",
    "    '남성 주 불임 원인', '남성 부 불임 원인', '여성 주 불임 원인',\n",
    "    '여성 부 불임 원인', '부부 주 불임 원인', '부부 부 불임 원인',\n",
    "    '불명확 불임 원인', '불임 원인 - 난관 질환', '불임 원인 - 남성 요인',\n",
    "    '불임 원인 - 배란 장애', '불임 원인 - 여성 요인', '불임 원인 - 자궁경부 문제',\n",
    "    '불임 원인 - 자궁내막증', '불임 원인 - 정자 농도', '불임 원인 - 정자 면역학적 요인',\n",
    "    '불임 원인 - 정자 운동성', '불임 원인 - 정자 형태', '배아 생성 주요 이유',\n",
    "    '총 시술 횟수', '클리닉 내 총 시술 횟수', 'IVF 시술 횟수', 'DI 시술 횟수',\n",
    "    '총 임신 횟수', 'IVF 임신 횟수', 'DI 임신 횟수', '총 출산 횟수',\n",
    "    'IVF 출산 횟수', 'DI 출산 횟수', '난자 출처', '정자 출처',\n",
    "    '난자 기증자 나이', '정자 기증자 나이', '동결 배아 사용 여부',\n",
    "    '신선 배아 사용 여부', '기증 배아 사용 여부', '대리모 여부',\n",
    "    'PGD 시술 여부', 'PGS 시술 여부'\n",
    "]\n",
    "\n",
    "numerical_columns = [col for col in X.columns if col not in categorical_columns]\n",
    "\n",
    "# 전처리 파이프라인\n",
    "preprocessor = ColumnTransformer(\n",
    "    transformers=[\n",
    "        ('num', StandardScaler(), numerical_columns),\n",
    "        ('cat', OneHotEncoder(handle_unknown='ignore'), categorical_columns)\n",
    "    ]\n",
    ")\n",
    "\n",
    "# 3. wandb 스윕(run)을 위한 함수 정의\n",
    "def run():\n",
    "    # 각 run마다 wandb 초기화 (sweep 에이전트가 호출)\n",
    "    wandb.init(project=\"LGaimers\", entity=\"espada105-hanseouniversity\")\n",
    "    config = wandb.config\n",
    "\n",
    "    # 모델 생성: wandb.config에서 하이퍼파라미터 값을 가져옴\n",
    "    model = LGBMClassifier(\n",
    "        n_estimators=int(config.n_estimators),\n",
    "        learning_rate=config.learning_rate,\n",
    "        max_depth=int(config.max_depth),\n",
    "        random_state=42\n",
    "    )\n",
    "\n",
    "    # 파이프라인 구성 (전처리 + 분류기)\n",
    "    pipeline = Pipeline([\n",
    "        ('preprocessor', preprocessor),\n",
    "        ('classifier', model)\n",
    "    ])\n",
    "\n",
    "    # 교차 검증 (5-fold)로 성능 평가\n",
    "    cv = StratifiedKFold(n_splits=5, shuffle=True, random_state=42)\n",
    "    scores = cross_val_score(pipeline, X, y, cv=cv, scoring='roc_auc')\n",
    "    mean_score = np.mean(scores)\n",
    "    \n",
    "    # 결과 로깅\n",
    "    wandb.log({'roc_auc': mean_score})\n",
    "    print(f\"Mean ROC AUC: {mean_score:.4f}\")\n",
    "    wandb.finish()\n",
    "\n",
    "# 4. 스윕 설정 구성\n",
    "sweep_config = {\n",
    "    'method': 'grid',  # 'grid', 'random', 'bayes'\n",
    "    'metric': {\n",
    "        'name': 'roc_auc',\n",
    "        'goal': 'maximize'\n",
    "    },\n",
    "    'parameters': {\n",
    "        'n_estimators': {\n",
    "            'values': [100, 200]\n",
    "        },\n",
    "        'learning_rate': {\n",
    "            'values': [0.01, 0.05, 0.1]\n",
    "        },\n",
    "        'max_depth': {\n",
    "            'values': [5, 7, 10]\n",
    "        }\n",
    "    }\n",
    "}\n",
    "\n",
    "# 스윕 생성 (sweep_id 반환)\n",
    "sweep_id = wandb.sweep(sweep_config, project=\"LGaimers\", entity=\"espada105-hanseouniversity\")\n",
    "print(\"Sweep ID:\", sweep_id)\n",
    "\n",
    "# 5. 에이전트를 사용해 스윕 실행 (예: 10번의 실험)\n",
    "wandb.agent(sweep_id, function=run, count=20)\n"
   ]
  },
  {
   "cell_type": "markdown",
   "metadata": {},
   "source": [
    "# 2차"
   ]
  },
  {
   "cell_type": "code",
   "execution_count": null,
   "metadata": {},
   "outputs": [
    {
     "name": "stderr",
     "output_type": "stream",
     "text": [
      "\u001b[34m\u001b[1mwandb\u001b[0m: \u001b[33mWARNING\u001b[0m If you're specifying your api key in code, ensure this code is not shared publicly.\n",
      "\u001b[34m\u001b[1mwandb\u001b[0m: \u001b[33mWARNING\u001b[0m Consider setting the WANDB_API_KEY environment variable, or running `wandb login` from the command line.\n",
      "\u001b[34m\u001b[1mwandb\u001b[0m: Appending key for api.wandb.ai to your netrc file: C:\\Users\\tjddl\\_netrc\n"
     ]
    },
    {
     "name": "stdout",
     "output_type": "stream",
     "text": [
      "Create sweep with ID: dxgv2s1t\n",
      "Sweep URL: https://wandb.ai/espada105-hanseouniversity/LGaimers/sweeps/dxgv2s1t\n",
      "Sweep ID: dxgv2s1t\n"
     ]
    },
    {
     "name": "stderr",
     "output_type": "stream",
     "text": [
      "\u001b[34m\u001b[1mwandb\u001b[0m: Agent Starting Run: pm2e545k with config:\n",
      "\u001b[34m\u001b[1mwandb\u001b[0m: \tcolsample_bytree: 0.6\n",
      "\u001b[34m\u001b[1mwandb\u001b[0m: \tlearning_rate: 0.01\n",
      "\u001b[34m\u001b[1mwandb\u001b[0m: \tmax_depth: 10\n",
      "\u001b[34m\u001b[1mwandb\u001b[0m: \tmin_child_weight: 1\n",
      "\u001b[34m\u001b[1mwandb\u001b[0m: \tn_estimators: 1000\n",
      "\u001b[34m\u001b[1mwandb\u001b[0m: \trandom_state: 42\n",
      "\u001b[34m\u001b[1mwandb\u001b[0m: \treg_alpha: 0\n",
      "\u001b[34m\u001b[1mwandb\u001b[0m: \treg_lambda: 0\n",
      "\u001b[34m\u001b[1mwandb\u001b[0m: \tstopping_rounds: 100\n",
      "\u001b[34m\u001b[1mwandb\u001b[0m: \tsubsample: 0.6\n",
      "\u001b[34m\u001b[1mwandb\u001b[0m: \ttest_size: 0.2\n"
     ]
    },
    {
     "data": {
      "text/html": [
       "Ignoring project 'LGaimers' when running a sweep."
      ],
      "text/plain": [
       "<IPython.core.display.HTML object>"
      ]
     },
     "metadata": {},
     "output_type": "display_data"
    },
    {
     "data": {
      "text/html": [
       "Ignoring entity 'espada105-hanseouniversity' when running a sweep."
      ],
      "text/plain": [
       "<IPython.core.display.HTML object>"
      ]
     },
     "metadata": {},
     "output_type": "display_data"
    },
    {
     "data": {
      "text/html": [
       "Tracking run with wandb version 0.19.6"
      ],
      "text/plain": [
       "<IPython.core.display.HTML object>"
      ]
     },
     "metadata": {},
     "output_type": "display_data"
    },
    {
     "data": {
      "text/html": [
       "Run data is saved locally in <code>c:\\GitHubRepo\\AI_Predicting_Pregnancy_Success\\HongSeongIn\\wandb\\run-20250208_012441-pm2e545k</code>"
      ],
      "text/plain": [
       "<IPython.core.display.HTML object>"
      ]
     },
     "metadata": {},
     "output_type": "display_data"
    },
    {
     "data": {
      "text/html": [
       "Syncing run <strong><a href='https://wandb.ai/espada105-hanseouniversity/LGaimers/runs/pm2e545k' target=\"_blank\">decent-sweep-1</a></strong> to <a href='https://wandb.ai/espada105-hanseouniversity/LGaimers' target=\"_blank\">Weights & Biases</a> (<a href='https://wandb.me/developer-guide' target=\"_blank\">docs</a>)<br>Sweep page: <a href='https://wandb.ai/espada105-hanseouniversity/LGaimers/sweeps/dxgv2s1t' target=\"_blank\">https://wandb.ai/espada105-hanseouniversity/LGaimers/sweeps/dxgv2s1t</a>"
      ],
      "text/plain": [
       "<IPython.core.display.HTML object>"
      ]
     },
     "metadata": {},
     "output_type": "display_data"
    },
    {
     "data": {
      "text/html": [
       " View project at <a href='https://wandb.ai/espada105-hanseouniversity/LGaimers' target=\"_blank\">https://wandb.ai/espada105-hanseouniversity/LGaimers</a>"
      ],
      "text/plain": [
       "<IPython.core.display.HTML object>"
      ]
     },
     "metadata": {},
     "output_type": "display_data"
    },
    {
     "data": {
      "text/html": [
       " View sweep at <a href='https://wandb.ai/espada105-hanseouniversity/LGaimers/sweeps/dxgv2s1t' target=\"_blank\">https://wandb.ai/espada105-hanseouniversity/LGaimers/sweeps/dxgv2s1t</a>"
      ],
      "text/plain": [
       "<IPython.core.display.HTML object>"
      ]
     },
     "metadata": {},
     "output_type": "display_data"
    },
    {
     "data": {
      "text/html": [
       " View run at <a href='https://wandb.ai/espada105-hanseouniversity/LGaimers/runs/pm2e545k' target=\"_blank\">https://wandb.ai/espada105-hanseouniversity/LGaimers/runs/pm2e545k</a>"
      ],
      "text/plain": [
       "<IPython.core.display.HTML object>"
      ]
     },
     "metadata": {},
     "output_type": "display_data"
    },
    {
     "name": "stdout",
     "output_type": "stream",
     "text": [
      "Training until validation scores don't improve for 100 rounds\n",
      "Did not meet early stopping. Best iteration is:\n",
      "[949]\tvalid_0's binary_logloss: 0.485906\n"
     ]
    },
    {
     "name": "stderr",
     "output_type": "stream",
     "text": [
      "c:\\Users\\tjddl\\AppData\\Local\\Programs\\Python\\Python310\\lib\\site-packages\\sklearn\\utils\\validation.py:2732: UserWarning: X has feature names, but SelectFromModel was fitted without feature names\n",
      "  warnings.warn(\n",
      "c:\\Users\\tjddl\\AppData\\Local\\Programs\\Python\\Python310\\lib\\site-packages\\sklearn\\utils\\validation.py:2732: UserWarning: X has feature names, but SelectFromModel was fitted without feature names\n",
      "  warnings.warn(\n",
      "c:\\Users\\tjddl\\AppData\\Local\\Programs\\Python\\Python310\\lib\\site-packages\\sklearn\\utils\\deprecation.py:151: FutureWarning: 'force_all_finite' was renamed to 'ensure_all_finite' in 1.6 and will be removed in 1.8.\n",
      "  warnings.warn(\n"
     ]
    },
    {
     "name": "stdout",
     "output_type": "stream",
     "text": [
      "Training until validation scores don't improve for 100 rounds\n",
      "[10]\tvalid_0's binary_logloss: 0.557659\n",
      "[20]\tvalid_0's binary_logloss: 0.548339\n",
      "[30]\tvalid_0's binary_logloss: 0.540488\n",
      "[40]\tvalid_0's binary_logloss: 0.533832\n",
      "[50]\tvalid_0's binary_logloss: 0.528117\n",
      "[60]\tvalid_0's binary_logloss: 0.523202\n",
      "[70]\tvalid_0's binary_logloss: 0.518968\n",
      "[80]\tvalid_0's binary_logloss: 0.515291\n",
      "[90]\tvalid_0's binary_logloss: 0.512077\n",
      "[100]\tvalid_0's binary_logloss: 0.509274\n",
      "[110]\tvalid_0's binary_logloss: 0.506829\n",
      "[120]\tvalid_0's binary_logloss: 0.504677\n",
      "[130]\tvalid_0's binary_logloss: 0.502781\n",
      "[140]\tvalid_0's binary_logloss: 0.501087\n",
      "[150]\tvalid_0's binary_logloss: 0.499581\n",
      "[160]\tvalid_0's binary_logloss: 0.498259\n",
      "[170]\tvalid_0's binary_logloss: 0.49708\n",
      "[180]\tvalid_0's binary_logloss: 0.496036\n",
      "[190]\tvalid_0's binary_logloss: 0.495096\n",
      "[200]\tvalid_0's binary_logloss: 0.494264\n",
      "[210]\tvalid_0's binary_logloss: 0.493512\n",
      "[220]\tvalid_0's binary_logloss: 0.492837\n",
      "[230]\tvalid_0's binary_logloss: 0.492232\n",
      "[240]\tvalid_0's binary_logloss: 0.491693\n",
      "[250]\tvalid_0's binary_logloss: 0.491192\n",
      "[260]\tvalid_0's binary_logloss: 0.490735\n",
      "[270]\tvalid_0's binary_logloss: 0.490323\n",
      "[280]\tvalid_0's binary_logloss: 0.489953\n",
      "[290]\tvalid_0's binary_logloss: 0.489604\n",
      "[300]\tvalid_0's binary_logloss: 0.489298\n",
      "[310]\tvalid_0's binary_logloss: 0.489024\n",
      "[320]\tvalid_0's binary_logloss: 0.488772\n",
      "[330]\tvalid_0's binary_logloss: 0.488552\n",
      "[340]\tvalid_0's binary_logloss: 0.488347\n",
      "[350]\tvalid_0's binary_logloss: 0.488171\n",
      "[360]\tvalid_0's binary_logloss: 0.488\n",
      "[370]\tvalid_0's binary_logloss: 0.487837\n",
      "[380]\tvalid_0's binary_logloss: 0.487683\n",
      "[390]\tvalid_0's binary_logloss: 0.487529\n",
      "[400]\tvalid_0's binary_logloss: 0.487398\n",
      "[410]\tvalid_0's binary_logloss: 0.487275\n",
      "[420]\tvalid_0's binary_logloss: 0.487162\n",
      "[430]\tvalid_0's binary_logloss: 0.487065\n",
      "[440]\tvalid_0's binary_logloss: 0.486978\n",
      "[450]\tvalid_0's binary_logloss: 0.486896\n",
      "[460]\tvalid_0's binary_logloss: 0.486821\n",
      "[470]\tvalid_0's binary_logloss: 0.486755\n",
      "[480]\tvalid_0's binary_logloss: 0.486688\n",
      "[490]\tvalid_0's binary_logloss: 0.486629\n",
      "[500]\tvalid_0's binary_logloss: 0.486578\n",
      "[510]\tvalid_0's binary_logloss: 0.486536\n",
      "[520]\tvalid_0's binary_logloss: 0.4865\n",
      "[530]\tvalid_0's binary_logloss: 0.486461\n",
      "[540]\tvalid_0's binary_logloss: 0.486421\n",
      "[550]\tvalid_0's binary_logloss: 0.486395\n",
      "[560]\tvalid_0's binary_logloss: 0.486365\n",
      "[570]\tvalid_0's binary_logloss: 0.486325\n",
      "[580]\tvalid_0's binary_logloss: 0.486289\n",
      "[590]\tvalid_0's binary_logloss: 0.48626\n",
      "[600]\tvalid_0's binary_logloss: 0.486232\n",
      "[610]\tvalid_0's binary_logloss: 0.486217\n",
      "[620]\tvalid_0's binary_logloss: 0.486188\n",
      "[630]\tvalid_0's binary_logloss: 0.486159\n",
      "[640]\tvalid_0's binary_logloss: 0.486144\n",
      "[650]\tvalid_0's binary_logloss: 0.486127\n",
      "[660]\tvalid_0's binary_logloss: 0.486112\n",
      "[670]\tvalid_0's binary_logloss: 0.486093\n",
      "[680]\tvalid_0's binary_logloss: 0.486077\n",
      "[690]\tvalid_0's binary_logloss: 0.486063\n",
      "[700]\tvalid_0's binary_logloss: 0.486051\n",
      "[710]\tvalid_0's binary_logloss: 0.486035\n",
      "[720]\tvalid_0's binary_logloss: 0.486016\n",
      "[730]\tvalid_0's binary_logloss: 0.486001\n",
      "[740]\tvalid_0's binary_logloss: 0.485982\n",
      "[750]\tvalid_0's binary_logloss: 0.485971\n",
      "[760]\tvalid_0's binary_logloss: 0.485958\n",
      "[770]\tvalid_0's binary_logloss: 0.485948\n",
      "[780]\tvalid_0's binary_logloss: 0.485935\n",
      "[790]\tvalid_0's binary_logloss: 0.485935\n",
      "[800]\tvalid_0's binary_logloss: 0.485923\n",
      "[810]\tvalid_0's binary_logloss: 0.485918\n",
      "[820]\tvalid_0's binary_logloss: 0.485911\n",
      "[830]\tvalid_0's binary_logloss: 0.485904\n",
      "[840]\tvalid_0's binary_logloss: 0.485895\n",
      "[850]\tvalid_0's binary_logloss: 0.485887\n",
      "[860]\tvalid_0's binary_logloss: 0.485879\n",
      "[870]\tvalid_0's binary_logloss: 0.485871\n",
      "[880]\tvalid_0's binary_logloss: 0.485865\n",
      "[890]\tvalid_0's binary_logloss: 0.48586\n",
      "[900]\tvalid_0's binary_logloss: 0.485855\n",
      "[910]\tvalid_0's binary_logloss: 0.485853\n",
      "[920]\tvalid_0's binary_logloss: 0.485847\n",
      "[930]\tvalid_0's binary_logloss: 0.485844\n",
      "[940]\tvalid_0's binary_logloss: 0.485843\n",
      "[950]\tvalid_0's binary_logloss: 0.485841\n",
      "[960]\tvalid_0's binary_logloss: 0.485838\n",
      "[970]\tvalid_0's binary_logloss: 0.485834\n",
      "[980]\tvalid_0's binary_logloss: 0.485828\n",
      "[990]\tvalid_0's binary_logloss: 0.485824\n",
      "[1000]\tvalid_0's binary_logloss: 0.485822\n",
      "Did not meet early stopping. Best iteration is:\n",
      "[993]\tvalid_0's binary_logloss: 0.485822\n"
     ]
    },
    {
     "name": "stderr",
     "output_type": "stream",
     "text": [
      "c:\\Users\\tjddl\\AppData\\Local\\Programs\\Python\\Python310\\lib\\site-packages\\sklearn\\utils\\deprecation.py:151: FutureWarning: 'force_all_finite' was renamed to 'ensure_all_finite' in 1.6 and will be removed in 1.8.\n",
      "  warnings.warn(\n"
     ]
    },
    {
     "name": "stdout",
     "output_type": "stream",
     "text": [
      "최종 모델 ROC AUC: 0.73926345\n"
     ]
    },
    {
     "data": {
      "text/html": [],
      "text/plain": [
       "<IPython.core.display.HTML object>"
      ]
     },
     "metadata": {},
     "output_type": "display_data"
    },
    {
     "data": {
      "text/html": [
       "<br>    <style><br>        .wandb-row {<br>            display: flex;<br>            flex-direction: row;<br>            flex-wrap: wrap;<br>            justify-content: flex-start;<br>            width: 100%;<br>        }<br>        .wandb-col {<br>            display: flex;<br>            flex-direction: column;<br>            flex-basis: 100%;<br>            flex: 1;<br>            padding: 10px;<br>        }<br>    </style><br><div class=\"wandb-row\"><div class=\"wandb-col\"><h3>Run history:</h3><br/><table class=\"wandb\"><tr><td>final_validation_roc_auc</td><td>▁</td></tr></table><br/></div><div class=\"wandb-col\"><h3>Run summary:</h3><br/><table class=\"wandb\"><tr><td>final_validation_roc_auc</td><td>0.73926</td></tr></table><br/></div></div>"
      ],
      "text/plain": [
       "<IPython.core.display.HTML object>"
      ]
     },
     "metadata": {},
     "output_type": "display_data"
    },
    {
     "data": {
      "text/html": [
       " View run <strong style=\"color:#cdcd00\">decent-sweep-1</strong> at: <a href='https://wandb.ai/espada105-hanseouniversity/LGaimers/runs/pm2e545k' target=\"_blank\">https://wandb.ai/espada105-hanseouniversity/LGaimers/runs/pm2e545k</a><br> View project at: <a href='https://wandb.ai/espada105-hanseouniversity/LGaimers' target=\"_blank\">https://wandb.ai/espada105-hanseouniversity/LGaimers</a><br>Synced 5 W&B file(s), 0 media file(s), 0 artifact file(s) and 0 other file(s)"
      ],
      "text/plain": [
       "<IPython.core.display.HTML object>"
      ]
     },
     "metadata": {},
     "output_type": "display_data"
    },
    {
     "data": {
      "text/html": [
       "Find logs at: <code>.\\wandb\\run-20250208_012441-pm2e545k\\logs</code>"
      ],
      "text/plain": [
       "<IPython.core.display.HTML object>"
      ]
     },
     "metadata": {},
     "output_type": "display_data"
    },
    {
     "name": "stderr",
     "output_type": "stream",
     "text": [
      "\u001b[34m\u001b[1mwandb\u001b[0m: Agent Starting Run: tihikp29 with config:\n",
      "\u001b[34m\u001b[1mwandb\u001b[0m: \tcolsample_bytree: 0.6\n",
      "\u001b[34m\u001b[1mwandb\u001b[0m: \tlearning_rate: 0.01\n",
      "\u001b[34m\u001b[1mwandb\u001b[0m: \tmax_depth: 10\n",
      "\u001b[34m\u001b[1mwandb\u001b[0m: \tmin_child_weight: 1\n",
      "\u001b[34m\u001b[1mwandb\u001b[0m: \tn_estimators: 1000\n",
      "\u001b[34m\u001b[1mwandb\u001b[0m: \trandom_state: 42\n",
      "\u001b[34m\u001b[1mwandb\u001b[0m: \treg_alpha: 0\n",
      "\u001b[34m\u001b[1mwandb\u001b[0m: \treg_lambda: 0\n",
      "\u001b[34m\u001b[1mwandb\u001b[0m: \tstopping_rounds: 100\n",
      "\u001b[34m\u001b[1mwandb\u001b[0m: \tsubsample: 0.8\n",
      "\u001b[34m\u001b[1mwandb\u001b[0m: \ttest_size: 0.2\n"
     ]
    },
    {
     "data": {
      "text/html": [
       "Ignoring project 'LGaimers' when running a sweep."
      ],
      "text/plain": [
       "<IPython.core.display.HTML object>"
      ]
     },
     "metadata": {},
     "output_type": "display_data"
    },
    {
     "data": {
      "text/html": [
       "Ignoring entity 'espada105-hanseouniversity' when running a sweep."
      ],
      "text/plain": [
       "<IPython.core.display.HTML object>"
      ]
     },
     "metadata": {},
     "output_type": "display_data"
    },
    {
     "data": {
      "text/html": [
       "Tracking run with wandb version 0.19.6"
      ],
      "text/plain": [
       "<IPython.core.display.HTML object>"
      ]
     },
     "metadata": {},
     "output_type": "display_data"
    },
    {
     "data": {
      "text/html": [
       "Run data is saved locally in <code>c:\\GitHubRepo\\AI_Predicting_Pregnancy_Success\\HongSeongIn\\wandb\\run-20250208_012508-tihikp29</code>"
      ],
      "text/plain": [
       "<IPython.core.display.HTML object>"
      ]
     },
     "metadata": {},
     "output_type": "display_data"
    },
    {
     "data": {
      "text/html": [
       "Syncing run <strong><a href='https://wandb.ai/espada105-hanseouniversity/LGaimers/runs/tihikp29' target=\"_blank\">stellar-sweep-2</a></strong> to <a href='https://wandb.ai/espada105-hanseouniversity/LGaimers' target=\"_blank\">Weights & Biases</a> (<a href='https://wandb.me/developer-guide' target=\"_blank\">docs</a>)<br>Sweep page: <a href='https://wandb.ai/espada105-hanseouniversity/LGaimers/sweeps/dxgv2s1t' target=\"_blank\">https://wandb.ai/espada105-hanseouniversity/LGaimers/sweeps/dxgv2s1t</a>"
      ],
      "text/plain": [
       "<IPython.core.display.HTML object>"
      ]
     },
     "metadata": {},
     "output_type": "display_data"
    },
    {
     "data": {
      "text/html": [
       " View project at <a href='https://wandb.ai/espada105-hanseouniversity/LGaimers' target=\"_blank\">https://wandb.ai/espada105-hanseouniversity/LGaimers</a>"
      ],
      "text/plain": [
       "<IPython.core.display.HTML object>"
      ]
     },
     "metadata": {},
     "output_type": "display_data"
    },
    {
     "data": {
      "text/html": [
       " View sweep at <a href='https://wandb.ai/espada105-hanseouniversity/LGaimers/sweeps/dxgv2s1t' target=\"_blank\">https://wandb.ai/espada105-hanseouniversity/LGaimers/sweeps/dxgv2s1t</a>"
      ],
      "text/plain": [
       "<IPython.core.display.HTML object>"
      ]
     },
     "metadata": {},
     "output_type": "display_data"
    },
    {
     "data": {
      "text/html": [
       " View run at <a href='https://wandb.ai/espada105-hanseouniversity/LGaimers/runs/tihikp29' target=\"_blank\">https://wandb.ai/espada105-hanseouniversity/LGaimers/runs/tihikp29</a>"
      ],
      "text/plain": [
       "<IPython.core.display.HTML object>"
      ]
     },
     "metadata": {},
     "output_type": "display_data"
    },
    {
     "name": "stdout",
     "output_type": "stream",
     "text": [
      "Training until validation scores don't improve for 100 rounds\n",
      "Did not meet early stopping. Best iteration is:\n",
      "[949]\tvalid_0's binary_logloss: 0.485906\n"
     ]
    },
    {
     "name": "stderr",
     "output_type": "stream",
     "text": [
      "c:\\Users\\tjddl\\AppData\\Local\\Programs\\Python\\Python310\\lib\\site-packages\\sklearn\\utils\\validation.py:2732: UserWarning: X has feature names, but SelectFromModel was fitted without feature names\n",
      "  warnings.warn(\n",
      "c:\\Users\\tjddl\\AppData\\Local\\Programs\\Python\\Python310\\lib\\site-packages\\sklearn\\utils\\validation.py:2732: UserWarning: X has feature names, but SelectFromModel was fitted without feature names\n",
      "  warnings.warn(\n",
      "c:\\Users\\tjddl\\AppData\\Local\\Programs\\Python\\Python310\\lib\\site-packages\\sklearn\\utils\\deprecation.py:151: FutureWarning: 'force_all_finite' was renamed to 'ensure_all_finite' in 1.6 and will be removed in 1.8.\n",
      "  warnings.warn(\n"
     ]
    },
    {
     "name": "stdout",
     "output_type": "stream",
     "text": [
      "Training until validation scores don't improve for 100 rounds\n",
      "[10]\tvalid_0's binary_logloss: 0.557659\n",
      "[20]\tvalid_0's binary_logloss: 0.548339\n",
      "[30]\tvalid_0's binary_logloss: 0.540488\n",
      "[40]\tvalid_0's binary_logloss: 0.533832\n",
      "[50]\tvalid_0's binary_logloss: 0.528117\n",
      "[60]\tvalid_0's binary_logloss: 0.523202\n",
      "[70]\tvalid_0's binary_logloss: 0.518968\n",
      "[80]\tvalid_0's binary_logloss: 0.515291\n",
      "[90]\tvalid_0's binary_logloss: 0.512077\n",
      "[100]\tvalid_0's binary_logloss: 0.509274\n",
      "[110]\tvalid_0's binary_logloss: 0.506829\n",
      "[120]\tvalid_0's binary_logloss: 0.504677\n",
      "[130]\tvalid_0's binary_logloss: 0.502781\n",
      "[140]\tvalid_0's binary_logloss: 0.501087\n",
      "[150]\tvalid_0's binary_logloss: 0.499581\n",
      "[160]\tvalid_0's binary_logloss: 0.498259\n",
      "[170]\tvalid_0's binary_logloss: 0.49708\n",
      "[180]\tvalid_0's binary_logloss: 0.496036\n",
      "[190]\tvalid_0's binary_logloss: 0.495096\n",
      "[200]\tvalid_0's binary_logloss: 0.494264\n",
      "[210]\tvalid_0's binary_logloss: 0.493512\n",
      "[220]\tvalid_0's binary_logloss: 0.492837\n",
      "[230]\tvalid_0's binary_logloss: 0.492232\n",
      "[240]\tvalid_0's binary_logloss: 0.491693\n",
      "[250]\tvalid_0's binary_logloss: 0.491192\n",
      "[260]\tvalid_0's binary_logloss: 0.490735\n",
      "[270]\tvalid_0's binary_logloss: 0.490323\n",
      "[280]\tvalid_0's binary_logloss: 0.489953\n",
      "[290]\tvalid_0's binary_logloss: 0.489604\n",
      "[300]\tvalid_0's binary_logloss: 0.489298\n",
      "[310]\tvalid_0's binary_logloss: 0.489024\n",
      "[320]\tvalid_0's binary_logloss: 0.488772\n",
      "[330]\tvalid_0's binary_logloss: 0.488552\n",
      "[340]\tvalid_0's binary_logloss: 0.488347\n",
      "[350]\tvalid_0's binary_logloss: 0.488171\n",
      "[360]\tvalid_0's binary_logloss: 0.488\n",
      "[370]\tvalid_0's binary_logloss: 0.487837\n",
      "[380]\tvalid_0's binary_logloss: 0.487683\n",
      "[390]\tvalid_0's binary_logloss: 0.487529\n",
      "[400]\tvalid_0's binary_logloss: 0.487398\n",
      "[410]\tvalid_0's binary_logloss: 0.487275\n",
      "[420]\tvalid_0's binary_logloss: 0.487162\n",
      "[430]\tvalid_0's binary_logloss: 0.487065\n",
      "[440]\tvalid_0's binary_logloss: 0.486978\n",
      "[450]\tvalid_0's binary_logloss: 0.486896\n",
      "[460]\tvalid_0's binary_logloss: 0.486821\n",
      "[470]\tvalid_0's binary_logloss: 0.486755\n",
      "[480]\tvalid_0's binary_logloss: 0.486688\n",
      "[490]\tvalid_0's binary_logloss: 0.486629\n",
      "[500]\tvalid_0's binary_logloss: 0.486578\n",
      "[510]\tvalid_0's binary_logloss: 0.486536\n",
      "[520]\tvalid_0's binary_logloss: 0.4865\n",
      "[530]\tvalid_0's binary_logloss: 0.486461\n",
      "[540]\tvalid_0's binary_logloss: 0.486421\n",
      "[550]\tvalid_0's binary_logloss: 0.486395\n",
      "[560]\tvalid_0's binary_logloss: 0.486365\n",
      "[570]\tvalid_0's binary_logloss: 0.486325\n",
      "[580]\tvalid_0's binary_logloss: 0.486289\n",
      "[590]\tvalid_0's binary_logloss: 0.48626\n",
      "[600]\tvalid_0's binary_logloss: 0.486232\n",
      "[610]\tvalid_0's binary_logloss: 0.486217\n",
      "[620]\tvalid_0's binary_logloss: 0.486188\n",
      "[630]\tvalid_0's binary_logloss: 0.486159\n",
      "[640]\tvalid_0's binary_logloss: 0.486144\n",
      "[650]\tvalid_0's binary_logloss: 0.486127\n",
      "[660]\tvalid_0's binary_logloss: 0.486112\n",
      "[670]\tvalid_0's binary_logloss: 0.486093\n",
      "[680]\tvalid_0's binary_logloss: 0.486077\n",
      "[690]\tvalid_0's binary_logloss: 0.486063\n",
      "[700]\tvalid_0's binary_logloss: 0.486051\n",
      "[710]\tvalid_0's binary_logloss: 0.486035\n",
      "[720]\tvalid_0's binary_logloss: 0.486016\n",
      "[730]\tvalid_0's binary_logloss: 0.486001\n",
      "[740]\tvalid_0's binary_logloss: 0.485982\n",
      "[750]\tvalid_0's binary_logloss: 0.485971\n",
      "[760]\tvalid_0's binary_logloss: 0.485958\n",
      "[770]\tvalid_0's binary_logloss: 0.485948\n",
      "[780]\tvalid_0's binary_logloss: 0.485935\n",
      "[790]\tvalid_0's binary_logloss: 0.485935\n",
      "[800]\tvalid_0's binary_logloss: 0.485923\n",
      "[810]\tvalid_0's binary_logloss: 0.485918\n",
      "[820]\tvalid_0's binary_logloss: 0.485911\n",
      "[830]\tvalid_0's binary_logloss: 0.485904\n",
      "[840]\tvalid_0's binary_logloss: 0.485895\n",
      "[850]\tvalid_0's binary_logloss: 0.485887\n",
      "[860]\tvalid_0's binary_logloss: 0.485879\n",
      "[870]\tvalid_0's binary_logloss: 0.485871\n",
      "[880]\tvalid_0's binary_logloss: 0.485865\n",
      "[890]\tvalid_0's binary_logloss: 0.48586\n",
      "[900]\tvalid_0's binary_logloss: 0.485855\n",
      "[910]\tvalid_0's binary_logloss: 0.485853\n",
      "[920]\tvalid_0's binary_logloss: 0.485847\n",
      "[930]\tvalid_0's binary_logloss: 0.485844\n",
      "[940]\tvalid_0's binary_logloss: 0.485843\n",
      "[950]\tvalid_0's binary_logloss: 0.485841\n",
      "[960]\tvalid_0's binary_logloss: 0.485838\n",
      "[970]\tvalid_0's binary_logloss: 0.485834\n",
      "[980]\tvalid_0's binary_logloss: 0.485828\n",
      "[990]\tvalid_0's binary_logloss: 0.485824\n",
      "[1000]\tvalid_0's binary_logloss: 0.485822\n",
      "Did not meet early stopping. Best iteration is:\n",
      "[993]\tvalid_0's binary_logloss: 0.485822\n"
     ]
    },
    {
     "name": "stderr",
     "output_type": "stream",
     "text": [
      "c:\\Users\\tjddl\\AppData\\Local\\Programs\\Python\\Python310\\lib\\site-packages\\sklearn\\utils\\deprecation.py:151: FutureWarning: 'force_all_finite' was renamed to 'ensure_all_finite' in 1.6 and will be removed in 1.8.\n",
      "  warnings.warn(\n"
     ]
    },
    {
     "name": "stdout",
     "output_type": "stream",
     "text": [
      "최종 모델 ROC AUC: 0.73926345\n"
     ]
    },
    {
     "data": {
      "text/html": [],
      "text/plain": [
       "<IPython.core.display.HTML object>"
      ]
     },
     "metadata": {},
     "output_type": "display_data"
    },
    {
     "data": {
      "text/html": [
       "<br>    <style><br>        .wandb-row {<br>            display: flex;<br>            flex-direction: row;<br>            flex-wrap: wrap;<br>            justify-content: flex-start;<br>            width: 100%;<br>        }<br>        .wandb-col {<br>            display: flex;<br>            flex-direction: column;<br>            flex-basis: 100%;<br>            flex: 1;<br>            padding: 10px;<br>        }<br>    </style><br><div class=\"wandb-row\"><div class=\"wandb-col\"><h3>Run history:</h3><br/><table class=\"wandb\"><tr><td>final_validation_roc_auc</td><td>▁</td></tr></table><br/></div><div class=\"wandb-col\"><h3>Run summary:</h3><br/><table class=\"wandb\"><tr><td>final_validation_roc_auc</td><td>0.73926</td></tr></table><br/></div></div>"
      ],
      "text/plain": [
       "<IPython.core.display.HTML object>"
      ]
     },
     "metadata": {},
     "output_type": "display_data"
    },
    {
     "data": {
      "text/html": [
       " View run <strong style=\"color:#cdcd00\">stellar-sweep-2</strong> at: <a href='https://wandb.ai/espada105-hanseouniversity/LGaimers/runs/tihikp29' target=\"_blank\">https://wandb.ai/espada105-hanseouniversity/LGaimers/runs/tihikp29</a><br> View project at: <a href='https://wandb.ai/espada105-hanseouniversity/LGaimers' target=\"_blank\">https://wandb.ai/espada105-hanseouniversity/LGaimers</a><br>Synced 5 W&B file(s), 0 media file(s), 0 artifact file(s) and 0 other file(s)"
      ],
      "text/plain": [
       "<IPython.core.display.HTML object>"
      ]
     },
     "metadata": {},
     "output_type": "display_data"
    },
    {
     "data": {
      "text/html": [
       "Find logs at: <code>.\\wandb\\run-20250208_012508-tihikp29\\logs</code>"
      ],
      "text/plain": [
       "<IPython.core.display.HTML object>"
      ]
     },
     "metadata": {},
     "output_type": "display_data"
    },
    {
     "name": "stderr",
     "output_type": "stream",
     "text": [
      "\u001b[34m\u001b[1mwandb\u001b[0m: Agent Starting Run: vcudwkkn with config:\n",
      "\u001b[34m\u001b[1mwandb\u001b[0m: \tcolsample_bytree: 0.6\n",
      "\u001b[34m\u001b[1mwandb\u001b[0m: \tlearning_rate: 0.01\n",
      "\u001b[34m\u001b[1mwandb\u001b[0m: \tmax_depth: 10\n",
      "\u001b[34m\u001b[1mwandb\u001b[0m: \tmin_child_weight: 1\n",
      "\u001b[34m\u001b[1mwandb\u001b[0m: \tn_estimators: 1000\n",
      "\u001b[34m\u001b[1mwandb\u001b[0m: \trandom_state: 42\n",
      "\u001b[34m\u001b[1mwandb\u001b[0m: \treg_alpha: 0\n",
      "\u001b[34m\u001b[1mwandb\u001b[0m: \treg_lambda: 0\n",
      "\u001b[34m\u001b[1mwandb\u001b[0m: \tstopping_rounds: 100\n",
      "\u001b[34m\u001b[1mwandb\u001b[0m: \tsubsample: 1\n",
      "\u001b[34m\u001b[1mwandb\u001b[0m: \ttest_size: 0.2\n"
     ]
    },
    {
     "data": {
      "text/html": [
       "Ignoring project 'LGaimers' when running a sweep."
      ],
      "text/plain": [
       "<IPython.core.display.HTML object>"
      ]
     },
     "metadata": {},
     "output_type": "display_data"
    },
    {
     "data": {
      "text/html": [
       "Ignoring entity 'espada105-hanseouniversity' when running a sweep."
      ],
      "text/plain": [
       "<IPython.core.display.HTML object>"
      ]
     },
     "metadata": {},
     "output_type": "display_data"
    },
    {
     "data": {
      "text/html": [
       "Tracking run with wandb version 0.19.6"
      ],
      "text/plain": [
       "<IPython.core.display.HTML object>"
      ]
     },
     "metadata": {},
     "output_type": "display_data"
    },
    {
     "data": {
      "text/html": [
       "Run data is saved locally in <code>c:\\GitHubRepo\\AI_Predicting_Pregnancy_Success\\HongSeongIn\\wandb\\run-20250208_012529-vcudwkkn</code>"
      ],
      "text/plain": [
       "<IPython.core.display.HTML object>"
      ]
     },
     "metadata": {},
     "output_type": "display_data"
    },
    {
     "data": {
      "text/html": [
       "Syncing run <strong><a href='https://wandb.ai/espada105-hanseouniversity/LGaimers/runs/vcudwkkn' target=\"_blank\">silver-sweep-3</a></strong> to <a href='https://wandb.ai/espada105-hanseouniversity/LGaimers' target=\"_blank\">Weights & Biases</a> (<a href='https://wandb.me/developer-guide' target=\"_blank\">docs</a>)<br>Sweep page: <a href='https://wandb.ai/espada105-hanseouniversity/LGaimers/sweeps/dxgv2s1t' target=\"_blank\">https://wandb.ai/espada105-hanseouniversity/LGaimers/sweeps/dxgv2s1t</a>"
      ],
      "text/plain": [
       "<IPython.core.display.HTML object>"
      ]
     },
     "metadata": {},
     "output_type": "display_data"
    },
    {
     "data": {
      "text/html": [
       " View project at <a href='https://wandb.ai/espada105-hanseouniversity/LGaimers' target=\"_blank\">https://wandb.ai/espada105-hanseouniversity/LGaimers</a>"
      ],
      "text/plain": [
       "<IPython.core.display.HTML object>"
      ]
     },
     "metadata": {},
     "output_type": "display_data"
    },
    {
     "data": {
      "text/html": [
       " View sweep at <a href='https://wandb.ai/espada105-hanseouniversity/LGaimers/sweeps/dxgv2s1t' target=\"_blank\">https://wandb.ai/espada105-hanseouniversity/LGaimers/sweeps/dxgv2s1t</a>"
      ],
      "text/plain": [
       "<IPython.core.display.HTML object>"
      ]
     },
     "metadata": {},
     "output_type": "display_data"
    },
    {
     "data": {
      "text/html": [
       " View run at <a href='https://wandb.ai/espada105-hanseouniversity/LGaimers/runs/vcudwkkn' target=\"_blank\">https://wandb.ai/espada105-hanseouniversity/LGaimers/runs/vcudwkkn</a>"
      ],
      "text/plain": [
       "<IPython.core.display.HTML object>"
      ]
     },
     "metadata": {},
     "output_type": "display_data"
    },
    {
     "name": "stdout",
     "output_type": "stream",
     "text": [
      "Training until validation scores don't improve for 100 rounds\n",
      "Did not meet early stopping. Best iteration is:\n",
      "[949]\tvalid_0's binary_logloss: 0.485906\n"
     ]
    },
    {
     "name": "stderr",
     "output_type": "stream",
     "text": [
      "c:\\Users\\tjddl\\AppData\\Local\\Programs\\Python\\Python310\\lib\\site-packages\\sklearn\\utils\\validation.py:2732: UserWarning: X has feature names, but SelectFromModel was fitted without feature names\n",
      "  warnings.warn(\n",
      "c:\\Users\\tjddl\\AppData\\Local\\Programs\\Python\\Python310\\lib\\site-packages\\sklearn\\utils\\validation.py:2732: UserWarning: X has feature names, but SelectFromModel was fitted without feature names\n",
      "  warnings.warn(\n",
      "c:\\Users\\tjddl\\AppData\\Local\\Programs\\Python\\Python310\\lib\\site-packages\\sklearn\\utils\\deprecation.py:151: FutureWarning: 'force_all_finite' was renamed to 'ensure_all_finite' in 1.6 and will be removed in 1.8.\n",
      "  warnings.warn(\n"
     ]
    },
    {
     "name": "stdout",
     "output_type": "stream",
     "text": [
      "Training until validation scores don't improve for 100 rounds\n",
      "[10]\tvalid_0's binary_logloss: 0.557659\n",
      "[20]\tvalid_0's binary_logloss: 0.548339\n",
      "[30]\tvalid_0's binary_logloss: 0.540488\n",
      "[40]\tvalid_0's binary_logloss: 0.533832\n",
      "[50]\tvalid_0's binary_logloss: 0.528117\n",
      "[60]\tvalid_0's binary_logloss: 0.523202\n",
      "[70]\tvalid_0's binary_logloss: 0.518968\n",
      "[80]\tvalid_0's binary_logloss: 0.515291\n",
      "[90]\tvalid_0's binary_logloss: 0.512077\n",
      "[100]\tvalid_0's binary_logloss: 0.509274\n",
      "[110]\tvalid_0's binary_logloss: 0.506829\n",
      "[120]\tvalid_0's binary_logloss: 0.504677\n",
      "[130]\tvalid_0's binary_logloss: 0.502781\n",
      "[140]\tvalid_0's binary_logloss: 0.501087\n",
      "[150]\tvalid_0's binary_logloss: 0.499581\n",
      "[160]\tvalid_0's binary_logloss: 0.498259\n",
      "[170]\tvalid_0's binary_logloss: 0.49708\n",
      "[180]\tvalid_0's binary_logloss: 0.496036\n",
      "[190]\tvalid_0's binary_logloss: 0.495096\n",
      "[200]\tvalid_0's binary_logloss: 0.494264\n",
      "[210]\tvalid_0's binary_logloss: 0.493512\n",
      "[220]\tvalid_0's binary_logloss: 0.492837\n",
      "[230]\tvalid_0's binary_logloss: 0.492232\n",
      "[240]\tvalid_0's binary_logloss: 0.491693\n",
      "[250]\tvalid_0's binary_logloss: 0.491192\n",
      "[260]\tvalid_0's binary_logloss: 0.490735\n",
      "[270]\tvalid_0's binary_logloss: 0.490323\n",
      "[280]\tvalid_0's binary_logloss: 0.489953\n",
      "[290]\tvalid_0's binary_logloss: 0.489604\n",
      "[300]\tvalid_0's binary_logloss: 0.489298\n",
      "[310]\tvalid_0's binary_logloss: 0.489024\n",
      "[320]\tvalid_0's binary_logloss: 0.488772\n",
      "[330]\tvalid_0's binary_logloss: 0.488552\n",
      "[340]\tvalid_0's binary_logloss: 0.488347\n",
      "[350]\tvalid_0's binary_logloss: 0.488171\n",
      "[360]\tvalid_0's binary_logloss: 0.488\n",
      "[370]\tvalid_0's binary_logloss: 0.487837\n",
      "[380]\tvalid_0's binary_logloss: 0.487683\n",
      "[390]\tvalid_0's binary_logloss: 0.487529\n",
      "[400]\tvalid_0's binary_logloss: 0.487398\n",
      "[410]\tvalid_0's binary_logloss: 0.487275\n",
      "[420]\tvalid_0's binary_logloss: 0.487162\n",
      "[430]\tvalid_0's binary_logloss: 0.487065\n",
      "[440]\tvalid_0's binary_logloss: 0.486978\n",
      "[450]\tvalid_0's binary_logloss: 0.486896\n",
      "[460]\tvalid_0's binary_logloss: 0.486821\n",
      "[470]\tvalid_0's binary_logloss: 0.486755\n",
      "[480]\tvalid_0's binary_logloss: 0.486688\n",
      "[490]\tvalid_0's binary_logloss: 0.486629\n",
      "[500]\tvalid_0's binary_logloss: 0.486578\n",
      "[510]\tvalid_0's binary_logloss: 0.486536\n",
      "[520]\tvalid_0's binary_logloss: 0.4865\n",
      "[530]\tvalid_0's binary_logloss: 0.486461\n",
      "[540]\tvalid_0's binary_logloss: 0.486421\n",
      "[550]\tvalid_0's binary_logloss: 0.486395\n",
      "[560]\tvalid_0's binary_logloss: 0.486365\n",
      "[570]\tvalid_0's binary_logloss: 0.486325\n",
      "[580]\tvalid_0's binary_logloss: 0.486289\n",
      "[590]\tvalid_0's binary_logloss: 0.48626\n",
      "[600]\tvalid_0's binary_logloss: 0.486232\n",
      "[610]\tvalid_0's binary_logloss: 0.486217\n",
      "[620]\tvalid_0's binary_logloss: 0.486188\n",
      "[630]\tvalid_0's binary_logloss: 0.486159\n",
      "[640]\tvalid_0's binary_logloss: 0.486144\n",
      "[650]\tvalid_0's binary_logloss: 0.486127\n",
      "[660]\tvalid_0's binary_logloss: 0.486112\n",
      "[670]\tvalid_0's binary_logloss: 0.486093\n",
      "[680]\tvalid_0's binary_logloss: 0.486077\n",
      "[690]\tvalid_0's binary_logloss: 0.486063\n",
      "[700]\tvalid_0's binary_logloss: 0.486051\n",
      "[710]\tvalid_0's binary_logloss: 0.486035\n",
      "[720]\tvalid_0's binary_logloss: 0.486016\n",
      "[730]\tvalid_0's binary_logloss: 0.486001\n",
      "[740]\tvalid_0's binary_logloss: 0.485982\n",
      "[750]\tvalid_0's binary_logloss: 0.485971\n",
      "[760]\tvalid_0's binary_logloss: 0.485958\n",
      "[770]\tvalid_0's binary_logloss: 0.485948\n",
      "[780]\tvalid_0's binary_logloss: 0.485935\n",
      "[790]\tvalid_0's binary_logloss: 0.485935\n",
      "[800]\tvalid_0's binary_logloss: 0.485923\n",
      "[810]\tvalid_0's binary_logloss: 0.485918\n",
      "[820]\tvalid_0's binary_logloss: 0.485911\n",
      "[830]\tvalid_0's binary_logloss: 0.485904\n",
      "[840]\tvalid_0's binary_logloss: 0.485895\n",
      "[850]\tvalid_0's binary_logloss: 0.485887\n",
      "[860]\tvalid_0's binary_logloss: 0.485879\n",
      "[870]\tvalid_0's binary_logloss: 0.485871\n",
      "[880]\tvalid_0's binary_logloss: 0.485865\n",
      "[890]\tvalid_0's binary_logloss: 0.48586\n",
      "[900]\tvalid_0's binary_logloss: 0.485855\n",
      "[910]\tvalid_0's binary_logloss: 0.485853\n",
      "[920]\tvalid_0's binary_logloss: 0.485847\n",
      "[930]\tvalid_0's binary_logloss: 0.485844\n",
      "[940]\tvalid_0's binary_logloss: 0.485843\n",
      "[950]\tvalid_0's binary_logloss: 0.485841\n",
      "[960]\tvalid_0's binary_logloss: 0.485838\n",
      "[970]\tvalid_0's binary_logloss: 0.485834\n",
      "[980]\tvalid_0's binary_logloss: 0.485828\n",
      "[990]\tvalid_0's binary_logloss: 0.485824\n",
      "[1000]\tvalid_0's binary_logloss: 0.485822\n",
      "Did not meet early stopping. Best iteration is:\n",
      "[993]\tvalid_0's binary_logloss: 0.485822\n"
     ]
    },
    {
     "name": "stderr",
     "output_type": "stream",
     "text": [
      "c:\\Users\\tjddl\\AppData\\Local\\Programs\\Python\\Python310\\lib\\site-packages\\sklearn\\utils\\deprecation.py:151: FutureWarning: 'force_all_finite' was renamed to 'ensure_all_finite' in 1.6 and will be removed in 1.8.\n",
      "  warnings.warn(\n"
     ]
    },
    {
     "name": "stdout",
     "output_type": "stream",
     "text": [
      "최종 모델 ROC AUC: 0.73926345\n"
     ]
    },
    {
     "data": {
      "text/html": [],
      "text/plain": [
       "<IPython.core.display.HTML object>"
      ]
     },
     "metadata": {},
     "output_type": "display_data"
    },
    {
     "data": {
      "text/html": [
       "<br>    <style><br>        .wandb-row {<br>            display: flex;<br>            flex-direction: row;<br>            flex-wrap: wrap;<br>            justify-content: flex-start;<br>            width: 100%;<br>        }<br>        .wandb-col {<br>            display: flex;<br>            flex-direction: column;<br>            flex-basis: 100%;<br>            flex: 1;<br>            padding: 10px;<br>        }<br>    </style><br><div class=\"wandb-row\"><div class=\"wandb-col\"><h3>Run history:</h3><br/><table class=\"wandb\"><tr><td>final_validation_roc_auc</td><td>▁</td></tr></table><br/></div><div class=\"wandb-col\"><h3>Run summary:</h3><br/><table class=\"wandb\"><tr><td>final_validation_roc_auc</td><td>0.73926</td></tr></table><br/></div></div>"
      ],
      "text/plain": [
       "<IPython.core.display.HTML object>"
      ]
     },
     "metadata": {},
     "output_type": "display_data"
    },
    {
     "data": {
      "text/html": [
       " View run <strong style=\"color:#cdcd00\">silver-sweep-3</strong> at: <a href='https://wandb.ai/espada105-hanseouniversity/LGaimers/runs/vcudwkkn' target=\"_blank\">https://wandb.ai/espada105-hanseouniversity/LGaimers/runs/vcudwkkn</a><br> View project at: <a href='https://wandb.ai/espada105-hanseouniversity/LGaimers' target=\"_blank\">https://wandb.ai/espada105-hanseouniversity/LGaimers</a><br>Synced 5 W&B file(s), 0 media file(s), 0 artifact file(s) and 0 other file(s)"
      ],
      "text/plain": [
       "<IPython.core.display.HTML object>"
      ]
     },
     "metadata": {},
     "output_type": "display_data"
    },
    {
     "data": {
      "text/html": [
       "Find logs at: <code>.\\wandb\\run-20250208_012529-vcudwkkn\\logs</code>"
      ],
      "text/plain": [
       "<IPython.core.display.HTML object>"
      ]
     },
     "metadata": {},
     "output_type": "display_data"
    },
    {
     "name": "stderr",
     "output_type": "stream",
     "text": [
      "\u001b[34m\u001b[1mwandb\u001b[0m: Agent Starting Run: ok0o4l6x with config:\n",
      "\u001b[34m\u001b[1mwandb\u001b[0m: \tcolsample_bytree: 0.6\n",
      "\u001b[34m\u001b[1mwandb\u001b[0m: \tlearning_rate: 0.01\n",
      "\u001b[34m\u001b[1mwandb\u001b[0m: \tmax_depth: 10\n",
      "\u001b[34m\u001b[1mwandb\u001b[0m: \tmin_child_weight: 1\n",
      "\u001b[34m\u001b[1mwandb\u001b[0m: \tn_estimators: 1000\n",
      "\u001b[34m\u001b[1mwandb\u001b[0m: \trandom_state: 42\n",
      "\u001b[34m\u001b[1mwandb\u001b[0m: \treg_alpha: 0\n",
      "\u001b[34m\u001b[1mwandb\u001b[0m: \treg_lambda: 0.1\n",
      "\u001b[34m\u001b[1mwandb\u001b[0m: \tstopping_rounds: 100\n",
      "\u001b[34m\u001b[1mwandb\u001b[0m: \tsubsample: 0.6\n",
      "\u001b[34m\u001b[1mwandb\u001b[0m: \ttest_size: 0.2\n"
     ]
    },
    {
     "data": {
      "text/html": [
       "Ignoring project 'LGaimers' when running a sweep."
      ],
      "text/plain": [
       "<IPython.core.display.HTML object>"
      ]
     },
     "metadata": {},
     "output_type": "display_data"
    },
    {
     "data": {
      "text/html": [
       "Ignoring entity 'espada105-hanseouniversity' when running a sweep."
      ],
      "text/plain": [
       "<IPython.core.display.HTML object>"
      ]
     },
     "metadata": {},
     "output_type": "display_data"
    },
    {
     "data": {
      "text/html": [
       "Tracking run with wandb version 0.19.6"
      ],
      "text/plain": [
       "<IPython.core.display.HTML object>"
      ]
     },
     "metadata": {},
     "output_type": "display_data"
    },
    {
     "data": {
      "text/html": [
       "Run data is saved locally in <code>c:\\GitHubRepo\\AI_Predicting_Pregnancy_Success\\HongSeongIn\\wandb\\run-20250208_012550-ok0o4l6x</code>"
      ],
      "text/plain": [
       "<IPython.core.display.HTML object>"
      ]
     },
     "metadata": {},
     "output_type": "display_data"
    },
    {
     "data": {
      "text/html": [
       "Syncing run <strong><a href='https://wandb.ai/espada105-hanseouniversity/LGaimers/runs/ok0o4l6x' target=\"_blank\">glad-sweep-4</a></strong> to <a href='https://wandb.ai/espada105-hanseouniversity/LGaimers' target=\"_blank\">Weights & Biases</a> (<a href='https://wandb.me/developer-guide' target=\"_blank\">docs</a>)<br>Sweep page: <a href='https://wandb.ai/espada105-hanseouniversity/LGaimers/sweeps/dxgv2s1t' target=\"_blank\">https://wandb.ai/espada105-hanseouniversity/LGaimers/sweeps/dxgv2s1t</a>"
      ],
      "text/plain": [
       "<IPython.core.display.HTML object>"
      ]
     },
     "metadata": {},
     "output_type": "display_data"
    },
    {
     "data": {
      "text/html": [
       " View project at <a href='https://wandb.ai/espada105-hanseouniversity/LGaimers' target=\"_blank\">https://wandb.ai/espada105-hanseouniversity/LGaimers</a>"
      ],
      "text/plain": [
       "<IPython.core.display.HTML object>"
      ]
     },
     "metadata": {},
     "output_type": "display_data"
    },
    {
     "data": {
      "text/html": [
       " View sweep at <a href='https://wandb.ai/espada105-hanseouniversity/LGaimers/sweeps/dxgv2s1t' target=\"_blank\">https://wandb.ai/espada105-hanseouniversity/LGaimers/sweeps/dxgv2s1t</a>"
      ],
      "text/plain": [
       "<IPython.core.display.HTML object>"
      ]
     },
     "metadata": {},
     "output_type": "display_data"
    },
    {
     "data": {
      "text/html": [
       " View run at <a href='https://wandb.ai/espada105-hanseouniversity/LGaimers/runs/ok0o4l6x' target=\"_blank\">https://wandb.ai/espada105-hanseouniversity/LGaimers/runs/ok0o4l6x</a>"
      ],
      "text/plain": [
       "<IPython.core.display.HTML object>"
      ]
     },
     "metadata": {},
     "output_type": "display_data"
    },
    {
     "name": "stdout",
     "output_type": "stream",
     "text": [
      "Training until validation scores don't improve for 100 rounds\n",
      "Did not meet early stopping. Best iteration is:\n",
      "[949]\tvalid_0's binary_logloss: 0.485906\n"
     ]
    },
    {
     "name": "stderr",
     "output_type": "stream",
     "text": [
      "c:\\Users\\tjddl\\AppData\\Local\\Programs\\Python\\Python310\\lib\\site-packages\\sklearn\\utils\\validation.py:2732: UserWarning: X has feature names, but SelectFromModel was fitted without feature names\n",
      "  warnings.warn(\n",
      "c:\\Users\\tjddl\\AppData\\Local\\Programs\\Python\\Python310\\lib\\site-packages\\sklearn\\utils\\validation.py:2732: UserWarning: X has feature names, but SelectFromModel was fitted without feature names\n",
      "  warnings.warn(\n",
      "c:\\Users\\tjddl\\AppData\\Local\\Programs\\Python\\Python310\\lib\\site-packages\\sklearn\\utils\\deprecation.py:151: FutureWarning: 'force_all_finite' was renamed to 'ensure_all_finite' in 1.6 and will be removed in 1.8.\n",
      "  warnings.warn(\n"
     ]
    },
    {
     "name": "stdout",
     "output_type": "stream",
     "text": [
      "Training until validation scores don't improve for 100 rounds\n",
      "[10]\tvalid_0's binary_logloss: 0.557659\n",
      "[20]\tvalid_0's binary_logloss: 0.548339\n",
      "[30]\tvalid_0's binary_logloss: 0.540488\n",
      "[40]\tvalid_0's binary_logloss: 0.533832\n",
      "[50]\tvalid_0's binary_logloss: 0.528117\n",
      "[60]\tvalid_0's binary_logloss: 0.523202\n",
      "[70]\tvalid_0's binary_logloss: 0.518968\n",
      "[80]\tvalid_0's binary_logloss: 0.515291\n",
      "[90]\tvalid_0's binary_logloss: 0.512077\n",
      "[100]\tvalid_0's binary_logloss: 0.509274\n",
      "[110]\tvalid_0's binary_logloss: 0.506829\n",
      "[120]\tvalid_0's binary_logloss: 0.504677\n",
      "[130]\tvalid_0's binary_logloss: 0.502781\n",
      "[140]\tvalid_0's binary_logloss: 0.501087\n",
      "[150]\tvalid_0's binary_logloss: 0.499581\n",
      "[160]\tvalid_0's binary_logloss: 0.498259\n",
      "[170]\tvalid_0's binary_logloss: 0.49708\n",
      "[180]\tvalid_0's binary_logloss: 0.496036\n",
      "[190]\tvalid_0's binary_logloss: 0.495096\n",
      "[200]\tvalid_0's binary_logloss: 0.494264\n",
      "[210]\tvalid_0's binary_logloss: 0.493512\n",
      "[220]\tvalid_0's binary_logloss: 0.492837\n",
      "[230]\tvalid_0's binary_logloss: 0.492232\n",
      "[240]\tvalid_0's binary_logloss: 0.491693\n",
      "[250]\tvalid_0's binary_logloss: 0.491192\n",
      "[260]\tvalid_0's binary_logloss: 0.490735\n",
      "[270]\tvalid_0's binary_logloss: 0.490323\n",
      "[280]\tvalid_0's binary_logloss: 0.489953\n",
      "[290]\tvalid_0's binary_logloss: 0.489604\n",
      "[300]\tvalid_0's binary_logloss: 0.489298\n",
      "[310]\tvalid_0's binary_logloss: 0.489024\n",
      "[320]\tvalid_0's binary_logloss: 0.488772\n",
      "[330]\tvalid_0's binary_logloss: 0.488552\n",
      "[340]\tvalid_0's binary_logloss: 0.488347\n",
      "[350]\tvalid_0's binary_logloss: 0.488171\n",
      "[360]\tvalid_0's binary_logloss: 0.488\n",
      "[370]\tvalid_0's binary_logloss: 0.487837\n",
      "[380]\tvalid_0's binary_logloss: 0.487683\n",
      "[390]\tvalid_0's binary_logloss: 0.487529\n",
      "[400]\tvalid_0's binary_logloss: 0.487398\n",
      "[410]\tvalid_0's binary_logloss: 0.487275\n",
      "[420]\tvalid_0's binary_logloss: 0.487162\n",
      "[430]\tvalid_0's binary_logloss: 0.487065\n",
      "[440]\tvalid_0's binary_logloss: 0.486978\n",
      "[450]\tvalid_0's binary_logloss: 0.486896\n",
      "[460]\tvalid_0's binary_logloss: 0.486821\n",
      "[470]\tvalid_0's binary_logloss: 0.486755\n",
      "[480]\tvalid_0's binary_logloss: 0.486688\n",
      "[490]\tvalid_0's binary_logloss: 0.486629\n",
      "[500]\tvalid_0's binary_logloss: 0.486578\n",
      "[510]\tvalid_0's binary_logloss: 0.486536\n",
      "[520]\tvalid_0's binary_logloss: 0.4865\n",
      "[530]\tvalid_0's binary_logloss: 0.486461\n",
      "[540]\tvalid_0's binary_logloss: 0.486421\n",
      "[550]\tvalid_0's binary_logloss: 0.486395\n",
      "[560]\tvalid_0's binary_logloss: 0.486365\n",
      "[570]\tvalid_0's binary_logloss: 0.486325\n",
      "[580]\tvalid_0's binary_logloss: 0.486289\n",
      "[590]\tvalid_0's binary_logloss: 0.48626\n",
      "[600]\tvalid_0's binary_logloss: 0.486232\n",
      "[610]\tvalid_0's binary_logloss: 0.486217\n",
      "[620]\tvalid_0's binary_logloss: 0.486188\n",
      "[630]\tvalid_0's binary_logloss: 0.486159\n",
      "[640]\tvalid_0's binary_logloss: 0.486144\n",
      "[650]\tvalid_0's binary_logloss: 0.486127\n",
      "[660]\tvalid_0's binary_logloss: 0.486112\n",
      "[670]\tvalid_0's binary_logloss: 0.486093\n",
      "[680]\tvalid_0's binary_logloss: 0.486077\n",
      "[690]\tvalid_0's binary_logloss: 0.486063\n",
      "[700]\tvalid_0's binary_logloss: 0.486051\n",
      "[710]\tvalid_0's binary_logloss: 0.486035\n",
      "[720]\tvalid_0's binary_logloss: 0.486016\n",
      "[730]\tvalid_0's binary_logloss: 0.486001\n",
      "[740]\tvalid_0's binary_logloss: 0.485982\n",
      "[750]\tvalid_0's binary_logloss: 0.485971\n",
      "[760]\tvalid_0's binary_logloss: 0.485958\n",
      "[770]\tvalid_0's binary_logloss: 0.485948\n",
      "[780]\tvalid_0's binary_logloss: 0.485935\n",
      "[790]\tvalid_0's binary_logloss: 0.485935\n",
      "[800]\tvalid_0's binary_logloss: 0.485923\n",
      "[810]\tvalid_0's binary_logloss: 0.485918\n",
      "[820]\tvalid_0's binary_logloss: 0.485911\n",
      "[830]\tvalid_0's binary_logloss: 0.485904\n",
      "[840]\tvalid_0's binary_logloss: 0.485895\n",
      "[850]\tvalid_0's binary_logloss: 0.485887\n",
      "[860]\tvalid_0's binary_logloss: 0.485879\n",
      "[870]\tvalid_0's binary_logloss: 0.485871\n",
      "[880]\tvalid_0's binary_logloss: 0.485865\n",
      "[890]\tvalid_0's binary_logloss: 0.48586\n",
      "[900]\tvalid_0's binary_logloss: 0.485855\n",
      "[910]\tvalid_0's binary_logloss: 0.485853\n",
      "[920]\tvalid_0's binary_logloss: 0.485847\n",
      "[930]\tvalid_0's binary_logloss: 0.485844\n",
      "[940]\tvalid_0's binary_logloss: 0.485843\n",
      "[950]\tvalid_0's binary_logloss: 0.485841\n",
      "[960]\tvalid_0's binary_logloss: 0.485838\n",
      "[970]\tvalid_0's binary_logloss: 0.485834\n",
      "[980]\tvalid_0's binary_logloss: 0.485828\n",
      "[990]\tvalid_0's binary_logloss: 0.485824\n",
      "[1000]\tvalid_0's binary_logloss: 0.485822\n",
      "Did not meet early stopping. Best iteration is:\n",
      "[993]\tvalid_0's binary_logloss: 0.485822\n"
     ]
    },
    {
     "name": "stderr",
     "output_type": "stream",
     "text": [
      "c:\\Users\\tjddl\\AppData\\Local\\Programs\\Python\\Python310\\lib\\site-packages\\sklearn\\utils\\deprecation.py:151: FutureWarning: 'force_all_finite' was renamed to 'ensure_all_finite' in 1.6 and will be removed in 1.8.\n",
      "  warnings.warn(\n"
     ]
    },
    {
     "name": "stdout",
     "output_type": "stream",
     "text": [
      "최종 모델 ROC AUC: 0.73926345\n"
     ]
    },
    {
     "data": {
      "text/html": [],
      "text/plain": [
       "<IPython.core.display.HTML object>"
      ]
     },
     "metadata": {},
     "output_type": "display_data"
    },
    {
     "data": {
      "text/html": [
       "<br>    <style><br>        .wandb-row {<br>            display: flex;<br>            flex-direction: row;<br>            flex-wrap: wrap;<br>            justify-content: flex-start;<br>            width: 100%;<br>        }<br>        .wandb-col {<br>            display: flex;<br>            flex-direction: column;<br>            flex-basis: 100%;<br>            flex: 1;<br>            padding: 10px;<br>        }<br>    </style><br><div class=\"wandb-row\"><div class=\"wandb-col\"><h3>Run history:</h3><br/><table class=\"wandb\"><tr><td>final_validation_roc_auc</td><td>▁</td></tr></table><br/></div><div class=\"wandb-col\"><h3>Run summary:</h3><br/><table class=\"wandb\"><tr><td>final_validation_roc_auc</td><td>0.73926</td></tr></table><br/></div></div>"
      ],
      "text/plain": [
       "<IPython.core.display.HTML object>"
      ]
     },
     "metadata": {},
     "output_type": "display_data"
    },
    {
     "data": {
      "text/html": [
       " View run <strong style=\"color:#cdcd00\">glad-sweep-4</strong> at: <a href='https://wandb.ai/espada105-hanseouniversity/LGaimers/runs/ok0o4l6x' target=\"_blank\">https://wandb.ai/espada105-hanseouniversity/LGaimers/runs/ok0o4l6x</a><br> View project at: <a href='https://wandb.ai/espada105-hanseouniversity/LGaimers' target=\"_blank\">https://wandb.ai/espada105-hanseouniversity/LGaimers</a><br>Synced 5 W&B file(s), 0 media file(s), 0 artifact file(s) and 0 other file(s)"
      ],
      "text/plain": [
       "<IPython.core.display.HTML object>"
      ]
     },
     "metadata": {},
     "output_type": "display_data"
    },
    {
     "data": {
      "text/html": [
       "Find logs at: <code>.\\wandb\\run-20250208_012550-ok0o4l6x\\logs</code>"
      ],
      "text/plain": [
       "<IPython.core.display.HTML object>"
      ]
     },
     "metadata": {},
     "output_type": "display_data"
    },
    {
     "name": "stderr",
     "output_type": "stream",
     "text": [
      "\u001b[34m\u001b[1mwandb\u001b[0m: Agent Starting Run: ij435brr with config:\n",
      "\u001b[34m\u001b[1mwandb\u001b[0m: \tcolsample_bytree: 0.6\n",
      "\u001b[34m\u001b[1mwandb\u001b[0m: \tlearning_rate: 0.01\n",
      "\u001b[34m\u001b[1mwandb\u001b[0m: \tmax_depth: 10\n",
      "\u001b[34m\u001b[1mwandb\u001b[0m: \tmin_child_weight: 1\n",
      "\u001b[34m\u001b[1mwandb\u001b[0m: \tn_estimators: 1000\n",
      "\u001b[34m\u001b[1mwandb\u001b[0m: \trandom_state: 42\n",
      "\u001b[34m\u001b[1mwandb\u001b[0m: \treg_alpha: 0\n",
      "\u001b[34m\u001b[1mwandb\u001b[0m: \treg_lambda: 0.1\n",
      "\u001b[34m\u001b[1mwandb\u001b[0m: \tstopping_rounds: 100\n",
      "\u001b[34m\u001b[1mwandb\u001b[0m: \tsubsample: 0.8\n",
      "\u001b[34m\u001b[1mwandb\u001b[0m: \ttest_size: 0.2\n"
     ]
    },
    {
     "data": {
      "text/html": [
       "Ignoring project 'LGaimers' when running a sweep."
      ],
      "text/plain": [
       "<IPython.core.display.HTML object>"
      ]
     },
     "metadata": {},
     "output_type": "display_data"
    },
    {
     "data": {
      "text/html": [
       "Ignoring entity 'espada105-hanseouniversity' when running a sweep."
      ],
      "text/plain": [
       "<IPython.core.display.HTML object>"
      ]
     },
     "metadata": {},
     "output_type": "display_data"
    },
    {
     "data": {
      "text/html": [
       "Tracking run with wandb version 0.19.6"
      ],
      "text/plain": [
       "<IPython.core.display.HTML object>"
      ]
     },
     "metadata": {},
     "output_type": "display_data"
    },
    {
     "data": {
      "text/html": [
       "Run data is saved locally in <code>c:\\GitHubRepo\\AI_Predicting_Pregnancy_Success\\HongSeongIn\\wandb\\run-20250208_012611-ij435brr</code>"
      ],
      "text/plain": [
       "<IPython.core.display.HTML object>"
      ]
     },
     "metadata": {},
     "output_type": "display_data"
    },
    {
     "data": {
      "text/html": [
       "Syncing run <strong><a href='https://wandb.ai/espada105-hanseouniversity/LGaimers/runs/ij435brr' target=\"_blank\">glamorous-sweep-5</a></strong> to <a href='https://wandb.ai/espada105-hanseouniversity/LGaimers' target=\"_blank\">Weights & Biases</a> (<a href='https://wandb.me/developer-guide' target=\"_blank\">docs</a>)<br>Sweep page: <a href='https://wandb.ai/espada105-hanseouniversity/LGaimers/sweeps/dxgv2s1t' target=\"_blank\">https://wandb.ai/espada105-hanseouniversity/LGaimers/sweeps/dxgv2s1t</a>"
      ],
      "text/plain": [
       "<IPython.core.display.HTML object>"
      ]
     },
     "metadata": {},
     "output_type": "display_data"
    },
    {
     "data": {
      "text/html": [
       " View project at <a href='https://wandb.ai/espada105-hanseouniversity/LGaimers' target=\"_blank\">https://wandb.ai/espada105-hanseouniversity/LGaimers</a>"
      ],
      "text/plain": [
       "<IPython.core.display.HTML object>"
      ]
     },
     "metadata": {},
     "output_type": "display_data"
    },
    {
     "data": {
      "text/html": [
       " View sweep at <a href='https://wandb.ai/espada105-hanseouniversity/LGaimers/sweeps/dxgv2s1t' target=\"_blank\">https://wandb.ai/espada105-hanseouniversity/LGaimers/sweeps/dxgv2s1t</a>"
      ],
      "text/plain": [
       "<IPython.core.display.HTML object>"
      ]
     },
     "metadata": {},
     "output_type": "display_data"
    },
    {
     "data": {
      "text/html": [
       " View run at <a href='https://wandb.ai/espada105-hanseouniversity/LGaimers/runs/ij435brr' target=\"_blank\">https://wandb.ai/espada105-hanseouniversity/LGaimers/runs/ij435brr</a>"
      ],
      "text/plain": [
       "<IPython.core.display.HTML object>"
      ]
     },
     "metadata": {},
     "output_type": "display_data"
    },
    {
     "name": "stdout",
     "output_type": "stream",
     "text": [
      "Training until validation scores don't improve for 100 rounds\n",
      "Did not meet early stopping. Best iteration is:\n",
      "[949]\tvalid_0's binary_logloss: 0.485906\n"
     ]
    },
    {
     "name": "stderr",
     "output_type": "stream",
     "text": [
      "c:\\Users\\tjddl\\AppData\\Local\\Programs\\Python\\Python310\\lib\\site-packages\\sklearn\\utils\\validation.py:2732: UserWarning: X has feature names, but SelectFromModel was fitted without feature names\n",
      "  warnings.warn(\n",
      "c:\\Users\\tjddl\\AppData\\Local\\Programs\\Python\\Python310\\lib\\site-packages\\sklearn\\utils\\validation.py:2732: UserWarning: X has feature names, but SelectFromModel was fitted without feature names\n",
      "  warnings.warn(\n",
      "c:\\Users\\tjddl\\AppData\\Local\\Programs\\Python\\Python310\\lib\\site-packages\\sklearn\\utils\\deprecation.py:151: FutureWarning: 'force_all_finite' was renamed to 'ensure_all_finite' in 1.6 and will be removed in 1.8.\n",
      "  warnings.warn(\n"
     ]
    },
    {
     "name": "stdout",
     "output_type": "stream",
     "text": [
      "Training until validation scores don't improve for 100 rounds\n",
      "[10]\tvalid_0's binary_logloss: 0.557659\n",
      "[20]\tvalid_0's binary_logloss: 0.548339\n",
      "[30]\tvalid_0's binary_logloss: 0.540488\n",
      "[40]\tvalid_0's binary_logloss: 0.533832\n",
      "[50]\tvalid_0's binary_logloss: 0.528117\n",
      "[60]\tvalid_0's binary_logloss: 0.523202\n",
      "[70]\tvalid_0's binary_logloss: 0.518968\n",
      "[80]\tvalid_0's binary_logloss: 0.515291\n",
      "[90]\tvalid_0's binary_logloss: 0.512077\n",
      "[100]\tvalid_0's binary_logloss: 0.509274\n",
      "[110]\tvalid_0's binary_logloss: 0.506829\n",
      "[120]\tvalid_0's binary_logloss: 0.504677\n",
      "[130]\tvalid_0's binary_logloss: 0.502781\n",
      "[140]\tvalid_0's binary_logloss: 0.501087\n",
      "[150]\tvalid_0's binary_logloss: 0.499581\n",
      "[160]\tvalid_0's binary_logloss: 0.498259\n",
      "[170]\tvalid_0's binary_logloss: 0.49708\n",
      "[180]\tvalid_0's binary_logloss: 0.496036\n",
      "[190]\tvalid_0's binary_logloss: 0.495096\n",
      "[200]\tvalid_0's binary_logloss: 0.494264\n",
      "[210]\tvalid_0's binary_logloss: 0.493512\n",
      "[220]\tvalid_0's binary_logloss: 0.492837\n",
      "[230]\tvalid_0's binary_logloss: 0.492232\n",
      "[240]\tvalid_0's binary_logloss: 0.491693\n",
      "[250]\tvalid_0's binary_logloss: 0.491192\n",
      "[260]\tvalid_0's binary_logloss: 0.490735\n",
      "[270]\tvalid_0's binary_logloss: 0.490323\n",
      "[280]\tvalid_0's binary_logloss: 0.489953\n",
      "[290]\tvalid_0's binary_logloss: 0.489604\n",
      "[300]\tvalid_0's binary_logloss: 0.489298\n",
      "[310]\tvalid_0's binary_logloss: 0.489024\n",
      "[320]\tvalid_0's binary_logloss: 0.488772\n",
      "[330]\tvalid_0's binary_logloss: 0.488552\n",
      "[340]\tvalid_0's binary_logloss: 0.488347\n",
      "[350]\tvalid_0's binary_logloss: 0.488171\n",
      "[360]\tvalid_0's binary_logloss: 0.488\n",
      "[370]\tvalid_0's binary_logloss: 0.487837\n",
      "[380]\tvalid_0's binary_logloss: 0.487683\n",
      "[390]\tvalid_0's binary_logloss: 0.487529\n",
      "[400]\tvalid_0's binary_logloss: 0.487398\n",
      "[410]\tvalid_0's binary_logloss: 0.487275\n",
      "[420]\tvalid_0's binary_logloss: 0.487162\n",
      "[430]\tvalid_0's binary_logloss: 0.487065\n",
      "[440]\tvalid_0's binary_logloss: 0.486978\n",
      "[450]\tvalid_0's binary_logloss: 0.486896\n",
      "[460]\tvalid_0's binary_logloss: 0.486821\n",
      "[470]\tvalid_0's binary_logloss: 0.486755\n",
      "[480]\tvalid_0's binary_logloss: 0.486688\n",
      "[490]\tvalid_0's binary_logloss: 0.486629\n",
      "[500]\tvalid_0's binary_logloss: 0.486578\n",
      "[510]\tvalid_0's binary_logloss: 0.486536\n",
      "[520]\tvalid_0's binary_logloss: 0.4865\n",
      "[530]\tvalid_0's binary_logloss: 0.486461\n",
      "[540]\tvalid_0's binary_logloss: 0.486421\n",
      "[550]\tvalid_0's binary_logloss: 0.486395\n",
      "[560]\tvalid_0's binary_logloss: 0.486365\n",
      "[570]\tvalid_0's binary_logloss: 0.486325\n",
      "[580]\tvalid_0's binary_logloss: 0.486289\n",
      "[590]\tvalid_0's binary_logloss: 0.48626\n",
      "[600]\tvalid_0's binary_logloss: 0.486232\n",
      "[610]\tvalid_0's binary_logloss: 0.486217\n",
      "[620]\tvalid_0's binary_logloss: 0.486188\n",
      "[630]\tvalid_0's binary_logloss: 0.486159\n",
      "[640]\tvalid_0's binary_logloss: 0.486144\n",
      "[650]\tvalid_0's binary_logloss: 0.486127\n",
      "[660]\tvalid_0's binary_logloss: 0.486112\n",
      "[670]\tvalid_0's binary_logloss: 0.486093\n",
      "[680]\tvalid_0's binary_logloss: 0.486077\n",
      "[690]\tvalid_0's binary_logloss: 0.486063\n",
      "[700]\tvalid_0's binary_logloss: 0.486051\n",
      "[710]\tvalid_0's binary_logloss: 0.486035\n",
      "[720]\tvalid_0's binary_logloss: 0.486016\n",
      "[730]\tvalid_0's binary_logloss: 0.486001\n",
      "[740]\tvalid_0's binary_logloss: 0.485982\n",
      "[750]\tvalid_0's binary_logloss: 0.485971\n",
      "[760]\tvalid_0's binary_logloss: 0.485958\n",
      "[770]\tvalid_0's binary_logloss: 0.485948\n",
      "[780]\tvalid_0's binary_logloss: 0.485935\n",
      "[790]\tvalid_0's binary_logloss: 0.485935\n",
      "[800]\tvalid_0's binary_logloss: 0.485923\n",
      "[810]\tvalid_0's binary_logloss: 0.485918\n",
      "[820]\tvalid_0's binary_logloss: 0.485911\n",
      "[830]\tvalid_0's binary_logloss: 0.485904\n",
      "[840]\tvalid_0's binary_logloss: 0.485895\n",
      "[850]\tvalid_0's binary_logloss: 0.485887\n",
      "[860]\tvalid_0's binary_logloss: 0.485879\n",
      "[870]\tvalid_0's binary_logloss: 0.485871\n",
      "[880]\tvalid_0's binary_logloss: 0.485865\n",
      "[890]\tvalid_0's binary_logloss: 0.48586\n",
      "[900]\tvalid_0's binary_logloss: 0.485855\n",
      "[910]\tvalid_0's binary_logloss: 0.485853\n",
      "[920]\tvalid_0's binary_logloss: 0.485847\n",
      "[930]\tvalid_0's binary_logloss: 0.485844\n",
      "[940]\tvalid_0's binary_logloss: 0.485843\n",
      "[950]\tvalid_0's binary_logloss: 0.485841\n",
      "[960]\tvalid_0's binary_logloss: 0.485838\n",
      "[970]\tvalid_0's binary_logloss: 0.485834\n",
      "[980]\tvalid_0's binary_logloss: 0.485828\n",
      "[990]\tvalid_0's binary_logloss: 0.485824\n",
      "[1000]\tvalid_0's binary_logloss: 0.485822\n",
      "Did not meet early stopping. Best iteration is:\n",
      "[993]\tvalid_0's binary_logloss: 0.485822\n"
     ]
    },
    {
     "name": "stderr",
     "output_type": "stream",
     "text": [
      "c:\\Users\\tjddl\\AppData\\Local\\Programs\\Python\\Python310\\lib\\site-packages\\sklearn\\utils\\deprecation.py:151: FutureWarning: 'force_all_finite' was renamed to 'ensure_all_finite' in 1.6 and will be removed in 1.8.\n",
      "  warnings.warn(\n"
     ]
    },
    {
     "name": "stdout",
     "output_type": "stream",
     "text": [
      "최종 모델 ROC AUC: 0.73926345\n"
     ]
    },
    {
     "data": {
      "text/html": [],
      "text/plain": [
       "<IPython.core.display.HTML object>"
      ]
     },
     "metadata": {},
     "output_type": "display_data"
    },
    {
     "data": {
      "text/html": [
       "<br>    <style><br>        .wandb-row {<br>            display: flex;<br>            flex-direction: row;<br>            flex-wrap: wrap;<br>            justify-content: flex-start;<br>            width: 100%;<br>        }<br>        .wandb-col {<br>            display: flex;<br>            flex-direction: column;<br>            flex-basis: 100%;<br>            flex: 1;<br>            padding: 10px;<br>        }<br>    </style><br><div class=\"wandb-row\"><div class=\"wandb-col\"><h3>Run history:</h3><br/><table class=\"wandb\"><tr><td>final_validation_roc_auc</td><td>▁</td></tr></table><br/></div><div class=\"wandb-col\"><h3>Run summary:</h3><br/><table class=\"wandb\"><tr><td>final_validation_roc_auc</td><td>0.73926</td></tr></table><br/></div></div>"
      ],
      "text/plain": [
       "<IPython.core.display.HTML object>"
      ]
     },
     "metadata": {},
     "output_type": "display_data"
    },
    {
     "data": {
      "text/html": [
       " View run <strong style=\"color:#cdcd00\">glamorous-sweep-5</strong> at: <a href='https://wandb.ai/espada105-hanseouniversity/LGaimers/runs/ij435brr' target=\"_blank\">https://wandb.ai/espada105-hanseouniversity/LGaimers/runs/ij435brr</a><br> View project at: <a href='https://wandb.ai/espada105-hanseouniversity/LGaimers' target=\"_blank\">https://wandb.ai/espada105-hanseouniversity/LGaimers</a><br>Synced 5 W&B file(s), 0 media file(s), 0 artifact file(s) and 0 other file(s)"
      ],
      "text/plain": [
       "<IPython.core.display.HTML object>"
      ]
     },
     "metadata": {},
     "output_type": "display_data"
    },
    {
     "data": {
      "text/html": [
       "Find logs at: <code>.\\wandb\\run-20250208_012611-ij435brr\\logs</code>"
      ],
      "text/plain": [
       "<IPython.core.display.HTML object>"
      ]
     },
     "metadata": {},
     "output_type": "display_data"
    },
    {
     "name": "stderr",
     "output_type": "stream",
     "text": [
      "\u001b[34m\u001b[1mwandb\u001b[0m: Agent Starting Run: evia9xtw with config:\n",
      "\u001b[34m\u001b[1mwandb\u001b[0m: \tcolsample_bytree: 0.6\n",
      "\u001b[34m\u001b[1mwandb\u001b[0m: \tlearning_rate: 0.01\n",
      "\u001b[34m\u001b[1mwandb\u001b[0m: \tmax_depth: 10\n",
      "\u001b[34m\u001b[1mwandb\u001b[0m: \tmin_child_weight: 1\n",
      "\u001b[34m\u001b[1mwandb\u001b[0m: \tn_estimators: 1000\n",
      "\u001b[34m\u001b[1mwandb\u001b[0m: \trandom_state: 42\n",
      "\u001b[34m\u001b[1mwandb\u001b[0m: \treg_alpha: 0\n",
      "\u001b[34m\u001b[1mwandb\u001b[0m: \treg_lambda: 0.1\n",
      "\u001b[34m\u001b[1mwandb\u001b[0m: \tstopping_rounds: 100\n",
      "\u001b[34m\u001b[1mwandb\u001b[0m: \tsubsample: 1\n",
      "\u001b[34m\u001b[1mwandb\u001b[0m: \ttest_size: 0.2\n"
     ]
    },
    {
     "data": {
      "text/html": [
       "Ignoring project 'LGaimers' when running a sweep."
      ],
      "text/plain": [
       "<IPython.core.display.HTML object>"
      ]
     },
     "metadata": {},
     "output_type": "display_data"
    },
    {
     "data": {
      "text/html": [
       "Ignoring entity 'espada105-hanseouniversity' when running a sweep."
      ],
      "text/plain": [
       "<IPython.core.display.HTML object>"
      ]
     },
     "metadata": {},
     "output_type": "display_data"
    },
    {
     "data": {
      "text/html": [
       "Tracking run with wandb version 0.19.6"
      ],
      "text/plain": [
       "<IPython.core.display.HTML object>"
      ]
     },
     "metadata": {},
     "output_type": "display_data"
    },
    {
     "data": {
      "text/html": [
       "Run data is saved locally in <code>c:\\GitHubRepo\\AI_Predicting_Pregnancy_Success\\HongSeongIn\\wandb\\run-20250208_012632-evia9xtw</code>"
      ],
      "text/plain": [
       "<IPython.core.display.HTML object>"
      ]
     },
     "metadata": {},
     "output_type": "display_data"
    },
    {
     "data": {
      "text/html": [
       "Syncing run <strong><a href='https://wandb.ai/espada105-hanseouniversity/LGaimers/runs/evia9xtw' target=\"_blank\">wise-sweep-6</a></strong> to <a href='https://wandb.ai/espada105-hanseouniversity/LGaimers' target=\"_blank\">Weights & Biases</a> (<a href='https://wandb.me/developer-guide' target=\"_blank\">docs</a>)<br>Sweep page: <a href='https://wandb.ai/espada105-hanseouniversity/LGaimers/sweeps/dxgv2s1t' target=\"_blank\">https://wandb.ai/espada105-hanseouniversity/LGaimers/sweeps/dxgv2s1t</a>"
      ],
      "text/plain": [
       "<IPython.core.display.HTML object>"
      ]
     },
     "metadata": {},
     "output_type": "display_data"
    },
    {
     "data": {
      "text/html": [
       " View project at <a href='https://wandb.ai/espada105-hanseouniversity/LGaimers' target=\"_blank\">https://wandb.ai/espada105-hanseouniversity/LGaimers</a>"
      ],
      "text/plain": [
       "<IPython.core.display.HTML object>"
      ]
     },
     "metadata": {},
     "output_type": "display_data"
    },
    {
     "data": {
      "text/html": [
       " View sweep at <a href='https://wandb.ai/espada105-hanseouniversity/LGaimers/sweeps/dxgv2s1t' target=\"_blank\">https://wandb.ai/espada105-hanseouniversity/LGaimers/sweeps/dxgv2s1t</a>"
      ],
      "text/plain": [
       "<IPython.core.display.HTML object>"
      ]
     },
     "metadata": {},
     "output_type": "display_data"
    },
    {
     "data": {
      "text/html": [
       " View run at <a href='https://wandb.ai/espada105-hanseouniversity/LGaimers/runs/evia9xtw' target=\"_blank\">https://wandb.ai/espada105-hanseouniversity/LGaimers/runs/evia9xtw</a>"
      ],
      "text/plain": [
       "<IPython.core.display.HTML object>"
      ]
     },
     "metadata": {},
     "output_type": "display_data"
    },
    {
     "name": "stdout",
     "output_type": "stream",
     "text": [
      "Training until validation scores don't improve for 100 rounds\n",
      "Did not meet early stopping. Best iteration is:\n",
      "[949]\tvalid_0's binary_logloss: 0.485906\n"
     ]
    },
    {
     "name": "stderr",
     "output_type": "stream",
     "text": [
      "c:\\Users\\tjddl\\AppData\\Local\\Programs\\Python\\Python310\\lib\\site-packages\\sklearn\\utils\\validation.py:2732: UserWarning: X has feature names, but SelectFromModel was fitted without feature names\n",
      "  warnings.warn(\n",
      "c:\\Users\\tjddl\\AppData\\Local\\Programs\\Python\\Python310\\lib\\site-packages\\sklearn\\utils\\validation.py:2732: UserWarning: X has feature names, but SelectFromModel was fitted without feature names\n",
      "  warnings.warn(\n",
      "c:\\Users\\tjddl\\AppData\\Local\\Programs\\Python\\Python310\\lib\\site-packages\\sklearn\\utils\\deprecation.py:151: FutureWarning: 'force_all_finite' was renamed to 'ensure_all_finite' in 1.6 and will be removed in 1.8.\n",
      "  warnings.warn(\n"
     ]
    },
    {
     "name": "stdout",
     "output_type": "stream",
     "text": [
      "Training until validation scores don't improve for 100 rounds\n",
      "[10]\tvalid_0's binary_logloss: 0.557659\n",
      "[20]\tvalid_0's binary_logloss: 0.548339\n",
      "[30]\tvalid_0's binary_logloss: 0.540488\n",
      "[40]\tvalid_0's binary_logloss: 0.533832\n",
      "[50]\tvalid_0's binary_logloss: 0.528117\n",
      "[60]\tvalid_0's binary_logloss: 0.523202\n",
      "[70]\tvalid_0's binary_logloss: 0.518968\n",
      "[80]\tvalid_0's binary_logloss: 0.515291\n",
      "[90]\tvalid_0's binary_logloss: 0.512077\n",
      "[100]\tvalid_0's binary_logloss: 0.509274\n",
      "[110]\tvalid_0's binary_logloss: 0.506829\n",
      "[120]\tvalid_0's binary_logloss: 0.504677\n",
      "[130]\tvalid_0's binary_logloss: 0.502781\n",
      "[140]\tvalid_0's binary_logloss: 0.501087\n",
      "[150]\tvalid_0's binary_logloss: 0.499581\n",
      "[160]\tvalid_0's binary_logloss: 0.498259\n",
      "[170]\tvalid_0's binary_logloss: 0.49708\n",
      "[180]\tvalid_0's binary_logloss: 0.496036\n",
      "[190]\tvalid_0's binary_logloss: 0.495096\n",
      "[200]\tvalid_0's binary_logloss: 0.494264\n",
      "[210]\tvalid_0's binary_logloss: 0.493512\n",
      "[220]\tvalid_0's binary_logloss: 0.492837\n",
      "[230]\tvalid_0's binary_logloss: 0.492232\n",
      "[240]\tvalid_0's binary_logloss: 0.491693\n",
      "[250]\tvalid_0's binary_logloss: 0.491192\n",
      "[260]\tvalid_0's binary_logloss: 0.490735\n",
      "[270]\tvalid_0's binary_logloss: 0.490323\n",
      "[280]\tvalid_0's binary_logloss: 0.489953\n",
      "[290]\tvalid_0's binary_logloss: 0.489604\n",
      "[300]\tvalid_0's binary_logloss: 0.489298\n",
      "[310]\tvalid_0's binary_logloss: 0.489024\n",
      "[320]\tvalid_0's binary_logloss: 0.488772\n",
      "[330]\tvalid_0's binary_logloss: 0.488552\n",
      "[340]\tvalid_0's binary_logloss: 0.488347\n",
      "[350]\tvalid_0's binary_logloss: 0.488171\n",
      "[360]\tvalid_0's binary_logloss: 0.488\n",
      "[370]\tvalid_0's binary_logloss: 0.487837\n",
      "[380]\tvalid_0's binary_logloss: 0.487683\n",
      "[390]\tvalid_0's binary_logloss: 0.487529\n",
      "[400]\tvalid_0's binary_logloss: 0.487398\n",
      "[410]\tvalid_0's binary_logloss: 0.487275\n",
      "[420]\tvalid_0's binary_logloss: 0.487162\n",
      "[430]\tvalid_0's binary_logloss: 0.487065\n",
      "[440]\tvalid_0's binary_logloss: 0.486978\n",
      "[450]\tvalid_0's binary_logloss: 0.486896\n",
      "[460]\tvalid_0's binary_logloss: 0.486821\n",
      "[470]\tvalid_0's binary_logloss: 0.486755\n",
      "[480]\tvalid_0's binary_logloss: 0.486688\n",
      "[490]\tvalid_0's binary_logloss: 0.486629\n",
      "[500]\tvalid_0's binary_logloss: 0.486578\n",
      "[510]\tvalid_0's binary_logloss: 0.486536\n",
      "[520]\tvalid_0's binary_logloss: 0.4865\n",
      "[530]\tvalid_0's binary_logloss: 0.486461\n",
      "[540]\tvalid_0's binary_logloss: 0.486421\n",
      "[550]\tvalid_0's binary_logloss: 0.486395\n",
      "[560]\tvalid_0's binary_logloss: 0.486365\n",
      "[570]\tvalid_0's binary_logloss: 0.486325\n",
      "[580]\tvalid_0's binary_logloss: 0.486289\n",
      "[590]\tvalid_0's binary_logloss: 0.48626\n",
      "[600]\tvalid_0's binary_logloss: 0.486232\n",
      "[610]\tvalid_0's binary_logloss: 0.486217\n",
      "[620]\tvalid_0's binary_logloss: 0.486188\n",
      "[630]\tvalid_0's binary_logloss: 0.486159\n",
      "[640]\tvalid_0's binary_logloss: 0.486144\n",
      "[650]\tvalid_0's binary_logloss: 0.486127\n",
      "[660]\tvalid_0's binary_logloss: 0.486112\n",
      "[670]\tvalid_0's binary_logloss: 0.486093\n",
      "[680]\tvalid_0's binary_logloss: 0.486077\n",
      "[690]\tvalid_0's binary_logloss: 0.486063\n",
      "[700]\tvalid_0's binary_logloss: 0.486051\n",
      "[710]\tvalid_0's binary_logloss: 0.486035\n",
      "[720]\tvalid_0's binary_logloss: 0.486016\n",
      "[730]\tvalid_0's binary_logloss: 0.486001\n",
      "[740]\tvalid_0's binary_logloss: 0.485982\n",
      "[750]\tvalid_0's binary_logloss: 0.485971\n",
      "[760]\tvalid_0's binary_logloss: 0.485958\n",
      "[770]\tvalid_0's binary_logloss: 0.485948\n",
      "[780]\tvalid_0's binary_logloss: 0.485935\n",
      "[790]\tvalid_0's binary_logloss: 0.485935\n",
      "[800]\tvalid_0's binary_logloss: 0.485923\n",
      "[810]\tvalid_0's binary_logloss: 0.485918\n",
      "[820]\tvalid_0's binary_logloss: 0.485911\n",
      "[830]\tvalid_0's binary_logloss: 0.485904\n",
      "[840]\tvalid_0's binary_logloss: 0.485895\n",
      "[850]\tvalid_0's binary_logloss: 0.485887\n",
      "[860]\tvalid_0's binary_logloss: 0.485879\n",
      "[870]\tvalid_0's binary_logloss: 0.485871\n",
      "[880]\tvalid_0's binary_logloss: 0.485865\n",
      "[890]\tvalid_0's binary_logloss: 0.48586\n",
      "[900]\tvalid_0's binary_logloss: 0.485855\n",
      "[910]\tvalid_0's binary_logloss: 0.485853\n",
      "[920]\tvalid_0's binary_logloss: 0.485847\n",
      "[930]\tvalid_0's binary_logloss: 0.485844\n",
      "[940]\tvalid_0's binary_logloss: 0.485843\n",
      "[950]\tvalid_0's binary_logloss: 0.485841\n",
      "[960]\tvalid_0's binary_logloss: 0.485838\n",
      "[970]\tvalid_0's binary_logloss: 0.485834\n",
      "[980]\tvalid_0's binary_logloss: 0.485828\n",
      "[990]\tvalid_0's binary_logloss: 0.485824\n",
      "[1000]\tvalid_0's binary_logloss: 0.485822\n",
      "Did not meet early stopping. Best iteration is:\n",
      "[993]\tvalid_0's binary_logloss: 0.485822\n"
     ]
    },
    {
     "name": "stderr",
     "output_type": "stream",
     "text": [
      "c:\\Users\\tjddl\\AppData\\Local\\Programs\\Python\\Python310\\lib\\site-packages\\sklearn\\utils\\deprecation.py:151: FutureWarning: 'force_all_finite' was renamed to 'ensure_all_finite' in 1.6 and will be removed in 1.8.\n",
      "  warnings.warn(\n"
     ]
    },
    {
     "name": "stdout",
     "output_type": "stream",
     "text": [
      "최종 모델 ROC AUC: 0.73926345\n"
     ]
    },
    {
     "data": {
      "text/html": [],
      "text/plain": [
       "<IPython.core.display.HTML object>"
      ]
     },
     "metadata": {},
     "output_type": "display_data"
    },
    {
     "data": {
      "text/html": [
       "<br>    <style><br>        .wandb-row {<br>            display: flex;<br>            flex-direction: row;<br>            flex-wrap: wrap;<br>            justify-content: flex-start;<br>            width: 100%;<br>        }<br>        .wandb-col {<br>            display: flex;<br>            flex-direction: column;<br>            flex-basis: 100%;<br>            flex: 1;<br>            padding: 10px;<br>        }<br>    </style><br><div class=\"wandb-row\"><div class=\"wandb-col\"><h3>Run history:</h3><br/><table class=\"wandb\"><tr><td>final_validation_roc_auc</td><td>▁</td></tr></table><br/></div><div class=\"wandb-col\"><h3>Run summary:</h3><br/><table class=\"wandb\"><tr><td>final_validation_roc_auc</td><td>0.73926</td></tr></table><br/></div></div>"
      ],
      "text/plain": [
       "<IPython.core.display.HTML object>"
      ]
     },
     "metadata": {},
     "output_type": "display_data"
    },
    {
     "data": {
      "text/html": [
       " View run <strong style=\"color:#cdcd00\">wise-sweep-6</strong> at: <a href='https://wandb.ai/espada105-hanseouniversity/LGaimers/runs/evia9xtw' target=\"_blank\">https://wandb.ai/espada105-hanseouniversity/LGaimers/runs/evia9xtw</a><br> View project at: <a href='https://wandb.ai/espada105-hanseouniversity/LGaimers' target=\"_blank\">https://wandb.ai/espada105-hanseouniversity/LGaimers</a><br>Synced 5 W&B file(s), 0 media file(s), 0 artifact file(s) and 0 other file(s)"
      ],
      "text/plain": [
       "<IPython.core.display.HTML object>"
      ]
     },
     "metadata": {},
     "output_type": "display_data"
    },
    {
     "data": {
      "text/html": [
       "Find logs at: <code>.\\wandb\\run-20250208_012632-evia9xtw\\logs</code>"
      ],
      "text/plain": [
       "<IPython.core.display.HTML object>"
      ]
     },
     "metadata": {},
     "output_type": "display_data"
    },
    {
     "name": "stderr",
     "output_type": "stream",
     "text": [
      "\u001b[34m\u001b[1mwandb\u001b[0m: Agent Starting Run: 7r0jnxue with config:\n",
      "\u001b[34m\u001b[1mwandb\u001b[0m: \tcolsample_bytree: 0.6\n",
      "\u001b[34m\u001b[1mwandb\u001b[0m: \tlearning_rate: 0.01\n",
      "\u001b[34m\u001b[1mwandb\u001b[0m: \tmax_depth: 10\n",
      "\u001b[34m\u001b[1mwandb\u001b[0m: \tmin_child_weight: 1\n",
      "\u001b[34m\u001b[1mwandb\u001b[0m: \tn_estimators: 1000\n",
      "\u001b[34m\u001b[1mwandb\u001b[0m: \trandom_state: 42\n",
      "\u001b[34m\u001b[1mwandb\u001b[0m: \treg_alpha: 0\n",
      "\u001b[34m\u001b[1mwandb\u001b[0m: \treg_lambda: 0.5\n",
      "\u001b[34m\u001b[1mwandb\u001b[0m: \tstopping_rounds: 100\n",
      "\u001b[34m\u001b[1mwandb\u001b[0m: \tsubsample: 0.6\n",
      "\u001b[34m\u001b[1mwandb\u001b[0m: \ttest_size: 0.2\n"
     ]
    },
    {
     "data": {
      "text/html": [
       "Ignoring project 'LGaimers' when running a sweep."
      ],
      "text/plain": [
       "<IPython.core.display.HTML object>"
      ]
     },
     "metadata": {},
     "output_type": "display_data"
    },
    {
     "data": {
      "text/html": [
       "Ignoring entity 'espada105-hanseouniversity' when running a sweep."
      ],
      "text/plain": [
       "<IPython.core.display.HTML object>"
      ]
     },
     "metadata": {},
     "output_type": "display_data"
    },
    {
     "data": {
      "text/html": [
       "Tracking run with wandb version 0.19.6"
      ],
      "text/plain": [
       "<IPython.core.display.HTML object>"
      ]
     },
     "metadata": {},
     "output_type": "display_data"
    },
    {
     "data": {
      "text/html": [
       "Run data is saved locally in <code>c:\\GitHubRepo\\AI_Predicting_Pregnancy_Success\\HongSeongIn\\wandb\\run-20250208_012653-7r0jnxue</code>"
      ],
      "text/plain": [
       "<IPython.core.display.HTML object>"
      ]
     },
     "metadata": {},
     "output_type": "display_data"
    },
    {
     "data": {
      "text/html": [
       "Syncing run <strong><a href='https://wandb.ai/espada105-hanseouniversity/LGaimers/runs/7r0jnxue' target=\"_blank\">glowing-sweep-7</a></strong> to <a href='https://wandb.ai/espada105-hanseouniversity/LGaimers' target=\"_blank\">Weights & Biases</a> (<a href='https://wandb.me/developer-guide' target=\"_blank\">docs</a>)<br>Sweep page: <a href='https://wandb.ai/espada105-hanseouniversity/LGaimers/sweeps/dxgv2s1t' target=\"_blank\">https://wandb.ai/espada105-hanseouniversity/LGaimers/sweeps/dxgv2s1t</a>"
      ],
      "text/plain": [
       "<IPython.core.display.HTML object>"
      ]
     },
     "metadata": {},
     "output_type": "display_data"
    },
    {
     "data": {
      "text/html": [
       " View project at <a href='https://wandb.ai/espada105-hanseouniversity/LGaimers' target=\"_blank\">https://wandb.ai/espada105-hanseouniversity/LGaimers</a>"
      ],
      "text/plain": [
       "<IPython.core.display.HTML object>"
      ]
     },
     "metadata": {},
     "output_type": "display_data"
    },
    {
     "data": {
      "text/html": [
       " View sweep at <a href='https://wandb.ai/espada105-hanseouniversity/LGaimers/sweeps/dxgv2s1t' target=\"_blank\">https://wandb.ai/espada105-hanseouniversity/LGaimers/sweeps/dxgv2s1t</a>"
      ],
      "text/plain": [
       "<IPython.core.display.HTML object>"
      ]
     },
     "metadata": {},
     "output_type": "display_data"
    },
    {
     "data": {
      "text/html": [
       " View run at <a href='https://wandb.ai/espada105-hanseouniversity/LGaimers/runs/7r0jnxue' target=\"_blank\">https://wandb.ai/espada105-hanseouniversity/LGaimers/runs/7r0jnxue</a>"
      ],
      "text/plain": [
       "<IPython.core.display.HTML object>"
      ]
     },
     "metadata": {},
     "output_type": "display_data"
    },
    {
     "name": "stdout",
     "output_type": "stream",
     "text": [
      "Training until validation scores don't improve for 100 rounds\n",
      "Did not meet early stopping. Best iteration is:\n",
      "[949]\tvalid_0's binary_logloss: 0.485906\n"
     ]
    },
    {
     "name": "stderr",
     "output_type": "stream",
     "text": [
      "c:\\Users\\tjddl\\AppData\\Local\\Programs\\Python\\Python310\\lib\\site-packages\\sklearn\\utils\\validation.py:2732: UserWarning: X has feature names, but SelectFromModel was fitted without feature names\n",
      "  warnings.warn(\n",
      "c:\\Users\\tjddl\\AppData\\Local\\Programs\\Python\\Python310\\lib\\site-packages\\sklearn\\utils\\validation.py:2732: UserWarning: X has feature names, but SelectFromModel was fitted without feature names\n",
      "  warnings.warn(\n",
      "c:\\Users\\tjddl\\AppData\\Local\\Programs\\Python\\Python310\\lib\\site-packages\\sklearn\\utils\\deprecation.py:151: FutureWarning: 'force_all_finite' was renamed to 'ensure_all_finite' in 1.6 and will be removed in 1.8.\n",
      "  warnings.warn(\n"
     ]
    },
    {
     "name": "stdout",
     "output_type": "stream",
     "text": [
      "Training until validation scores don't improve for 100 rounds\n",
      "[10]\tvalid_0's binary_logloss: 0.557659\n",
      "[20]\tvalid_0's binary_logloss: 0.548339\n",
      "[30]\tvalid_0's binary_logloss: 0.540488\n",
      "[40]\tvalid_0's binary_logloss: 0.533832\n",
      "[50]\tvalid_0's binary_logloss: 0.528117\n",
      "[60]\tvalid_0's binary_logloss: 0.523202\n",
      "[70]\tvalid_0's binary_logloss: 0.518968\n",
      "[80]\tvalid_0's binary_logloss: 0.515291\n",
      "[90]\tvalid_0's binary_logloss: 0.512077\n",
      "[100]\tvalid_0's binary_logloss: 0.509274\n",
      "[110]\tvalid_0's binary_logloss: 0.506829\n",
      "[120]\tvalid_0's binary_logloss: 0.504677\n",
      "[130]\tvalid_0's binary_logloss: 0.502781\n",
      "[140]\tvalid_0's binary_logloss: 0.501087\n",
      "[150]\tvalid_0's binary_logloss: 0.499581\n",
      "[160]\tvalid_0's binary_logloss: 0.498259\n",
      "[170]\tvalid_0's binary_logloss: 0.49708\n",
      "[180]\tvalid_0's binary_logloss: 0.496036\n",
      "[190]\tvalid_0's binary_logloss: 0.495096\n",
      "[200]\tvalid_0's binary_logloss: 0.494264\n",
      "[210]\tvalid_0's binary_logloss: 0.493512\n",
      "[220]\tvalid_0's binary_logloss: 0.492837\n",
      "[230]\tvalid_0's binary_logloss: 0.492232\n",
      "[240]\tvalid_0's binary_logloss: 0.491693\n",
      "[250]\tvalid_0's binary_logloss: 0.491192\n",
      "[260]\tvalid_0's binary_logloss: 0.490735\n",
      "[270]\tvalid_0's binary_logloss: 0.490323\n",
      "[280]\tvalid_0's binary_logloss: 0.489953\n",
      "[290]\tvalid_0's binary_logloss: 0.489604\n",
      "[300]\tvalid_0's binary_logloss: 0.489298\n",
      "[310]\tvalid_0's binary_logloss: 0.489024\n",
      "[320]\tvalid_0's binary_logloss: 0.488772\n",
      "[330]\tvalid_0's binary_logloss: 0.488552\n",
      "[340]\tvalid_0's binary_logloss: 0.488347\n",
      "[350]\tvalid_0's binary_logloss: 0.488171\n",
      "[360]\tvalid_0's binary_logloss: 0.488\n",
      "[370]\tvalid_0's binary_logloss: 0.487837\n",
      "[380]\tvalid_0's binary_logloss: 0.487683\n",
      "[390]\tvalid_0's binary_logloss: 0.487529\n",
      "[400]\tvalid_0's binary_logloss: 0.487398\n",
      "[410]\tvalid_0's binary_logloss: 0.487275\n",
      "[420]\tvalid_0's binary_logloss: 0.487162\n",
      "[430]\tvalid_0's binary_logloss: 0.487065\n",
      "[440]\tvalid_0's binary_logloss: 0.486978\n",
      "[450]\tvalid_0's binary_logloss: 0.486896\n",
      "[460]\tvalid_0's binary_logloss: 0.486821\n",
      "[470]\tvalid_0's binary_logloss: 0.486755\n",
      "[480]\tvalid_0's binary_logloss: 0.486688\n",
      "[490]\tvalid_0's binary_logloss: 0.486629\n",
      "[500]\tvalid_0's binary_logloss: 0.486578\n",
      "[510]\tvalid_0's binary_logloss: 0.486536\n",
      "[520]\tvalid_0's binary_logloss: 0.4865\n",
      "[530]\tvalid_0's binary_logloss: 0.486461\n",
      "[540]\tvalid_0's binary_logloss: 0.486421\n",
      "[550]\tvalid_0's binary_logloss: 0.486395\n",
      "[560]\tvalid_0's binary_logloss: 0.486365\n",
      "[570]\tvalid_0's binary_logloss: 0.486325\n",
      "[580]\tvalid_0's binary_logloss: 0.486289\n",
      "[590]\tvalid_0's binary_logloss: 0.48626\n",
      "[600]\tvalid_0's binary_logloss: 0.486232\n",
      "[610]\tvalid_0's binary_logloss: 0.486217\n",
      "[620]\tvalid_0's binary_logloss: 0.486188\n",
      "[630]\tvalid_0's binary_logloss: 0.486159\n",
      "[640]\tvalid_0's binary_logloss: 0.486144\n",
      "[650]\tvalid_0's binary_logloss: 0.486127\n",
      "[660]\tvalid_0's binary_logloss: 0.486112\n",
      "[670]\tvalid_0's binary_logloss: 0.486093\n",
      "[680]\tvalid_0's binary_logloss: 0.486077\n",
      "[690]\tvalid_0's binary_logloss: 0.486063\n",
      "[700]\tvalid_0's binary_logloss: 0.486051\n",
      "[710]\tvalid_0's binary_logloss: 0.486035\n",
      "[720]\tvalid_0's binary_logloss: 0.486016\n",
      "[730]\tvalid_0's binary_logloss: 0.486001\n",
      "[740]\tvalid_0's binary_logloss: 0.485982\n",
      "[750]\tvalid_0's binary_logloss: 0.485971\n",
      "[760]\tvalid_0's binary_logloss: 0.485958\n",
      "[770]\tvalid_0's binary_logloss: 0.485948\n",
      "[780]\tvalid_0's binary_logloss: 0.485935\n",
      "[790]\tvalid_0's binary_logloss: 0.485935\n",
      "[800]\tvalid_0's binary_logloss: 0.485923\n",
      "[810]\tvalid_0's binary_logloss: 0.485918\n",
      "[820]\tvalid_0's binary_logloss: 0.485911\n",
      "[830]\tvalid_0's binary_logloss: 0.485904\n",
      "[840]\tvalid_0's binary_logloss: 0.485895\n",
      "[850]\tvalid_0's binary_logloss: 0.485887\n",
      "[860]\tvalid_0's binary_logloss: 0.485879\n",
      "[870]\tvalid_0's binary_logloss: 0.485871\n",
      "[880]\tvalid_0's binary_logloss: 0.485865\n",
      "[890]\tvalid_0's binary_logloss: 0.48586\n",
      "[900]\tvalid_0's binary_logloss: 0.485855\n",
      "[910]\tvalid_0's binary_logloss: 0.485853\n",
      "[920]\tvalid_0's binary_logloss: 0.485847\n",
      "[930]\tvalid_0's binary_logloss: 0.485844\n",
      "[940]\tvalid_0's binary_logloss: 0.485843\n",
      "[950]\tvalid_0's binary_logloss: 0.485841\n",
      "[960]\tvalid_0's binary_logloss: 0.485838\n",
      "[970]\tvalid_0's binary_logloss: 0.485834\n",
      "[980]\tvalid_0's binary_logloss: 0.485828\n",
      "[990]\tvalid_0's binary_logloss: 0.485824\n",
      "[1000]\tvalid_0's binary_logloss: 0.485822\n",
      "Did not meet early stopping. Best iteration is:\n",
      "[993]\tvalid_0's binary_logloss: 0.485822\n"
     ]
    },
    {
     "name": "stderr",
     "output_type": "stream",
     "text": [
      "c:\\Users\\tjddl\\AppData\\Local\\Programs\\Python\\Python310\\lib\\site-packages\\sklearn\\utils\\deprecation.py:151: FutureWarning: 'force_all_finite' was renamed to 'ensure_all_finite' in 1.6 and will be removed in 1.8.\n",
      "  warnings.warn(\n"
     ]
    },
    {
     "name": "stdout",
     "output_type": "stream",
     "text": [
      "최종 모델 ROC AUC: 0.73926345\n"
     ]
    },
    {
     "data": {
      "text/html": [],
      "text/plain": [
       "<IPython.core.display.HTML object>"
      ]
     },
     "metadata": {},
     "output_type": "display_data"
    },
    {
     "data": {
      "text/html": [
       "<br>    <style><br>        .wandb-row {<br>            display: flex;<br>            flex-direction: row;<br>            flex-wrap: wrap;<br>            justify-content: flex-start;<br>            width: 100%;<br>        }<br>        .wandb-col {<br>            display: flex;<br>            flex-direction: column;<br>            flex-basis: 100%;<br>            flex: 1;<br>            padding: 10px;<br>        }<br>    </style><br><div class=\"wandb-row\"><div class=\"wandb-col\"><h3>Run history:</h3><br/><table class=\"wandb\"><tr><td>final_validation_roc_auc</td><td>▁</td></tr></table><br/></div><div class=\"wandb-col\"><h3>Run summary:</h3><br/><table class=\"wandb\"><tr><td>final_validation_roc_auc</td><td>0.73926</td></tr></table><br/></div></div>"
      ],
      "text/plain": [
       "<IPython.core.display.HTML object>"
      ]
     },
     "metadata": {},
     "output_type": "display_data"
    },
    {
     "data": {
      "text/html": [
       " View run <strong style=\"color:#cdcd00\">glowing-sweep-7</strong> at: <a href='https://wandb.ai/espada105-hanseouniversity/LGaimers/runs/7r0jnxue' target=\"_blank\">https://wandb.ai/espada105-hanseouniversity/LGaimers/runs/7r0jnxue</a><br> View project at: <a href='https://wandb.ai/espada105-hanseouniversity/LGaimers' target=\"_blank\">https://wandb.ai/espada105-hanseouniversity/LGaimers</a><br>Synced 5 W&B file(s), 0 media file(s), 0 artifact file(s) and 0 other file(s)"
      ],
      "text/plain": [
       "<IPython.core.display.HTML object>"
      ]
     },
     "metadata": {},
     "output_type": "display_data"
    },
    {
     "data": {
      "text/html": [
       "Find logs at: <code>.\\wandb\\run-20250208_012653-7r0jnxue\\logs</code>"
      ],
      "text/plain": [
       "<IPython.core.display.HTML object>"
      ]
     },
     "metadata": {},
     "output_type": "display_data"
    },
    {
     "name": "stderr",
     "output_type": "stream",
     "text": [
      "\u001b[34m\u001b[1mwandb\u001b[0m: Agent Starting Run: regp9jwv with config:\n",
      "\u001b[34m\u001b[1mwandb\u001b[0m: \tcolsample_bytree: 0.6\n",
      "\u001b[34m\u001b[1mwandb\u001b[0m: \tlearning_rate: 0.01\n",
      "\u001b[34m\u001b[1mwandb\u001b[0m: \tmax_depth: 10\n",
      "\u001b[34m\u001b[1mwandb\u001b[0m: \tmin_child_weight: 1\n",
      "\u001b[34m\u001b[1mwandb\u001b[0m: \tn_estimators: 1000\n",
      "\u001b[34m\u001b[1mwandb\u001b[0m: \trandom_state: 42\n",
      "\u001b[34m\u001b[1mwandb\u001b[0m: \treg_alpha: 0\n",
      "\u001b[34m\u001b[1mwandb\u001b[0m: \treg_lambda: 0.5\n",
      "\u001b[34m\u001b[1mwandb\u001b[0m: \tstopping_rounds: 100\n",
      "\u001b[34m\u001b[1mwandb\u001b[0m: \tsubsample: 0.8\n",
      "\u001b[34m\u001b[1mwandb\u001b[0m: \ttest_size: 0.2\n"
     ]
    },
    {
     "data": {
      "text/html": [
       "Ignoring project 'LGaimers' when running a sweep."
      ],
      "text/plain": [
       "<IPython.core.display.HTML object>"
      ]
     },
     "metadata": {},
     "output_type": "display_data"
    },
    {
     "data": {
      "text/html": [
       "Ignoring entity 'espada105-hanseouniversity' when running a sweep."
      ],
      "text/plain": [
       "<IPython.core.display.HTML object>"
      ]
     },
     "metadata": {},
     "output_type": "display_data"
    },
    {
     "data": {
      "text/html": [
       "Tracking run with wandb version 0.19.6"
      ],
      "text/plain": [
       "<IPython.core.display.HTML object>"
      ]
     },
     "metadata": {},
     "output_type": "display_data"
    },
    {
     "data": {
      "text/html": [
       "Run data is saved locally in <code>c:\\GitHubRepo\\AI_Predicting_Pregnancy_Success\\HongSeongIn\\wandb\\run-20250208_012719-regp9jwv</code>"
      ],
      "text/plain": [
       "<IPython.core.display.HTML object>"
      ]
     },
     "metadata": {},
     "output_type": "display_data"
    },
    {
     "data": {
      "text/html": [
       "Syncing run <strong><a href='https://wandb.ai/espada105-hanseouniversity/LGaimers/runs/regp9jwv' target=\"_blank\">sunny-sweep-8</a></strong> to <a href='https://wandb.ai/espada105-hanseouniversity/LGaimers' target=\"_blank\">Weights & Biases</a> (<a href='https://wandb.me/developer-guide' target=\"_blank\">docs</a>)<br>Sweep page: <a href='https://wandb.ai/espada105-hanseouniversity/LGaimers/sweeps/dxgv2s1t' target=\"_blank\">https://wandb.ai/espada105-hanseouniversity/LGaimers/sweeps/dxgv2s1t</a>"
      ],
      "text/plain": [
       "<IPython.core.display.HTML object>"
      ]
     },
     "metadata": {},
     "output_type": "display_data"
    },
    {
     "data": {
      "text/html": [
       " View project at <a href='https://wandb.ai/espada105-hanseouniversity/LGaimers' target=\"_blank\">https://wandb.ai/espada105-hanseouniversity/LGaimers</a>"
      ],
      "text/plain": [
       "<IPython.core.display.HTML object>"
      ]
     },
     "metadata": {},
     "output_type": "display_data"
    },
    {
     "data": {
      "text/html": [
       " View sweep at <a href='https://wandb.ai/espada105-hanseouniversity/LGaimers/sweeps/dxgv2s1t' target=\"_blank\">https://wandb.ai/espada105-hanseouniversity/LGaimers/sweeps/dxgv2s1t</a>"
      ],
      "text/plain": [
       "<IPython.core.display.HTML object>"
      ]
     },
     "metadata": {},
     "output_type": "display_data"
    },
    {
     "data": {
      "text/html": [
       " View run at <a href='https://wandb.ai/espada105-hanseouniversity/LGaimers/runs/regp9jwv' target=\"_blank\">https://wandb.ai/espada105-hanseouniversity/LGaimers/runs/regp9jwv</a>"
      ],
      "text/plain": [
       "<IPython.core.display.HTML object>"
      ]
     },
     "metadata": {},
     "output_type": "display_data"
    },
    {
     "name": "stdout",
     "output_type": "stream",
     "text": [
      "Training until validation scores don't improve for 100 rounds\n",
      "Did not meet early stopping. Best iteration is:\n",
      "[949]\tvalid_0's binary_logloss: 0.485906\n"
     ]
    },
    {
     "name": "stderr",
     "output_type": "stream",
     "text": [
      "c:\\Users\\tjddl\\AppData\\Local\\Programs\\Python\\Python310\\lib\\site-packages\\sklearn\\utils\\validation.py:2732: UserWarning: X has feature names, but SelectFromModel was fitted without feature names\n",
      "  warnings.warn(\n",
      "c:\\Users\\tjddl\\AppData\\Local\\Programs\\Python\\Python310\\lib\\site-packages\\sklearn\\utils\\validation.py:2732: UserWarning: X has feature names, but SelectFromModel was fitted without feature names\n",
      "  warnings.warn(\n",
      "c:\\Users\\tjddl\\AppData\\Local\\Programs\\Python\\Python310\\lib\\site-packages\\sklearn\\utils\\deprecation.py:151: FutureWarning: 'force_all_finite' was renamed to 'ensure_all_finite' in 1.6 and will be removed in 1.8.\n",
      "  warnings.warn(\n"
     ]
    },
    {
     "name": "stdout",
     "output_type": "stream",
     "text": [
      "Training until validation scores don't improve for 100 rounds\n",
      "[10]\tvalid_0's binary_logloss: 0.557659\n",
      "[20]\tvalid_0's binary_logloss: 0.548339\n",
      "[30]\tvalid_0's binary_logloss: 0.540488\n",
      "[40]\tvalid_0's binary_logloss: 0.533832\n",
      "[50]\tvalid_0's binary_logloss: 0.528117\n",
      "[60]\tvalid_0's binary_logloss: 0.523202\n",
      "[70]\tvalid_0's binary_logloss: 0.518968\n",
      "[80]\tvalid_0's binary_logloss: 0.515291\n",
      "[90]\tvalid_0's binary_logloss: 0.512077\n",
      "[100]\tvalid_0's binary_logloss: 0.509274\n",
      "[110]\tvalid_0's binary_logloss: 0.506829\n",
      "[120]\tvalid_0's binary_logloss: 0.504677\n",
      "[130]\tvalid_0's binary_logloss: 0.502781\n",
      "[140]\tvalid_0's binary_logloss: 0.501087\n",
      "[150]\tvalid_0's binary_logloss: 0.499581\n",
      "[160]\tvalid_0's binary_logloss: 0.498259\n",
      "[170]\tvalid_0's binary_logloss: 0.49708\n",
      "[180]\tvalid_0's binary_logloss: 0.496036\n",
      "[190]\tvalid_0's binary_logloss: 0.495096\n",
      "[200]\tvalid_0's binary_logloss: 0.494264\n",
      "[210]\tvalid_0's binary_logloss: 0.493512\n",
      "[220]\tvalid_0's binary_logloss: 0.492837\n",
      "[230]\tvalid_0's binary_logloss: 0.492232\n",
      "[240]\tvalid_0's binary_logloss: 0.491693\n",
      "[250]\tvalid_0's binary_logloss: 0.491192\n",
      "[260]\tvalid_0's binary_logloss: 0.490735\n",
      "[270]\tvalid_0's binary_logloss: 0.490323\n",
      "[280]\tvalid_0's binary_logloss: 0.489953\n",
      "[290]\tvalid_0's binary_logloss: 0.489604\n",
      "[300]\tvalid_0's binary_logloss: 0.489298\n",
      "[310]\tvalid_0's binary_logloss: 0.489024\n",
      "[320]\tvalid_0's binary_logloss: 0.488772\n",
      "[330]\tvalid_0's binary_logloss: 0.488552\n",
      "[340]\tvalid_0's binary_logloss: 0.488347\n",
      "[350]\tvalid_0's binary_logloss: 0.488171\n",
      "[360]\tvalid_0's binary_logloss: 0.488\n",
      "[370]\tvalid_0's binary_logloss: 0.487837\n",
      "[380]\tvalid_0's binary_logloss: 0.487683\n",
      "[390]\tvalid_0's binary_logloss: 0.487529\n",
      "[400]\tvalid_0's binary_logloss: 0.487398\n",
      "[410]\tvalid_0's binary_logloss: 0.487275\n",
      "[420]\tvalid_0's binary_logloss: 0.487162\n",
      "[430]\tvalid_0's binary_logloss: 0.487065\n",
      "[440]\tvalid_0's binary_logloss: 0.486978\n",
      "[450]\tvalid_0's binary_logloss: 0.486896\n",
      "[460]\tvalid_0's binary_logloss: 0.486821\n",
      "[470]\tvalid_0's binary_logloss: 0.486755\n",
      "[480]\tvalid_0's binary_logloss: 0.486688\n",
      "[490]\tvalid_0's binary_logloss: 0.486629\n",
      "[500]\tvalid_0's binary_logloss: 0.486578\n",
      "[510]\tvalid_0's binary_logloss: 0.486536\n",
      "[520]\tvalid_0's binary_logloss: 0.4865\n",
      "[530]\tvalid_0's binary_logloss: 0.486461\n",
      "[540]\tvalid_0's binary_logloss: 0.486421\n",
      "[550]\tvalid_0's binary_logloss: 0.486395\n",
      "[560]\tvalid_0's binary_logloss: 0.486365\n",
      "[570]\tvalid_0's binary_logloss: 0.486325\n",
      "[580]\tvalid_0's binary_logloss: 0.486289\n",
      "[590]\tvalid_0's binary_logloss: 0.48626\n",
      "[600]\tvalid_0's binary_logloss: 0.486232\n",
      "[610]\tvalid_0's binary_logloss: 0.486217\n",
      "[620]\tvalid_0's binary_logloss: 0.486188\n",
      "[630]\tvalid_0's binary_logloss: 0.486159\n",
      "[640]\tvalid_0's binary_logloss: 0.486144\n",
      "[650]\tvalid_0's binary_logloss: 0.486127\n",
      "[660]\tvalid_0's binary_logloss: 0.486112\n",
      "[670]\tvalid_0's binary_logloss: 0.486093\n",
      "[680]\tvalid_0's binary_logloss: 0.486077\n",
      "[690]\tvalid_0's binary_logloss: 0.486063\n",
      "[700]\tvalid_0's binary_logloss: 0.486051\n",
      "[710]\tvalid_0's binary_logloss: 0.486035\n",
      "[720]\tvalid_0's binary_logloss: 0.486016\n",
      "[730]\tvalid_0's binary_logloss: 0.486001\n",
      "[740]\tvalid_0's binary_logloss: 0.485982\n",
      "[750]\tvalid_0's binary_logloss: 0.485971\n",
      "[760]\tvalid_0's binary_logloss: 0.485958\n",
      "[770]\tvalid_0's binary_logloss: 0.485948\n",
      "[780]\tvalid_0's binary_logloss: 0.485935\n",
      "[790]\tvalid_0's binary_logloss: 0.485935\n",
      "[800]\tvalid_0's binary_logloss: 0.485923\n",
      "[810]\tvalid_0's binary_logloss: 0.485918\n",
      "[820]\tvalid_0's binary_logloss: 0.485911\n",
      "[830]\tvalid_0's binary_logloss: 0.485904\n",
      "[840]\tvalid_0's binary_logloss: 0.485895\n",
      "[850]\tvalid_0's binary_logloss: 0.485887\n",
      "[860]\tvalid_0's binary_logloss: 0.485879\n",
      "[870]\tvalid_0's binary_logloss: 0.485871\n",
      "[880]\tvalid_0's binary_logloss: 0.485865\n",
      "[890]\tvalid_0's binary_logloss: 0.48586\n",
      "[900]\tvalid_0's binary_logloss: 0.485855\n",
      "[910]\tvalid_0's binary_logloss: 0.485853\n",
      "[920]\tvalid_0's binary_logloss: 0.485847\n",
      "[930]\tvalid_0's binary_logloss: 0.485844\n",
      "[940]\tvalid_0's binary_logloss: 0.485843\n",
      "[950]\tvalid_0's binary_logloss: 0.485841\n",
      "[960]\tvalid_0's binary_logloss: 0.485838\n",
      "[970]\tvalid_0's binary_logloss: 0.485834\n",
      "[980]\tvalid_0's binary_logloss: 0.485828\n",
      "[990]\tvalid_0's binary_logloss: 0.485824\n",
      "[1000]\tvalid_0's binary_logloss: 0.485822\n",
      "Did not meet early stopping. Best iteration is:\n",
      "[993]\tvalid_0's binary_logloss: 0.485822\n"
     ]
    },
    {
     "name": "stderr",
     "output_type": "stream",
     "text": [
      "c:\\Users\\tjddl\\AppData\\Local\\Programs\\Python\\Python310\\lib\\site-packages\\sklearn\\utils\\deprecation.py:151: FutureWarning: 'force_all_finite' was renamed to 'ensure_all_finite' in 1.6 and will be removed in 1.8.\n",
      "  warnings.warn(\n"
     ]
    },
    {
     "name": "stdout",
     "output_type": "stream",
     "text": [
      "최종 모델 ROC AUC: 0.73926345\n"
     ]
    },
    {
     "data": {
      "text/html": [],
      "text/plain": [
       "<IPython.core.display.HTML object>"
      ]
     },
     "metadata": {},
     "output_type": "display_data"
    },
    {
     "data": {
      "text/html": [
       "<br>    <style><br>        .wandb-row {<br>            display: flex;<br>            flex-direction: row;<br>            flex-wrap: wrap;<br>            justify-content: flex-start;<br>            width: 100%;<br>        }<br>        .wandb-col {<br>            display: flex;<br>            flex-direction: column;<br>            flex-basis: 100%;<br>            flex: 1;<br>            padding: 10px;<br>        }<br>    </style><br><div class=\"wandb-row\"><div class=\"wandb-col\"><h3>Run history:</h3><br/><table class=\"wandb\"><tr><td>final_validation_roc_auc</td><td>▁</td></tr></table><br/></div><div class=\"wandb-col\"><h3>Run summary:</h3><br/><table class=\"wandb\"><tr><td>final_validation_roc_auc</td><td>0.73926</td></tr></table><br/></div></div>"
      ],
      "text/plain": [
       "<IPython.core.display.HTML object>"
      ]
     },
     "metadata": {},
     "output_type": "display_data"
    },
    {
     "data": {
      "text/html": [
       " View run <strong style=\"color:#cdcd00\">sunny-sweep-8</strong> at: <a href='https://wandb.ai/espada105-hanseouniversity/LGaimers/runs/regp9jwv' target=\"_blank\">https://wandb.ai/espada105-hanseouniversity/LGaimers/runs/regp9jwv</a><br> View project at: <a href='https://wandb.ai/espada105-hanseouniversity/LGaimers' target=\"_blank\">https://wandb.ai/espada105-hanseouniversity/LGaimers</a><br>Synced 5 W&B file(s), 0 media file(s), 0 artifact file(s) and 0 other file(s)"
      ],
      "text/plain": [
       "<IPython.core.display.HTML object>"
      ]
     },
     "metadata": {},
     "output_type": "display_data"
    },
    {
     "data": {
      "text/html": [
       "Find logs at: <code>.\\wandb\\run-20250208_012719-regp9jwv\\logs</code>"
      ],
      "text/plain": [
       "<IPython.core.display.HTML object>"
      ]
     },
     "metadata": {},
     "output_type": "display_data"
    },
    {
     "name": "stderr",
     "output_type": "stream",
     "text": [
      "\u001b[34m\u001b[1mwandb\u001b[0m: Agent Starting Run: 1skrx79e with config:\n",
      "\u001b[34m\u001b[1mwandb\u001b[0m: \tcolsample_bytree: 0.6\n",
      "\u001b[34m\u001b[1mwandb\u001b[0m: \tlearning_rate: 0.01\n",
      "\u001b[34m\u001b[1mwandb\u001b[0m: \tmax_depth: 10\n",
      "\u001b[34m\u001b[1mwandb\u001b[0m: \tmin_child_weight: 1\n",
      "\u001b[34m\u001b[1mwandb\u001b[0m: \tn_estimators: 1000\n",
      "\u001b[34m\u001b[1mwandb\u001b[0m: \trandom_state: 42\n",
      "\u001b[34m\u001b[1mwandb\u001b[0m: \treg_alpha: 0\n",
      "\u001b[34m\u001b[1mwandb\u001b[0m: \treg_lambda: 0.5\n",
      "\u001b[34m\u001b[1mwandb\u001b[0m: \tstopping_rounds: 100\n",
      "\u001b[34m\u001b[1mwandb\u001b[0m: \tsubsample: 1\n",
      "\u001b[34m\u001b[1mwandb\u001b[0m: \ttest_size: 0.2\n"
     ]
    },
    {
     "data": {
      "text/html": [
       "Ignoring project 'LGaimers' when running a sweep."
      ],
      "text/plain": [
       "<IPython.core.display.HTML object>"
      ]
     },
     "metadata": {},
     "output_type": "display_data"
    },
    {
     "data": {
      "text/html": [
       "Ignoring entity 'espada105-hanseouniversity' when running a sweep."
      ],
      "text/plain": [
       "<IPython.core.display.HTML object>"
      ]
     },
     "metadata": {},
     "output_type": "display_data"
    },
    {
     "data": {
      "text/html": [
       "Tracking run with wandb version 0.19.6"
      ],
      "text/plain": [
       "<IPython.core.display.HTML object>"
      ]
     },
     "metadata": {},
     "output_type": "display_data"
    },
    {
     "data": {
      "text/html": [
       "Run data is saved locally in <code>c:\\GitHubRepo\\AI_Predicting_Pregnancy_Success\\HongSeongIn\\wandb\\run-20250208_012740-1skrx79e</code>"
      ],
      "text/plain": [
       "<IPython.core.display.HTML object>"
      ]
     },
     "metadata": {},
     "output_type": "display_data"
    },
    {
     "data": {
      "text/html": [
       "Syncing run <strong><a href='https://wandb.ai/espada105-hanseouniversity/LGaimers/runs/1skrx79e' target=\"_blank\">clear-sweep-9</a></strong> to <a href='https://wandb.ai/espada105-hanseouniversity/LGaimers' target=\"_blank\">Weights & Biases</a> (<a href='https://wandb.me/developer-guide' target=\"_blank\">docs</a>)<br>Sweep page: <a href='https://wandb.ai/espada105-hanseouniversity/LGaimers/sweeps/dxgv2s1t' target=\"_blank\">https://wandb.ai/espada105-hanseouniversity/LGaimers/sweeps/dxgv2s1t</a>"
      ],
      "text/plain": [
       "<IPython.core.display.HTML object>"
      ]
     },
     "metadata": {},
     "output_type": "display_data"
    },
    {
     "data": {
      "text/html": [
       " View project at <a href='https://wandb.ai/espada105-hanseouniversity/LGaimers' target=\"_blank\">https://wandb.ai/espada105-hanseouniversity/LGaimers</a>"
      ],
      "text/plain": [
       "<IPython.core.display.HTML object>"
      ]
     },
     "metadata": {},
     "output_type": "display_data"
    },
    {
     "data": {
      "text/html": [
       " View sweep at <a href='https://wandb.ai/espada105-hanseouniversity/LGaimers/sweeps/dxgv2s1t' target=\"_blank\">https://wandb.ai/espada105-hanseouniversity/LGaimers/sweeps/dxgv2s1t</a>"
      ],
      "text/plain": [
       "<IPython.core.display.HTML object>"
      ]
     },
     "metadata": {},
     "output_type": "display_data"
    },
    {
     "data": {
      "text/html": [
       " View run at <a href='https://wandb.ai/espada105-hanseouniversity/LGaimers/runs/1skrx79e' target=\"_blank\">https://wandb.ai/espada105-hanseouniversity/LGaimers/runs/1skrx79e</a>"
      ],
      "text/plain": [
       "<IPython.core.display.HTML object>"
      ]
     },
     "metadata": {},
     "output_type": "display_data"
    },
    {
     "name": "stdout",
     "output_type": "stream",
     "text": [
      "Training until validation scores don't improve for 100 rounds\n",
      "Did not meet early stopping. Best iteration is:\n",
      "[949]\tvalid_0's binary_logloss: 0.485906\n"
     ]
    },
    {
     "name": "stderr",
     "output_type": "stream",
     "text": [
      "c:\\Users\\tjddl\\AppData\\Local\\Programs\\Python\\Python310\\lib\\site-packages\\sklearn\\utils\\validation.py:2732: UserWarning: X has feature names, but SelectFromModel was fitted without feature names\n",
      "  warnings.warn(\n",
      "c:\\Users\\tjddl\\AppData\\Local\\Programs\\Python\\Python310\\lib\\site-packages\\sklearn\\utils\\validation.py:2732: UserWarning: X has feature names, but SelectFromModel was fitted without feature names\n",
      "  warnings.warn(\n",
      "c:\\Users\\tjddl\\AppData\\Local\\Programs\\Python\\Python310\\lib\\site-packages\\sklearn\\utils\\deprecation.py:151: FutureWarning: 'force_all_finite' was renamed to 'ensure_all_finite' in 1.6 and will be removed in 1.8.\n",
      "  warnings.warn(\n"
     ]
    },
    {
     "name": "stdout",
     "output_type": "stream",
     "text": [
      "Training until validation scores don't improve for 100 rounds\n",
      "[10]\tvalid_0's binary_logloss: 0.557659\n",
      "[20]\tvalid_0's binary_logloss: 0.548339\n",
      "[30]\tvalid_0's binary_logloss: 0.540488\n",
      "[40]\tvalid_0's binary_logloss: 0.533832\n",
      "[50]\tvalid_0's binary_logloss: 0.528117\n",
      "[60]\tvalid_0's binary_logloss: 0.523202\n",
      "[70]\tvalid_0's binary_logloss: 0.518968\n",
      "[80]\tvalid_0's binary_logloss: 0.515291\n",
      "[90]\tvalid_0's binary_logloss: 0.512077\n",
      "[100]\tvalid_0's binary_logloss: 0.509274\n",
      "[110]\tvalid_0's binary_logloss: 0.506829\n",
      "[120]\tvalid_0's binary_logloss: 0.504677\n",
      "[130]\tvalid_0's binary_logloss: 0.502781\n",
      "[140]\tvalid_0's binary_logloss: 0.501087\n",
      "[150]\tvalid_0's binary_logloss: 0.499581\n",
      "[160]\tvalid_0's binary_logloss: 0.498259\n",
      "[170]\tvalid_0's binary_logloss: 0.49708\n",
      "[180]\tvalid_0's binary_logloss: 0.496036\n",
      "[190]\tvalid_0's binary_logloss: 0.495096\n",
      "[200]\tvalid_0's binary_logloss: 0.494264\n",
      "[210]\tvalid_0's binary_logloss: 0.493512\n",
      "[220]\tvalid_0's binary_logloss: 0.492837\n",
      "[230]\tvalid_0's binary_logloss: 0.492232\n",
      "[240]\tvalid_0's binary_logloss: 0.491693\n",
      "[250]\tvalid_0's binary_logloss: 0.491192\n",
      "[260]\tvalid_0's binary_logloss: 0.490735\n",
      "[270]\tvalid_0's binary_logloss: 0.490323\n",
      "[280]\tvalid_0's binary_logloss: 0.489953\n",
      "[290]\tvalid_0's binary_logloss: 0.489604\n",
      "[300]\tvalid_0's binary_logloss: 0.489298\n",
      "[310]\tvalid_0's binary_logloss: 0.489024\n",
      "[320]\tvalid_0's binary_logloss: 0.488772\n",
      "[330]\tvalid_0's binary_logloss: 0.488552\n",
      "[340]\tvalid_0's binary_logloss: 0.488347\n",
      "[350]\tvalid_0's binary_logloss: 0.488171\n",
      "[360]\tvalid_0's binary_logloss: 0.488\n",
      "[370]\tvalid_0's binary_logloss: 0.487837\n",
      "[380]\tvalid_0's binary_logloss: 0.487683\n",
      "[390]\tvalid_0's binary_logloss: 0.487529\n",
      "[400]\tvalid_0's binary_logloss: 0.487398\n",
      "[410]\tvalid_0's binary_logloss: 0.487275\n",
      "[420]\tvalid_0's binary_logloss: 0.487162\n",
      "[430]\tvalid_0's binary_logloss: 0.487065\n",
      "[440]\tvalid_0's binary_logloss: 0.486978\n",
      "[450]\tvalid_0's binary_logloss: 0.486896\n",
      "[460]\tvalid_0's binary_logloss: 0.486821\n",
      "[470]\tvalid_0's binary_logloss: 0.486755\n",
      "[480]\tvalid_0's binary_logloss: 0.486688\n",
      "[490]\tvalid_0's binary_logloss: 0.486629\n",
      "[500]\tvalid_0's binary_logloss: 0.486578\n",
      "[510]\tvalid_0's binary_logloss: 0.486536\n",
      "[520]\tvalid_0's binary_logloss: 0.4865\n",
      "[530]\tvalid_0's binary_logloss: 0.486461\n",
      "[540]\tvalid_0's binary_logloss: 0.486421\n",
      "[550]\tvalid_0's binary_logloss: 0.486395\n",
      "[560]\tvalid_0's binary_logloss: 0.486365\n",
      "[570]\tvalid_0's binary_logloss: 0.486325\n",
      "[580]\tvalid_0's binary_logloss: 0.486289\n",
      "[590]\tvalid_0's binary_logloss: 0.48626\n",
      "[600]\tvalid_0's binary_logloss: 0.486232\n",
      "[610]\tvalid_0's binary_logloss: 0.486217\n",
      "[620]\tvalid_0's binary_logloss: 0.486188\n",
      "[630]\tvalid_0's binary_logloss: 0.486159\n",
      "[640]\tvalid_0's binary_logloss: 0.486144\n",
      "[650]\tvalid_0's binary_logloss: 0.486127\n",
      "[660]\tvalid_0's binary_logloss: 0.486112\n",
      "[670]\tvalid_0's binary_logloss: 0.486093\n",
      "[680]\tvalid_0's binary_logloss: 0.486077\n",
      "[690]\tvalid_0's binary_logloss: 0.486063\n",
      "[700]\tvalid_0's binary_logloss: 0.486051\n",
      "[710]\tvalid_0's binary_logloss: 0.486035\n",
      "[720]\tvalid_0's binary_logloss: 0.486016\n",
      "[730]\tvalid_0's binary_logloss: 0.486001\n",
      "[740]\tvalid_0's binary_logloss: 0.485982\n",
      "[750]\tvalid_0's binary_logloss: 0.485971\n",
      "[760]\tvalid_0's binary_logloss: 0.485958\n",
      "[770]\tvalid_0's binary_logloss: 0.485948\n",
      "[780]\tvalid_0's binary_logloss: 0.485935\n",
      "[790]\tvalid_0's binary_logloss: 0.485935\n",
      "[800]\tvalid_0's binary_logloss: 0.485923\n",
      "[810]\tvalid_0's binary_logloss: 0.485918\n",
      "[820]\tvalid_0's binary_logloss: 0.485911\n",
      "[830]\tvalid_0's binary_logloss: 0.485904\n",
      "[840]\tvalid_0's binary_logloss: 0.485895\n",
      "[850]\tvalid_0's binary_logloss: 0.485887\n",
      "[860]\tvalid_0's binary_logloss: 0.485879\n",
      "[870]\tvalid_0's binary_logloss: 0.485871\n",
      "[880]\tvalid_0's binary_logloss: 0.485865\n",
      "[890]\tvalid_0's binary_logloss: 0.48586\n",
      "[900]\tvalid_0's binary_logloss: 0.485855\n",
      "[910]\tvalid_0's binary_logloss: 0.485853\n",
      "[920]\tvalid_0's binary_logloss: 0.485847\n",
      "[930]\tvalid_0's binary_logloss: 0.485844\n",
      "[940]\tvalid_0's binary_logloss: 0.485843\n",
      "[950]\tvalid_0's binary_logloss: 0.485841\n",
      "[960]\tvalid_0's binary_logloss: 0.485838\n",
      "[970]\tvalid_0's binary_logloss: 0.485834\n",
      "[980]\tvalid_0's binary_logloss: 0.485828\n",
      "[990]\tvalid_0's binary_logloss: 0.485824\n",
      "[1000]\tvalid_0's binary_logloss: 0.485822\n",
      "Did not meet early stopping. Best iteration is:\n",
      "[993]\tvalid_0's binary_logloss: 0.485822\n"
     ]
    },
    {
     "name": "stderr",
     "output_type": "stream",
     "text": [
      "c:\\Users\\tjddl\\AppData\\Local\\Programs\\Python\\Python310\\lib\\site-packages\\sklearn\\utils\\deprecation.py:151: FutureWarning: 'force_all_finite' was renamed to 'ensure_all_finite' in 1.6 and will be removed in 1.8.\n",
      "  warnings.warn(\n"
     ]
    },
    {
     "name": "stdout",
     "output_type": "stream",
     "text": [
      "최종 모델 ROC AUC: 0.73926345\n"
     ]
    },
    {
     "data": {
      "text/html": [],
      "text/plain": [
       "<IPython.core.display.HTML object>"
      ]
     },
     "metadata": {},
     "output_type": "display_data"
    },
    {
     "data": {
      "text/html": [
       "<br>    <style><br>        .wandb-row {<br>            display: flex;<br>            flex-direction: row;<br>            flex-wrap: wrap;<br>            justify-content: flex-start;<br>            width: 100%;<br>        }<br>        .wandb-col {<br>            display: flex;<br>            flex-direction: column;<br>            flex-basis: 100%;<br>            flex: 1;<br>            padding: 10px;<br>        }<br>    </style><br><div class=\"wandb-row\"><div class=\"wandb-col\"><h3>Run history:</h3><br/><table class=\"wandb\"><tr><td>final_validation_roc_auc</td><td>▁</td></tr></table><br/></div><div class=\"wandb-col\"><h3>Run summary:</h3><br/><table class=\"wandb\"><tr><td>final_validation_roc_auc</td><td>0.73926</td></tr></table><br/></div></div>"
      ],
      "text/plain": [
       "<IPython.core.display.HTML object>"
      ]
     },
     "metadata": {},
     "output_type": "display_data"
    },
    {
     "data": {
      "text/html": [
       " View run <strong style=\"color:#cdcd00\">clear-sweep-9</strong> at: <a href='https://wandb.ai/espada105-hanseouniversity/LGaimers/runs/1skrx79e' target=\"_blank\">https://wandb.ai/espada105-hanseouniversity/LGaimers/runs/1skrx79e</a><br> View project at: <a href='https://wandb.ai/espada105-hanseouniversity/LGaimers' target=\"_blank\">https://wandb.ai/espada105-hanseouniversity/LGaimers</a><br>Synced 5 W&B file(s), 0 media file(s), 0 artifact file(s) and 0 other file(s)"
      ],
      "text/plain": [
       "<IPython.core.display.HTML object>"
      ]
     },
     "metadata": {},
     "output_type": "display_data"
    },
    {
     "data": {
      "text/html": [
       "Find logs at: <code>.\\wandb\\run-20250208_012740-1skrx79e\\logs</code>"
      ],
      "text/plain": [
       "<IPython.core.display.HTML object>"
      ]
     },
     "metadata": {},
     "output_type": "display_data"
    },
    {
     "name": "stderr",
     "output_type": "stream",
     "text": [
      "\u001b[34m\u001b[1mwandb\u001b[0m: Agent Starting Run: ehgn90lp with config:\n",
      "\u001b[34m\u001b[1mwandb\u001b[0m: \tcolsample_bytree: 0.6\n",
      "\u001b[34m\u001b[1mwandb\u001b[0m: \tlearning_rate: 0.01\n",
      "\u001b[34m\u001b[1mwandb\u001b[0m: \tmax_depth: 10\n",
      "\u001b[34m\u001b[1mwandb\u001b[0m: \tmin_child_weight: 1\n",
      "\u001b[34m\u001b[1mwandb\u001b[0m: \tn_estimators: 1000\n",
      "\u001b[34m\u001b[1mwandb\u001b[0m: \trandom_state: 42\n",
      "\u001b[34m\u001b[1mwandb\u001b[0m: \treg_alpha: 0.1\n",
      "\u001b[34m\u001b[1mwandb\u001b[0m: \treg_lambda: 0\n",
      "\u001b[34m\u001b[1mwandb\u001b[0m: \tstopping_rounds: 100\n",
      "\u001b[34m\u001b[1mwandb\u001b[0m: \tsubsample: 0.6\n",
      "\u001b[34m\u001b[1mwandb\u001b[0m: \ttest_size: 0.2\n"
     ]
    },
    {
     "data": {
      "text/html": [
       "Ignoring project 'LGaimers' when running a sweep."
      ],
      "text/plain": [
       "<IPython.core.display.HTML object>"
      ]
     },
     "metadata": {},
     "output_type": "display_data"
    },
    {
     "data": {
      "text/html": [
       "Ignoring entity 'espada105-hanseouniversity' when running a sweep."
      ],
      "text/plain": [
       "<IPython.core.display.HTML object>"
      ]
     },
     "metadata": {},
     "output_type": "display_data"
    },
    {
     "data": {
      "text/html": [
       "Tracking run with wandb version 0.19.6"
      ],
      "text/plain": [
       "<IPython.core.display.HTML object>"
      ]
     },
     "metadata": {},
     "output_type": "display_data"
    },
    {
     "data": {
      "text/html": [
       "Run data is saved locally in <code>c:\\GitHubRepo\\AI_Predicting_Pregnancy_Success\\HongSeongIn\\wandb\\run-20250208_012801-ehgn90lp</code>"
      ],
      "text/plain": [
       "<IPython.core.display.HTML object>"
      ]
     },
     "metadata": {},
     "output_type": "display_data"
    },
    {
     "data": {
      "text/html": [
       "Syncing run <strong><a href='https://wandb.ai/espada105-hanseouniversity/LGaimers/runs/ehgn90lp' target=\"_blank\">smooth-sweep-10</a></strong> to <a href='https://wandb.ai/espada105-hanseouniversity/LGaimers' target=\"_blank\">Weights & Biases</a> (<a href='https://wandb.me/developer-guide' target=\"_blank\">docs</a>)<br>Sweep page: <a href='https://wandb.ai/espada105-hanseouniversity/LGaimers/sweeps/dxgv2s1t' target=\"_blank\">https://wandb.ai/espada105-hanseouniversity/LGaimers/sweeps/dxgv2s1t</a>"
      ],
      "text/plain": [
       "<IPython.core.display.HTML object>"
      ]
     },
     "metadata": {},
     "output_type": "display_data"
    },
    {
     "data": {
      "text/html": [
       " View project at <a href='https://wandb.ai/espada105-hanseouniversity/LGaimers' target=\"_blank\">https://wandb.ai/espada105-hanseouniversity/LGaimers</a>"
      ],
      "text/plain": [
       "<IPython.core.display.HTML object>"
      ]
     },
     "metadata": {},
     "output_type": "display_data"
    },
    {
     "data": {
      "text/html": [
       " View sweep at <a href='https://wandb.ai/espada105-hanseouniversity/LGaimers/sweeps/dxgv2s1t' target=\"_blank\">https://wandb.ai/espada105-hanseouniversity/LGaimers/sweeps/dxgv2s1t</a>"
      ],
      "text/plain": [
       "<IPython.core.display.HTML object>"
      ]
     },
     "metadata": {},
     "output_type": "display_data"
    },
    {
     "data": {
      "text/html": [
       " View run at <a href='https://wandb.ai/espada105-hanseouniversity/LGaimers/runs/ehgn90lp' target=\"_blank\">https://wandb.ai/espada105-hanseouniversity/LGaimers/runs/ehgn90lp</a>"
      ],
      "text/plain": [
       "<IPython.core.display.HTML object>"
      ]
     },
     "metadata": {},
     "output_type": "display_data"
    },
    {
     "name": "stdout",
     "output_type": "stream",
     "text": [
      "Training until validation scores don't improve for 100 rounds\n",
      "Did not meet early stopping. Best iteration is:\n",
      "[949]\tvalid_0's binary_logloss: 0.485906\n"
     ]
    },
    {
     "name": "stderr",
     "output_type": "stream",
     "text": [
      "c:\\Users\\tjddl\\AppData\\Local\\Programs\\Python\\Python310\\lib\\site-packages\\sklearn\\utils\\validation.py:2732: UserWarning: X has feature names, but SelectFromModel was fitted without feature names\n",
      "  warnings.warn(\n",
      "c:\\Users\\tjddl\\AppData\\Local\\Programs\\Python\\Python310\\lib\\site-packages\\sklearn\\utils\\validation.py:2732: UserWarning: X has feature names, but SelectFromModel was fitted without feature names\n",
      "  warnings.warn(\n",
      "c:\\Users\\tjddl\\AppData\\Local\\Programs\\Python\\Python310\\lib\\site-packages\\sklearn\\utils\\deprecation.py:151: FutureWarning: 'force_all_finite' was renamed to 'ensure_all_finite' in 1.6 and will be removed in 1.8.\n",
      "  warnings.warn(\n"
     ]
    },
    {
     "name": "stdout",
     "output_type": "stream",
     "text": [
      "Training until validation scores don't improve for 100 rounds\n",
      "[10]\tvalid_0's binary_logloss: 0.557659\n",
      "[20]\tvalid_0's binary_logloss: 0.548339\n",
      "[30]\tvalid_0's binary_logloss: 0.540488\n",
      "[40]\tvalid_0's binary_logloss: 0.533832\n",
      "[50]\tvalid_0's binary_logloss: 0.528117\n",
      "[60]\tvalid_0's binary_logloss: 0.523202\n",
      "[70]\tvalid_0's binary_logloss: 0.518968\n",
      "[80]\tvalid_0's binary_logloss: 0.515291\n",
      "[90]\tvalid_0's binary_logloss: 0.512077\n",
      "[100]\tvalid_0's binary_logloss: 0.509274\n",
      "[110]\tvalid_0's binary_logloss: 0.506829\n",
      "[120]\tvalid_0's binary_logloss: 0.504677\n",
      "[130]\tvalid_0's binary_logloss: 0.502781\n",
      "[140]\tvalid_0's binary_logloss: 0.501087\n",
      "[150]\tvalid_0's binary_logloss: 0.499581\n",
      "[160]\tvalid_0's binary_logloss: 0.498259\n",
      "[170]\tvalid_0's binary_logloss: 0.49708\n",
      "[180]\tvalid_0's binary_logloss: 0.496036\n",
      "[190]\tvalid_0's binary_logloss: 0.495096\n",
      "[200]\tvalid_0's binary_logloss: 0.494264\n",
      "[210]\tvalid_0's binary_logloss: 0.493512\n",
      "[220]\tvalid_0's binary_logloss: 0.492837\n",
      "[230]\tvalid_0's binary_logloss: 0.492232\n",
      "[240]\tvalid_0's binary_logloss: 0.491693\n",
      "[250]\tvalid_0's binary_logloss: 0.491192\n",
      "[260]\tvalid_0's binary_logloss: 0.490735\n",
      "[270]\tvalid_0's binary_logloss: 0.490323\n",
      "[280]\tvalid_0's binary_logloss: 0.489953\n",
      "[290]\tvalid_0's binary_logloss: 0.489604\n",
      "[300]\tvalid_0's binary_logloss: 0.489298\n",
      "[310]\tvalid_0's binary_logloss: 0.489024\n",
      "[320]\tvalid_0's binary_logloss: 0.488772\n",
      "[330]\tvalid_0's binary_logloss: 0.488552\n",
      "[340]\tvalid_0's binary_logloss: 0.488347\n",
      "[350]\tvalid_0's binary_logloss: 0.488171\n",
      "[360]\tvalid_0's binary_logloss: 0.488\n",
      "[370]\tvalid_0's binary_logloss: 0.487837\n",
      "[380]\tvalid_0's binary_logloss: 0.487683\n",
      "[390]\tvalid_0's binary_logloss: 0.487529\n",
      "[400]\tvalid_0's binary_logloss: 0.487398\n",
      "[410]\tvalid_0's binary_logloss: 0.487275\n",
      "[420]\tvalid_0's binary_logloss: 0.487162\n",
      "[430]\tvalid_0's binary_logloss: 0.487065\n",
      "[440]\tvalid_0's binary_logloss: 0.486978\n",
      "[450]\tvalid_0's binary_logloss: 0.486896\n",
      "[460]\tvalid_0's binary_logloss: 0.486821\n",
      "[470]\tvalid_0's binary_logloss: 0.486755\n",
      "[480]\tvalid_0's binary_logloss: 0.486688\n",
      "[490]\tvalid_0's binary_logloss: 0.486629\n",
      "[500]\tvalid_0's binary_logloss: 0.486578\n",
      "[510]\tvalid_0's binary_logloss: 0.486536\n",
      "[520]\tvalid_0's binary_logloss: 0.4865\n",
      "[530]\tvalid_0's binary_logloss: 0.486461\n",
      "[540]\tvalid_0's binary_logloss: 0.486421\n",
      "[550]\tvalid_0's binary_logloss: 0.486395\n",
      "[560]\tvalid_0's binary_logloss: 0.486365\n",
      "[570]\tvalid_0's binary_logloss: 0.486325\n",
      "[580]\tvalid_0's binary_logloss: 0.486289\n",
      "[590]\tvalid_0's binary_logloss: 0.48626\n",
      "[600]\tvalid_0's binary_logloss: 0.486232\n",
      "[610]\tvalid_0's binary_logloss: 0.486217\n",
      "[620]\tvalid_0's binary_logloss: 0.486188\n",
      "[630]\tvalid_0's binary_logloss: 0.486159\n",
      "[640]\tvalid_0's binary_logloss: 0.486144\n",
      "[650]\tvalid_0's binary_logloss: 0.486127\n",
      "[660]\tvalid_0's binary_logloss: 0.486112\n",
      "[670]\tvalid_0's binary_logloss: 0.486093\n",
      "[680]\tvalid_0's binary_logloss: 0.486077\n",
      "[690]\tvalid_0's binary_logloss: 0.486063\n",
      "[700]\tvalid_0's binary_logloss: 0.486051\n",
      "[710]\tvalid_0's binary_logloss: 0.486035\n",
      "[720]\tvalid_0's binary_logloss: 0.486016\n",
      "[730]\tvalid_0's binary_logloss: 0.486001\n",
      "[740]\tvalid_0's binary_logloss: 0.485982\n",
      "[750]\tvalid_0's binary_logloss: 0.485971\n",
      "[760]\tvalid_0's binary_logloss: 0.485958\n",
      "[770]\tvalid_0's binary_logloss: 0.485948\n",
      "[780]\tvalid_0's binary_logloss: 0.485935\n",
      "[790]\tvalid_0's binary_logloss: 0.485935\n",
      "[800]\tvalid_0's binary_logloss: 0.485923\n",
      "[810]\tvalid_0's binary_logloss: 0.485918\n",
      "[820]\tvalid_0's binary_logloss: 0.485911\n",
      "[830]\tvalid_0's binary_logloss: 0.485904\n",
      "[840]\tvalid_0's binary_logloss: 0.485895\n",
      "[850]\tvalid_0's binary_logloss: 0.485887\n",
      "[860]\tvalid_0's binary_logloss: 0.485879\n",
      "[870]\tvalid_0's binary_logloss: 0.485871\n",
      "[880]\tvalid_0's binary_logloss: 0.485865\n",
      "[890]\tvalid_0's binary_logloss: 0.48586\n",
      "[900]\tvalid_0's binary_logloss: 0.485855\n",
      "[910]\tvalid_0's binary_logloss: 0.485853\n",
      "[920]\tvalid_0's binary_logloss: 0.485847\n",
      "[930]\tvalid_0's binary_logloss: 0.485844\n",
      "[940]\tvalid_0's binary_logloss: 0.485843\n",
      "[950]\tvalid_0's binary_logloss: 0.485841\n",
      "[960]\tvalid_0's binary_logloss: 0.485838\n",
      "[970]\tvalid_0's binary_logloss: 0.485834\n",
      "[980]\tvalid_0's binary_logloss: 0.485828\n",
      "[990]\tvalid_0's binary_logloss: 0.485824\n",
      "[1000]\tvalid_0's binary_logloss: 0.485822\n",
      "Did not meet early stopping. Best iteration is:\n",
      "[993]\tvalid_0's binary_logloss: 0.485822\n"
     ]
    },
    {
     "name": "stderr",
     "output_type": "stream",
     "text": [
      "c:\\Users\\tjddl\\AppData\\Local\\Programs\\Python\\Python310\\lib\\site-packages\\sklearn\\utils\\deprecation.py:151: FutureWarning: 'force_all_finite' was renamed to 'ensure_all_finite' in 1.6 and will be removed in 1.8.\n",
      "  warnings.warn(\n"
     ]
    },
    {
     "name": "stdout",
     "output_type": "stream",
     "text": [
      "최종 모델 ROC AUC: 0.73926345\n"
     ]
    },
    {
     "data": {
      "text/html": [],
      "text/plain": [
       "<IPython.core.display.HTML object>"
      ]
     },
     "metadata": {},
     "output_type": "display_data"
    },
    {
     "data": {
      "text/html": [
       "<br>    <style><br>        .wandb-row {<br>            display: flex;<br>            flex-direction: row;<br>            flex-wrap: wrap;<br>            justify-content: flex-start;<br>            width: 100%;<br>        }<br>        .wandb-col {<br>            display: flex;<br>            flex-direction: column;<br>            flex-basis: 100%;<br>            flex: 1;<br>            padding: 10px;<br>        }<br>    </style><br><div class=\"wandb-row\"><div class=\"wandb-col\"><h3>Run history:</h3><br/><table class=\"wandb\"><tr><td>final_validation_roc_auc</td><td>▁</td></tr></table><br/></div><div class=\"wandb-col\"><h3>Run summary:</h3><br/><table class=\"wandb\"><tr><td>final_validation_roc_auc</td><td>0.73926</td></tr></table><br/></div></div>"
      ],
      "text/plain": [
       "<IPython.core.display.HTML object>"
      ]
     },
     "metadata": {},
     "output_type": "display_data"
    },
    {
     "data": {
      "text/html": [
       " View run <strong style=\"color:#cdcd00\">smooth-sweep-10</strong> at: <a href='https://wandb.ai/espada105-hanseouniversity/LGaimers/runs/ehgn90lp' target=\"_blank\">https://wandb.ai/espada105-hanseouniversity/LGaimers/runs/ehgn90lp</a><br> View project at: <a href='https://wandb.ai/espada105-hanseouniversity/LGaimers' target=\"_blank\">https://wandb.ai/espada105-hanseouniversity/LGaimers</a><br>Synced 5 W&B file(s), 0 media file(s), 0 artifact file(s) and 0 other file(s)"
      ],
      "text/plain": [
       "<IPython.core.display.HTML object>"
      ]
     },
     "metadata": {},
     "output_type": "display_data"
    },
    {
     "data": {
      "text/html": [
       "Find logs at: <code>.\\wandb\\run-20250208_012801-ehgn90lp\\logs</code>"
      ],
      "text/plain": [
       "<IPython.core.display.HTML object>"
      ]
     },
     "metadata": {},
     "output_type": "display_data"
    }
   ],
   "source": [
    "import pandas as pd\n",
    "import numpy as np\n",
    "import wandb\n",
    "\n",
    "from sklearn.model_selection import train_test_split\n",
    "from sklearn.feature_selection import SelectFromModel\n",
    "from sklearn.metrics import accuracy_score\n",
    "import lightgbm as lgb\n",
    "from category_encoders import TargetEncoder\n",
    "from lightgbm import early_stopping, log_evaluation\n",
    "\n",
    "# -----------------------------\n",
    "# 1. wandb 로그인 및 스윕 설정\n",
    "# -----------------------------\n",
    "wandb.login(key=\"8bab4affd59dd33bd76096b069d74f6dc0abb056\")\n",
    "\n",
    "# 스윕 설정 (여기서는 그리드 서치를 예시로 함)\n",
    "sweep_config = {\n",
    "    'method': 'grid',  # 'grid', 'random', 'bayes' 중 선택\n",
    "    'metric': {\n",
    "        'name': 'final_validation_accuracy',\n",
    "        'goal': 'maximize'\n",
    "    },\n",
    "    'parameters': {\n",
    "        'n_estimators': {'values': [1000, 1500]},\n",
    "        'learning_rate': {'values': [0.01, 0.005]},\n",
    "        'max_depth': {'values': [10, 12]},\n",
    "        # 나머지 고정 파라미터는 'value'로 지정합니다.\n",
    "        'stopping_rounds': {'value': 100},\n",
    "        'test_size': {'value': 0.2},\n",
    "        'random_state': {'value': 42}\n",
    "    }\n",
    "}\n",
    "\n",
    "sweep_id = wandb.sweep(sweep_config, project=\"LGaimers\", entity=\"espada105-hanseouniversity\")\n",
    "print(\"Sweep ID:\", sweep_id)\n",
    "\n",
    "# -----------------------------\n",
    "# 2. run() 함수 정의: 하이퍼파라미터에 따른 모델 학습 및 평가\n",
    "# -----------------------------\n",
    "def run():\n",
    "    # 각 run마다 wandb 초기화 및 config 로드\n",
    "    wandb.init(project=\"LGaimers\", entity=\"espada105-hanseouniversity\")\n",
    "    config = wandb.config\n",
    "\n",
    "    # --- 데이터 불러오기 및 전처리 ---\n",
    "    # 학습 데이터 불러오기 (ID 컬럼 제거)\n",
    "    train_df = pd.read_csv('train.csv')\n",
    "    train_df = train_df.drop(columns=['ID'])\n",
    "    \n",
    "    # 타깃과 피처 분리 (타깃 컬럼명이 '임신 성공 여부'라고 가정)\n",
    "    X = train_df.drop('임신 성공 여부', axis=1)\n",
    "    y = train_df['임신 성공 여부']\n",
    "    \n",
    "    # 범주형 변수 목록 (실제 데이터에 맞게 수정)\n",
    "    categorical_columns = [\n",
    "        \"시술 시기 코드\", \"시술 당시 나이\", \"시술 유형\", \"특정 시술 유형\", \"배란 자극 여부\",\n",
    "        \"배란 유도 유형\", \"단일 배아 이식 여부\", \"착상 전 유전 검사 사용 여부\", \"착상 전 유전 진단 사용 여부\",\n",
    "        \"남성 주 불임 원인\", \"남성 부 불임 원인\", \"여성 주 불임 원인\", \"여성 부 불임 원인\", \"부부 주 불임 원인\",\n",
    "        \"부부 부 불임 원인\", \"불명확 불임 원인\", \"불임 원인 - 난관 질환\", \"불임 원인 - 남성 요인\",\n",
    "        \"불임 원인 - 배란 장애\", \"불임 원인 - 여성 요인\", \"불임 원인 - 자궁경부 문제\",\n",
    "        \"불임 원인 - 자궁내막증\", \"불임 원인 - 정자 농도\", \"불임 원인 - 정자 면역학적 요인\",\n",
    "        \"불임 원인 - 정자 운동성\", \"불임 원인 - 정자 형태\", \"배아 생성 주요 이유\", \"총 시술 횟수\",\n",
    "        \"클리닉 내 총 시술 횟수\", \"IVF 시술 횟수\", \"DI 시술 횟수\", \"총 임신 횟수\", \"IVF 임신 횟수\",\n",
    "        \"DI 임신 횟수\", \"총 출산 횟수\", \"IVF 출산 횟수\", \"DI 출산 횟수\", \"난자 출처\", \"정자 출처\",\n",
    "        \"난자 기증자 나이\", \"정자 기증자 나이\", \"동결 배아 사용 여부\", \"신선 배아 사용 여부\",\n",
    "        \"기증 배아 사용 여부\", \"대리모 여부\", \"PGD 시술 여부\", \"PGS 시술 여부\"\n",
    "    ]\n",
    "    numerical_columns = [col for col in X.columns if col not in categorical_columns]\n",
    "    \n",
    "    # TargetEncoder를 이용하여 범주형 변수 인코딩\n",
    "    encoder = TargetEncoder(cols=categorical_columns)\n",
    "    X_encoded = encoder.fit_transform(X, y)\n",
    "    \n",
    "    # train/validation 세트 분할 (config에 설정된 test_size와 random_state 사용)\n",
    "    X_train, X_val, y_train, y_val = train_test_split(\n",
    "        X_encoded, y, test_size=config.test_size, random_state=config.random_state\n",
    "    )\n",
    "    \n",
    "    # --- 초기 모델 학습 및 피처 선택 ---\n",
    "    base_model = lgb.LGBMClassifier(\n",
    "        n_estimators=config.n_estimators,\n",
    "        learning_rate=config.learning_rate,\n",
    "        max_depth=config.max_depth,\n",
    "        random_state=config.random_state\n",
    "    )\n",
    "    callbacks = [early_stopping(stopping_rounds=config.stopping_rounds, verbose=True)]\n",
    "    \n",
    "    base_model.fit(X_train, y_train, eval_set=[(X_val, y_val)], callbacks=callbacks)\n",
    "    \n",
    "    # SelectFromModel을 이용해 피처 선택 (중간값(threshold='median') 기준)\n",
    "    selector = SelectFromModel(base_model, prefit=True, threshold='median')\n",
    "    X_train_selected = selector.transform(X_train)\n",
    "    X_val_selected = selector.transform(X_val)\n",
    "    \n",
    "    # --- 최종 모델 학습 ---\n",
    "    final_model = lgb.LGBMClassifier(\n",
    "        n_estimators=config.n_estimators,\n",
    "        learning_rate=config.learning_rate,\n",
    "        max_depth=config.max_depth,\n",
    "        random_state=config.random_state\n",
    "    )\n",
    "    callbacks_final = [\n",
    "        early_stopping(stopping_rounds=config.stopping_rounds, verbose=True),\n",
    "        log_evaluation(10)\n",
    "    ]\n",
    "    final_model.fit(X_train_selected, y_train, eval_set=[(X_val_selected, y_val)], callbacks=callbacks_final)\n",
    "    \n",
    "    # 검증 데이터에 대한 예측 및 평가\n",
    "    from sklearn.metrics import roc_auc_score\n",
    "\n",
    "    # 최종 모델 예측 확률 (양성 클래스에 대한 확률)\n",
    "    y_pred_proba_final = final_model.predict_proba(X_val_selected)[:, 1]\n",
    "    roc_auc = roc_auc_score(y_val, y_pred_proba_final)\n",
    "    print(f\"최종 모델 ROC AUC: {roc_auc:.4f}\")\n",
    "    wandb.log({\"final_validation_roc_auc\": roc_auc})\n",
    "\n",
    "    wandb.finish()\n",
    "\n",
    "# -----------------------------\n",
    "# 3. wandb 에이전트를 이용해 스윕 실행\n",
    "# -----------------------------\n",
    "wandb.agent(sweep_id, function=run, count=10)\n"
   ]
  },
  {
   "cell_type": "code",
   "execution_count": null,
   "metadata": {},
   "outputs": [],
   "source": []
  }
 ],
 "metadata": {
  "kernelspec": {
   "display_name": "Python 3",
   "language": "python",
   "name": "python3"
  },
  "language_info": {
   "codemirror_mode": {
    "name": "ipython",
    "version": 3
   },
   "file_extension": ".py",
   "mimetype": "text/x-python",
   "name": "python",
   "nbconvert_exporter": "python",
   "pygments_lexer": "ipython3",
   "version": "3.10.0"
  }
 },
 "nbformat": 4,
 "nbformat_minor": 2
}
