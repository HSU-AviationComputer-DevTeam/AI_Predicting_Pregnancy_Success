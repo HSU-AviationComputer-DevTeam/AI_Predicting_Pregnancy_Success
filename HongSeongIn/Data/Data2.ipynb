{
 "cells": [
  {
   "cell_type": "code",
   "execution_count": 1,
   "metadata": {},
   "outputs": [],
   "source": [
    "import pandas as pd\n",
    "from sklearn.preprocessing import StandardScaler, LabelEncoder\n",
    "from imblearn.under_sampling import RandomUnderSampler\n",
    "\n",
    "# 1. 데이터 로드\n",
    "file_path = \"train.csv\"\n",
    "df = pd.read_csv(file_path)\n",
    "\n",
    "# 2. 결측치 처리 (평균/최빈값 대체 또는 삭제)\n",
    "df.fillna(df.median(numeric_only=True), inplace=True)  # 숫자형 컬럼은 중앙값으로 대체\n",
    "df.fillna(df.mode().iloc[0], inplace=True)  # 범주형 컬럼은 최빈값으로 대체\n",
    "\n",
    "# 3. 데이터 타입 변환 (범주형 컬럼 Label Encoding)\n",
    "categorical_columns = df.select_dtypes(include=['object']).columns\n",
    "label_encoders = {}\n",
    "for col in categorical_columns:\n",
    "    le = LabelEncoder()\n",
    "    df[col] = le.fit_transform(df[col])\n",
    "    label_encoders[col] = le  # 나중에 역변환을 위해 저장\n",
    "\n",
    "# 4. 데이터 불균형 처리 (언더샘플링)\n",
    "if \"임신 성공 여부\" in df.columns:\n",
    "    X = df.drop(columns=[\"임신 성공 여부\"])\n",
    "    y = df[\"임신 성공 여부\"]\n",
    "    undersample = RandomUnderSampler(sampling_strategy=0.5, random_state=42)\n",
    "    X_resampled, y_resampled = undersample.fit_resample(X, y)\n",
    "    df_balanced = pd.concat([X_resampled, y_resampled], axis=1)\n",
    "else:\n",
    "    df_balanced = df\n",
    "\n",
    "# 5. 데이터 정규화 (StandardScaler 적용)\n",
    "scaler = StandardScaler()\n",
    "numerical_columns = df_balanced.select_dtypes(include=['int64', 'float64']).columns\n",
    "df_balanced[numerical_columns] = scaler.fit_transform(df_balanced[numerical_columns])\n",
    "\n",
    "# 6. 전처리된 데이터 저장\n",
    "preprocessed_csv_path = \"preprocessed_train.csv\"\n",
    "df_balanced.to_csv(preprocessed_csv_path, index=False, encoding=\"utf-8-sig\")\n"
   ]
  }
 ],
 "metadata": {
  "kernelspec": {
   "display_name": "Python 3",
   "language": "python",
   "name": "python3"
  },
  "language_info": {
   "codemirror_mode": {
    "name": "ipython",
    "version": 3
   },
   "file_extension": ".py",
   "mimetype": "text/x-python",
   "name": "python",
   "nbconvert_exporter": "python",
   "pygments_lexer": "ipython3",
   "version": "3.10.0"
  }
 },
 "nbformat": 4,
 "nbformat_minor": 2
}
