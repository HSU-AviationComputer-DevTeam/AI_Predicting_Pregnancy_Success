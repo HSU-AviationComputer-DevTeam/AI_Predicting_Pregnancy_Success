{
 "cells": [
  {
   "cell_type": "code",
   "execution_count": 2,
   "metadata": {},
   "outputs": [
    {
     "name": "stdout",
     "output_type": "stream",
     "text": [
      "Collecting category_encoders\n",
      "  Downloading category_encoders-2.8.0-py3-none-any.whl (85 kB)\n",
      "Requirement already satisfied: scipy>=1.0.0 in c:\\users\\tjddl\\appdata\\local\\programs\\python\\python310\\lib\\site-packages (from category_encoders) (1.15.1)\n",
      "Requirement already satisfied: numpy>=1.14.0 in c:\\users\\tjddl\\appdata\\local\\programs\\python\\python310\\lib\\site-packages (from category_encoders) (2.2.2)\n",
      "Collecting patsy>=0.5.1\n",
      "  Downloading patsy-1.0.1-py2.py3-none-any.whl (232 kB)\n",
      "Collecting statsmodels>=0.9.0\n",
      "  Downloading statsmodels-0.14.4-cp310-cp310-win_amd64.whl (9.8 MB)\n",
      "Requirement already satisfied: pandas>=1.0.5 in c:\\users\\tjddl\\appdata\\local\\programs\\python\\python310\\lib\\site-packages (from category_encoders) (2.2.3)\n",
      "Requirement already satisfied: scikit-learn>=1.6.0 in c:\\users\\tjddl\\appdata\\local\\programs\\python\\python310\\lib\\site-packages (from category_encoders) (1.6.1)\n",
      "Requirement already satisfied: pytz>=2020.1 in c:\\users\\tjddl\\appdata\\local\\programs\\python\\python310\\lib\\site-packages (from pandas>=1.0.5->category_encoders) (2025.1)\n",
      "Requirement already satisfied: tzdata>=2022.7 in c:\\users\\tjddl\\appdata\\local\\programs\\python\\python310\\lib\\site-packages (from pandas>=1.0.5->category_encoders) (2025.1)\n",
      "Requirement already satisfied: python-dateutil>=2.8.2 in c:\\users\\tjddl\\appdata\\local\\programs\\python\\python310\\lib\\site-packages (from pandas>=1.0.5->category_encoders) (2.9.0.post0)\n",
      "Requirement already satisfied: six>=1.5 in c:\\users\\tjddl\\appdata\\local\\programs\\python\\python310\\lib\\site-packages (from python-dateutil>=2.8.2->pandas>=1.0.5->category_encoders) (1.17.0)\n",
      "Requirement already satisfied: joblib>=1.2.0 in c:\\users\\tjddl\\appdata\\local\\programs\\python\\python310\\lib\\site-packages (from scikit-learn>=1.6.0->category_encoders) (1.4.2)\n",
      "Requirement already satisfied: threadpoolctl>=3.1.0 in c:\\users\\tjddl\\appdata\\local\\programs\\python\\python310\\lib\\site-packages (from scikit-learn>=1.6.0->category_encoders) (3.5.0)\n",
      "Requirement already satisfied: packaging>=21.3 in c:\\users\\tjddl\\appdata\\roaming\\python\\python310\\site-packages (from statsmodels>=0.9.0->category_encoders) (24.2)\n",
      "Installing collected packages: patsy, statsmodels, category-encoders\n",
      "Successfully installed category-encoders-2.8.0 patsy-1.0.1 statsmodels-0.14.4\n"
     ]
    },
    {
     "name": "stderr",
     "output_type": "stream",
     "text": [
      "WARNING: You are using pip version 21.2.3; however, version 25.0 is available.\n",
      "You should consider upgrading via the 'C:\\Users\\tjddl\\AppData\\Local\\Programs\\Python\\Python310\\python.exe -m pip install --upgrade pip' command.\n"
     ]
    }
   ],
   "source": [
    "!pip install category_encoders"
   ]
  },
  {
   "cell_type": "code",
   "execution_count": 1,
   "metadata": {},
   "outputs": [
    {
     "name": "stdout",
     "output_type": "stream",
     "text": [
      "[LightGBM] [Warning] Found whitespace in feature_names, replace with underlines\n",
      "[LightGBM] [Info] Number of positive: 53102, number of negative: 151978\n",
      "[LightGBM] [Info] Auto-choosing row-wise multi-threading, the overhead of testing was 0.015510 seconds.\n",
      "You can set `force_row_wise=true` to remove the overhead.\n",
      "And if memory is not enough, you can set `force_col_wise=true`.\n",
      "[LightGBM] [Info] Total Bins 779\n",
      "[LightGBM] [Info] Number of data points in the train set: 205080, number of used features: 64\n",
      "[LightGBM] [Info] [binary:BoostFromScore]: pavg=0.258933 -> initscore=-1.051521\n",
      "[LightGBM] [Info] Start training from score -1.051521\n",
      "검증 데이터에 대한 예측 확률 (상위 10개):\n",
      "[0.00091267 0.20905305 0.06350042 0.32096162 0.39091707 0.17815922\n",
      " 0.34447143 0.25397721 0.41257444 0.32070472]\n",
      "\n",
      "최적 임계값: 0.257864332102723\n",
      "\n",
      "최종 검증 데이터 정확도: 0.6161\n",
      "\n",
      "최종 결과가 'submission.csv'에 저장되었습니다.\n"
     ]
    }
   ],
   "source": [
    "import pandas as pd\n",
    "from sklearn.model_selection import train_test_split\n",
    "from sklearn.feature_selection import SelectFromModel\n",
    "import lightgbm as lgb\n",
    "from category_encoders import TargetEncoder\n",
    "from sklearn.metrics import accuracy_score, roc_curve\n",
    "\n",
    "# 1. 데이터 로드\n",
    "train = pd.read_csv('train.csv').drop(columns=['ID'])\n",
    "test = pd.read_csv('test.csv').drop(columns=['ID'])\n",
    "\n",
    "# 2. 독립 변수(X)와 종속 변수(y) 분리\n",
    "X = train.drop('임신 성공 여부', axis=1)\n",
    "y = train['임신 성공 여부']\n",
    "\n",
    "# 3. 카테고리형 변수 인코딩 (Target Encoding)\n",
    "categorical_columns = [\n",
    "    \"시술 시기 코드\", \"시술 당시 나이\", \"시술 유형\", \"특정 시술 유형\", \"배란 자극 여부\",\n",
    "    \"배란 유도 유형\", \"단일 배아 이식 여부\", \"착상 전 유전 검사 사용 여부\", \"착상 전 유전 진단 사용 여부\",\n",
    "    \"남성 주 불임 원인\", \"남성 부 불임 원인\", \"여성 주 불임 원인\", \"여성 부 불임 원인\", \"부부 주 불임 원인\",\n",
    "    \"부부 부 불임 원인\", \"불명확 불임 원인\", \"불임 원인 - 난관 질환\", \"불임 원인 - 남성 요인\",\n",
    "    \"불임 원인 - 배란 장애\", \"불임 원인 - 여성 요인\", \"불임 원인 - 자궁경부 문제\",\n",
    "    \"불임 원인 - 자궁내막증\", \"불임 원인 - 정자 농도\", \"불임 원인 - 정자 면역학적 요인\",\n",
    "    \"불임 원인 - 정자 운동성\", \"불임 원인 - 정자 형태\", \"배아 생성 주요 이유\", \"총 시술 횟수\",\n",
    "    \"클리닉 내 총 시술 횟수\", \"IVF 시술 횟수\", \"DI 시술 횟수\", \"총 임신 횟수\", \"IVF 임신 횟수\",\n",
    "    \"DI 임신 횟수\", \"총 출산 횟수\", \"IVF 출산 횟수\", \"DI 출산 횟수\", \"난자 출처\", \"정자 출처\",\n",
    "    \"난자 기증자 나이\", \"정자 기증자 나이\", \"동결 배아 사용 여부\", \"신선 배아 사용 여부\",\n",
    "    \"기증 배아 사용 여부\", \"대리모 여부\", \"PGD 시술 여부\", \"PGS 시술 여부\"\n",
    "]\n",
    "\n",
    "# Target Encoding 적용\n",
    "encoder = TargetEncoder(cols=categorical_columns)\n",
    "X_encoded = encoder.fit_transform(X, y)\n",
    "test_encoded = encoder.transform(test)\n",
    "\n",
    "# 4. 데이터 분할 (훈련/검증 데이터셋)\n",
    "X_train, X_val, y_train, y_val = train_test_split(X_encoded, y, test_size=0.2, random_state=42)\n",
    "\n",
    "# 5. LightGBM 모델 학습\n",
    "final_model = lgb.LGBMClassifier(n_estimators=1000, learning_rate=0.01, max_depth=10, random_state=42)\n",
    "final_model.fit(X_train, y_train)\n",
    "\n",
    "# 6. 검증 데이터에 대해 확률 예측\n",
    "prob_predictions = final_model.predict_proba(X_val)[:, 1]  # 클래스 1의 확률만 추출\n",
    "\n",
    "# 확률 예측 결과 출력 (상위 10개)\n",
    "print(\"검증 데이터에 대한 예측 확률 (상위 10개):\")\n",
    "print(prob_predictions[:10])\n",
    "\n",
    "# 7. 최적의 임계값 찾기 (ROC 커브)\n",
    "fpr, tpr, thresholds = roc_curve(y_val, prob_predictions)\n",
    "optimal_idx = (tpr - fpr).argmax()\n",
    "optimal_threshold = thresholds[optimal_idx]\n",
    "\n",
    "print(f\"\\n최적 임계값: {optimal_threshold}\")\n",
    "\n",
    "# 8. 최적 임계값에 따라 최종 예측 수행\n",
    "final_predictions = (prob_predictions >= optimal_threshold).astype(int)\n",
    "\n",
    "# 9. 검증 데이터 정확도 출력\n",
    "accuracy = accuracy_score(y_val, final_predictions)\n",
    "print(f\"\\n최종 검증 데이터 정확도: {accuracy:.4f}\")\n",
    "\n",
    "# 10. 테스트 데이터 예측 확률 및 최종 예측\n",
    "test_prob_predictions = final_model.predict_proba(test_encoded)[:, 1]  # 테스트 데이터의 클래스 1 확률\n",
    "test_final_predictions = (test_prob_predictions >= optimal_threshold).astype(int)\n",
    "\n",
    "# 11. 예측 결과 저장\n",
    "submission = pd.DataFrame({'ID': pd.read_csv('test.csv')['ID'], '임신 성공 확률': test_prob_predictions, '최종 예측': test_final_predictions})\n",
    "submission.to_csv('submission.csv', index=False)\n",
    "\n",
    "print(\"\\n최종 결과가 'submission.csv'에 저장되었습니다.\")\n"
   ]
  }
 ],
 "metadata": {
  "kernelspec": {
   "display_name": "Python 3",
   "language": "python",
   "name": "python3"
  },
  "language_info": {
   "codemirror_mode": {
    "name": "ipython",
    "version": 3
   },
   "file_extension": ".py",
   "mimetype": "text/x-python",
   "name": "python",
   "nbconvert_exporter": "python",
   "pygments_lexer": "ipython3",
   "version": "3.10.0"
  }
 },
 "nbformat": 4,
 "nbformat_minor": 2
}
