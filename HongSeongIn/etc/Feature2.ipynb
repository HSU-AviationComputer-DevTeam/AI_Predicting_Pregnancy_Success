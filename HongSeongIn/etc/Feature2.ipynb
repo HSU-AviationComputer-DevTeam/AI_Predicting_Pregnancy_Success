{
 "cells": [
  {
   "cell_type": "code",
   "execution_count": 1,
   "metadata": {},
   "outputs": [],
   "source": [
    "# Log in to your W&B account\n",
    "import wandb\n",
    "import random\n",
    "import math"
   ]
  },
  {
   "cell_type": "code",
   "execution_count": 5,
   "metadata": {},
   "outputs": [],
   "source": [
    "import wandb\n",
    "import pandas as pd\n",
    "import numpy as np\n",
    "\n",
    "from sklearn.model_selection import cross_val_score, StratifiedKFold\n",
    "from sklearn.pipeline import Pipeline\n",
    "from sklearn.preprocessing import StandardScaler, OneHotEncoder\n",
    "from sklearn.compose import ColumnTransformer\n",
    "from lightgbm import LGBMClassifier"
   ]
  },
  {
   "cell_type": "markdown",
   "metadata": {},
   "source": [
    "# 1차"
   ]
  },
  {
   "cell_type": "code",
   "execution_count": 33,
   "metadata": {},
   "outputs": [
    {
     "name": "stderr",
     "output_type": "stream",
     "text": [
      "\u001b[34m\u001b[1mwandb\u001b[0m: \u001b[33mWARNING\u001b[0m If you're specifying your api key in code, ensure this code is not shared publicly.\n",
      "\u001b[34m\u001b[1mwandb\u001b[0m: \u001b[33mWARNING\u001b[0m Consider setting the WANDB_API_KEY environment variable, or running `wandb login` from the command line.\n",
      "\u001b[34m\u001b[1mwandb\u001b[0m: Appending key for api.wandb.ai to your netrc file: C:\\Users\\tjddl\\_netrc\n"
     ]
    },
    {
     "name": "stdout",
     "output_type": "stream",
     "text": [
      "Create sweep with ID: d6kdsk99\n",
      "Sweep URL: https://wandb.ai/espada105-hanseouniversity/LGaimers/sweeps/d6kdsk99\n",
      "Sweep ID: d6kdsk99\n"
     ]
    },
    {
     "name": "stderr",
     "output_type": "stream",
     "text": [
      "\u001b[34m\u001b[1mwandb\u001b[0m: Agent Starting Run: rpir7gr0 with config:\n",
      "\u001b[34m\u001b[1mwandb\u001b[0m: \tlearning_rate: 0.01\n",
      "\u001b[34m\u001b[1mwandb\u001b[0m: \tmax_depth: 5\n",
      "\u001b[34m\u001b[1mwandb\u001b[0m: \tn_estimators: 100\n"
     ]
    },
    {
     "data": {
      "text/html": [
       "Ignoring project 'LGaimers' when running a sweep."
      ],
      "text/plain": [
       "<IPython.core.display.HTML object>"
      ]
     },
     "metadata": {},
     "output_type": "display_data"
    },
    {
     "data": {
      "text/html": [
       "Ignoring entity 'espada105-hanseouniversity' when running a sweep."
      ],
      "text/plain": [
       "<IPython.core.display.HTML object>"
      ]
     },
     "metadata": {},
     "output_type": "display_data"
    },
    {
     "data": {
      "text/html": [
       "Tracking run with wandb version 0.19.6"
      ],
      "text/plain": [
       "<IPython.core.display.HTML object>"
      ]
     },
     "metadata": {},
     "output_type": "display_data"
    },
    {
     "data": {
      "text/html": [
       "Run data is saved locally in <code>c:\\GitHubRepo\\AI_Predicting_Pregnancy_Success\\HongSeongIn\\wandb\\run-20250207_223955-rpir7gr0</code>"
      ],
      "text/plain": [
       "<IPython.core.display.HTML object>"
      ]
     },
     "metadata": {},
     "output_type": "display_data"
    },
    {
     "data": {
      "text/html": [
       "Syncing run <strong><a href='https://wandb.ai/espada105-hanseouniversity/LGaimers/runs/rpir7gr0' target=\"_blank\">ancient-sweep-1</a></strong> to <a href='https://wandb.ai/espada105-hanseouniversity/LGaimers' target=\"_blank\">Weights & Biases</a> (<a href='https://wandb.me/developer-guide' target=\"_blank\">docs</a>)<br>Sweep page: <a href='https://wandb.ai/espada105-hanseouniversity/LGaimers/sweeps/d6kdsk99' target=\"_blank\">https://wandb.ai/espada105-hanseouniversity/LGaimers/sweeps/d6kdsk99</a>"
      ],
      "text/plain": [
       "<IPython.core.display.HTML object>"
      ]
     },
     "metadata": {},
     "output_type": "display_data"
    },
    {
     "data": {
      "text/html": [
       " View project at <a href='https://wandb.ai/espada105-hanseouniversity/LGaimers' target=\"_blank\">https://wandb.ai/espada105-hanseouniversity/LGaimers</a>"
      ],
      "text/plain": [
       "<IPython.core.display.HTML object>"
      ]
     },
     "metadata": {},
     "output_type": "display_data"
    },
    {
     "data": {
      "text/html": [
       " View sweep at <a href='https://wandb.ai/espada105-hanseouniversity/LGaimers/sweeps/d6kdsk99' target=\"_blank\">https://wandb.ai/espada105-hanseouniversity/LGaimers/sweeps/d6kdsk99</a>"
      ],
      "text/plain": [
       "<IPython.core.display.HTML object>"
      ]
     },
     "metadata": {},
     "output_type": "display_data"
    },
    {
     "data": {
      "text/html": [
       " View run at <a href='https://wandb.ai/espada105-hanseouniversity/LGaimers/runs/rpir7gr0' target=\"_blank\">https://wandb.ai/espada105-hanseouniversity/LGaimers/runs/rpir7gr0</a>"
      ],
      "text/plain": [
       "<IPython.core.display.HTML object>"
      ]
     },
     "metadata": {},
     "output_type": "display_data"
    },
    {
     "name": "stderr",
     "output_type": "stream",
     "text": [
      "c:\\Users\\tjddl\\AppData\\Local\\Programs\\Python\\Python310\\lib\\site-packages\\sklearn\\utils\\deprecation.py:151: FutureWarning: 'force_all_finite' was renamed to 'ensure_all_finite' in 1.6 and will be removed in 1.8.\n",
      "  warnings.warn(\n",
      "c:\\Users\\tjddl\\AppData\\Local\\Programs\\Python\\Python310\\lib\\site-packages\\sklearn\\utils\\deprecation.py:151: FutureWarning: 'force_all_finite' was renamed to 'ensure_all_finite' in 1.6 and will be removed in 1.8.\n",
      "  warnings.warn(\n",
      "c:\\Users\\tjddl\\AppData\\Local\\Programs\\Python\\Python310\\lib\\site-packages\\sklearn\\utils\\deprecation.py:151: FutureWarning: 'force_all_finite' was renamed to 'ensure_all_finite' in 1.6 and will be removed in 1.8.\n",
      "  warnings.warn(\n",
      "c:\\Users\\tjddl\\AppData\\Local\\Programs\\Python\\Python310\\lib\\site-packages\\sklearn\\utils\\deprecation.py:151: FutureWarning: 'force_all_finite' was renamed to 'ensure_all_finite' in 1.6 and will be removed in 1.8.\n",
      "  warnings.warn(\n",
      "c:\\Users\\tjddl\\AppData\\Local\\Programs\\Python\\Python310\\lib\\site-packages\\sklearn\\utils\\deprecation.py:151: FutureWarning: 'force_all_finite' was renamed to 'ensure_all_finite' in 1.6 and will be removed in 1.8.\n",
      "  warnings.warn(\n",
      "c:\\Users\\tjddl\\AppData\\Local\\Programs\\Python\\Python310\\lib\\site-packages\\sklearn\\utils\\deprecation.py:151: FutureWarning: 'force_all_finite' was renamed to 'ensure_all_finite' in 1.6 and will be removed in 1.8.\n",
      "  warnings.warn(\n",
      "c:\\Users\\tjddl\\AppData\\Local\\Programs\\Python\\Python310\\lib\\site-packages\\sklearn\\utils\\deprecation.py:151: FutureWarning: 'force_all_finite' was renamed to 'ensure_all_finite' in 1.6 and will be removed in 1.8.\n",
      "  warnings.warn(\n",
      "c:\\Users\\tjddl\\AppData\\Local\\Programs\\Python\\Python310\\lib\\site-packages\\sklearn\\utils\\deprecation.py:151: FutureWarning: 'force_all_finite' was renamed to 'ensure_all_finite' in 1.6 and will be removed in 1.8.\n",
      "  warnings.warn(\n",
      "c:\\Users\\tjddl\\AppData\\Local\\Programs\\Python\\Python310\\lib\\site-packages\\sklearn\\utils\\deprecation.py:151: FutureWarning: 'force_all_finite' was renamed to 'ensure_all_finite' in 1.6 and will be removed in 1.8.\n",
      "  warnings.warn(\n"
     ]
    },
    {
     "name": "stdout",
     "output_type": "stream",
     "text": [
      "Mean ROC AUC: 0.7293\n"
     ]
    },
    {
     "name": "stderr",
     "output_type": "stream",
     "text": [
      "c:\\Users\\tjddl\\AppData\\Local\\Programs\\Python\\Python310\\lib\\site-packages\\sklearn\\utils\\deprecation.py:151: FutureWarning: 'force_all_finite' was renamed to 'ensure_all_finite' in 1.6 and will be removed in 1.8.\n",
      "  warnings.warn(\n"
     ]
    },
    {
     "data": {
      "text/html": [],
      "text/plain": [
       "<IPython.core.display.HTML object>"
      ]
     },
     "metadata": {},
     "output_type": "display_data"
    },
    {
     "data": {
      "text/html": [
       "<br>    <style><br>        .wandb-row {<br>            display: flex;<br>            flex-direction: row;<br>            flex-wrap: wrap;<br>            justify-content: flex-start;<br>            width: 100%;<br>        }<br>        .wandb-col {<br>            display: flex;<br>            flex-direction: column;<br>            flex-basis: 100%;<br>            flex: 1;<br>            padding: 10px;<br>        }<br>    </style><br><div class=\"wandb-row\"><div class=\"wandb-col\"><h3>Run history:</h3><br/><table class=\"wandb\"><tr><td>roc_auc</td><td>▁</td></tr></table><br/></div><div class=\"wandb-col\"><h3>Run summary:</h3><br/><table class=\"wandb\"><tr><td>roc_auc</td><td>0.72932</td></tr></table><br/></div></div>"
      ],
      "text/plain": [
       "<IPython.core.display.HTML object>"
      ]
     },
     "metadata": {},
     "output_type": "display_data"
    },
    {
     "data": {
      "text/html": [
       " View run <strong style=\"color:#cdcd00\">ancient-sweep-1</strong> at: <a href='https://wandb.ai/espada105-hanseouniversity/LGaimers/runs/rpir7gr0' target=\"_blank\">https://wandb.ai/espada105-hanseouniversity/LGaimers/runs/rpir7gr0</a><br> View project at: <a href='https://wandb.ai/espada105-hanseouniversity/LGaimers' target=\"_blank\">https://wandb.ai/espada105-hanseouniversity/LGaimers</a><br>Synced 5 W&B file(s), 0 media file(s), 0 artifact file(s) and 0 other file(s)"
      ],
      "text/plain": [
       "<IPython.core.display.HTML object>"
      ]
     },
     "metadata": {},
     "output_type": "display_data"
    },
    {
     "data": {
      "text/html": [
       "Find logs at: <code>.\\wandb\\run-20250207_223955-rpir7gr0\\logs</code>"
      ],
      "text/plain": [
       "<IPython.core.display.HTML object>"
      ]
     },
     "metadata": {},
     "output_type": "display_data"
    },
    {
     "name": "stderr",
     "output_type": "stream",
     "text": [
      "\u001b[34m\u001b[1mwandb\u001b[0m: Agent Starting Run: 93yvj83k with config:\n",
      "\u001b[34m\u001b[1mwandb\u001b[0m: \tlearning_rate: 0.01\n",
      "\u001b[34m\u001b[1mwandb\u001b[0m: \tmax_depth: 5\n",
      "\u001b[34m\u001b[1mwandb\u001b[0m: \tn_estimators: 200\n"
     ]
    },
    {
     "data": {
      "text/html": [
       "Ignoring project 'LGaimers' when running a sweep."
      ],
      "text/plain": [
       "<IPython.core.display.HTML object>"
      ]
     },
     "metadata": {},
     "output_type": "display_data"
    },
    {
     "data": {
      "text/html": [
       "Ignoring entity 'espada105-hanseouniversity' when running a sweep."
      ],
      "text/plain": [
       "<IPython.core.display.HTML object>"
      ]
     },
     "metadata": {},
     "output_type": "display_data"
    },
    {
     "data": {
      "text/html": [
       "Tracking run with wandb version 0.19.6"
      ],
      "text/plain": [
       "<IPython.core.display.HTML object>"
      ]
     },
     "metadata": {},
     "output_type": "display_data"
    },
    {
     "data": {
      "text/html": [
       "Run data is saved locally in <code>c:\\GitHubRepo\\AI_Predicting_Pregnancy_Success\\HongSeongIn\\wandb\\run-20250207_224011-93yvj83k</code>"
      ],
      "text/plain": [
       "<IPython.core.display.HTML object>"
      ]
     },
     "metadata": {},
     "output_type": "display_data"
    },
    {
     "data": {
      "text/html": [
       "Syncing run <strong><a href='https://wandb.ai/espada105-hanseouniversity/LGaimers/runs/93yvj83k' target=\"_blank\">brisk-sweep-2</a></strong> to <a href='https://wandb.ai/espada105-hanseouniversity/LGaimers' target=\"_blank\">Weights & Biases</a> (<a href='https://wandb.me/developer-guide' target=\"_blank\">docs</a>)<br>Sweep page: <a href='https://wandb.ai/espada105-hanseouniversity/LGaimers/sweeps/d6kdsk99' target=\"_blank\">https://wandb.ai/espada105-hanseouniversity/LGaimers/sweeps/d6kdsk99</a>"
      ],
      "text/plain": [
       "<IPython.core.display.HTML object>"
      ]
     },
     "metadata": {},
     "output_type": "display_data"
    },
    {
     "data": {
      "text/html": [
       " View project at <a href='https://wandb.ai/espada105-hanseouniversity/LGaimers' target=\"_blank\">https://wandb.ai/espada105-hanseouniversity/LGaimers</a>"
      ],
      "text/plain": [
       "<IPython.core.display.HTML object>"
      ]
     },
     "metadata": {},
     "output_type": "display_data"
    },
    {
     "data": {
      "text/html": [
       " View sweep at <a href='https://wandb.ai/espada105-hanseouniversity/LGaimers/sweeps/d6kdsk99' target=\"_blank\">https://wandb.ai/espada105-hanseouniversity/LGaimers/sweeps/d6kdsk99</a>"
      ],
      "text/plain": [
       "<IPython.core.display.HTML object>"
      ]
     },
     "metadata": {},
     "output_type": "display_data"
    },
    {
     "data": {
      "text/html": [
       " View run at <a href='https://wandb.ai/espada105-hanseouniversity/LGaimers/runs/93yvj83k' target=\"_blank\">https://wandb.ai/espada105-hanseouniversity/LGaimers/runs/93yvj83k</a>"
      ],
      "text/plain": [
       "<IPython.core.display.HTML object>"
      ]
     },
     "metadata": {},
     "output_type": "display_data"
    },
    {
     "name": "stderr",
     "output_type": "stream",
     "text": [
      "c:\\Users\\tjddl\\AppData\\Local\\Programs\\Python\\Python310\\lib\\site-packages\\sklearn\\utils\\deprecation.py:151: FutureWarning: 'force_all_finite' was renamed to 'ensure_all_finite' in 1.6 and will be removed in 1.8.\n",
      "  warnings.warn(\n",
      "c:\\Users\\tjddl\\AppData\\Local\\Programs\\Python\\Python310\\lib\\site-packages\\sklearn\\utils\\deprecation.py:151: FutureWarning: 'force_all_finite' was renamed to 'ensure_all_finite' in 1.6 and will be removed in 1.8.\n",
      "  warnings.warn(\n",
      "c:\\Users\\tjddl\\AppData\\Local\\Programs\\Python\\Python310\\lib\\site-packages\\sklearn\\utils\\deprecation.py:151: FutureWarning: 'force_all_finite' was renamed to 'ensure_all_finite' in 1.6 and will be removed in 1.8.\n",
      "  warnings.warn(\n",
      "c:\\Users\\tjddl\\AppData\\Local\\Programs\\Python\\Python310\\lib\\site-packages\\sklearn\\utils\\deprecation.py:151: FutureWarning: 'force_all_finite' was renamed to 'ensure_all_finite' in 1.6 and will be removed in 1.8.\n",
      "  warnings.warn(\n",
      "c:\\Users\\tjddl\\AppData\\Local\\Programs\\Python\\Python310\\lib\\site-packages\\sklearn\\utils\\deprecation.py:151: FutureWarning: 'force_all_finite' was renamed to 'ensure_all_finite' in 1.6 and will be removed in 1.8.\n",
      "  warnings.warn(\n",
      "c:\\Users\\tjddl\\AppData\\Local\\Programs\\Python\\Python310\\lib\\site-packages\\sklearn\\utils\\deprecation.py:151: FutureWarning: 'force_all_finite' was renamed to 'ensure_all_finite' in 1.6 and will be removed in 1.8.\n",
      "  warnings.warn(\n",
      "c:\\Users\\tjddl\\AppData\\Local\\Programs\\Python\\Python310\\lib\\site-packages\\sklearn\\utils\\deprecation.py:151: FutureWarning: 'force_all_finite' was renamed to 'ensure_all_finite' in 1.6 and will be removed in 1.8.\n",
      "  warnings.warn(\n",
      "c:\\Users\\tjddl\\AppData\\Local\\Programs\\Python\\Python310\\lib\\site-packages\\sklearn\\utils\\deprecation.py:151: FutureWarning: 'force_all_finite' was renamed to 'ensure_all_finite' in 1.6 and will be removed in 1.8.\n",
      "  warnings.warn(\n",
      "c:\\Users\\tjddl\\AppData\\Local\\Programs\\Python\\Python310\\lib\\site-packages\\sklearn\\utils\\deprecation.py:151: FutureWarning: 'force_all_finite' was renamed to 'ensure_all_finite' in 1.6 and will be removed in 1.8.\n",
      "  warnings.warn(\n"
     ]
    },
    {
     "name": "stdout",
     "output_type": "stream",
     "text": [
      "Mean ROC AUC: 0.7328\n"
     ]
    },
    {
     "name": "stderr",
     "output_type": "stream",
     "text": [
      "c:\\Users\\tjddl\\AppData\\Local\\Programs\\Python\\Python310\\lib\\site-packages\\sklearn\\utils\\deprecation.py:151: FutureWarning: 'force_all_finite' was renamed to 'ensure_all_finite' in 1.6 and will be removed in 1.8.\n",
      "  warnings.warn(\n"
     ]
    },
    {
     "data": {
      "text/html": [],
      "text/plain": [
       "<IPython.core.display.HTML object>"
      ]
     },
     "metadata": {},
     "output_type": "display_data"
    },
    {
     "data": {
      "text/html": [
       "<br>    <style><br>        .wandb-row {<br>            display: flex;<br>            flex-direction: row;<br>            flex-wrap: wrap;<br>            justify-content: flex-start;<br>            width: 100%;<br>        }<br>        .wandb-col {<br>            display: flex;<br>            flex-direction: column;<br>            flex-basis: 100%;<br>            flex: 1;<br>            padding: 10px;<br>        }<br>    </style><br><div class=\"wandb-row\"><div class=\"wandb-col\"><h3>Run history:</h3><br/><table class=\"wandb\"><tr><td>roc_auc</td><td>▁</td></tr></table><br/></div><div class=\"wandb-col\"><h3>Run summary:</h3><br/><table class=\"wandb\"><tr><td>roc_auc</td><td>0.7328</td></tr></table><br/></div></div>"
      ],
      "text/plain": [
       "<IPython.core.display.HTML object>"
      ]
     },
     "metadata": {},
     "output_type": "display_data"
    },
    {
     "data": {
      "text/html": [
       " View run <strong style=\"color:#cdcd00\">brisk-sweep-2</strong> at: <a href='https://wandb.ai/espada105-hanseouniversity/LGaimers/runs/93yvj83k' target=\"_blank\">https://wandb.ai/espada105-hanseouniversity/LGaimers/runs/93yvj83k</a><br> View project at: <a href='https://wandb.ai/espada105-hanseouniversity/LGaimers' target=\"_blank\">https://wandb.ai/espada105-hanseouniversity/LGaimers</a><br>Synced 5 W&B file(s), 0 media file(s), 0 artifact file(s) and 0 other file(s)"
      ],
      "text/plain": [
       "<IPython.core.display.HTML object>"
      ]
     },
     "metadata": {},
     "output_type": "display_data"
    },
    {
     "data": {
      "text/html": [
       "Find logs at: <code>.\\wandb\\run-20250207_224011-93yvj83k\\logs</code>"
      ],
      "text/plain": [
       "<IPython.core.display.HTML object>"
      ]
     },
     "metadata": {},
     "output_type": "display_data"
    },
    {
     "name": "stderr",
     "output_type": "stream",
     "text": [
      "\u001b[34m\u001b[1mwandb\u001b[0m: Agent Starting Run: 5l0i07kq with config:\n",
      "\u001b[34m\u001b[1mwandb\u001b[0m: \tlearning_rate: 0.01\n",
      "\u001b[34m\u001b[1mwandb\u001b[0m: \tmax_depth: 7\n",
      "\u001b[34m\u001b[1mwandb\u001b[0m: \tn_estimators: 100\n"
     ]
    },
    {
     "data": {
      "text/html": [
       "Ignoring project 'LGaimers' when running a sweep."
      ],
      "text/plain": [
       "<IPython.core.display.HTML object>"
      ]
     },
     "metadata": {},
     "output_type": "display_data"
    },
    {
     "data": {
      "text/html": [
       "Ignoring entity 'espada105-hanseouniversity' when running a sweep."
      ],
      "text/plain": [
       "<IPython.core.display.HTML object>"
      ]
     },
     "metadata": {},
     "output_type": "display_data"
    },
    {
     "data": {
      "text/html": [
       "Tracking run with wandb version 0.19.6"
      ],
      "text/plain": [
       "<IPython.core.display.HTML object>"
      ]
     },
     "metadata": {},
     "output_type": "display_data"
    },
    {
     "data": {
      "text/html": [
       "Run data is saved locally in <code>c:\\GitHubRepo\\AI_Predicting_Pregnancy_Success\\HongSeongIn\\wandb\\run-20250207_224032-5l0i07kq</code>"
      ],
      "text/plain": [
       "<IPython.core.display.HTML object>"
      ]
     },
     "metadata": {},
     "output_type": "display_data"
    },
    {
     "data": {
      "text/html": [
       "Syncing run <strong><a href='https://wandb.ai/espada105-hanseouniversity/LGaimers/runs/5l0i07kq' target=\"_blank\">fast-sweep-3</a></strong> to <a href='https://wandb.ai/espada105-hanseouniversity/LGaimers' target=\"_blank\">Weights & Biases</a> (<a href='https://wandb.me/developer-guide' target=\"_blank\">docs</a>)<br>Sweep page: <a href='https://wandb.ai/espada105-hanseouniversity/LGaimers/sweeps/d6kdsk99' target=\"_blank\">https://wandb.ai/espada105-hanseouniversity/LGaimers/sweeps/d6kdsk99</a>"
      ],
      "text/plain": [
       "<IPython.core.display.HTML object>"
      ]
     },
     "metadata": {},
     "output_type": "display_data"
    },
    {
     "data": {
      "text/html": [
       " View project at <a href='https://wandb.ai/espada105-hanseouniversity/LGaimers' target=\"_blank\">https://wandb.ai/espada105-hanseouniversity/LGaimers</a>"
      ],
      "text/plain": [
       "<IPython.core.display.HTML object>"
      ]
     },
     "metadata": {},
     "output_type": "display_data"
    },
    {
     "data": {
      "text/html": [
       " View sweep at <a href='https://wandb.ai/espada105-hanseouniversity/LGaimers/sweeps/d6kdsk99' target=\"_blank\">https://wandb.ai/espada105-hanseouniversity/LGaimers/sweeps/d6kdsk99</a>"
      ],
      "text/plain": [
       "<IPython.core.display.HTML object>"
      ]
     },
     "metadata": {},
     "output_type": "display_data"
    },
    {
     "data": {
      "text/html": [
       " View run at <a href='https://wandb.ai/espada105-hanseouniversity/LGaimers/runs/5l0i07kq' target=\"_blank\">https://wandb.ai/espada105-hanseouniversity/LGaimers/runs/5l0i07kq</a>"
      ],
      "text/plain": [
       "<IPython.core.display.HTML object>"
      ]
     },
     "metadata": {},
     "output_type": "display_data"
    },
    {
     "name": "stderr",
     "output_type": "stream",
     "text": [
      "c:\\Users\\tjddl\\AppData\\Local\\Programs\\Python\\Python310\\lib\\site-packages\\sklearn\\utils\\deprecation.py:151: FutureWarning: 'force_all_finite' was renamed to 'ensure_all_finite' in 1.6 and will be removed in 1.8.\n",
      "  warnings.warn(\n",
      "c:\\Users\\tjddl\\AppData\\Local\\Programs\\Python\\Python310\\lib\\site-packages\\sklearn\\utils\\deprecation.py:151: FutureWarning: 'force_all_finite' was renamed to 'ensure_all_finite' in 1.6 and will be removed in 1.8.\n",
      "  warnings.warn(\n",
      "c:\\Users\\tjddl\\AppData\\Local\\Programs\\Python\\Python310\\lib\\site-packages\\sklearn\\utils\\deprecation.py:151: FutureWarning: 'force_all_finite' was renamed to 'ensure_all_finite' in 1.6 and will be removed in 1.8.\n",
      "  warnings.warn(\n",
      "c:\\Users\\tjddl\\AppData\\Local\\Programs\\Python\\Python310\\lib\\site-packages\\sklearn\\utils\\deprecation.py:151: FutureWarning: 'force_all_finite' was renamed to 'ensure_all_finite' in 1.6 and will be removed in 1.8.\n",
      "  warnings.warn(\n",
      "c:\\Users\\tjddl\\AppData\\Local\\Programs\\Python\\Python310\\lib\\site-packages\\sklearn\\utils\\deprecation.py:151: FutureWarning: 'force_all_finite' was renamed to 'ensure_all_finite' in 1.6 and will be removed in 1.8.\n",
      "  warnings.warn(\n",
      "c:\\Users\\tjddl\\AppData\\Local\\Programs\\Python\\Python310\\lib\\site-packages\\sklearn\\utils\\deprecation.py:151: FutureWarning: 'force_all_finite' was renamed to 'ensure_all_finite' in 1.6 and will be removed in 1.8.\n",
      "  warnings.warn(\n",
      "c:\\Users\\tjddl\\AppData\\Local\\Programs\\Python\\Python310\\lib\\site-packages\\sklearn\\utils\\deprecation.py:151: FutureWarning: 'force_all_finite' was renamed to 'ensure_all_finite' in 1.6 and will be removed in 1.8.\n",
      "  warnings.warn(\n",
      "c:\\Users\\tjddl\\AppData\\Local\\Programs\\Python\\Python310\\lib\\site-packages\\sklearn\\utils\\deprecation.py:151: FutureWarning: 'force_all_finite' was renamed to 'ensure_all_finite' in 1.6 and will be removed in 1.8.\n",
      "  warnings.warn(\n",
      "c:\\Users\\tjddl\\AppData\\Local\\Programs\\Python\\Python310\\lib\\site-packages\\sklearn\\utils\\deprecation.py:151: FutureWarning: 'force_all_finite' was renamed to 'ensure_all_finite' in 1.6 and will be removed in 1.8.\n",
      "  warnings.warn(\n"
     ]
    },
    {
     "name": "stdout",
     "output_type": "stream",
     "text": [
      "Mean ROC AUC: 0.7331\n"
     ]
    },
    {
     "name": "stderr",
     "output_type": "stream",
     "text": [
      "c:\\Users\\tjddl\\AppData\\Local\\Programs\\Python\\Python310\\lib\\site-packages\\sklearn\\utils\\deprecation.py:151: FutureWarning: 'force_all_finite' was renamed to 'ensure_all_finite' in 1.6 and will be removed in 1.8.\n",
      "  warnings.warn(\n"
     ]
    },
    {
     "data": {
      "text/html": [],
      "text/plain": [
       "<IPython.core.display.HTML object>"
      ]
     },
     "metadata": {},
     "output_type": "display_data"
    },
    {
     "data": {
      "text/html": [
       "<br>    <style><br>        .wandb-row {<br>            display: flex;<br>            flex-direction: row;<br>            flex-wrap: wrap;<br>            justify-content: flex-start;<br>            width: 100%;<br>        }<br>        .wandb-col {<br>            display: flex;<br>            flex-direction: column;<br>            flex-basis: 100%;<br>            flex: 1;<br>            padding: 10px;<br>        }<br>    </style><br><div class=\"wandb-row\"><div class=\"wandb-col\"><h3>Run history:</h3><br/><table class=\"wandb\"><tr><td>roc_auc</td><td>▁</td></tr></table><br/></div><div class=\"wandb-col\"><h3>Run summary:</h3><br/><table class=\"wandb\"><tr><td>roc_auc</td><td>0.73309</td></tr></table><br/></div></div>"
      ],
      "text/plain": [
       "<IPython.core.display.HTML object>"
      ]
     },
     "metadata": {},
     "output_type": "display_data"
    },
    {
     "data": {
      "text/html": [
       " View run <strong style=\"color:#cdcd00\">fast-sweep-3</strong> at: <a href='https://wandb.ai/espada105-hanseouniversity/LGaimers/runs/5l0i07kq' target=\"_blank\">https://wandb.ai/espada105-hanseouniversity/LGaimers/runs/5l0i07kq</a><br> View project at: <a href='https://wandb.ai/espada105-hanseouniversity/LGaimers' target=\"_blank\">https://wandb.ai/espada105-hanseouniversity/LGaimers</a><br>Synced 5 W&B file(s), 0 media file(s), 0 artifact file(s) and 0 other file(s)"
      ],
      "text/plain": [
       "<IPython.core.display.HTML object>"
      ]
     },
     "metadata": {},
     "output_type": "display_data"
    },
    {
     "data": {
      "text/html": [
       "Find logs at: <code>.\\wandb\\run-20250207_224032-5l0i07kq\\logs</code>"
      ],
      "text/plain": [
       "<IPython.core.display.HTML object>"
      ]
     },
     "metadata": {},
     "output_type": "display_data"
    },
    {
     "name": "stderr",
     "output_type": "stream",
     "text": [
      "\u001b[34m\u001b[1mwandb\u001b[0m: Agent Starting Run: ab7iq93p with config:\n",
      "\u001b[34m\u001b[1mwandb\u001b[0m: \tlearning_rate: 0.01\n",
      "\u001b[34m\u001b[1mwandb\u001b[0m: \tmax_depth: 7\n",
      "\u001b[34m\u001b[1mwandb\u001b[0m: \tn_estimators: 200\n"
     ]
    },
    {
     "data": {
      "text/html": [
       "Ignoring project 'LGaimers' when running a sweep."
      ],
      "text/plain": [
       "<IPython.core.display.HTML object>"
      ]
     },
     "metadata": {},
     "output_type": "display_data"
    },
    {
     "data": {
      "text/html": [
       "Ignoring entity 'espada105-hanseouniversity' when running a sweep."
      ],
      "text/plain": [
       "<IPython.core.display.HTML object>"
      ]
     },
     "metadata": {},
     "output_type": "display_data"
    },
    {
     "data": {
      "text/html": [
       "Tracking run with wandb version 0.19.6"
      ],
      "text/plain": [
       "<IPython.core.display.HTML object>"
      ]
     },
     "metadata": {},
     "output_type": "display_data"
    },
    {
     "data": {
      "text/html": [
       "Run data is saved locally in <code>c:\\GitHubRepo\\AI_Predicting_Pregnancy_Success\\HongSeongIn\\wandb\\run-20250207_224048-ab7iq93p</code>"
      ],
      "text/plain": [
       "<IPython.core.display.HTML object>"
      ]
     },
     "metadata": {},
     "output_type": "display_data"
    },
    {
     "data": {
      "text/html": [
       "Syncing run <strong><a href='https://wandb.ai/espada105-hanseouniversity/LGaimers/runs/ab7iq93p' target=\"_blank\">chocolate-sweep-4</a></strong> to <a href='https://wandb.ai/espada105-hanseouniversity/LGaimers' target=\"_blank\">Weights & Biases</a> (<a href='https://wandb.me/developer-guide' target=\"_blank\">docs</a>)<br>Sweep page: <a href='https://wandb.ai/espada105-hanseouniversity/LGaimers/sweeps/d6kdsk99' target=\"_blank\">https://wandb.ai/espada105-hanseouniversity/LGaimers/sweeps/d6kdsk99</a>"
      ],
      "text/plain": [
       "<IPython.core.display.HTML object>"
      ]
     },
     "metadata": {},
     "output_type": "display_data"
    },
    {
     "data": {
      "text/html": [
       " View project at <a href='https://wandb.ai/espada105-hanseouniversity/LGaimers' target=\"_blank\">https://wandb.ai/espada105-hanseouniversity/LGaimers</a>"
      ],
      "text/plain": [
       "<IPython.core.display.HTML object>"
      ]
     },
     "metadata": {},
     "output_type": "display_data"
    },
    {
     "data": {
      "text/html": [
       " View sweep at <a href='https://wandb.ai/espada105-hanseouniversity/LGaimers/sweeps/d6kdsk99' target=\"_blank\">https://wandb.ai/espada105-hanseouniversity/LGaimers/sweeps/d6kdsk99</a>"
      ],
      "text/plain": [
       "<IPython.core.display.HTML object>"
      ]
     },
     "metadata": {},
     "output_type": "display_data"
    },
    {
     "data": {
      "text/html": [
       " View run at <a href='https://wandb.ai/espada105-hanseouniversity/LGaimers/runs/ab7iq93p' target=\"_blank\">https://wandb.ai/espada105-hanseouniversity/LGaimers/runs/ab7iq93p</a>"
      ],
      "text/plain": [
       "<IPython.core.display.HTML object>"
      ]
     },
     "metadata": {},
     "output_type": "display_data"
    },
    {
     "name": "stderr",
     "output_type": "stream",
     "text": [
      "c:\\Users\\tjddl\\AppData\\Local\\Programs\\Python\\Python310\\lib\\site-packages\\sklearn\\utils\\deprecation.py:151: FutureWarning: 'force_all_finite' was renamed to 'ensure_all_finite' in 1.6 and will be removed in 1.8.\n",
      "  warnings.warn(\n",
      "c:\\Users\\tjddl\\AppData\\Local\\Programs\\Python\\Python310\\lib\\site-packages\\sklearn\\utils\\deprecation.py:151: FutureWarning: 'force_all_finite' was renamed to 'ensure_all_finite' in 1.6 and will be removed in 1.8.\n",
      "  warnings.warn(\n",
      "c:\\Users\\tjddl\\AppData\\Local\\Programs\\Python\\Python310\\lib\\site-packages\\sklearn\\utils\\deprecation.py:151: FutureWarning: 'force_all_finite' was renamed to 'ensure_all_finite' in 1.6 and will be removed in 1.8.\n",
      "  warnings.warn(\n",
      "c:\\Users\\tjddl\\AppData\\Local\\Programs\\Python\\Python310\\lib\\site-packages\\sklearn\\utils\\deprecation.py:151: FutureWarning: 'force_all_finite' was renamed to 'ensure_all_finite' in 1.6 and will be removed in 1.8.\n",
      "  warnings.warn(\n",
      "c:\\Users\\tjddl\\AppData\\Local\\Programs\\Python\\Python310\\lib\\site-packages\\sklearn\\utils\\deprecation.py:151: FutureWarning: 'force_all_finite' was renamed to 'ensure_all_finite' in 1.6 and will be removed in 1.8.\n",
      "  warnings.warn(\n",
      "c:\\Users\\tjddl\\AppData\\Local\\Programs\\Python\\Python310\\lib\\site-packages\\sklearn\\utils\\deprecation.py:151: FutureWarning: 'force_all_finite' was renamed to 'ensure_all_finite' in 1.6 and will be removed in 1.8.\n",
      "  warnings.warn(\n",
      "c:\\Users\\tjddl\\AppData\\Local\\Programs\\Python\\Python310\\lib\\site-packages\\sklearn\\utils\\deprecation.py:151: FutureWarning: 'force_all_finite' was renamed to 'ensure_all_finite' in 1.6 and will be removed in 1.8.\n",
      "  warnings.warn(\n",
      "c:\\Users\\tjddl\\AppData\\Local\\Programs\\Python\\Python310\\lib\\site-packages\\sklearn\\utils\\deprecation.py:151: FutureWarning: 'force_all_finite' was renamed to 'ensure_all_finite' in 1.6 and will be removed in 1.8.\n",
      "  warnings.warn(\n",
      "c:\\Users\\tjddl\\AppData\\Local\\Programs\\Python\\Python310\\lib\\site-packages\\sklearn\\utils\\deprecation.py:151: FutureWarning: 'force_all_finite' was renamed to 'ensure_all_finite' in 1.6 and will be removed in 1.8.\n",
      "  warnings.warn(\n"
     ]
    },
    {
     "name": "stdout",
     "output_type": "stream",
     "text": [
      "Mean ROC AUC: 0.7357\n"
     ]
    },
    {
     "name": "stderr",
     "output_type": "stream",
     "text": [
      "c:\\Users\\tjddl\\AppData\\Local\\Programs\\Python\\Python310\\lib\\site-packages\\sklearn\\utils\\deprecation.py:151: FutureWarning: 'force_all_finite' was renamed to 'ensure_all_finite' in 1.6 and will be removed in 1.8.\n",
      "  warnings.warn(\n"
     ]
    },
    {
     "data": {
      "text/html": [],
      "text/plain": [
       "<IPython.core.display.HTML object>"
      ]
     },
     "metadata": {},
     "output_type": "display_data"
    },
    {
     "data": {
      "text/html": [
       "<br>    <style><br>        .wandb-row {<br>            display: flex;<br>            flex-direction: row;<br>            flex-wrap: wrap;<br>            justify-content: flex-start;<br>            width: 100%;<br>        }<br>        .wandb-col {<br>            display: flex;<br>            flex-direction: column;<br>            flex-basis: 100%;<br>            flex: 1;<br>            padding: 10px;<br>        }<br>    </style><br><div class=\"wandb-row\"><div class=\"wandb-col\"><h3>Run history:</h3><br/><table class=\"wandb\"><tr><td>roc_auc</td><td>▁</td></tr></table><br/></div><div class=\"wandb-col\"><h3>Run summary:</h3><br/><table class=\"wandb\"><tr><td>roc_auc</td><td>0.73567</td></tr></table><br/></div></div>"
      ],
      "text/plain": [
       "<IPython.core.display.HTML object>"
      ]
     },
     "metadata": {},
     "output_type": "display_data"
    },
    {
     "data": {
      "text/html": [
       " View run <strong style=\"color:#cdcd00\">chocolate-sweep-4</strong> at: <a href='https://wandb.ai/espada105-hanseouniversity/LGaimers/runs/ab7iq93p' target=\"_blank\">https://wandb.ai/espada105-hanseouniversity/LGaimers/runs/ab7iq93p</a><br> View project at: <a href='https://wandb.ai/espada105-hanseouniversity/LGaimers' target=\"_blank\">https://wandb.ai/espada105-hanseouniversity/LGaimers</a><br>Synced 5 W&B file(s), 0 media file(s), 0 artifact file(s) and 0 other file(s)"
      ],
      "text/plain": [
       "<IPython.core.display.HTML object>"
      ]
     },
     "metadata": {},
     "output_type": "display_data"
    },
    {
     "data": {
      "text/html": [
       "Find logs at: <code>.\\wandb\\run-20250207_224048-ab7iq93p\\logs</code>"
      ],
      "text/plain": [
       "<IPython.core.display.HTML object>"
      ]
     },
     "metadata": {},
     "output_type": "display_data"
    },
    {
     "name": "stderr",
     "output_type": "stream",
     "text": [
      "\u001b[34m\u001b[1mwandb\u001b[0m: Agent Starting Run: 6tg7gk1s with config:\n",
      "\u001b[34m\u001b[1mwandb\u001b[0m: \tlearning_rate: 0.01\n",
      "\u001b[34m\u001b[1mwandb\u001b[0m: \tmax_depth: 10\n",
      "\u001b[34m\u001b[1mwandb\u001b[0m: \tn_estimators: 100\n"
     ]
    },
    {
     "data": {
      "text/html": [
       "Ignoring project 'LGaimers' when running a sweep."
      ],
      "text/plain": [
       "<IPython.core.display.HTML object>"
      ]
     },
     "metadata": {},
     "output_type": "display_data"
    },
    {
     "data": {
      "text/html": [
       "Ignoring entity 'espada105-hanseouniversity' when running a sweep."
      ],
      "text/plain": [
       "<IPython.core.display.HTML object>"
      ]
     },
     "metadata": {},
     "output_type": "display_data"
    },
    {
     "data": {
      "text/html": [
       "Tracking run with wandb version 0.19.6"
      ],
      "text/plain": [
       "<IPython.core.display.HTML object>"
      ]
     },
     "metadata": {},
     "output_type": "display_data"
    },
    {
     "data": {
      "text/html": [
       "Run data is saved locally in <code>c:\\GitHubRepo\\AI_Predicting_Pregnancy_Success\\HongSeongIn\\wandb\\run-20250207_224109-6tg7gk1s</code>"
      ],
      "text/plain": [
       "<IPython.core.display.HTML object>"
      ]
     },
     "metadata": {},
     "output_type": "display_data"
    },
    {
     "data": {
      "text/html": [
       "Syncing run <strong><a href='https://wandb.ai/espada105-hanseouniversity/LGaimers/runs/6tg7gk1s' target=\"_blank\">earnest-sweep-5</a></strong> to <a href='https://wandb.ai/espada105-hanseouniversity/LGaimers' target=\"_blank\">Weights & Biases</a> (<a href='https://wandb.me/developer-guide' target=\"_blank\">docs</a>)<br>Sweep page: <a href='https://wandb.ai/espada105-hanseouniversity/LGaimers/sweeps/d6kdsk99' target=\"_blank\">https://wandb.ai/espada105-hanseouniversity/LGaimers/sweeps/d6kdsk99</a>"
      ],
      "text/plain": [
       "<IPython.core.display.HTML object>"
      ]
     },
     "metadata": {},
     "output_type": "display_data"
    },
    {
     "data": {
      "text/html": [
       " View project at <a href='https://wandb.ai/espada105-hanseouniversity/LGaimers' target=\"_blank\">https://wandb.ai/espada105-hanseouniversity/LGaimers</a>"
      ],
      "text/plain": [
       "<IPython.core.display.HTML object>"
      ]
     },
     "metadata": {},
     "output_type": "display_data"
    },
    {
     "data": {
      "text/html": [
       " View sweep at <a href='https://wandb.ai/espada105-hanseouniversity/LGaimers/sweeps/d6kdsk99' target=\"_blank\">https://wandb.ai/espada105-hanseouniversity/LGaimers/sweeps/d6kdsk99</a>"
      ],
      "text/plain": [
       "<IPython.core.display.HTML object>"
      ]
     },
     "metadata": {},
     "output_type": "display_data"
    },
    {
     "data": {
      "text/html": [
       " View run at <a href='https://wandb.ai/espada105-hanseouniversity/LGaimers/runs/6tg7gk1s' target=\"_blank\">https://wandb.ai/espada105-hanseouniversity/LGaimers/runs/6tg7gk1s</a>"
      ],
      "text/plain": [
       "<IPython.core.display.HTML object>"
      ]
     },
     "metadata": {},
     "output_type": "display_data"
    },
    {
     "name": "stderr",
     "output_type": "stream",
     "text": [
      "c:\\Users\\tjddl\\AppData\\Local\\Programs\\Python\\Python310\\lib\\site-packages\\sklearn\\utils\\deprecation.py:151: FutureWarning: 'force_all_finite' was renamed to 'ensure_all_finite' in 1.6 and will be removed in 1.8.\n",
      "  warnings.warn(\n",
      "c:\\Users\\tjddl\\AppData\\Local\\Programs\\Python\\Python310\\lib\\site-packages\\sklearn\\utils\\deprecation.py:151: FutureWarning: 'force_all_finite' was renamed to 'ensure_all_finite' in 1.6 and will be removed in 1.8.\n",
      "  warnings.warn(\n",
      "c:\\Users\\tjddl\\AppData\\Local\\Programs\\Python\\Python310\\lib\\site-packages\\sklearn\\utils\\deprecation.py:151: FutureWarning: 'force_all_finite' was renamed to 'ensure_all_finite' in 1.6 and will be removed in 1.8.\n",
      "  warnings.warn(\n",
      "c:\\Users\\tjddl\\AppData\\Local\\Programs\\Python\\Python310\\lib\\site-packages\\sklearn\\utils\\deprecation.py:151: FutureWarning: 'force_all_finite' was renamed to 'ensure_all_finite' in 1.6 and will be removed in 1.8.\n",
      "  warnings.warn(\n",
      "c:\\Users\\tjddl\\AppData\\Local\\Programs\\Python\\Python310\\lib\\site-packages\\sklearn\\utils\\deprecation.py:151: FutureWarning: 'force_all_finite' was renamed to 'ensure_all_finite' in 1.6 and will be removed in 1.8.\n",
      "  warnings.warn(\n",
      "c:\\Users\\tjddl\\AppData\\Local\\Programs\\Python\\Python310\\lib\\site-packages\\sklearn\\utils\\deprecation.py:151: FutureWarning: 'force_all_finite' was renamed to 'ensure_all_finite' in 1.6 and will be removed in 1.8.\n",
      "  warnings.warn(\n",
      "c:\\Users\\tjddl\\AppData\\Local\\Programs\\Python\\Python310\\lib\\site-packages\\sklearn\\utils\\deprecation.py:151: FutureWarning: 'force_all_finite' was renamed to 'ensure_all_finite' in 1.6 and will be removed in 1.8.\n",
      "  warnings.warn(\n",
      "c:\\Users\\tjddl\\AppData\\Local\\Programs\\Python\\Python310\\lib\\site-packages\\sklearn\\utils\\deprecation.py:151: FutureWarning: 'force_all_finite' was renamed to 'ensure_all_finite' in 1.6 and will be removed in 1.8.\n",
      "  warnings.warn(\n",
      "c:\\Users\\tjddl\\AppData\\Local\\Programs\\Python\\Python310\\lib\\site-packages\\sklearn\\utils\\deprecation.py:151: FutureWarning: 'force_all_finite' was renamed to 'ensure_all_finite' in 1.6 and will be removed in 1.8.\n",
      "  warnings.warn(\n"
     ]
    },
    {
     "name": "stdout",
     "output_type": "stream",
     "text": [
      "Mean ROC AUC: 0.7331\n"
     ]
    },
    {
     "name": "stderr",
     "output_type": "stream",
     "text": [
      "c:\\Users\\tjddl\\AppData\\Local\\Programs\\Python\\Python310\\lib\\site-packages\\sklearn\\utils\\deprecation.py:151: FutureWarning: 'force_all_finite' was renamed to 'ensure_all_finite' in 1.6 and will be removed in 1.8.\n",
      "  warnings.warn(\n"
     ]
    },
    {
     "data": {
      "text/html": [],
      "text/plain": [
       "<IPython.core.display.HTML object>"
      ]
     },
     "metadata": {},
     "output_type": "display_data"
    },
    {
     "data": {
      "text/html": [
       "<br>    <style><br>        .wandb-row {<br>            display: flex;<br>            flex-direction: row;<br>            flex-wrap: wrap;<br>            justify-content: flex-start;<br>            width: 100%;<br>        }<br>        .wandb-col {<br>            display: flex;<br>            flex-direction: column;<br>            flex-basis: 100%;<br>            flex: 1;<br>            padding: 10px;<br>        }<br>    </style><br><div class=\"wandb-row\"><div class=\"wandb-col\"><h3>Run history:</h3><br/><table class=\"wandb\"><tr><td>roc_auc</td><td>▁</td></tr></table><br/></div><div class=\"wandb-col\"><h3>Run summary:</h3><br/><table class=\"wandb\"><tr><td>roc_auc</td><td>0.7331</td></tr></table><br/></div></div>"
      ],
      "text/plain": [
       "<IPython.core.display.HTML object>"
      ]
     },
     "metadata": {},
     "output_type": "display_data"
    },
    {
     "data": {
      "text/html": [
       " View run <strong style=\"color:#cdcd00\">earnest-sweep-5</strong> at: <a href='https://wandb.ai/espada105-hanseouniversity/LGaimers/runs/6tg7gk1s' target=\"_blank\">https://wandb.ai/espada105-hanseouniversity/LGaimers/runs/6tg7gk1s</a><br> View project at: <a href='https://wandb.ai/espada105-hanseouniversity/LGaimers' target=\"_blank\">https://wandb.ai/espada105-hanseouniversity/LGaimers</a><br>Synced 5 W&B file(s), 0 media file(s), 0 artifact file(s) and 0 other file(s)"
      ],
      "text/plain": [
       "<IPython.core.display.HTML object>"
      ]
     },
     "metadata": {},
     "output_type": "display_data"
    },
    {
     "data": {
      "text/html": [
       "Find logs at: <code>.\\wandb\\run-20250207_224109-6tg7gk1s\\logs</code>"
      ],
      "text/plain": [
       "<IPython.core.display.HTML object>"
      ]
     },
     "metadata": {},
     "output_type": "display_data"
    },
    {
     "name": "stderr",
     "output_type": "stream",
     "text": [
      "\u001b[34m\u001b[1mwandb\u001b[0m: Agent Starting Run: bb85zo02 with config:\n",
      "\u001b[34m\u001b[1mwandb\u001b[0m: \tlearning_rate: 0.01\n",
      "\u001b[34m\u001b[1mwandb\u001b[0m: \tmax_depth: 10\n",
      "\u001b[34m\u001b[1mwandb\u001b[0m: \tn_estimators: 200\n"
     ]
    },
    {
     "data": {
      "text/html": [
       "Ignoring project 'LGaimers' when running a sweep."
      ],
      "text/plain": [
       "<IPython.core.display.HTML object>"
      ]
     },
     "metadata": {},
     "output_type": "display_data"
    },
    {
     "data": {
      "text/html": [
       "Ignoring entity 'espada105-hanseouniversity' when running a sweep."
      ],
      "text/plain": [
       "<IPython.core.display.HTML object>"
      ]
     },
     "metadata": {},
     "output_type": "display_data"
    },
    {
     "data": {
      "text/html": [
       "Tracking run with wandb version 0.19.6"
      ],
      "text/plain": [
       "<IPython.core.display.HTML object>"
      ]
     },
     "metadata": {},
     "output_type": "display_data"
    },
    {
     "data": {
      "text/html": [
       "Run data is saved locally in <code>c:\\GitHubRepo\\AI_Predicting_Pregnancy_Success\\HongSeongIn\\wandb\\run-20250207_224125-bb85zo02</code>"
      ],
      "text/plain": [
       "<IPython.core.display.HTML object>"
      ]
     },
     "metadata": {},
     "output_type": "display_data"
    },
    {
     "data": {
      "text/html": [
       "Syncing run <strong><a href='https://wandb.ai/espada105-hanseouniversity/LGaimers/runs/bb85zo02' target=\"_blank\">confused-sweep-6</a></strong> to <a href='https://wandb.ai/espada105-hanseouniversity/LGaimers' target=\"_blank\">Weights & Biases</a> (<a href='https://wandb.me/developer-guide' target=\"_blank\">docs</a>)<br>Sweep page: <a href='https://wandb.ai/espada105-hanseouniversity/LGaimers/sweeps/d6kdsk99' target=\"_blank\">https://wandb.ai/espada105-hanseouniversity/LGaimers/sweeps/d6kdsk99</a>"
      ],
      "text/plain": [
       "<IPython.core.display.HTML object>"
      ]
     },
     "metadata": {},
     "output_type": "display_data"
    },
    {
     "data": {
      "text/html": [
       " View project at <a href='https://wandb.ai/espada105-hanseouniversity/LGaimers' target=\"_blank\">https://wandb.ai/espada105-hanseouniversity/LGaimers</a>"
      ],
      "text/plain": [
       "<IPython.core.display.HTML object>"
      ]
     },
     "metadata": {},
     "output_type": "display_data"
    },
    {
     "data": {
      "text/html": [
       " View sweep at <a href='https://wandb.ai/espada105-hanseouniversity/LGaimers/sweeps/d6kdsk99' target=\"_blank\">https://wandb.ai/espada105-hanseouniversity/LGaimers/sweeps/d6kdsk99</a>"
      ],
      "text/plain": [
       "<IPython.core.display.HTML object>"
      ]
     },
     "metadata": {},
     "output_type": "display_data"
    },
    {
     "data": {
      "text/html": [
       " View run at <a href='https://wandb.ai/espada105-hanseouniversity/LGaimers/runs/bb85zo02' target=\"_blank\">https://wandb.ai/espada105-hanseouniversity/LGaimers/runs/bb85zo02</a>"
      ],
      "text/plain": [
       "<IPython.core.display.HTML object>"
      ]
     },
     "metadata": {},
     "output_type": "display_data"
    },
    {
     "name": "stderr",
     "output_type": "stream",
     "text": [
      "c:\\Users\\tjddl\\AppData\\Local\\Programs\\Python\\Python310\\lib\\site-packages\\sklearn\\utils\\deprecation.py:151: FutureWarning: 'force_all_finite' was renamed to 'ensure_all_finite' in 1.6 and will be removed in 1.8.\n",
      "  warnings.warn(\n",
      "c:\\Users\\tjddl\\AppData\\Local\\Programs\\Python\\Python310\\lib\\site-packages\\sklearn\\utils\\deprecation.py:151: FutureWarning: 'force_all_finite' was renamed to 'ensure_all_finite' in 1.6 and will be removed in 1.8.\n",
      "  warnings.warn(\n",
      "c:\\Users\\tjddl\\AppData\\Local\\Programs\\Python\\Python310\\lib\\site-packages\\sklearn\\utils\\deprecation.py:151: FutureWarning: 'force_all_finite' was renamed to 'ensure_all_finite' in 1.6 and will be removed in 1.8.\n",
      "  warnings.warn(\n",
      "c:\\Users\\tjddl\\AppData\\Local\\Programs\\Python\\Python310\\lib\\site-packages\\sklearn\\utils\\deprecation.py:151: FutureWarning: 'force_all_finite' was renamed to 'ensure_all_finite' in 1.6 and will be removed in 1.8.\n",
      "  warnings.warn(\n",
      "c:\\Users\\tjddl\\AppData\\Local\\Programs\\Python\\Python310\\lib\\site-packages\\sklearn\\utils\\deprecation.py:151: FutureWarning: 'force_all_finite' was renamed to 'ensure_all_finite' in 1.6 and will be removed in 1.8.\n",
      "  warnings.warn(\n",
      "c:\\Users\\tjddl\\AppData\\Local\\Programs\\Python\\Python310\\lib\\site-packages\\sklearn\\utils\\deprecation.py:151: FutureWarning: 'force_all_finite' was renamed to 'ensure_all_finite' in 1.6 and will be removed in 1.8.\n",
      "  warnings.warn(\n",
      "c:\\Users\\tjddl\\AppData\\Local\\Programs\\Python\\Python310\\lib\\site-packages\\sklearn\\utils\\deprecation.py:151: FutureWarning: 'force_all_finite' was renamed to 'ensure_all_finite' in 1.6 and will be removed in 1.8.\n",
      "  warnings.warn(\n",
      "c:\\Users\\tjddl\\AppData\\Local\\Programs\\Python\\Python310\\lib\\site-packages\\sklearn\\utils\\deprecation.py:151: FutureWarning: 'force_all_finite' was renamed to 'ensure_all_finite' in 1.6 and will be removed in 1.8.\n",
      "  warnings.warn(\n",
      "c:\\Users\\tjddl\\AppData\\Local\\Programs\\Python\\Python310\\lib\\site-packages\\sklearn\\utils\\deprecation.py:151: FutureWarning: 'force_all_finite' was renamed to 'ensure_all_finite' in 1.6 and will be removed in 1.8.\n",
      "  warnings.warn(\n"
     ]
    },
    {
     "name": "stdout",
     "output_type": "stream",
     "text": [
      "Mean ROC AUC: 0.7358\n"
     ]
    },
    {
     "name": "stderr",
     "output_type": "stream",
     "text": [
      "c:\\Users\\tjddl\\AppData\\Local\\Programs\\Python\\Python310\\lib\\site-packages\\sklearn\\utils\\deprecation.py:151: FutureWarning: 'force_all_finite' was renamed to 'ensure_all_finite' in 1.6 and will be removed in 1.8.\n",
      "  warnings.warn(\n"
     ]
    },
    {
     "data": {
      "text/html": [],
      "text/plain": [
       "<IPython.core.display.HTML object>"
      ]
     },
     "metadata": {},
     "output_type": "display_data"
    },
    {
     "data": {
      "text/html": [
       "<br>    <style><br>        .wandb-row {<br>            display: flex;<br>            flex-direction: row;<br>            flex-wrap: wrap;<br>            justify-content: flex-start;<br>            width: 100%;<br>        }<br>        .wandb-col {<br>            display: flex;<br>            flex-direction: column;<br>            flex-basis: 100%;<br>            flex: 1;<br>            padding: 10px;<br>        }<br>    </style><br><div class=\"wandb-row\"><div class=\"wandb-col\"><h3>Run history:</h3><br/><table class=\"wandb\"><tr><td>roc_auc</td><td>▁</td></tr></table><br/></div><div class=\"wandb-col\"><h3>Run summary:</h3><br/><table class=\"wandb\"><tr><td>roc_auc</td><td>0.7358</td></tr></table><br/></div></div>"
      ],
      "text/plain": [
       "<IPython.core.display.HTML object>"
      ]
     },
     "metadata": {},
     "output_type": "display_data"
    },
    {
     "data": {
      "text/html": [
       " View run <strong style=\"color:#cdcd00\">confused-sweep-6</strong> at: <a href='https://wandb.ai/espada105-hanseouniversity/LGaimers/runs/bb85zo02' target=\"_blank\">https://wandb.ai/espada105-hanseouniversity/LGaimers/runs/bb85zo02</a><br> View project at: <a href='https://wandb.ai/espada105-hanseouniversity/LGaimers' target=\"_blank\">https://wandb.ai/espada105-hanseouniversity/LGaimers</a><br>Synced 5 W&B file(s), 0 media file(s), 0 artifact file(s) and 0 other file(s)"
      ],
      "text/plain": [
       "<IPython.core.display.HTML object>"
      ]
     },
     "metadata": {},
     "output_type": "display_data"
    },
    {
     "data": {
      "text/html": [
       "Find logs at: <code>.\\wandb\\run-20250207_224125-bb85zo02\\logs</code>"
      ],
      "text/plain": [
       "<IPython.core.display.HTML object>"
      ]
     },
     "metadata": {},
     "output_type": "display_data"
    },
    {
     "name": "stderr",
     "output_type": "stream",
     "text": [
      "\u001b[34m\u001b[1mwandb\u001b[0m: Agent Starting Run: mvb8aip9 with config:\n",
      "\u001b[34m\u001b[1mwandb\u001b[0m: \tlearning_rate: 0.05\n",
      "\u001b[34m\u001b[1mwandb\u001b[0m: \tmax_depth: 5\n",
      "\u001b[34m\u001b[1mwandb\u001b[0m: \tn_estimators: 100\n"
     ]
    },
    {
     "data": {
      "text/html": [
       "Ignoring project 'LGaimers' when running a sweep."
      ],
      "text/plain": [
       "<IPython.core.display.HTML object>"
      ]
     },
     "metadata": {},
     "output_type": "display_data"
    },
    {
     "data": {
      "text/html": [
       "Ignoring entity 'espada105-hanseouniversity' when running a sweep."
      ],
      "text/plain": [
       "<IPython.core.display.HTML object>"
      ]
     },
     "metadata": {},
     "output_type": "display_data"
    },
    {
     "data": {
      "text/html": [
       "Tracking run with wandb version 0.19.6"
      ],
      "text/plain": [
       "<IPython.core.display.HTML object>"
      ]
     },
     "metadata": {},
     "output_type": "display_data"
    },
    {
     "data": {
      "text/html": [
       "Run data is saved locally in <code>c:\\GitHubRepo\\AI_Predicting_Pregnancy_Success\\HongSeongIn\\wandb\\run-20250207_224146-mvb8aip9</code>"
      ],
      "text/plain": [
       "<IPython.core.display.HTML object>"
      ]
     },
     "metadata": {},
     "output_type": "display_data"
    },
    {
     "data": {
      "text/html": [
       "Syncing run <strong><a href='https://wandb.ai/espada105-hanseouniversity/LGaimers/runs/mvb8aip9' target=\"_blank\">wandering-sweep-7</a></strong> to <a href='https://wandb.ai/espada105-hanseouniversity/LGaimers' target=\"_blank\">Weights & Biases</a> (<a href='https://wandb.me/developer-guide' target=\"_blank\">docs</a>)<br>Sweep page: <a href='https://wandb.ai/espada105-hanseouniversity/LGaimers/sweeps/d6kdsk99' target=\"_blank\">https://wandb.ai/espada105-hanseouniversity/LGaimers/sweeps/d6kdsk99</a>"
      ],
      "text/plain": [
       "<IPython.core.display.HTML object>"
      ]
     },
     "metadata": {},
     "output_type": "display_data"
    },
    {
     "data": {
      "text/html": [
       " View project at <a href='https://wandb.ai/espada105-hanseouniversity/LGaimers' target=\"_blank\">https://wandb.ai/espada105-hanseouniversity/LGaimers</a>"
      ],
      "text/plain": [
       "<IPython.core.display.HTML object>"
      ]
     },
     "metadata": {},
     "output_type": "display_data"
    },
    {
     "data": {
      "text/html": [
       " View sweep at <a href='https://wandb.ai/espada105-hanseouniversity/LGaimers/sweeps/d6kdsk99' target=\"_blank\">https://wandb.ai/espada105-hanseouniversity/LGaimers/sweeps/d6kdsk99</a>"
      ],
      "text/plain": [
       "<IPython.core.display.HTML object>"
      ]
     },
     "metadata": {},
     "output_type": "display_data"
    },
    {
     "data": {
      "text/html": [
       " View run at <a href='https://wandb.ai/espada105-hanseouniversity/LGaimers/runs/mvb8aip9' target=\"_blank\">https://wandb.ai/espada105-hanseouniversity/LGaimers/runs/mvb8aip9</a>"
      ],
      "text/plain": [
       "<IPython.core.display.HTML object>"
      ]
     },
     "metadata": {},
     "output_type": "display_data"
    },
    {
     "name": "stderr",
     "output_type": "stream",
     "text": [
      "c:\\Users\\tjddl\\AppData\\Local\\Programs\\Python\\Python310\\lib\\site-packages\\sklearn\\utils\\deprecation.py:151: FutureWarning: 'force_all_finite' was renamed to 'ensure_all_finite' in 1.6 and will be removed in 1.8.\n",
      "  warnings.warn(\n",
      "c:\\Users\\tjddl\\AppData\\Local\\Programs\\Python\\Python310\\lib\\site-packages\\sklearn\\utils\\deprecation.py:151: FutureWarning: 'force_all_finite' was renamed to 'ensure_all_finite' in 1.6 and will be removed in 1.8.\n",
      "  warnings.warn(\n",
      "c:\\Users\\tjddl\\AppData\\Local\\Programs\\Python\\Python310\\lib\\site-packages\\sklearn\\utils\\deprecation.py:151: FutureWarning: 'force_all_finite' was renamed to 'ensure_all_finite' in 1.6 and will be removed in 1.8.\n",
      "  warnings.warn(\n",
      "c:\\Users\\tjddl\\AppData\\Local\\Programs\\Python\\Python310\\lib\\site-packages\\sklearn\\utils\\deprecation.py:151: FutureWarning: 'force_all_finite' was renamed to 'ensure_all_finite' in 1.6 and will be removed in 1.8.\n",
      "  warnings.warn(\n",
      "c:\\Users\\tjddl\\AppData\\Local\\Programs\\Python\\Python310\\lib\\site-packages\\sklearn\\utils\\deprecation.py:151: FutureWarning: 'force_all_finite' was renamed to 'ensure_all_finite' in 1.6 and will be removed in 1.8.\n",
      "  warnings.warn(\n",
      "c:\\Users\\tjddl\\AppData\\Local\\Programs\\Python\\Python310\\lib\\site-packages\\sklearn\\utils\\deprecation.py:151: FutureWarning: 'force_all_finite' was renamed to 'ensure_all_finite' in 1.6 and will be removed in 1.8.\n",
      "  warnings.warn(\n",
      "c:\\Users\\tjddl\\AppData\\Local\\Programs\\Python\\Python310\\lib\\site-packages\\sklearn\\utils\\deprecation.py:151: FutureWarning: 'force_all_finite' was renamed to 'ensure_all_finite' in 1.6 and will be removed in 1.8.\n",
      "  warnings.warn(\n",
      "c:\\Users\\tjddl\\AppData\\Local\\Programs\\Python\\Python310\\lib\\site-packages\\sklearn\\utils\\deprecation.py:151: FutureWarning: 'force_all_finite' was renamed to 'ensure_all_finite' in 1.6 and will be removed in 1.8.\n",
      "  warnings.warn(\n",
      "c:\\Users\\tjddl\\AppData\\Local\\Programs\\Python\\Python310\\lib\\site-packages\\sklearn\\utils\\deprecation.py:151: FutureWarning: 'force_all_finite' was renamed to 'ensure_all_finite' in 1.6 and will be removed in 1.8.\n",
      "  warnings.warn(\n"
     ]
    },
    {
     "name": "stdout",
     "output_type": "stream",
     "text": [
      "Mean ROC AUC: 0.7370\n"
     ]
    },
    {
     "name": "stderr",
     "output_type": "stream",
     "text": [
      "c:\\Users\\tjddl\\AppData\\Local\\Programs\\Python\\Python310\\lib\\site-packages\\sklearn\\utils\\deprecation.py:151: FutureWarning: 'force_all_finite' was renamed to 'ensure_all_finite' in 1.6 and will be removed in 1.8.\n",
      "  warnings.warn(\n"
     ]
    },
    {
     "data": {
      "text/html": [],
      "text/plain": [
       "<IPython.core.display.HTML object>"
      ]
     },
     "metadata": {},
     "output_type": "display_data"
    },
    {
     "data": {
      "text/html": [
       "<br>    <style><br>        .wandb-row {<br>            display: flex;<br>            flex-direction: row;<br>            flex-wrap: wrap;<br>            justify-content: flex-start;<br>            width: 100%;<br>        }<br>        .wandb-col {<br>            display: flex;<br>            flex-direction: column;<br>            flex-basis: 100%;<br>            flex: 1;<br>            padding: 10px;<br>        }<br>    </style><br><div class=\"wandb-row\"><div class=\"wandb-col\"><h3>Run history:</h3><br/><table class=\"wandb\"><tr><td>roc_auc</td><td>▁</td></tr></table><br/></div><div class=\"wandb-col\"><h3>Run summary:</h3><br/><table class=\"wandb\"><tr><td>roc_auc</td><td>0.73703</td></tr></table><br/></div></div>"
      ],
      "text/plain": [
       "<IPython.core.display.HTML object>"
      ]
     },
     "metadata": {},
     "output_type": "display_data"
    },
    {
     "data": {
      "text/html": [
       " View run <strong style=\"color:#cdcd00\">wandering-sweep-7</strong> at: <a href='https://wandb.ai/espada105-hanseouniversity/LGaimers/runs/mvb8aip9' target=\"_blank\">https://wandb.ai/espada105-hanseouniversity/LGaimers/runs/mvb8aip9</a><br> View project at: <a href='https://wandb.ai/espada105-hanseouniversity/LGaimers' target=\"_blank\">https://wandb.ai/espada105-hanseouniversity/LGaimers</a><br>Synced 5 W&B file(s), 0 media file(s), 0 artifact file(s) and 0 other file(s)"
      ],
      "text/plain": [
       "<IPython.core.display.HTML object>"
      ]
     },
     "metadata": {},
     "output_type": "display_data"
    },
    {
     "data": {
      "text/html": [
       "Find logs at: <code>.\\wandb\\run-20250207_224146-mvb8aip9\\logs</code>"
      ],
      "text/plain": [
       "<IPython.core.display.HTML object>"
      ]
     },
     "metadata": {},
     "output_type": "display_data"
    },
    {
     "name": "stderr",
     "output_type": "stream",
     "text": [
      "\u001b[34m\u001b[1mwandb\u001b[0m: Agent Starting Run: r7ybkim1 with config:\n",
      "\u001b[34m\u001b[1mwandb\u001b[0m: \tlearning_rate: 0.05\n",
      "\u001b[34m\u001b[1mwandb\u001b[0m: \tmax_depth: 5\n",
      "\u001b[34m\u001b[1mwandb\u001b[0m: \tn_estimators: 200\n"
     ]
    },
    {
     "data": {
      "text/html": [
       "Ignoring project 'LGaimers' when running a sweep."
      ],
      "text/plain": [
       "<IPython.core.display.HTML object>"
      ]
     },
     "metadata": {},
     "output_type": "display_data"
    },
    {
     "data": {
      "text/html": [
       "Ignoring entity 'espada105-hanseouniversity' when running a sweep."
      ],
      "text/plain": [
       "<IPython.core.display.HTML object>"
      ]
     },
     "metadata": {},
     "output_type": "display_data"
    },
    {
     "data": {
      "text/html": [
       "Tracking run with wandb version 0.19.6"
      ],
      "text/plain": [
       "<IPython.core.display.HTML object>"
      ]
     },
     "metadata": {},
     "output_type": "display_data"
    },
    {
     "data": {
      "text/html": [
       "Run data is saved locally in <code>c:\\GitHubRepo\\AI_Predicting_Pregnancy_Success\\HongSeongIn\\wandb\\run-20250207_224202-r7ybkim1</code>"
      ],
      "text/plain": [
       "<IPython.core.display.HTML object>"
      ]
     },
     "metadata": {},
     "output_type": "display_data"
    },
    {
     "data": {
      "text/html": [
       "Syncing run <strong><a href='https://wandb.ai/espada105-hanseouniversity/LGaimers/runs/r7ybkim1' target=\"_blank\">zesty-sweep-8</a></strong> to <a href='https://wandb.ai/espada105-hanseouniversity/LGaimers' target=\"_blank\">Weights & Biases</a> (<a href='https://wandb.me/developer-guide' target=\"_blank\">docs</a>)<br>Sweep page: <a href='https://wandb.ai/espada105-hanseouniversity/LGaimers/sweeps/d6kdsk99' target=\"_blank\">https://wandb.ai/espada105-hanseouniversity/LGaimers/sweeps/d6kdsk99</a>"
      ],
      "text/plain": [
       "<IPython.core.display.HTML object>"
      ]
     },
     "metadata": {},
     "output_type": "display_data"
    },
    {
     "data": {
      "text/html": [
       " View project at <a href='https://wandb.ai/espada105-hanseouniversity/LGaimers' target=\"_blank\">https://wandb.ai/espada105-hanseouniversity/LGaimers</a>"
      ],
      "text/plain": [
       "<IPython.core.display.HTML object>"
      ]
     },
     "metadata": {},
     "output_type": "display_data"
    },
    {
     "data": {
      "text/html": [
       " View sweep at <a href='https://wandb.ai/espada105-hanseouniversity/LGaimers/sweeps/d6kdsk99' target=\"_blank\">https://wandb.ai/espada105-hanseouniversity/LGaimers/sweeps/d6kdsk99</a>"
      ],
      "text/plain": [
       "<IPython.core.display.HTML object>"
      ]
     },
     "metadata": {},
     "output_type": "display_data"
    },
    {
     "data": {
      "text/html": [
       " View run at <a href='https://wandb.ai/espada105-hanseouniversity/LGaimers/runs/r7ybkim1' target=\"_blank\">https://wandb.ai/espada105-hanseouniversity/LGaimers/runs/r7ybkim1</a>"
      ],
      "text/plain": [
       "<IPython.core.display.HTML object>"
      ]
     },
     "metadata": {},
     "output_type": "display_data"
    },
    {
     "name": "stderr",
     "output_type": "stream",
     "text": [
      "c:\\Users\\tjddl\\AppData\\Local\\Programs\\Python\\Python310\\lib\\site-packages\\sklearn\\utils\\deprecation.py:151: FutureWarning: 'force_all_finite' was renamed to 'ensure_all_finite' in 1.6 and will be removed in 1.8.\n",
      "  warnings.warn(\n",
      "c:\\Users\\tjddl\\AppData\\Local\\Programs\\Python\\Python310\\lib\\site-packages\\sklearn\\utils\\deprecation.py:151: FutureWarning: 'force_all_finite' was renamed to 'ensure_all_finite' in 1.6 and will be removed in 1.8.\n",
      "  warnings.warn(\n",
      "c:\\Users\\tjddl\\AppData\\Local\\Programs\\Python\\Python310\\lib\\site-packages\\sklearn\\utils\\deprecation.py:151: FutureWarning: 'force_all_finite' was renamed to 'ensure_all_finite' in 1.6 and will be removed in 1.8.\n",
      "  warnings.warn(\n",
      "c:\\Users\\tjddl\\AppData\\Local\\Programs\\Python\\Python310\\lib\\site-packages\\sklearn\\utils\\deprecation.py:151: FutureWarning: 'force_all_finite' was renamed to 'ensure_all_finite' in 1.6 and will be removed in 1.8.\n",
      "  warnings.warn(\n",
      "c:\\Users\\tjddl\\AppData\\Local\\Programs\\Python\\Python310\\lib\\site-packages\\sklearn\\utils\\deprecation.py:151: FutureWarning: 'force_all_finite' was renamed to 'ensure_all_finite' in 1.6 and will be removed in 1.8.\n",
      "  warnings.warn(\n",
      "c:\\Users\\tjddl\\AppData\\Local\\Programs\\Python\\Python310\\lib\\site-packages\\sklearn\\utils\\deprecation.py:151: FutureWarning: 'force_all_finite' was renamed to 'ensure_all_finite' in 1.6 and will be removed in 1.8.\n",
      "  warnings.warn(\n",
      "c:\\Users\\tjddl\\AppData\\Local\\Programs\\Python\\Python310\\lib\\site-packages\\sklearn\\utils\\deprecation.py:151: FutureWarning: 'force_all_finite' was renamed to 'ensure_all_finite' in 1.6 and will be removed in 1.8.\n",
      "  warnings.warn(\n",
      "c:\\Users\\tjddl\\AppData\\Local\\Programs\\Python\\Python310\\lib\\site-packages\\sklearn\\utils\\deprecation.py:151: FutureWarning: 'force_all_finite' was renamed to 'ensure_all_finite' in 1.6 and will be removed in 1.8.\n",
      "  warnings.warn(\n",
      "c:\\Users\\tjddl\\AppData\\Local\\Programs\\Python\\Python310\\lib\\site-packages\\sklearn\\utils\\deprecation.py:151: FutureWarning: 'force_all_finite' was renamed to 'ensure_all_finite' in 1.6 and will be removed in 1.8.\n",
      "  warnings.warn(\n"
     ]
    },
    {
     "name": "stdout",
     "output_type": "stream",
     "text": [
      "Mean ROC AUC: 0.7389\n"
     ]
    },
    {
     "name": "stderr",
     "output_type": "stream",
     "text": [
      "c:\\Users\\tjddl\\AppData\\Local\\Programs\\Python\\Python310\\lib\\site-packages\\sklearn\\utils\\deprecation.py:151: FutureWarning: 'force_all_finite' was renamed to 'ensure_all_finite' in 1.6 and will be removed in 1.8.\n",
      "  warnings.warn(\n"
     ]
    },
    {
     "data": {
      "text/html": [],
      "text/plain": [
       "<IPython.core.display.HTML object>"
      ]
     },
     "metadata": {},
     "output_type": "display_data"
    },
    {
     "data": {
      "text/html": [
       "<br>    <style><br>        .wandb-row {<br>            display: flex;<br>            flex-direction: row;<br>            flex-wrap: wrap;<br>            justify-content: flex-start;<br>            width: 100%;<br>        }<br>        .wandb-col {<br>            display: flex;<br>            flex-direction: column;<br>            flex-basis: 100%;<br>            flex: 1;<br>            padding: 10px;<br>        }<br>    </style><br><div class=\"wandb-row\"><div class=\"wandb-col\"><h3>Run history:</h3><br/><table class=\"wandb\"><tr><td>roc_auc</td><td>▁</td></tr></table><br/></div><div class=\"wandb-col\"><h3>Run summary:</h3><br/><table class=\"wandb\"><tr><td>roc_auc</td><td>0.73888</td></tr></table><br/></div></div>"
      ],
      "text/plain": [
       "<IPython.core.display.HTML object>"
      ]
     },
     "metadata": {},
     "output_type": "display_data"
    },
    {
     "data": {
      "text/html": [
       " View run <strong style=\"color:#cdcd00\">zesty-sweep-8</strong> at: <a href='https://wandb.ai/espada105-hanseouniversity/LGaimers/runs/r7ybkim1' target=\"_blank\">https://wandb.ai/espada105-hanseouniversity/LGaimers/runs/r7ybkim1</a><br> View project at: <a href='https://wandb.ai/espada105-hanseouniversity/LGaimers' target=\"_blank\">https://wandb.ai/espada105-hanseouniversity/LGaimers</a><br>Synced 5 W&B file(s), 0 media file(s), 0 artifact file(s) and 0 other file(s)"
      ],
      "text/plain": [
       "<IPython.core.display.HTML object>"
      ]
     },
     "metadata": {},
     "output_type": "display_data"
    },
    {
     "data": {
      "text/html": [
       "Find logs at: <code>.\\wandb\\run-20250207_224202-r7ybkim1\\logs</code>"
      ],
      "text/plain": [
       "<IPython.core.display.HTML object>"
      ]
     },
     "metadata": {},
     "output_type": "display_data"
    },
    {
     "name": "stderr",
     "output_type": "stream",
     "text": [
      "\u001b[34m\u001b[1mwandb\u001b[0m: Agent Starting Run: fdolufym with config:\n",
      "\u001b[34m\u001b[1mwandb\u001b[0m: \tlearning_rate: 0.05\n",
      "\u001b[34m\u001b[1mwandb\u001b[0m: \tmax_depth: 7\n",
      "\u001b[34m\u001b[1mwandb\u001b[0m: \tn_estimators: 100\n"
     ]
    },
    {
     "data": {
      "text/html": [
       "Ignoring project 'LGaimers' when running a sweep."
      ],
      "text/plain": [
       "<IPython.core.display.HTML object>"
      ]
     },
     "metadata": {},
     "output_type": "display_data"
    },
    {
     "data": {
      "text/html": [
       "Ignoring entity 'espada105-hanseouniversity' when running a sweep."
      ],
      "text/plain": [
       "<IPython.core.display.HTML object>"
      ]
     },
     "metadata": {},
     "output_type": "display_data"
    },
    {
     "data": {
      "text/html": [
       "Tracking run with wandb version 0.19.6"
      ],
      "text/plain": [
       "<IPython.core.display.HTML object>"
      ]
     },
     "metadata": {},
     "output_type": "display_data"
    },
    {
     "data": {
      "text/html": [
       "Run data is saved locally in <code>c:\\GitHubRepo\\AI_Predicting_Pregnancy_Success\\HongSeongIn\\wandb\\run-20250207_224223-fdolufym</code>"
      ],
      "text/plain": [
       "<IPython.core.display.HTML object>"
      ]
     },
     "metadata": {},
     "output_type": "display_data"
    },
    {
     "data": {
      "text/html": [
       "Syncing run <strong><a href='https://wandb.ai/espada105-hanseouniversity/LGaimers/runs/fdolufym' target=\"_blank\">astral-sweep-9</a></strong> to <a href='https://wandb.ai/espada105-hanseouniversity/LGaimers' target=\"_blank\">Weights & Biases</a> (<a href='https://wandb.me/developer-guide' target=\"_blank\">docs</a>)<br>Sweep page: <a href='https://wandb.ai/espada105-hanseouniversity/LGaimers/sweeps/d6kdsk99' target=\"_blank\">https://wandb.ai/espada105-hanseouniversity/LGaimers/sweeps/d6kdsk99</a>"
      ],
      "text/plain": [
       "<IPython.core.display.HTML object>"
      ]
     },
     "metadata": {},
     "output_type": "display_data"
    },
    {
     "data": {
      "text/html": [
       " View project at <a href='https://wandb.ai/espada105-hanseouniversity/LGaimers' target=\"_blank\">https://wandb.ai/espada105-hanseouniversity/LGaimers</a>"
      ],
      "text/plain": [
       "<IPython.core.display.HTML object>"
      ]
     },
     "metadata": {},
     "output_type": "display_data"
    },
    {
     "data": {
      "text/html": [
       " View sweep at <a href='https://wandb.ai/espada105-hanseouniversity/LGaimers/sweeps/d6kdsk99' target=\"_blank\">https://wandb.ai/espada105-hanseouniversity/LGaimers/sweeps/d6kdsk99</a>"
      ],
      "text/plain": [
       "<IPython.core.display.HTML object>"
      ]
     },
     "metadata": {},
     "output_type": "display_data"
    },
    {
     "data": {
      "text/html": [
       " View run at <a href='https://wandb.ai/espada105-hanseouniversity/LGaimers/runs/fdolufym' target=\"_blank\">https://wandb.ai/espada105-hanseouniversity/LGaimers/runs/fdolufym</a>"
      ],
      "text/plain": [
       "<IPython.core.display.HTML object>"
      ]
     },
     "metadata": {},
     "output_type": "display_data"
    },
    {
     "name": "stderr",
     "output_type": "stream",
     "text": [
      "c:\\Users\\tjddl\\AppData\\Local\\Programs\\Python\\Python310\\lib\\site-packages\\sklearn\\utils\\deprecation.py:151: FutureWarning: 'force_all_finite' was renamed to 'ensure_all_finite' in 1.6 and will be removed in 1.8.\n",
      "  warnings.warn(\n",
      "c:\\Users\\tjddl\\AppData\\Local\\Programs\\Python\\Python310\\lib\\site-packages\\sklearn\\utils\\deprecation.py:151: FutureWarning: 'force_all_finite' was renamed to 'ensure_all_finite' in 1.6 and will be removed in 1.8.\n",
      "  warnings.warn(\n",
      "c:\\Users\\tjddl\\AppData\\Local\\Programs\\Python\\Python310\\lib\\site-packages\\sklearn\\utils\\deprecation.py:151: FutureWarning: 'force_all_finite' was renamed to 'ensure_all_finite' in 1.6 and will be removed in 1.8.\n",
      "  warnings.warn(\n",
      "c:\\Users\\tjddl\\AppData\\Local\\Programs\\Python\\Python310\\lib\\site-packages\\sklearn\\utils\\deprecation.py:151: FutureWarning: 'force_all_finite' was renamed to 'ensure_all_finite' in 1.6 and will be removed in 1.8.\n",
      "  warnings.warn(\n",
      "c:\\Users\\tjddl\\AppData\\Local\\Programs\\Python\\Python310\\lib\\site-packages\\sklearn\\utils\\deprecation.py:151: FutureWarning: 'force_all_finite' was renamed to 'ensure_all_finite' in 1.6 and will be removed in 1.8.\n",
      "  warnings.warn(\n",
      "c:\\Users\\tjddl\\AppData\\Local\\Programs\\Python\\Python310\\lib\\site-packages\\sklearn\\utils\\deprecation.py:151: FutureWarning: 'force_all_finite' was renamed to 'ensure_all_finite' in 1.6 and will be removed in 1.8.\n",
      "  warnings.warn(\n",
      "c:\\Users\\tjddl\\AppData\\Local\\Programs\\Python\\Python310\\lib\\site-packages\\sklearn\\utils\\deprecation.py:151: FutureWarning: 'force_all_finite' was renamed to 'ensure_all_finite' in 1.6 and will be removed in 1.8.\n",
      "  warnings.warn(\n",
      "c:\\Users\\tjddl\\AppData\\Local\\Programs\\Python\\Python310\\lib\\site-packages\\sklearn\\utils\\deprecation.py:151: FutureWarning: 'force_all_finite' was renamed to 'ensure_all_finite' in 1.6 and will be removed in 1.8.\n",
      "  warnings.warn(\n",
      "c:\\Users\\tjddl\\AppData\\Local\\Programs\\Python\\Python310\\lib\\site-packages\\sklearn\\utils\\deprecation.py:151: FutureWarning: 'force_all_finite' was renamed to 'ensure_all_finite' in 1.6 and will be removed in 1.8.\n",
      "  warnings.warn(\n"
     ]
    },
    {
     "name": "stdout",
     "output_type": "stream",
     "text": [
      "Mean ROC AUC: 0.7389\n"
     ]
    },
    {
     "name": "stderr",
     "output_type": "stream",
     "text": [
      "c:\\Users\\tjddl\\AppData\\Local\\Programs\\Python\\Python310\\lib\\site-packages\\sklearn\\utils\\deprecation.py:151: FutureWarning: 'force_all_finite' was renamed to 'ensure_all_finite' in 1.6 and will be removed in 1.8.\n",
      "  warnings.warn(\n"
     ]
    },
    {
     "data": {
      "text/html": [],
      "text/plain": [
       "<IPython.core.display.HTML object>"
      ]
     },
     "metadata": {},
     "output_type": "display_data"
    },
    {
     "data": {
      "text/html": [
       "<br>    <style><br>        .wandb-row {<br>            display: flex;<br>            flex-direction: row;<br>            flex-wrap: wrap;<br>            justify-content: flex-start;<br>            width: 100%;<br>        }<br>        .wandb-col {<br>            display: flex;<br>            flex-direction: column;<br>            flex-basis: 100%;<br>            flex: 1;<br>            padding: 10px;<br>        }<br>    </style><br><div class=\"wandb-row\"><div class=\"wandb-col\"><h3>Run history:</h3><br/><table class=\"wandb\"><tr><td>roc_auc</td><td>▁</td></tr></table><br/></div><div class=\"wandb-col\"><h3>Run summary:</h3><br/><table class=\"wandb\"><tr><td>roc_auc</td><td>0.73889</td></tr></table><br/></div></div>"
      ],
      "text/plain": [
       "<IPython.core.display.HTML object>"
      ]
     },
     "metadata": {},
     "output_type": "display_data"
    },
    {
     "data": {
      "text/html": [
       " View run <strong style=\"color:#cdcd00\">astral-sweep-9</strong> at: <a href='https://wandb.ai/espada105-hanseouniversity/LGaimers/runs/fdolufym' target=\"_blank\">https://wandb.ai/espada105-hanseouniversity/LGaimers/runs/fdolufym</a><br> View project at: <a href='https://wandb.ai/espada105-hanseouniversity/LGaimers' target=\"_blank\">https://wandb.ai/espada105-hanseouniversity/LGaimers</a><br>Synced 5 W&B file(s), 0 media file(s), 0 artifact file(s) and 0 other file(s)"
      ],
      "text/plain": [
       "<IPython.core.display.HTML object>"
      ]
     },
     "metadata": {},
     "output_type": "display_data"
    },
    {
     "data": {
      "text/html": [
       "Find logs at: <code>.\\wandb\\run-20250207_224223-fdolufym\\logs</code>"
      ],
      "text/plain": [
       "<IPython.core.display.HTML object>"
      ]
     },
     "metadata": {},
     "output_type": "display_data"
    },
    {
     "name": "stderr",
     "output_type": "stream",
     "text": [
      "\u001b[34m\u001b[1mwandb\u001b[0m: Agent Starting Run: kswllc0v with config:\n",
      "\u001b[34m\u001b[1mwandb\u001b[0m: \tlearning_rate: 0.05\n",
      "\u001b[34m\u001b[1mwandb\u001b[0m: \tmax_depth: 7\n",
      "\u001b[34m\u001b[1mwandb\u001b[0m: \tn_estimators: 200\n"
     ]
    },
    {
     "data": {
      "text/html": [
       "Ignoring project 'LGaimers' when running a sweep."
      ],
      "text/plain": [
       "<IPython.core.display.HTML object>"
      ]
     },
     "metadata": {},
     "output_type": "display_data"
    },
    {
     "data": {
      "text/html": [
       "Ignoring entity 'espada105-hanseouniversity' when running a sweep."
      ],
      "text/plain": [
       "<IPython.core.display.HTML object>"
      ]
     },
     "metadata": {},
     "output_type": "display_data"
    },
    {
     "data": {
      "text/html": [
       "Tracking run with wandb version 0.19.6"
      ],
      "text/plain": [
       "<IPython.core.display.HTML object>"
      ]
     },
     "metadata": {},
     "output_type": "display_data"
    },
    {
     "data": {
      "text/html": [
       "Run data is saved locally in <code>c:\\GitHubRepo\\AI_Predicting_Pregnancy_Success\\HongSeongIn\\wandb\\run-20250207_224239-kswllc0v</code>"
      ],
      "text/plain": [
       "<IPython.core.display.HTML object>"
      ]
     },
     "metadata": {},
     "output_type": "display_data"
    },
    {
     "data": {
      "text/html": [
       "Syncing run <strong><a href='https://wandb.ai/espada105-hanseouniversity/LGaimers/runs/kswllc0v' target=\"_blank\">ancient-sweep-10</a></strong> to <a href='https://wandb.ai/espada105-hanseouniversity/LGaimers' target=\"_blank\">Weights & Biases</a> (<a href='https://wandb.me/developer-guide' target=\"_blank\">docs</a>)<br>Sweep page: <a href='https://wandb.ai/espada105-hanseouniversity/LGaimers/sweeps/d6kdsk99' target=\"_blank\">https://wandb.ai/espada105-hanseouniversity/LGaimers/sweeps/d6kdsk99</a>"
      ],
      "text/plain": [
       "<IPython.core.display.HTML object>"
      ]
     },
     "metadata": {},
     "output_type": "display_data"
    },
    {
     "data": {
      "text/html": [
       " View project at <a href='https://wandb.ai/espada105-hanseouniversity/LGaimers' target=\"_blank\">https://wandb.ai/espada105-hanseouniversity/LGaimers</a>"
      ],
      "text/plain": [
       "<IPython.core.display.HTML object>"
      ]
     },
     "metadata": {},
     "output_type": "display_data"
    },
    {
     "data": {
      "text/html": [
       " View sweep at <a href='https://wandb.ai/espada105-hanseouniversity/LGaimers/sweeps/d6kdsk99' target=\"_blank\">https://wandb.ai/espada105-hanseouniversity/LGaimers/sweeps/d6kdsk99</a>"
      ],
      "text/plain": [
       "<IPython.core.display.HTML object>"
      ]
     },
     "metadata": {},
     "output_type": "display_data"
    },
    {
     "data": {
      "text/html": [
       " View run at <a href='https://wandb.ai/espada105-hanseouniversity/LGaimers/runs/kswllc0v' target=\"_blank\">https://wandb.ai/espada105-hanseouniversity/LGaimers/runs/kswllc0v</a>"
      ],
      "text/plain": [
       "<IPython.core.display.HTML object>"
      ]
     },
     "metadata": {},
     "output_type": "display_data"
    },
    {
     "name": "stderr",
     "output_type": "stream",
     "text": [
      "c:\\Users\\tjddl\\AppData\\Local\\Programs\\Python\\Python310\\lib\\site-packages\\sklearn\\utils\\deprecation.py:151: FutureWarning: 'force_all_finite' was renamed to 'ensure_all_finite' in 1.6 and will be removed in 1.8.\n",
      "  warnings.warn(\n",
      "c:\\Users\\tjddl\\AppData\\Local\\Programs\\Python\\Python310\\lib\\site-packages\\sklearn\\utils\\deprecation.py:151: FutureWarning: 'force_all_finite' was renamed to 'ensure_all_finite' in 1.6 and will be removed in 1.8.\n",
      "  warnings.warn(\n",
      "c:\\Users\\tjddl\\AppData\\Local\\Programs\\Python\\Python310\\lib\\site-packages\\sklearn\\utils\\deprecation.py:151: FutureWarning: 'force_all_finite' was renamed to 'ensure_all_finite' in 1.6 and will be removed in 1.8.\n",
      "  warnings.warn(\n",
      "c:\\Users\\tjddl\\AppData\\Local\\Programs\\Python\\Python310\\lib\\site-packages\\sklearn\\utils\\deprecation.py:151: FutureWarning: 'force_all_finite' was renamed to 'ensure_all_finite' in 1.6 and will be removed in 1.8.\n",
      "  warnings.warn(\n",
      "c:\\Users\\tjddl\\AppData\\Local\\Programs\\Python\\Python310\\lib\\site-packages\\sklearn\\utils\\deprecation.py:151: FutureWarning: 'force_all_finite' was renamed to 'ensure_all_finite' in 1.6 and will be removed in 1.8.\n",
      "  warnings.warn(\n",
      "c:\\Users\\tjddl\\AppData\\Local\\Programs\\Python\\Python310\\lib\\site-packages\\sklearn\\utils\\deprecation.py:151: FutureWarning: 'force_all_finite' was renamed to 'ensure_all_finite' in 1.6 and will be removed in 1.8.\n",
      "  warnings.warn(\n",
      "c:\\Users\\tjddl\\AppData\\Local\\Programs\\Python\\Python310\\lib\\site-packages\\sklearn\\utils\\deprecation.py:151: FutureWarning: 'force_all_finite' was renamed to 'ensure_all_finite' in 1.6 and will be removed in 1.8.\n",
      "  warnings.warn(\n",
      "c:\\Users\\tjddl\\AppData\\Local\\Programs\\Python\\Python310\\lib\\site-packages\\sklearn\\utils\\deprecation.py:151: FutureWarning: 'force_all_finite' was renamed to 'ensure_all_finite' in 1.6 and will be removed in 1.8.\n",
      "  warnings.warn(\n",
      "c:\\Users\\tjddl\\AppData\\Local\\Programs\\Python\\Python310\\lib\\site-packages\\sklearn\\utils\\deprecation.py:151: FutureWarning: 'force_all_finite' was renamed to 'ensure_all_finite' in 1.6 and will be removed in 1.8.\n",
      "  warnings.warn(\n"
     ]
    },
    {
     "name": "stdout",
     "output_type": "stream",
     "text": [
      "Mean ROC AUC: 0.7395\n"
     ]
    },
    {
     "name": "stderr",
     "output_type": "stream",
     "text": [
      "c:\\Users\\tjddl\\AppData\\Local\\Programs\\Python\\Python310\\lib\\site-packages\\sklearn\\utils\\deprecation.py:151: FutureWarning: 'force_all_finite' was renamed to 'ensure_all_finite' in 1.6 and will be removed in 1.8.\n",
      "  warnings.warn(\n"
     ]
    },
    {
     "data": {
      "text/html": [],
      "text/plain": [
       "<IPython.core.display.HTML object>"
      ]
     },
     "metadata": {},
     "output_type": "display_data"
    },
    {
     "data": {
      "text/html": [
       "<br>    <style><br>        .wandb-row {<br>            display: flex;<br>            flex-direction: row;<br>            flex-wrap: wrap;<br>            justify-content: flex-start;<br>            width: 100%;<br>        }<br>        .wandb-col {<br>            display: flex;<br>            flex-direction: column;<br>            flex-basis: 100%;<br>            flex: 1;<br>            padding: 10px;<br>        }<br>    </style><br><div class=\"wandb-row\"><div class=\"wandb-col\"><h3>Run history:</h3><br/><table class=\"wandb\"><tr><td>roc_auc</td><td>▁</td></tr></table><br/></div><div class=\"wandb-col\"><h3>Run summary:</h3><br/><table class=\"wandb\"><tr><td>roc_auc</td><td>0.7395</td></tr></table><br/></div></div>"
      ],
      "text/plain": [
       "<IPython.core.display.HTML object>"
      ]
     },
     "metadata": {},
     "output_type": "display_data"
    },
    {
     "data": {
      "text/html": [
       " View run <strong style=\"color:#cdcd00\">ancient-sweep-10</strong> at: <a href='https://wandb.ai/espada105-hanseouniversity/LGaimers/runs/kswllc0v' target=\"_blank\">https://wandb.ai/espada105-hanseouniversity/LGaimers/runs/kswllc0v</a><br> View project at: <a href='https://wandb.ai/espada105-hanseouniversity/LGaimers' target=\"_blank\">https://wandb.ai/espada105-hanseouniversity/LGaimers</a><br>Synced 5 W&B file(s), 0 media file(s), 0 artifact file(s) and 0 other file(s)"
      ],
      "text/plain": [
       "<IPython.core.display.HTML object>"
      ]
     },
     "metadata": {},
     "output_type": "display_data"
    },
    {
     "data": {
      "text/html": [
       "Find logs at: <code>.\\wandb\\run-20250207_224239-kswllc0v\\logs</code>"
      ],
      "text/plain": [
       "<IPython.core.display.HTML object>"
      ]
     },
     "metadata": {},
     "output_type": "display_data"
    },
    {
     "name": "stderr",
     "output_type": "stream",
     "text": [
      "\u001b[34m\u001b[1mwandb\u001b[0m: Agent Starting Run: x5x2rkon with config:\n",
      "\u001b[34m\u001b[1mwandb\u001b[0m: \tlearning_rate: 0.05\n",
      "\u001b[34m\u001b[1mwandb\u001b[0m: \tmax_depth: 10\n",
      "\u001b[34m\u001b[1mwandb\u001b[0m: \tn_estimators: 100\n"
     ]
    },
    {
     "data": {
      "text/html": [
       "Ignoring project 'LGaimers' when running a sweep."
      ],
      "text/plain": [
       "<IPython.core.display.HTML object>"
      ]
     },
     "metadata": {},
     "output_type": "display_data"
    },
    {
     "data": {
      "text/html": [
       "Ignoring entity 'espada105-hanseouniversity' when running a sweep."
      ],
      "text/plain": [
       "<IPython.core.display.HTML object>"
      ]
     },
     "metadata": {},
     "output_type": "display_data"
    },
    {
     "data": {
      "text/html": [
       "Tracking run with wandb version 0.19.6"
      ],
      "text/plain": [
       "<IPython.core.display.HTML object>"
      ]
     },
     "metadata": {},
     "output_type": "display_data"
    },
    {
     "data": {
      "text/html": [
       "Run data is saved locally in <code>c:\\GitHubRepo\\AI_Predicting_Pregnancy_Success\\HongSeongIn\\wandb\\run-20250207_224301-x5x2rkon</code>"
      ],
      "text/plain": [
       "<IPython.core.display.HTML object>"
      ]
     },
     "metadata": {},
     "output_type": "display_data"
    },
    {
     "data": {
      "text/html": [
       "Syncing run <strong><a href='https://wandb.ai/espada105-hanseouniversity/LGaimers/runs/x5x2rkon' target=\"_blank\">decent-sweep-11</a></strong> to <a href='https://wandb.ai/espada105-hanseouniversity/LGaimers' target=\"_blank\">Weights & Biases</a> (<a href='https://wandb.me/developer-guide' target=\"_blank\">docs</a>)<br>Sweep page: <a href='https://wandb.ai/espada105-hanseouniversity/LGaimers/sweeps/d6kdsk99' target=\"_blank\">https://wandb.ai/espada105-hanseouniversity/LGaimers/sweeps/d6kdsk99</a>"
      ],
      "text/plain": [
       "<IPython.core.display.HTML object>"
      ]
     },
     "metadata": {},
     "output_type": "display_data"
    },
    {
     "data": {
      "text/html": [
       " View project at <a href='https://wandb.ai/espada105-hanseouniversity/LGaimers' target=\"_blank\">https://wandb.ai/espada105-hanseouniversity/LGaimers</a>"
      ],
      "text/plain": [
       "<IPython.core.display.HTML object>"
      ]
     },
     "metadata": {},
     "output_type": "display_data"
    },
    {
     "data": {
      "text/html": [
       " View sweep at <a href='https://wandb.ai/espada105-hanseouniversity/LGaimers/sweeps/d6kdsk99' target=\"_blank\">https://wandb.ai/espada105-hanseouniversity/LGaimers/sweeps/d6kdsk99</a>"
      ],
      "text/plain": [
       "<IPython.core.display.HTML object>"
      ]
     },
     "metadata": {},
     "output_type": "display_data"
    },
    {
     "data": {
      "text/html": [
       " View run at <a href='https://wandb.ai/espada105-hanseouniversity/LGaimers/runs/x5x2rkon' target=\"_blank\">https://wandb.ai/espada105-hanseouniversity/LGaimers/runs/x5x2rkon</a>"
      ],
      "text/plain": [
       "<IPython.core.display.HTML object>"
      ]
     },
     "metadata": {},
     "output_type": "display_data"
    },
    {
     "name": "stderr",
     "output_type": "stream",
     "text": [
      "c:\\Users\\tjddl\\AppData\\Local\\Programs\\Python\\Python310\\lib\\site-packages\\sklearn\\utils\\deprecation.py:151: FutureWarning: 'force_all_finite' was renamed to 'ensure_all_finite' in 1.6 and will be removed in 1.8.\n",
      "  warnings.warn(\n",
      "c:\\Users\\tjddl\\AppData\\Local\\Programs\\Python\\Python310\\lib\\site-packages\\sklearn\\utils\\deprecation.py:151: FutureWarning: 'force_all_finite' was renamed to 'ensure_all_finite' in 1.6 and will be removed in 1.8.\n",
      "  warnings.warn(\n",
      "c:\\Users\\tjddl\\AppData\\Local\\Programs\\Python\\Python310\\lib\\site-packages\\sklearn\\utils\\deprecation.py:151: FutureWarning: 'force_all_finite' was renamed to 'ensure_all_finite' in 1.6 and will be removed in 1.8.\n",
      "  warnings.warn(\n",
      "c:\\Users\\tjddl\\AppData\\Local\\Programs\\Python\\Python310\\lib\\site-packages\\sklearn\\utils\\deprecation.py:151: FutureWarning: 'force_all_finite' was renamed to 'ensure_all_finite' in 1.6 and will be removed in 1.8.\n",
      "  warnings.warn(\n",
      "c:\\Users\\tjddl\\AppData\\Local\\Programs\\Python\\Python310\\lib\\site-packages\\sklearn\\utils\\deprecation.py:151: FutureWarning: 'force_all_finite' was renamed to 'ensure_all_finite' in 1.6 and will be removed in 1.8.\n",
      "  warnings.warn(\n",
      "c:\\Users\\tjddl\\AppData\\Local\\Programs\\Python\\Python310\\lib\\site-packages\\sklearn\\utils\\deprecation.py:151: FutureWarning: 'force_all_finite' was renamed to 'ensure_all_finite' in 1.6 and will be removed in 1.8.\n",
      "  warnings.warn(\n",
      "c:\\Users\\tjddl\\AppData\\Local\\Programs\\Python\\Python310\\lib\\site-packages\\sklearn\\utils\\deprecation.py:151: FutureWarning: 'force_all_finite' was renamed to 'ensure_all_finite' in 1.6 and will be removed in 1.8.\n",
      "  warnings.warn(\n",
      "c:\\Users\\tjddl\\AppData\\Local\\Programs\\Python\\Python310\\lib\\site-packages\\sklearn\\utils\\deprecation.py:151: FutureWarning: 'force_all_finite' was renamed to 'ensure_all_finite' in 1.6 and will be removed in 1.8.\n",
      "  warnings.warn(\n",
      "c:\\Users\\tjddl\\AppData\\Local\\Programs\\Python\\Python310\\lib\\site-packages\\sklearn\\utils\\deprecation.py:151: FutureWarning: 'force_all_finite' was renamed to 'ensure_all_finite' in 1.6 and will be removed in 1.8.\n",
      "  warnings.warn(\n"
     ]
    },
    {
     "name": "stdout",
     "output_type": "stream",
     "text": [
      "Mean ROC AUC: 0.7391\n"
     ]
    },
    {
     "name": "stderr",
     "output_type": "stream",
     "text": [
      "c:\\Users\\tjddl\\AppData\\Local\\Programs\\Python\\Python310\\lib\\site-packages\\sklearn\\utils\\deprecation.py:151: FutureWarning: 'force_all_finite' was renamed to 'ensure_all_finite' in 1.6 and will be removed in 1.8.\n",
      "  warnings.warn(\n"
     ]
    },
    {
     "data": {
      "text/html": [],
      "text/plain": [
       "<IPython.core.display.HTML object>"
      ]
     },
     "metadata": {},
     "output_type": "display_data"
    },
    {
     "data": {
      "text/html": [
       "<br>    <style><br>        .wandb-row {<br>            display: flex;<br>            flex-direction: row;<br>            flex-wrap: wrap;<br>            justify-content: flex-start;<br>            width: 100%;<br>        }<br>        .wandb-col {<br>            display: flex;<br>            flex-direction: column;<br>            flex-basis: 100%;<br>            flex: 1;<br>            padding: 10px;<br>        }<br>    </style><br><div class=\"wandb-row\"><div class=\"wandb-col\"><h3>Run history:</h3><br/><table class=\"wandb\"><tr><td>roc_auc</td><td>▁</td></tr></table><br/></div><div class=\"wandb-col\"><h3>Run summary:</h3><br/><table class=\"wandb\"><tr><td>roc_auc</td><td>0.73912</td></tr></table><br/></div></div>"
      ],
      "text/plain": [
       "<IPython.core.display.HTML object>"
      ]
     },
     "metadata": {},
     "output_type": "display_data"
    },
    {
     "data": {
      "text/html": [
       " View run <strong style=\"color:#cdcd00\">decent-sweep-11</strong> at: <a href='https://wandb.ai/espada105-hanseouniversity/LGaimers/runs/x5x2rkon' target=\"_blank\">https://wandb.ai/espada105-hanseouniversity/LGaimers/runs/x5x2rkon</a><br> View project at: <a href='https://wandb.ai/espada105-hanseouniversity/LGaimers' target=\"_blank\">https://wandb.ai/espada105-hanseouniversity/LGaimers</a><br>Synced 5 W&B file(s), 0 media file(s), 0 artifact file(s) and 0 other file(s)"
      ],
      "text/plain": [
       "<IPython.core.display.HTML object>"
      ]
     },
     "metadata": {},
     "output_type": "display_data"
    },
    {
     "data": {
      "text/html": [
       "Find logs at: <code>.\\wandb\\run-20250207_224301-x5x2rkon\\logs</code>"
      ],
      "text/plain": [
       "<IPython.core.display.HTML object>"
      ]
     },
     "metadata": {},
     "output_type": "display_data"
    },
    {
     "name": "stderr",
     "output_type": "stream",
     "text": [
      "\u001b[34m\u001b[1mwandb\u001b[0m: Sweep Agent: Waiting for job.\n",
      "\u001b[34m\u001b[1mwandb\u001b[0m: Job received.\n",
      "\u001b[34m\u001b[1mwandb\u001b[0m: Agent Starting Run: yxbgakch with config:\n",
      "\u001b[34m\u001b[1mwandb\u001b[0m: \tlearning_rate: 0.05\n",
      "\u001b[34m\u001b[1mwandb\u001b[0m: \tmax_depth: 10\n",
      "\u001b[34m\u001b[1mwandb\u001b[0m: \tn_estimators: 200\n"
     ]
    },
    {
     "data": {
      "text/html": [
       "Ignoring project 'LGaimers' when running a sweep."
      ],
      "text/plain": [
       "<IPython.core.display.HTML object>"
      ]
     },
     "metadata": {},
     "output_type": "display_data"
    },
    {
     "data": {
      "text/html": [
       "Ignoring entity 'espada105-hanseouniversity' when running a sweep."
      ],
      "text/plain": [
       "<IPython.core.display.HTML object>"
      ]
     },
     "metadata": {},
     "output_type": "display_data"
    },
    {
     "data": {
      "text/html": [
       "Tracking run with wandb version 0.19.6"
      ],
      "text/plain": [
       "<IPython.core.display.HTML object>"
      ]
     },
     "metadata": {},
     "output_type": "display_data"
    },
    {
     "data": {
      "text/html": [
       "Run data is saved locally in <code>c:\\GitHubRepo\\AI_Predicting_Pregnancy_Success\\HongSeongIn\\wandb\\run-20250207_224327-yxbgakch</code>"
      ],
      "text/plain": [
       "<IPython.core.display.HTML object>"
      ]
     },
     "metadata": {},
     "output_type": "display_data"
    },
    {
     "data": {
      "text/html": [
       "Syncing run <strong><a href='https://wandb.ai/espada105-hanseouniversity/LGaimers/runs/yxbgakch' target=\"_blank\">sandy-sweep-12</a></strong> to <a href='https://wandb.ai/espada105-hanseouniversity/LGaimers' target=\"_blank\">Weights & Biases</a> (<a href='https://wandb.me/developer-guide' target=\"_blank\">docs</a>)<br>Sweep page: <a href='https://wandb.ai/espada105-hanseouniversity/LGaimers/sweeps/d6kdsk99' target=\"_blank\">https://wandb.ai/espada105-hanseouniversity/LGaimers/sweeps/d6kdsk99</a>"
      ],
      "text/plain": [
       "<IPython.core.display.HTML object>"
      ]
     },
     "metadata": {},
     "output_type": "display_data"
    },
    {
     "data": {
      "text/html": [
       " View project at <a href='https://wandb.ai/espada105-hanseouniversity/LGaimers' target=\"_blank\">https://wandb.ai/espada105-hanseouniversity/LGaimers</a>"
      ],
      "text/plain": [
       "<IPython.core.display.HTML object>"
      ]
     },
     "metadata": {},
     "output_type": "display_data"
    },
    {
     "data": {
      "text/html": [
       " View sweep at <a href='https://wandb.ai/espada105-hanseouniversity/LGaimers/sweeps/d6kdsk99' target=\"_blank\">https://wandb.ai/espada105-hanseouniversity/LGaimers/sweeps/d6kdsk99</a>"
      ],
      "text/plain": [
       "<IPython.core.display.HTML object>"
      ]
     },
     "metadata": {},
     "output_type": "display_data"
    },
    {
     "data": {
      "text/html": [
       " View run at <a href='https://wandb.ai/espada105-hanseouniversity/LGaimers/runs/yxbgakch' target=\"_blank\">https://wandb.ai/espada105-hanseouniversity/LGaimers/runs/yxbgakch</a>"
      ],
      "text/plain": [
       "<IPython.core.display.HTML object>"
      ]
     },
     "metadata": {},
     "output_type": "display_data"
    },
    {
     "name": "stderr",
     "output_type": "stream",
     "text": [
      "c:\\Users\\tjddl\\AppData\\Local\\Programs\\Python\\Python310\\lib\\site-packages\\sklearn\\utils\\deprecation.py:151: FutureWarning: 'force_all_finite' was renamed to 'ensure_all_finite' in 1.6 and will be removed in 1.8.\n",
      "  warnings.warn(\n",
      "c:\\Users\\tjddl\\AppData\\Local\\Programs\\Python\\Python310\\lib\\site-packages\\sklearn\\utils\\deprecation.py:151: FutureWarning: 'force_all_finite' was renamed to 'ensure_all_finite' in 1.6 and will be removed in 1.8.\n",
      "  warnings.warn(\n",
      "c:\\Users\\tjddl\\AppData\\Local\\Programs\\Python\\Python310\\lib\\site-packages\\sklearn\\utils\\deprecation.py:151: FutureWarning: 'force_all_finite' was renamed to 'ensure_all_finite' in 1.6 and will be removed in 1.8.\n",
      "  warnings.warn(\n",
      "c:\\Users\\tjddl\\AppData\\Local\\Programs\\Python\\Python310\\lib\\site-packages\\sklearn\\utils\\deprecation.py:151: FutureWarning: 'force_all_finite' was renamed to 'ensure_all_finite' in 1.6 and will be removed in 1.8.\n",
      "  warnings.warn(\n",
      "c:\\Users\\tjddl\\AppData\\Local\\Programs\\Python\\Python310\\lib\\site-packages\\sklearn\\utils\\deprecation.py:151: FutureWarning: 'force_all_finite' was renamed to 'ensure_all_finite' in 1.6 and will be removed in 1.8.\n",
      "  warnings.warn(\n",
      "c:\\Users\\tjddl\\AppData\\Local\\Programs\\Python\\Python310\\lib\\site-packages\\sklearn\\utils\\deprecation.py:151: FutureWarning: 'force_all_finite' was renamed to 'ensure_all_finite' in 1.6 and will be removed in 1.8.\n",
      "  warnings.warn(\n",
      "c:\\Users\\tjddl\\AppData\\Local\\Programs\\Python\\Python310\\lib\\site-packages\\sklearn\\utils\\deprecation.py:151: FutureWarning: 'force_all_finite' was renamed to 'ensure_all_finite' in 1.6 and will be removed in 1.8.\n",
      "  warnings.warn(\n",
      "c:\\Users\\tjddl\\AppData\\Local\\Programs\\Python\\Python310\\lib\\site-packages\\sklearn\\utils\\deprecation.py:151: FutureWarning: 'force_all_finite' was renamed to 'ensure_all_finite' in 1.6 and will be removed in 1.8.\n",
      "  warnings.warn(\n",
      "c:\\Users\\tjddl\\AppData\\Local\\Programs\\Python\\Python310\\lib\\site-packages\\sklearn\\utils\\deprecation.py:151: FutureWarning: 'force_all_finite' was renamed to 'ensure_all_finite' in 1.6 and will be removed in 1.8.\n",
      "  warnings.warn(\n"
     ]
    },
    {
     "name": "stdout",
     "output_type": "stream",
     "text": [
      "Mean ROC AUC: 0.7396\n"
     ]
    },
    {
     "name": "stderr",
     "output_type": "stream",
     "text": [
      "c:\\Users\\tjddl\\AppData\\Local\\Programs\\Python\\Python310\\lib\\site-packages\\sklearn\\utils\\deprecation.py:151: FutureWarning: 'force_all_finite' was renamed to 'ensure_all_finite' in 1.6 and will be removed in 1.8.\n",
      "  warnings.warn(\n"
     ]
    },
    {
     "data": {
      "text/html": [],
      "text/plain": [
       "<IPython.core.display.HTML object>"
      ]
     },
     "metadata": {},
     "output_type": "display_data"
    },
    {
     "data": {
      "text/html": [
       "<br>    <style><br>        .wandb-row {<br>            display: flex;<br>            flex-direction: row;<br>            flex-wrap: wrap;<br>            justify-content: flex-start;<br>            width: 100%;<br>        }<br>        .wandb-col {<br>            display: flex;<br>            flex-direction: column;<br>            flex-basis: 100%;<br>            flex: 1;<br>            padding: 10px;<br>        }<br>    </style><br><div class=\"wandb-row\"><div class=\"wandb-col\"><h3>Run history:</h3><br/><table class=\"wandb\"><tr><td>roc_auc</td><td>▁</td></tr></table><br/></div><div class=\"wandb-col\"><h3>Run summary:</h3><br/><table class=\"wandb\"><tr><td>roc_auc</td><td>0.73957</td></tr></table><br/></div></div>"
      ],
      "text/plain": [
       "<IPython.core.display.HTML object>"
      ]
     },
     "metadata": {},
     "output_type": "display_data"
    },
    {
     "data": {
      "text/html": [
       " View run <strong style=\"color:#cdcd00\">sandy-sweep-12</strong> at: <a href='https://wandb.ai/espada105-hanseouniversity/LGaimers/runs/yxbgakch' target=\"_blank\">https://wandb.ai/espada105-hanseouniversity/LGaimers/runs/yxbgakch</a><br> View project at: <a href='https://wandb.ai/espada105-hanseouniversity/LGaimers' target=\"_blank\">https://wandb.ai/espada105-hanseouniversity/LGaimers</a><br>Synced 5 W&B file(s), 0 media file(s), 0 artifact file(s) and 0 other file(s)"
      ],
      "text/plain": [
       "<IPython.core.display.HTML object>"
      ]
     },
     "metadata": {},
     "output_type": "display_data"
    },
    {
     "data": {
      "text/html": [
       "Find logs at: <code>.\\wandb\\run-20250207_224327-yxbgakch\\logs</code>"
      ],
      "text/plain": [
       "<IPython.core.display.HTML object>"
      ]
     },
     "metadata": {},
     "output_type": "display_data"
    },
    {
     "name": "stderr",
     "output_type": "stream",
     "text": [
      "\u001b[34m\u001b[1mwandb\u001b[0m: Agent Starting Run: wndxr4uf with config:\n",
      "\u001b[34m\u001b[1mwandb\u001b[0m: \tlearning_rate: 0.1\n",
      "\u001b[34m\u001b[1mwandb\u001b[0m: \tmax_depth: 5\n",
      "\u001b[34m\u001b[1mwandb\u001b[0m: \tn_estimators: 100\n"
     ]
    },
    {
     "data": {
      "text/html": [
       "Ignoring project 'LGaimers' when running a sweep."
      ],
      "text/plain": [
       "<IPython.core.display.HTML object>"
      ]
     },
     "metadata": {},
     "output_type": "display_data"
    },
    {
     "data": {
      "text/html": [
       "Ignoring entity 'espada105-hanseouniversity' when running a sweep."
      ],
      "text/plain": [
       "<IPython.core.display.HTML object>"
      ]
     },
     "metadata": {},
     "output_type": "display_data"
    },
    {
     "data": {
      "text/html": [
       "Tracking run with wandb version 0.19.6"
      ],
      "text/plain": [
       "<IPython.core.display.HTML object>"
      ]
     },
     "metadata": {},
     "output_type": "display_data"
    },
    {
     "data": {
      "text/html": [
       "Run data is saved locally in <code>c:\\GitHubRepo\\AI_Predicting_Pregnancy_Success\\HongSeongIn\\wandb\\run-20250207_224348-wndxr4uf</code>"
      ],
      "text/plain": [
       "<IPython.core.display.HTML object>"
      ]
     },
     "metadata": {},
     "output_type": "display_data"
    },
    {
     "data": {
      "text/html": [
       "Syncing run <strong><a href='https://wandb.ai/espada105-hanseouniversity/LGaimers/runs/wndxr4uf' target=\"_blank\">silver-sweep-13</a></strong> to <a href='https://wandb.ai/espada105-hanseouniversity/LGaimers' target=\"_blank\">Weights & Biases</a> (<a href='https://wandb.me/developer-guide' target=\"_blank\">docs</a>)<br>Sweep page: <a href='https://wandb.ai/espada105-hanseouniversity/LGaimers/sweeps/d6kdsk99' target=\"_blank\">https://wandb.ai/espada105-hanseouniversity/LGaimers/sweeps/d6kdsk99</a>"
      ],
      "text/plain": [
       "<IPython.core.display.HTML object>"
      ]
     },
     "metadata": {},
     "output_type": "display_data"
    },
    {
     "data": {
      "text/html": [
       " View project at <a href='https://wandb.ai/espada105-hanseouniversity/LGaimers' target=\"_blank\">https://wandb.ai/espada105-hanseouniversity/LGaimers</a>"
      ],
      "text/plain": [
       "<IPython.core.display.HTML object>"
      ]
     },
     "metadata": {},
     "output_type": "display_data"
    },
    {
     "data": {
      "text/html": [
       " View sweep at <a href='https://wandb.ai/espada105-hanseouniversity/LGaimers/sweeps/d6kdsk99' target=\"_blank\">https://wandb.ai/espada105-hanseouniversity/LGaimers/sweeps/d6kdsk99</a>"
      ],
      "text/plain": [
       "<IPython.core.display.HTML object>"
      ]
     },
     "metadata": {},
     "output_type": "display_data"
    },
    {
     "data": {
      "text/html": [
       " View run at <a href='https://wandb.ai/espada105-hanseouniversity/LGaimers/runs/wndxr4uf' target=\"_blank\">https://wandb.ai/espada105-hanseouniversity/LGaimers/runs/wndxr4uf</a>"
      ],
      "text/plain": [
       "<IPython.core.display.HTML object>"
      ]
     },
     "metadata": {},
     "output_type": "display_data"
    },
    {
     "name": "stderr",
     "output_type": "stream",
     "text": [
      "c:\\Users\\tjddl\\AppData\\Local\\Programs\\Python\\Python310\\lib\\site-packages\\sklearn\\utils\\deprecation.py:151: FutureWarning: 'force_all_finite' was renamed to 'ensure_all_finite' in 1.6 and will be removed in 1.8.\n",
      "  warnings.warn(\n",
      "c:\\Users\\tjddl\\AppData\\Local\\Programs\\Python\\Python310\\lib\\site-packages\\sklearn\\utils\\deprecation.py:151: FutureWarning: 'force_all_finite' was renamed to 'ensure_all_finite' in 1.6 and will be removed in 1.8.\n",
      "  warnings.warn(\n",
      "c:\\Users\\tjddl\\AppData\\Local\\Programs\\Python\\Python310\\lib\\site-packages\\sklearn\\utils\\deprecation.py:151: FutureWarning: 'force_all_finite' was renamed to 'ensure_all_finite' in 1.6 and will be removed in 1.8.\n",
      "  warnings.warn(\n",
      "c:\\Users\\tjddl\\AppData\\Local\\Programs\\Python\\Python310\\lib\\site-packages\\sklearn\\utils\\deprecation.py:151: FutureWarning: 'force_all_finite' was renamed to 'ensure_all_finite' in 1.6 and will be removed in 1.8.\n",
      "  warnings.warn(\n",
      "c:\\Users\\tjddl\\AppData\\Local\\Programs\\Python\\Python310\\lib\\site-packages\\sklearn\\utils\\deprecation.py:151: FutureWarning: 'force_all_finite' was renamed to 'ensure_all_finite' in 1.6 and will be removed in 1.8.\n",
      "  warnings.warn(\n",
      "c:\\Users\\tjddl\\AppData\\Local\\Programs\\Python\\Python310\\lib\\site-packages\\sklearn\\utils\\deprecation.py:151: FutureWarning: 'force_all_finite' was renamed to 'ensure_all_finite' in 1.6 and will be removed in 1.8.\n",
      "  warnings.warn(\n",
      "c:\\Users\\tjddl\\AppData\\Local\\Programs\\Python\\Python310\\lib\\site-packages\\sklearn\\utils\\deprecation.py:151: FutureWarning: 'force_all_finite' was renamed to 'ensure_all_finite' in 1.6 and will be removed in 1.8.\n",
      "  warnings.warn(\n",
      "c:\\Users\\tjddl\\AppData\\Local\\Programs\\Python\\Python310\\lib\\site-packages\\sklearn\\utils\\deprecation.py:151: FutureWarning: 'force_all_finite' was renamed to 'ensure_all_finite' in 1.6 and will be removed in 1.8.\n",
      "  warnings.warn(\n",
      "c:\\Users\\tjddl\\AppData\\Local\\Programs\\Python\\Python310\\lib\\site-packages\\sklearn\\utils\\deprecation.py:151: FutureWarning: 'force_all_finite' was renamed to 'ensure_all_finite' in 1.6 and will be removed in 1.8.\n",
      "  warnings.warn(\n"
     ]
    },
    {
     "name": "stdout",
     "output_type": "stream",
     "text": [
      "Mean ROC AUC: 0.7388\n"
     ]
    },
    {
     "name": "stderr",
     "output_type": "stream",
     "text": [
      "c:\\Users\\tjddl\\AppData\\Local\\Programs\\Python\\Python310\\lib\\site-packages\\sklearn\\utils\\deprecation.py:151: FutureWarning: 'force_all_finite' was renamed to 'ensure_all_finite' in 1.6 and will be removed in 1.8.\n",
      "  warnings.warn(\n"
     ]
    },
    {
     "data": {
      "text/html": [],
      "text/plain": [
       "<IPython.core.display.HTML object>"
      ]
     },
     "metadata": {},
     "output_type": "display_data"
    },
    {
     "data": {
      "text/html": [
       "<br>    <style><br>        .wandb-row {<br>            display: flex;<br>            flex-direction: row;<br>            flex-wrap: wrap;<br>            justify-content: flex-start;<br>            width: 100%;<br>        }<br>        .wandb-col {<br>            display: flex;<br>            flex-direction: column;<br>            flex-basis: 100%;<br>            flex: 1;<br>            padding: 10px;<br>        }<br>    </style><br><div class=\"wandb-row\"><div class=\"wandb-col\"><h3>Run history:</h3><br/><table class=\"wandb\"><tr><td>roc_auc</td><td>▁</td></tr></table><br/></div><div class=\"wandb-col\"><h3>Run summary:</h3><br/><table class=\"wandb\"><tr><td>roc_auc</td><td>0.73879</td></tr></table><br/></div></div>"
      ],
      "text/plain": [
       "<IPython.core.display.HTML object>"
      ]
     },
     "metadata": {},
     "output_type": "display_data"
    },
    {
     "data": {
      "text/html": [
       " View run <strong style=\"color:#cdcd00\">silver-sweep-13</strong> at: <a href='https://wandb.ai/espada105-hanseouniversity/LGaimers/runs/wndxr4uf' target=\"_blank\">https://wandb.ai/espada105-hanseouniversity/LGaimers/runs/wndxr4uf</a><br> View project at: <a href='https://wandb.ai/espada105-hanseouniversity/LGaimers' target=\"_blank\">https://wandb.ai/espada105-hanseouniversity/LGaimers</a><br>Synced 5 W&B file(s), 0 media file(s), 0 artifact file(s) and 0 other file(s)"
      ],
      "text/plain": [
       "<IPython.core.display.HTML object>"
      ]
     },
     "metadata": {},
     "output_type": "display_data"
    },
    {
     "data": {
      "text/html": [
       "Find logs at: <code>.\\wandb\\run-20250207_224348-wndxr4uf\\logs</code>"
      ],
      "text/plain": [
       "<IPython.core.display.HTML object>"
      ]
     },
     "metadata": {},
     "output_type": "display_data"
    },
    {
     "name": "stderr",
     "output_type": "stream",
     "text": [
      "\u001b[34m\u001b[1mwandb\u001b[0m: Agent Starting Run: 99jclt1r with config:\n",
      "\u001b[34m\u001b[1mwandb\u001b[0m: \tlearning_rate: 0.1\n",
      "\u001b[34m\u001b[1mwandb\u001b[0m: \tmax_depth: 5\n",
      "\u001b[34m\u001b[1mwandb\u001b[0m: \tn_estimators: 200\n"
     ]
    },
    {
     "data": {
      "text/html": [
       "Ignoring project 'LGaimers' when running a sweep."
      ],
      "text/plain": [
       "<IPython.core.display.HTML object>"
      ]
     },
     "metadata": {},
     "output_type": "display_data"
    },
    {
     "data": {
      "text/html": [
       "Ignoring entity 'espada105-hanseouniversity' when running a sweep."
      ],
      "text/plain": [
       "<IPython.core.display.HTML object>"
      ]
     },
     "metadata": {},
     "output_type": "display_data"
    },
    {
     "data": {
      "text/html": [
       "Tracking run with wandb version 0.19.6"
      ],
      "text/plain": [
       "<IPython.core.display.HTML object>"
      ]
     },
     "metadata": {},
     "output_type": "display_data"
    },
    {
     "data": {
      "text/html": [
       "Run data is saved locally in <code>c:\\GitHubRepo\\AI_Predicting_Pregnancy_Success\\HongSeongIn\\wandb\\run-20250207_224404-99jclt1r</code>"
      ],
      "text/plain": [
       "<IPython.core.display.HTML object>"
      ]
     },
     "metadata": {},
     "output_type": "display_data"
    },
    {
     "data": {
      "text/html": [
       "Syncing run <strong><a href='https://wandb.ai/espada105-hanseouniversity/LGaimers/runs/99jclt1r' target=\"_blank\">sage-sweep-14</a></strong> to <a href='https://wandb.ai/espada105-hanseouniversity/LGaimers' target=\"_blank\">Weights & Biases</a> (<a href='https://wandb.me/developer-guide' target=\"_blank\">docs</a>)<br>Sweep page: <a href='https://wandb.ai/espada105-hanseouniversity/LGaimers/sweeps/d6kdsk99' target=\"_blank\">https://wandb.ai/espada105-hanseouniversity/LGaimers/sweeps/d6kdsk99</a>"
      ],
      "text/plain": [
       "<IPython.core.display.HTML object>"
      ]
     },
     "metadata": {},
     "output_type": "display_data"
    },
    {
     "data": {
      "text/html": [
       " View project at <a href='https://wandb.ai/espada105-hanseouniversity/LGaimers' target=\"_blank\">https://wandb.ai/espada105-hanseouniversity/LGaimers</a>"
      ],
      "text/plain": [
       "<IPython.core.display.HTML object>"
      ]
     },
     "metadata": {},
     "output_type": "display_data"
    },
    {
     "data": {
      "text/html": [
       " View sweep at <a href='https://wandb.ai/espada105-hanseouniversity/LGaimers/sweeps/d6kdsk99' target=\"_blank\">https://wandb.ai/espada105-hanseouniversity/LGaimers/sweeps/d6kdsk99</a>"
      ],
      "text/plain": [
       "<IPython.core.display.HTML object>"
      ]
     },
     "metadata": {},
     "output_type": "display_data"
    },
    {
     "data": {
      "text/html": [
       " View run at <a href='https://wandb.ai/espada105-hanseouniversity/LGaimers/runs/99jclt1r' target=\"_blank\">https://wandb.ai/espada105-hanseouniversity/LGaimers/runs/99jclt1r</a>"
      ],
      "text/plain": [
       "<IPython.core.display.HTML object>"
      ]
     },
     "metadata": {},
     "output_type": "display_data"
    },
    {
     "name": "stderr",
     "output_type": "stream",
     "text": [
      "c:\\Users\\tjddl\\AppData\\Local\\Programs\\Python\\Python310\\lib\\site-packages\\sklearn\\utils\\deprecation.py:151: FutureWarning: 'force_all_finite' was renamed to 'ensure_all_finite' in 1.6 and will be removed in 1.8.\n",
      "  warnings.warn(\n",
      "c:\\Users\\tjddl\\AppData\\Local\\Programs\\Python\\Python310\\lib\\site-packages\\sklearn\\utils\\deprecation.py:151: FutureWarning: 'force_all_finite' was renamed to 'ensure_all_finite' in 1.6 and will be removed in 1.8.\n",
      "  warnings.warn(\n",
      "c:\\Users\\tjddl\\AppData\\Local\\Programs\\Python\\Python310\\lib\\site-packages\\sklearn\\utils\\deprecation.py:151: FutureWarning: 'force_all_finite' was renamed to 'ensure_all_finite' in 1.6 and will be removed in 1.8.\n",
      "  warnings.warn(\n",
      "c:\\Users\\tjddl\\AppData\\Local\\Programs\\Python\\Python310\\lib\\site-packages\\sklearn\\utils\\deprecation.py:151: FutureWarning: 'force_all_finite' was renamed to 'ensure_all_finite' in 1.6 and will be removed in 1.8.\n",
      "  warnings.warn(\n",
      "c:\\Users\\tjddl\\AppData\\Local\\Programs\\Python\\Python310\\lib\\site-packages\\sklearn\\utils\\deprecation.py:151: FutureWarning: 'force_all_finite' was renamed to 'ensure_all_finite' in 1.6 and will be removed in 1.8.\n",
      "  warnings.warn(\n",
      "c:\\Users\\tjddl\\AppData\\Local\\Programs\\Python\\Python310\\lib\\site-packages\\sklearn\\utils\\deprecation.py:151: FutureWarning: 'force_all_finite' was renamed to 'ensure_all_finite' in 1.6 and will be removed in 1.8.\n",
      "  warnings.warn(\n",
      "c:\\Users\\tjddl\\AppData\\Local\\Programs\\Python\\Python310\\lib\\site-packages\\sklearn\\utils\\deprecation.py:151: FutureWarning: 'force_all_finite' was renamed to 'ensure_all_finite' in 1.6 and will be removed in 1.8.\n",
      "  warnings.warn(\n",
      "c:\\Users\\tjddl\\AppData\\Local\\Programs\\Python\\Python310\\lib\\site-packages\\sklearn\\utils\\deprecation.py:151: FutureWarning: 'force_all_finite' was renamed to 'ensure_all_finite' in 1.6 and will be removed in 1.8.\n",
      "  warnings.warn(\n",
      "c:\\Users\\tjddl\\AppData\\Local\\Programs\\Python\\Python310\\lib\\site-packages\\sklearn\\utils\\deprecation.py:151: FutureWarning: 'force_all_finite' was renamed to 'ensure_all_finite' in 1.6 and will be removed in 1.8.\n",
      "  warnings.warn(\n"
     ]
    },
    {
     "name": "stdout",
     "output_type": "stream",
     "text": [
      "Mean ROC AUC: 0.7389\n"
     ]
    },
    {
     "name": "stderr",
     "output_type": "stream",
     "text": [
      "c:\\Users\\tjddl\\AppData\\Local\\Programs\\Python\\Python310\\lib\\site-packages\\sklearn\\utils\\deprecation.py:151: FutureWarning: 'force_all_finite' was renamed to 'ensure_all_finite' in 1.6 and will be removed in 1.8.\n",
      "  warnings.warn(\n"
     ]
    },
    {
     "data": {
      "text/html": [],
      "text/plain": [
       "<IPython.core.display.HTML object>"
      ]
     },
     "metadata": {},
     "output_type": "display_data"
    },
    {
     "data": {
      "text/html": [
       "<br>    <style><br>        .wandb-row {<br>            display: flex;<br>            flex-direction: row;<br>            flex-wrap: wrap;<br>            justify-content: flex-start;<br>            width: 100%;<br>        }<br>        .wandb-col {<br>            display: flex;<br>            flex-direction: column;<br>            flex-basis: 100%;<br>            flex: 1;<br>            padding: 10px;<br>        }<br>    </style><br><div class=\"wandb-row\"><div class=\"wandb-col\"><h3>Run history:</h3><br/><table class=\"wandb\"><tr><td>roc_auc</td><td>▁</td></tr></table><br/></div><div class=\"wandb-col\"><h3>Run summary:</h3><br/><table class=\"wandb\"><tr><td>roc_auc</td><td>0.73887</td></tr></table><br/></div></div>"
      ],
      "text/plain": [
       "<IPython.core.display.HTML object>"
      ]
     },
     "metadata": {},
     "output_type": "display_data"
    },
    {
     "data": {
      "text/html": [
       " View run <strong style=\"color:#cdcd00\">sage-sweep-14</strong> at: <a href='https://wandb.ai/espada105-hanseouniversity/LGaimers/runs/99jclt1r' target=\"_blank\">https://wandb.ai/espada105-hanseouniversity/LGaimers/runs/99jclt1r</a><br> View project at: <a href='https://wandb.ai/espada105-hanseouniversity/LGaimers' target=\"_blank\">https://wandb.ai/espada105-hanseouniversity/LGaimers</a><br>Synced 5 W&B file(s), 0 media file(s), 0 artifact file(s) and 0 other file(s)"
      ],
      "text/plain": [
       "<IPython.core.display.HTML object>"
      ]
     },
     "metadata": {},
     "output_type": "display_data"
    },
    {
     "data": {
      "text/html": [
       "Find logs at: <code>.\\wandb\\run-20250207_224404-99jclt1r\\logs</code>"
      ],
      "text/plain": [
       "<IPython.core.display.HTML object>"
      ]
     },
     "metadata": {},
     "output_type": "display_data"
    },
    {
     "name": "stderr",
     "output_type": "stream",
     "text": [
      "\u001b[34m\u001b[1mwandb\u001b[0m: Agent Starting Run: vg76vuex with config:\n",
      "\u001b[34m\u001b[1mwandb\u001b[0m: \tlearning_rate: 0.1\n",
      "\u001b[34m\u001b[1mwandb\u001b[0m: \tmax_depth: 7\n",
      "\u001b[34m\u001b[1mwandb\u001b[0m: \tn_estimators: 100\n"
     ]
    },
    {
     "data": {
      "text/html": [
       "Ignoring project 'LGaimers' when running a sweep."
      ],
      "text/plain": [
       "<IPython.core.display.HTML object>"
      ]
     },
     "metadata": {},
     "output_type": "display_data"
    },
    {
     "data": {
      "text/html": [
       "Ignoring entity 'espada105-hanseouniversity' when running a sweep."
      ],
      "text/plain": [
       "<IPython.core.display.HTML object>"
      ]
     },
     "metadata": {},
     "output_type": "display_data"
    },
    {
     "data": {
      "text/html": [
       "Tracking run with wandb version 0.19.6"
      ],
      "text/plain": [
       "<IPython.core.display.HTML object>"
      ]
     },
     "metadata": {},
     "output_type": "display_data"
    },
    {
     "data": {
      "text/html": [
       "Run data is saved locally in <code>c:\\GitHubRepo\\AI_Predicting_Pregnancy_Success\\HongSeongIn\\wandb\\run-20250207_224425-vg76vuex</code>"
      ],
      "text/plain": [
       "<IPython.core.display.HTML object>"
      ]
     },
     "metadata": {},
     "output_type": "display_data"
    },
    {
     "data": {
      "text/html": [
       "Syncing run <strong><a href='https://wandb.ai/espada105-hanseouniversity/LGaimers/runs/vg76vuex' target=\"_blank\">giddy-sweep-15</a></strong> to <a href='https://wandb.ai/espada105-hanseouniversity/LGaimers' target=\"_blank\">Weights & Biases</a> (<a href='https://wandb.me/developer-guide' target=\"_blank\">docs</a>)<br>Sweep page: <a href='https://wandb.ai/espada105-hanseouniversity/LGaimers/sweeps/d6kdsk99' target=\"_blank\">https://wandb.ai/espada105-hanseouniversity/LGaimers/sweeps/d6kdsk99</a>"
      ],
      "text/plain": [
       "<IPython.core.display.HTML object>"
      ]
     },
     "metadata": {},
     "output_type": "display_data"
    },
    {
     "data": {
      "text/html": [
       " View project at <a href='https://wandb.ai/espada105-hanseouniversity/LGaimers' target=\"_blank\">https://wandb.ai/espada105-hanseouniversity/LGaimers</a>"
      ],
      "text/plain": [
       "<IPython.core.display.HTML object>"
      ]
     },
     "metadata": {},
     "output_type": "display_data"
    },
    {
     "data": {
      "text/html": [
       " View sweep at <a href='https://wandb.ai/espada105-hanseouniversity/LGaimers/sweeps/d6kdsk99' target=\"_blank\">https://wandb.ai/espada105-hanseouniversity/LGaimers/sweeps/d6kdsk99</a>"
      ],
      "text/plain": [
       "<IPython.core.display.HTML object>"
      ]
     },
     "metadata": {},
     "output_type": "display_data"
    },
    {
     "data": {
      "text/html": [
       " View run at <a href='https://wandb.ai/espada105-hanseouniversity/LGaimers/runs/vg76vuex' target=\"_blank\">https://wandb.ai/espada105-hanseouniversity/LGaimers/runs/vg76vuex</a>"
      ],
      "text/plain": [
       "<IPython.core.display.HTML object>"
      ]
     },
     "metadata": {},
     "output_type": "display_data"
    },
    {
     "name": "stderr",
     "output_type": "stream",
     "text": [
      "c:\\Users\\tjddl\\AppData\\Local\\Programs\\Python\\Python310\\lib\\site-packages\\sklearn\\utils\\deprecation.py:151: FutureWarning: 'force_all_finite' was renamed to 'ensure_all_finite' in 1.6 and will be removed in 1.8.\n",
      "  warnings.warn(\n",
      "c:\\Users\\tjddl\\AppData\\Local\\Programs\\Python\\Python310\\lib\\site-packages\\sklearn\\utils\\deprecation.py:151: FutureWarning: 'force_all_finite' was renamed to 'ensure_all_finite' in 1.6 and will be removed in 1.8.\n",
      "  warnings.warn(\n",
      "c:\\Users\\tjddl\\AppData\\Local\\Programs\\Python\\Python310\\lib\\site-packages\\sklearn\\utils\\deprecation.py:151: FutureWarning: 'force_all_finite' was renamed to 'ensure_all_finite' in 1.6 and will be removed in 1.8.\n",
      "  warnings.warn(\n",
      "c:\\Users\\tjddl\\AppData\\Local\\Programs\\Python\\Python310\\lib\\site-packages\\sklearn\\utils\\deprecation.py:151: FutureWarning: 'force_all_finite' was renamed to 'ensure_all_finite' in 1.6 and will be removed in 1.8.\n",
      "  warnings.warn(\n",
      "c:\\Users\\tjddl\\AppData\\Local\\Programs\\Python\\Python310\\lib\\site-packages\\sklearn\\utils\\deprecation.py:151: FutureWarning: 'force_all_finite' was renamed to 'ensure_all_finite' in 1.6 and will be removed in 1.8.\n",
      "  warnings.warn(\n",
      "c:\\Users\\tjddl\\AppData\\Local\\Programs\\Python\\Python310\\lib\\site-packages\\sklearn\\utils\\deprecation.py:151: FutureWarning: 'force_all_finite' was renamed to 'ensure_all_finite' in 1.6 and will be removed in 1.8.\n",
      "  warnings.warn(\n",
      "c:\\Users\\tjddl\\AppData\\Local\\Programs\\Python\\Python310\\lib\\site-packages\\sklearn\\utils\\deprecation.py:151: FutureWarning: 'force_all_finite' was renamed to 'ensure_all_finite' in 1.6 and will be removed in 1.8.\n",
      "  warnings.warn(\n",
      "c:\\Users\\tjddl\\AppData\\Local\\Programs\\Python\\Python310\\lib\\site-packages\\sklearn\\utils\\deprecation.py:151: FutureWarning: 'force_all_finite' was renamed to 'ensure_all_finite' in 1.6 and will be removed in 1.8.\n",
      "  warnings.warn(\n",
      "c:\\Users\\tjddl\\AppData\\Local\\Programs\\Python\\Python310\\lib\\site-packages\\sklearn\\utils\\deprecation.py:151: FutureWarning: 'force_all_finite' was renamed to 'ensure_all_finite' in 1.6 and will be removed in 1.8.\n",
      "  warnings.warn(\n"
     ]
    },
    {
     "name": "stdout",
     "output_type": "stream",
     "text": [
      "Mean ROC AUC: 0.7392\n"
     ]
    },
    {
     "name": "stderr",
     "output_type": "stream",
     "text": [
      "c:\\Users\\tjddl\\AppData\\Local\\Programs\\Python\\Python310\\lib\\site-packages\\sklearn\\utils\\deprecation.py:151: FutureWarning: 'force_all_finite' was renamed to 'ensure_all_finite' in 1.6 and will be removed in 1.8.\n",
      "  warnings.warn(\n"
     ]
    },
    {
     "data": {
      "text/html": [],
      "text/plain": [
       "<IPython.core.display.HTML object>"
      ]
     },
     "metadata": {},
     "output_type": "display_data"
    },
    {
     "data": {
      "text/html": [
       "<br>    <style><br>        .wandb-row {<br>            display: flex;<br>            flex-direction: row;<br>            flex-wrap: wrap;<br>            justify-content: flex-start;<br>            width: 100%;<br>        }<br>        .wandb-col {<br>            display: flex;<br>            flex-direction: column;<br>            flex-basis: 100%;<br>            flex: 1;<br>            padding: 10px;<br>        }<br>    </style><br><div class=\"wandb-row\"><div class=\"wandb-col\"><h3>Run history:</h3><br/><table class=\"wandb\"><tr><td>roc_auc</td><td>▁</td></tr></table><br/></div><div class=\"wandb-col\"><h3>Run summary:</h3><br/><table class=\"wandb\"><tr><td>roc_auc</td><td>0.73921</td></tr></table><br/></div></div>"
      ],
      "text/plain": [
       "<IPython.core.display.HTML object>"
      ]
     },
     "metadata": {},
     "output_type": "display_data"
    },
    {
     "data": {
      "text/html": [
       " View run <strong style=\"color:#cdcd00\">giddy-sweep-15</strong> at: <a href='https://wandb.ai/espada105-hanseouniversity/LGaimers/runs/vg76vuex' target=\"_blank\">https://wandb.ai/espada105-hanseouniversity/LGaimers/runs/vg76vuex</a><br> View project at: <a href='https://wandb.ai/espada105-hanseouniversity/LGaimers' target=\"_blank\">https://wandb.ai/espada105-hanseouniversity/LGaimers</a><br>Synced 5 W&B file(s), 0 media file(s), 0 artifact file(s) and 0 other file(s)"
      ],
      "text/plain": [
       "<IPython.core.display.HTML object>"
      ]
     },
     "metadata": {},
     "output_type": "display_data"
    },
    {
     "data": {
      "text/html": [
       "Find logs at: <code>.\\wandb\\run-20250207_224425-vg76vuex\\logs</code>"
      ],
      "text/plain": [
       "<IPython.core.display.HTML object>"
      ]
     },
     "metadata": {},
     "output_type": "display_data"
    },
    {
     "name": "stderr",
     "output_type": "stream",
     "text": [
      "\u001b[34m\u001b[1mwandb\u001b[0m: Agent Starting Run: h15mbceg with config:\n",
      "\u001b[34m\u001b[1mwandb\u001b[0m: \tlearning_rate: 0.1\n",
      "\u001b[34m\u001b[1mwandb\u001b[0m: \tmax_depth: 7\n",
      "\u001b[34m\u001b[1mwandb\u001b[0m: \tn_estimators: 200\n"
     ]
    },
    {
     "data": {
      "text/html": [
       "Ignoring project 'LGaimers' when running a sweep."
      ],
      "text/plain": [
       "<IPython.core.display.HTML object>"
      ]
     },
     "metadata": {},
     "output_type": "display_data"
    },
    {
     "data": {
      "text/html": [
       "Ignoring entity 'espada105-hanseouniversity' when running a sweep."
      ],
      "text/plain": [
       "<IPython.core.display.HTML object>"
      ]
     },
     "metadata": {},
     "output_type": "display_data"
    },
    {
     "data": {
      "text/html": [
       "Tracking run with wandb version 0.19.6"
      ],
      "text/plain": [
       "<IPython.core.display.HTML object>"
      ]
     },
     "metadata": {},
     "output_type": "display_data"
    },
    {
     "data": {
      "text/html": [
       "Run data is saved locally in <code>c:\\GitHubRepo\\AI_Predicting_Pregnancy_Success\\HongSeongIn\\wandb\\run-20250207_224441-h15mbceg</code>"
      ],
      "text/plain": [
       "<IPython.core.display.HTML object>"
      ]
     },
     "metadata": {},
     "output_type": "display_data"
    },
    {
     "data": {
      "text/html": [
       "Syncing run <strong><a href='https://wandb.ai/espada105-hanseouniversity/LGaimers/runs/h15mbceg' target=\"_blank\">rural-sweep-16</a></strong> to <a href='https://wandb.ai/espada105-hanseouniversity/LGaimers' target=\"_blank\">Weights & Biases</a> (<a href='https://wandb.me/developer-guide' target=\"_blank\">docs</a>)<br>Sweep page: <a href='https://wandb.ai/espada105-hanseouniversity/LGaimers/sweeps/d6kdsk99' target=\"_blank\">https://wandb.ai/espada105-hanseouniversity/LGaimers/sweeps/d6kdsk99</a>"
      ],
      "text/plain": [
       "<IPython.core.display.HTML object>"
      ]
     },
     "metadata": {},
     "output_type": "display_data"
    },
    {
     "data": {
      "text/html": [
       " View project at <a href='https://wandb.ai/espada105-hanseouniversity/LGaimers' target=\"_blank\">https://wandb.ai/espada105-hanseouniversity/LGaimers</a>"
      ],
      "text/plain": [
       "<IPython.core.display.HTML object>"
      ]
     },
     "metadata": {},
     "output_type": "display_data"
    },
    {
     "data": {
      "text/html": [
       " View sweep at <a href='https://wandb.ai/espada105-hanseouniversity/LGaimers/sweeps/d6kdsk99' target=\"_blank\">https://wandb.ai/espada105-hanseouniversity/LGaimers/sweeps/d6kdsk99</a>"
      ],
      "text/plain": [
       "<IPython.core.display.HTML object>"
      ]
     },
     "metadata": {},
     "output_type": "display_data"
    },
    {
     "data": {
      "text/html": [
       " View run at <a href='https://wandb.ai/espada105-hanseouniversity/LGaimers/runs/h15mbceg' target=\"_blank\">https://wandb.ai/espada105-hanseouniversity/LGaimers/runs/h15mbceg</a>"
      ],
      "text/plain": [
       "<IPython.core.display.HTML object>"
      ]
     },
     "metadata": {},
     "output_type": "display_data"
    },
    {
     "name": "stderr",
     "output_type": "stream",
     "text": [
      "c:\\Users\\tjddl\\AppData\\Local\\Programs\\Python\\Python310\\lib\\site-packages\\sklearn\\utils\\deprecation.py:151: FutureWarning: 'force_all_finite' was renamed to 'ensure_all_finite' in 1.6 and will be removed in 1.8.\n",
      "  warnings.warn(\n",
      "c:\\Users\\tjddl\\AppData\\Local\\Programs\\Python\\Python310\\lib\\site-packages\\sklearn\\utils\\deprecation.py:151: FutureWarning: 'force_all_finite' was renamed to 'ensure_all_finite' in 1.6 and will be removed in 1.8.\n",
      "  warnings.warn(\n",
      "c:\\Users\\tjddl\\AppData\\Local\\Programs\\Python\\Python310\\lib\\site-packages\\sklearn\\utils\\deprecation.py:151: FutureWarning: 'force_all_finite' was renamed to 'ensure_all_finite' in 1.6 and will be removed in 1.8.\n",
      "  warnings.warn(\n",
      "c:\\Users\\tjddl\\AppData\\Local\\Programs\\Python\\Python310\\lib\\site-packages\\sklearn\\utils\\deprecation.py:151: FutureWarning: 'force_all_finite' was renamed to 'ensure_all_finite' in 1.6 and will be removed in 1.8.\n",
      "  warnings.warn(\n",
      "c:\\Users\\tjddl\\AppData\\Local\\Programs\\Python\\Python310\\lib\\site-packages\\sklearn\\utils\\deprecation.py:151: FutureWarning: 'force_all_finite' was renamed to 'ensure_all_finite' in 1.6 and will be removed in 1.8.\n",
      "  warnings.warn(\n",
      "c:\\Users\\tjddl\\AppData\\Local\\Programs\\Python\\Python310\\lib\\site-packages\\sklearn\\utils\\deprecation.py:151: FutureWarning: 'force_all_finite' was renamed to 'ensure_all_finite' in 1.6 and will be removed in 1.8.\n",
      "  warnings.warn(\n",
      "c:\\Users\\tjddl\\AppData\\Local\\Programs\\Python\\Python310\\lib\\site-packages\\sklearn\\utils\\deprecation.py:151: FutureWarning: 'force_all_finite' was renamed to 'ensure_all_finite' in 1.6 and will be removed in 1.8.\n",
      "  warnings.warn(\n",
      "c:\\Users\\tjddl\\AppData\\Local\\Programs\\Python\\Python310\\lib\\site-packages\\sklearn\\utils\\deprecation.py:151: FutureWarning: 'force_all_finite' was renamed to 'ensure_all_finite' in 1.6 and will be removed in 1.8.\n",
      "  warnings.warn(\n",
      "c:\\Users\\tjddl\\AppData\\Local\\Programs\\Python\\Python310\\lib\\site-packages\\sklearn\\utils\\deprecation.py:151: FutureWarning: 'force_all_finite' was renamed to 'ensure_all_finite' in 1.6 and will be removed in 1.8.\n",
      "  warnings.warn(\n"
     ]
    },
    {
     "name": "stdout",
     "output_type": "stream",
     "text": [
      "Mean ROC AUC: 0.7388\n"
     ]
    },
    {
     "name": "stderr",
     "output_type": "stream",
     "text": [
      "c:\\Users\\tjddl\\AppData\\Local\\Programs\\Python\\Python310\\lib\\site-packages\\sklearn\\utils\\deprecation.py:151: FutureWarning: 'force_all_finite' was renamed to 'ensure_all_finite' in 1.6 and will be removed in 1.8.\n",
      "  warnings.warn(\n"
     ]
    },
    {
     "data": {
      "text/html": [],
      "text/plain": [
       "<IPython.core.display.HTML object>"
      ]
     },
     "metadata": {},
     "output_type": "display_data"
    },
    {
     "data": {
      "text/html": [
       "<br>    <style><br>        .wandb-row {<br>            display: flex;<br>            flex-direction: row;<br>            flex-wrap: wrap;<br>            justify-content: flex-start;<br>            width: 100%;<br>        }<br>        .wandb-col {<br>            display: flex;<br>            flex-direction: column;<br>            flex-basis: 100%;<br>            flex: 1;<br>            padding: 10px;<br>        }<br>    </style><br><div class=\"wandb-row\"><div class=\"wandb-col\"><h3>Run history:</h3><br/><table class=\"wandb\"><tr><td>roc_auc</td><td>▁</td></tr></table><br/></div><div class=\"wandb-col\"><h3>Run summary:</h3><br/><table class=\"wandb\"><tr><td>roc_auc</td><td>0.73878</td></tr></table><br/></div></div>"
      ],
      "text/plain": [
       "<IPython.core.display.HTML object>"
      ]
     },
     "metadata": {},
     "output_type": "display_data"
    },
    {
     "data": {
      "text/html": [
       " View run <strong style=\"color:#cdcd00\">rural-sweep-16</strong> at: <a href='https://wandb.ai/espada105-hanseouniversity/LGaimers/runs/h15mbceg' target=\"_blank\">https://wandb.ai/espada105-hanseouniversity/LGaimers/runs/h15mbceg</a><br> View project at: <a href='https://wandb.ai/espada105-hanseouniversity/LGaimers' target=\"_blank\">https://wandb.ai/espada105-hanseouniversity/LGaimers</a><br>Synced 5 W&B file(s), 0 media file(s), 0 artifact file(s) and 0 other file(s)"
      ],
      "text/plain": [
       "<IPython.core.display.HTML object>"
      ]
     },
     "metadata": {},
     "output_type": "display_data"
    },
    {
     "data": {
      "text/html": [
       "Find logs at: <code>.\\wandb\\run-20250207_224441-h15mbceg\\logs</code>"
      ],
      "text/plain": [
       "<IPython.core.display.HTML object>"
      ]
     },
     "metadata": {},
     "output_type": "display_data"
    },
    {
     "name": "stderr",
     "output_type": "stream",
     "text": [
      "\u001b[34m\u001b[1mwandb\u001b[0m: Agent Starting Run: u20ullj1 with config:\n",
      "\u001b[34m\u001b[1mwandb\u001b[0m: \tlearning_rate: 0.1\n",
      "\u001b[34m\u001b[1mwandb\u001b[0m: \tmax_depth: 10\n",
      "\u001b[34m\u001b[1mwandb\u001b[0m: \tn_estimators: 100\n"
     ]
    },
    {
     "data": {
      "text/html": [
       "Ignoring project 'LGaimers' when running a sweep."
      ],
      "text/plain": [
       "<IPython.core.display.HTML object>"
      ]
     },
     "metadata": {},
     "output_type": "display_data"
    },
    {
     "data": {
      "text/html": [
       "Ignoring entity 'espada105-hanseouniversity' when running a sweep."
      ],
      "text/plain": [
       "<IPython.core.display.HTML object>"
      ]
     },
     "metadata": {},
     "output_type": "display_data"
    },
    {
     "data": {
      "text/html": [
       "Tracking run with wandb version 0.19.6"
      ],
      "text/plain": [
       "<IPython.core.display.HTML object>"
      ]
     },
     "metadata": {},
     "output_type": "display_data"
    },
    {
     "data": {
      "text/html": [
       "Run data is saved locally in <code>c:\\GitHubRepo\\AI_Predicting_Pregnancy_Success\\HongSeongIn\\wandb\\run-20250207_224502-u20ullj1</code>"
      ],
      "text/plain": [
       "<IPython.core.display.HTML object>"
      ]
     },
     "metadata": {},
     "output_type": "display_data"
    },
    {
     "data": {
      "text/html": [
       "Syncing run <strong><a href='https://wandb.ai/espada105-hanseouniversity/LGaimers/runs/u20ullj1' target=\"_blank\">sunny-sweep-17</a></strong> to <a href='https://wandb.ai/espada105-hanseouniversity/LGaimers' target=\"_blank\">Weights & Biases</a> (<a href='https://wandb.me/developer-guide' target=\"_blank\">docs</a>)<br>Sweep page: <a href='https://wandb.ai/espada105-hanseouniversity/LGaimers/sweeps/d6kdsk99' target=\"_blank\">https://wandb.ai/espada105-hanseouniversity/LGaimers/sweeps/d6kdsk99</a>"
      ],
      "text/plain": [
       "<IPython.core.display.HTML object>"
      ]
     },
     "metadata": {},
     "output_type": "display_data"
    },
    {
     "data": {
      "text/html": [
       " View project at <a href='https://wandb.ai/espada105-hanseouniversity/LGaimers' target=\"_blank\">https://wandb.ai/espada105-hanseouniversity/LGaimers</a>"
      ],
      "text/plain": [
       "<IPython.core.display.HTML object>"
      ]
     },
     "metadata": {},
     "output_type": "display_data"
    },
    {
     "data": {
      "text/html": [
       " View sweep at <a href='https://wandb.ai/espada105-hanseouniversity/LGaimers/sweeps/d6kdsk99' target=\"_blank\">https://wandb.ai/espada105-hanseouniversity/LGaimers/sweeps/d6kdsk99</a>"
      ],
      "text/plain": [
       "<IPython.core.display.HTML object>"
      ]
     },
     "metadata": {},
     "output_type": "display_data"
    },
    {
     "data": {
      "text/html": [
       " View run at <a href='https://wandb.ai/espada105-hanseouniversity/LGaimers/runs/u20ullj1' target=\"_blank\">https://wandb.ai/espada105-hanseouniversity/LGaimers/runs/u20ullj1</a>"
      ],
      "text/plain": [
       "<IPython.core.display.HTML object>"
      ]
     },
     "metadata": {},
     "output_type": "display_data"
    },
    {
     "name": "stderr",
     "output_type": "stream",
     "text": [
      "c:\\Users\\tjddl\\AppData\\Local\\Programs\\Python\\Python310\\lib\\site-packages\\sklearn\\utils\\deprecation.py:151: FutureWarning: 'force_all_finite' was renamed to 'ensure_all_finite' in 1.6 and will be removed in 1.8.\n",
      "  warnings.warn(\n",
      "c:\\Users\\tjddl\\AppData\\Local\\Programs\\Python\\Python310\\lib\\site-packages\\sklearn\\utils\\deprecation.py:151: FutureWarning: 'force_all_finite' was renamed to 'ensure_all_finite' in 1.6 and will be removed in 1.8.\n",
      "  warnings.warn(\n",
      "c:\\Users\\tjddl\\AppData\\Local\\Programs\\Python\\Python310\\lib\\site-packages\\sklearn\\utils\\deprecation.py:151: FutureWarning: 'force_all_finite' was renamed to 'ensure_all_finite' in 1.6 and will be removed in 1.8.\n",
      "  warnings.warn(\n",
      "c:\\Users\\tjddl\\AppData\\Local\\Programs\\Python\\Python310\\lib\\site-packages\\sklearn\\utils\\deprecation.py:151: FutureWarning: 'force_all_finite' was renamed to 'ensure_all_finite' in 1.6 and will be removed in 1.8.\n",
      "  warnings.warn(\n",
      "c:\\Users\\tjddl\\AppData\\Local\\Programs\\Python\\Python310\\lib\\site-packages\\sklearn\\utils\\deprecation.py:151: FutureWarning: 'force_all_finite' was renamed to 'ensure_all_finite' in 1.6 and will be removed in 1.8.\n",
      "  warnings.warn(\n",
      "c:\\Users\\tjddl\\AppData\\Local\\Programs\\Python\\Python310\\lib\\site-packages\\sklearn\\utils\\deprecation.py:151: FutureWarning: 'force_all_finite' was renamed to 'ensure_all_finite' in 1.6 and will be removed in 1.8.\n",
      "  warnings.warn(\n",
      "c:\\Users\\tjddl\\AppData\\Local\\Programs\\Python\\Python310\\lib\\site-packages\\sklearn\\utils\\deprecation.py:151: FutureWarning: 'force_all_finite' was renamed to 'ensure_all_finite' in 1.6 and will be removed in 1.8.\n",
      "  warnings.warn(\n",
      "c:\\Users\\tjddl\\AppData\\Local\\Programs\\Python\\Python310\\lib\\site-packages\\sklearn\\utils\\deprecation.py:151: FutureWarning: 'force_all_finite' was renamed to 'ensure_all_finite' in 1.6 and will be removed in 1.8.\n",
      "  warnings.warn(\n",
      "c:\\Users\\tjddl\\AppData\\Local\\Programs\\Python\\Python310\\lib\\site-packages\\sklearn\\utils\\deprecation.py:151: FutureWarning: 'force_all_finite' was renamed to 'ensure_all_finite' in 1.6 and will be removed in 1.8.\n",
      "  warnings.warn(\n"
     ]
    },
    {
     "name": "stdout",
     "output_type": "stream",
     "text": [
      "Mean ROC AUC: 0.7394\n"
     ]
    },
    {
     "name": "stderr",
     "output_type": "stream",
     "text": [
      "c:\\Users\\tjddl\\AppData\\Local\\Programs\\Python\\Python310\\lib\\site-packages\\sklearn\\utils\\deprecation.py:151: FutureWarning: 'force_all_finite' was renamed to 'ensure_all_finite' in 1.6 and will be removed in 1.8.\n",
      "  warnings.warn(\n"
     ]
    },
    {
     "data": {
      "text/html": [],
      "text/plain": [
       "<IPython.core.display.HTML object>"
      ]
     },
     "metadata": {},
     "output_type": "display_data"
    },
    {
     "data": {
      "text/html": [
       "<br>    <style><br>        .wandb-row {<br>            display: flex;<br>            flex-direction: row;<br>            flex-wrap: wrap;<br>            justify-content: flex-start;<br>            width: 100%;<br>        }<br>        .wandb-col {<br>            display: flex;<br>            flex-direction: column;<br>            flex-basis: 100%;<br>            flex: 1;<br>            padding: 10px;<br>        }<br>    </style><br><div class=\"wandb-row\"><div class=\"wandb-col\"><h3>Run history:</h3><br/><table class=\"wandb\"><tr><td>roc_auc</td><td>▁</td></tr></table><br/></div><div class=\"wandb-col\"><h3>Run summary:</h3><br/><table class=\"wandb\"><tr><td>roc_auc</td><td>0.73938</td></tr></table><br/></div></div>"
      ],
      "text/plain": [
       "<IPython.core.display.HTML object>"
      ]
     },
     "metadata": {},
     "output_type": "display_data"
    },
    {
     "data": {
      "text/html": [
       " View run <strong style=\"color:#cdcd00\">sunny-sweep-17</strong> at: <a href='https://wandb.ai/espada105-hanseouniversity/LGaimers/runs/u20ullj1' target=\"_blank\">https://wandb.ai/espada105-hanseouniversity/LGaimers/runs/u20ullj1</a><br> View project at: <a href='https://wandb.ai/espada105-hanseouniversity/LGaimers' target=\"_blank\">https://wandb.ai/espada105-hanseouniversity/LGaimers</a><br>Synced 5 W&B file(s), 0 media file(s), 0 artifact file(s) and 0 other file(s)"
      ],
      "text/plain": [
       "<IPython.core.display.HTML object>"
      ]
     },
     "metadata": {},
     "output_type": "display_data"
    },
    {
     "data": {
      "text/html": [
       "Find logs at: <code>.\\wandb\\run-20250207_224502-u20ullj1\\logs</code>"
      ],
      "text/plain": [
       "<IPython.core.display.HTML object>"
      ]
     },
     "metadata": {},
     "output_type": "display_data"
    },
    {
     "name": "stderr",
     "output_type": "stream",
     "text": [
      "\u001b[34m\u001b[1mwandb\u001b[0m: Sweep Agent: Waiting for job.\n",
      "\u001b[34m\u001b[1mwandb\u001b[0m: Job received.\n",
      "\u001b[34m\u001b[1mwandb\u001b[0m: Agent Starting Run: 8ea6inl9 with config:\n",
      "\u001b[34m\u001b[1mwandb\u001b[0m: \tlearning_rate: 0.1\n",
      "\u001b[34m\u001b[1mwandb\u001b[0m: \tmax_depth: 10\n",
      "\u001b[34m\u001b[1mwandb\u001b[0m: \tn_estimators: 200\n"
     ]
    },
    {
     "data": {
      "text/html": [
       "Ignoring project 'LGaimers' when running a sweep."
      ],
      "text/plain": [
       "<IPython.core.display.HTML object>"
      ]
     },
     "metadata": {},
     "output_type": "display_data"
    },
    {
     "data": {
      "text/html": [
       "Ignoring entity 'espada105-hanseouniversity' when running a sweep."
      ],
      "text/plain": [
       "<IPython.core.display.HTML object>"
      ]
     },
     "metadata": {},
     "output_type": "display_data"
    },
    {
     "data": {
      "text/html": [
       "Tracking run with wandb version 0.19.6"
      ],
      "text/plain": [
       "<IPython.core.display.HTML object>"
      ]
     },
     "metadata": {},
     "output_type": "display_data"
    },
    {
     "data": {
      "text/html": [
       "Run data is saved locally in <code>c:\\GitHubRepo\\AI_Predicting_Pregnancy_Success\\HongSeongIn\\wandb\\run-20250207_224528-8ea6inl9</code>"
      ],
      "text/plain": [
       "<IPython.core.display.HTML object>"
      ]
     },
     "metadata": {},
     "output_type": "display_data"
    },
    {
     "data": {
      "text/html": [
       "Syncing run <strong><a href='https://wandb.ai/espada105-hanseouniversity/LGaimers/runs/8ea6inl9' target=\"_blank\">avid-sweep-18</a></strong> to <a href='https://wandb.ai/espada105-hanseouniversity/LGaimers' target=\"_blank\">Weights & Biases</a> (<a href='https://wandb.me/developer-guide' target=\"_blank\">docs</a>)<br>Sweep page: <a href='https://wandb.ai/espada105-hanseouniversity/LGaimers/sweeps/d6kdsk99' target=\"_blank\">https://wandb.ai/espada105-hanseouniversity/LGaimers/sweeps/d6kdsk99</a>"
      ],
      "text/plain": [
       "<IPython.core.display.HTML object>"
      ]
     },
     "metadata": {},
     "output_type": "display_data"
    },
    {
     "data": {
      "text/html": [
       " View project at <a href='https://wandb.ai/espada105-hanseouniversity/LGaimers' target=\"_blank\">https://wandb.ai/espada105-hanseouniversity/LGaimers</a>"
      ],
      "text/plain": [
       "<IPython.core.display.HTML object>"
      ]
     },
     "metadata": {},
     "output_type": "display_data"
    },
    {
     "data": {
      "text/html": [
       " View sweep at <a href='https://wandb.ai/espada105-hanseouniversity/LGaimers/sweeps/d6kdsk99' target=\"_blank\">https://wandb.ai/espada105-hanseouniversity/LGaimers/sweeps/d6kdsk99</a>"
      ],
      "text/plain": [
       "<IPython.core.display.HTML object>"
      ]
     },
     "metadata": {},
     "output_type": "display_data"
    },
    {
     "data": {
      "text/html": [
       " View run at <a href='https://wandb.ai/espada105-hanseouniversity/LGaimers/runs/8ea6inl9' target=\"_blank\">https://wandb.ai/espada105-hanseouniversity/LGaimers/runs/8ea6inl9</a>"
      ],
      "text/plain": [
       "<IPython.core.display.HTML object>"
      ]
     },
     "metadata": {},
     "output_type": "display_data"
    },
    {
     "name": "stderr",
     "output_type": "stream",
     "text": [
      "c:\\Users\\tjddl\\AppData\\Local\\Programs\\Python\\Python310\\lib\\site-packages\\sklearn\\utils\\deprecation.py:151: FutureWarning: 'force_all_finite' was renamed to 'ensure_all_finite' in 1.6 and will be removed in 1.8.\n",
      "  warnings.warn(\n",
      "c:\\Users\\tjddl\\AppData\\Local\\Programs\\Python\\Python310\\lib\\site-packages\\sklearn\\utils\\deprecation.py:151: FutureWarning: 'force_all_finite' was renamed to 'ensure_all_finite' in 1.6 and will be removed in 1.8.\n",
      "  warnings.warn(\n",
      "c:\\Users\\tjddl\\AppData\\Local\\Programs\\Python\\Python310\\lib\\site-packages\\sklearn\\utils\\deprecation.py:151: FutureWarning: 'force_all_finite' was renamed to 'ensure_all_finite' in 1.6 and will be removed in 1.8.\n",
      "  warnings.warn(\n",
      "c:\\Users\\tjddl\\AppData\\Local\\Programs\\Python\\Python310\\lib\\site-packages\\sklearn\\utils\\deprecation.py:151: FutureWarning: 'force_all_finite' was renamed to 'ensure_all_finite' in 1.6 and will be removed in 1.8.\n",
      "  warnings.warn(\n",
      "c:\\Users\\tjddl\\AppData\\Local\\Programs\\Python\\Python310\\lib\\site-packages\\sklearn\\utils\\deprecation.py:151: FutureWarning: 'force_all_finite' was renamed to 'ensure_all_finite' in 1.6 and will be removed in 1.8.\n",
      "  warnings.warn(\n",
      "c:\\Users\\tjddl\\AppData\\Local\\Programs\\Python\\Python310\\lib\\site-packages\\sklearn\\utils\\deprecation.py:151: FutureWarning: 'force_all_finite' was renamed to 'ensure_all_finite' in 1.6 and will be removed in 1.8.\n",
      "  warnings.warn(\n",
      "c:\\Users\\tjddl\\AppData\\Local\\Programs\\Python\\Python310\\lib\\site-packages\\sklearn\\utils\\deprecation.py:151: FutureWarning: 'force_all_finite' was renamed to 'ensure_all_finite' in 1.6 and will be removed in 1.8.\n",
      "  warnings.warn(\n",
      "c:\\Users\\tjddl\\AppData\\Local\\Programs\\Python\\Python310\\lib\\site-packages\\sklearn\\utils\\deprecation.py:151: FutureWarning: 'force_all_finite' was renamed to 'ensure_all_finite' in 1.6 and will be removed in 1.8.\n",
      "  warnings.warn(\n",
      "c:\\Users\\tjddl\\AppData\\Local\\Programs\\Python\\Python310\\lib\\site-packages\\sklearn\\utils\\deprecation.py:151: FutureWarning: 'force_all_finite' was renamed to 'ensure_all_finite' in 1.6 and will be removed in 1.8.\n",
      "  warnings.warn(\n"
     ]
    },
    {
     "name": "stdout",
     "output_type": "stream",
     "text": [
      "Mean ROC AUC: 0.7388\n"
     ]
    },
    {
     "name": "stderr",
     "output_type": "stream",
     "text": [
      "c:\\Users\\tjddl\\AppData\\Local\\Programs\\Python\\Python310\\lib\\site-packages\\sklearn\\utils\\deprecation.py:151: FutureWarning: 'force_all_finite' was renamed to 'ensure_all_finite' in 1.6 and will be removed in 1.8.\n",
      "  warnings.warn(\n"
     ]
    },
    {
     "data": {
      "text/html": [],
      "text/plain": [
       "<IPython.core.display.HTML object>"
      ]
     },
     "metadata": {},
     "output_type": "display_data"
    },
    {
     "data": {
      "text/html": [
       "<br>    <style><br>        .wandb-row {<br>            display: flex;<br>            flex-direction: row;<br>            flex-wrap: wrap;<br>            justify-content: flex-start;<br>            width: 100%;<br>        }<br>        .wandb-col {<br>            display: flex;<br>            flex-direction: column;<br>            flex-basis: 100%;<br>            flex: 1;<br>            padding: 10px;<br>        }<br>    </style><br><div class=\"wandb-row\"><div class=\"wandb-col\"><h3>Run history:</h3><br/><table class=\"wandb\"><tr><td>roc_auc</td><td>▁</td></tr></table><br/></div><div class=\"wandb-col\"><h3>Run summary:</h3><br/><table class=\"wandb\"><tr><td>roc_auc</td><td>0.73876</td></tr></table><br/></div></div>"
      ],
      "text/plain": [
       "<IPython.core.display.HTML object>"
      ]
     },
     "metadata": {},
     "output_type": "display_data"
    },
    {
     "data": {
      "text/html": [
       " View run <strong style=\"color:#cdcd00\">avid-sweep-18</strong> at: <a href='https://wandb.ai/espada105-hanseouniversity/LGaimers/runs/8ea6inl9' target=\"_blank\">https://wandb.ai/espada105-hanseouniversity/LGaimers/runs/8ea6inl9</a><br> View project at: <a href='https://wandb.ai/espada105-hanseouniversity/LGaimers' target=\"_blank\">https://wandb.ai/espada105-hanseouniversity/LGaimers</a><br>Synced 5 W&B file(s), 0 media file(s), 0 artifact file(s) and 0 other file(s)"
      ],
      "text/plain": [
       "<IPython.core.display.HTML object>"
      ]
     },
     "metadata": {},
     "output_type": "display_data"
    },
    {
     "data": {
      "text/html": [
       "Find logs at: <code>.\\wandb\\run-20250207_224528-8ea6inl9\\logs</code>"
      ],
      "text/plain": [
       "<IPython.core.display.HTML object>"
      ]
     },
     "metadata": {},
     "output_type": "display_data"
    },
    {
     "name": "stderr",
     "output_type": "stream",
     "text": [
      "\u001b[34m\u001b[1mwandb\u001b[0m: Sweep Agent: Waiting for job.\n",
      "\u001b[34m\u001b[1mwandb\u001b[0m: Sweep Agent: Exiting.\n"
     ]
    }
   ],
   "source": [
    "\n",
    "# 1. wandb 로그인 (API key를 이용)\n",
    "wandb.login(key=\"8bab4affd59dd33bd76096b069d74f6dc0abb056\")\n",
    "\n",
    "# 2. 데이터 불러오기 및 전처리\n",
    "train_df = pd.read_csv('train.csv')\n",
    "# test_df = pd.read_csv('test.csv')  # 필요시 불러오기\n",
    "\n",
    "# ID 컬럼 제거 (예시로 'ID', 'id', 'RecordID', 'patient_id' 등)\n",
    "for col in ['id', 'ID', 'RecordID', 'patient_id']:\n",
    "    if col in train_df.columns:\n",
    "        train_df = train_df.drop(col, axis=1)\n",
    "    # if col in test_df.columns:\n",
    "    #     test_df = test_df.drop(col, axis=1)\n",
    "\n",
    "# 타깃과 피처 분리 (타깃 컬럼명이 '임신 성공 여부'라고 가정)\n",
    "target = '임신 성공 여부'\n",
    "X = train_df.drop(target, axis=1)\n",
    "y = train_df[target]\n",
    "\n",
    "# 범주형, 수치형 변수 지정\n",
    "# (아래 목록은 예시이므로 실제 데이터에 맞게 수정하세요)\n",
    "categorical_columns = [\n",
    "    '시술 시기 코드', '시술 당시 나이', '시술 유형', '특정 시술 유형',  # \"특정 시술 유형\"은 문자열이므로 반드시 범주형에 포함!\n",
    "    '배란 자극 여부', '배란 유도 유형', '단일 배아 이식 여부',\n",
    "    '착상 전 유전 검사 사용 여부', '착상 전 유전 진단 사용 여부',\n",
    "    '남성 주 불임 원인', '남성 부 불임 원인', '여성 주 불임 원인',\n",
    "    '여성 부 불임 원인', '부부 주 불임 원인', '부부 부 불임 원인',\n",
    "    '불명확 불임 원인', '불임 원인 - 난관 질환', '불임 원인 - 남성 요인',\n",
    "    '불임 원인 - 배란 장애', '불임 원인 - 여성 요인', '불임 원인 - 자궁경부 문제',\n",
    "    '불임 원인 - 자궁내막증', '불임 원인 - 정자 농도', '불임 원인 - 정자 면역학적 요인',\n",
    "    '불임 원인 - 정자 운동성', '불임 원인 - 정자 형태', '배아 생성 주요 이유',\n",
    "    '총 시술 횟수', '클리닉 내 총 시술 횟수', 'IVF 시술 횟수', 'DI 시술 횟수',\n",
    "    '총 임신 횟수', 'IVF 임신 횟수', 'DI 임신 횟수', '총 출산 횟수',\n",
    "    'IVF 출산 횟수', 'DI 출산 횟수', '난자 출처', '정자 출처',\n",
    "    '난자 기증자 나이', '정자 기증자 나이', '동결 배아 사용 여부',\n",
    "    '신선 배아 사용 여부', '기증 배아 사용 여부', '대리모 여부',\n",
    "    'PGD 시술 여부', 'PGS 시술 여부'\n",
    "]\n",
    "\n",
    "numerical_columns = [col for col in X.columns if col not in categorical_columns]\n",
    "\n",
    "# 전처리 파이프라인\n",
    "preprocessor = ColumnTransformer(\n",
    "    transformers=[\n",
    "        ('num', StandardScaler(), numerical_columns),\n",
    "        ('cat', OneHotEncoder(handle_unknown='ignore'), categorical_columns)\n",
    "    ]\n",
    ")\n",
    "\n",
    "# 3. wandb 스윕(run)을 위한 함수 정의\n",
    "def run():\n",
    "    # 각 run마다 wandb 초기화 (sweep 에이전트가 호출)\n",
    "    wandb.init(project=\"LGaimers\", entity=\"espada105-hanseouniversity\")\n",
    "    config = wandb.config\n",
    "\n",
    "    # 모델 생성: wandb.config에서 하이퍼파라미터 값을 가져옴\n",
    "    model = LGBMClassifier(\n",
    "        n_estimators=int(config.n_estimators),\n",
    "        learning_rate=config.learning_rate,\n",
    "        max_depth=int(config.max_depth),\n",
    "        random_state=42\n",
    "    )\n",
    "\n",
    "    # 파이프라인 구성 (전처리 + 분류기)\n",
    "    pipeline = Pipeline([\n",
    "        ('preprocessor', preprocessor),\n",
    "        ('classifier', model)\n",
    "    ])\n",
    "\n",
    "    # 교차 검증 (5-fold)로 성능 평가\n",
    "    cv = StratifiedKFold(n_splits=5, shuffle=True, random_state=42)\n",
    "    scores = cross_val_score(pipeline, X, y, cv=cv, scoring='roc_auc')\n",
    "    mean_score = np.mean(scores)\n",
    "    \n",
    "    # 결과 로깅\n",
    "    wandb.log({'roc_auc': mean_score})\n",
    "    print(f\"Mean ROC AUC: {mean_score:.4f}\")\n",
    "    wandb.finish()\n",
    "\n",
    "# 4. 스윕 설정 구성\n",
    "sweep_config = {\n",
    "    'method': 'grid',  # 'grid', 'random', 'bayes'\n",
    "    'metric': {\n",
    "        'name': 'roc_auc',\n",
    "        'goal': 'maximize'\n",
    "    },\n",
    "    'parameters': {\n",
    "        'n_estimators': {\n",
    "            'values': [100, 200]\n",
    "        },\n",
    "        'learning_rate': {\n",
    "            'values': [0.01, 0.05, 0.1]\n",
    "        },\n",
    "        'max_depth': {\n",
    "            'values': [5, 7, 10]\n",
    "        }\n",
    "    }\n",
    "}\n",
    "\n",
    "# 스윕 생성 (sweep_id 반환)\n",
    "sweep_id = wandb.sweep(sweep_config, project=\"LGaimers\", entity=\"espada105-hanseouniversity\")\n",
    "print(\"Sweep ID:\", sweep_id)\n",
    "\n",
    "# 5. 에이전트를 사용해 스윕 실행 (예: 10번의 실험)\n",
    "wandb.agent(sweep_id, function=run, count=20)\n"
   ]
  },
  {
   "cell_type": "markdown",
   "metadata": {},
   "source": [
    "# 2차"
   ]
  },
  {
   "cell_type": "code",
   "execution_count": 3,
   "metadata": {},
   "outputs": [
    {
     "name": "stderr",
     "output_type": "stream",
     "text": [
      "\u001b[34m\u001b[1mwandb\u001b[0m: \u001b[33mWARNING\u001b[0m If you're specifying your api key in code, ensure this code is not shared publicly.\n",
      "\u001b[34m\u001b[1mwandb\u001b[0m: \u001b[33mWARNING\u001b[0m Consider setting the WANDB_API_KEY environment variable, or running `wandb login` from the command line.\n",
      "\u001b[34m\u001b[1mwandb\u001b[0m: Appending key for api.wandb.ai to your netrc file: C:\\Users\\tjddl\\_netrc\n"
     ]
    },
    {
     "name": "stdout",
     "output_type": "stream",
     "text": [
      "Create sweep with ID: dem4d8yd\n",
      "Sweep URL: https://wandb.ai/espada105-hanseouniversity/LGaimers/sweeps/dem4d8yd\n",
      "Sweep ID: dem4d8yd\n"
     ]
    },
    {
     "name": "stderr",
     "output_type": "stream",
     "text": [
      "\u001b[34m\u001b[1mwandb\u001b[0m: Agent Starting Run: wqdcqzr7 with config:\n",
      "\u001b[34m\u001b[1mwandb\u001b[0m: \tlearning_rate: 0.01\n",
      "\u001b[34m\u001b[1mwandb\u001b[0m: \tmax_depth: 10\n",
      "\u001b[34m\u001b[1mwandb\u001b[0m: \tn_estimators: 1000\n",
      "\u001b[34m\u001b[1mwandb\u001b[0m: \trandom_state: 42\n",
      "\u001b[34m\u001b[1mwandb\u001b[0m: \tstopping_rounds: 100\n",
      "\u001b[34m\u001b[1mwandb\u001b[0m: \ttest_size: 0.2\n"
     ]
    },
    {
     "data": {
      "text/html": [
       "Ignoring project 'LGaimers' when running a sweep."
      ],
      "text/plain": [
       "<IPython.core.display.HTML object>"
      ]
     },
     "metadata": {},
     "output_type": "display_data"
    },
    {
     "data": {
      "text/html": [
       "Ignoring entity 'espada105-hanseouniversity' when running a sweep."
      ],
      "text/plain": [
       "<IPython.core.display.HTML object>"
      ]
     },
     "metadata": {},
     "output_type": "display_data"
    },
    {
     "data": {
      "text/html": [
       "Tracking run with wandb version 0.19.6"
      ],
      "text/plain": [
       "<IPython.core.display.HTML object>"
      ]
     },
     "metadata": {},
     "output_type": "display_data"
    },
    {
     "data": {
      "text/html": [
       "Run data is saved locally in <code>c:\\GitHubRepo\\AI_Predicting_Pregnancy_Success\\HongSeongIn\\wandb\\run-20250208_013508-wqdcqzr7</code>"
      ],
      "text/plain": [
       "<IPython.core.display.HTML object>"
      ]
     },
     "metadata": {},
     "output_type": "display_data"
    },
    {
     "data": {
      "text/html": [
       "Syncing run <strong><a href='https://wandb.ai/espada105-hanseouniversity/LGaimers/runs/wqdcqzr7' target=\"_blank\">dainty-sweep-1</a></strong> to <a href='https://wandb.ai/espada105-hanseouniversity/LGaimers' target=\"_blank\">Weights & Biases</a> (<a href='https://wandb.me/developer-guide' target=\"_blank\">docs</a>)<br>Sweep page: <a href='https://wandb.ai/espada105-hanseouniversity/LGaimers/sweeps/dem4d8yd' target=\"_blank\">https://wandb.ai/espada105-hanseouniversity/LGaimers/sweeps/dem4d8yd</a>"
      ],
      "text/plain": [
       "<IPython.core.display.HTML object>"
      ]
     },
     "metadata": {},
     "output_type": "display_data"
    },
    {
     "data": {
      "text/html": [
       " View project at <a href='https://wandb.ai/espada105-hanseouniversity/LGaimers' target=\"_blank\">https://wandb.ai/espada105-hanseouniversity/LGaimers</a>"
      ],
      "text/plain": [
       "<IPython.core.display.HTML object>"
      ]
     },
     "metadata": {},
     "output_type": "display_data"
    },
    {
     "data": {
      "text/html": [
       " View sweep at <a href='https://wandb.ai/espada105-hanseouniversity/LGaimers/sweeps/dem4d8yd' target=\"_blank\">https://wandb.ai/espada105-hanseouniversity/LGaimers/sweeps/dem4d8yd</a>"
      ],
      "text/plain": [
       "<IPython.core.display.HTML object>"
      ]
     },
     "metadata": {},
     "output_type": "display_data"
    },
    {
     "data": {
      "text/html": [
       " View run at <a href='https://wandb.ai/espada105-hanseouniversity/LGaimers/runs/wqdcqzr7' target=\"_blank\">https://wandb.ai/espada105-hanseouniversity/LGaimers/runs/wqdcqzr7</a>"
      ],
      "text/plain": [
       "<IPython.core.display.HTML object>"
      ]
     },
     "metadata": {},
     "output_type": "display_data"
    },
    {
     "name": "stdout",
     "output_type": "stream",
     "text": [
      "Training until validation scores don't improve for 100 rounds\n",
      "Did not meet early stopping. Best iteration is:\n",
      "[949]\tvalid_0's binary_logloss: 0.485906\n"
     ]
    },
    {
     "name": "stderr",
     "output_type": "stream",
     "text": [
      "c:\\Users\\tjddl\\AppData\\Local\\Programs\\Python\\Python310\\lib\\site-packages\\sklearn\\utils\\validation.py:2732: UserWarning: X has feature names, but SelectFromModel was fitted without feature names\n",
      "  warnings.warn(\n",
      "c:\\Users\\tjddl\\AppData\\Local\\Programs\\Python\\Python310\\lib\\site-packages\\sklearn\\utils\\validation.py:2732: UserWarning: X has feature names, but SelectFromModel was fitted without feature names\n",
      "  warnings.warn(\n",
      "c:\\Users\\tjddl\\AppData\\Local\\Programs\\Python\\Python310\\lib\\site-packages\\sklearn\\utils\\deprecation.py:151: FutureWarning: 'force_all_finite' was renamed to 'ensure_all_finite' in 1.6 and will be removed in 1.8.\n",
      "  warnings.warn(\n"
     ]
    },
    {
     "name": "stdout",
     "output_type": "stream",
     "text": [
      "Training until validation scores don't improve for 100 rounds\n",
      "[10]\tvalid_0's binary_logloss: 0.557659\n",
      "[20]\tvalid_0's binary_logloss: 0.548339\n",
      "[30]\tvalid_0's binary_logloss: 0.540488\n",
      "[40]\tvalid_0's binary_logloss: 0.533832\n",
      "[50]\tvalid_0's binary_logloss: 0.528117\n",
      "[60]\tvalid_0's binary_logloss: 0.523202\n",
      "[70]\tvalid_0's binary_logloss: 0.518968\n",
      "[80]\tvalid_0's binary_logloss: 0.515291\n",
      "[90]\tvalid_0's binary_logloss: 0.512077\n",
      "[100]\tvalid_0's binary_logloss: 0.509274\n",
      "[110]\tvalid_0's binary_logloss: 0.506829\n",
      "[120]\tvalid_0's binary_logloss: 0.504677\n",
      "[130]\tvalid_0's binary_logloss: 0.502781\n",
      "[140]\tvalid_0's binary_logloss: 0.501087\n",
      "[150]\tvalid_0's binary_logloss: 0.499581\n",
      "[160]\tvalid_0's binary_logloss: 0.498259\n",
      "[170]\tvalid_0's binary_logloss: 0.49708\n",
      "[180]\tvalid_0's binary_logloss: 0.496036\n",
      "[190]\tvalid_0's binary_logloss: 0.495096\n",
      "[200]\tvalid_0's binary_logloss: 0.494264\n",
      "[210]\tvalid_0's binary_logloss: 0.493512\n",
      "[220]\tvalid_0's binary_logloss: 0.492837\n",
      "[230]\tvalid_0's binary_logloss: 0.492232\n",
      "[240]\tvalid_0's binary_logloss: 0.491693\n",
      "[250]\tvalid_0's binary_logloss: 0.491192\n",
      "[260]\tvalid_0's binary_logloss: 0.490735\n",
      "[270]\tvalid_0's binary_logloss: 0.490323\n",
      "[280]\tvalid_0's binary_logloss: 0.489953\n",
      "[290]\tvalid_0's binary_logloss: 0.489604\n",
      "[300]\tvalid_0's binary_logloss: 0.489298\n",
      "[310]\tvalid_0's binary_logloss: 0.489024\n",
      "[320]\tvalid_0's binary_logloss: 0.488772\n",
      "[330]\tvalid_0's binary_logloss: 0.488552\n",
      "[340]\tvalid_0's binary_logloss: 0.488347\n",
      "[350]\tvalid_0's binary_logloss: 0.488171\n",
      "[360]\tvalid_0's binary_logloss: 0.488\n",
      "[370]\tvalid_0's binary_logloss: 0.487837\n",
      "[380]\tvalid_0's binary_logloss: 0.487683\n",
      "[390]\tvalid_0's binary_logloss: 0.487529\n",
      "[400]\tvalid_0's binary_logloss: 0.487398\n",
      "[410]\tvalid_0's binary_logloss: 0.487275\n",
      "[420]\tvalid_0's binary_logloss: 0.487162\n",
      "[430]\tvalid_0's binary_logloss: 0.487065\n",
      "[440]\tvalid_0's binary_logloss: 0.486978\n",
      "[450]\tvalid_0's binary_logloss: 0.486896\n",
      "[460]\tvalid_0's binary_logloss: 0.486821\n",
      "[470]\tvalid_0's binary_logloss: 0.486755\n",
      "[480]\tvalid_0's binary_logloss: 0.486688\n",
      "[490]\tvalid_0's binary_logloss: 0.486629\n",
      "[500]\tvalid_0's binary_logloss: 0.486578\n",
      "[510]\tvalid_0's binary_logloss: 0.486536\n",
      "[520]\tvalid_0's binary_logloss: 0.4865\n",
      "[530]\tvalid_0's binary_logloss: 0.486461\n",
      "[540]\tvalid_0's binary_logloss: 0.486421\n",
      "[550]\tvalid_0's binary_logloss: 0.486395\n",
      "[560]\tvalid_0's binary_logloss: 0.486365\n",
      "[570]\tvalid_0's binary_logloss: 0.486325\n",
      "[580]\tvalid_0's binary_logloss: 0.486289\n",
      "[590]\tvalid_0's binary_logloss: 0.48626\n",
      "[600]\tvalid_0's binary_logloss: 0.486232\n",
      "[610]\tvalid_0's binary_logloss: 0.486217\n",
      "[620]\tvalid_0's binary_logloss: 0.486188\n",
      "[630]\tvalid_0's binary_logloss: 0.486159\n",
      "[640]\tvalid_0's binary_logloss: 0.486144\n",
      "[650]\tvalid_0's binary_logloss: 0.486127\n",
      "[660]\tvalid_0's binary_logloss: 0.486112\n",
      "[670]\tvalid_0's binary_logloss: 0.486093\n",
      "[680]\tvalid_0's binary_logloss: 0.486077\n",
      "[690]\tvalid_0's binary_logloss: 0.486063\n",
      "[700]\tvalid_0's binary_logloss: 0.486051\n",
      "[710]\tvalid_0's binary_logloss: 0.486035\n",
      "[720]\tvalid_0's binary_logloss: 0.486016\n",
      "[730]\tvalid_0's binary_logloss: 0.486001\n",
      "[740]\tvalid_0's binary_logloss: 0.485982\n",
      "[750]\tvalid_0's binary_logloss: 0.485971\n",
      "[760]\tvalid_0's binary_logloss: 0.485958\n",
      "[770]\tvalid_0's binary_logloss: 0.485948\n",
      "[780]\tvalid_0's binary_logloss: 0.485935\n",
      "[790]\tvalid_0's binary_logloss: 0.485935\n",
      "[800]\tvalid_0's binary_logloss: 0.485923\n",
      "[810]\tvalid_0's binary_logloss: 0.485918\n",
      "[820]\tvalid_0's binary_logloss: 0.485911\n",
      "[830]\tvalid_0's binary_logloss: 0.485904\n",
      "[840]\tvalid_0's binary_logloss: 0.485895\n",
      "[850]\tvalid_0's binary_logloss: 0.485887\n",
      "[860]\tvalid_0's binary_logloss: 0.485879\n",
      "[870]\tvalid_0's binary_logloss: 0.485871\n",
      "[880]\tvalid_0's binary_logloss: 0.485865\n",
      "[890]\tvalid_0's binary_logloss: 0.48586\n",
      "[900]\tvalid_0's binary_logloss: 0.485855\n",
      "[910]\tvalid_0's binary_logloss: 0.485853\n",
      "[920]\tvalid_0's binary_logloss: 0.485847\n",
      "[930]\tvalid_0's binary_logloss: 0.485844\n",
      "[940]\tvalid_0's binary_logloss: 0.485843\n",
      "[950]\tvalid_0's binary_logloss: 0.485841\n",
      "[960]\tvalid_0's binary_logloss: 0.485838\n",
      "[970]\tvalid_0's binary_logloss: 0.485834\n",
      "[980]\tvalid_0's binary_logloss: 0.485828\n",
      "[990]\tvalid_0's binary_logloss: 0.485824\n",
      "[1000]\tvalid_0's binary_logloss: 0.485822\n",
      "Did not meet early stopping. Best iteration is:\n",
      "[993]\tvalid_0's binary_logloss: 0.485822\n"
     ]
    },
    {
     "name": "stderr",
     "output_type": "stream",
     "text": [
      "c:\\Users\\tjddl\\AppData\\Local\\Programs\\Python\\Python310\\lib\\site-packages\\sklearn\\utils\\deprecation.py:151: FutureWarning: 'force_all_finite' was renamed to 'ensure_all_finite' in 1.6 and will be removed in 1.8.\n",
      "  warnings.warn(\n"
     ]
    },
    {
     "name": "stdout",
     "output_type": "stream",
     "text": [
      "최종 모델 ROC AUC: 0.739263\n"
     ]
    },
    {
     "data": {
      "text/html": [],
      "text/plain": [
       "<IPython.core.display.HTML object>"
      ]
     },
     "metadata": {},
     "output_type": "display_data"
    },
    {
     "data": {
      "text/html": [
       "<br>    <style><br>        .wandb-row {<br>            display: flex;<br>            flex-direction: row;<br>            flex-wrap: wrap;<br>            justify-content: flex-start;<br>            width: 100%;<br>        }<br>        .wandb-col {<br>            display: flex;<br>            flex-direction: column;<br>            flex-basis: 100%;<br>            flex: 1;<br>            padding: 10px;<br>        }<br>    </style><br><div class=\"wandb-row\"><div class=\"wandb-col\"><h3>Run history:</h3><br/><table class=\"wandb\"><tr><td>final_validation_roc_auc</td><td>▁</td></tr></table><br/></div><div class=\"wandb-col\"><h3>Run summary:</h3><br/><table class=\"wandb\"><tr><td>final_validation_roc_auc</td><td>0.73926</td></tr></table><br/></div></div>"
      ],
      "text/plain": [
       "<IPython.core.display.HTML object>"
      ]
     },
     "metadata": {},
     "output_type": "display_data"
    },
    {
     "data": {
      "text/html": [
       " View run <strong style=\"color:#cdcd00\">dainty-sweep-1</strong> at: <a href='https://wandb.ai/espada105-hanseouniversity/LGaimers/runs/wqdcqzr7' target=\"_blank\">https://wandb.ai/espada105-hanseouniversity/LGaimers/runs/wqdcqzr7</a><br> View project at: <a href='https://wandb.ai/espada105-hanseouniversity/LGaimers' target=\"_blank\">https://wandb.ai/espada105-hanseouniversity/LGaimers</a><br>Synced 5 W&B file(s), 0 media file(s), 0 artifact file(s) and 0 other file(s)"
      ],
      "text/plain": [
       "<IPython.core.display.HTML object>"
      ]
     },
     "metadata": {},
     "output_type": "display_data"
    },
    {
     "data": {
      "text/html": [
       "Find logs at: <code>.\\wandb\\run-20250208_013508-wqdcqzr7\\logs</code>"
      ],
      "text/plain": [
       "<IPython.core.display.HTML object>"
      ]
     },
     "metadata": {},
     "output_type": "display_data"
    },
    {
     "name": "stderr",
     "output_type": "stream",
     "text": [
      "\u001b[34m\u001b[1mwandb\u001b[0m: Agent Starting Run: m0zvgkdl with config:\n",
      "\u001b[34m\u001b[1mwandb\u001b[0m: \tlearning_rate: 0.01\n",
      "\u001b[34m\u001b[1mwandb\u001b[0m: \tmax_depth: 10\n",
      "\u001b[34m\u001b[1mwandb\u001b[0m: \tn_estimators: 1500\n",
      "\u001b[34m\u001b[1mwandb\u001b[0m: \trandom_state: 42\n",
      "\u001b[34m\u001b[1mwandb\u001b[0m: \tstopping_rounds: 100\n",
      "\u001b[34m\u001b[1mwandb\u001b[0m: \ttest_size: 0.2\n"
     ]
    },
    {
     "data": {
      "text/html": [
       "Ignoring project 'LGaimers' when running a sweep."
      ],
      "text/plain": [
       "<IPython.core.display.HTML object>"
      ]
     },
     "metadata": {},
     "output_type": "display_data"
    },
    {
     "data": {
      "text/html": [
       "Ignoring entity 'espada105-hanseouniversity' when running a sweep."
      ],
      "text/plain": [
       "<IPython.core.display.HTML object>"
      ]
     },
     "metadata": {},
     "output_type": "display_data"
    },
    {
     "data": {
      "text/html": [
       "Tracking run with wandb version 0.19.6"
      ],
      "text/plain": [
       "<IPython.core.display.HTML object>"
      ]
     },
     "metadata": {},
     "output_type": "display_data"
    },
    {
     "data": {
      "text/html": [
       "Run data is saved locally in <code>c:\\GitHubRepo\\AI_Predicting_Pregnancy_Success\\HongSeongIn\\wandb\\run-20250208_013529-m0zvgkdl</code>"
      ],
      "text/plain": [
       "<IPython.core.display.HTML object>"
      ]
     },
     "metadata": {},
     "output_type": "display_data"
    },
    {
     "data": {
      "text/html": [
       "Syncing run <strong><a href='https://wandb.ai/espada105-hanseouniversity/LGaimers/runs/m0zvgkdl' target=\"_blank\">charmed-sweep-2</a></strong> to <a href='https://wandb.ai/espada105-hanseouniversity/LGaimers' target=\"_blank\">Weights & Biases</a> (<a href='https://wandb.me/developer-guide' target=\"_blank\">docs</a>)<br>Sweep page: <a href='https://wandb.ai/espada105-hanseouniversity/LGaimers/sweeps/dem4d8yd' target=\"_blank\">https://wandb.ai/espada105-hanseouniversity/LGaimers/sweeps/dem4d8yd</a>"
      ],
      "text/plain": [
       "<IPython.core.display.HTML object>"
      ]
     },
     "metadata": {},
     "output_type": "display_data"
    },
    {
     "data": {
      "text/html": [
       " View project at <a href='https://wandb.ai/espada105-hanseouniversity/LGaimers' target=\"_blank\">https://wandb.ai/espada105-hanseouniversity/LGaimers</a>"
      ],
      "text/plain": [
       "<IPython.core.display.HTML object>"
      ]
     },
     "metadata": {},
     "output_type": "display_data"
    },
    {
     "data": {
      "text/html": [
       " View sweep at <a href='https://wandb.ai/espada105-hanseouniversity/LGaimers/sweeps/dem4d8yd' target=\"_blank\">https://wandb.ai/espada105-hanseouniversity/LGaimers/sweeps/dem4d8yd</a>"
      ],
      "text/plain": [
       "<IPython.core.display.HTML object>"
      ]
     },
     "metadata": {},
     "output_type": "display_data"
    },
    {
     "data": {
      "text/html": [
       " View run at <a href='https://wandb.ai/espada105-hanseouniversity/LGaimers/runs/m0zvgkdl' target=\"_blank\">https://wandb.ai/espada105-hanseouniversity/LGaimers/runs/m0zvgkdl</a>"
      ],
      "text/plain": [
       "<IPython.core.display.HTML object>"
      ]
     },
     "metadata": {},
     "output_type": "display_data"
    },
    {
     "name": "stdout",
     "output_type": "stream",
     "text": [
      "Training until validation scores don't improve for 100 rounds\n",
      "Early stopping, best iteration is:\n",
      "[1031]\tvalid_0's binary_logloss: 0.485904\n"
     ]
    },
    {
     "name": "stderr",
     "output_type": "stream",
     "text": [
      "c:\\Users\\tjddl\\AppData\\Local\\Programs\\Python\\Python310\\lib\\site-packages\\sklearn\\utils\\validation.py:2732: UserWarning: X has feature names, but SelectFromModel was fitted without feature names\n",
      "  warnings.warn(\n",
      "c:\\Users\\tjddl\\AppData\\Local\\Programs\\Python\\Python310\\lib\\site-packages\\sklearn\\utils\\validation.py:2732: UserWarning: X has feature names, but SelectFromModel was fitted without feature names\n",
      "  warnings.warn(\n",
      "c:\\Users\\tjddl\\AppData\\Local\\Programs\\Python\\Python310\\lib\\site-packages\\sklearn\\utils\\deprecation.py:151: FutureWarning: 'force_all_finite' was renamed to 'ensure_all_finite' in 1.6 and will be removed in 1.8.\n",
      "  warnings.warn(\n"
     ]
    },
    {
     "name": "stdout",
     "output_type": "stream",
     "text": [
      "Training until validation scores don't improve for 100 rounds\n",
      "[10]\tvalid_0's binary_logloss: 0.557659\n",
      "[20]\tvalid_0's binary_logloss: 0.548339\n",
      "[30]\tvalid_0's binary_logloss: 0.540488\n",
      "[40]\tvalid_0's binary_logloss: 0.533832\n",
      "[50]\tvalid_0's binary_logloss: 0.528117\n",
      "[60]\tvalid_0's binary_logloss: 0.523202\n",
      "[70]\tvalid_0's binary_logloss: 0.518968\n",
      "[80]\tvalid_0's binary_logloss: 0.515291\n",
      "[90]\tvalid_0's binary_logloss: 0.512077\n",
      "[100]\tvalid_0's binary_logloss: 0.509274\n",
      "[110]\tvalid_0's binary_logloss: 0.506829\n",
      "[120]\tvalid_0's binary_logloss: 0.504677\n",
      "[130]\tvalid_0's binary_logloss: 0.502781\n",
      "[140]\tvalid_0's binary_logloss: 0.501087\n",
      "[150]\tvalid_0's binary_logloss: 0.499581\n",
      "[160]\tvalid_0's binary_logloss: 0.498259\n",
      "[170]\tvalid_0's binary_logloss: 0.49708\n",
      "[180]\tvalid_0's binary_logloss: 0.496036\n",
      "[190]\tvalid_0's binary_logloss: 0.495096\n",
      "[200]\tvalid_0's binary_logloss: 0.494264\n",
      "[210]\tvalid_0's binary_logloss: 0.493512\n",
      "[220]\tvalid_0's binary_logloss: 0.492837\n",
      "[230]\tvalid_0's binary_logloss: 0.492232\n",
      "[240]\tvalid_0's binary_logloss: 0.491693\n",
      "[250]\tvalid_0's binary_logloss: 0.491192\n",
      "[260]\tvalid_0's binary_logloss: 0.490735\n",
      "[270]\tvalid_0's binary_logloss: 0.490323\n",
      "[280]\tvalid_0's binary_logloss: 0.489953\n",
      "[290]\tvalid_0's binary_logloss: 0.489604\n",
      "[300]\tvalid_0's binary_logloss: 0.489298\n",
      "[310]\tvalid_0's binary_logloss: 0.489024\n",
      "[320]\tvalid_0's binary_logloss: 0.488772\n",
      "[330]\tvalid_0's binary_logloss: 0.488552\n",
      "[340]\tvalid_0's binary_logloss: 0.488347\n",
      "[350]\tvalid_0's binary_logloss: 0.488171\n",
      "[360]\tvalid_0's binary_logloss: 0.488\n",
      "[370]\tvalid_0's binary_logloss: 0.487837\n",
      "[380]\tvalid_0's binary_logloss: 0.487683\n",
      "[390]\tvalid_0's binary_logloss: 0.487529\n",
      "[400]\tvalid_0's binary_logloss: 0.487398\n",
      "[410]\tvalid_0's binary_logloss: 0.487275\n",
      "[420]\tvalid_0's binary_logloss: 0.487162\n",
      "[430]\tvalid_0's binary_logloss: 0.487065\n",
      "[440]\tvalid_0's binary_logloss: 0.486978\n",
      "[450]\tvalid_0's binary_logloss: 0.486896\n",
      "[460]\tvalid_0's binary_logloss: 0.486821\n",
      "[470]\tvalid_0's binary_logloss: 0.486755\n",
      "[480]\tvalid_0's binary_logloss: 0.486688\n",
      "[490]\tvalid_0's binary_logloss: 0.486629\n",
      "[500]\tvalid_0's binary_logloss: 0.486578\n",
      "[510]\tvalid_0's binary_logloss: 0.486536\n",
      "[520]\tvalid_0's binary_logloss: 0.4865\n",
      "[530]\tvalid_0's binary_logloss: 0.486461\n",
      "[540]\tvalid_0's binary_logloss: 0.486421\n",
      "[550]\tvalid_0's binary_logloss: 0.486395\n",
      "[560]\tvalid_0's binary_logloss: 0.486365\n",
      "[570]\tvalid_0's binary_logloss: 0.486325\n",
      "[580]\tvalid_0's binary_logloss: 0.486289\n",
      "[590]\tvalid_0's binary_logloss: 0.48626\n",
      "[600]\tvalid_0's binary_logloss: 0.486232\n",
      "[610]\tvalid_0's binary_logloss: 0.486217\n",
      "[620]\tvalid_0's binary_logloss: 0.486188\n",
      "[630]\tvalid_0's binary_logloss: 0.486159\n",
      "[640]\tvalid_0's binary_logloss: 0.486144\n",
      "[650]\tvalid_0's binary_logloss: 0.486127\n",
      "[660]\tvalid_0's binary_logloss: 0.486112\n",
      "[670]\tvalid_0's binary_logloss: 0.486093\n",
      "[680]\tvalid_0's binary_logloss: 0.486077\n",
      "[690]\tvalid_0's binary_logloss: 0.486063\n",
      "[700]\tvalid_0's binary_logloss: 0.486051\n",
      "[710]\tvalid_0's binary_logloss: 0.486035\n",
      "[720]\tvalid_0's binary_logloss: 0.486016\n",
      "[730]\tvalid_0's binary_logloss: 0.486001\n",
      "[740]\tvalid_0's binary_logloss: 0.485982\n",
      "[750]\tvalid_0's binary_logloss: 0.485971\n",
      "[760]\tvalid_0's binary_logloss: 0.485958\n",
      "[770]\tvalid_0's binary_logloss: 0.485948\n",
      "[780]\tvalid_0's binary_logloss: 0.485935\n",
      "[790]\tvalid_0's binary_logloss: 0.485935\n",
      "[800]\tvalid_0's binary_logloss: 0.485923\n",
      "[810]\tvalid_0's binary_logloss: 0.485918\n",
      "[820]\tvalid_0's binary_logloss: 0.485911\n",
      "[830]\tvalid_0's binary_logloss: 0.485904\n",
      "[840]\tvalid_0's binary_logloss: 0.485895\n",
      "[850]\tvalid_0's binary_logloss: 0.485887\n",
      "[860]\tvalid_0's binary_logloss: 0.485879\n",
      "[870]\tvalid_0's binary_logloss: 0.485871\n",
      "[880]\tvalid_0's binary_logloss: 0.485865\n",
      "[890]\tvalid_0's binary_logloss: 0.48586\n",
      "[900]\tvalid_0's binary_logloss: 0.485855\n",
      "[910]\tvalid_0's binary_logloss: 0.485853\n",
      "[920]\tvalid_0's binary_logloss: 0.485847\n",
      "[930]\tvalid_0's binary_logloss: 0.485844\n",
      "[940]\tvalid_0's binary_logloss: 0.485843\n",
      "[950]\tvalid_0's binary_logloss: 0.485841\n",
      "[960]\tvalid_0's binary_logloss: 0.485838\n",
      "[970]\tvalid_0's binary_logloss: 0.485834\n",
      "[980]\tvalid_0's binary_logloss: 0.485828\n",
      "[990]\tvalid_0's binary_logloss: 0.485824\n",
      "[1000]\tvalid_0's binary_logloss: 0.485822\n",
      "[1010]\tvalid_0's binary_logloss: 0.485822\n",
      "[1020]\tvalid_0's binary_logloss: 0.48582\n",
      "[1030]\tvalid_0's binary_logloss: 0.485814\n",
      "[1040]\tvalid_0's binary_logloss: 0.485814\n",
      "[1050]\tvalid_0's binary_logloss: 0.485815\n",
      "[1060]\tvalid_0's binary_logloss: 0.485813\n",
      "[1070]\tvalid_0's binary_logloss: 0.485813\n",
      "[1080]\tvalid_0's binary_logloss: 0.485811\n",
      "[1090]\tvalid_0's binary_logloss: 0.48581\n",
      "[1100]\tvalid_0's binary_logloss: 0.485812\n",
      "[1110]\tvalid_0's binary_logloss: 0.485814\n",
      "[1120]\tvalid_0's binary_logloss: 0.485816\n",
      "[1130]\tvalid_0's binary_logloss: 0.485814\n",
      "[1140]\tvalid_0's binary_logloss: 0.485817\n",
      "[1150]\tvalid_0's binary_logloss: 0.485811\n",
      "[1160]\tvalid_0's binary_logloss: 0.485807\n",
      "[1170]\tvalid_0's binary_logloss: 0.48581\n",
      "[1180]\tvalid_0's binary_logloss: 0.485811\n",
      "[1190]\tvalid_0's binary_logloss: 0.485812\n",
      "[1200]\tvalid_0's binary_logloss: 0.485807\n",
      "[1210]\tvalid_0's binary_logloss: 0.485794\n",
      "[1220]\tvalid_0's binary_logloss: 0.485799\n",
      "[1230]\tvalid_0's binary_logloss: 0.485798\n",
      "[1240]\tvalid_0's binary_logloss: 0.485802\n",
      "[1250]\tvalid_0's binary_logloss: 0.485802\n",
      "[1260]\tvalid_0's binary_logloss: 0.485806\n",
      "[1270]\tvalid_0's binary_logloss: 0.485805\n",
      "[1280]\tvalid_0's binary_logloss: 0.485806\n",
      "[1290]\tvalid_0's binary_logloss: 0.485813\n",
      "[1300]\tvalid_0's binary_logloss: 0.485819\n",
      "[1310]\tvalid_0's binary_logloss: 0.485827\n",
      "Early stopping, best iteration is:\n",
      "[1210]\tvalid_0's binary_logloss: 0.485794\n"
     ]
    },
    {
     "name": "stderr",
     "output_type": "stream",
     "text": [
      "c:\\Users\\tjddl\\AppData\\Local\\Programs\\Python\\Python310\\lib\\site-packages\\sklearn\\utils\\deprecation.py:151: FutureWarning: 'force_all_finite' was renamed to 'ensure_all_finite' in 1.6 and will be removed in 1.8.\n",
      "  warnings.warn(\n"
     ]
    },
    {
     "name": "stdout",
     "output_type": "stream",
     "text": [
      "최종 모델 ROC AUC: 0.739302\n"
     ]
    },
    {
     "data": {
      "text/html": [],
      "text/plain": [
       "<IPython.core.display.HTML object>"
      ]
     },
     "metadata": {},
     "output_type": "display_data"
    },
    {
     "data": {
      "text/html": [
       "<br>    <style><br>        .wandb-row {<br>            display: flex;<br>            flex-direction: row;<br>            flex-wrap: wrap;<br>            justify-content: flex-start;<br>            width: 100%;<br>        }<br>        .wandb-col {<br>            display: flex;<br>            flex-direction: column;<br>            flex-basis: 100%;<br>            flex: 1;<br>            padding: 10px;<br>        }<br>    </style><br><div class=\"wandb-row\"><div class=\"wandb-col\"><h3>Run history:</h3><br/><table class=\"wandb\"><tr><td>final_validation_roc_auc</td><td>▁</td></tr></table><br/></div><div class=\"wandb-col\"><h3>Run summary:</h3><br/><table class=\"wandb\"><tr><td>final_validation_roc_auc</td><td>0.7393</td></tr></table><br/></div></div>"
      ],
      "text/plain": [
       "<IPython.core.display.HTML object>"
      ]
     },
     "metadata": {},
     "output_type": "display_data"
    },
    {
     "data": {
      "text/html": [
       " View run <strong style=\"color:#cdcd00\">charmed-sweep-2</strong> at: <a href='https://wandb.ai/espada105-hanseouniversity/LGaimers/runs/m0zvgkdl' target=\"_blank\">https://wandb.ai/espada105-hanseouniversity/LGaimers/runs/m0zvgkdl</a><br> View project at: <a href='https://wandb.ai/espada105-hanseouniversity/LGaimers' target=\"_blank\">https://wandb.ai/espada105-hanseouniversity/LGaimers</a><br>Synced 5 W&B file(s), 0 media file(s), 0 artifact file(s) and 0 other file(s)"
      ],
      "text/plain": [
       "<IPython.core.display.HTML object>"
      ]
     },
     "metadata": {},
     "output_type": "display_data"
    },
    {
     "data": {
      "text/html": [
       "Find logs at: <code>.\\wandb\\run-20250208_013529-m0zvgkdl\\logs</code>"
      ],
      "text/plain": [
       "<IPython.core.display.HTML object>"
      ]
     },
     "metadata": {},
     "output_type": "display_data"
    },
    {
     "name": "stderr",
     "output_type": "stream",
     "text": [
      "\u001b[34m\u001b[1mwandb\u001b[0m: Sweep Agent: Waiting for job.\n",
      "\u001b[34m\u001b[1mwandb\u001b[0m: Job received.\n",
      "\u001b[34m\u001b[1mwandb\u001b[0m: Agent Starting Run: pxib7dfe with config:\n",
      "\u001b[34m\u001b[1mwandb\u001b[0m: \tlearning_rate: 0.01\n",
      "\u001b[34m\u001b[1mwandb\u001b[0m: \tmax_depth: 12\n",
      "\u001b[34m\u001b[1mwandb\u001b[0m: \tn_estimators: 1000\n",
      "\u001b[34m\u001b[1mwandb\u001b[0m: \trandom_state: 42\n",
      "\u001b[34m\u001b[1mwandb\u001b[0m: \tstopping_rounds: 100\n",
      "\u001b[34m\u001b[1mwandb\u001b[0m: \ttest_size: 0.2\n"
     ]
    },
    {
     "data": {
      "text/html": [
       "Ignoring project 'LGaimers' when running a sweep."
      ],
      "text/plain": [
       "<IPython.core.display.HTML object>"
      ]
     },
     "metadata": {},
     "output_type": "display_data"
    },
    {
     "data": {
      "text/html": [
       "Ignoring entity 'espada105-hanseouniversity' when running a sweep."
      ],
      "text/plain": [
       "<IPython.core.display.HTML object>"
      ]
     },
     "metadata": {},
     "output_type": "display_data"
    },
    {
     "data": {
      "text/html": [
       "Tracking run with wandb version 0.19.6"
      ],
      "text/plain": [
       "<IPython.core.display.HTML object>"
      ]
     },
     "metadata": {},
     "output_type": "display_data"
    },
    {
     "data": {
      "text/html": [
       "Run data is saved locally in <code>c:\\GitHubRepo\\AI_Predicting_Pregnancy_Success\\HongSeongIn\\wandb\\run-20250208_013600-pxib7dfe</code>"
      ],
      "text/plain": [
       "<IPython.core.display.HTML object>"
      ]
     },
     "metadata": {},
     "output_type": "display_data"
    },
    {
     "data": {
      "text/html": [
       "Syncing run <strong><a href='https://wandb.ai/espada105-hanseouniversity/LGaimers/runs/pxib7dfe' target=\"_blank\">neat-sweep-3</a></strong> to <a href='https://wandb.ai/espada105-hanseouniversity/LGaimers' target=\"_blank\">Weights & Biases</a> (<a href='https://wandb.me/developer-guide' target=\"_blank\">docs</a>)<br>Sweep page: <a href='https://wandb.ai/espada105-hanseouniversity/LGaimers/sweeps/dem4d8yd' target=\"_blank\">https://wandb.ai/espada105-hanseouniversity/LGaimers/sweeps/dem4d8yd</a>"
      ],
      "text/plain": [
       "<IPython.core.display.HTML object>"
      ]
     },
     "metadata": {},
     "output_type": "display_data"
    },
    {
     "data": {
      "text/html": [
       " View project at <a href='https://wandb.ai/espada105-hanseouniversity/LGaimers' target=\"_blank\">https://wandb.ai/espada105-hanseouniversity/LGaimers</a>"
      ],
      "text/plain": [
       "<IPython.core.display.HTML object>"
      ]
     },
     "metadata": {},
     "output_type": "display_data"
    },
    {
     "data": {
      "text/html": [
       " View sweep at <a href='https://wandb.ai/espada105-hanseouniversity/LGaimers/sweeps/dem4d8yd' target=\"_blank\">https://wandb.ai/espada105-hanseouniversity/LGaimers/sweeps/dem4d8yd</a>"
      ],
      "text/plain": [
       "<IPython.core.display.HTML object>"
      ]
     },
     "metadata": {},
     "output_type": "display_data"
    },
    {
     "data": {
      "text/html": [
       " View run at <a href='https://wandb.ai/espada105-hanseouniversity/LGaimers/runs/pxib7dfe' target=\"_blank\">https://wandb.ai/espada105-hanseouniversity/LGaimers/runs/pxib7dfe</a>"
      ],
      "text/plain": [
       "<IPython.core.display.HTML object>"
      ]
     },
     "metadata": {},
     "output_type": "display_data"
    },
    {
     "name": "stdout",
     "output_type": "stream",
     "text": [
      "Training until validation scores don't improve for 100 rounds\n",
      "Did not meet early stopping. Best iteration is:\n",
      "[933]\tvalid_0's binary_logloss: 0.485964\n"
     ]
    },
    {
     "name": "stderr",
     "output_type": "stream",
     "text": [
      "c:\\Users\\tjddl\\AppData\\Local\\Programs\\Python\\Python310\\lib\\site-packages\\sklearn\\utils\\validation.py:2732: UserWarning: X has feature names, but SelectFromModel was fitted without feature names\n",
      "  warnings.warn(\n",
      "c:\\Users\\tjddl\\AppData\\Local\\Programs\\Python\\Python310\\lib\\site-packages\\sklearn\\utils\\validation.py:2732: UserWarning: X has feature names, but SelectFromModel was fitted without feature names\n",
      "  warnings.warn(\n",
      "c:\\Users\\tjddl\\AppData\\Local\\Programs\\Python\\Python310\\lib\\site-packages\\sklearn\\utils\\deprecation.py:151: FutureWarning: 'force_all_finite' was renamed to 'ensure_all_finite' in 1.6 and will be removed in 1.8.\n",
      "  warnings.warn(\n"
     ]
    },
    {
     "name": "stdout",
     "output_type": "stream",
     "text": [
      "Training until validation scores don't improve for 100 rounds\n",
      "[10]\tvalid_0's binary_logloss: 0.557659\n",
      "[20]\tvalid_0's binary_logloss: 0.548339\n",
      "[30]\tvalid_0's binary_logloss: 0.540488\n",
      "[40]\tvalid_0's binary_logloss: 0.533832\n",
      "[50]\tvalid_0's binary_logloss: 0.528117\n",
      "[60]\tvalid_0's binary_logloss: 0.523202\n",
      "[70]\tvalid_0's binary_logloss: 0.518968\n",
      "[80]\tvalid_0's binary_logloss: 0.515291\n",
      "[90]\tvalid_0's binary_logloss: 0.512077\n",
      "[100]\tvalid_0's binary_logloss: 0.509274\n",
      "[110]\tvalid_0's binary_logloss: 0.506829\n",
      "[120]\tvalid_0's binary_logloss: 0.504677\n",
      "[130]\tvalid_0's binary_logloss: 0.502778\n",
      "[140]\tvalid_0's binary_logloss: 0.50108\n",
      "[150]\tvalid_0's binary_logloss: 0.499587\n",
      "[160]\tvalid_0's binary_logloss: 0.498268\n",
      "[170]\tvalid_0's binary_logloss: 0.497097\n",
      "[180]\tvalid_0's binary_logloss: 0.496044\n",
      "[190]\tvalid_0's binary_logloss: 0.495109\n",
      "[200]\tvalid_0's binary_logloss: 0.494266\n",
      "[210]\tvalid_0's binary_logloss: 0.493519\n",
      "[220]\tvalid_0's binary_logloss: 0.492849\n",
      "[230]\tvalid_0's binary_logloss: 0.492245\n",
      "[240]\tvalid_0's binary_logloss: 0.491707\n",
      "[250]\tvalid_0's binary_logloss: 0.49118\n",
      "[260]\tvalid_0's binary_logloss: 0.490726\n",
      "[270]\tvalid_0's binary_logloss: 0.490305\n",
      "[280]\tvalid_0's binary_logloss: 0.489942\n",
      "[290]\tvalid_0's binary_logloss: 0.489599\n",
      "[300]\tvalid_0's binary_logloss: 0.489291\n",
      "[310]\tvalid_0's binary_logloss: 0.489019\n",
      "[320]\tvalid_0's binary_logloss: 0.488767\n",
      "[330]\tvalid_0's binary_logloss: 0.488544\n",
      "[340]\tvalid_0's binary_logloss: 0.488342\n",
      "[350]\tvalid_0's binary_logloss: 0.48816\n",
      "[360]\tvalid_0's binary_logloss: 0.487986\n",
      "[370]\tvalid_0's binary_logloss: 0.487825\n",
      "[380]\tvalid_0's binary_logloss: 0.487665\n",
      "[390]\tvalid_0's binary_logloss: 0.487517\n",
      "[400]\tvalid_0's binary_logloss: 0.487391\n",
      "[410]\tvalid_0's binary_logloss: 0.487269\n",
      "[420]\tvalid_0's binary_logloss: 0.487172\n",
      "[430]\tvalid_0's binary_logloss: 0.487066\n",
      "[440]\tvalid_0's binary_logloss: 0.48697\n",
      "[450]\tvalid_0's binary_logloss: 0.486889\n",
      "[460]\tvalid_0's binary_logloss: 0.486813\n",
      "[470]\tvalid_0's binary_logloss: 0.486749\n",
      "[480]\tvalid_0's binary_logloss: 0.486689\n",
      "[490]\tvalid_0's binary_logloss: 0.48664\n",
      "[500]\tvalid_0's binary_logloss: 0.486591\n",
      "[510]\tvalid_0's binary_logloss: 0.486544\n",
      "[520]\tvalid_0's binary_logloss: 0.486509\n",
      "[530]\tvalid_0's binary_logloss: 0.486468\n",
      "[540]\tvalid_0's binary_logloss: 0.486431\n",
      "[550]\tvalid_0's binary_logloss: 0.486405\n",
      "[560]\tvalid_0's binary_logloss: 0.486374\n",
      "[570]\tvalid_0's binary_logloss: 0.486333\n",
      "[580]\tvalid_0's binary_logloss: 0.486286\n",
      "[590]\tvalid_0's binary_logloss: 0.486267\n",
      "[600]\tvalid_0's binary_logloss: 0.486236\n",
      "[610]\tvalid_0's binary_logloss: 0.486213\n",
      "[620]\tvalid_0's binary_logloss: 0.486198\n",
      "[630]\tvalid_0's binary_logloss: 0.486172\n",
      "[640]\tvalid_0's binary_logloss: 0.486149\n",
      "[650]\tvalid_0's binary_logloss: 0.486131\n",
      "[660]\tvalid_0's binary_logloss: 0.486122\n",
      "[670]\tvalid_0's binary_logloss: 0.486109\n",
      "[680]\tvalid_0's binary_logloss: 0.486098\n",
      "[690]\tvalid_0's binary_logloss: 0.486085\n",
      "[700]\tvalid_0's binary_logloss: 0.486068\n",
      "[710]\tvalid_0's binary_logloss: 0.48606\n",
      "[720]\tvalid_0's binary_logloss: 0.486052\n",
      "[730]\tvalid_0's binary_logloss: 0.486039\n",
      "[740]\tvalid_0's binary_logloss: 0.486022\n",
      "[750]\tvalid_0's binary_logloss: 0.486012\n",
      "[760]\tvalid_0's binary_logloss: 0.486002\n",
      "[770]\tvalid_0's binary_logloss: 0.485995\n",
      "[780]\tvalid_0's binary_logloss: 0.485986\n",
      "[790]\tvalid_0's binary_logloss: 0.485979\n",
      "[800]\tvalid_0's binary_logloss: 0.485971\n",
      "[810]\tvalid_0's binary_logloss: 0.485963\n",
      "[820]\tvalid_0's binary_logloss: 0.485955\n",
      "[830]\tvalid_0's binary_logloss: 0.485952\n",
      "[840]\tvalid_0's binary_logloss: 0.485942\n",
      "[850]\tvalid_0's binary_logloss: 0.485942\n",
      "[860]\tvalid_0's binary_logloss: 0.485934\n",
      "[870]\tvalid_0's binary_logloss: 0.485923\n",
      "[880]\tvalid_0's binary_logloss: 0.485927\n",
      "[890]\tvalid_0's binary_logloss: 0.485924\n",
      "[900]\tvalid_0's binary_logloss: 0.485919\n",
      "[910]\tvalid_0's binary_logloss: 0.485916\n",
      "[920]\tvalid_0's binary_logloss: 0.485913\n",
      "[930]\tvalid_0's binary_logloss: 0.485902\n",
      "[940]\tvalid_0's binary_logloss: 0.485898\n",
      "[950]\tvalid_0's binary_logloss: 0.485895\n",
      "[960]\tvalid_0's binary_logloss: 0.485889\n",
      "[970]\tvalid_0's binary_logloss: 0.485888\n",
      "[980]\tvalid_0's binary_logloss: 0.485888\n",
      "[990]\tvalid_0's binary_logloss: 0.485886\n",
      "[1000]\tvalid_0's binary_logloss: 0.48589\n",
      "Did not meet early stopping. Best iteration is:\n",
      "[978]\tvalid_0's binary_logloss: 0.485885\n"
     ]
    },
    {
     "name": "stderr",
     "output_type": "stream",
     "text": [
      "c:\\Users\\tjddl\\AppData\\Local\\Programs\\Python\\Python310\\lib\\site-packages\\sklearn\\utils\\deprecation.py:151: FutureWarning: 'force_all_finite' was renamed to 'ensure_all_finite' in 1.6 and will be removed in 1.8.\n",
      "  warnings.warn(\n"
     ]
    },
    {
     "name": "stdout",
     "output_type": "stream",
     "text": [
      "최종 모델 ROC AUC: 0.739165\n"
     ]
    },
    {
     "data": {
      "text/html": [],
      "text/plain": [
       "<IPython.core.display.HTML object>"
      ]
     },
     "metadata": {},
     "output_type": "display_data"
    },
    {
     "data": {
      "text/html": [
       "<br>    <style><br>        .wandb-row {<br>            display: flex;<br>            flex-direction: row;<br>            flex-wrap: wrap;<br>            justify-content: flex-start;<br>            width: 100%;<br>        }<br>        .wandb-col {<br>            display: flex;<br>            flex-direction: column;<br>            flex-basis: 100%;<br>            flex: 1;<br>            padding: 10px;<br>        }<br>    </style><br><div class=\"wandb-row\"><div class=\"wandb-col\"><h3>Run history:</h3><br/><table class=\"wandb\"><tr><td>final_validation_roc_auc</td><td>▁</td></tr></table><br/></div><div class=\"wandb-col\"><h3>Run summary:</h3><br/><table class=\"wandb\"><tr><td>final_validation_roc_auc</td><td>0.73916</td></tr></table><br/></div></div>"
      ],
      "text/plain": [
       "<IPython.core.display.HTML object>"
      ]
     },
     "metadata": {},
     "output_type": "display_data"
    },
    {
     "data": {
      "text/html": [
       " View run <strong style=\"color:#cdcd00\">neat-sweep-3</strong> at: <a href='https://wandb.ai/espada105-hanseouniversity/LGaimers/runs/pxib7dfe' target=\"_blank\">https://wandb.ai/espada105-hanseouniversity/LGaimers/runs/pxib7dfe</a><br> View project at: <a href='https://wandb.ai/espada105-hanseouniversity/LGaimers' target=\"_blank\">https://wandb.ai/espada105-hanseouniversity/LGaimers</a><br>Synced 5 W&B file(s), 0 media file(s), 0 artifact file(s) and 0 other file(s)"
      ],
      "text/plain": [
       "<IPython.core.display.HTML object>"
      ]
     },
     "metadata": {},
     "output_type": "display_data"
    },
    {
     "data": {
      "text/html": [
       "Find logs at: <code>.\\wandb\\run-20250208_013600-pxib7dfe\\logs</code>"
      ],
      "text/plain": [
       "<IPython.core.display.HTML object>"
      ]
     },
     "metadata": {},
     "output_type": "display_data"
    },
    {
     "name": "stderr",
     "output_type": "stream",
     "text": [
      "\u001b[34m\u001b[1mwandb\u001b[0m: Sweep Agent: Waiting for job.\n",
      "\u001b[34m\u001b[1mwandb\u001b[0m: Job received.\n",
      "\u001b[34m\u001b[1mwandb\u001b[0m: Agent Starting Run: fk2v853o with config:\n",
      "\u001b[34m\u001b[1mwandb\u001b[0m: \tlearning_rate: 0.01\n",
      "\u001b[34m\u001b[1mwandb\u001b[0m: \tmax_depth: 12\n",
      "\u001b[34m\u001b[1mwandb\u001b[0m: \tn_estimators: 1500\n",
      "\u001b[34m\u001b[1mwandb\u001b[0m: \trandom_state: 42\n",
      "\u001b[34m\u001b[1mwandb\u001b[0m: \tstopping_rounds: 100\n",
      "\u001b[34m\u001b[1mwandb\u001b[0m: \ttest_size: 0.2\n"
     ]
    },
    {
     "data": {
      "text/html": [
       "Ignoring project 'LGaimers' when running a sweep."
      ],
      "text/plain": [
       "<IPython.core.display.HTML object>"
      ]
     },
     "metadata": {},
     "output_type": "display_data"
    },
    {
     "data": {
      "text/html": [
       "Ignoring entity 'espada105-hanseouniversity' when running a sweep."
      ],
      "text/plain": [
       "<IPython.core.display.HTML object>"
      ]
     },
     "metadata": {},
     "output_type": "display_data"
    },
    {
     "data": {
      "text/html": [
       "Tracking run with wandb version 0.19.6"
      ],
      "text/plain": [
       "<IPython.core.display.HTML object>"
      ]
     },
     "metadata": {},
     "output_type": "display_data"
    },
    {
     "data": {
      "text/html": [
       "Run data is saved locally in <code>c:\\GitHubRepo\\AI_Predicting_Pregnancy_Success\\HongSeongIn\\wandb\\run-20250208_013631-fk2v853o</code>"
      ],
      "text/plain": [
       "<IPython.core.display.HTML object>"
      ]
     },
     "metadata": {},
     "output_type": "display_data"
    },
    {
     "data": {
      "text/html": [
       "Syncing run <strong><a href='https://wandb.ai/espada105-hanseouniversity/LGaimers/runs/fk2v853o' target=\"_blank\">denim-sweep-4</a></strong> to <a href='https://wandb.ai/espada105-hanseouniversity/LGaimers' target=\"_blank\">Weights & Biases</a> (<a href='https://wandb.me/developer-guide' target=\"_blank\">docs</a>)<br>Sweep page: <a href='https://wandb.ai/espada105-hanseouniversity/LGaimers/sweeps/dem4d8yd' target=\"_blank\">https://wandb.ai/espada105-hanseouniversity/LGaimers/sweeps/dem4d8yd</a>"
      ],
      "text/plain": [
       "<IPython.core.display.HTML object>"
      ]
     },
     "metadata": {},
     "output_type": "display_data"
    },
    {
     "data": {
      "text/html": [
       " View project at <a href='https://wandb.ai/espada105-hanseouniversity/LGaimers' target=\"_blank\">https://wandb.ai/espada105-hanseouniversity/LGaimers</a>"
      ],
      "text/plain": [
       "<IPython.core.display.HTML object>"
      ]
     },
     "metadata": {},
     "output_type": "display_data"
    },
    {
     "data": {
      "text/html": [
       " View sweep at <a href='https://wandb.ai/espada105-hanseouniversity/LGaimers/sweeps/dem4d8yd' target=\"_blank\">https://wandb.ai/espada105-hanseouniversity/LGaimers/sweeps/dem4d8yd</a>"
      ],
      "text/plain": [
       "<IPython.core.display.HTML object>"
      ]
     },
     "metadata": {},
     "output_type": "display_data"
    },
    {
     "data": {
      "text/html": [
       " View run at <a href='https://wandb.ai/espada105-hanseouniversity/LGaimers/runs/fk2v853o' target=\"_blank\">https://wandb.ai/espada105-hanseouniversity/LGaimers/runs/fk2v853o</a>"
      ],
      "text/plain": [
       "<IPython.core.display.HTML object>"
      ]
     },
     "metadata": {},
     "output_type": "display_data"
    },
    {
     "name": "stdout",
     "output_type": "stream",
     "text": [
      "Training until validation scores don't improve for 100 rounds\n",
      "Early stopping, best iteration is:\n",
      "[933]\tvalid_0's binary_logloss: 0.485964\n"
     ]
    },
    {
     "name": "stderr",
     "output_type": "stream",
     "text": [
      "c:\\Users\\tjddl\\AppData\\Local\\Programs\\Python\\Python310\\lib\\site-packages\\sklearn\\utils\\validation.py:2732: UserWarning: X has feature names, but SelectFromModel was fitted without feature names\n",
      "  warnings.warn(\n",
      "c:\\Users\\tjddl\\AppData\\Local\\Programs\\Python\\Python310\\lib\\site-packages\\sklearn\\utils\\validation.py:2732: UserWarning: X has feature names, but SelectFromModel was fitted without feature names\n",
      "  warnings.warn(\n",
      "c:\\Users\\tjddl\\AppData\\Local\\Programs\\Python\\Python310\\lib\\site-packages\\sklearn\\utils\\deprecation.py:151: FutureWarning: 'force_all_finite' was renamed to 'ensure_all_finite' in 1.6 and will be removed in 1.8.\n",
      "  warnings.warn(\n"
     ]
    },
    {
     "name": "stdout",
     "output_type": "stream",
     "text": [
      "Training until validation scores don't improve for 100 rounds\n",
      "[10]\tvalid_0's binary_logloss: 0.557659\n",
      "[20]\tvalid_0's binary_logloss: 0.548339\n",
      "[30]\tvalid_0's binary_logloss: 0.540488\n",
      "[40]\tvalid_0's binary_logloss: 0.533832\n",
      "[50]\tvalid_0's binary_logloss: 0.528117\n",
      "[60]\tvalid_0's binary_logloss: 0.523202\n",
      "[70]\tvalid_0's binary_logloss: 0.518968\n",
      "[80]\tvalid_0's binary_logloss: 0.515291\n",
      "[90]\tvalid_0's binary_logloss: 0.512077\n",
      "[100]\tvalid_0's binary_logloss: 0.509274\n",
      "[110]\tvalid_0's binary_logloss: 0.506829\n",
      "[120]\tvalid_0's binary_logloss: 0.504677\n",
      "[130]\tvalid_0's binary_logloss: 0.502778\n",
      "[140]\tvalid_0's binary_logloss: 0.50108\n",
      "[150]\tvalid_0's binary_logloss: 0.499587\n",
      "[160]\tvalid_0's binary_logloss: 0.498268\n",
      "[170]\tvalid_0's binary_logloss: 0.497097\n",
      "[180]\tvalid_0's binary_logloss: 0.496044\n",
      "[190]\tvalid_0's binary_logloss: 0.495109\n",
      "[200]\tvalid_0's binary_logloss: 0.494266\n",
      "[210]\tvalid_0's binary_logloss: 0.493519\n",
      "[220]\tvalid_0's binary_logloss: 0.492849\n",
      "[230]\tvalid_0's binary_logloss: 0.492245\n",
      "[240]\tvalid_0's binary_logloss: 0.491707\n",
      "[250]\tvalid_0's binary_logloss: 0.49118\n",
      "[260]\tvalid_0's binary_logloss: 0.490726\n",
      "[270]\tvalid_0's binary_logloss: 0.490305\n",
      "[280]\tvalid_0's binary_logloss: 0.489942\n",
      "[290]\tvalid_0's binary_logloss: 0.489599\n",
      "[300]\tvalid_0's binary_logloss: 0.489291\n",
      "[310]\tvalid_0's binary_logloss: 0.489019\n",
      "[320]\tvalid_0's binary_logloss: 0.488767\n",
      "[330]\tvalid_0's binary_logloss: 0.488544\n",
      "[340]\tvalid_0's binary_logloss: 0.488342\n",
      "[350]\tvalid_0's binary_logloss: 0.48816\n",
      "[360]\tvalid_0's binary_logloss: 0.487986\n",
      "[370]\tvalid_0's binary_logloss: 0.487825\n",
      "[380]\tvalid_0's binary_logloss: 0.487665\n",
      "[390]\tvalid_0's binary_logloss: 0.487517\n",
      "[400]\tvalid_0's binary_logloss: 0.487391\n",
      "[410]\tvalid_0's binary_logloss: 0.487269\n",
      "[420]\tvalid_0's binary_logloss: 0.487172\n",
      "[430]\tvalid_0's binary_logloss: 0.487066\n",
      "[440]\tvalid_0's binary_logloss: 0.48697\n",
      "[450]\tvalid_0's binary_logloss: 0.486889\n",
      "[460]\tvalid_0's binary_logloss: 0.486813\n",
      "[470]\tvalid_0's binary_logloss: 0.486749\n",
      "[480]\tvalid_0's binary_logloss: 0.486689\n",
      "[490]\tvalid_0's binary_logloss: 0.48664\n",
      "[500]\tvalid_0's binary_logloss: 0.486591\n",
      "[510]\tvalid_0's binary_logloss: 0.486544\n",
      "[520]\tvalid_0's binary_logloss: 0.486509\n",
      "[530]\tvalid_0's binary_logloss: 0.486468\n",
      "[540]\tvalid_0's binary_logloss: 0.486431\n",
      "[550]\tvalid_0's binary_logloss: 0.486405\n",
      "[560]\tvalid_0's binary_logloss: 0.486374\n",
      "[570]\tvalid_0's binary_logloss: 0.486333\n",
      "[580]\tvalid_0's binary_logloss: 0.486286\n",
      "[590]\tvalid_0's binary_logloss: 0.486267\n",
      "[600]\tvalid_0's binary_logloss: 0.486236\n",
      "[610]\tvalid_0's binary_logloss: 0.486213\n",
      "[620]\tvalid_0's binary_logloss: 0.486198\n",
      "[630]\tvalid_0's binary_logloss: 0.486172\n",
      "[640]\tvalid_0's binary_logloss: 0.486149\n",
      "[650]\tvalid_0's binary_logloss: 0.486131\n",
      "[660]\tvalid_0's binary_logloss: 0.486122\n",
      "[670]\tvalid_0's binary_logloss: 0.486109\n",
      "[680]\tvalid_0's binary_logloss: 0.486098\n",
      "[690]\tvalid_0's binary_logloss: 0.486085\n",
      "[700]\tvalid_0's binary_logloss: 0.486068\n",
      "[710]\tvalid_0's binary_logloss: 0.48606\n",
      "[720]\tvalid_0's binary_logloss: 0.486052\n",
      "[730]\tvalid_0's binary_logloss: 0.486039\n",
      "[740]\tvalid_0's binary_logloss: 0.486022\n",
      "[750]\tvalid_0's binary_logloss: 0.486012\n",
      "[760]\tvalid_0's binary_logloss: 0.486002\n",
      "[770]\tvalid_0's binary_logloss: 0.485995\n",
      "[780]\tvalid_0's binary_logloss: 0.485986\n",
      "[790]\tvalid_0's binary_logloss: 0.485979\n",
      "[800]\tvalid_0's binary_logloss: 0.485971\n",
      "[810]\tvalid_0's binary_logloss: 0.485963\n",
      "[820]\tvalid_0's binary_logloss: 0.485955\n",
      "[830]\tvalid_0's binary_logloss: 0.485952\n",
      "[840]\tvalid_0's binary_logloss: 0.485942\n",
      "[850]\tvalid_0's binary_logloss: 0.485942\n",
      "[860]\tvalid_0's binary_logloss: 0.485934\n",
      "[870]\tvalid_0's binary_logloss: 0.485923\n",
      "[880]\tvalid_0's binary_logloss: 0.485927\n",
      "[890]\tvalid_0's binary_logloss: 0.485924\n",
      "[900]\tvalid_0's binary_logloss: 0.485919\n",
      "[910]\tvalid_0's binary_logloss: 0.485916\n",
      "[920]\tvalid_0's binary_logloss: 0.485913\n",
      "[930]\tvalid_0's binary_logloss: 0.485902\n",
      "[940]\tvalid_0's binary_logloss: 0.485898\n",
      "[950]\tvalid_0's binary_logloss: 0.485895\n",
      "[960]\tvalid_0's binary_logloss: 0.485889\n",
      "[970]\tvalid_0's binary_logloss: 0.485888\n",
      "[980]\tvalid_0's binary_logloss: 0.485888\n",
      "[990]\tvalid_0's binary_logloss: 0.485886\n",
      "[1000]\tvalid_0's binary_logloss: 0.48589\n",
      "[1010]\tvalid_0's binary_logloss: 0.485886\n",
      "[1020]\tvalid_0's binary_logloss: 0.485885\n",
      "[1030]\tvalid_0's binary_logloss: 0.485884\n",
      "[1040]\tvalid_0's binary_logloss: 0.485883\n",
      "[1050]\tvalid_0's binary_logloss: 0.485887\n",
      "[1060]\tvalid_0's binary_logloss: 0.485883\n",
      "[1070]\tvalid_0's binary_logloss: 0.485882\n",
      "[1080]\tvalid_0's binary_logloss: 0.485883\n",
      "[1090]\tvalid_0's binary_logloss: 0.48588\n",
      "[1100]\tvalid_0's binary_logloss: 0.485881\n",
      "[1110]\tvalid_0's binary_logloss: 0.485878\n",
      "[1120]\tvalid_0's binary_logloss: 0.48588\n",
      "[1130]\tvalid_0's binary_logloss: 0.485883\n",
      "[1140]\tvalid_0's binary_logloss: 0.48588\n",
      "[1150]\tvalid_0's binary_logloss: 0.485877\n",
      "[1160]\tvalid_0's binary_logloss: 0.485872\n",
      "[1170]\tvalid_0's binary_logloss: 0.485877\n",
      "[1180]\tvalid_0's binary_logloss: 0.485877\n",
      "[1190]\tvalid_0's binary_logloss: 0.485876\n",
      "[1200]\tvalid_0's binary_logloss: 0.485875\n",
      "[1210]\tvalid_0's binary_logloss: 0.485877\n",
      "[1220]\tvalid_0's binary_logloss: 0.485878\n",
      "[1230]\tvalid_0's binary_logloss: 0.485879\n",
      "[1240]\tvalid_0's binary_logloss: 0.485877\n",
      "[1250]\tvalid_0's binary_logloss: 0.48588\n",
      "Early stopping, best iteration is:\n",
      "[1159]\tvalid_0's binary_logloss: 0.485871\n"
     ]
    },
    {
     "name": "stderr",
     "output_type": "stream",
     "text": [
      "c:\\Users\\tjddl\\AppData\\Local\\Programs\\Python\\Python310\\lib\\site-packages\\sklearn\\utils\\deprecation.py:151: FutureWarning: 'force_all_finite' was renamed to 'ensure_all_finite' in 1.6 and will be removed in 1.8.\n",
      "  warnings.warn(\n"
     ]
    },
    {
     "name": "stdout",
     "output_type": "stream",
     "text": [
      "최종 모델 ROC AUC: 0.739166\n"
     ]
    },
    {
     "data": {
      "text/html": [],
      "text/plain": [
       "<IPython.core.display.HTML object>"
      ]
     },
     "metadata": {},
     "output_type": "display_data"
    },
    {
     "data": {
      "text/html": [
       "<br>    <style><br>        .wandb-row {<br>            display: flex;<br>            flex-direction: row;<br>            flex-wrap: wrap;<br>            justify-content: flex-start;<br>            width: 100%;<br>        }<br>        .wandb-col {<br>            display: flex;<br>            flex-direction: column;<br>            flex-basis: 100%;<br>            flex: 1;<br>            padding: 10px;<br>        }<br>    </style><br><div class=\"wandb-row\"><div class=\"wandb-col\"><h3>Run history:</h3><br/><table class=\"wandb\"><tr><td>final_validation_roc_auc</td><td>▁</td></tr></table><br/></div><div class=\"wandb-col\"><h3>Run summary:</h3><br/><table class=\"wandb\"><tr><td>final_validation_roc_auc</td><td>0.73917</td></tr></table><br/></div></div>"
      ],
      "text/plain": [
       "<IPython.core.display.HTML object>"
      ]
     },
     "metadata": {},
     "output_type": "display_data"
    },
    {
     "data": {
      "text/html": [
       " View run <strong style=\"color:#cdcd00\">denim-sweep-4</strong> at: <a href='https://wandb.ai/espada105-hanseouniversity/LGaimers/runs/fk2v853o' target=\"_blank\">https://wandb.ai/espada105-hanseouniversity/LGaimers/runs/fk2v853o</a><br> View project at: <a href='https://wandb.ai/espada105-hanseouniversity/LGaimers' target=\"_blank\">https://wandb.ai/espada105-hanseouniversity/LGaimers</a><br>Synced 5 W&B file(s), 0 media file(s), 0 artifact file(s) and 0 other file(s)"
      ],
      "text/plain": [
       "<IPython.core.display.HTML object>"
      ]
     },
     "metadata": {},
     "output_type": "display_data"
    },
    {
     "data": {
      "text/html": [
       "Find logs at: <code>.\\wandb\\run-20250208_013631-fk2v853o\\logs</code>"
      ],
      "text/plain": [
       "<IPython.core.display.HTML object>"
      ]
     },
     "metadata": {},
     "output_type": "display_data"
    },
    {
     "name": "stderr",
     "output_type": "stream",
     "text": [
      "\u001b[34m\u001b[1mwandb\u001b[0m: Agent Starting Run: z4udrb5u with config:\n",
      "\u001b[34m\u001b[1mwandb\u001b[0m: \tlearning_rate: 0.005\n",
      "\u001b[34m\u001b[1mwandb\u001b[0m: \tmax_depth: 10\n",
      "\u001b[34m\u001b[1mwandb\u001b[0m: \tn_estimators: 1000\n",
      "\u001b[34m\u001b[1mwandb\u001b[0m: \trandom_state: 42\n",
      "\u001b[34m\u001b[1mwandb\u001b[0m: \tstopping_rounds: 100\n",
      "\u001b[34m\u001b[1mwandb\u001b[0m: \ttest_size: 0.2\n"
     ]
    },
    {
     "data": {
      "text/html": [
       "Ignoring project 'LGaimers' when running a sweep."
      ],
      "text/plain": [
       "<IPython.core.display.HTML object>"
      ]
     },
     "metadata": {},
     "output_type": "display_data"
    },
    {
     "data": {
      "text/html": [
       "Ignoring entity 'espada105-hanseouniversity' when running a sweep."
      ],
      "text/plain": [
       "<IPython.core.display.HTML object>"
      ]
     },
     "metadata": {},
     "output_type": "display_data"
    },
    {
     "data": {
      "text/html": [
       "Tracking run with wandb version 0.19.6"
      ],
      "text/plain": [
       "<IPython.core.display.HTML object>"
      ]
     },
     "metadata": {},
     "output_type": "display_data"
    },
    {
     "data": {
      "text/html": [
       "Run data is saved locally in <code>c:\\GitHubRepo\\AI_Predicting_Pregnancy_Success\\HongSeongIn\\wandb\\run-20250208_013653-z4udrb5u</code>"
      ],
      "text/plain": [
       "<IPython.core.display.HTML object>"
      ]
     },
     "metadata": {},
     "output_type": "display_data"
    },
    {
     "data": {
      "text/html": [
       "Syncing run <strong><a href='https://wandb.ai/espada105-hanseouniversity/LGaimers/runs/z4udrb5u' target=\"_blank\">fallen-sweep-5</a></strong> to <a href='https://wandb.ai/espada105-hanseouniversity/LGaimers' target=\"_blank\">Weights & Biases</a> (<a href='https://wandb.me/developer-guide' target=\"_blank\">docs</a>)<br>Sweep page: <a href='https://wandb.ai/espada105-hanseouniversity/LGaimers/sweeps/dem4d8yd' target=\"_blank\">https://wandb.ai/espada105-hanseouniversity/LGaimers/sweeps/dem4d8yd</a>"
      ],
      "text/plain": [
       "<IPython.core.display.HTML object>"
      ]
     },
     "metadata": {},
     "output_type": "display_data"
    },
    {
     "data": {
      "text/html": [
       " View project at <a href='https://wandb.ai/espada105-hanseouniversity/LGaimers' target=\"_blank\">https://wandb.ai/espada105-hanseouniversity/LGaimers</a>"
      ],
      "text/plain": [
       "<IPython.core.display.HTML object>"
      ]
     },
     "metadata": {},
     "output_type": "display_data"
    },
    {
     "data": {
      "text/html": [
       " View sweep at <a href='https://wandb.ai/espada105-hanseouniversity/LGaimers/sweeps/dem4d8yd' target=\"_blank\">https://wandb.ai/espada105-hanseouniversity/LGaimers/sweeps/dem4d8yd</a>"
      ],
      "text/plain": [
       "<IPython.core.display.HTML object>"
      ]
     },
     "metadata": {},
     "output_type": "display_data"
    },
    {
     "data": {
      "text/html": [
       " View run at <a href='https://wandb.ai/espada105-hanseouniversity/LGaimers/runs/z4udrb5u' target=\"_blank\">https://wandb.ai/espada105-hanseouniversity/LGaimers/runs/z4udrb5u</a>"
      ],
      "text/plain": [
       "<IPython.core.display.HTML object>"
      ]
     },
     "metadata": {},
     "output_type": "display_data"
    },
    {
     "name": "stdout",
     "output_type": "stream",
     "text": [
      "Training until validation scores don't improve for 100 rounds\n",
      "Did not meet early stopping. Best iteration is:\n",
      "[1000]\tvalid_0's binary_logloss: 0.486587\n"
     ]
    },
    {
     "name": "stderr",
     "output_type": "stream",
     "text": [
      "c:\\Users\\tjddl\\AppData\\Local\\Programs\\Python\\Python310\\lib\\site-packages\\sklearn\\utils\\validation.py:2732: UserWarning: X has feature names, but SelectFromModel was fitted without feature names\n",
      "  warnings.warn(\n",
      "c:\\Users\\tjddl\\AppData\\Local\\Programs\\Python\\Python310\\lib\\site-packages\\sklearn\\utils\\validation.py:2732: UserWarning: X has feature names, but SelectFromModel was fitted without feature names\n",
      "  warnings.warn(\n",
      "c:\\Users\\tjddl\\AppData\\Local\\Programs\\Python\\Python310\\lib\\site-packages\\sklearn\\utils\\deprecation.py:151: FutureWarning: 'force_all_finite' was renamed to 'ensure_all_finite' in 1.6 and will be removed in 1.8.\n",
      "  warnings.warn(\n"
     ]
    },
    {
     "name": "stdout",
     "output_type": "stream",
     "text": [
      "Training until validation scores don't improve for 100 rounds\n",
      "[10]\tvalid_0's binary_logloss: 0.563006\n",
      "[20]\tvalid_0's binary_logloss: 0.557681\n",
      "[30]\tvalid_0's binary_logloss: 0.552819\n",
      "[40]\tvalid_0's binary_logloss: 0.548374\n",
      "[50]\tvalid_0's binary_logloss: 0.544288\n",
      "[60]\tvalid_0's binary_logloss: 0.540528\n",
      "[70]\tvalid_0's binary_logloss: 0.537068\n",
      "[80]\tvalid_0's binary_logloss: 0.533871\n",
      "[90]\tvalid_0's binary_logloss: 0.530909\n",
      "[100]\tvalid_0's binary_logloss: 0.528158\n",
      "[110]\tvalid_0's binary_logloss: 0.52561\n",
      "[120]\tvalid_0's binary_logloss: 0.523247\n",
      "[130]\tvalid_0's binary_logloss: 0.521057\n",
      "[140]\tvalid_0's binary_logloss: 0.51901\n",
      "[150]\tvalid_0's binary_logloss: 0.517108\n",
      "[160]\tvalid_0's binary_logloss: 0.515333\n",
      "[170]\tvalid_0's binary_logloss: 0.513672\n",
      "[180]\tvalid_0's binary_logloss: 0.512112\n",
      "[190]\tvalid_0's binary_logloss: 0.510662\n",
      "[200]\tvalid_0's binary_logloss: 0.509307\n",
      "[210]\tvalid_0's binary_logloss: 0.508043\n",
      "[220]\tvalid_0's binary_logloss: 0.506855\n",
      "[230]\tvalid_0's binary_logloss: 0.505748\n",
      "[240]\tvalid_0's binary_logloss: 0.504702\n",
      "[250]\tvalid_0's binary_logloss: 0.503719\n",
      "[260]\tvalid_0's binary_logloss: 0.502799\n",
      "[270]\tvalid_0's binary_logloss: 0.501926\n",
      "[280]\tvalid_0's binary_logloss: 0.501103\n",
      "[290]\tvalid_0's binary_logloss: 0.500328\n",
      "[300]\tvalid_0's binary_logloss: 0.499601\n",
      "[310]\tvalid_0's binary_logloss: 0.498918\n",
      "[320]\tvalid_0's binary_logloss: 0.498274\n",
      "[330]\tvalid_0's binary_logloss: 0.497669\n",
      "[340]\tvalid_0's binary_logloss: 0.4971\n",
      "[350]\tvalid_0's binary_logloss: 0.496566\n",
      "[360]\tvalid_0's binary_logloss: 0.496061\n",
      "[370]\tvalid_0's binary_logloss: 0.49558\n",
      "[380]\tvalid_0's binary_logloss: 0.495124\n",
      "[390]\tvalid_0's binary_logloss: 0.494697\n",
      "[400]\tvalid_0's binary_logloss: 0.49429\n",
      "[410]\tvalid_0's binary_logloss: 0.493905\n",
      "[420]\tvalid_0's binary_logloss: 0.493539\n",
      "[430]\tvalid_0's binary_logloss: 0.493192\n",
      "[440]\tvalid_0's binary_logloss: 0.492864\n",
      "[450]\tvalid_0's binary_logloss: 0.492555\n",
      "[460]\tvalid_0's binary_logloss: 0.492259\n",
      "[470]\tvalid_0's binary_logloss: 0.49198\n",
      "[480]\tvalid_0's binary_logloss: 0.491716\n",
      "[490]\tvalid_0's binary_logloss: 0.491456\n",
      "[500]\tvalid_0's binary_logloss: 0.491208\n",
      "[510]\tvalid_0's binary_logloss: 0.490971\n",
      "[520]\tvalid_0's binary_logloss: 0.490747\n",
      "[530]\tvalid_0's binary_logloss: 0.490536\n",
      "[540]\tvalid_0's binary_logloss: 0.490336\n",
      "[550]\tvalid_0's binary_logloss: 0.490143\n",
      "[560]\tvalid_0's binary_logloss: 0.489963\n",
      "[570]\tvalid_0's binary_logloss: 0.489793\n",
      "[580]\tvalid_0's binary_logloss: 0.489633\n",
      "[590]\tvalid_0's binary_logloss: 0.489476\n",
      "[600]\tvalid_0's binary_logloss: 0.489319\n",
      "[610]\tvalid_0's binary_logloss: 0.489178\n",
      "[620]\tvalid_0's binary_logloss: 0.489043\n",
      "[630]\tvalid_0's binary_logloss: 0.488918\n",
      "[640]\tvalid_0's binary_logloss: 0.488795\n",
      "[650]\tvalid_0's binary_logloss: 0.488679\n",
      "[660]\tvalid_0's binary_logloss: 0.488565\n",
      "[670]\tvalid_0's binary_logloss: 0.488455\n",
      "[680]\tvalid_0's binary_logloss: 0.488351\n",
      "[690]\tvalid_0's binary_logloss: 0.488256\n",
      "[700]\tvalid_0's binary_logloss: 0.488167\n",
      "[710]\tvalid_0's binary_logloss: 0.488074\n",
      "[720]\tvalid_0's binary_logloss: 0.487984\n",
      "[730]\tvalid_0's binary_logloss: 0.4879\n",
      "[740]\tvalid_0's binary_logloss: 0.487816\n",
      "[750]\tvalid_0's binary_logloss: 0.487739\n",
      "[760]\tvalid_0's binary_logloss: 0.487663\n",
      "[770]\tvalid_0's binary_logloss: 0.487588\n",
      "[780]\tvalid_0's binary_logloss: 0.487519\n",
      "[790]\tvalid_0's binary_logloss: 0.487449\n",
      "[800]\tvalid_0's binary_logloss: 0.487391\n",
      "[810]\tvalid_0's binary_logloss: 0.487327\n",
      "[820]\tvalid_0's binary_logloss: 0.487273\n",
      "[830]\tvalid_0's binary_logloss: 0.48722\n",
      "[840]\tvalid_0's binary_logloss: 0.487166\n",
      "[850]\tvalid_0's binary_logloss: 0.487112\n",
      "[860]\tvalid_0's binary_logloss: 0.487064\n",
      "[870]\tvalid_0's binary_logloss: 0.487018\n",
      "[880]\tvalid_0's binary_logloss: 0.48697\n",
      "[890]\tvalid_0's binary_logloss: 0.486927\n",
      "[900]\tvalid_0's binary_logloss: 0.486884\n",
      "[910]\tvalid_0's binary_logloss: 0.486847\n",
      "[920]\tvalid_0's binary_logloss: 0.486816\n",
      "[930]\tvalid_0's binary_logloss: 0.486782\n",
      "[940]\tvalid_0's binary_logloss: 0.486748\n",
      "[950]\tvalid_0's binary_logloss: 0.48672\n",
      "[960]\tvalid_0's binary_logloss: 0.486692\n",
      "[970]\tvalid_0's binary_logloss: 0.48666\n",
      "[980]\tvalid_0's binary_logloss: 0.486633\n",
      "[990]\tvalid_0's binary_logloss: 0.486611\n",
      "[1000]\tvalid_0's binary_logloss: 0.486589\n",
      "Did not meet early stopping. Best iteration is:\n",
      "[1000]\tvalid_0's binary_logloss: 0.486589\n"
     ]
    },
    {
     "name": "stderr",
     "output_type": "stream",
     "text": [
      "c:\\Users\\tjddl\\AppData\\Local\\Programs\\Python\\Python310\\lib\\site-packages\\sklearn\\utils\\deprecation.py:151: FutureWarning: 'force_all_finite' was renamed to 'ensure_all_finite' in 1.6 and will be removed in 1.8.\n",
      "  warnings.warn(\n"
     ]
    },
    {
     "name": "stdout",
     "output_type": "stream",
     "text": [
      "최종 모델 ROC AUC: 0.738311\n"
     ]
    },
    {
     "data": {
      "text/html": [],
      "text/plain": [
       "<IPython.core.display.HTML object>"
      ]
     },
     "metadata": {},
     "output_type": "display_data"
    },
    {
     "data": {
      "text/html": [
       "<br>    <style><br>        .wandb-row {<br>            display: flex;<br>            flex-direction: row;<br>            flex-wrap: wrap;<br>            justify-content: flex-start;<br>            width: 100%;<br>        }<br>        .wandb-col {<br>            display: flex;<br>            flex-direction: column;<br>            flex-basis: 100%;<br>            flex: 1;<br>            padding: 10px;<br>        }<br>    </style><br><div class=\"wandb-row\"><div class=\"wandb-col\"><h3>Run history:</h3><br/><table class=\"wandb\"><tr><td>final_validation_roc_auc</td><td>▁</td></tr></table><br/></div><div class=\"wandb-col\"><h3>Run summary:</h3><br/><table class=\"wandb\"><tr><td>final_validation_roc_auc</td><td>0.73831</td></tr></table><br/></div></div>"
      ],
      "text/plain": [
       "<IPython.core.display.HTML object>"
      ]
     },
     "metadata": {},
     "output_type": "display_data"
    },
    {
     "data": {
      "text/html": [
       " View run <strong style=\"color:#cdcd00\">fallen-sweep-5</strong> at: <a href='https://wandb.ai/espada105-hanseouniversity/LGaimers/runs/z4udrb5u' target=\"_blank\">https://wandb.ai/espada105-hanseouniversity/LGaimers/runs/z4udrb5u</a><br> View project at: <a href='https://wandb.ai/espada105-hanseouniversity/LGaimers' target=\"_blank\">https://wandb.ai/espada105-hanseouniversity/LGaimers</a><br>Synced 5 W&B file(s), 0 media file(s), 0 artifact file(s) and 0 other file(s)"
      ],
      "text/plain": [
       "<IPython.core.display.HTML object>"
      ]
     },
     "metadata": {},
     "output_type": "display_data"
    },
    {
     "data": {
      "text/html": [
       "Find logs at: <code>.\\wandb\\run-20250208_013653-z4udrb5u\\logs</code>"
      ],
      "text/plain": [
       "<IPython.core.display.HTML object>"
      ]
     },
     "metadata": {},
     "output_type": "display_data"
    },
    {
     "name": "stderr",
     "output_type": "stream",
     "text": [
      "\u001b[34m\u001b[1mwandb\u001b[0m: Sweep Agent: Waiting for job.\n",
      "\u001b[34m\u001b[1mwandb\u001b[0m: Job received.\n",
      "\u001b[34m\u001b[1mwandb\u001b[0m: Agent Starting Run: guvne2fe with config:\n",
      "\u001b[34m\u001b[1mwandb\u001b[0m: \tlearning_rate: 0.005\n",
      "\u001b[34m\u001b[1mwandb\u001b[0m: \tmax_depth: 10\n",
      "\u001b[34m\u001b[1mwandb\u001b[0m: \tn_estimators: 1500\n",
      "\u001b[34m\u001b[1mwandb\u001b[0m: \trandom_state: 42\n",
      "\u001b[34m\u001b[1mwandb\u001b[0m: \tstopping_rounds: 100\n",
      "\u001b[34m\u001b[1mwandb\u001b[0m: \ttest_size: 0.2\n"
     ]
    },
    {
     "data": {
      "text/html": [
       "Ignoring project 'LGaimers' when running a sweep."
      ],
      "text/plain": [
       "<IPython.core.display.HTML object>"
      ]
     },
     "metadata": {},
     "output_type": "display_data"
    },
    {
     "data": {
      "text/html": [
       "Ignoring entity 'espada105-hanseouniversity' when running a sweep."
      ],
      "text/plain": [
       "<IPython.core.display.HTML object>"
      ]
     },
     "metadata": {},
     "output_type": "display_data"
    },
    {
     "data": {
      "text/html": [
       "Tracking run with wandb version 0.19.6"
      ],
      "text/plain": [
       "<IPython.core.display.HTML object>"
      ]
     },
     "metadata": {},
     "output_type": "display_data"
    },
    {
     "data": {
      "text/html": [
       "Run data is saved locally in <code>c:\\GitHubRepo\\AI_Predicting_Pregnancy_Success\\HongSeongIn\\wandb\\run-20250208_013724-guvne2fe</code>"
      ],
      "text/plain": [
       "<IPython.core.display.HTML object>"
      ]
     },
     "metadata": {},
     "output_type": "display_data"
    },
    {
     "data": {
      "text/html": [
       "Syncing run <strong><a href='https://wandb.ai/espada105-hanseouniversity/LGaimers/runs/guvne2fe' target=\"_blank\">frosty-sweep-6</a></strong> to <a href='https://wandb.ai/espada105-hanseouniversity/LGaimers' target=\"_blank\">Weights & Biases</a> (<a href='https://wandb.me/developer-guide' target=\"_blank\">docs</a>)<br>Sweep page: <a href='https://wandb.ai/espada105-hanseouniversity/LGaimers/sweeps/dem4d8yd' target=\"_blank\">https://wandb.ai/espada105-hanseouniversity/LGaimers/sweeps/dem4d8yd</a>"
      ],
      "text/plain": [
       "<IPython.core.display.HTML object>"
      ]
     },
     "metadata": {},
     "output_type": "display_data"
    },
    {
     "data": {
      "text/html": [
       " View project at <a href='https://wandb.ai/espada105-hanseouniversity/LGaimers' target=\"_blank\">https://wandb.ai/espada105-hanseouniversity/LGaimers</a>"
      ],
      "text/plain": [
       "<IPython.core.display.HTML object>"
      ]
     },
     "metadata": {},
     "output_type": "display_data"
    },
    {
     "data": {
      "text/html": [
       " View sweep at <a href='https://wandb.ai/espada105-hanseouniversity/LGaimers/sweeps/dem4d8yd' target=\"_blank\">https://wandb.ai/espada105-hanseouniversity/LGaimers/sweeps/dem4d8yd</a>"
      ],
      "text/plain": [
       "<IPython.core.display.HTML object>"
      ]
     },
     "metadata": {},
     "output_type": "display_data"
    },
    {
     "data": {
      "text/html": [
       " View run at <a href='https://wandb.ai/espada105-hanseouniversity/LGaimers/runs/guvne2fe' target=\"_blank\">https://wandb.ai/espada105-hanseouniversity/LGaimers/runs/guvne2fe</a>"
      ],
      "text/plain": [
       "<IPython.core.display.HTML object>"
      ]
     },
     "metadata": {},
     "output_type": "display_data"
    },
    {
     "name": "stdout",
     "output_type": "stream",
     "text": [
      "Training until validation scores don't improve for 100 rounds\n",
      "Did not meet early stopping. Best iteration is:\n",
      "[1500]\tvalid_0's binary_logloss: 0.486005\n"
     ]
    },
    {
     "name": "stderr",
     "output_type": "stream",
     "text": [
      "c:\\Users\\tjddl\\AppData\\Local\\Programs\\Python\\Python310\\lib\\site-packages\\sklearn\\utils\\validation.py:2732: UserWarning: X has feature names, but SelectFromModel was fitted without feature names\n",
      "  warnings.warn(\n",
      "c:\\Users\\tjddl\\AppData\\Local\\Programs\\Python\\Python310\\lib\\site-packages\\sklearn\\utils\\validation.py:2732: UserWarning: X has feature names, but SelectFromModel was fitted without feature names\n",
      "  warnings.warn(\n",
      "c:\\Users\\tjddl\\AppData\\Local\\Programs\\Python\\Python310\\lib\\site-packages\\sklearn\\utils\\deprecation.py:151: FutureWarning: 'force_all_finite' was renamed to 'ensure_all_finite' in 1.6 and will be removed in 1.8.\n",
      "  warnings.warn(\n"
     ]
    },
    {
     "name": "stdout",
     "output_type": "stream",
     "text": [
      "Training until validation scores don't improve for 100 rounds\n",
      "[10]\tvalid_0's binary_logloss: 0.563007\n",
      "[20]\tvalid_0's binary_logloss: 0.55768\n",
      "[30]\tvalid_0's binary_logloss: 0.552818\n",
      "[40]\tvalid_0's binary_logloss: 0.548375\n",
      "[50]\tvalid_0's binary_logloss: 0.54429\n",
      "[60]\tvalid_0's binary_logloss: 0.540532\n",
      "[70]\tvalid_0's binary_logloss: 0.537071\n",
      "[80]\tvalid_0's binary_logloss: 0.533873\n",
      "[90]\tvalid_0's binary_logloss: 0.530912\n",
      "[100]\tvalid_0's binary_logloss: 0.528159\n",
      "[110]\tvalid_0's binary_logloss: 0.525613\n",
      "[120]\tvalid_0's binary_logloss: 0.523246\n",
      "[130]\tvalid_0's binary_logloss: 0.521058\n",
      "[140]\tvalid_0's binary_logloss: 0.519009\n",
      "[150]\tvalid_0's binary_logloss: 0.517108\n",
      "[160]\tvalid_0's binary_logloss: 0.515336\n",
      "[170]\tvalid_0's binary_logloss: 0.513676\n",
      "[180]\tvalid_0's binary_logloss: 0.512116\n",
      "[190]\tvalid_0's binary_logloss: 0.510663\n",
      "[200]\tvalid_0's binary_logloss: 0.509309\n",
      "[210]\tvalid_0's binary_logloss: 0.508044\n",
      "[220]\tvalid_0's binary_logloss: 0.506855\n",
      "[230]\tvalid_0's binary_logloss: 0.505747\n",
      "[240]\tvalid_0's binary_logloss: 0.504702\n",
      "[250]\tvalid_0's binary_logloss: 0.503719\n",
      "[260]\tvalid_0's binary_logloss: 0.502796\n",
      "[270]\tvalid_0's binary_logloss: 0.501925\n",
      "[280]\tvalid_0's binary_logloss: 0.501099\n",
      "[290]\tvalid_0's binary_logloss: 0.500324\n",
      "[300]\tvalid_0's binary_logloss: 0.499594\n",
      "[310]\tvalid_0's binary_logloss: 0.498915\n",
      "[320]\tvalid_0's binary_logloss: 0.498273\n",
      "[330]\tvalid_0's binary_logloss: 0.497668\n",
      "[340]\tvalid_0's binary_logloss: 0.4971\n",
      "[350]\tvalid_0's binary_logloss: 0.496562\n",
      "[360]\tvalid_0's binary_logloss: 0.496056\n",
      "[370]\tvalid_0's binary_logloss: 0.495577\n",
      "[380]\tvalid_0's binary_logloss: 0.49512\n",
      "[390]\tvalid_0's binary_logloss: 0.494692\n",
      "[400]\tvalid_0's binary_logloss: 0.494284\n",
      "[410]\tvalid_0's binary_logloss: 0.493903\n",
      "[420]\tvalid_0's binary_logloss: 0.49354\n",
      "[430]\tvalid_0's binary_logloss: 0.493193\n",
      "[440]\tvalid_0's binary_logloss: 0.492865\n",
      "[450]\tvalid_0's binary_logloss: 0.492554\n",
      "[460]\tvalid_0's binary_logloss: 0.492261\n",
      "[470]\tvalid_0's binary_logloss: 0.491979\n",
      "[480]\tvalid_0's binary_logloss: 0.491714\n",
      "[490]\tvalid_0's binary_logloss: 0.491456\n",
      "[500]\tvalid_0's binary_logloss: 0.491202\n",
      "[510]\tvalid_0's binary_logloss: 0.490969\n",
      "[520]\tvalid_0's binary_logloss: 0.490747\n",
      "[530]\tvalid_0's binary_logloss: 0.490536\n",
      "[540]\tvalid_0's binary_logloss: 0.490331\n",
      "[550]\tvalid_0's binary_logloss: 0.490138\n",
      "[560]\tvalid_0's binary_logloss: 0.489957\n",
      "[570]\tvalid_0's binary_logloss: 0.489786\n",
      "[580]\tvalid_0's binary_logloss: 0.489617\n",
      "[590]\tvalid_0's binary_logloss: 0.489455\n",
      "[600]\tvalid_0's binary_logloss: 0.489304\n",
      "[610]\tvalid_0's binary_logloss: 0.489164\n",
      "[620]\tvalid_0's binary_logloss: 0.489031\n",
      "[630]\tvalid_0's binary_logloss: 0.488903\n",
      "[640]\tvalid_0's binary_logloss: 0.488781\n",
      "[650]\tvalid_0's binary_logloss: 0.488664\n",
      "[660]\tvalid_0's binary_logloss: 0.488552\n",
      "[670]\tvalid_0's binary_logloss: 0.488447\n",
      "[680]\tvalid_0's binary_logloss: 0.488343\n",
      "[690]\tvalid_0's binary_logloss: 0.488245\n",
      "[700]\tvalid_0's binary_logloss: 0.488157\n",
      "[710]\tvalid_0's binary_logloss: 0.488067\n",
      "[720]\tvalid_0's binary_logloss: 0.487981\n",
      "[730]\tvalid_0's binary_logloss: 0.487893\n",
      "[740]\tvalid_0's binary_logloss: 0.487808\n",
      "[750]\tvalid_0's binary_logloss: 0.48773\n",
      "[760]\tvalid_0's binary_logloss: 0.487652\n",
      "[770]\tvalid_0's binary_logloss: 0.487576\n",
      "[780]\tvalid_0's binary_logloss: 0.487506\n",
      "[790]\tvalid_0's binary_logloss: 0.487435\n",
      "[800]\tvalid_0's binary_logloss: 0.487371\n",
      "[810]\tvalid_0's binary_logloss: 0.487313\n",
      "[820]\tvalid_0's binary_logloss: 0.487255\n",
      "[830]\tvalid_0's binary_logloss: 0.487204\n",
      "[840]\tvalid_0's binary_logloss: 0.487153\n",
      "[850]\tvalid_0's binary_logloss: 0.4871\n",
      "[860]\tvalid_0's binary_logloss: 0.487053\n",
      "[870]\tvalid_0's binary_logloss: 0.487009\n",
      "[880]\tvalid_0's binary_logloss: 0.486961\n",
      "[890]\tvalid_0's binary_logloss: 0.486919\n",
      "[900]\tvalid_0's binary_logloss: 0.486877\n",
      "[910]\tvalid_0's binary_logloss: 0.486838\n",
      "[920]\tvalid_0's binary_logloss: 0.486803\n",
      "[930]\tvalid_0's binary_logloss: 0.486772\n",
      "[940]\tvalid_0's binary_logloss: 0.486736\n",
      "[950]\tvalid_0's binary_logloss: 0.486709\n",
      "[960]\tvalid_0's binary_logloss: 0.486682\n",
      "[970]\tvalid_0's binary_logloss: 0.486651\n",
      "[980]\tvalid_0's binary_logloss: 0.486624\n",
      "[990]\tvalid_0's binary_logloss: 0.486601\n",
      "[1000]\tvalid_0's binary_logloss: 0.486576\n",
      "[1010]\tvalid_0's binary_logloss: 0.48655\n",
      "[1020]\tvalid_0's binary_logloss: 0.486528\n",
      "[1030]\tvalid_0's binary_logloss: 0.486506\n",
      "[1040]\tvalid_0's binary_logloss: 0.486488\n",
      "[1050]\tvalid_0's binary_logloss: 0.486465\n",
      "[1060]\tvalid_0's binary_logloss: 0.486448\n",
      "[1070]\tvalid_0's binary_logloss: 0.48643\n",
      "[1080]\tvalid_0's binary_logloss: 0.486412\n",
      "[1090]\tvalid_0's binary_logloss: 0.486395\n",
      "[1100]\tvalid_0's binary_logloss: 0.486383\n",
      "[1110]\tvalid_0's binary_logloss: 0.486367\n",
      "[1120]\tvalid_0's binary_logloss: 0.486356\n",
      "[1130]\tvalid_0's binary_logloss: 0.486341\n",
      "[1140]\tvalid_0's binary_logloss: 0.486308\n",
      "[1150]\tvalid_0's binary_logloss: 0.486284\n",
      "[1160]\tvalid_0's binary_logloss: 0.486269\n",
      "[1170]\tvalid_0's binary_logloss: 0.486258\n",
      "[1180]\tvalid_0's binary_logloss: 0.486249\n",
      "[1190]\tvalid_0's binary_logloss: 0.486236\n",
      "[1200]\tvalid_0's binary_logloss: 0.486224\n",
      "[1210]\tvalid_0's binary_logloss: 0.486213\n",
      "[1220]\tvalid_0's binary_logloss: 0.486204\n",
      "[1230]\tvalid_0's binary_logloss: 0.486199\n",
      "[1240]\tvalid_0's binary_logloss: 0.486187\n",
      "[1250]\tvalid_0's binary_logloss: 0.486179\n",
      "[1260]\tvalid_0's binary_logloss: 0.486169\n",
      "[1270]\tvalid_0's binary_logloss: 0.48616\n",
      "[1280]\tvalid_0's binary_logloss: 0.486151\n",
      "[1290]\tvalid_0's binary_logloss: 0.486141\n",
      "[1300]\tvalid_0's binary_logloss: 0.486133\n",
      "[1310]\tvalid_0's binary_logloss: 0.48613\n",
      "[1320]\tvalid_0's binary_logloss: 0.486123\n",
      "[1330]\tvalid_0's binary_logloss: 0.486114\n",
      "[1340]\tvalid_0's binary_logloss: 0.486106\n",
      "[1350]\tvalid_0's binary_logloss: 0.486098\n",
      "[1360]\tvalid_0's binary_logloss: 0.486089\n",
      "[1370]\tvalid_0's binary_logloss: 0.48608\n",
      "[1380]\tvalid_0's binary_logloss: 0.486075\n",
      "[1390]\tvalid_0's binary_logloss: 0.48607\n",
      "[1400]\tvalid_0's binary_logloss: 0.486065\n",
      "[1410]\tvalid_0's binary_logloss: 0.486062\n",
      "[1420]\tvalid_0's binary_logloss: 0.486055\n",
      "[1430]\tvalid_0's binary_logloss: 0.486052\n",
      "[1440]\tvalid_0's binary_logloss: 0.486046\n",
      "[1450]\tvalid_0's binary_logloss: 0.486041\n",
      "[1460]\tvalid_0's binary_logloss: 0.486039\n",
      "[1470]\tvalid_0's binary_logloss: 0.486035\n",
      "[1480]\tvalid_0's binary_logloss: 0.486031\n",
      "[1490]\tvalid_0's binary_logloss: 0.486029\n",
      "[1500]\tvalid_0's binary_logloss: 0.486027\n",
      "Did not meet early stopping. Best iteration is:\n",
      "[1500]\tvalid_0's binary_logloss: 0.486027\n"
     ]
    },
    {
     "name": "stderr",
     "output_type": "stream",
     "text": [
      "c:\\Users\\tjddl\\AppData\\Local\\Programs\\Python\\Python310\\lib\\site-packages\\sklearn\\utils\\deprecation.py:151: FutureWarning: 'force_all_finite' was renamed to 'ensure_all_finite' in 1.6 and will be removed in 1.8.\n",
      "  warnings.warn(\n"
     ]
    },
    {
     "name": "stdout",
     "output_type": "stream",
     "text": [
      "최종 모델 ROC AUC: 0.738932\n"
     ]
    },
    {
     "data": {
      "text/html": [],
      "text/plain": [
       "<IPython.core.display.HTML object>"
      ]
     },
     "metadata": {},
     "output_type": "display_data"
    },
    {
     "data": {
      "text/html": [
       "<br>    <style><br>        .wandb-row {<br>            display: flex;<br>            flex-direction: row;<br>            flex-wrap: wrap;<br>            justify-content: flex-start;<br>            width: 100%;<br>        }<br>        .wandb-col {<br>            display: flex;<br>            flex-direction: column;<br>            flex-basis: 100%;<br>            flex: 1;<br>            padding: 10px;<br>        }<br>    </style><br><div class=\"wandb-row\"><div class=\"wandb-col\"><h3>Run history:</h3><br/><table class=\"wandb\"><tr><td>final_validation_roc_auc</td><td>▁</td></tr></table><br/></div><div class=\"wandb-col\"><h3>Run summary:</h3><br/><table class=\"wandb\"><tr><td>final_validation_roc_auc</td><td>0.73893</td></tr></table><br/></div></div>"
      ],
      "text/plain": [
       "<IPython.core.display.HTML object>"
      ]
     },
     "metadata": {},
     "output_type": "display_data"
    },
    {
     "data": {
      "text/html": [
       " View run <strong style=\"color:#cdcd00\">frosty-sweep-6</strong> at: <a href='https://wandb.ai/espada105-hanseouniversity/LGaimers/runs/guvne2fe' target=\"_blank\">https://wandb.ai/espada105-hanseouniversity/LGaimers/runs/guvne2fe</a><br> View project at: <a href='https://wandb.ai/espada105-hanseouniversity/LGaimers' target=\"_blank\">https://wandb.ai/espada105-hanseouniversity/LGaimers</a><br>Synced 5 W&B file(s), 0 media file(s), 0 artifact file(s) and 0 other file(s)"
      ],
      "text/plain": [
       "<IPython.core.display.HTML object>"
      ]
     },
     "metadata": {},
     "output_type": "display_data"
    },
    {
     "data": {
      "text/html": [
       "Find logs at: <code>.\\wandb\\run-20250208_013724-guvne2fe\\logs</code>"
      ],
      "text/plain": [
       "<IPython.core.display.HTML object>"
      ]
     },
     "metadata": {},
     "output_type": "display_data"
    },
    {
     "name": "stderr",
     "output_type": "stream",
     "text": [
      "\u001b[34m\u001b[1mwandb\u001b[0m: Agent Starting Run: 6b3xh08i with config:\n",
      "\u001b[34m\u001b[1mwandb\u001b[0m: \tlearning_rate: 0.005\n",
      "\u001b[34m\u001b[1mwandb\u001b[0m: \tmax_depth: 12\n",
      "\u001b[34m\u001b[1mwandb\u001b[0m: \tn_estimators: 1000\n",
      "\u001b[34m\u001b[1mwandb\u001b[0m: \trandom_state: 42\n",
      "\u001b[34m\u001b[1mwandb\u001b[0m: \tstopping_rounds: 100\n",
      "\u001b[34m\u001b[1mwandb\u001b[0m: \ttest_size: 0.2\n"
     ]
    },
    {
     "data": {
      "text/html": [
       "Ignoring project 'LGaimers' when running a sweep."
      ],
      "text/plain": [
       "<IPython.core.display.HTML object>"
      ]
     },
     "metadata": {},
     "output_type": "display_data"
    },
    {
     "data": {
      "text/html": [
       "Ignoring entity 'espada105-hanseouniversity' when running a sweep."
      ],
      "text/plain": [
       "<IPython.core.display.HTML object>"
      ]
     },
     "metadata": {},
     "output_type": "display_data"
    },
    {
     "data": {
      "text/html": [
       "Tracking run with wandb version 0.19.6"
      ],
      "text/plain": [
       "<IPython.core.display.HTML object>"
      ]
     },
     "metadata": {},
     "output_type": "display_data"
    },
    {
     "data": {
      "text/html": [
       "Run data is saved locally in <code>c:\\GitHubRepo\\AI_Predicting_Pregnancy_Success\\HongSeongIn\\wandb\\run-20250208_013750-6b3xh08i</code>"
      ],
      "text/plain": [
       "<IPython.core.display.HTML object>"
      ]
     },
     "metadata": {},
     "output_type": "display_data"
    },
    {
     "data": {
      "text/html": [
       "Syncing run <strong><a href='https://wandb.ai/espada105-hanseouniversity/LGaimers/runs/6b3xh08i' target=\"_blank\">wobbly-sweep-7</a></strong> to <a href='https://wandb.ai/espada105-hanseouniversity/LGaimers' target=\"_blank\">Weights & Biases</a> (<a href='https://wandb.me/developer-guide' target=\"_blank\">docs</a>)<br>Sweep page: <a href='https://wandb.ai/espada105-hanseouniversity/LGaimers/sweeps/dem4d8yd' target=\"_blank\">https://wandb.ai/espada105-hanseouniversity/LGaimers/sweeps/dem4d8yd</a>"
      ],
      "text/plain": [
       "<IPython.core.display.HTML object>"
      ]
     },
     "metadata": {},
     "output_type": "display_data"
    },
    {
     "data": {
      "text/html": [
       " View project at <a href='https://wandb.ai/espada105-hanseouniversity/LGaimers' target=\"_blank\">https://wandb.ai/espada105-hanseouniversity/LGaimers</a>"
      ],
      "text/plain": [
       "<IPython.core.display.HTML object>"
      ]
     },
     "metadata": {},
     "output_type": "display_data"
    },
    {
     "data": {
      "text/html": [
       " View sweep at <a href='https://wandb.ai/espada105-hanseouniversity/LGaimers/sweeps/dem4d8yd' target=\"_blank\">https://wandb.ai/espada105-hanseouniversity/LGaimers/sweeps/dem4d8yd</a>"
      ],
      "text/plain": [
       "<IPython.core.display.HTML object>"
      ]
     },
     "metadata": {},
     "output_type": "display_data"
    },
    {
     "data": {
      "text/html": [
       " View run at <a href='https://wandb.ai/espada105-hanseouniversity/LGaimers/runs/6b3xh08i' target=\"_blank\">https://wandb.ai/espada105-hanseouniversity/LGaimers/runs/6b3xh08i</a>"
      ],
      "text/plain": [
       "<IPython.core.display.HTML object>"
      ]
     },
     "metadata": {},
     "output_type": "display_data"
    },
    {
     "name": "stdout",
     "output_type": "stream",
     "text": [
      "Training until validation scores don't improve for 100 rounds\n",
      "Did not meet early stopping. Best iteration is:\n",
      "[1000]\tvalid_0's binary_logloss: 0.486565\n"
     ]
    },
    {
     "name": "stderr",
     "output_type": "stream",
     "text": [
      "c:\\Users\\tjddl\\AppData\\Local\\Programs\\Python\\Python310\\lib\\site-packages\\sklearn\\utils\\validation.py:2732: UserWarning: X has feature names, but SelectFromModel was fitted without feature names\n",
      "  warnings.warn(\n",
      "c:\\Users\\tjddl\\AppData\\Local\\Programs\\Python\\Python310\\lib\\site-packages\\sklearn\\utils\\validation.py:2732: UserWarning: X has feature names, but SelectFromModel was fitted without feature names\n",
      "  warnings.warn(\n",
      "c:\\Users\\tjddl\\AppData\\Local\\Programs\\Python\\Python310\\lib\\site-packages\\sklearn\\utils\\deprecation.py:151: FutureWarning: 'force_all_finite' was renamed to 'ensure_all_finite' in 1.6 and will be removed in 1.8.\n",
      "  warnings.warn(\n"
     ]
    },
    {
     "name": "stdout",
     "output_type": "stream",
     "text": [
      "Training until validation scores don't improve for 100 rounds\n",
      "[10]\tvalid_0's binary_logloss: 0.563006\n",
      "[20]\tvalid_0's binary_logloss: 0.557681\n",
      "[30]\tvalid_0's binary_logloss: 0.552819\n",
      "[40]\tvalid_0's binary_logloss: 0.548374\n",
      "[50]\tvalid_0's binary_logloss: 0.544288\n",
      "[60]\tvalid_0's binary_logloss: 0.540528\n",
      "[70]\tvalid_0's binary_logloss: 0.537068\n",
      "[80]\tvalid_0's binary_logloss: 0.533871\n",
      "[90]\tvalid_0's binary_logloss: 0.530909\n",
      "[100]\tvalid_0's binary_logloss: 0.528158\n",
      "[110]\tvalid_0's binary_logloss: 0.52561\n",
      "[120]\tvalid_0's binary_logloss: 0.523247\n",
      "[130]\tvalid_0's binary_logloss: 0.521057\n",
      "[140]\tvalid_0's binary_logloss: 0.51901\n",
      "[150]\tvalid_0's binary_logloss: 0.517108\n",
      "[160]\tvalid_0's binary_logloss: 0.515333\n",
      "[170]\tvalid_0's binary_logloss: 0.513672\n",
      "[180]\tvalid_0's binary_logloss: 0.512112\n",
      "[190]\tvalid_0's binary_logloss: 0.510662\n",
      "[200]\tvalid_0's binary_logloss: 0.509307\n",
      "[210]\tvalid_0's binary_logloss: 0.508043\n",
      "[220]\tvalid_0's binary_logloss: 0.506855\n",
      "[230]\tvalid_0's binary_logloss: 0.505747\n",
      "[240]\tvalid_0's binary_logloss: 0.504702\n",
      "[250]\tvalid_0's binary_logloss: 0.503719\n",
      "[260]\tvalid_0's binary_logloss: 0.502798\n",
      "[270]\tvalid_0's binary_logloss: 0.501924\n",
      "[280]\tvalid_0's binary_logloss: 0.501101\n",
      "[290]\tvalid_0's binary_logloss: 0.500324\n",
      "[300]\tvalid_0's binary_logloss: 0.499599\n",
      "[310]\tvalid_0's binary_logloss: 0.498914\n",
      "[320]\tvalid_0's binary_logloss: 0.498272\n",
      "[330]\tvalid_0's binary_logloss: 0.497667\n",
      "[340]\tvalid_0's binary_logloss: 0.4971\n",
      "[350]\tvalid_0's binary_logloss: 0.496566\n",
      "[360]\tvalid_0's binary_logloss: 0.496066\n",
      "[370]\tvalid_0's binary_logloss: 0.495583\n",
      "[380]\tvalid_0's binary_logloss: 0.495126\n",
      "[390]\tvalid_0's binary_logloss: 0.494694\n",
      "[400]\tvalid_0's binary_logloss: 0.494289\n",
      "[410]\tvalid_0's binary_logloss: 0.493905\n",
      "[420]\tvalid_0's binary_logloss: 0.493542\n",
      "[430]\tvalid_0's binary_logloss: 0.493195\n",
      "[440]\tvalid_0's binary_logloss: 0.49287\n",
      "[450]\tvalid_0's binary_logloss: 0.49256\n",
      "[460]\tvalid_0's binary_logloss: 0.492265\n",
      "[470]\tvalid_0's binary_logloss: 0.491984\n",
      "[480]\tvalid_0's binary_logloss: 0.491719\n",
      "[490]\tvalid_0's binary_logloss: 0.49146\n",
      "[500]\tvalid_0's binary_logloss: 0.491206\n",
      "[510]\tvalid_0's binary_logloss: 0.490974\n",
      "[520]\tvalid_0's binary_logloss: 0.490749\n",
      "[530]\tvalid_0's binary_logloss: 0.490537\n",
      "[540]\tvalid_0's binary_logloss: 0.490337\n",
      "[550]\tvalid_0's binary_logloss: 0.490144\n",
      "[560]\tvalid_0's binary_logloss: 0.489962\n",
      "[570]\tvalid_0's binary_logloss: 0.489792\n",
      "[580]\tvalid_0's binary_logloss: 0.489625\n",
      "[590]\tvalid_0's binary_logloss: 0.489461\n",
      "[600]\tvalid_0's binary_logloss: 0.48931\n",
      "[610]\tvalid_0's binary_logloss: 0.489167\n",
      "[620]\tvalid_0's binary_logloss: 0.489035\n",
      "[630]\tvalid_0's binary_logloss: 0.488901\n",
      "[640]\tvalid_0's binary_logloss: 0.48878\n",
      "[650]\tvalid_0's binary_logloss: 0.488662\n",
      "[660]\tvalid_0's binary_logloss: 0.488548\n",
      "[670]\tvalid_0's binary_logloss: 0.488439\n",
      "[680]\tvalid_0's binary_logloss: 0.488338\n",
      "[690]\tvalid_0's binary_logloss: 0.48824\n",
      "[700]\tvalid_0's binary_logloss: 0.488148\n",
      "[710]\tvalid_0's binary_logloss: 0.488056\n",
      "[720]\tvalid_0's binary_logloss: 0.487968\n",
      "[730]\tvalid_0's binary_logloss: 0.48788\n",
      "[740]\tvalid_0's binary_logloss: 0.487796\n",
      "[750]\tvalid_0's binary_logloss: 0.48772\n",
      "[760]\tvalid_0's binary_logloss: 0.487646\n",
      "[770]\tvalid_0's binary_logloss: 0.48757\n",
      "[780]\tvalid_0's binary_logloss: 0.4875\n",
      "[790]\tvalid_0's binary_logloss: 0.487431\n",
      "[800]\tvalid_0's binary_logloss: 0.48737\n",
      "[810]\tvalid_0's binary_logloss: 0.487314\n",
      "[820]\tvalid_0's binary_logloss: 0.487258\n",
      "[830]\tvalid_0's binary_logloss: 0.487205\n",
      "[840]\tvalid_0's binary_logloss: 0.487152\n",
      "[850]\tvalid_0's binary_logloss: 0.487102\n",
      "[860]\tvalid_0's binary_logloss: 0.487054\n",
      "[870]\tvalid_0's binary_logloss: 0.487005\n",
      "[880]\tvalid_0's binary_logloss: 0.48696\n",
      "[890]\tvalid_0's binary_logloss: 0.486916\n",
      "[900]\tvalid_0's binary_logloss: 0.486875\n",
      "[910]\tvalid_0's binary_logloss: 0.486837\n",
      "[920]\tvalid_0's binary_logloss: 0.486801\n",
      "[930]\tvalid_0's binary_logloss: 0.486769\n",
      "[940]\tvalid_0's binary_logloss: 0.486737\n",
      "[950]\tvalid_0's binary_logloss: 0.486709\n",
      "[960]\tvalid_0's binary_logloss: 0.486683\n",
      "[970]\tvalid_0's binary_logloss: 0.486656\n",
      "[980]\tvalid_0's binary_logloss: 0.48663\n",
      "[990]\tvalid_0's binary_logloss: 0.486607\n",
      "[1000]\tvalid_0's binary_logloss: 0.486583\n",
      "Did not meet early stopping. Best iteration is:\n",
      "[1000]\tvalid_0's binary_logloss: 0.486583\n"
     ]
    },
    {
     "name": "stderr",
     "output_type": "stream",
     "text": [
      "c:\\Users\\tjddl\\AppData\\Local\\Programs\\Python\\Python310\\lib\\site-packages\\sklearn\\utils\\deprecation.py:151: FutureWarning: 'force_all_finite' was renamed to 'ensure_all_finite' in 1.6 and will be removed in 1.8.\n",
      "  warnings.warn(\n"
     ]
    },
    {
     "name": "stdout",
     "output_type": "stream",
     "text": [
      "최종 모델 ROC AUC: 0.738330\n"
     ]
    },
    {
     "data": {
      "text/html": [],
      "text/plain": [
       "<IPython.core.display.HTML object>"
      ]
     },
     "metadata": {},
     "output_type": "display_data"
    },
    {
     "data": {
      "text/html": [
       "<br>    <style><br>        .wandb-row {<br>            display: flex;<br>            flex-direction: row;<br>            flex-wrap: wrap;<br>            justify-content: flex-start;<br>            width: 100%;<br>        }<br>        .wandb-col {<br>            display: flex;<br>            flex-direction: column;<br>            flex-basis: 100%;<br>            flex: 1;<br>            padding: 10px;<br>        }<br>    </style><br><div class=\"wandb-row\"><div class=\"wandb-col\"><h3>Run history:</h3><br/><table class=\"wandb\"><tr><td>final_validation_roc_auc</td><td>▁</td></tr></table><br/></div><div class=\"wandb-col\"><h3>Run summary:</h3><br/><table class=\"wandb\"><tr><td>final_validation_roc_auc</td><td>0.73833</td></tr></table><br/></div></div>"
      ],
      "text/plain": [
       "<IPython.core.display.HTML object>"
      ]
     },
     "metadata": {},
     "output_type": "display_data"
    },
    {
     "data": {
      "text/html": [
       " View run <strong style=\"color:#cdcd00\">wobbly-sweep-7</strong> at: <a href='https://wandb.ai/espada105-hanseouniversity/LGaimers/runs/6b3xh08i' target=\"_blank\">https://wandb.ai/espada105-hanseouniversity/LGaimers/runs/6b3xh08i</a><br> View project at: <a href='https://wandb.ai/espada105-hanseouniversity/LGaimers' target=\"_blank\">https://wandb.ai/espada105-hanseouniversity/LGaimers</a><br>Synced 5 W&B file(s), 0 media file(s), 0 artifact file(s) and 0 other file(s)"
      ],
      "text/plain": [
       "<IPython.core.display.HTML object>"
      ]
     },
     "metadata": {},
     "output_type": "display_data"
    },
    {
     "data": {
      "text/html": [
       "Find logs at: <code>.\\wandb\\run-20250208_013750-6b3xh08i\\logs</code>"
      ],
      "text/plain": [
       "<IPython.core.display.HTML object>"
      ]
     },
     "metadata": {},
     "output_type": "display_data"
    },
    {
     "name": "stderr",
     "output_type": "stream",
     "text": [
      "\u001b[34m\u001b[1mwandb\u001b[0m: Sweep Agent: Waiting for job.\n",
      "\u001b[34m\u001b[1mwandb\u001b[0m: Job received.\n",
      "\u001b[34m\u001b[1mwandb\u001b[0m: Agent Starting Run: za53ctwq with config:\n",
      "\u001b[34m\u001b[1mwandb\u001b[0m: \tlearning_rate: 0.005\n",
      "\u001b[34m\u001b[1mwandb\u001b[0m: \tmax_depth: 12\n",
      "\u001b[34m\u001b[1mwandb\u001b[0m: \tn_estimators: 1500\n",
      "\u001b[34m\u001b[1mwandb\u001b[0m: \trandom_state: 42\n",
      "\u001b[34m\u001b[1mwandb\u001b[0m: \tstopping_rounds: 100\n",
      "\u001b[34m\u001b[1mwandb\u001b[0m: \ttest_size: 0.2\n"
     ]
    },
    {
     "data": {
      "text/html": [
       "Ignoring project 'LGaimers' when running a sweep."
      ],
      "text/plain": [
       "<IPython.core.display.HTML object>"
      ]
     },
     "metadata": {},
     "output_type": "display_data"
    },
    {
     "data": {
      "text/html": [
       "Ignoring entity 'espada105-hanseouniversity' when running a sweep."
      ],
      "text/plain": [
       "<IPython.core.display.HTML object>"
      ]
     },
     "metadata": {},
     "output_type": "display_data"
    },
    {
     "data": {
      "text/html": [
       "Tracking run with wandb version 0.19.6"
      ],
      "text/plain": [
       "<IPython.core.display.HTML object>"
      ]
     },
     "metadata": {},
     "output_type": "display_data"
    },
    {
     "data": {
      "text/html": [
       "Run data is saved locally in <code>c:\\GitHubRepo\\AI_Predicting_Pregnancy_Success\\HongSeongIn\\wandb\\run-20250208_013821-za53ctwq</code>"
      ],
      "text/plain": [
       "<IPython.core.display.HTML object>"
      ]
     },
     "metadata": {},
     "output_type": "display_data"
    },
    {
     "data": {
      "text/html": [
       "Syncing run <strong><a href='https://wandb.ai/espada105-hanseouniversity/LGaimers/runs/za53ctwq' target=\"_blank\">resilient-sweep-8</a></strong> to <a href='https://wandb.ai/espada105-hanseouniversity/LGaimers' target=\"_blank\">Weights & Biases</a> (<a href='https://wandb.me/developer-guide' target=\"_blank\">docs</a>)<br>Sweep page: <a href='https://wandb.ai/espada105-hanseouniversity/LGaimers/sweeps/dem4d8yd' target=\"_blank\">https://wandb.ai/espada105-hanseouniversity/LGaimers/sweeps/dem4d8yd</a>"
      ],
      "text/plain": [
       "<IPython.core.display.HTML object>"
      ]
     },
     "metadata": {},
     "output_type": "display_data"
    },
    {
     "data": {
      "text/html": [
       " View project at <a href='https://wandb.ai/espada105-hanseouniversity/LGaimers' target=\"_blank\">https://wandb.ai/espada105-hanseouniversity/LGaimers</a>"
      ],
      "text/plain": [
       "<IPython.core.display.HTML object>"
      ]
     },
     "metadata": {},
     "output_type": "display_data"
    },
    {
     "data": {
      "text/html": [
       " View sweep at <a href='https://wandb.ai/espada105-hanseouniversity/LGaimers/sweeps/dem4d8yd' target=\"_blank\">https://wandb.ai/espada105-hanseouniversity/LGaimers/sweeps/dem4d8yd</a>"
      ],
      "text/plain": [
       "<IPython.core.display.HTML object>"
      ]
     },
     "metadata": {},
     "output_type": "display_data"
    },
    {
     "data": {
      "text/html": [
       " View run at <a href='https://wandb.ai/espada105-hanseouniversity/LGaimers/runs/za53ctwq' target=\"_blank\">https://wandb.ai/espada105-hanseouniversity/LGaimers/runs/za53ctwq</a>"
      ],
      "text/plain": [
       "<IPython.core.display.HTML object>"
      ]
     },
     "metadata": {},
     "output_type": "display_data"
    },
    {
     "name": "stdout",
     "output_type": "stream",
     "text": [
      "Training until validation scores don't improve for 100 rounds\n",
      "Did not meet early stopping. Best iteration is:\n",
      "[1499]\tvalid_0's binary_logloss: 0.486014\n"
     ]
    },
    {
     "name": "stderr",
     "output_type": "stream",
     "text": [
      "c:\\Users\\tjddl\\AppData\\Local\\Programs\\Python\\Python310\\lib\\site-packages\\sklearn\\utils\\validation.py:2732: UserWarning: X has feature names, but SelectFromModel was fitted without feature names\n",
      "  warnings.warn(\n",
      "c:\\Users\\tjddl\\AppData\\Local\\Programs\\Python\\Python310\\lib\\site-packages\\sklearn\\utils\\validation.py:2732: UserWarning: X has feature names, but SelectFromModel was fitted without feature names\n",
      "  warnings.warn(\n",
      "c:\\Users\\tjddl\\AppData\\Local\\Programs\\Python\\Python310\\lib\\site-packages\\sklearn\\utils\\deprecation.py:151: FutureWarning: 'force_all_finite' was renamed to 'ensure_all_finite' in 1.6 and will be removed in 1.8.\n",
      "  warnings.warn(\n"
     ]
    },
    {
     "name": "stdout",
     "output_type": "stream",
     "text": [
      "Training until validation scores don't improve for 100 rounds\n",
      "[10]\tvalid_0's binary_logloss: 0.563006\n",
      "[20]\tvalid_0's binary_logloss: 0.557681\n",
      "[30]\tvalid_0's binary_logloss: 0.55282\n",
      "[40]\tvalid_0's binary_logloss: 0.548377\n",
      "[50]\tvalid_0's binary_logloss: 0.544292\n",
      "[60]\tvalid_0's binary_logloss: 0.540533\n",
      "[70]\tvalid_0's binary_logloss: 0.537072\n",
      "[80]\tvalid_0's binary_logloss: 0.533876\n",
      "[90]\tvalid_0's binary_logloss: 0.530913\n",
      "[100]\tvalid_0's binary_logloss: 0.528161\n",
      "[110]\tvalid_0's binary_logloss: 0.525616\n",
      "[120]\tvalid_0's binary_logloss: 0.523249\n",
      "[130]\tvalid_0's binary_logloss: 0.521059\n",
      "[140]\tvalid_0's binary_logloss: 0.519011\n",
      "[150]\tvalid_0's binary_logloss: 0.51711\n",
      "[160]\tvalid_0's binary_logloss: 0.515336\n",
      "[170]\tvalid_0's binary_logloss: 0.513679\n",
      "[180]\tvalid_0's binary_logloss: 0.512121\n",
      "[190]\tvalid_0's binary_logloss: 0.510669\n",
      "[200]\tvalid_0's binary_logloss: 0.509312\n",
      "[210]\tvalid_0's binary_logloss: 0.508048\n",
      "[220]\tvalid_0's binary_logloss: 0.50686\n",
      "[230]\tvalid_0's binary_logloss: 0.505751\n",
      "[240]\tvalid_0's binary_logloss: 0.504708\n",
      "[250]\tvalid_0's binary_logloss: 0.503726\n",
      "[260]\tvalid_0's binary_logloss: 0.5028\n",
      "[270]\tvalid_0's binary_logloss: 0.501931\n",
      "[280]\tvalid_0's binary_logloss: 0.501107\n",
      "[290]\tvalid_0's binary_logloss: 0.500331\n",
      "[300]\tvalid_0's binary_logloss: 0.499603\n",
      "[310]\tvalid_0's binary_logloss: 0.498918\n",
      "[320]\tvalid_0's binary_logloss: 0.498275\n",
      "[330]\tvalid_0's binary_logloss: 0.497667\n",
      "[340]\tvalid_0's binary_logloss: 0.4971\n",
      "[350]\tvalid_0's binary_logloss: 0.496565\n",
      "[360]\tvalid_0's binary_logloss: 0.496061\n",
      "[370]\tvalid_0's binary_logloss: 0.495582\n",
      "[380]\tvalid_0's binary_logloss: 0.495122\n",
      "[390]\tvalid_0's binary_logloss: 0.494694\n",
      "[400]\tvalid_0's binary_logloss: 0.494288\n",
      "[410]\tvalid_0's binary_logloss: 0.493903\n",
      "[420]\tvalid_0's binary_logloss: 0.493539\n",
      "[430]\tvalid_0's binary_logloss: 0.493194\n",
      "[440]\tvalid_0's binary_logloss: 0.492867\n",
      "[450]\tvalid_0's binary_logloss: 0.492553\n",
      "[460]\tvalid_0's binary_logloss: 0.492258\n",
      "[470]\tvalid_0's binary_logloss: 0.49198\n",
      "[480]\tvalid_0's binary_logloss: 0.491715\n",
      "[490]\tvalid_0's binary_logloss: 0.491452\n",
      "[500]\tvalid_0's binary_logloss: 0.491201\n",
      "[510]\tvalid_0's binary_logloss: 0.490966\n",
      "[520]\tvalid_0's binary_logloss: 0.490736\n",
      "[530]\tvalid_0's binary_logloss: 0.490524\n",
      "[540]\tvalid_0's binary_logloss: 0.490326\n",
      "[550]\tvalid_0's binary_logloss: 0.490127\n",
      "[560]\tvalid_0's binary_logloss: 0.489951\n",
      "[570]\tvalid_0's binary_logloss: 0.489777\n",
      "[580]\tvalid_0's binary_logloss: 0.489602\n",
      "[590]\tvalid_0's binary_logloss: 0.489444\n",
      "[600]\tvalid_0's binary_logloss: 0.489291\n",
      "[610]\tvalid_0's binary_logloss: 0.489151\n",
      "[620]\tvalid_0's binary_logloss: 0.489016\n",
      "[630]\tvalid_0's binary_logloss: 0.488891\n",
      "[640]\tvalid_0's binary_logloss: 0.488769\n",
      "[650]\tvalid_0's binary_logloss: 0.488658\n",
      "[660]\tvalid_0's binary_logloss: 0.488546\n",
      "[670]\tvalid_0's binary_logloss: 0.488441\n",
      "[680]\tvalid_0's binary_logloss: 0.488334\n",
      "[690]\tvalid_0's binary_logloss: 0.488235\n",
      "[700]\tvalid_0's binary_logloss: 0.488144\n",
      "[710]\tvalid_0's binary_logloss: 0.488054\n",
      "[720]\tvalid_0's binary_logloss: 0.487967\n",
      "[730]\tvalid_0's binary_logloss: 0.487883\n",
      "[740]\tvalid_0's binary_logloss: 0.487804\n",
      "[750]\tvalid_0's binary_logloss: 0.487726\n",
      "[760]\tvalid_0's binary_logloss: 0.487652\n",
      "[770]\tvalid_0's binary_logloss: 0.487579\n",
      "[780]\tvalid_0's binary_logloss: 0.487505\n",
      "[790]\tvalid_0's binary_logloss: 0.487431\n",
      "[800]\tvalid_0's binary_logloss: 0.487363\n",
      "[810]\tvalid_0's binary_logloss: 0.487304\n",
      "[820]\tvalid_0's binary_logloss: 0.487256\n",
      "[830]\tvalid_0's binary_logloss: 0.487205\n",
      "[840]\tvalid_0's binary_logloss: 0.487153\n",
      "[850]\tvalid_0's binary_logloss: 0.487102\n",
      "[860]\tvalid_0's binary_logloss: 0.487053\n",
      "[870]\tvalid_0's binary_logloss: 0.487001\n",
      "[880]\tvalid_0's binary_logloss: 0.48696\n",
      "[890]\tvalid_0's binary_logloss: 0.486917\n",
      "[900]\tvalid_0's binary_logloss: 0.48687\n",
      "[910]\tvalid_0's binary_logloss: 0.486835\n",
      "[920]\tvalid_0's binary_logloss: 0.486798\n",
      "[930]\tvalid_0's binary_logloss: 0.486764\n",
      "[940]\tvalid_0's binary_logloss: 0.486734\n",
      "[950]\tvalid_0's binary_logloss: 0.486705\n",
      "[960]\tvalid_0's binary_logloss: 0.486678\n",
      "[970]\tvalid_0's binary_logloss: 0.486651\n",
      "[980]\tvalid_0's binary_logloss: 0.486623\n",
      "[990]\tvalid_0's binary_logloss: 0.4866\n",
      "[1000]\tvalid_0's binary_logloss: 0.486576\n",
      "[1010]\tvalid_0's binary_logloss: 0.486553\n",
      "[1020]\tvalid_0's binary_logloss: 0.48653\n",
      "[1030]\tvalid_0's binary_logloss: 0.48651\n",
      "[1040]\tvalid_0's binary_logloss: 0.486493\n",
      "[1050]\tvalid_0's binary_logloss: 0.486473\n",
      "[1060]\tvalid_0's binary_logloss: 0.486456\n",
      "[1070]\tvalid_0's binary_logloss: 0.486439\n",
      "[1080]\tvalid_0's binary_logloss: 0.486424\n",
      "[1090]\tvalid_0's binary_logloss: 0.486408\n",
      "[1100]\tvalid_0's binary_logloss: 0.48639\n",
      "[1110]\tvalid_0's binary_logloss: 0.486372\n",
      "[1120]\tvalid_0's binary_logloss: 0.486358\n",
      "[1130]\tvalid_0's binary_logloss: 0.486347\n",
      "[1140]\tvalid_0's binary_logloss: 0.486312\n",
      "[1150]\tvalid_0's binary_logloss: 0.486286\n",
      "[1160]\tvalid_0's binary_logloss: 0.486272\n",
      "[1170]\tvalid_0's binary_logloss: 0.48626\n",
      "[1180]\tvalid_0's binary_logloss: 0.486251\n",
      "[1190]\tvalid_0's binary_logloss: 0.486244\n",
      "[1200]\tvalid_0's binary_logloss: 0.486234\n",
      "[1210]\tvalid_0's binary_logloss: 0.486224\n",
      "[1220]\tvalid_0's binary_logloss: 0.486217\n",
      "[1230]\tvalid_0's binary_logloss: 0.486204\n",
      "[1240]\tvalid_0's binary_logloss: 0.486197\n",
      "[1250]\tvalid_0's binary_logloss: 0.486191\n",
      "[1260]\tvalid_0's binary_logloss: 0.486181\n",
      "[1270]\tvalid_0's binary_logloss: 0.48617\n",
      "[1280]\tvalid_0's binary_logloss: 0.486161\n",
      "[1290]\tvalid_0's binary_logloss: 0.486154\n",
      "[1300]\tvalid_0's binary_logloss: 0.486145\n",
      "[1310]\tvalid_0's binary_logloss: 0.486137\n",
      "[1320]\tvalid_0's binary_logloss: 0.486132\n",
      "[1330]\tvalid_0's binary_logloss: 0.486127\n",
      "[1340]\tvalid_0's binary_logloss: 0.48612\n",
      "[1350]\tvalid_0's binary_logloss: 0.486113\n",
      "[1360]\tvalid_0's binary_logloss: 0.486104\n",
      "[1370]\tvalid_0's binary_logloss: 0.486099\n",
      "[1380]\tvalid_0's binary_logloss: 0.486094\n",
      "[1390]\tvalid_0's binary_logloss: 0.486088\n",
      "[1400]\tvalid_0's binary_logloss: 0.486081\n",
      "[1410]\tvalid_0's binary_logloss: 0.486074\n",
      "[1420]\tvalid_0's binary_logloss: 0.486067\n",
      "[1430]\tvalid_0's binary_logloss: 0.48606\n",
      "[1440]\tvalid_0's binary_logloss: 0.486055\n",
      "[1450]\tvalid_0's binary_logloss: 0.48605\n",
      "[1460]\tvalid_0's binary_logloss: 0.486044\n",
      "[1470]\tvalid_0's binary_logloss: 0.486039\n",
      "[1480]\tvalid_0's binary_logloss: 0.486035\n",
      "[1490]\tvalid_0's binary_logloss: 0.486029\n",
      "[1500]\tvalid_0's binary_logloss: 0.486025\n",
      "Did not meet early stopping. Best iteration is:\n",
      "[1500]\tvalid_0's binary_logloss: 0.486025\n"
     ]
    },
    {
     "name": "stderr",
     "output_type": "stream",
     "text": [
      "c:\\Users\\tjddl\\AppData\\Local\\Programs\\Python\\Python310\\lib\\site-packages\\sklearn\\utils\\deprecation.py:151: FutureWarning: 'force_all_finite' was renamed to 'ensure_all_finite' in 1.6 and will be removed in 1.8.\n",
      "  warnings.warn(\n"
     ]
    },
    {
     "name": "stdout",
     "output_type": "stream",
     "text": [
      "최종 모델 ROC AUC: 0.738965\n"
     ]
    },
    {
     "data": {
      "text/html": [],
      "text/plain": [
       "<IPython.core.display.HTML object>"
      ]
     },
     "metadata": {},
     "output_type": "display_data"
    },
    {
     "data": {
      "text/html": [
       "<br>    <style><br>        .wandb-row {<br>            display: flex;<br>            flex-direction: row;<br>            flex-wrap: wrap;<br>            justify-content: flex-start;<br>            width: 100%;<br>        }<br>        .wandb-col {<br>            display: flex;<br>            flex-direction: column;<br>            flex-basis: 100%;<br>            flex: 1;<br>            padding: 10px;<br>        }<br>    </style><br><div class=\"wandb-row\"><div class=\"wandb-col\"><h3>Run history:</h3><br/><table class=\"wandb\"><tr><td>final_validation_roc_auc</td><td>▁</td></tr></table><br/></div><div class=\"wandb-col\"><h3>Run summary:</h3><br/><table class=\"wandb\"><tr><td>final_validation_roc_auc</td><td>0.73897</td></tr></table><br/></div></div>"
      ],
      "text/plain": [
       "<IPython.core.display.HTML object>"
      ]
     },
     "metadata": {},
     "output_type": "display_data"
    },
    {
     "data": {
      "text/html": [
       " View run <strong style=\"color:#cdcd00\">resilient-sweep-8</strong> at: <a href='https://wandb.ai/espada105-hanseouniversity/LGaimers/runs/za53ctwq' target=\"_blank\">https://wandb.ai/espada105-hanseouniversity/LGaimers/runs/za53ctwq</a><br> View project at: <a href='https://wandb.ai/espada105-hanseouniversity/LGaimers' target=\"_blank\">https://wandb.ai/espada105-hanseouniversity/LGaimers</a><br>Synced 5 W&B file(s), 0 media file(s), 0 artifact file(s) and 0 other file(s)"
      ],
      "text/plain": [
       "<IPython.core.display.HTML object>"
      ]
     },
     "metadata": {},
     "output_type": "display_data"
    },
    {
     "data": {
      "text/html": [
       "Find logs at: <code>.\\wandb\\run-20250208_013821-za53ctwq\\logs</code>"
      ],
      "text/plain": [
       "<IPython.core.display.HTML object>"
      ]
     },
     "metadata": {},
     "output_type": "display_data"
    },
    {
     "name": "stderr",
     "output_type": "stream",
     "text": [
      "\u001b[34m\u001b[1mwandb\u001b[0m: Sweep Agent: Waiting for job.\n",
      "\u001b[34m\u001b[1mwandb\u001b[0m: Sweep Agent: Exiting.\n"
     ]
    }
   ],
   "source": [
    "import pandas as pd\n",
    "import numpy as np\n",
    "import wandb\n",
    "\n",
    "from sklearn.model_selection import train_test_split\n",
    "from sklearn.feature_selection import SelectFromModel\n",
    "from sklearn.metrics import accuracy_score\n",
    "import lightgbm as lgb\n",
    "from category_encoders import TargetEncoder\n",
    "from lightgbm import early_stopping, log_evaluation\n",
    "\n",
    "# -----------------------------\n",
    "# 1. wandb 로그인 및 스윕 설정\n",
    "# -----------------------------\n",
    "wandb.login(key=\"8bab4affd59dd33bd76096b069d74f6dc0abb056\")\n",
    "\n",
    "# 스윕 설정 (여기서는 그리드 서치를 예시로 함)\n",
    "sweep_config = {\n",
    "    'method': 'grid',  # 'grid', 'random', 'bayes' 중 선택\n",
    "    'metric': {\n",
    "        'name': 'final_validation_accuracy',\n",
    "        'goal': 'maximize'\n",
    "    },\n",
    "    'parameters': {\n",
    "        'n_estimators': {'values': [1000, 1500]},\n",
    "        'learning_rate': {'values': [0.01, 0.005]},\n",
    "        'max_depth': {'values': [10, 12]},\n",
    "        # 나머지 고정 파라미터는 'value'로 지정합니다.\n",
    "        'stopping_rounds': {'value': 100},\n",
    "        'test_size': {'value': 0.2},\n",
    "        'random_state': {'value': 42}\n",
    "    }\n",
    "}\n",
    "\n",
    "sweep_id = wandb.sweep(sweep_config, project=\"LGaimers\", entity=\"espada105-hanseouniversity\")\n",
    "print(\"Sweep ID:\", sweep_id)\n",
    "\n",
    "# -----------------------------\n",
    "# 2. run() 함수 정의: 하이퍼파라미터에 따른 모델 학습 및 평가\n",
    "# -----------------------------\n",
    "def run():\n",
    "    # 각 run마다 wandb 초기화 및 config 로드\n",
    "    wandb.init(project=\"LGaimers\", entity=\"espada105-hanseouniversity\")\n",
    "    config = wandb.config\n",
    "\n",
    "    # --- 데이터 불러오기 및 전처리 ---\n",
    "    # 학습 데이터 불러오기 (ID 컬럼 제거)\n",
    "    train_df = pd.read_csv('train.csv')\n",
    "    train_df = train_df.drop(columns=['ID'])\n",
    "    \n",
    "    # 타깃과 피처 분리 (타깃 컬럼명이 '임신 성공 여부'라고 가정)\n",
    "    X = train_df.drop('임신 성공 여부', axis=1)\n",
    "    y = train_df['임신 성공 여부']\n",
    "    \n",
    "    # 범주형 변수 목록 (실제 데이터에 맞게 수정)\n",
    "    categorical_columns = [\n",
    "        \"시술 시기 코드\", \"시술 당시 나이\", \"시술 유형\", \"특정 시술 유형\", \"배란 자극 여부\",\n",
    "        \"배란 유도 유형\", \"단일 배아 이식 여부\", \"착상 전 유전 검사 사용 여부\", \"착상 전 유전 진단 사용 여부\",\n",
    "        \"남성 주 불임 원인\", \"남성 부 불임 원인\", \"여성 주 불임 원인\", \"여성 부 불임 원인\", \"부부 주 불임 원인\",\n",
    "        \"부부 부 불임 원인\", \"불명확 불임 원인\", \"불임 원인 - 난관 질환\", \"불임 원인 - 남성 요인\",\n",
    "        \"불임 원인 - 배란 장애\", \"불임 원인 - 여성 요인\", \"불임 원인 - 자궁경부 문제\",\n",
    "        \"불임 원인 - 자궁내막증\", \"불임 원인 - 정자 농도\", \"불임 원인 - 정자 면역학적 요인\",\n",
    "        \"불임 원인 - 정자 운동성\", \"불임 원인 - 정자 형태\", \"배아 생성 주요 이유\", \"총 시술 횟수\",\n",
    "        \"클리닉 내 총 시술 횟수\", \"IVF 시술 횟수\", \"DI 시술 횟수\", \"총 임신 횟수\", \"IVF 임신 횟수\",\n",
    "        \"DI 임신 횟수\", \"총 출산 횟수\", \"IVF 출산 횟수\", \"DI 출산 횟수\", \"난자 출처\", \"정자 출처\",\n",
    "        \"난자 기증자 나이\", \"정자 기증자 나이\", \"동결 배아 사용 여부\", \"신선 배아 사용 여부\",\n",
    "        \"기증 배아 사용 여부\", \"대리모 여부\", \"PGD 시술 여부\", \"PGS 시술 여부\"\n",
    "    ]\n",
    "    numerical_columns = [col for col in X.columns if col not in categorical_columns]\n",
    "    \n",
    "    # TargetEncoder를 이용하여 범주형 변수 인코딩\n",
    "    encoder = TargetEncoder(cols=categorical_columns)\n",
    "    X_encoded = encoder.fit_transform(X, y)\n",
    "    \n",
    "    # train/validation 세트 분할 (config에 설정된 test_size와 random_state 사용)\n",
    "    X_train, X_val, y_train, y_val = train_test_split(\n",
    "        X_encoded, y, test_size=config.test_size, random_state=config.random_state\n",
    "    )\n",
    "    \n",
    "    # --- 초기 모델 학습 및 피처 선택 ---\n",
    "    base_model = lgb.LGBMClassifier(\n",
    "        n_estimators=config.n_estimators,\n",
    "        learning_rate=config.learning_rate,\n",
    "        max_depth=config.max_depth,\n",
    "        random_state=config.random_state\n",
    "    )\n",
    "    callbacks = [early_stopping(stopping_rounds=config.stopping_rounds, verbose=True)]\n",
    "    \n",
    "    base_model.fit(X_train, y_train, eval_set=[(X_val, y_val)], callbacks=callbacks)\n",
    "    \n",
    "    # SelectFromModel을 이용해 피처 선택 (중간값(threshold='median') 기준)\n",
    "    selector = SelectFromModel(base_model, prefit=True, threshold='median')\n",
    "    X_train_selected = selector.transform(X_train)\n",
    "    X_val_selected = selector.transform(X_val)\n",
    "    \n",
    "    # --- 최종 모델 학습 ---\n",
    "    final_model = lgb.LGBMClassifier(\n",
    "        n_estimators=config.n_estimators,\n",
    "        learning_rate=config.learning_rate,\n",
    "        max_depth=config.max_depth,\n",
    "        random_state=config.random_state\n",
    "    )\n",
    "    callbacks_final = [\n",
    "        early_stopping(stopping_rounds=config.stopping_rounds, verbose=True),\n",
    "        log_evaluation(10)\n",
    "    ]\n",
    "    final_model.fit(X_train_selected, y_train, eval_set=[(X_val_selected, y_val)], callbacks=callbacks_final)\n",
    "    \n",
    "    # 검증 데이터에 대한 예측 및 평가\n",
    "    from sklearn.metrics import roc_auc_score\n",
    "\n",
    "    # 최종 모델 예측 확률 (양성 클래스에 대한 확률)\n",
    "    y_pred_proba_final = final_model.predict_proba(X_val_selected)[:, 1]\n",
    "    roc_auc = roc_auc_score(y_val, y_pred_proba_final)\n",
    "    print(f\"최종 모델 ROC AUC: {roc_auc:.6f}\")\n",
    "    wandb.log({\"final_validation_roc_auc\": roc_auc})\n",
    "\n",
    "    wandb.finish()\n",
    "\n",
    "# -----------------------------\n",
    "# 3. wandb 에이전트를 이용해 스윕 실행\n",
    "# -----------------------------\n",
    "wandb.agent(sweep_id, function=run, count=10)\n"
   ]
  },
  {
   "cell_type": "markdown",
   "metadata": {},
   "source": [
    "# 3"
   ]
  },
  {
   "cell_type": "code",
   "execution_count": 5,
   "metadata": {},
   "outputs": [
    {
     "name": "stdout",
     "output_type": "stream",
     "text": [
      "Collecting seaborn\n",
      "  Downloading seaborn-0.13.2-py3-none-any.whl (294 kB)\n",
      "Requirement already satisfied: matplotlib!=3.6.1,>=3.4 in c:\\users\\tjddl\\appdata\\local\\programs\\python\\python310\\lib\\site-packages (from seaborn) (3.10.0)\n",
      "Requirement already satisfied: pandas>=1.2 in c:\\users\\tjddl\\appdata\\local\\programs\\python\\python310\\lib\\site-packages (from seaborn) (2.2.3)\n",
      "Requirement already satisfied: numpy!=1.24.0,>=1.20 in c:\\users\\tjddl\\appdata\\local\\programs\\python\\python310\\lib\\site-packages (from seaborn) (1.26.4)\n",
      "Requirement already satisfied: python-dateutil>=2.7 in c:\\users\\tjddl\\appdata\\local\\programs\\python\\python310\\lib\\site-packages (from matplotlib!=3.6.1,>=3.4->seaborn) (2.9.0.post0)\n",
      "Requirement already satisfied: contourpy>=1.0.1 in c:\\users\\tjddl\\appdata\\local\\programs\\python\\python310\\lib\\site-packages (from matplotlib!=3.6.1,>=3.4->seaborn) (1.3.1)\n",
      "Requirement already satisfied: kiwisolver>=1.3.1 in c:\\users\\tjddl\\appdata\\local\\programs\\python\\python310\\lib\\site-packages (from matplotlib!=3.6.1,>=3.4->seaborn) (1.4.8)\n",
      "Requirement already satisfied: pyparsing>=2.3.1 in c:\\users\\tjddl\\appdata\\local\\programs\\python\\python310\\lib\\site-packages (from matplotlib!=3.6.1,>=3.4->seaborn) (3.2.1)\n",
      "Requirement already satisfied: packaging>=20.0 in c:\\users\\tjddl\\appdata\\roaming\\python\\python310\\site-packages (from matplotlib!=3.6.1,>=3.4->seaborn) (24.2)\n",
      "Requirement already satisfied: cycler>=0.10 in c:\\users\\tjddl\\appdata\\local\\programs\\python\\python310\\lib\\site-packages (from matplotlib!=3.6.1,>=3.4->seaborn) (0.12.1)\n",
      "Requirement already satisfied: fonttools>=4.22.0 in c:\\users\\tjddl\\appdata\\local\\programs\\python\\python310\\lib\\site-packages (from matplotlib!=3.6.1,>=3.4->seaborn) (4.55.8)\n",
      "Requirement already satisfied: pillow>=8 in c:\\users\\tjddl\\appdata\\local\\programs\\python\\python310\\lib\\site-packages (from matplotlib!=3.6.1,>=3.4->seaborn) (11.1.0)\n",
      "Requirement already satisfied: tzdata>=2022.7 in c:\\users\\tjddl\\appdata\\local\\programs\\python\\python310\\lib\\site-packages (from pandas>=1.2->seaborn) (2025.1)\n",
      "Requirement already satisfied: pytz>=2020.1 in c:\\users\\tjddl\\appdata\\local\\programs\\python\\python310\\lib\\site-packages (from pandas>=1.2->seaborn) (2025.1)\n",
      "Requirement already satisfied: six>=1.5 in c:\\users\\tjddl\\appdata\\local\\programs\\python\\python310\\lib\\site-packages (from python-dateutil>=2.7->matplotlib!=3.6.1,>=3.4->seaborn) (1.17.0)\n",
      "Installing collected packages: seaborn\n",
      "Successfully installed seaborn-0.13.2\n"
     ]
    },
    {
     "name": "stderr",
     "output_type": "stream",
     "text": [
      "WARNING: Ignoring invalid distribution -illow (c:\\users\\tjddl\\appdata\\local\\programs\\python\\python310\\lib\\site-packages)\n",
      "WARNING: Ignoring invalid distribution -illow (c:\\users\\tjddl\\appdata\\local\\programs\\python\\python310\\lib\\site-packages)\n",
      "WARNING: Ignoring invalid distribution -illow (c:\\users\\tjddl\\appdata\\local\\programs\\python\\python310\\lib\\site-packages)\n",
      "WARNING: Ignoring invalid distribution -illow (c:\\users\\tjddl\\appdata\\local\\programs\\python\\python310\\lib\\site-packages)\n",
      "WARNING: Ignoring invalid distribution -illow (c:\\users\\tjddl\\appdata\\local\\programs\\python\\python310\\lib\\site-packages)\n",
      "WARNING: Ignoring invalid distribution -illow (c:\\users\\tjddl\\appdata\\local\\programs\\python\\python310\\lib\\site-packages)\n",
      "WARNING: Ignoring invalid distribution -illow (c:\\users\\tjddl\\appdata\\local\\programs\\python\\python310\\lib\\site-packages)\n",
      "WARNING: You are using pip version 21.2.3; however, version 25.0 is available.\n",
      "You should consider upgrading via the 'C:\\Users\\tjddl\\AppData\\Local\\Programs\\Python\\Python310\\python.exe -m pip install --upgrade pip' command.\n"
     ]
    }
   ],
   "source": [
    "!pip install seaborn"
   ]
  },
  {
   "cell_type": "code",
   "execution_count": 2,
   "metadata": {},
   "outputs": [
    {
     "name": "stderr",
     "output_type": "stream",
     "text": [
      "\u001b[34m\u001b[1mwandb\u001b[0m: \u001b[33mWARNING\u001b[0m If you're specifying your api key in code, ensure this code is not shared publicly.\n",
      "\u001b[34m\u001b[1mwandb\u001b[0m: \u001b[33mWARNING\u001b[0m Consider setting the WANDB_API_KEY environment variable, or running `wandb login` from the command line.\n",
      "\u001b[34m\u001b[1mwandb\u001b[0m: Appending key for api.wandb.ai to your netrc file: C:\\Users\\tjddl\\_netrc\n"
     ]
    },
    {
     "name": "stdout",
     "output_type": "stream",
     "text": [
      "Create sweep with ID: 5e9b3czx\n",
      "Sweep URL: https://wandb.ai/espada105-hanseouniversity/LGaimers/sweeps/5e9b3czx\n",
      "Sweep ID: 5e9b3czx\n"
     ]
    },
    {
     "name": "stderr",
     "output_type": "stream",
     "text": [
      "\u001b[34m\u001b[1mwandb\u001b[0m: Agent Starting Run: 902irat0 with config:\n",
      "\u001b[34m\u001b[1mwandb\u001b[0m: \trandom_state: 42\n",
      "\u001b[34m\u001b[1mwandb\u001b[0m: \ttest_size: 0.2\n",
      "\u001b[34m\u001b[1mwandb\u001b[0m: \txgb_learning_rate: 0.01\n",
      "\u001b[34m\u001b[1mwandb\u001b[0m: \txgb_max_depth: 3\n",
      "\u001b[34m\u001b[1mwandb\u001b[0m: \txgb_n_estimators: 100\n"
     ]
    },
    {
     "data": {
      "text/html": [
       "Ignoring project 'LGaimers' when running a sweep."
      ],
      "text/plain": [
       "<IPython.core.display.HTML object>"
      ]
     },
     "metadata": {},
     "output_type": "display_data"
    },
    {
     "data": {
      "text/html": [
       "Ignoring entity 'espada105-hanseouniversity' when running a sweep."
      ],
      "text/plain": [
       "<IPython.core.display.HTML object>"
      ]
     },
     "metadata": {},
     "output_type": "display_data"
    },
    {
     "data": {
      "text/html": [
       "Tracking run with wandb version 0.19.6"
      ],
      "text/plain": [
       "<IPython.core.display.HTML object>"
      ]
     },
     "metadata": {},
     "output_type": "display_data"
    },
    {
     "data": {
      "text/html": [
       "Run data is saved locally in <code>c:\\GitHubRepo\\AI_Predicting_Pregnancy_Success\\HongSeongIn\\wandb\\run-20250208_125005-902irat0</code>"
      ],
      "text/plain": [
       "<IPython.core.display.HTML object>"
      ]
     },
     "metadata": {},
     "output_type": "display_data"
    },
    {
     "data": {
      "text/html": [
       "Syncing run <strong><a href='https://wandb.ai/espada105-hanseouniversity/LGaimers/runs/902irat0' target=\"_blank\">floral-sweep-1</a></strong> to <a href='https://wandb.ai/espada105-hanseouniversity/LGaimers' target=\"_blank\">Weights & Biases</a> (<a href='https://wandb.me/developer-guide' target=\"_blank\">docs</a>)<br>Sweep page: <a href='https://wandb.ai/espada105-hanseouniversity/LGaimers/sweeps/5e9b3czx' target=\"_blank\">https://wandb.ai/espada105-hanseouniversity/LGaimers/sweeps/5e9b3czx</a>"
      ],
      "text/plain": [
       "<IPython.core.display.HTML object>"
      ]
     },
     "metadata": {},
     "output_type": "display_data"
    },
    {
     "data": {
      "text/html": [
       " View project at <a href='https://wandb.ai/espada105-hanseouniversity/LGaimers' target=\"_blank\">https://wandb.ai/espada105-hanseouniversity/LGaimers</a>"
      ],
      "text/plain": [
       "<IPython.core.display.HTML object>"
      ]
     },
     "metadata": {},
     "output_type": "display_data"
    },
    {
     "data": {
      "text/html": [
       " View sweep at <a href='https://wandb.ai/espada105-hanseouniversity/LGaimers/sweeps/5e9b3czx' target=\"_blank\">https://wandb.ai/espada105-hanseouniversity/LGaimers/sweeps/5e9b3czx</a>"
      ],
      "text/plain": [
       "<IPython.core.display.HTML object>"
      ]
     },
     "metadata": {},
     "output_type": "display_data"
    },
    {
     "data": {
      "text/html": [
       " View run at <a href='https://wandb.ai/espada105-hanseouniversity/LGaimers/runs/902irat0' target=\"_blank\">https://wandb.ai/espada105-hanseouniversity/LGaimers/runs/902irat0</a>"
      ],
      "text/plain": [
       "<IPython.core.display.HTML object>"
      ]
     },
     "metadata": {},
     "output_type": "display_data"
    },
    {
     "name": "stderr",
     "output_type": "stream",
     "text": [
      "c:\\Users\\tjddl\\AppData\\Local\\Programs\\Python\\Python310\\lib\\site-packages\\sklearn\\linear_model\\_logistic.py:465: ConvergenceWarning: lbfgs failed to converge (status=1):\n",
      "STOP: TOTAL NO. OF ITERATIONS REACHED LIMIT.\n",
      "\n",
      "Increase the number of iterations (max_iter) or scale the data as shown in:\n",
      "    https://scikit-learn.org/stable/modules/preprocessing.html\n",
      "Please also refer to the documentation for alternative solver options:\n",
      "    https://scikit-learn.org/stable/modules/linear_model.html#logistic-regression\n",
      "  n_iter_i = _check_optimize_result(\n"
     ]
    },
    {
     "name": "stdout",
     "output_type": "stream",
     "text": [
      "Validation ROC AUC: 0.7211\n"
     ]
    },
    {
     "data": {
      "text/html": [],
      "text/plain": [
       "<IPython.core.display.HTML object>"
      ]
     },
     "metadata": {},
     "output_type": "display_data"
    },
    {
     "data": {
      "text/html": [
       "<br>    <style><br>        .wandb-row {<br>            display: flex;<br>            flex-direction: row;<br>            flex-wrap: wrap;<br>            justify-content: flex-start;<br>            width: 100%;<br>        }<br>        .wandb-col {<br>            display: flex;<br>            flex-direction: column;<br>            flex-basis: 100%;<br>            flex: 1;<br>            padding: 10px;<br>        }<br>    </style><br><div class=\"wandb-row\"><div class=\"wandb-col\"><h3>Run history:</h3><br/><table class=\"wandb\"><tr><td>final_validation_roc_auc</td><td>▁</td></tr></table><br/></div><div class=\"wandb-col\"><h3>Run summary:</h3><br/><table class=\"wandb\"><tr><td>final_validation_roc_auc</td><td>0.72109</td></tr></table><br/></div></div>"
      ],
      "text/plain": [
       "<IPython.core.display.HTML object>"
      ]
     },
     "metadata": {},
     "output_type": "display_data"
    },
    {
     "data": {
      "text/html": [
       " View run <strong style=\"color:#cdcd00\">floral-sweep-1</strong> at: <a href='https://wandb.ai/espada105-hanseouniversity/LGaimers/runs/902irat0' target=\"_blank\">https://wandb.ai/espada105-hanseouniversity/LGaimers/runs/902irat0</a><br> View project at: <a href='https://wandb.ai/espada105-hanseouniversity/LGaimers' target=\"_blank\">https://wandb.ai/espada105-hanseouniversity/LGaimers</a><br>Synced 5 W&B file(s), 1 media file(s), 0 artifact file(s) and 0 other file(s)"
      ],
      "text/plain": [
       "<IPython.core.display.HTML object>"
      ]
     },
     "metadata": {},
     "output_type": "display_data"
    },
    {
     "data": {
      "text/html": [
       "Find logs at: <code>.\\wandb\\run-20250208_125005-902irat0\\logs</code>"
      ],
      "text/plain": [
       "<IPython.core.display.HTML object>"
      ]
     },
     "metadata": {},
     "output_type": "display_data"
    },
    {
     "name": "stderr",
     "output_type": "stream",
     "text": [
      "\u001b[34m\u001b[1mwandb\u001b[0m: Agent Starting Run: gjy29w0h with config:\n",
      "\u001b[34m\u001b[1mwandb\u001b[0m: \trandom_state: 42\n",
      "\u001b[34m\u001b[1mwandb\u001b[0m: \ttest_size: 0.2\n",
      "\u001b[34m\u001b[1mwandb\u001b[0m: \txgb_learning_rate: 0.01\n",
      "\u001b[34m\u001b[1mwandb\u001b[0m: \txgb_max_depth: 3\n",
      "\u001b[34m\u001b[1mwandb\u001b[0m: \txgb_n_estimators: 200\n"
     ]
    },
    {
     "data": {
      "text/html": [
       "Ignoring project 'LGaimers' when running a sweep."
      ],
      "text/plain": [
       "<IPython.core.display.HTML object>"
      ]
     },
     "metadata": {},
     "output_type": "display_data"
    },
    {
     "data": {
      "text/html": [
       "Ignoring entity 'espada105-hanseouniversity' when running a sweep."
      ],
      "text/plain": [
       "<IPython.core.display.HTML object>"
      ]
     },
     "metadata": {},
     "output_type": "display_data"
    },
    {
     "data": {
      "text/html": [
       "Tracking run with wandb version 0.19.6"
      ],
      "text/plain": [
       "<IPython.core.display.HTML object>"
      ]
     },
     "metadata": {},
     "output_type": "display_data"
    },
    {
     "data": {
      "text/html": [
       "Run data is saved locally in <code>c:\\GitHubRepo\\AI_Predicting_Pregnancy_Success\\HongSeongIn\\wandb\\run-20250208_125057-gjy29w0h</code>"
      ],
      "text/plain": [
       "<IPython.core.display.HTML object>"
      ]
     },
     "metadata": {},
     "output_type": "display_data"
    },
    {
     "data": {
      "text/html": [
       "Syncing run <strong><a href='https://wandb.ai/espada105-hanseouniversity/LGaimers/runs/gjy29w0h' target=\"_blank\">frosty-sweep-2</a></strong> to <a href='https://wandb.ai/espada105-hanseouniversity/LGaimers' target=\"_blank\">Weights & Biases</a> (<a href='https://wandb.me/developer-guide' target=\"_blank\">docs</a>)<br>Sweep page: <a href='https://wandb.ai/espada105-hanseouniversity/LGaimers/sweeps/5e9b3czx' target=\"_blank\">https://wandb.ai/espada105-hanseouniversity/LGaimers/sweeps/5e9b3czx</a>"
      ],
      "text/plain": [
       "<IPython.core.display.HTML object>"
      ]
     },
     "metadata": {},
     "output_type": "display_data"
    },
    {
     "data": {
      "text/html": [
       " View project at <a href='https://wandb.ai/espada105-hanseouniversity/LGaimers' target=\"_blank\">https://wandb.ai/espada105-hanseouniversity/LGaimers</a>"
      ],
      "text/plain": [
       "<IPython.core.display.HTML object>"
      ]
     },
     "metadata": {},
     "output_type": "display_data"
    },
    {
     "data": {
      "text/html": [
       " View sweep at <a href='https://wandb.ai/espada105-hanseouniversity/LGaimers/sweeps/5e9b3czx' target=\"_blank\">https://wandb.ai/espada105-hanseouniversity/LGaimers/sweeps/5e9b3czx</a>"
      ],
      "text/plain": [
       "<IPython.core.display.HTML object>"
      ]
     },
     "metadata": {},
     "output_type": "display_data"
    },
    {
     "data": {
      "text/html": [
       " View run at <a href='https://wandb.ai/espada105-hanseouniversity/LGaimers/runs/gjy29w0h' target=\"_blank\">https://wandb.ai/espada105-hanseouniversity/LGaimers/runs/gjy29w0h</a>"
      ],
      "text/plain": [
       "<IPython.core.display.HTML object>"
      ]
     },
     "metadata": {},
     "output_type": "display_data"
    },
    {
     "name": "stdout",
     "output_type": "stream",
     "text": [
      "Validation ROC AUC: 0.7232\n"
     ]
    },
    {
     "name": "stderr",
     "output_type": "stream",
     "text": [
      "c:\\Users\\tjddl\\AppData\\Local\\Programs\\Python\\Python310\\lib\\site-packages\\sklearn\\linear_model\\_logistic.py:465: ConvergenceWarning: lbfgs failed to converge (status=1):\n",
      "STOP: TOTAL NO. OF ITERATIONS REACHED LIMIT.\n",
      "\n",
      "Increase the number of iterations (max_iter) or scale the data as shown in:\n",
      "    https://scikit-learn.org/stable/modules/preprocessing.html\n",
      "Please also refer to the documentation for alternative solver options:\n",
      "    https://scikit-learn.org/stable/modules/linear_model.html#logistic-regression\n",
      "  n_iter_i = _check_optimize_result(\n"
     ]
    },
    {
     "data": {
      "text/html": [],
      "text/plain": [
       "<IPython.core.display.HTML object>"
      ]
     },
     "metadata": {},
     "output_type": "display_data"
    },
    {
     "data": {
      "text/html": [
       "<br>    <style><br>        .wandb-row {<br>            display: flex;<br>            flex-direction: row;<br>            flex-wrap: wrap;<br>            justify-content: flex-start;<br>            width: 100%;<br>        }<br>        .wandb-col {<br>            display: flex;<br>            flex-direction: column;<br>            flex-basis: 100%;<br>            flex: 1;<br>            padding: 10px;<br>        }<br>    </style><br><div class=\"wandb-row\"><div class=\"wandb-col\"><h3>Run history:</h3><br/><table class=\"wandb\"><tr><td>final_validation_roc_auc</td><td>▁</td></tr></table><br/></div><div class=\"wandb-col\"><h3>Run summary:</h3><br/><table class=\"wandb\"><tr><td>final_validation_roc_auc</td><td>0.72324</td></tr></table><br/></div></div>"
      ],
      "text/plain": [
       "<IPython.core.display.HTML object>"
      ]
     },
     "metadata": {},
     "output_type": "display_data"
    },
    {
     "data": {
      "text/html": [
       " View run <strong style=\"color:#cdcd00\">frosty-sweep-2</strong> at: <a href='https://wandb.ai/espada105-hanseouniversity/LGaimers/runs/gjy29w0h' target=\"_blank\">https://wandb.ai/espada105-hanseouniversity/LGaimers/runs/gjy29w0h</a><br> View project at: <a href='https://wandb.ai/espada105-hanseouniversity/LGaimers' target=\"_blank\">https://wandb.ai/espada105-hanseouniversity/LGaimers</a><br>Synced 5 W&B file(s), 1 media file(s), 0 artifact file(s) and 0 other file(s)"
      ],
      "text/plain": [
       "<IPython.core.display.HTML object>"
      ]
     },
     "metadata": {},
     "output_type": "display_data"
    },
    {
     "data": {
      "text/html": [
       "Find logs at: <code>.\\wandb\\run-20250208_125057-gjy29w0h\\logs</code>"
      ],
      "text/plain": [
       "<IPython.core.display.HTML object>"
      ]
     },
     "metadata": {},
     "output_type": "display_data"
    },
    {
     "name": "stderr",
     "output_type": "stream",
     "text": [
      "\u001b[34m\u001b[1mwandb\u001b[0m: Agent Starting Run: 35cdt5vq with config:\n",
      "\u001b[34m\u001b[1mwandb\u001b[0m: \trandom_state: 42\n",
      "\u001b[34m\u001b[1mwandb\u001b[0m: \ttest_size: 0.2\n",
      "\u001b[34m\u001b[1mwandb\u001b[0m: \txgb_learning_rate: 0.01\n",
      "\u001b[34m\u001b[1mwandb\u001b[0m: \txgb_max_depth: 5\n",
      "\u001b[34m\u001b[1mwandb\u001b[0m: \txgb_n_estimators: 100\n"
     ]
    },
    {
     "data": {
      "text/html": [
       "Ignoring project 'LGaimers' when running a sweep."
      ],
      "text/plain": [
       "<IPython.core.display.HTML object>"
      ]
     },
     "metadata": {},
     "output_type": "display_data"
    },
    {
     "data": {
      "text/html": [
       "Ignoring entity 'espada105-hanseouniversity' when running a sweep."
      ],
      "text/plain": [
       "<IPython.core.display.HTML object>"
      ]
     },
     "metadata": {},
     "output_type": "display_data"
    },
    {
     "data": {
      "text/html": [
       "Tracking run with wandb version 0.19.6"
      ],
      "text/plain": [
       "<IPython.core.display.HTML object>"
      ]
     },
     "metadata": {},
     "output_type": "display_data"
    },
    {
     "data": {
      "text/html": [
       "Run data is saved locally in <code>c:\\GitHubRepo\\AI_Predicting_Pregnancy_Success\\HongSeongIn\\wandb\\run-20250208_125149-35cdt5vq</code>"
      ],
      "text/plain": [
       "<IPython.core.display.HTML object>"
      ]
     },
     "metadata": {},
     "output_type": "display_data"
    },
    {
     "data": {
      "text/html": [
       "Syncing run <strong><a href='https://wandb.ai/espada105-hanseouniversity/LGaimers/runs/35cdt5vq' target=\"_blank\">earnest-sweep-3</a></strong> to <a href='https://wandb.ai/espada105-hanseouniversity/LGaimers' target=\"_blank\">Weights & Biases</a> (<a href='https://wandb.me/developer-guide' target=\"_blank\">docs</a>)<br>Sweep page: <a href='https://wandb.ai/espada105-hanseouniversity/LGaimers/sweeps/5e9b3czx' target=\"_blank\">https://wandb.ai/espada105-hanseouniversity/LGaimers/sweeps/5e9b3czx</a>"
      ],
      "text/plain": [
       "<IPython.core.display.HTML object>"
      ]
     },
     "metadata": {},
     "output_type": "display_data"
    },
    {
     "data": {
      "text/html": [
       " View project at <a href='https://wandb.ai/espada105-hanseouniversity/LGaimers' target=\"_blank\">https://wandb.ai/espada105-hanseouniversity/LGaimers</a>"
      ],
      "text/plain": [
       "<IPython.core.display.HTML object>"
      ]
     },
     "metadata": {},
     "output_type": "display_data"
    },
    {
     "data": {
      "text/html": [
       " View sweep at <a href='https://wandb.ai/espada105-hanseouniversity/LGaimers/sweeps/5e9b3czx' target=\"_blank\">https://wandb.ai/espada105-hanseouniversity/LGaimers/sweeps/5e9b3czx</a>"
      ],
      "text/plain": [
       "<IPython.core.display.HTML object>"
      ]
     },
     "metadata": {},
     "output_type": "display_data"
    },
    {
     "data": {
      "text/html": [
       " View run at <a href='https://wandb.ai/espada105-hanseouniversity/LGaimers/runs/35cdt5vq' target=\"_blank\">https://wandb.ai/espada105-hanseouniversity/LGaimers/runs/35cdt5vq</a>"
      ],
      "text/plain": [
       "<IPython.core.display.HTML object>"
      ]
     },
     "metadata": {},
     "output_type": "display_data"
    },
    {
     "name": "stdout",
     "output_type": "stream",
     "text": [
      "Validation ROC AUC: 0.7239\n"
     ]
    },
    {
     "name": "stderr",
     "output_type": "stream",
     "text": [
      "c:\\Users\\tjddl\\AppData\\Local\\Programs\\Python\\Python310\\lib\\site-packages\\sklearn\\linear_model\\_logistic.py:465: ConvergenceWarning: lbfgs failed to converge (status=1):\n",
      "STOP: TOTAL NO. OF ITERATIONS REACHED LIMIT.\n",
      "\n",
      "Increase the number of iterations (max_iter) or scale the data as shown in:\n",
      "    https://scikit-learn.org/stable/modules/preprocessing.html\n",
      "Please also refer to the documentation for alternative solver options:\n",
      "    https://scikit-learn.org/stable/modules/linear_model.html#logistic-regression\n",
      "  n_iter_i = _check_optimize_result(\n"
     ]
    },
    {
     "data": {
      "text/html": [],
      "text/plain": [
       "<IPython.core.display.HTML object>"
      ]
     },
     "metadata": {},
     "output_type": "display_data"
    },
    {
     "data": {
      "text/html": [
       "<br>    <style><br>        .wandb-row {<br>            display: flex;<br>            flex-direction: row;<br>            flex-wrap: wrap;<br>            justify-content: flex-start;<br>            width: 100%;<br>        }<br>        .wandb-col {<br>            display: flex;<br>            flex-direction: column;<br>            flex-basis: 100%;<br>            flex: 1;<br>            padding: 10px;<br>        }<br>    </style><br><div class=\"wandb-row\"><div class=\"wandb-col\"><h3>Run history:</h3><br/><table class=\"wandb\"><tr><td>final_validation_roc_auc</td><td>▁</td></tr></table><br/></div><div class=\"wandb-col\"><h3>Run summary:</h3><br/><table class=\"wandb\"><tr><td>final_validation_roc_auc</td><td>0.72387</td></tr></table><br/></div></div>"
      ],
      "text/plain": [
       "<IPython.core.display.HTML object>"
      ]
     },
     "metadata": {},
     "output_type": "display_data"
    },
    {
     "data": {
      "text/html": [
       " View run <strong style=\"color:#cdcd00\">earnest-sweep-3</strong> at: <a href='https://wandb.ai/espada105-hanseouniversity/LGaimers/runs/35cdt5vq' target=\"_blank\">https://wandb.ai/espada105-hanseouniversity/LGaimers/runs/35cdt5vq</a><br> View project at: <a href='https://wandb.ai/espada105-hanseouniversity/LGaimers' target=\"_blank\">https://wandb.ai/espada105-hanseouniversity/LGaimers</a><br>Synced 5 W&B file(s), 1 media file(s), 0 artifact file(s) and 0 other file(s)"
      ],
      "text/plain": [
       "<IPython.core.display.HTML object>"
      ]
     },
     "metadata": {},
     "output_type": "display_data"
    },
    {
     "data": {
      "text/html": [
       "Find logs at: <code>.\\wandb\\run-20250208_125149-35cdt5vq\\logs</code>"
      ],
      "text/plain": [
       "<IPython.core.display.HTML object>"
      ]
     },
     "metadata": {},
     "output_type": "display_data"
    },
    {
     "name": "stderr",
     "output_type": "stream",
     "text": [
      "\u001b[34m\u001b[1mwandb\u001b[0m: Agent Starting Run: 9lzz7ht2 with config:\n",
      "\u001b[34m\u001b[1mwandb\u001b[0m: \trandom_state: 42\n",
      "\u001b[34m\u001b[1mwandb\u001b[0m: \ttest_size: 0.2\n",
      "\u001b[34m\u001b[1mwandb\u001b[0m: \txgb_learning_rate: 0.01\n",
      "\u001b[34m\u001b[1mwandb\u001b[0m: \txgb_max_depth: 5\n",
      "\u001b[34m\u001b[1mwandb\u001b[0m: \txgb_n_estimators: 200\n"
     ]
    },
    {
     "data": {
      "text/html": [
       "Ignoring project 'LGaimers' when running a sweep."
      ],
      "text/plain": [
       "<IPython.core.display.HTML object>"
      ]
     },
     "metadata": {},
     "output_type": "display_data"
    },
    {
     "data": {
      "text/html": [
       "Ignoring entity 'espada105-hanseouniversity' when running a sweep."
      ],
      "text/plain": [
       "<IPython.core.display.HTML object>"
      ]
     },
     "metadata": {},
     "output_type": "display_data"
    },
    {
     "data": {
      "text/html": [
       "Tracking run with wandb version 0.19.6"
      ],
      "text/plain": [
       "<IPython.core.display.HTML object>"
      ]
     },
     "metadata": {},
     "output_type": "display_data"
    },
    {
     "data": {
      "text/html": [
       "Run data is saved locally in <code>c:\\GitHubRepo\\AI_Predicting_Pregnancy_Success\\HongSeongIn\\wandb\\run-20250208_125242-9lzz7ht2</code>"
      ],
      "text/plain": [
       "<IPython.core.display.HTML object>"
      ]
     },
     "metadata": {},
     "output_type": "display_data"
    },
    {
     "data": {
      "text/html": [
       "Syncing run <strong><a href='https://wandb.ai/espada105-hanseouniversity/LGaimers/runs/9lzz7ht2' target=\"_blank\">glad-sweep-4</a></strong> to <a href='https://wandb.ai/espada105-hanseouniversity/LGaimers' target=\"_blank\">Weights & Biases</a> (<a href='https://wandb.me/developer-guide' target=\"_blank\">docs</a>)<br>Sweep page: <a href='https://wandb.ai/espada105-hanseouniversity/LGaimers/sweeps/5e9b3czx' target=\"_blank\">https://wandb.ai/espada105-hanseouniversity/LGaimers/sweeps/5e9b3czx</a>"
      ],
      "text/plain": [
       "<IPython.core.display.HTML object>"
      ]
     },
     "metadata": {},
     "output_type": "display_data"
    },
    {
     "data": {
      "text/html": [
       " View project at <a href='https://wandb.ai/espada105-hanseouniversity/LGaimers' target=\"_blank\">https://wandb.ai/espada105-hanseouniversity/LGaimers</a>"
      ],
      "text/plain": [
       "<IPython.core.display.HTML object>"
      ]
     },
     "metadata": {},
     "output_type": "display_data"
    },
    {
     "data": {
      "text/html": [
       " View sweep at <a href='https://wandb.ai/espada105-hanseouniversity/LGaimers/sweeps/5e9b3czx' target=\"_blank\">https://wandb.ai/espada105-hanseouniversity/LGaimers/sweeps/5e9b3czx</a>"
      ],
      "text/plain": [
       "<IPython.core.display.HTML object>"
      ]
     },
     "metadata": {},
     "output_type": "display_data"
    },
    {
     "data": {
      "text/html": [
       " View run at <a href='https://wandb.ai/espada105-hanseouniversity/LGaimers/runs/9lzz7ht2' target=\"_blank\">https://wandb.ai/espada105-hanseouniversity/LGaimers/runs/9lzz7ht2</a>"
      ],
      "text/plain": [
       "<IPython.core.display.HTML object>"
      ]
     },
     "metadata": {},
     "output_type": "display_data"
    },
    {
     "name": "stdout",
     "output_type": "stream",
     "text": [
      "Validation ROC AUC: 0.7265\n"
     ]
    },
    {
     "name": "stderr",
     "output_type": "stream",
     "text": [
      "c:\\Users\\tjddl\\AppData\\Local\\Programs\\Python\\Python310\\lib\\site-packages\\sklearn\\linear_model\\_logistic.py:465: ConvergenceWarning: lbfgs failed to converge (status=1):\n",
      "STOP: TOTAL NO. OF ITERATIONS REACHED LIMIT.\n",
      "\n",
      "Increase the number of iterations (max_iter) or scale the data as shown in:\n",
      "    https://scikit-learn.org/stable/modules/preprocessing.html\n",
      "Please also refer to the documentation for alternative solver options:\n",
      "    https://scikit-learn.org/stable/modules/linear_model.html#logistic-regression\n",
      "  n_iter_i = _check_optimize_result(\n"
     ]
    },
    {
     "data": {
      "text/html": [],
      "text/plain": [
       "<IPython.core.display.HTML object>"
      ]
     },
     "metadata": {},
     "output_type": "display_data"
    },
    {
     "data": {
      "text/html": [
       "<br>    <style><br>        .wandb-row {<br>            display: flex;<br>            flex-direction: row;<br>            flex-wrap: wrap;<br>            justify-content: flex-start;<br>            width: 100%;<br>        }<br>        .wandb-col {<br>            display: flex;<br>            flex-direction: column;<br>            flex-basis: 100%;<br>            flex: 1;<br>            padding: 10px;<br>        }<br>    </style><br><div class=\"wandb-row\"><div class=\"wandb-col\"><h3>Run history:</h3><br/><table class=\"wandb\"><tr><td>final_validation_roc_auc</td><td>▁</td></tr></table><br/></div><div class=\"wandb-col\"><h3>Run summary:</h3><br/><table class=\"wandb\"><tr><td>final_validation_roc_auc</td><td>0.72651</td></tr></table><br/></div></div>"
      ],
      "text/plain": [
       "<IPython.core.display.HTML object>"
      ]
     },
     "metadata": {},
     "output_type": "display_data"
    },
    {
     "data": {
      "text/html": [
       " View run <strong style=\"color:#cdcd00\">glad-sweep-4</strong> at: <a href='https://wandb.ai/espada105-hanseouniversity/LGaimers/runs/9lzz7ht2' target=\"_blank\">https://wandb.ai/espada105-hanseouniversity/LGaimers/runs/9lzz7ht2</a><br> View project at: <a href='https://wandb.ai/espada105-hanseouniversity/LGaimers' target=\"_blank\">https://wandb.ai/espada105-hanseouniversity/LGaimers</a><br>Synced 5 W&B file(s), 1 media file(s), 0 artifact file(s) and 0 other file(s)"
      ],
      "text/plain": [
       "<IPython.core.display.HTML object>"
      ]
     },
     "metadata": {},
     "output_type": "display_data"
    },
    {
     "data": {
      "text/html": [
       "Find logs at: <code>.\\wandb\\run-20250208_125242-9lzz7ht2\\logs</code>"
      ],
      "text/plain": [
       "<IPython.core.display.HTML object>"
      ]
     },
     "metadata": {},
     "output_type": "display_data"
    },
    {
     "name": "stderr",
     "output_type": "stream",
     "text": [
      "\u001b[34m\u001b[1mwandb\u001b[0m: Agent Starting Run: se3ot6fk with config:\n",
      "\u001b[34m\u001b[1mwandb\u001b[0m: \trandom_state: 42\n",
      "\u001b[34m\u001b[1mwandb\u001b[0m: \ttest_size: 0.2\n",
      "\u001b[34m\u001b[1mwandb\u001b[0m: \txgb_learning_rate: 0.01\n",
      "\u001b[34m\u001b[1mwandb\u001b[0m: \txgb_max_depth: 7\n",
      "\u001b[34m\u001b[1mwandb\u001b[0m: \txgb_n_estimators: 100\n"
     ]
    },
    {
     "data": {
      "text/html": [
       "Ignoring project 'LGaimers' when running a sweep."
      ],
      "text/plain": [
       "<IPython.core.display.HTML object>"
      ]
     },
     "metadata": {},
     "output_type": "display_data"
    },
    {
     "data": {
      "text/html": [
       "Ignoring entity 'espada105-hanseouniversity' when running a sweep."
      ],
      "text/plain": [
       "<IPython.core.display.HTML object>"
      ]
     },
     "metadata": {},
     "output_type": "display_data"
    },
    {
     "data": {
      "text/html": [
       "Tracking run with wandb version 0.19.6"
      ],
      "text/plain": [
       "<IPython.core.display.HTML object>"
      ]
     },
     "metadata": {},
     "output_type": "display_data"
    },
    {
     "data": {
      "text/html": [
       "Run data is saved locally in <code>c:\\GitHubRepo\\AI_Predicting_Pregnancy_Success\\HongSeongIn\\wandb\\run-20250208_125334-se3ot6fk</code>"
      ],
      "text/plain": [
       "<IPython.core.display.HTML object>"
      ]
     },
     "metadata": {},
     "output_type": "display_data"
    },
    {
     "data": {
      "text/html": [
       "Syncing run <strong><a href='https://wandb.ai/espada105-hanseouniversity/LGaimers/runs/se3ot6fk' target=\"_blank\">absurd-sweep-5</a></strong> to <a href='https://wandb.ai/espada105-hanseouniversity/LGaimers' target=\"_blank\">Weights & Biases</a> (<a href='https://wandb.me/developer-guide' target=\"_blank\">docs</a>)<br>Sweep page: <a href='https://wandb.ai/espada105-hanseouniversity/LGaimers/sweeps/5e9b3czx' target=\"_blank\">https://wandb.ai/espada105-hanseouniversity/LGaimers/sweeps/5e9b3czx</a>"
      ],
      "text/plain": [
       "<IPython.core.display.HTML object>"
      ]
     },
     "metadata": {},
     "output_type": "display_data"
    },
    {
     "data": {
      "text/html": [
       " View project at <a href='https://wandb.ai/espada105-hanseouniversity/LGaimers' target=\"_blank\">https://wandb.ai/espada105-hanseouniversity/LGaimers</a>"
      ],
      "text/plain": [
       "<IPython.core.display.HTML object>"
      ]
     },
     "metadata": {},
     "output_type": "display_data"
    },
    {
     "data": {
      "text/html": [
       " View sweep at <a href='https://wandb.ai/espada105-hanseouniversity/LGaimers/sweeps/5e9b3czx' target=\"_blank\">https://wandb.ai/espada105-hanseouniversity/LGaimers/sweeps/5e9b3czx</a>"
      ],
      "text/plain": [
       "<IPython.core.display.HTML object>"
      ]
     },
     "metadata": {},
     "output_type": "display_data"
    },
    {
     "data": {
      "text/html": [
       " View run at <a href='https://wandb.ai/espada105-hanseouniversity/LGaimers/runs/se3ot6fk' target=\"_blank\">https://wandb.ai/espada105-hanseouniversity/LGaimers/runs/se3ot6fk</a>"
      ],
      "text/plain": [
       "<IPython.core.display.HTML object>"
      ]
     },
     "metadata": {},
     "output_type": "display_data"
    },
    {
     "name": "stderr",
     "output_type": "stream",
     "text": [
      "c:\\Users\\tjddl\\AppData\\Local\\Programs\\Python\\Python310\\lib\\site-packages\\sklearn\\linear_model\\_logistic.py:465: ConvergenceWarning: lbfgs failed to converge (status=1):\n",
      "STOP: TOTAL NO. OF ITERATIONS REACHED LIMIT.\n",
      "\n",
      "Increase the number of iterations (max_iter) or scale the data as shown in:\n",
      "    https://scikit-learn.org/stable/modules/preprocessing.html\n",
      "Please also refer to the documentation for alternative solver options:\n",
      "    https://scikit-learn.org/stable/modules/linear_model.html#logistic-regression\n",
      "  n_iter_i = _check_optimize_result(\n"
     ]
    },
    {
     "name": "stdout",
     "output_type": "stream",
     "text": [
      "Validation ROC AUC: 0.7255\n"
     ]
    },
    {
     "data": {
      "text/html": [],
      "text/plain": [
       "<IPython.core.display.HTML object>"
      ]
     },
     "metadata": {},
     "output_type": "display_data"
    },
    {
     "data": {
      "text/html": [
       "<br>    <style><br>        .wandb-row {<br>            display: flex;<br>            flex-direction: row;<br>            flex-wrap: wrap;<br>            justify-content: flex-start;<br>            width: 100%;<br>        }<br>        .wandb-col {<br>            display: flex;<br>            flex-direction: column;<br>            flex-basis: 100%;<br>            flex: 1;<br>            padding: 10px;<br>        }<br>    </style><br><div class=\"wandb-row\"><div class=\"wandb-col\"><h3>Run history:</h3><br/><table class=\"wandb\"><tr><td>final_validation_roc_auc</td><td>▁</td></tr></table><br/></div><div class=\"wandb-col\"><h3>Run summary:</h3><br/><table class=\"wandb\"><tr><td>final_validation_roc_auc</td><td>0.7255</td></tr></table><br/></div></div>"
      ],
      "text/plain": [
       "<IPython.core.display.HTML object>"
      ]
     },
     "metadata": {},
     "output_type": "display_data"
    },
    {
     "data": {
      "text/html": [
       " View run <strong style=\"color:#cdcd00\">absurd-sweep-5</strong> at: <a href='https://wandb.ai/espada105-hanseouniversity/LGaimers/runs/se3ot6fk' target=\"_blank\">https://wandb.ai/espada105-hanseouniversity/LGaimers/runs/se3ot6fk</a><br> View project at: <a href='https://wandb.ai/espada105-hanseouniversity/LGaimers' target=\"_blank\">https://wandb.ai/espada105-hanseouniversity/LGaimers</a><br>Synced 5 W&B file(s), 1 media file(s), 0 artifact file(s) and 0 other file(s)"
      ],
      "text/plain": [
       "<IPython.core.display.HTML object>"
      ]
     },
     "metadata": {},
     "output_type": "display_data"
    },
    {
     "data": {
      "text/html": [
       "Find logs at: <code>.\\wandb\\run-20250208_125334-se3ot6fk\\logs</code>"
      ],
      "text/plain": [
       "<IPython.core.display.HTML object>"
      ]
     },
     "metadata": {},
     "output_type": "display_data"
    },
    {
     "name": "stderr",
     "output_type": "stream",
     "text": [
      "\u001b[34m\u001b[1mwandb\u001b[0m: Agent Starting Run: spqc2f5x with config:\n",
      "\u001b[34m\u001b[1mwandb\u001b[0m: \trandom_state: 42\n",
      "\u001b[34m\u001b[1mwandb\u001b[0m: \ttest_size: 0.2\n",
      "\u001b[34m\u001b[1mwandb\u001b[0m: \txgb_learning_rate: 0.01\n",
      "\u001b[34m\u001b[1mwandb\u001b[0m: \txgb_max_depth: 7\n",
      "\u001b[34m\u001b[1mwandb\u001b[0m: \txgb_n_estimators: 200\n"
     ]
    },
    {
     "data": {
      "text/html": [
       "Ignoring project 'LGaimers' when running a sweep."
      ],
      "text/plain": [
       "<IPython.core.display.HTML object>"
      ]
     },
     "metadata": {},
     "output_type": "display_data"
    },
    {
     "data": {
      "text/html": [
       "Ignoring entity 'espada105-hanseouniversity' when running a sweep."
      ],
      "text/plain": [
       "<IPython.core.display.HTML object>"
      ]
     },
     "metadata": {},
     "output_type": "display_data"
    },
    {
     "data": {
      "text/html": [
       "Tracking run with wandb version 0.19.6"
      ],
      "text/plain": [
       "<IPython.core.display.HTML object>"
      ]
     },
     "metadata": {},
     "output_type": "display_data"
    },
    {
     "data": {
      "text/html": [
       "Run data is saved locally in <code>c:\\GitHubRepo\\AI_Predicting_Pregnancy_Success\\HongSeongIn\\wandb\\run-20250208_125426-spqc2f5x</code>"
      ],
      "text/plain": [
       "<IPython.core.display.HTML object>"
      ]
     },
     "metadata": {},
     "output_type": "display_data"
    },
    {
     "data": {
      "text/html": [
       "Syncing run <strong><a href='https://wandb.ai/espada105-hanseouniversity/LGaimers/runs/spqc2f5x' target=\"_blank\">upbeat-sweep-6</a></strong> to <a href='https://wandb.ai/espada105-hanseouniversity/LGaimers' target=\"_blank\">Weights & Biases</a> (<a href='https://wandb.me/developer-guide' target=\"_blank\">docs</a>)<br>Sweep page: <a href='https://wandb.ai/espada105-hanseouniversity/LGaimers/sweeps/5e9b3czx' target=\"_blank\">https://wandb.ai/espada105-hanseouniversity/LGaimers/sweeps/5e9b3czx</a>"
      ],
      "text/plain": [
       "<IPython.core.display.HTML object>"
      ]
     },
     "metadata": {},
     "output_type": "display_data"
    },
    {
     "data": {
      "text/html": [
       " View project at <a href='https://wandb.ai/espada105-hanseouniversity/LGaimers' target=\"_blank\">https://wandb.ai/espada105-hanseouniversity/LGaimers</a>"
      ],
      "text/plain": [
       "<IPython.core.display.HTML object>"
      ]
     },
     "metadata": {},
     "output_type": "display_data"
    },
    {
     "data": {
      "text/html": [
       " View sweep at <a href='https://wandb.ai/espada105-hanseouniversity/LGaimers/sweeps/5e9b3czx' target=\"_blank\">https://wandb.ai/espada105-hanseouniversity/LGaimers/sweeps/5e9b3czx</a>"
      ],
      "text/plain": [
       "<IPython.core.display.HTML object>"
      ]
     },
     "metadata": {},
     "output_type": "display_data"
    },
    {
     "data": {
      "text/html": [
       " View run at <a href='https://wandb.ai/espada105-hanseouniversity/LGaimers/runs/spqc2f5x' target=\"_blank\">https://wandb.ai/espada105-hanseouniversity/LGaimers/runs/spqc2f5x</a>"
      ],
      "text/plain": [
       "<IPython.core.display.HTML object>"
      ]
     },
     "metadata": {},
     "output_type": "display_data"
    },
    {
     "name": "stderr",
     "output_type": "stream",
     "text": [
      "c:\\Users\\tjddl\\AppData\\Local\\Programs\\Python\\Python310\\lib\\site-packages\\sklearn\\linear_model\\_logistic.py:465: ConvergenceWarning: lbfgs failed to converge (status=1):\n",
      "STOP: TOTAL NO. OF ITERATIONS REACHED LIMIT.\n",
      "\n",
      "Increase the number of iterations (max_iter) or scale the data as shown in:\n",
      "    https://scikit-learn.org/stable/modules/preprocessing.html\n",
      "Please also refer to the documentation for alternative solver options:\n",
      "    https://scikit-learn.org/stable/modules/linear_model.html#logistic-regression\n",
      "  n_iter_i = _check_optimize_result(\n"
     ]
    },
    {
     "name": "stdout",
     "output_type": "stream",
     "text": [
      "Validation ROC AUC: 0.7283\n"
     ]
    },
    {
     "data": {
      "text/html": [],
      "text/plain": [
       "<IPython.core.display.HTML object>"
      ]
     },
     "metadata": {},
     "output_type": "display_data"
    },
    {
     "data": {
      "text/html": [
       "<br>    <style><br>        .wandb-row {<br>            display: flex;<br>            flex-direction: row;<br>            flex-wrap: wrap;<br>            justify-content: flex-start;<br>            width: 100%;<br>        }<br>        .wandb-col {<br>            display: flex;<br>            flex-direction: column;<br>            flex-basis: 100%;<br>            flex: 1;<br>            padding: 10px;<br>        }<br>    </style><br><div class=\"wandb-row\"><div class=\"wandb-col\"><h3>Run history:</h3><br/><table class=\"wandb\"><tr><td>final_validation_roc_auc</td><td>▁</td></tr></table><br/></div><div class=\"wandb-col\"><h3>Run summary:</h3><br/><table class=\"wandb\"><tr><td>final_validation_roc_auc</td><td>0.72834</td></tr></table><br/></div></div>"
      ],
      "text/plain": [
       "<IPython.core.display.HTML object>"
      ]
     },
     "metadata": {},
     "output_type": "display_data"
    },
    {
     "data": {
      "text/html": [
       " View run <strong style=\"color:#cdcd00\">upbeat-sweep-6</strong> at: <a href='https://wandb.ai/espada105-hanseouniversity/LGaimers/runs/spqc2f5x' target=\"_blank\">https://wandb.ai/espada105-hanseouniversity/LGaimers/runs/spqc2f5x</a><br> View project at: <a href='https://wandb.ai/espada105-hanseouniversity/LGaimers' target=\"_blank\">https://wandb.ai/espada105-hanseouniversity/LGaimers</a><br>Synced 5 W&B file(s), 1 media file(s), 0 artifact file(s) and 0 other file(s)"
      ],
      "text/plain": [
       "<IPython.core.display.HTML object>"
      ]
     },
     "metadata": {},
     "output_type": "display_data"
    },
    {
     "data": {
      "text/html": [
       "Find logs at: <code>.\\wandb\\run-20250208_125426-spqc2f5x\\logs</code>"
      ],
      "text/plain": [
       "<IPython.core.display.HTML object>"
      ]
     },
     "metadata": {},
     "output_type": "display_data"
    },
    {
     "name": "stderr",
     "output_type": "stream",
     "text": [
      "\u001b[34m\u001b[1mwandb\u001b[0m: Agent Starting Run: e1zgoab0 with config:\n",
      "\u001b[34m\u001b[1mwandb\u001b[0m: \trandom_state: 42\n",
      "\u001b[34m\u001b[1mwandb\u001b[0m: \ttest_size: 0.2\n",
      "\u001b[34m\u001b[1mwandb\u001b[0m: \txgb_learning_rate: 0.1\n",
      "\u001b[34m\u001b[1mwandb\u001b[0m: \txgb_max_depth: 3\n",
      "\u001b[34m\u001b[1mwandb\u001b[0m: \txgb_n_estimators: 100\n"
     ]
    },
    {
     "data": {
      "text/html": [
       "Ignoring project 'LGaimers' when running a sweep."
      ],
      "text/plain": [
       "<IPython.core.display.HTML object>"
      ]
     },
     "metadata": {},
     "output_type": "display_data"
    },
    {
     "data": {
      "text/html": [
       "Ignoring entity 'espada105-hanseouniversity' when running a sweep."
      ],
      "text/plain": [
       "<IPython.core.display.HTML object>"
      ]
     },
     "metadata": {},
     "output_type": "display_data"
    },
    {
     "data": {
      "text/html": [
       "Tracking run with wandb version 0.19.6"
      ],
      "text/plain": [
       "<IPython.core.display.HTML object>"
      ]
     },
     "metadata": {},
     "output_type": "display_data"
    },
    {
     "data": {
      "text/html": [
       "Run data is saved locally in <code>c:\\GitHubRepo\\AI_Predicting_Pregnancy_Success\\HongSeongIn\\wandb\\run-20250208_125518-e1zgoab0</code>"
      ],
      "text/plain": [
       "<IPython.core.display.HTML object>"
      ]
     },
     "metadata": {},
     "output_type": "display_data"
    },
    {
     "data": {
      "text/html": [
       "Syncing run <strong><a href='https://wandb.ai/espada105-hanseouniversity/LGaimers/runs/e1zgoab0' target=\"_blank\">smart-sweep-7</a></strong> to <a href='https://wandb.ai/espada105-hanseouniversity/LGaimers' target=\"_blank\">Weights & Biases</a> (<a href='https://wandb.me/developer-guide' target=\"_blank\">docs</a>)<br>Sweep page: <a href='https://wandb.ai/espada105-hanseouniversity/LGaimers/sweeps/5e9b3czx' target=\"_blank\">https://wandb.ai/espada105-hanseouniversity/LGaimers/sweeps/5e9b3czx</a>"
      ],
      "text/plain": [
       "<IPython.core.display.HTML object>"
      ]
     },
     "metadata": {},
     "output_type": "display_data"
    },
    {
     "data": {
      "text/html": [
       " View project at <a href='https://wandb.ai/espada105-hanseouniversity/LGaimers' target=\"_blank\">https://wandb.ai/espada105-hanseouniversity/LGaimers</a>"
      ],
      "text/plain": [
       "<IPython.core.display.HTML object>"
      ]
     },
     "metadata": {},
     "output_type": "display_data"
    },
    {
     "data": {
      "text/html": [
       " View sweep at <a href='https://wandb.ai/espada105-hanseouniversity/LGaimers/sweeps/5e9b3czx' target=\"_blank\">https://wandb.ai/espada105-hanseouniversity/LGaimers/sweeps/5e9b3czx</a>"
      ],
      "text/plain": [
       "<IPython.core.display.HTML object>"
      ]
     },
     "metadata": {},
     "output_type": "display_data"
    },
    {
     "data": {
      "text/html": [
       " View run at <a href='https://wandb.ai/espada105-hanseouniversity/LGaimers/runs/e1zgoab0' target=\"_blank\">https://wandb.ai/espada105-hanseouniversity/LGaimers/runs/e1zgoab0</a>"
      ],
      "text/plain": [
       "<IPython.core.display.HTML object>"
      ]
     },
     "metadata": {},
     "output_type": "display_data"
    },
    {
     "name": "stdout",
     "output_type": "stream",
     "text": [
      "Validation ROC AUC: 0.7287\n"
     ]
    },
    {
     "name": "stderr",
     "output_type": "stream",
     "text": [
      "c:\\Users\\tjddl\\AppData\\Local\\Programs\\Python\\Python310\\lib\\site-packages\\sklearn\\linear_model\\_logistic.py:465: ConvergenceWarning: lbfgs failed to converge (status=1):\n",
      "STOP: TOTAL NO. OF ITERATIONS REACHED LIMIT.\n",
      "\n",
      "Increase the number of iterations (max_iter) or scale the data as shown in:\n",
      "    https://scikit-learn.org/stable/modules/preprocessing.html\n",
      "Please also refer to the documentation for alternative solver options:\n",
      "    https://scikit-learn.org/stable/modules/linear_model.html#logistic-regression\n",
      "  n_iter_i = _check_optimize_result(\n"
     ]
    },
    {
     "data": {
      "text/html": [],
      "text/plain": [
       "<IPython.core.display.HTML object>"
      ]
     },
     "metadata": {},
     "output_type": "display_data"
    },
    {
     "data": {
      "text/html": [
       "<br>    <style><br>        .wandb-row {<br>            display: flex;<br>            flex-direction: row;<br>            flex-wrap: wrap;<br>            justify-content: flex-start;<br>            width: 100%;<br>        }<br>        .wandb-col {<br>            display: flex;<br>            flex-direction: column;<br>            flex-basis: 100%;<br>            flex: 1;<br>            padding: 10px;<br>        }<br>    </style><br><div class=\"wandb-row\"><div class=\"wandb-col\"><h3>Run history:</h3><br/><table class=\"wandb\"><tr><td>final_validation_roc_auc</td><td>▁</td></tr></table><br/></div><div class=\"wandb-col\"><h3>Run summary:</h3><br/><table class=\"wandb\"><tr><td>final_validation_roc_auc</td><td>0.72865</td></tr></table><br/></div></div>"
      ],
      "text/plain": [
       "<IPython.core.display.HTML object>"
      ]
     },
     "metadata": {},
     "output_type": "display_data"
    },
    {
     "data": {
      "text/html": [
       " View run <strong style=\"color:#cdcd00\">smart-sweep-7</strong> at: <a href='https://wandb.ai/espada105-hanseouniversity/LGaimers/runs/e1zgoab0' target=\"_blank\">https://wandb.ai/espada105-hanseouniversity/LGaimers/runs/e1zgoab0</a><br> View project at: <a href='https://wandb.ai/espada105-hanseouniversity/LGaimers' target=\"_blank\">https://wandb.ai/espada105-hanseouniversity/LGaimers</a><br>Synced 5 W&B file(s), 1 media file(s), 0 artifact file(s) and 0 other file(s)"
      ],
      "text/plain": [
       "<IPython.core.display.HTML object>"
      ]
     },
     "metadata": {},
     "output_type": "display_data"
    },
    {
     "data": {
      "text/html": [
       "Find logs at: <code>.\\wandb\\run-20250208_125518-e1zgoab0\\logs</code>"
      ],
      "text/plain": [
       "<IPython.core.display.HTML object>"
      ]
     },
     "metadata": {},
     "output_type": "display_data"
    },
    {
     "name": "stderr",
     "output_type": "stream",
     "text": [
      "\u001b[34m\u001b[1mwandb\u001b[0m: Agent Starting Run: 7vbkli05 with config:\n",
      "\u001b[34m\u001b[1mwandb\u001b[0m: \trandom_state: 42\n",
      "\u001b[34m\u001b[1mwandb\u001b[0m: \ttest_size: 0.2\n",
      "\u001b[34m\u001b[1mwandb\u001b[0m: \txgb_learning_rate: 0.1\n",
      "\u001b[34m\u001b[1mwandb\u001b[0m: \txgb_max_depth: 3\n",
      "\u001b[34m\u001b[1mwandb\u001b[0m: \txgb_n_estimators: 200\n"
     ]
    },
    {
     "data": {
      "text/html": [
       "Ignoring project 'LGaimers' when running a sweep."
      ],
      "text/plain": [
       "<IPython.core.display.HTML object>"
      ]
     },
     "metadata": {},
     "output_type": "display_data"
    },
    {
     "data": {
      "text/html": [
       "Ignoring entity 'espada105-hanseouniversity' when running a sweep."
      ],
      "text/plain": [
       "<IPython.core.display.HTML object>"
      ]
     },
     "metadata": {},
     "output_type": "display_data"
    },
    {
     "data": {
      "text/html": [
       "Tracking run with wandb version 0.19.6"
      ],
      "text/plain": [
       "<IPython.core.display.HTML object>"
      ]
     },
     "metadata": {},
     "output_type": "display_data"
    },
    {
     "data": {
      "text/html": [
       "Run data is saved locally in <code>c:\\GitHubRepo\\AI_Predicting_Pregnancy_Success\\HongSeongIn\\wandb\\run-20250208_125611-7vbkli05</code>"
      ],
      "text/plain": [
       "<IPython.core.display.HTML object>"
      ]
     },
     "metadata": {},
     "output_type": "display_data"
    },
    {
     "data": {
      "text/html": [
       "Syncing run <strong><a href='https://wandb.ai/espada105-hanseouniversity/LGaimers/runs/7vbkli05' target=\"_blank\">fragrant-sweep-8</a></strong> to <a href='https://wandb.ai/espada105-hanseouniversity/LGaimers' target=\"_blank\">Weights & Biases</a> (<a href='https://wandb.me/developer-guide' target=\"_blank\">docs</a>)<br>Sweep page: <a href='https://wandb.ai/espada105-hanseouniversity/LGaimers/sweeps/5e9b3czx' target=\"_blank\">https://wandb.ai/espada105-hanseouniversity/LGaimers/sweeps/5e9b3czx</a>"
      ],
      "text/plain": [
       "<IPython.core.display.HTML object>"
      ]
     },
     "metadata": {},
     "output_type": "display_data"
    },
    {
     "data": {
      "text/html": [
       " View project at <a href='https://wandb.ai/espada105-hanseouniversity/LGaimers' target=\"_blank\">https://wandb.ai/espada105-hanseouniversity/LGaimers</a>"
      ],
      "text/plain": [
       "<IPython.core.display.HTML object>"
      ]
     },
     "metadata": {},
     "output_type": "display_data"
    },
    {
     "data": {
      "text/html": [
       " View sweep at <a href='https://wandb.ai/espada105-hanseouniversity/LGaimers/sweeps/5e9b3czx' target=\"_blank\">https://wandb.ai/espada105-hanseouniversity/LGaimers/sweeps/5e9b3czx</a>"
      ],
      "text/plain": [
       "<IPython.core.display.HTML object>"
      ]
     },
     "metadata": {},
     "output_type": "display_data"
    },
    {
     "data": {
      "text/html": [
       " View run at <a href='https://wandb.ai/espada105-hanseouniversity/LGaimers/runs/7vbkli05' target=\"_blank\">https://wandb.ai/espada105-hanseouniversity/LGaimers/runs/7vbkli05</a>"
      ],
      "text/plain": [
       "<IPython.core.display.HTML object>"
      ]
     },
     "metadata": {},
     "output_type": "display_data"
    },
    {
     "name": "stdout",
     "output_type": "stream",
     "text": [
      "Validation ROC AUC: 0.7298\n"
     ]
    },
    {
     "name": "stderr",
     "output_type": "stream",
     "text": [
      "c:\\Users\\tjddl\\AppData\\Local\\Programs\\Python\\Python310\\lib\\site-packages\\sklearn\\linear_model\\_logistic.py:465: ConvergenceWarning: lbfgs failed to converge (status=1):\n",
      "STOP: TOTAL NO. OF ITERATIONS REACHED LIMIT.\n",
      "\n",
      "Increase the number of iterations (max_iter) or scale the data as shown in:\n",
      "    https://scikit-learn.org/stable/modules/preprocessing.html\n",
      "Please also refer to the documentation for alternative solver options:\n",
      "    https://scikit-learn.org/stable/modules/linear_model.html#logistic-regression\n",
      "  n_iter_i = _check_optimize_result(\n"
     ]
    },
    {
     "data": {
      "text/html": [],
      "text/plain": [
       "<IPython.core.display.HTML object>"
      ]
     },
     "metadata": {},
     "output_type": "display_data"
    },
    {
     "data": {
      "text/html": [
       "<br>    <style><br>        .wandb-row {<br>            display: flex;<br>            flex-direction: row;<br>            flex-wrap: wrap;<br>            justify-content: flex-start;<br>            width: 100%;<br>        }<br>        .wandb-col {<br>            display: flex;<br>            flex-direction: column;<br>            flex-basis: 100%;<br>            flex: 1;<br>            padding: 10px;<br>        }<br>    </style><br><div class=\"wandb-row\"><div class=\"wandb-col\"><h3>Run history:</h3><br/><table class=\"wandb\"><tr><td>final_validation_roc_auc</td><td>▁</td></tr></table><br/></div><div class=\"wandb-col\"><h3>Run summary:</h3><br/><table class=\"wandb\"><tr><td>final_validation_roc_auc</td><td>0.72978</td></tr></table><br/></div></div>"
      ],
      "text/plain": [
       "<IPython.core.display.HTML object>"
      ]
     },
     "metadata": {},
     "output_type": "display_data"
    },
    {
     "data": {
      "text/html": [
       " View run <strong style=\"color:#cdcd00\">fragrant-sweep-8</strong> at: <a href='https://wandb.ai/espada105-hanseouniversity/LGaimers/runs/7vbkli05' target=\"_blank\">https://wandb.ai/espada105-hanseouniversity/LGaimers/runs/7vbkli05</a><br> View project at: <a href='https://wandb.ai/espada105-hanseouniversity/LGaimers' target=\"_blank\">https://wandb.ai/espada105-hanseouniversity/LGaimers</a><br>Synced 5 W&B file(s), 1 media file(s), 0 artifact file(s) and 0 other file(s)"
      ],
      "text/plain": [
       "<IPython.core.display.HTML object>"
      ]
     },
     "metadata": {},
     "output_type": "display_data"
    },
    {
     "data": {
      "text/html": [
       "Find logs at: <code>.\\wandb\\run-20250208_125611-7vbkli05\\logs</code>"
      ],
      "text/plain": [
       "<IPython.core.display.HTML object>"
      ]
     },
     "metadata": {},
     "output_type": "display_data"
    },
    {
     "name": "stderr",
     "output_type": "stream",
     "text": [
      "\u001b[34m\u001b[1mwandb\u001b[0m: Agent Starting Run: gz1yw6zt with config:\n",
      "\u001b[34m\u001b[1mwandb\u001b[0m: \trandom_state: 42\n",
      "\u001b[34m\u001b[1mwandb\u001b[0m: \ttest_size: 0.2\n",
      "\u001b[34m\u001b[1mwandb\u001b[0m: \txgb_learning_rate: 0.1\n",
      "\u001b[34m\u001b[1mwandb\u001b[0m: \txgb_max_depth: 5\n",
      "\u001b[34m\u001b[1mwandb\u001b[0m: \txgb_n_estimators: 100\n"
     ]
    },
    {
     "data": {
      "text/html": [
       "Ignoring project 'LGaimers' when running a sweep."
      ],
      "text/plain": [
       "<IPython.core.display.HTML object>"
      ]
     },
     "metadata": {},
     "output_type": "display_data"
    },
    {
     "data": {
      "text/html": [
       "Ignoring entity 'espada105-hanseouniversity' when running a sweep."
      ],
      "text/plain": [
       "<IPython.core.display.HTML object>"
      ]
     },
     "metadata": {},
     "output_type": "display_data"
    },
    {
     "data": {
      "text/html": [
       "Tracking run with wandb version 0.19.6"
      ],
      "text/plain": [
       "<IPython.core.display.HTML object>"
      ]
     },
     "metadata": {},
     "output_type": "display_data"
    },
    {
     "data": {
      "text/html": [
       "Run data is saved locally in <code>c:\\GitHubRepo\\AI_Predicting_Pregnancy_Success\\HongSeongIn\\wandb\\run-20250208_125703-gz1yw6zt</code>"
      ],
      "text/plain": [
       "<IPython.core.display.HTML object>"
      ]
     },
     "metadata": {},
     "output_type": "display_data"
    },
    {
     "data": {
      "text/html": [
       "Syncing run <strong><a href='https://wandb.ai/espada105-hanseouniversity/LGaimers/runs/gz1yw6zt' target=\"_blank\">ancient-sweep-9</a></strong> to <a href='https://wandb.ai/espada105-hanseouniversity/LGaimers' target=\"_blank\">Weights & Biases</a> (<a href='https://wandb.me/developer-guide' target=\"_blank\">docs</a>)<br>Sweep page: <a href='https://wandb.ai/espada105-hanseouniversity/LGaimers/sweeps/5e9b3czx' target=\"_blank\">https://wandb.ai/espada105-hanseouniversity/LGaimers/sweeps/5e9b3czx</a>"
      ],
      "text/plain": [
       "<IPython.core.display.HTML object>"
      ]
     },
     "metadata": {},
     "output_type": "display_data"
    },
    {
     "data": {
      "text/html": [
       " View project at <a href='https://wandb.ai/espada105-hanseouniversity/LGaimers' target=\"_blank\">https://wandb.ai/espada105-hanseouniversity/LGaimers</a>"
      ],
      "text/plain": [
       "<IPython.core.display.HTML object>"
      ]
     },
     "metadata": {},
     "output_type": "display_data"
    },
    {
     "data": {
      "text/html": [
       " View sweep at <a href='https://wandb.ai/espada105-hanseouniversity/LGaimers/sweeps/5e9b3czx' target=\"_blank\">https://wandb.ai/espada105-hanseouniversity/LGaimers/sweeps/5e9b3czx</a>"
      ],
      "text/plain": [
       "<IPython.core.display.HTML object>"
      ]
     },
     "metadata": {},
     "output_type": "display_data"
    },
    {
     "data": {
      "text/html": [
       " View run at <a href='https://wandb.ai/espada105-hanseouniversity/LGaimers/runs/gz1yw6zt' target=\"_blank\">https://wandb.ai/espada105-hanseouniversity/LGaimers/runs/gz1yw6zt</a>"
      ],
      "text/plain": [
       "<IPython.core.display.HTML object>"
      ]
     },
     "metadata": {},
     "output_type": "display_data"
    },
    {
     "name": "stdout",
     "output_type": "stream",
     "text": [
      "Validation ROC AUC: 0.7304\n"
     ]
    },
    {
     "name": "stderr",
     "output_type": "stream",
     "text": [
      "c:\\Users\\tjddl\\AppData\\Local\\Programs\\Python\\Python310\\lib\\site-packages\\sklearn\\linear_model\\_logistic.py:465: ConvergenceWarning: lbfgs failed to converge (status=1):\n",
      "STOP: TOTAL NO. OF ITERATIONS REACHED LIMIT.\n",
      "\n",
      "Increase the number of iterations (max_iter) or scale the data as shown in:\n",
      "    https://scikit-learn.org/stable/modules/preprocessing.html\n",
      "Please also refer to the documentation for alternative solver options:\n",
      "    https://scikit-learn.org/stable/modules/linear_model.html#logistic-regression\n",
      "  n_iter_i = _check_optimize_result(\n"
     ]
    },
    {
     "data": {
      "text/html": [],
      "text/plain": [
       "<IPython.core.display.HTML object>"
      ]
     },
     "metadata": {},
     "output_type": "display_data"
    },
    {
     "data": {
      "text/html": [
       "<br>    <style><br>        .wandb-row {<br>            display: flex;<br>            flex-direction: row;<br>            flex-wrap: wrap;<br>            justify-content: flex-start;<br>            width: 100%;<br>        }<br>        .wandb-col {<br>            display: flex;<br>            flex-direction: column;<br>            flex-basis: 100%;<br>            flex: 1;<br>            padding: 10px;<br>        }<br>    </style><br><div class=\"wandb-row\"><div class=\"wandb-col\"><h3>Run history:</h3><br/><table class=\"wandb\"><tr><td>final_validation_roc_auc</td><td>▁</td></tr></table><br/></div><div class=\"wandb-col\"><h3>Run summary:</h3><br/><table class=\"wandb\"><tr><td>final_validation_roc_auc</td><td>0.73039</td></tr></table><br/></div></div>"
      ],
      "text/plain": [
       "<IPython.core.display.HTML object>"
      ]
     },
     "metadata": {},
     "output_type": "display_data"
    },
    {
     "data": {
      "text/html": [
       " View run <strong style=\"color:#cdcd00\">ancient-sweep-9</strong> at: <a href='https://wandb.ai/espada105-hanseouniversity/LGaimers/runs/gz1yw6zt' target=\"_blank\">https://wandb.ai/espada105-hanseouniversity/LGaimers/runs/gz1yw6zt</a><br> View project at: <a href='https://wandb.ai/espada105-hanseouniversity/LGaimers' target=\"_blank\">https://wandb.ai/espada105-hanseouniversity/LGaimers</a><br>Synced 5 W&B file(s), 1 media file(s), 0 artifact file(s) and 0 other file(s)"
      ],
      "text/plain": [
       "<IPython.core.display.HTML object>"
      ]
     },
     "metadata": {},
     "output_type": "display_data"
    },
    {
     "data": {
      "text/html": [
       "Find logs at: <code>.\\wandb\\run-20250208_125703-gz1yw6zt\\logs</code>"
      ],
      "text/plain": [
       "<IPython.core.display.HTML object>"
      ]
     },
     "metadata": {},
     "output_type": "display_data"
    },
    {
     "name": "stderr",
     "output_type": "stream",
     "text": [
      "\u001b[34m\u001b[1mwandb\u001b[0m: Agent Starting Run: maymnqx6 with config:\n",
      "\u001b[34m\u001b[1mwandb\u001b[0m: \trandom_state: 42\n",
      "\u001b[34m\u001b[1mwandb\u001b[0m: \ttest_size: 0.2\n",
      "\u001b[34m\u001b[1mwandb\u001b[0m: \txgb_learning_rate: 0.1\n",
      "\u001b[34m\u001b[1mwandb\u001b[0m: \txgb_max_depth: 5\n",
      "\u001b[34m\u001b[1mwandb\u001b[0m: \txgb_n_estimators: 200\n"
     ]
    },
    {
     "data": {
      "text/html": [
       "Ignoring project 'LGaimers' when running a sweep."
      ],
      "text/plain": [
       "<IPython.core.display.HTML object>"
      ]
     },
     "metadata": {},
     "output_type": "display_data"
    },
    {
     "data": {
      "text/html": [
       "Ignoring entity 'espada105-hanseouniversity' when running a sweep."
      ],
      "text/plain": [
       "<IPython.core.display.HTML object>"
      ]
     },
     "metadata": {},
     "output_type": "display_data"
    },
    {
     "data": {
      "text/html": [
       "Tracking run with wandb version 0.19.6"
      ],
      "text/plain": [
       "<IPython.core.display.HTML object>"
      ]
     },
     "metadata": {},
     "output_type": "display_data"
    },
    {
     "data": {
      "text/html": [
       "Run data is saved locally in <code>c:\\GitHubRepo\\AI_Predicting_Pregnancy_Success\\HongSeongIn\\wandb\\run-20250208_125755-maymnqx6</code>"
      ],
      "text/plain": [
       "<IPython.core.display.HTML object>"
      ]
     },
     "metadata": {},
     "output_type": "display_data"
    },
    {
     "data": {
      "text/html": [
       "Syncing run <strong><a href='https://wandb.ai/espada105-hanseouniversity/LGaimers/runs/maymnqx6' target=\"_blank\">leafy-sweep-10</a></strong> to <a href='https://wandb.ai/espada105-hanseouniversity/LGaimers' target=\"_blank\">Weights & Biases</a> (<a href='https://wandb.me/developer-guide' target=\"_blank\">docs</a>)<br>Sweep page: <a href='https://wandb.ai/espada105-hanseouniversity/LGaimers/sweeps/5e9b3czx' target=\"_blank\">https://wandb.ai/espada105-hanseouniversity/LGaimers/sweeps/5e9b3czx</a>"
      ],
      "text/plain": [
       "<IPython.core.display.HTML object>"
      ]
     },
     "metadata": {},
     "output_type": "display_data"
    },
    {
     "data": {
      "text/html": [
       " View project at <a href='https://wandb.ai/espada105-hanseouniversity/LGaimers' target=\"_blank\">https://wandb.ai/espada105-hanseouniversity/LGaimers</a>"
      ],
      "text/plain": [
       "<IPython.core.display.HTML object>"
      ]
     },
     "metadata": {},
     "output_type": "display_data"
    },
    {
     "data": {
      "text/html": [
       " View sweep at <a href='https://wandb.ai/espada105-hanseouniversity/LGaimers/sweeps/5e9b3czx' target=\"_blank\">https://wandb.ai/espada105-hanseouniversity/LGaimers/sweeps/5e9b3czx</a>"
      ],
      "text/plain": [
       "<IPython.core.display.HTML object>"
      ]
     },
     "metadata": {},
     "output_type": "display_data"
    },
    {
     "data": {
      "text/html": [
       " View run at <a href='https://wandb.ai/espada105-hanseouniversity/LGaimers/runs/maymnqx6' target=\"_blank\">https://wandb.ai/espada105-hanseouniversity/LGaimers/runs/maymnqx6</a>"
      ],
      "text/plain": [
       "<IPython.core.display.HTML object>"
      ]
     },
     "metadata": {},
     "output_type": "display_data"
    },
    {
     "name": "stderr",
     "output_type": "stream",
     "text": [
      "c:\\Users\\tjddl\\AppData\\Local\\Programs\\Python\\Python310\\lib\\site-packages\\sklearn\\linear_model\\_logistic.py:465: ConvergenceWarning: lbfgs failed to converge (status=1):\n",
      "STOP: TOTAL NO. OF ITERATIONS REACHED LIMIT.\n",
      "\n",
      "Increase the number of iterations (max_iter) or scale the data as shown in:\n",
      "    https://scikit-learn.org/stable/modules/preprocessing.html\n",
      "Please also refer to the documentation for alternative solver options:\n",
      "    https://scikit-learn.org/stable/modules/linear_model.html#logistic-regression\n",
      "  n_iter_i = _check_optimize_result(\n"
     ]
    },
    {
     "name": "stdout",
     "output_type": "stream",
     "text": [
      "Validation ROC AUC: 0.7306\n"
     ]
    },
    {
     "data": {
      "text/html": [],
      "text/plain": [
       "<IPython.core.display.HTML object>"
      ]
     },
     "metadata": {},
     "output_type": "display_data"
    },
    {
     "data": {
      "text/html": [
       "<br>    <style><br>        .wandb-row {<br>            display: flex;<br>            flex-direction: row;<br>            flex-wrap: wrap;<br>            justify-content: flex-start;<br>            width: 100%;<br>        }<br>        .wandb-col {<br>            display: flex;<br>            flex-direction: column;<br>            flex-basis: 100%;<br>            flex: 1;<br>            padding: 10px;<br>        }<br>    </style><br><div class=\"wandb-row\"><div class=\"wandb-col\"><h3>Run history:</h3><br/><table class=\"wandb\"><tr><td>final_validation_roc_auc</td><td>▁</td></tr></table><br/></div><div class=\"wandb-col\"><h3>Run summary:</h3><br/><table class=\"wandb\"><tr><td>final_validation_roc_auc</td><td>0.7306</td></tr></table><br/></div></div>"
      ],
      "text/plain": [
       "<IPython.core.display.HTML object>"
      ]
     },
     "metadata": {},
     "output_type": "display_data"
    },
    {
     "data": {
      "text/html": [
       " View run <strong style=\"color:#cdcd00\">leafy-sweep-10</strong> at: <a href='https://wandb.ai/espada105-hanseouniversity/LGaimers/runs/maymnqx6' target=\"_blank\">https://wandb.ai/espada105-hanseouniversity/LGaimers/runs/maymnqx6</a><br> View project at: <a href='https://wandb.ai/espada105-hanseouniversity/LGaimers' target=\"_blank\">https://wandb.ai/espada105-hanseouniversity/LGaimers</a><br>Synced 5 W&B file(s), 1 media file(s), 0 artifact file(s) and 0 other file(s)"
      ],
      "text/plain": [
       "<IPython.core.display.HTML object>"
      ]
     },
     "metadata": {},
     "output_type": "display_data"
    },
    {
     "data": {
      "text/html": [
       "Find logs at: <code>.\\wandb\\run-20250208_125755-maymnqx6\\logs</code>"
      ],
      "text/plain": [
       "<IPython.core.display.HTML object>"
      ]
     },
     "metadata": {},
     "output_type": "display_data"
    },
    {
     "name": "stderr",
     "output_type": "stream",
     "text": [
      "\u001b[34m\u001b[1mwandb\u001b[0m: Agent Starting Run: hnkj01jk with config:\n",
      "\u001b[34m\u001b[1mwandb\u001b[0m: \trandom_state: 42\n",
      "\u001b[34m\u001b[1mwandb\u001b[0m: \ttest_size: 0.2\n",
      "\u001b[34m\u001b[1mwandb\u001b[0m: \txgb_learning_rate: 0.1\n",
      "\u001b[34m\u001b[1mwandb\u001b[0m: \txgb_max_depth: 7\n",
      "\u001b[34m\u001b[1mwandb\u001b[0m: \txgb_n_estimators: 100\n"
     ]
    },
    {
     "data": {
      "text/html": [
       "Ignoring project 'LGaimers' when running a sweep."
      ],
      "text/plain": [
       "<IPython.core.display.HTML object>"
      ]
     },
     "metadata": {},
     "output_type": "display_data"
    },
    {
     "data": {
      "text/html": [
       "Ignoring entity 'espada105-hanseouniversity' when running a sweep."
      ],
      "text/plain": [
       "<IPython.core.display.HTML object>"
      ]
     },
     "metadata": {},
     "output_type": "display_data"
    },
    {
     "data": {
      "text/html": [
       "Tracking run with wandb version 0.19.6"
      ],
      "text/plain": [
       "<IPython.core.display.HTML object>"
      ]
     },
     "metadata": {},
     "output_type": "display_data"
    },
    {
     "data": {
      "text/html": [
       "Run data is saved locally in <code>c:\\GitHubRepo\\AI_Predicting_Pregnancy_Success\\HongSeongIn\\wandb\\run-20250208_125848-hnkj01jk</code>"
      ],
      "text/plain": [
       "<IPython.core.display.HTML object>"
      ]
     },
     "metadata": {},
     "output_type": "display_data"
    },
    {
     "data": {
      "text/html": [
       "Syncing run <strong><a href='https://wandb.ai/espada105-hanseouniversity/LGaimers/runs/hnkj01jk' target=\"_blank\">firm-sweep-11</a></strong> to <a href='https://wandb.ai/espada105-hanseouniversity/LGaimers' target=\"_blank\">Weights & Biases</a> (<a href='https://wandb.me/developer-guide' target=\"_blank\">docs</a>)<br>Sweep page: <a href='https://wandb.ai/espada105-hanseouniversity/LGaimers/sweeps/5e9b3czx' target=\"_blank\">https://wandb.ai/espada105-hanseouniversity/LGaimers/sweeps/5e9b3czx</a>"
      ],
      "text/plain": [
       "<IPython.core.display.HTML object>"
      ]
     },
     "metadata": {},
     "output_type": "display_data"
    },
    {
     "data": {
      "text/html": [
       " View project at <a href='https://wandb.ai/espada105-hanseouniversity/LGaimers' target=\"_blank\">https://wandb.ai/espada105-hanseouniversity/LGaimers</a>"
      ],
      "text/plain": [
       "<IPython.core.display.HTML object>"
      ]
     },
     "metadata": {},
     "output_type": "display_data"
    },
    {
     "data": {
      "text/html": [
       " View sweep at <a href='https://wandb.ai/espada105-hanseouniversity/LGaimers/sweeps/5e9b3czx' target=\"_blank\">https://wandb.ai/espada105-hanseouniversity/LGaimers/sweeps/5e9b3czx</a>"
      ],
      "text/plain": [
       "<IPython.core.display.HTML object>"
      ]
     },
     "metadata": {},
     "output_type": "display_data"
    },
    {
     "data": {
      "text/html": [
       " View run at <a href='https://wandb.ai/espada105-hanseouniversity/LGaimers/runs/hnkj01jk' target=\"_blank\">https://wandb.ai/espada105-hanseouniversity/LGaimers/runs/hnkj01jk</a>"
      ],
      "text/plain": [
       "<IPython.core.display.HTML object>"
      ]
     },
     "metadata": {},
     "output_type": "display_data"
    },
    {
     "name": "stdout",
     "output_type": "stream",
     "text": [
      "Validation ROC AUC: 0.7310\n"
     ]
    },
    {
     "name": "stderr",
     "output_type": "stream",
     "text": [
      "c:\\Users\\tjddl\\AppData\\Local\\Programs\\Python\\Python310\\lib\\site-packages\\sklearn\\linear_model\\_logistic.py:465: ConvergenceWarning: lbfgs failed to converge (status=1):\n",
      "STOP: TOTAL NO. OF ITERATIONS REACHED LIMIT.\n",
      "\n",
      "Increase the number of iterations (max_iter) or scale the data as shown in:\n",
      "    https://scikit-learn.org/stable/modules/preprocessing.html\n",
      "Please also refer to the documentation for alternative solver options:\n",
      "    https://scikit-learn.org/stable/modules/linear_model.html#logistic-regression\n",
      "  n_iter_i = _check_optimize_result(\n"
     ]
    },
    {
     "data": {
      "text/html": [],
      "text/plain": [
       "<IPython.core.display.HTML object>"
      ]
     },
     "metadata": {},
     "output_type": "display_data"
    },
    {
     "data": {
      "text/html": [
       "<br>    <style><br>        .wandb-row {<br>            display: flex;<br>            flex-direction: row;<br>            flex-wrap: wrap;<br>            justify-content: flex-start;<br>            width: 100%;<br>        }<br>        .wandb-col {<br>            display: flex;<br>            flex-direction: column;<br>            flex-basis: 100%;<br>            flex: 1;<br>            padding: 10px;<br>        }<br>    </style><br><div class=\"wandb-row\"><div class=\"wandb-col\"><h3>Run history:</h3><br/><table class=\"wandb\"><tr><td>final_validation_roc_auc</td><td>▁</td></tr></table><br/></div><div class=\"wandb-col\"><h3>Run summary:</h3><br/><table class=\"wandb\"><tr><td>final_validation_roc_auc</td><td>0.73097</td></tr></table><br/></div></div>"
      ],
      "text/plain": [
       "<IPython.core.display.HTML object>"
      ]
     },
     "metadata": {},
     "output_type": "display_data"
    },
    {
     "data": {
      "text/html": [
       " View run <strong style=\"color:#cdcd00\">firm-sweep-11</strong> at: <a href='https://wandb.ai/espada105-hanseouniversity/LGaimers/runs/hnkj01jk' target=\"_blank\">https://wandb.ai/espada105-hanseouniversity/LGaimers/runs/hnkj01jk</a><br> View project at: <a href='https://wandb.ai/espada105-hanseouniversity/LGaimers' target=\"_blank\">https://wandb.ai/espada105-hanseouniversity/LGaimers</a><br>Synced 5 W&B file(s), 1 media file(s), 0 artifact file(s) and 0 other file(s)"
      ],
      "text/plain": [
       "<IPython.core.display.HTML object>"
      ]
     },
     "metadata": {},
     "output_type": "display_data"
    },
    {
     "data": {
      "text/html": [
       "Find logs at: <code>.\\wandb\\run-20250208_125848-hnkj01jk\\logs</code>"
      ],
      "text/plain": [
       "<IPython.core.display.HTML object>"
      ]
     },
     "metadata": {},
     "output_type": "display_data"
    },
    {
     "name": "stderr",
     "output_type": "stream",
     "text": [
      "\u001b[34m\u001b[1mwandb\u001b[0m: Agent Starting Run: vm3lsjpl with config:\n",
      "\u001b[34m\u001b[1mwandb\u001b[0m: \trandom_state: 42\n",
      "\u001b[34m\u001b[1mwandb\u001b[0m: \ttest_size: 0.2\n",
      "\u001b[34m\u001b[1mwandb\u001b[0m: \txgb_learning_rate: 0.1\n",
      "\u001b[34m\u001b[1mwandb\u001b[0m: \txgb_max_depth: 7\n",
      "\u001b[34m\u001b[1mwandb\u001b[0m: \txgb_n_estimators: 200\n"
     ]
    },
    {
     "data": {
      "text/html": [
       "Ignoring project 'LGaimers' when running a sweep."
      ],
      "text/plain": [
       "<IPython.core.display.HTML object>"
      ]
     },
     "metadata": {},
     "output_type": "display_data"
    },
    {
     "data": {
      "text/html": [
       "Ignoring entity 'espada105-hanseouniversity' when running a sweep."
      ],
      "text/plain": [
       "<IPython.core.display.HTML object>"
      ]
     },
     "metadata": {},
     "output_type": "display_data"
    },
    {
     "data": {
      "text/html": [
       "Tracking run with wandb version 0.19.6"
      ],
      "text/plain": [
       "<IPython.core.display.HTML object>"
      ]
     },
     "metadata": {},
     "output_type": "display_data"
    },
    {
     "data": {
      "text/html": [
       "Run data is saved locally in <code>c:\\GitHubRepo\\AI_Predicting_Pregnancy_Success\\HongSeongIn\\wandb\\run-20250208_125940-vm3lsjpl</code>"
      ],
      "text/plain": [
       "<IPython.core.display.HTML object>"
      ]
     },
     "metadata": {},
     "output_type": "display_data"
    },
    {
     "data": {
      "text/html": [
       "Syncing run <strong><a href='https://wandb.ai/espada105-hanseouniversity/LGaimers/runs/vm3lsjpl' target=\"_blank\">misty-sweep-12</a></strong> to <a href='https://wandb.ai/espada105-hanseouniversity/LGaimers' target=\"_blank\">Weights & Biases</a> (<a href='https://wandb.me/developer-guide' target=\"_blank\">docs</a>)<br>Sweep page: <a href='https://wandb.ai/espada105-hanseouniversity/LGaimers/sweeps/5e9b3czx' target=\"_blank\">https://wandb.ai/espada105-hanseouniversity/LGaimers/sweeps/5e9b3czx</a>"
      ],
      "text/plain": [
       "<IPython.core.display.HTML object>"
      ]
     },
     "metadata": {},
     "output_type": "display_data"
    },
    {
     "data": {
      "text/html": [
       " View project at <a href='https://wandb.ai/espada105-hanseouniversity/LGaimers' target=\"_blank\">https://wandb.ai/espada105-hanseouniversity/LGaimers</a>"
      ],
      "text/plain": [
       "<IPython.core.display.HTML object>"
      ]
     },
     "metadata": {},
     "output_type": "display_data"
    },
    {
     "data": {
      "text/html": [
       " View sweep at <a href='https://wandb.ai/espada105-hanseouniversity/LGaimers/sweeps/5e9b3czx' target=\"_blank\">https://wandb.ai/espada105-hanseouniversity/LGaimers/sweeps/5e9b3czx</a>"
      ],
      "text/plain": [
       "<IPython.core.display.HTML object>"
      ]
     },
     "metadata": {},
     "output_type": "display_data"
    },
    {
     "data": {
      "text/html": [
       " View run at <a href='https://wandb.ai/espada105-hanseouniversity/LGaimers/runs/vm3lsjpl' target=\"_blank\">https://wandb.ai/espada105-hanseouniversity/LGaimers/runs/vm3lsjpl</a>"
      ],
      "text/plain": [
       "<IPython.core.display.HTML object>"
      ]
     },
     "metadata": {},
     "output_type": "display_data"
    },
    {
     "name": "stdout",
     "output_type": "stream",
     "text": [
      "Validation ROC AUC: 0.7310\n"
     ]
    },
    {
     "name": "stderr",
     "output_type": "stream",
     "text": [
      "c:\\Users\\tjddl\\AppData\\Local\\Programs\\Python\\Python310\\lib\\site-packages\\sklearn\\linear_model\\_logistic.py:465: ConvergenceWarning: lbfgs failed to converge (status=1):\n",
      "STOP: TOTAL NO. OF ITERATIONS REACHED LIMIT.\n",
      "\n",
      "Increase the number of iterations (max_iter) or scale the data as shown in:\n",
      "    https://scikit-learn.org/stable/modules/preprocessing.html\n",
      "Please also refer to the documentation for alternative solver options:\n",
      "    https://scikit-learn.org/stable/modules/linear_model.html#logistic-regression\n",
      "  n_iter_i = _check_optimize_result(\n"
     ]
    },
    {
     "data": {
      "text/html": [],
      "text/plain": [
       "<IPython.core.display.HTML object>"
      ]
     },
     "metadata": {},
     "output_type": "display_data"
    },
    {
     "data": {
      "text/html": [
       "<br>    <style><br>        .wandb-row {<br>            display: flex;<br>            flex-direction: row;<br>            flex-wrap: wrap;<br>            justify-content: flex-start;<br>            width: 100%;<br>        }<br>        .wandb-col {<br>            display: flex;<br>            flex-direction: column;<br>            flex-basis: 100%;<br>            flex: 1;<br>            padding: 10px;<br>        }<br>    </style><br><div class=\"wandb-row\"><div class=\"wandb-col\"><h3>Run history:</h3><br/><table class=\"wandb\"><tr><td>final_validation_roc_auc</td><td>▁</td></tr></table><br/></div><div class=\"wandb-col\"><h3>Run summary:</h3><br/><table class=\"wandb\"><tr><td>final_validation_roc_auc</td><td>0.73097</td></tr></table><br/></div></div>"
      ],
      "text/plain": [
       "<IPython.core.display.HTML object>"
      ]
     },
     "metadata": {},
     "output_type": "display_data"
    },
    {
     "data": {
      "text/html": [
       " View run <strong style=\"color:#cdcd00\">misty-sweep-12</strong> at: <a href='https://wandb.ai/espada105-hanseouniversity/LGaimers/runs/vm3lsjpl' target=\"_blank\">https://wandb.ai/espada105-hanseouniversity/LGaimers/runs/vm3lsjpl</a><br> View project at: <a href='https://wandb.ai/espada105-hanseouniversity/LGaimers' target=\"_blank\">https://wandb.ai/espada105-hanseouniversity/LGaimers</a><br>Synced 5 W&B file(s), 1 media file(s), 0 artifact file(s) and 0 other file(s)"
      ],
      "text/plain": [
       "<IPython.core.display.HTML object>"
      ]
     },
     "metadata": {},
     "output_type": "display_data"
    },
    {
     "data": {
      "text/html": [
       "Find logs at: <code>.\\wandb\\run-20250208_125940-vm3lsjpl\\logs</code>"
      ],
      "text/plain": [
       "<IPython.core.display.HTML object>"
      ]
     },
     "metadata": {},
     "output_type": "display_data"
    },
    {
     "name": "stderr",
     "output_type": "stream",
     "text": [
      "\u001b[34m\u001b[1mwandb\u001b[0m: Agent Starting Run: 937thwjc with config:\n",
      "\u001b[34m\u001b[1mwandb\u001b[0m: \trandom_state: 42\n",
      "\u001b[34m\u001b[1mwandb\u001b[0m: \ttest_size: 0.2\n",
      "\u001b[34m\u001b[1mwandb\u001b[0m: \txgb_learning_rate: 0.2\n",
      "\u001b[34m\u001b[1mwandb\u001b[0m: \txgb_max_depth: 3\n",
      "\u001b[34m\u001b[1mwandb\u001b[0m: \txgb_n_estimators: 100\n"
     ]
    },
    {
     "data": {
      "text/html": [
       "Ignoring project 'LGaimers' when running a sweep."
      ],
      "text/plain": [
       "<IPython.core.display.HTML object>"
      ]
     },
     "metadata": {},
     "output_type": "display_data"
    },
    {
     "data": {
      "text/html": [
       "Ignoring entity 'espada105-hanseouniversity' when running a sweep."
      ],
      "text/plain": [
       "<IPython.core.display.HTML object>"
      ]
     },
     "metadata": {},
     "output_type": "display_data"
    },
    {
     "data": {
      "text/html": [
       "Tracking run with wandb version 0.19.6"
      ],
      "text/plain": [
       "<IPython.core.display.HTML object>"
      ]
     },
     "metadata": {},
     "output_type": "display_data"
    },
    {
     "data": {
      "text/html": [
       "Run data is saved locally in <code>c:\\GitHubRepo\\AI_Predicting_Pregnancy_Success\\HongSeongIn\\wandb\\run-20250208_130038-937thwjc</code>"
      ],
      "text/plain": [
       "<IPython.core.display.HTML object>"
      ]
     },
     "metadata": {},
     "output_type": "display_data"
    },
    {
     "data": {
      "text/html": [
       "Syncing run <strong><a href='https://wandb.ai/espada105-hanseouniversity/LGaimers/runs/937thwjc' target=\"_blank\">gentle-sweep-13</a></strong> to <a href='https://wandb.ai/espada105-hanseouniversity/LGaimers' target=\"_blank\">Weights & Biases</a> (<a href='https://wandb.me/developer-guide' target=\"_blank\">docs</a>)<br>Sweep page: <a href='https://wandb.ai/espada105-hanseouniversity/LGaimers/sweeps/5e9b3czx' target=\"_blank\">https://wandb.ai/espada105-hanseouniversity/LGaimers/sweeps/5e9b3czx</a>"
      ],
      "text/plain": [
       "<IPython.core.display.HTML object>"
      ]
     },
     "metadata": {},
     "output_type": "display_data"
    },
    {
     "data": {
      "text/html": [
       " View project at <a href='https://wandb.ai/espada105-hanseouniversity/LGaimers' target=\"_blank\">https://wandb.ai/espada105-hanseouniversity/LGaimers</a>"
      ],
      "text/plain": [
       "<IPython.core.display.HTML object>"
      ]
     },
     "metadata": {},
     "output_type": "display_data"
    },
    {
     "data": {
      "text/html": [
       " View sweep at <a href='https://wandb.ai/espada105-hanseouniversity/LGaimers/sweeps/5e9b3czx' target=\"_blank\">https://wandb.ai/espada105-hanseouniversity/LGaimers/sweeps/5e9b3czx</a>"
      ],
      "text/plain": [
       "<IPython.core.display.HTML object>"
      ]
     },
     "metadata": {},
     "output_type": "display_data"
    },
    {
     "data": {
      "text/html": [
       " View run at <a href='https://wandb.ai/espada105-hanseouniversity/LGaimers/runs/937thwjc' target=\"_blank\">https://wandb.ai/espada105-hanseouniversity/LGaimers/runs/937thwjc</a>"
      ],
      "text/plain": [
       "<IPython.core.display.HTML object>"
      ]
     },
     "metadata": {},
     "output_type": "display_data"
    },
    {
     "name": "stdout",
     "output_type": "stream",
     "text": [
      "Validation ROC AUC: 0.7297\n"
     ]
    },
    {
     "name": "stderr",
     "output_type": "stream",
     "text": [
      "c:\\Users\\tjddl\\AppData\\Local\\Programs\\Python\\Python310\\lib\\site-packages\\sklearn\\linear_model\\_logistic.py:465: ConvergenceWarning: lbfgs failed to converge (status=1):\n",
      "STOP: TOTAL NO. OF ITERATIONS REACHED LIMIT.\n",
      "\n",
      "Increase the number of iterations (max_iter) or scale the data as shown in:\n",
      "    https://scikit-learn.org/stable/modules/preprocessing.html\n",
      "Please also refer to the documentation for alternative solver options:\n",
      "    https://scikit-learn.org/stable/modules/linear_model.html#logistic-regression\n",
      "  n_iter_i = _check_optimize_result(\n"
     ]
    },
    {
     "data": {
      "text/html": [],
      "text/plain": [
       "<IPython.core.display.HTML object>"
      ]
     },
     "metadata": {},
     "output_type": "display_data"
    },
    {
     "data": {
      "text/html": [
       "<br>    <style><br>        .wandb-row {<br>            display: flex;<br>            flex-direction: row;<br>            flex-wrap: wrap;<br>            justify-content: flex-start;<br>            width: 100%;<br>        }<br>        .wandb-col {<br>            display: flex;<br>            flex-direction: column;<br>            flex-basis: 100%;<br>            flex: 1;<br>            padding: 10px;<br>        }<br>    </style><br><div class=\"wandb-row\"><div class=\"wandb-col\"><h3>Run history:</h3><br/><table class=\"wandb\"><tr><td>final_validation_roc_auc</td><td>▁</td></tr></table><br/></div><div class=\"wandb-col\"><h3>Run summary:</h3><br/><table class=\"wandb\"><tr><td>final_validation_roc_auc</td><td>0.72972</td></tr></table><br/></div></div>"
      ],
      "text/plain": [
       "<IPython.core.display.HTML object>"
      ]
     },
     "metadata": {},
     "output_type": "display_data"
    },
    {
     "data": {
      "text/html": [
       " View run <strong style=\"color:#cdcd00\">gentle-sweep-13</strong> at: <a href='https://wandb.ai/espada105-hanseouniversity/LGaimers/runs/937thwjc' target=\"_blank\">https://wandb.ai/espada105-hanseouniversity/LGaimers/runs/937thwjc</a><br> View project at: <a href='https://wandb.ai/espada105-hanseouniversity/LGaimers' target=\"_blank\">https://wandb.ai/espada105-hanseouniversity/LGaimers</a><br>Synced 5 W&B file(s), 1 media file(s), 0 artifact file(s) and 0 other file(s)"
      ],
      "text/plain": [
       "<IPython.core.display.HTML object>"
      ]
     },
     "metadata": {},
     "output_type": "display_data"
    },
    {
     "data": {
      "text/html": [
       "Find logs at: <code>.\\wandb\\run-20250208_130038-937thwjc\\logs</code>"
      ],
      "text/plain": [
       "<IPython.core.display.HTML object>"
      ]
     },
     "metadata": {},
     "output_type": "display_data"
    },
    {
     "name": "stderr",
     "output_type": "stream",
     "text": [
      "\u001b[34m\u001b[1mwandb\u001b[0m: Agent Starting Run: 1zkn5sor with config:\n",
      "\u001b[34m\u001b[1mwandb\u001b[0m: \trandom_state: 42\n",
      "\u001b[34m\u001b[1mwandb\u001b[0m: \ttest_size: 0.2\n",
      "\u001b[34m\u001b[1mwandb\u001b[0m: \txgb_learning_rate: 0.2\n",
      "\u001b[34m\u001b[1mwandb\u001b[0m: \txgb_max_depth: 3\n",
      "\u001b[34m\u001b[1mwandb\u001b[0m: \txgb_n_estimators: 200\n"
     ]
    },
    {
     "data": {
      "text/html": [
       "Ignoring project 'LGaimers' when running a sweep."
      ],
      "text/plain": [
       "<IPython.core.display.HTML object>"
      ]
     },
     "metadata": {},
     "output_type": "display_data"
    },
    {
     "data": {
      "text/html": [
       "Ignoring entity 'espada105-hanseouniversity' when running a sweep."
      ],
      "text/plain": [
       "<IPython.core.display.HTML object>"
      ]
     },
     "metadata": {},
     "output_type": "display_data"
    },
    {
     "data": {
      "text/html": [
       "Tracking run with wandb version 0.19.6"
      ],
      "text/plain": [
       "<IPython.core.display.HTML object>"
      ]
     },
     "metadata": {},
     "output_type": "display_data"
    },
    {
     "data": {
      "text/html": [
       "Run data is saved locally in <code>c:\\GitHubRepo\\AI_Predicting_Pregnancy_Success\\HongSeongIn\\wandb\\run-20250208_130130-1zkn5sor</code>"
      ],
      "text/plain": [
       "<IPython.core.display.HTML object>"
      ]
     },
     "metadata": {},
     "output_type": "display_data"
    },
    {
     "data": {
      "text/html": [
       "Syncing run <strong><a href='https://wandb.ai/espada105-hanseouniversity/LGaimers/runs/1zkn5sor' target=\"_blank\">eternal-sweep-14</a></strong> to <a href='https://wandb.ai/espada105-hanseouniversity/LGaimers' target=\"_blank\">Weights & Biases</a> (<a href='https://wandb.me/developer-guide' target=\"_blank\">docs</a>)<br>Sweep page: <a href='https://wandb.ai/espada105-hanseouniversity/LGaimers/sweeps/5e9b3czx' target=\"_blank\">https://wandb.ai/espada105-hanseouniversity/LGaimers/sweeps/5e9b3czx</a>"
      ],
      "text/plain": [
       "<IPython.core.display.HTML object>"
      ]
     },
     "metadata": {},
     "output_type": "display_data"
    },
    {
     "data": {
      "text/html": [
       " View project at <a href='https://wandb.ai/espada105-hanseouniversity/LGaimers' target=\"_blank\">https://wandb.ai/espada105-hanseouniversity/LGaimers</a>"
      ],
      "text/plain": [
       "<IPython.core.display.HTML object>"
      ]
     },
     "metadata": {},
     "output_type": "display_data"
    },
    {
     "data": {
      "text/html": [
       " View sweep at <a href='https://wandb.ai/espada105-hanseouniversity/LGaimers/sweeps/5e9b3czx' target=\"_blank\">https://wandb.ai/espada105-hanseouniversity/LGaimers/sweeps/5e9b3czx</a>"
      ],
      "text/plain": [
       "<IPython.core.display.HTML object>"
      ]
     },
     "metadata": {},
     "output_type": "display_data"
    },
    {
     "data": {
      "text/html": [
       " View run at <a href='https://wandb.ai/espada105-hanseouniversity/LGaimers/runs/1zkn5sor' target=\"_blank\">https://wandb.ai/espada105-hanseouniversity/LGaimers/runs/1zkn5sor</a>"
      ],
      "text/plain": [
       "<IPython.core.display.HTML object>"
      ]
     },
     "metadata": {},
     "output_type": "display_data"
    },
    {
     "name": "stdout",
     "output_type": "stream",
     "text": [
      "Validation ROC AUC: 0.7303\n"
     ]
    },
    {
     "name": "stderr",
     "output_type": "stream",
     "text": [
      "c:\\Users\\tjddl\\AppData\\Local\\Programs\\Python\\Python310\\lib\\site-packages\\sklearn\\linear_model\\_logistic.py:465: ConvergenceWarning: lbfgs failed to converge (status=1):\n",
      "STOP: TOTAL NO. OF ITERATIONS REACHED LIMIT.\n",
      "\n",
      "Increase the number of iterations (max_iter) or scale the data as shown in:\n",
      "    https://scikit-learn.org/stable/modules/preprocessing.html\n",
      "Please also refer to the documentation for alternative solver options:\n",
      "    https://scikit-learn.org/stable/modules/linear_model.html#logistic-regression\n",
      "  n_iter_i = _check_optimize_result(\n"
     ]
    },
    {
     "data": {
      "text/html": [],
      "text/plain": [
       "<IPython.core.display.HTML object>"
      ]
     },
     "metadata": {},
     "output_type": "display_data"
    },
    {
     "data": {
      "text/html": [
       "<br>    <style><br>        .wandb-row {<br>            display: flex;<br>            flex-direction: row;<br>            flex-wrap: wrap;<br>            justify-content: flex-start;<br>            width: 100%;<br>        }<br>        .wandb-col {<br>            display: flex;<br>            flex-direction: column;<br>            flex-basis: 100%;<br>            flex: 1;<br>            padding: 10px;<br>        }<br>    </style><br><div class=\"wandb-row\"><div class=\"wandb-col\"><h3>Run history:</h3><br/><table class=\"wandb\"><tr><td>final_validation_roc_auc</td><td>▁</td></tr></table><br/></div><div class=\"wandb-col\"><h3>Run summary:</h3><br/><table class=\"wandb\"><tr><td>final_validation_roc_auc</td><td>0.7303</td></tr></table><br/></div></div>"
      ],
      "text/plain": [
       "<IPython.core.display.HTML object>"
      ]
     },
     "metadata": {},
     "output_type": "display_data"
    },
    {
     "data": {
      "text/html": [
       " View run <strong style=\"color:#cdcd00\">eternal-sweep-14</strong> at: <a href='https://wandb.ai/espada105-hanseouniversity/LGaimers/runs/1zkn5sor' target=\"_blank\">https://wandb.ai/espada105-hanseouniversity/LGaimers/runs/1zkn5sor</a><br> View project at: <a href='https://wandb.ai/espada105-hanseouniversity/LGaimers' target=\"_blank\">https://wandb.ai/espada105-hanseouniversity/LGaimers</a><br>Synced 5 W&B file(s), 1 media file(s), 0 artifact file(s) and 0 other file(s)"
      ],
      "text/plain": [
       "<IPython.core.display.HTML object>"
      ]
     },
     "metadata": {},
     "output_type": "display_data"
    },
    {
     "data": {
      "text/html": [
       "Find logs at: <code>.\\wandb\\run-20250208_130130-1zkn5sor\\logs</code>"
      ],
      "text/plain": [
       "<IPython.core.display.HTML object>"
      ]
     },
     "metadata": {},
     "output_type": "display_data"
    },
    {
     "name": "stderr",
     "output_type": "stream",
     "text": [
      "\u001b[34m\u001b[1mwandb\u001b[0m: Agent Starting Run: bnl1a10m with config:\n",
      "\u001b[34m\u001b[1mwandb\u001b[0m: \trandom_state: 42\n",
      "\u001b[34m\u001b[1mwandb\u001b[0m: \ttest_size: 0.2\n",
      "\u001b[34m\u001b[1mwandb\u001b[0m: \txgb_learning_rate: 0.2\n",
      "\u001b[34m\u001b[1mwandb\u001b[0m: \txgb_max_depth: 5\n",
      "\u001b[34m\u001b[1mwandb\u001b[0m: \txgb_n_estimators: 100\n"
     ]
    },
    {
     "data": {
      "text/html": [
       "Ignoring project 'LGaimers' when running a sweep."
      ],
      "text/plain": [
       "<IPython.core.display.HTML object>"
      ]
     },
     "metadata": {},
     "output_type": "display_data"
    },
    {
     "data": {
      "text/html": [
       "Ignoring entity 'espada105-hanseouniversity' when running a sweep."
      ],
      "text/plain": [
       "<IPython.core.display.HTML object>"
      ]
     },
     "metadata": {},
     "output_type": "display_data"
    },
    {
     "data": {
      "text/html": [
       "Tracking run with wandb version 0.19.6"
      ],
      "text/plain": [
       "<IPython.core.display.HTML object>"
      ]
     },
     "metadata": {},
     "output_type": "display_data"
    },
    {
     "data": {
      "text/html": [
       "Run data is saved locally in <code>c:\\GitHubRepo\\AI_Predicting_Pregnancy_Success\\HongSeongIn\\wandb\\run-20250208_130223-bnl1a10m</code>"
      ],
      "text/plain": [
       "<IPython.core.display.HTML object>"
      ]
     },
     "metadata": {},
     "output_type": "display_data"
    },
    {
     "data": {
      "text/html": [
       "Syncing run <strong><a href='https://wandb.ai/espada105-hanseouniversity/LGaimers/runs/bnl1a10m' target=\"_blank\">lyric-sweep-15</a></strong> to <a href='https://wandb.ai/espada105-hanseouniversity/LGaimers' target=\"_blank\">Weights & Biases</a> (<a href='https://wandb.me/developer-guide' target=\"_blank\">docs</a>)<br>Sweep page: <a href='https://wandb.ai/espada105-hanseouniversity/LGaimers/sweeps/5e9b3czx' target=\"_blank\">https://wandb.ai/espada105-hanseouniversity/LGaimers/sweeps/5e9b3czx</a>"
      ],
      "text/plain": [
       "<IPython.core.display.HTML object>"
      ]
     },
     "metadata": {},
     "output_type": "display_data"
    },
    {
     "data": {
      "text/html": [
       " View project at <a href='https://wandb.ai/espada105-hanseouniversity/LGaimers' target=\"_blank\">https://wandb.ai/espada105-hanseouniversity/LGaimers</a>"
      ],
      "text/plain": [
       "<IPython.core.display.HTML object>"
      ]
     },
     "metadata": {},
     "output_type": "display_data"
    },
    {
     "data": {
      "text/html": [
       " View sweep at <a href='https://wandb.ai/espada105-hanseouniversity/LGaimers/sweeps/5e9b3czx' target=\"_blank\">https://wandb.ai/espada105-hanseouniversity/LGaimers/sweeps/5e9b3czx</a>"
      ],
      "text/plain": [
       "<IPython.core.display.HTML object>"
      ]
     },
     "metadata": {},
     "output_type": "display_data"
    },
    {
     "data": {
      "text/html": [
       " View run at <a href='https://wandb.ai/espada105-hanseouniversity/LGaimers/runs/bnl1a10m' target=\"_blank\">https://wandb.ai/espada105-hanseouniversity/LGaimers/runs/bnl1a10m</a>"
      ],
      "text/plain": [
       "<IPython.core.display.HTML object>"
      ]
     },
     "metadata": {},
     "output_type": "display_data"
    },
    {
     "name": "stdout",
     "output_type": "stream",
     "text": [
      "Validation ROC AUC: 0.7308\n"
     ]
    },
    {
     "name": "stderr",
     "output_type": "stream",
     "text": [
      "c:\\Users\\tjddl\\AppData\\Local\\Programs\\Python\\Python310\\lib\\site-packages\\sklearn\\linear_model\\_logistic.py:465: ConvergenceWarning: lbfgs failed to converge (status=1):\n",
      "STOP: TOTAL NO. OF ITERATIONS REACHED LIMIT.\n",
      "\n",
      "Increase the number of iterations (max_iter) or scale the data as shown in:\n",
      "    https://scikit-learn.org/stable/modules/preprocessing.html\n",
      "Please also refer to the documentation for alternative solver options:\n",
      "    https://scikit-learn.org/stable/modules/linear_model.html#logistic-regression\n",
      "  n_iter_i = _check_optimize_result(\n"
     ]
    },
    {
     "data": {
      "text/html": [],
      "text/plain": [
       "<IPython.core.display.HTML object>"
      ]
     },
     "metadata": {},
     "output_type": "display_data"
    },
    {
     "data": {
      "text/html": [
       "<br>    <style><br>        .wandb-row {<br>            display: flex;<br>            flex-direction: row;<br>            flex-wrap: wrap;<br>            justify-content: flex-start;<br>            width: 100%;<br>        }<br>        .wandb-col {<br>            display: flex;<br>            flex-direction: column;<br>            flex-basis: 100%;<br>            flex: 1;<br>            padding: 10px;<br>        }<br>    </style><br><div class=\"wandb-row\"><div class=\"wandb-col\"><h3>Run history:</h3><br/><table class=\"wandb\"><tr><td>final_validation_roc_auc</td><td>▁</td></tr></table><br/></div><div class=\"wandb-col\"><h3>Run summary:</h3><br/><table class=\"wandb\"><tr><td>final_validation_roc_auc</td><td>0.73085</td></tr></table><br/></div></div>"
      ],
      "text/plain": [
       "<IPython.core.display.HTML object>"
      ]
     },
     "metadata": {},
     "output_type": "display_data"
    },
    {
     "data": {
      "text/html": [
       " View run <strong style=\"color:#cdcd00\">lyric-sweep-15</strong> at: <a href='https://wandb.ai/espada105-hanseouniversity/LGaimers/runs/bnl1a10m' target=\"_blank\">https://wandb.ai/espada105-hanseouniversity/LGaimers/runs/bnl1a10m</a><br> View project at: <a href='https://wandb.ai/espada105-hanseouniversity/LGaimers' target=\"_blank\">https://wandb.ai/espada105-hanseouniversity/LGaimers</a><br>Synced 5 W&B file(s), 1 media file(s), 0 artifact file(s) and 0 other file(s)"
      ],
      "text/plain": [
       "<IPython.core.display.HTML object>"
      ]
     },
     "metadata": {},
     "output_type": "display_data"
    },
    {
     "data": {
      "text/html": [
       "Find logs at: <code>.\\wandb\\run-20250208_130223-bnl1a10m\\logs</code>"
      ],
      "text/plain": [
       "<IPython.core.display.HTML object>"
      ]
     },
     "metadata": {},
     "output_type": "display_data"
    },
    {
     "name": "stderr",
     "output_type": "stream",
     "text": [
      "\u001b[34m\u001b[1mwandb\u001b[0m: Agent Starting Run: qby2jrme with config:\n",
      "\u001b[34m\u001b[1mwandb\u001b[0m: \trandom_state: 42\n",
      "\u001b[34m\u001b[1mwandb\u001b[0m: \ttest_size: 0.2\n",
      "\u001b[34m\u001b[1mwandb\u001b[0m: \txgb_learning_rate: 0.2\n",
      "\u001b[34m\u001b[1mwandb\u001b[0m: \txgb_max_depth: 5\n",
      "\u001b[34m\u001b[1mwandb\u001b[0m: \txgb_n_estimators: 200\n"
     ]
    },
    {
     "data": {
      "text/html": [
       "Ignoring project 'LGaimers' when running a sweep."
      ],
      "text/plain": [
       "<IPython.core.display.HTML object>"
      ]
     },
     "metadata": {},
     "output_type": "display_data"
    },
    {
     "data": {
      "text/html": [
       "Ignoring entity 'espada105-hanseouniversity' when running a sweep."
      ],
      "text/plain": [
       "<IPython.core.display.HTML object>"
      ]
     },
     "metadata": {},
     "output_type": "display_data"
    },
    {
     "data": {
      "text/html": [
       "Tracking run with wandb version 0.19.6"
      ],
      "text/plain": [
       "<IPython.core.display.HTML object>"
      ]
     },
     "metadata": {},
     "output_type": "display_data"
    },
    {
     "data": {
      "text/html": [
       "Run data is saved locally in <code>c:\\GitHubRepo\\AI_Predicting_Pregnancy_Success\\HongSeongIn\\wandb\\run-20250208_130315-qby2jrme</code>"
      ],
      "text/plain": [
       "<IPython.core.display.HTML object>"
      ]
     },
     "metadata": {},
     "output_type": "display_data"
    },
    {
     "data": {
      "text/html": [
       "Syncing run <strong><a href='https://wandb.ai/espada105-hanseouniversity/LGaimers/runs/qby2jrme' target=\"_blank\">apricot-sweep-16</a></strong> to <a href='https://wandb.ai/espada105-hanseouniversity/LGaimers' target=\"_blank\">Weights & Biases</a> (<a href='https://wandb.me/developer-guide' target=\"_blank\">docs</a>)<br>Sweep page: <a href='https://wandb.ai/espada105-hanseouniversity/LGaimers/sweeps/5e9b3czx' target=\"_blank\">https://wandb.ai/espada105-hanseouniversity/LGaimers/sweeps/5e9b3czx</a>"
      ],
      "text/plain": [
       "<IPython.core.display.HTML object>"
      ]
     },
     "metadata": {},
     "output_type": "display_data"
    },
    {
     "data": {
      "text/html": [
       " View project at <a href='https://wandb.ai/espada105-hanseouniversity/LGaimers' target=\"_blank\">https://wandb.ai/espada105-hanseouniversity/LGaimers</a>"
      ],
      "text/plain": [
       "<IPython.core.display.HTML object>"
      ]
     },
     "metadata": {},
     "output_type": "display_data"
    },
    {
     "data": {
      "text/html": [
       " View sweep at <a href='https://wandb.ai/espada105-hanseouniversity/LGaimers/sweeps/5e9b3czx' target=\"_blank\">https://wandb.ai/espada105-hanseouniversity/LGaimers/sweeps/5e9b3czx</a>"
      ],
      "text/plain": [
       "<IPython.core.display.HTML object>"
      ]
     },
     "metadata": {},
     "output_type": "display_data"
    },
    {
     "data": {
      "text/html": [
       " View run at <a href='https://wandb.ai/espada105-hanseouniversity/LGaimers/runs/qby2jrme' target=\"_blank\">https://wandb.ai/espada105-hanseouniversity/LGaimers/runs/qby2jrme</a>"
      ],
      "text/plain": [
       "<IPython.core.display.HTML object>"
      ]
     },
     "metadata": {},
     "output_type": "display_data"
    },
    {
     "name": "stdout",
     "output_type": "stream",
     "text": [
      "Validation ROC AUC: 0.7308\n"
     ]
    },
    {
     "name": "stderr",
     "output_type": "stream",
     "text": [
      "c:\\Users\\tjddl\\AppData\\Local\\Programs\\Python\\Python310\\lib\\site-packages\\sklearn\\linear_model\\_logistic.py:465: ConvergenceWarning: lbfgs failed to converge (status=1):\n",
      "STOP: TOTAL NO. OF ITERATIONS REACHED LIMIT.\n",
      "\n",
      "Increase the number of iterations (max_iter) or scale the data as shown in:\n",
      "    https://scikit-learn.org/stable/modules/preprocessing.html\n",
      "Please also refer to the documentation for alternative solver options:\n",
      "    https://scikit-learn.org/stable/modules/linear_model.html#logistic-regression\n",
      "  n_iter_i = _check_optimize_result(\n"
     ]
    },
    {
     "data": {
      "text/html": [],
      "text/plain": [
       "<IPython.core.display.HTML object>"
      ]
     },
     "metadata": {},
     "output_type": "display_data"
    },
    {
     "data": {
      "text/html": [
       "<br>    <style><br>        .wandb-row {<br>            display: flex;<br>            flex-direction: row;<br>            flex-wrap: wrap;<br>            justify-content: flex-start;<br>            width: 100%;<br>        }<br>        .wandb-col {<br>            display: flex;<br>            flex-direction: column;<br>            flex-basis: 100%;<br>            flex: 1;<br>            padding: 10px;<br>        }<br>    </style><br><div class=\"wandb-row\"><div class=\"wandb-col\"><h3>Run history:</h3><br/><table class=\"wandb\"><tr><td>final_validation_roc_auc</td><td>▁</td></tr></table><br/></div><div class=\"wandb-col\"><h3>Run summary:</h3><br/><table class=\"wandb\"><tr><td>final_validation_roc_auc</td><td>0.73084</td></tr></table><br/></div></div>"
      ],
      "text/plain": [
       "<IPython.core.display.HTML object>"
      ]
     },
     "metadata": {},
     "output_type": "display_data"
    },
    {
     "data": {
      "text/html": [
       " View run <strong style=\"color:#cdcd00\">apricot-sweep-16</strong> at: <a href='https://wandb.ai/espada105-hanseouniversity/LGaimers/runs/qby2jrme' target=\"_blank\">https://wandb.ai/espada105-hanseouniversity/LGaimers/runs/qby2jrme</a><br> View project at: <a href='https://wandb.ai/espada105-hanseouniversity/LGaimers' target=\"_blank\">https://wandb.ai/espada105-hanseouniversity/LGaimers</a><br>Synced 5 W&B file(s), 1 media file(s), 0 artifact file(s) and 0 other file(s)"
      ],
      "text/plain": [
       "<IPython.core.display.HTML object>"
      ]
     },
     "metadata": {},
     "output_type": "display_data"
    },
    {
     "data": {
      "text/html": [
       "Find logs at: <code>.\\wandb\\run-20250208_130315-qby2jrme\\logs</code>"
      ],
      "text/plain": [
       "<IPython.core.display.HTML object>"
      ]
     },
     "metadata": {},
     "output_type": "display_data"
    },
    {
     "name": "stderr",
     "output_type": "stream",
     "text": [
      "\u001b[34m\u001b[1mwandb\u001b[0m: Agent Starting Run: 6kndthyt with config:\n",
      "\u001b[34m\u001b[1mwandb\u001b[0m: \trandom_state: 42\n",
      "\u001b[34m\u001b[1mwandb\u001b[0m: \ttest_size: 0.2\n",
      "\u001b[34m\u001b[1mwandb\u001b[0m: \txgb_learning_rate: 0.2\n",
      "\u001b[34m\u001b[1mwandb\u001b[0m: \txgb_max_depth: 7\n",
      "\u001b[34m\u001b[1mwandb\u001b[0m: \txgb_n_estimators: 100\n"
     ]
    },
    {
     "data": {
      "text/html": [
       "Ignoring project 'LGaimers' when running a sweep."
      ],
      "text/plain": [
       "<IPython.core.display.HTML object>"
      ]
     },
     "metadata": {},
     "output_type": "display_data"
    },
    {
     "data": {
      "text/html": [
       "Ignoring entity 'espada105-hanseouniversity' when running a sweep."
      ],
      "text/plain": [
       "<IPython.core.display.HTML object>"
      ]
     },
     "metadata": {},
     "output_type": "display_data"
    },
    {
     "data": {
      "text/html": [
       "Tracking run with wandb version 0.19.6"
      ],
      "text/plain": [
       "<IPython.core.display.HTML object>"
      ]
     },
     "metadata": {},
     "output_type": "display_data"
    },
    {
     "data": {
      "text/html": [
       "Run data is saved locally in <code>c:\\GitHubRepo\\AI_Predicting_Pregnancy_Success\\HongSeongIn\\wandb\\run-20250208_130412-6kndthyt</code>"
      ],
      "text/plain": [
       "<IPython.core.display.HTML object>"
      ]
     },
     "metadata": {},
     "output_type": "display_data"
    },
    {
     "data": {
      "text/html": [
       "Syncing run <strong><a href='https://wandb.ai/espada105-hanseouniversity/LGaimers/runs/6kndthyt' target=\"_blank\">bright-sweep-17</a></strong> to <a href='https://wandb.ai/espada105-hanseouniversity/LGaimers' target=\"_blank\">Weights & Biases</a> (<a href='https://wandb.me/developer-guide' target=\"_blank\">docs</a>)<br>Sweep page: <a href='https://wandb.ai/espada105-hanseouniversity/LGaimers/sweeps/5e9b3czx' target=\"_blank\">https://wandb.ai/espada105-hanseouniversity/LGaimers/sweeps/5e9b3czx</a>"
      ],
      "text/plain": [
       "<IPython.core.display.HTML object>"
      ]
     },
     "metadata": {},
     "output_type": "display_data"
    },
    {
     "data": {
      "text/html": [
       " View project at <a href='https://wandb.ai/espada105-hanseouniversity/LGaimers' target=\"_blank\">https://wandb.ai/espada105-hanseouniversity/LGaimers</a>"
      ],
      "text/plain": [
       "<IPython.core.display.HTML object>"
      ]
     },
     "metadata": {},
     "output_type": "display_data"
    },
    {
     "data": {
      "text/html": [
       " View sweep at <a href='https://wandb.ai/espada105-hanseouniversity/LGaimers/sweeps/5e9b3czx' target=\"_blank\">https://wandb.ai/espada105-hanseouniversity/LGaimers/sweeps/5e9b3czx</a>"
      ],
      "text/plain": [
       "<IPython.core.display.HTML object>"
      ]
     },
     "metadata": {},
     "output_type": "display_data"
    },
    {
     "data": {
      "text/html": [
       " View run at <a href='https://wandb.ai/espada105-hanseouniversity/LGaimers/runs/6kndthyt' target=\"_blank\">https://wandb.ai/espada105-hanseouniversity/LGaimers/runs/6kndthyt</a>"
      ],
      "text/plain": [
       "<IPython.core.display.HTML object>"
      ]
     },
     "metadata": {},
     "output_type": "display_data"
    },
    {
     "name": "stderr",
     "output_type": "stream",
     "text": [
      "c:\\Users\\tjddl\\AppData\\Local\\Programs\\Python\\Python310\\lib\\site-packages\\sklearn\\linear_model\\_logistic.py:465: ConvergenceWarning: lbfgs failed to converge (status=1):\n",
      "STOP: TOTAL NO. OF ITERATIONS REACHED LIMIT.\n",
      "\n",
      "Increase the number of iterations (max_iter) or scale the data as shown in:\n",
      "    https://scikit-learn.org/stable/modules/preprocessing.html\n",
      "Please also refer to the documentation for alternative solver options:\n",
      "    https://scikit-learn.org/stable/modules/linear_model.html#logistic-regression\n",
      "  n_iter_i = _check_optimize_result(\n"
     ]
    },
    {
     "name": "stdout",
     "output_type": "stream",
     "text": [
      "Validation ROC AUC: 0.7310\n"
     ]
    },
    {
     "data": {
      "text/html": [],
      "text/plain": [
       "<IPython.core.display.HTML object>"
      ]
     },
     "metadata": {},
     "output_type": "display_data"
    },
    {
     "data": {
      "text/html": [
       "<br>    <style><br>        .wandb-row {<br>            display: flex;<br>            flex-direction: row;<br>            flex-wrap: wrap;<br>            justify-content: flex-start;<br>            width: 100%;<br>        }<br>        .wandb-col {<br>            display: flex;<br>            flex-direction: column;<br>            flex-basis: 100%;<br>            flex: 1;<br>            padding: 10px;<br>        }<br>    </style><br><div class=\"wandb-row\"><div class=\"wandb-col\"><h3>Run history:</h3><br/><table class=\"wandb\"><tr><td>final_validation_roc_auc</td><td>▁</td></tr></table><br/></div><div class=\"wandb-col\"><h3>Run summary:</h3><br/><table class=\"wandb\"><tr><td>final_validation_roc_auc</td><td>0.73098</td></tr></table><br/></div></div>"
      ],
      "text/plain": [
       "<IPython.core.display.HTML object>"
      ]
     },
     "metadata": {},
     "output_type": "display_data"
    },
    {
     "data": {
      "text/html": [
       " View run <strong style=\"color:#cdcd00\">bright-sweep-17</strong> at: <a href='https://wandb.ai/espada105-hanseouniversity/LGaimers/runs/6kndthyt' target=\"_blank\">https://wandb.ai/espada105-hanseouniversity/LGaimers/runs/6kndthyt</a><br> View project at: <a href='https://wandb.ai/espada105-hanseouniversity/LGaimers' target=\"_blank\">https://wandb.ai/espada105-hanseouniversity/LGaimers</a><br>Synced 5 W&B file(s), 1 media file(s), 0 artifact file(s) and 0 other file(s)"
      ],
      "text/plain": [
       "<IPython.core.display.HTML object>"
      ]
     },
     "metadata": {},
     "output_type": "display_data"
    },
    {
     "data": {
      "text/html": [
       "Find logs at: <code>.\\wandb\\run-20250208_130412-6kndthyt\\logs</code>"
      ],
      "text/plain": [
       "<IPython.core.display.HTML object>"
      ]
     },
     "metadata": {},
     "output_type": "display_data"
    },
    {
     "name": "stderr",
     "output_type": "stream",
     "text": [
      "\u001b[34m\u001b[1mwandb\u001b[0m: Agent Starting Run: heueedm9 with config:\n",
      "\u001b[34m\u001b[1mwandb\u001b[0m: \trandom_state: 42\n",
      "\u001b[34m\u001b[1mwandb\u001b[0m: \ttest_size: 0.2\n",
      "\u001b[34m\u001b[1mwandb\u001b[0m: \txgb_learning_rate: 0.2\n",
      "\u001b[34m\u001b[1mwandb\u001b[0m: \txgb_max_depth: 7\n",
      "\u001b[34m\u001b[1mwandb\u001b[0m: \txgb_n_estimators: 200\n"
     ]
    },
    {
     "data": {
      "text/html": [
       "Ignoring project 'LGaimers' when running a sweep."
      ],
      "text/plain": [
       "<IPython.core.display.HTML object>"
      ]
     },
     "metadata": {},
     "output_type": "display_data"
    },
    {
     "data": {
      "text/html": [
       "Ignoring entity 'espada105-hanseouniversity' when running a sweep."
      ],
      "text/plain": [
       "<IPython.core.display.HTML object>"
      ]
     },
     "metadata": {},
     "output_type": "display_data"
    },
    {
     "data": {
      "text/html": [
       "Tracking run with wandb version 0.19.6"
      ],
      "text/plain": [
       "<IPython.core.display.HTML object>"
      ]
     },
     "metadata": {},
     "output_type": "display_data"
    },
    {
     "data": {
      "text/html": [
       "Run data is saved locally in <code>c:\\GitHubRepo\\AI_Predicting_Pregnancy_Success\\HongSeongIn\\wandb\\run-20250208_130505-heueedm9</code>"
      ],
      "text/plain": [
       "<IPython.core.display.HTML object>"
      ]
     },
     "metadata": {},
     "output_type": "display_data"
    },
    {
     "data": {
      "text/html": [
       "Syncing run <strong><a href='https://wandb.ai/espada105-hanseouniversity/LGaimers/runs/heueedm9' target=\"_blank\">ethereal-sweep-18</a></strong> to <a href='https://wandb.ai/espada105-hanseouniversity/LGaimers' target=\"_blank\">Weights & Biases</a> (<a href='https://wandb.me/developer-guide' target=\"_blank\">docs</a>)<br>Sweep page: <a href='https://wandb.ai/espada105-hanseouniversity/LGaimers/sweeps/5e9b3czx' target=\"_blank\">https://wandb.ai/espada105-hanseouniversity/LGaimers/sweeps/5e9b3czx</a>"
      ],
      "text/plain": [
       "<IPython.core.display.HTML object>"
      ]
     },
     "metadata": {},
     "output_type": "display_data"
    },
    {
     "data": {
      "text/html": [
       " View project at <a href='https://wandb.ai/espada105-hanseouniversity/LGaimers' target=\"_blank\">https://wandb.ai/espada105-hanseouniversity/LGaimers</a>"
      ],
      "text/plain": [
       "<IPython.core.display.HTML object>"
      ]
     },
     "metadata": {},
     "output_type": "display_data"
    },
    {
     "data": {
      "text/html": [
       " View sweep at <a href='https://wandb.ai/espada105-hanseouniversity/LGaimers/sweeps/5e9b3czx' target=\"_blank\">https://wandb.ai/espada105-hanseouniversity/LGaimers/sweeps/5e9b3czx</a>"
      ],
      "text/plain": [
       "<IPython.core.display.HTML object>"
      ]
     },
     "metadata": {},
     "output_type": "display_data"
    },
    {
     "data": {
      "text/html": [
       " View run at <a href='https://wandb.ai/espada105-hanseouniversity/LGaimers/runs/heueedm9' target=\"_blank\">https://wandb.ai/espada105-hanseouniversity/LGaimers/runs/heueedm9</a>"
      ],
      "text/plain": [
       "<IPython.core.display.HTML object>"
      ]
     },
     "metadata": {},
     "output_type": "display_data"
    },
    {
     "name": "stderr",
     "output_type": "stream",
     "text": [
      "c:\\Users\\tjddl\\AppData\\Local\\Programs\\Python\\Python310\\lib\\site-packages\\sklearn\\linear_model\\_logistic.py:465: ConvergenceWarning: lbfgs failed to converge (status=1):\n",
      "STOP: TOTAL NO. OF ITERATIONS REACHED LIMIT.\n",
      "\n",
      "Increase the number of iterations (max_iter) or scale the data as shown in:\n",
      "    https://scikit-learn.org/stable/modules/preprocessing.html\n",
      "Please also refer to the documentation for alternative solver options:\n",
      "    https://scikit-learn.org/stable/modules/linear_model.html#logistic-regression\n",
      "  n_iter_i = _check_optimize_result(\n"
     ]
    },
    {
     "name": "stdout",
     "output_type": "stream",
     "text": [
      "Validation ROC AUC: 0.7304\n"
     ]
    },
    {
     "data": {
      "text/html": [],
      "text/plain": [
       "<IPython.core.display.HTML object>"
      ]
     },
     "metadata": {},
     "output_type": "display_data"
    },
    {
     "data": {
      "text/html": [
       "<br>    <style><br>        .wandb-row {<br>            display: flex;<br>            flex-direction: row;<br>            flex-wrap: wrap;<br>            justify-content: flex-start;<br>            width: 100%;<br>        }<br>        .wandb-col {<br>            display: flex;<br>            flex-direction: column;<br>            flex-basis: 100%;<br>            flex: 1;<br>            padding: 10px;<br>        }<br>    </style><br><div class=\"wandb-row\"><div class=\"wandb-col\"><h3>Run history:</h3><br/><table class=\"wandb\"><tr><td>final_validation_roc_auc</td><td>▁</td></tr></table><br/></div><div class=\"wandb-col\"><h3>Run summary:</h3><br/><table class=\"wandb\"><tr><td>final_validation_roc_auc</td><td>0.73035</td></tr></table><br/></div></div>"
      ],
      "text/plain": [
       "<IPython.core.display.HTML object>"
      ]
     },
     "metadata": {},
     "output_type": "display_data"
    },
    {
     "data": {
      "text/html": [
       " View run <strong style=\"color:#cdcd00\">ethereal-sweep-18</strong> at: <a href='https://wandb.ai/espada105-hanseouniversity/LGaimers/runs/heueedm9' target=\"_blank\">https://wandb.ai/espada105-hanseouniversity/LGaimers/runs/heueedm9</a><br> View project at: <a href='https://wandb.ai/espada105-hanseouniversity/LGaimers' target=\"_blank\">https://wandb.ai/espada105-hanseouniversity/LGaimers</a><br>Synced 5 W&B file(s), 1 media file(s), 0 artifact file(s) and 0 other file(s)"
      ],
      "text/plain": [
       "<IPython.core.display.HTML object>"
      ]
     },
     "metadata": {},
     "output_type": "display_data"
    },
    {
     "data": {
      "text/html": [
       "Find logs at: <code>.\\wandb\\run-20250208_130505-heueedm9\\logs</code>"
      ],
      "text/plain": [
       "<IPython.core.display.HTML object>"
      ]
     },
     "metadata": {},
     "output_type": "display_data"
    },
    {
     "name": "stderr",
     "output_type": "stream",
     "text": [
      "\u001b[34m\u001b[1mwandb\u001b[0m: Sweep Agent: Waiting for job.\n",
      "\u001b[34m\u001b[1mwandb\u001b[0m: Sweep Agent: Exiting.\n"
     ]
    }
   ],
   "source": [
    "import pandas as pd\n",
    "import numpy as np\n",
    "import wandb\n",
    "import matplotlib.pyplot as plt\n",
    "\n",
    "from sklearn.model_selection import train_test_split\n",
    "from sklearn.metrics import roc_auc_score, roc_curve\n",
    "from sklearn.ensemble import VotingClassifier\n",
    "from sklearn.linear_model import LogisticRegression\n",
    "from xgboost import XGBClassifier\n",
    "from sklearn.impute import SimpleImputer\n",
    "from category_encoders import TargetEncoder\n",
    "\n",
    "# -----------------------------\n",
    "# 1. wandb 로그인 및 스윕 설정\n",
    "# -----------------------------\n",
    "wandb.login(key=\"8bab4affd59dd33bd76096b069d74f6dc0abb056\")\n",
    "\n",
    "sweep_config = {\n",
    "    'method': 'grid',  # grid search 방식 (또는 'random', 'bayes' 등)\n",
    "    'metric': {\n",
    "        'name': 'final_validation_roc_auc',\n",
    "        'goal': 'maximize'\n",
    "    },\n",
    "    'parameters': {\n",
    "        # XGBoost 관련 하이퍼파라미터\n",
    "        'xgb_n_estimators': {'values': [100, 200]},\n",
    "        'xgb_max_depth': {'values': [3, 5, 7]},\n",
    "        'xgb_learning_rate': {'values': [0.01, 0.1, 0.2]},\n",
    "        # 고정 파라미터\n",
    "        'random_state': {'value': 42},\n",
    "        'test_size': {'value': 0.2}\n",
    "    }\n",
    "}\n",
    "\n",
    "# 스윕 생성: 반환된 sweep_id를 사용하여 에이전트가 작업을 가져가도록 합니다.\n",
    "sweep_id = wandb.sweep(sweep_config, project=\"LGaimers\", entity=\"espada105-hanseouniversity\")\n",
    "print(\"Sweep ID:\", sweep_id)\n",
    "\n",
    "# -----------------------------\n",
    "# 2. run() 함수 정의: 데이터 전처리, 모델 학습 및 평가\n",
    "# -----------------------------\n",
    "def run():\n",
    "    # 각 run마다 wandb 초기화 및 config 로드\n",
    "    wandb.init(project=\"LGaimers\", entity=\"espada105-hanseouniversity\", reinit=True)\n",
    "    config = wandb.config\n",
    "\n",
    "    # --- 데이터 불러오기 및 전처리 ---\n",
    "    train_df = pd.read_csv('train.csv')\n",
    "    train_df = train_df.drop(columns=['ID'])\n",
    "    \n",
    "    # 타깃 및 피처 분리:\n",
    "    # '임신 성공 여부'가 1 이상이면 성공(1), 아니면 실패(0)로 이진 분류 처리\n",
    "    X = train_df.drop('임신 성공 여부', axis=1)\n",
    "    y = train_df['임신 성공 여부'].apply(lambda x: 1 if x >= 1 else 0)\n",
    "    \n",
    "    # 범주형 변수 목록 (실제 데이터에 맞게 수정)\n",
    "    categorical_columns = [\n",
    "        \"시술 시기 코드\", \"시술 당시 나이\", \"시술 유형\", \"특정 시술 유형\", \"배란 자극 여부\",\n",
    "        \"배란 유도 유형\", \"단일 배아 이식 여부\", \"착상 전 유전 검사 사용 여부\", \"착상 전 유전 진단 사용 여부\",\n",
    "        \"남성 주 불임 원인\", \"남성 부 불임 원인\", \"여성 주 불임 원인\", \"여성 부 불임 원인\", \"부부 주 불임 원인\",\n",
    "        \"부부 부 불임 원인\", \"불명확 불임 원인\", \"불임 원인 - 난관 질환\", \"불임 원인 - 남성 요인\",\n",
    "        \"불임 원인 - 배란 장애\", \"불임 원인 - 여성 요인\", \"불임 원인 - 자궁경부 문제\",\n",
    "        \"불임 원인 - 자궁내막증\", \"불임 원인 - 정자 농도\", \"불임 원인 - 정자 면역학적 요인\",\n",
    "        \"불임 원인 - 정자 운동성\", \"불임 원인 - 정자 형태\", \"배아 생성 주요 이유\",\n",
    "        \"총 시술 횟수\", \"클리닉 내 총 시술 횟수\", \"IVF 시술 횟수\", \"DI 시술 횟수\",\n",
    "        \"총 임신 횟수\", \"IVF 임신 횟수\", \"DI 임신 횟수\", \"총 출산 횟수\", \"IVF 출산 횟수\",\n",
    "        \"DI 출산 횟수\", \"난자 출처\", \"정자 출처\",\n",
    "        \"난자 기증자 나이\", \"정자 기증자 나이\", \"동결 배아 사용 여부\", \"신선 배아 사용 여부\",\n",
    "        \"기증 배아 사용 여부\", \"대리모 여부\", \"PGD 시술 여부\", \"PGS 시술 여부\"\n",
    "    ]\n",
    "    numerical_columns = [col for col in X.columns if col not in categorical_columns]\n",
    "    \n",
    "    # TargetEncoder로 범주형 변수 인코딩\n",
    "    encoder = TargetEncoder(cols=categorical_columns)\n",
    "    X_encoded = encoder.fit_transform(X, y)\n",
    "    \n",
    "    # 결측치 처리: SimpleImputer를 사용해 중앙값으로 대체\n",
    "    imputer = SimpleImputer(strategy='median')\n",
    "    X_encoded = pd.DataFrame(imputer.fit_transform(X_encoded), columns=X_encoded.columns)\n",
    "    \n",
    "    # train / validation 분할 (클래스 불균형을 고려하여 stratify 사용)\n",
    "    X_train, X_val, y_train, y_val = train_test_split(\n",
    "        X_encoded, y,\n",
    "        test_size=config.test_size,\n",
    "        random_state=config.random_state,\n",
    "        stratify=y\n",
    "    )\n",
    "    \n",
    "    # --- 모델 정의 ---\n",
    "    # XGBoost 모델: wandb 스윕으로 전달받은 하이퍼파라미터 사용\n",
    "    xgb_model = XGBClassifier(\n",
    "        n_estimators=config.xgb_n_estimators,\n",
    "        max_depth=config.xgb_max_depth,\n",
    "        learning_rate=config.xgb_learning_rate,\n",
    "        random_state=config.random_state,\n",
    "        use_label_encoder=False,  # 최신 버전에서는 불필요한 경고 제거\n",
    "        eval_metric='logloss'\n",
    "    )\n",
    "    \n",
    "    # Logistic Regression: 기본 설정\n",
    "    lr_model = LogisticRegression(\n",
    "        max_iter=1000,\n",
    "        random_state=config.random_state\n",
    "    )\n",
    "    \n",
    "    # 소프트 보팅 앙상블: 두 모델의 확률 예측을 평균하여 최종 예측\n",
    "    ensemble = VotingClassifier(\n",
    "        estimators=[('xgb', xgb_model), ('lr', lr_model)],\n",
    "        voting='soft'\n",
    "    )\n",
    "    \n",
    "    # --- 모델 학습 및 평가 ---\n",
    "    ensemble.fit(X_train, y_train)\n",
    "    y_pred_proba = ensemble.predict_proba(X_val)[:, 1]\n",
    "    roc_auc = roc_auc_score(y_val, y_pred_proba)\n",
    "    print(f\"Validation ROC AUC: {roc_auc:.4f}\")\n",
    "    \n",
    "    # ROC 커브 생성 및 플롯\n",
    "    fpr, tpr, _ = roc_curve(y_val, y_pred_proba)\n",
    "    plt.figure(figsize=(8, 6))\n",
    "    plt.plot(fpr, tpr, label=f'ROC curve (area = {roc_auc:.4f})', color='blue')\n",
    "    plt.plot([0, 1], [0, 1], 'k--', label='Random guess')\n",
    "    plt.xlabel('False Positive Rate')\n",
    "    plt.ylabel('True Positive Rate')\n",
    "    plt.title('Receiver Operating Characteristic')\n",
    "    plt.legend(loc=\"lower right\")\n",
    "    \n",
    "    # wandb에 ROC 커브 이미지 로깅\n",
    "    wandb.log({\n",
    "        \"final_validation_roc_auc\": roc_auc,\n",
    "        \"roc_curve\": wandb.Image(plt)\n",
    "    })\n",
    "    \n",
    "    plt.close()\n",
    "    wandb.finish()\n",
    "\n",
    "# -----------------------------\n",
    "# 3. wandb 에이전트를 이용한 스윕 실행 (예: 총 25회 run)\n",
    "# -----------------------------\n",
    "wandb.agent(sweep_id, function=run, count=25)\n"
   ]
  },
  {
   "cell_type": "markdown",
   "metadata": {},
   "source": [
    "# 4"
   ]
  },
  {
   "cell_type": "code",
   "execution_count": 11,
   "metadata": {},
   "outputs": [
    {
     "name": "stdout",
     "output_type": "stream",
     "text": [
      "Requirement already satisfied: pandas in c:\\users\\tjddl\\appdata\\local\\programs\\python\\python310\\lib\\site-packages (2.2.3)\n",
      "Requirement already satisfied: pytz>=2020.1 in c:\\users\\tjddl\\appdata\\local\\programs\\python\\python310\\lib\\site-packages (from pandas) (2025.1)\n",
      "Requirement already satisfied: tzdata>=2022.7 in c:\\users\\tjddl\\appdata\\local\\programs\\python\\python310\\lib\\site-packages (from pandas) (2025.1)\n",
      "Requirement already satisfied: python-dateutil>=2.8.2 in c:\\users\\tjddl\\appdata\\local\\programs\\python\\python310\\lib\\site-packages (from pandas) (2.9.0.post0)\n",
      "Requirement already satisfied: numpy>=1.22.4 in c:\\users\\tjddl\\appdata\\local\\programs\\python\\python310\\lib\\site-packages (from pandas) (1.26.4)\n",
      "Requirement already satisfied: six>=1.5 in c:\\users\\tjddl\\appdata\\local\\programs\\python\\python310\\lib\\site-packages (from python-dateutil>=2.8.2->pandas) (1.17.0)\n"
     ]
    },
    {
     "name": "stderr",
     "output_type": "stream",
     "text": [
      "WARNING: Ignoring invalid distribution -illow (c:\\users\\tjddl\\appdata\\local\\programs\\python\\python310\\lib\\site-packages)\n",
      "WARNING: Ignoring invalid distribution -illow (c:\\users\\tjddl\\appdata\\local\\programs\\python\\python310\\lib\\site-packages)\n",
      "WARNING: Ignoring invalid distribution -illow (c:\\users\\tjddl\\appdata\\local\\programs\\python\\python310\\lib\\site-packages)\n",
      "WARNING: Ignoring invalid distribution -illow (c:\\users\\tjddl\\appdata\\local\\programs\\python\\python310\\lib\\site-packages)\n",
      "WARNING: Ignoring invalid distribution -illow (c:\\users\\tjddl\\appdata\\local\\programs\\python\\python310\\lib\\site-packages)\n",
      "WARNING: Ignoring invalid distribution -illow (c:\\users\\tjddl\\appdata\\local\\programs\\python\\python310\\lib\\site-packages)\n",
      "WARNING: You are using pip version 21.2.3; however, version 25.0 is available.\n",
      "You should consider upgrading via the 'C:\\Users\\tjddl\\AppData\\Local\\Programs\\Python\\Python310\\python.exe -m pip install --upgrade pip' command.\n"
     ]
    },
    {
     "name": "stdout",
     "output_type": "stream",
     "text": [
      "Requirement already satisfied: numpy in c:\\users\\tjddl\\appdata\\local\\programs\\python\\python310\\lib\\site-packages (1.26.4)\n",
      "Collecting numpy\n",
      "  Using cached numpy-2.2.2-cp310-cp310-win_amd64.whl (12.9 MB)\n",
      "Installing collected packages: numpy\n",
      "  Attempting uninstall: numpy\n",
      "    Found existing installation: numpy 1.26.4\n",
      "    Uninstalling numpy-1.26.4:\n",
      "      Successfully uninstalled numpy-1.26.4\n"
     ]
    },
    {
     "name": "stderr",
     "output_type": "stream",
     "text": [
      "WARNING: Ignoring invalid distribution -illow (c:\\users\\tjddl\\appdata\\local\\programs\\python\\python310\\lib\\site-packages)\n",
      "WARNING: Ignoring invalid distribution -illow (c:\\users\\tjddl\\appdata\\local\\programs\\python\\python310\\lib\\site-packages)\n",
      "WARNING: Ignoring invalid distribution -illow (c:\\users\\tjddl\\appdata\\local\\programs\\python\\python310\\lib\\site-packages)\n",
      "    WARNING: Ignoring invalid distribution -illow (c:\\users\\tjddl\\appdata\\local\\programs\\python\\python310\\lib\\site-packages)\n",
      "ERROR: Could not install packages due to an OSError: [WinError 5] 액세스가 거부되었습니다: 'C:\\\\Users\\\\tjddl\\\\AppData\\\\Local\\\\Programs\\\\Python\\\\Python310\\\\Lib\\\\site-packages\\\\~-mpy.libs\\\\libopenblas64__v0.3.23-293-gc2f4bdbb-gcc_10_3_0-2bde3a66a51006b2b53eb373ff767a3f.dll'\n",
      "Consider using the `--user` option or check the permissions.\n",
      "\n",
      "WARNING: Ignoring invalid distribution -illow (c:\\users\\tjddl\\appdata\\local\\programs\\python\\python310\\lib\\site-packages)\n",
      "WARNING: Ignoring invalid distribution -illow (c:\\users\\tjddl\\appdata\\local\\programs\\python\\python310\\lib\\site-packages)\n",
      "WARNING: Ignoring invalid distribution -illow (c:\\users\\tjddl\\appdata\\local\\programs\\python\\python310\\lib\\site-packages)\n",
      "WARNING: You are using pip version 21.2.3; however, version 25.0 is available.\n",
      "You should consider upgrading via the 'C:\\Users\\tjddl\\AppData\\Local\\Programs\\Python\\Python310\\python.exe -m pip install --upgrade pip' command.\n"
     ]
    },
    {
     "name": "stdout",
     "output_type": "stream",
     "text": [
      "Fitting 5 folds for each of 3 candidates, totalling 15 fits\n"
     ]
    },
    {
     "name": "stderr",
     "output_type": "stream",
     "text": [
      "c:\\Users\\tjddl\\AppData\\Local\\Programs\\Python\\Python310\\lib\\site-packages\\xgboost\\core.py:158: UserWarning: [14:00:36] WARNING: C:\\buildkite-agent\\builds\\buildkite-windows-cpu-autoscaling-group-i-08cbc0333d8d4aae1-1\\xgboost\\xgboost-ci-windows\\src\\common\\error_msg.cc:45: `gpu_id` is deprecated since2.0.0, use `device` instead. E.g. device=cpu/cuda/cuda:0\n",
      "  warnings.warn(smsg, UserWarning)\n",
      "c:\\Users\\tjddl\\AppData\\Local\\Programs\\Python\\Python310\\lib\\site-packages\\xgboost\\core.py:158: UserWarning: [14:00:36] WARNING: C:\\buildkite-agent\\builds\\buildkite-windows-cpu-autoscaling-group-i-08cbc0333d8d4aae1-1\\xgboost\\xgboost-ci-windows\\src\\common\\error_msg.cc:27: The tree method `gpu_hist` is deprecated since 2.0.0. To use GPU training, set the `device` parameter to CUDA instead.\n",
      "\n",
      "    E.g. tree_method = \"hist\", device = \"cuda\"\n",
      "\n",
      "  warnings.warn(smsg, UserWarning)\n",
      "c:\\Users\\tjddl\\AppData\\Local\\Programs\\Python\\Python310\\lib\\site-packages\\xgboost\\core.py:158: UserWarning: [14:00:36] WARNING: C:\\buildkite-agent\\builds\\buildkite-windows-cpu-autoscaling-group-i-08cbc0333d8d4aae1-1\\xgboost\\xgboost-ci-windows\\src\\learner.cc:740: \n",
      "Parameters: { \"predictor\", \"use_label_encoder\" } are not used.\n",
      "\n",
      "  warnings.warn(smsg, UserWarning)\n"
     ]
    },
    {
     "name": "stdout",
     "output_type": "stream",
     "text": [
      "[LightGBM] [Info] Number of positive: 42385, number of negative: 121679\n",
      "[LightGBM] [Info] Auto-choosing row-wise multi-threading, the overhead of testing was 0.100224 seconds.\n",
      "You can set `force_row_wise=true` to remove the overhead.\n",
      "And if memory is not enough, you can set `force_col_wise=true`.\n",
      "[LightGBM] [Info] Total Bins 850\n",
      "[LightGBM] [Info] Number of data points in the train set: 164064, number of used features: 181\n",
      "[LightGBM] [Info] [binary:BoostFromScore]: pavg=0.258344 -> initscore=-1.054592\n",
      "[LightGBM] [Info] Start training from score -1.054592\n"
     ]
    },
    {
     "ename": "KeyboardInterrupt",
     "evalue": "",
     "output_type": "error",
     "traceback": [
      "\u001b[1;31m---------------------------------------------------------------------------\u001b[0m",
      "\u001b[1;31mKeyboardInterrupt\u001b[0m                         Traceback (most recent call last)",
      "Cell \u001b[1;32mIn[11], line 129\u001b[0m\n\u001b[0;32m    125\u001b[0m param_grid \u001b[38;5;241m=\u001b[39m {\n\u001b[0;32m    126\u001b[0m     \u001b[38;5;124m'\u001b[39m\u001b[38;5;124mfinal_estimator__C\u001b[39m\u001b[38;5;124m'\u001b[39m: [\u001b[38;5;241m0.1\u001b[39m, \u001b[38;5;241m1.0\u001b[39m, \u001b[38;5;241m10.0\u001b[39m]\n\u001b[0;32m    127\u001b[0m }\n\u001b[0;32m    128\u001b[0m grid_search \u001b[38;5;241m=\u001b[39m GridSearchCV(stack_clf, param_grid, scoring\u001b[38;5;241m=\u001b[39m\u001b[38;5;124m'\u001b[39m\u001b[38;5;124mroc_auc\u001b[39m\u001b[38;5;124m'\u001b[39m, cv\u001b[38;5;241m=\u001b[39m\u001b[38;5;241m5\u001b[39m, n_jobs\u001b[38;5;241m=\u001b[39m\u001b[38;5;241m1\u001b[39m, verbose\u001b[38;5;241m=\u001b[39m\u001b[38;5;241m1\u001b[39m)\n\u001b[1;32m--> 129\u001b[0m \u001b[43mgrid_search\u001b[49m\u001b[38;5;241;43m.\u001b[39;49m\u001b[43mfit\u001b[49m\u001b[43m(\u001b[49m\u001b[43mX_train\u001b[49m\u001b[43m,\u001b[49m\u001b[43m \u001b[49m\u001b[43my_train\u001b[49m\u001b[43m)\u001b[49m\n\u001b[0;32m    130\u001b[0m \u001b[38;5;28mprint\u001b[39m(\u001b[38;5;124m\"\u001b[39m\u001b[38;5;124mBest parameters: \u001b[39m\u001b[38;5;124m\"\u001b[39m, grid_search\u001b[38;5;241m.\u001b[39mbest_params_)\n\u001b[0;32m    131\u001b[0m \u001b[38;5;28mprint\u001b[39m(\u001b[38;5;124m\"\u001b[39m\u001b[38;5;124mBest CV ROC AUC Score: \u001b[39m\u001b[38;5;124m\"\u001b[39m, grid_search\u001b[38;5;241m.\u001b[39mbest_score_)\n",
      "File \u001b[1;32mc:\\Users\\tjddl\\AppData\\Local\\Programs\\Python\\Python310\\lib\\site-packages\\sklearn\\base.py:1389\u001b[0m, in \u001b[0;36m_fit_context.<locals>.decorator.<locals>.wrapper\u001b[1;34m(estimator, *args, **kwargs)\u001b[0m\n\u001b[0;32m   1382\u001b[0m     estimator\u001b[38;5;241m.\u001b[39m_validate_params()\n\u001b[0;32m   1384\u001b[0m \u001b[38;5;28;01mwith\u001b[39;00m config_context(\n\u001b[0;32m   1385\u001b[0m     skip_parameter_validation\u001b[38;5;241m=\u001b[39m(\n\u001b[0;32m   1386\u001b[0m         prefer_skip_nested_validation \u001b[38;5;129;01mor\u001b[39;00m global_skip_validation\n\u001b[0;32m   1387\u001b[0m     )\n\u001b[0;32m   1388\u001b[0m ):\n\u001b[1;32m-> 1389\u001b[0m     \u001b[38;5;28;01mreturn\u001b[39;00m fit_method(estimator, \u001b[38;5;241m*\u001b[39margs, \u001b[38;5;241m*\u001b[39m\u001b[38;5;241m*\u001b[39mkwargs)\n",
      "File \u001b[1;32mc:\\Users\\tjddl\\AppData\\Local\\Programs\\Python\\Python310\\lib\\site-packages\\sklearn\\model_selection\\_search.py:1024\u001b[0m, in \u001b[0;36mBaseSearchCV.fit\u001b[1;34m(self, X, y, **params)\u001b[0m\n\u001b[0;32m   1018\u001b[0m     results \u001b[38;5;241m=\u001b[39m \u001b[38;5;28mself\u001b[39m\u001b[38;5;241m.\u001b[39m_format_results(\n\u001b[0;32m   1019\u001b[0m         all_candidate_params, n_splits, all_out, all_more_results\n\u001b[0;32m   1020\u001b[0m     )\n\u001b[0;32m   1022\u001b[0m     \u001b[38;5;28;01mreturn\u001b[39;00m results\n\u001b[1;32m-> 1024\u001b[0m \u001b[38;5;28;43mself\u001b[39;49m\u001b[38;5;241;43m.\u001b[39;49m\u001b[43m_run_search\u001b[49m\u001b[43m(\u001b[49m\u001b[43mevaluate_candidates\u001b[49m\u001b[43m)\u001b[49m\n\u001b[0;32m   1026\u001b[0m \u001b[38;5;66;03m# multimetric is determined here because in the case of a callable\u001b[39;00m\n\u001b[0;32m   1027\u001b[0m \u001b[38;5;66;03m# self.scoring the return type is only known after calling\u001b[39;00m\n\u001b[0;32m   1028\u001b[0m first_test_score \u001b[38;5;241m=\u001b[39m all_out[\u001b[38;5;241m0\u001b[39m][\u001b[38;5;124m\"\u001b[39m\u001b[38;5;124mtest_scores\u001b[39m\u001b[38;5;124m\"\u001b[39m]\n",
      "File \u001b[1;32mc:\\Users\\tjddl\\AppData\\Local\\Programs\\Python\\Python310\\lib\\site-packages\\sklearn\\model_selection\\_search.py:1571\u001b[0m, in \u001b[0;36mGridSearchCV._run_search\u001b[1;34m(self, evaluate_candidates)\u001b[0m\n\u001b[0;32m   1569\u001b[0m \u001b[38;5;28;01mdef\u001b[39;00m\u001b[38;5;250m \u001b[39m\u001b[38;5;21m_run_search\u001b[39m(\u001b[38;5;28mself\u001b[39m, evaluate_candidates):\n\u001b[0;32m   1570\u001b[0m \u001b[38;5;250m    \u001b[39m\u001b[38;5;124;03m\"\"\"Search all candidates in param_grid\"\"\"\u001b[39;00m\n\u001b[1;32m-> 1571\u001b[0m     \u001b[43mevaluate_candidates\u001b[49m\u001b[43m(\u001b[49m\u001b[43mParameterGrid\u001b[49m\u001b[43m(\u001b[49m\u001b[38;5;28;43mself\u001b[39;49m\u001b[38;5;241;43m.\u001b[39;49m\u001b[43mparam_grid\u001b[49m\u001b[43m)\u001b[49m\u001b[43m)\u001b[49m\n",
      "File \u001b[1;32mc:\\Users\\tjddl\\AppData\\Local\\Programs\\Python\\Python310\\lib\\site-packages\\sklearn\\model_selection\\_search.py:970\u001b[0m, in \u001b[0;36mBaseSearchCV.fit.<locals>.evaluate_candidates\u001b[1;34m(candidate_params, cv, more_results)\u001b[0m\n\u001b[0;32m    962\u001b[0m \u001b[38;5;28;01mif\u001b[39;00m \u001b[38;5;28mself\u001b[39m\u001b[38;5;241m.\u001b[39mverbose \u001b[38;5;241m>\u001b[39m \u001b[38;5;241m0\u001b[39m:\n\u001b[0;32m    963\u001b[0m     \u001b[38;5;28mprint\u001b[39m(\n\u001b[0;32m    964\u001b[0m         \u001b[38;5;124m\"\u001b[39m\u001b[38;5;124mFitting \u001b[39m\u001b[38;5;132;01m{0}\u001b[39;00m\u001b[38;5;124m folds for each of \u001b[39m\u001b[38;5;132;01m{1}\u001b[39;00m\u001b[38;5;124m candidates,\u001b[39m\u001b[38;5;124m\"\u001b[39m\n\u001b[0;32m    965\u001b[0m         \u001b[38;5;124m\"\u001b[39m\u001b[38;5;124m totalling \u001b[39m\u001b[38;5;132;01m{2}\u001b[39;00m\u001b[38;5;124m fits\u001b[39m\u001b[38;5;124m\"\u001b[39m\u001b[38;5;241m.\u001b[39mformat(\n\u001b[0;32m    966\u001b[0m             n_splits, n_candidates, n_candidates \u001b[38;5;241m*\u001b[39m n_splits\n\u001b[0;32m    967\u001b[0m         )\n\u001b[0;32m    968\u001b[0m     )\n\u001b[1;32m--> 970\u001b[0m out \u001b[38;5;241m=\u001b[39m \u001b[43mparallel\u001b[49m\u001b[43m(\u001b[49m\n\u001b[0;32m    971\u001b[0m \u001b[43m    \u001b[49m\u001b[43mdelayed\u001b[49m\u001b[43m(\u001b[49m\u001b[43m_fit_and_score\u001b[49m\u001b[43m)\u001b[49m\u001b[43m(\u001b[49m\n\u001b[0;32m    972\u001b[0m \u001b[43m        \u001b[49m\u001b[43mclone\u001b[49m\u001b[43m(\u001b[49m\u001b[43mbase_estimator\u001b[49m\u001b[43m)\u001b[49m\u001b[43m,\u001b[49m\n\u001b[0;32m    973\u001b[0m \u001b[43m        \u001b[49m\u001b[43mX\u001b[49m\u001b[43m,\u001b[49m\n\u001b[0;32m    974\u001b[0m \u001b[43m        \u001b[49m\u001b[43my\u001b[49m\u001b[43m,\u001b[49m\n\u001b[0;32m    975\u001b[0m \u001b[43m        \u001b[49m\u001b[43mtrain\u001b[49m\u001b[38;5;241;43m=\u001b[39;49m\u001b[43mtrain\u001b[49m\u001b[43m,\u001b[49m\n\u001b[0;32m    976\u001b[0m \u001b[43m        \u001b[49m\u001b[43mtest\u001b[49m\u001b[38;5;241;43m=\u001b[39;49m\u001b[43mtest\u001b[49m\u001b[43m,\u001b[49m\n\u001b[0;32m    977\u001b[0m \u001b[43m        \u001b[49m\u001b[43mparameters\u001b[49m\u001b[38;5;241;43m=\u001b[39;49m\u001b[43mparameters\u001b[49m\u001b[43m,\u001b[49m\n\u001b[0;32m    978\u001b[0m \u001b[43m        \u001b[49m\u001b[43msplit_progress\u001b[49m\u001b[38;5;241;43m=\u001b[39;49m\u001b[43m(\u001b[49m\u001b[43msplit_idx\u001b[49m\u001b[43m,\u001b[49m\u001b[43m \u001b[49m\u001b[43mn_splits\u001b[49m\u001b[43m)\u001b[49m\u001b[43m,\u001b[49m\n\u001b[0;32m    979\u001b[0m \u001b[43m        \u001b[49m\u001b[43mcandidate_progress\u001b[49m\u001b[38;5;241;43m=\u001b[39;49m\u001b[43m(\u001b[49m\u001b[43mcand_idx\u001b[49m\u001b[43m,\u001b[49m\u001b[43m \u001b[49m\u001b[43mn_candidates\u001b[49m\u001b[43m)\u001b[49m\u001b[43m,\u001b[49m\n\u001b[0;32m    980\u001b[0m \u001b[43m        \u001b[49m\u001b[38;5;241;43m*\u001b[39;49m\u001b[38;5;241;43m*\u001b[39;49m\u001b[43mfit_and_score_kwargs\u001b[49m\u001b[43m,\u001b[49m\n\u001b[0;32m    981\u001b[0m \u001b[43m    \u001b[49m\u001b[43m)\u001b[49m\n\u001b[0;32m    982\u001b[0m \u001b[43m    \u001b[49m\u001b[38;5;28;43;01mfor\u001b[39;49;00m\u001b[43m \u001b[49m\u001b[43m(\u001b[49m\u001b[43mcand_idx\u001b[49m\u001b[43m,\u001b[49m\u001b[43m \u001b[49m\u001b[43mparameters\u001b[49m\u001b[43m)\u001b[49m\u001b[43m,\u001b[49m\u001b[43m \u001b[49m\u001b[43m(\u001b[49m\u001b[43msplit_idx\u001b[49m\u001b[43m,\u001b[49m\u001b[43m \u001b[49m\u001b[43m(\u001b[49m\u001b[43mtrain\u001b[49m\u001b[43m,\u001b[49m\u001b[43m \u001b[49m\u001b[43mtest\u001b[49m\u001b[43m)\u001b[49m\u001b[43m)\u001b[49m\u001b[43m \u001b[49m\u001b[38;5;129;43;01min\u001b[39;49;00m\u001b[43m \u001b[49m\u001b[43mproduct\u001b[49m\u001b[43m(\u001b[49m\n\u001b[0;32m    983\u001b[0m \u001b[43m        \u001b[49m\u001b[38;5;28;43menumerate\u001b[39;49m\u001b[43m(\u001b[49m\u001b[43mcandidate_params\u001b[49m\u001b[43m)\u001b[49m\u001b[43m,\u001b[49m\n\u001b[0;32m    984\u001b[0m \u001b[43m        \u001b[49m\u001b[38;5;28;43menumerate\u001b[39;49m\u001b[43m(\u001b[49m\u001b[43mcv\u001b[49m\u001b[38;5;241;43m.\u001b[39;49m\u001b[43msplit\u001b[49m\u001b[43m(\u001b[49m\u001b[43mX\u001b[49m\u001b[43m,\u001b[49m\u001b[43m \u001b[49m\u001b[43my\u001b[49m\u001b[43m,\u001b[49m\u001b[43m \u001b[49m\u001b[38;5;241;43m*\u001b[39;49m\u001b[38;5;241;43m*\u001b[39;49m\u001b[43mrouted_params\u001b[49m\u001b[38;5;241;43m.\u001b[39;49m\u001b[43msplitter\u001b[49m\u001b[38;5;241;43m.\u001b[39;49m\u001b[43msplit\u001b[49m\u001b[43m)\u001b[49m\u001b[43m)\u001b[49m\u001b[43m,\u001b[49m\n\u001b[0;32m    985\u001b[0m \u001b[43m    \u001b[49m\u001b[43m)\u001b[49m\n\u001b[0;32m    986\u001b[0m \u001b[43m\u001b[49m\u001b[43m)\u001b[49m\n\u001b[0;32m    988\u001b[0m \u001b[38;5;28;01mif\u001b[39;00m \u001b[38;5;28mlen\u001b[39m(out) \u001b[38;5;241m<\u001b[39m \u001b[38;5;241m1\u001b[39m:\n\u001b[0;32m    989\u001b[0m     \u001b[38;5;28;01mraise\u001b[39;00m \u001b[38;5;167;01mValueError\u001b[39;00m(\n\u001b[0;32m    990\u001b[0m         \u001b[38;5;124m\"\u001b[39m\u001b[38;5;124mNo fits were performed. \u001b[39m\u001b[38;5;124m\"\u001b[39m\n\u001b[0;32m    991\u001b[0m         \u001b[38;5;124m\"\u001b[39m\u001b[38;5;124mWas the CV iterator empty? \u001b[39m\u001b[38;5;124m\"\u001b[39m\n\u001b[0;32m    992\u001b[0m         \u001b[38;5;124m\"\u001b[39m\u001b[38;5;124mWere there no candidates?\u001b[39m\u001b[38;5;124m\"\u001b[39m\n\u001b[0;32m    993\u001b[0m     )\n",
      "File \u001b[1;32mc:\\Users\\tjddl\\AppData\\Local\\Programs\\Python\\Python310\\lib\\site-packages\\sklearn\\utils\\parallel.py:77\u001b[0m, in \u001b[0;36mParallel.__call__\u001b[1;34m(self, iterable)\u001b[0m\n\u001b[0;32m     72\u001b[0m config \u001b[38;5;241m=\u001b[39m get_config()\n\u001b[0;32m     73\u001b[0m iterable_with_config \u001b[38;5;241m=\u001b[39m (\n\u001b[0;32m     74\u001b[0m     (_with_config(delayed_func, config), args, kwargs)\n\u001b[0;32m     75\u001b[0m     \u001b[38;5;28;01mfor\u001b[39;00m delayed_func, args, kwargs \u001b[38;5;129;01min\u001b[39;00m iterable\n\u001b[0;32m     76\u001b[0m )\n\u001b[1;32m---> 77\u001b[0m \u001b[38;5;28;01mreturn\u001b[39;00m \u001b[38;5;28;43msuper\u001b[39;49m\u001b[43m(\u001b[49m\u001b[43m)\u001b[49m\u001b[38;5;241;43m.\u001b[39;49m\u001b[38;5;21;43m__call__\u001b[39;49m\u001b[43m(\u001b[49m\u001b[43miterable_with_config\u001b[49m\u001b[43m)\u001b[49m\n",
      "File \u001b[1;32mc:\\Users\\tjddl\\AppData\\Local\\Programs\\Python\\Python310\\lib\\site-packages\\joblib\\parallel.py:1918\u001b[0m, in \u001b[0;36mParallel.__call__\u001b[1;34m(self, iterable)\u001b[0m\n\u001b[0;32m   1916\u001b[0m     output \u001b[38;5;241m=\u001b[39m \u001b[38;5;28mself\u001b[39m\u001b[38;5;241m.\u001b[39m_get_sequential_output(iterable)\n\u001b[0;32m   1917\u001b[0m     \u001b[38;5;28mnext\u001b[39m(output)\n\u001b[1;32m-> 1918\u001b[0m     \u001b[38;5;28;01mreturn\u001b[39;00m output \u001b[38;5;28;01mif\u001b[39;00m \u001b[38;5;28mself\u001b[39m\u001b[38;5;241m.\u001b[39mreturn_generator \u001b[38;5;28;01melse\u001b[39;00m \u001b[38;5;28;43mlist\u001b[39;49m\u001b[43m(\u001b[49m\u001b[43moutput\u001b[49m\u001b[43m)\u001b[49m\n\u001b[0;32m   1920\u001b[0m \u001b[38;5;66;03m# Let's create an ID that uniquely identifies the current call. If the\u001b[39;00m\n\u001b[0;32m   1921\u001b[0m \u001b[38;5;66;03m# call is interrupted early and that the same instance is immediately\u001b[39;00m\n\u001b[0;32m   1922\u001b[0m \u001b[38;5;66;03m# re-used, this id will be used to prevent workers that were\u001b[39;00m\n\u001b[0;32m   1923\u001b[0m \u001b[38;5;66;03m# concurrently finalizing a task from the previous call to run the\u001b[39;00m\n\u001b[0;32m   1924\u001b[0m \u001b[38;5;66;03m# callback.\u001b[39;00m\n\u001b[0;32m   1925\u001b[0m \u001b[38;5;28;01mwith\u001b[39;00m \u001b[38;5;28mself\u001b[39m\u001b[38;5;241m.\u001b[39m_lock:\n",
      "File \u001b[1;32mc:\\Users\\tjddl\\AppData\\Local\\Programs\\Python\\Python310\\lib\\site-packages\\joblib\\parallel.py:1847\u001b[0m, in \u001b[0;36mParallel._get_sequential_output\u001b[1;34m(self, iterable)\u001b[0m\n\u001b[0;32m   1845\u001b[0m \u001b[38;5;28mself\u001b[39m\u001b[38;5;241m.\u001b[39mn_dispatched_batches \u001b[38;5;241m+\u001b[39m\u001b[38;5;241m=\u001b[39m \u001b[38;5;241m1\u001b[39m\n\u001b[0;32m   1846\u001b[0m \u001b[38;5;28mself\u001b[39m\u001b[38;5;241m.\u001b[39mn_dispatched_tasks \u001b[38;5;241m+\u001b[39m\u001b[38;5;241m=\u001b[39m \u001b[38;5;241m1\u001b[39m\n\u001b[1;32m-> 1847\u001b[0m res \u001b[38;5;241m=\u001b[39m func(\u001b[38;5;241m*\u001b[39margs, \u001b[38;5;241m*\u001b[39m\u001b[38;5;241m*\u001b[39mkwargs)\n\u001b[0;32m   1848\u001b[0m \u001b[38;5;28mself\u001b[39m\u001b[38;5;241m.\u001b[39mn_completed_tasks \u001b[38;5;241m+\u001b[39m\u001b[38;5;241m=\u001b[39m \u001b[38;5;241m1\u001b[39m\n\u001b[0;32m   1849\u001b[0m \u001b[38;5;28mself\u001b[39m\u001b[38;5;241m.\u001b[39mprint_progress()\n",
      "File \u001b[1;32mc:\\Users\\tjddl\\AppData\\Local\\Programs\\Python\\Python310\\lib\\site-packages\\sklearn\\utils\\parallel.py:139\u001b[0m, in \u001b[0;36m_FuncWrapper.__call__\u001b[1;34m(self, *args, **kwargs)\u001b[0m\n\u001b[0;32m    137\u001b[0m     config \u001b[38;5;241m=\u001b[39m {}\n\u001b[0;32m    138\u001b[0m \u001b[38;5;28;01mwith\u001b[39;00m config_context(\u001b[38;5;241m*\u001b[39m\u001b[38;5;241m*\u001b[39mconfig):\n\u001b[1;32m--> 139\u001b[0m     \u001b[38;5;28;01mreturn\u001b[39;00m \u001b[38;5;28mself\u001b[39m\u001b[38;5;241m.\u001b[39mfunction(\u001b[38;5;241m*\u001b[39margs, \u001b[38;5;241m*\u001b[39m\u001b[38;5;241m*\u001b[39mkwargs)\n",
      "File \u001b[1;32mc:\\Users\\tjddl\\AppData\\Local\\Programs\\Python\\Python310\\lib\\site-packages\\sklearn\\model_selection\\_validation.py:866\u001b[0m, in \u001b[0;36m_fit_and_score\u001b[1;34m(estimator, X, y, scorer, train, test, verbose, parameters, fit_params, score_params, return_train_score, return_parameters, return_n_test_samples, return_times, return_estimator, split_progress, candidate_progress, error_score)\u001b[0m\n\u001b[0;32m    864\u001b[0m         estimator\u001b[38;5;241m.\u001b[39mfit(X_train, \u001b[38;5;241m*\u001b[39m\u001b[38;5;241m*\u001b[39mfit_params)\n\u001b[0;32m    865\u001b[0m     \u001b[38;5;28;01melse\u001b[39;00m:\n\u001b[1;32m--> 866\u001b[0m         estimator\u001b[38;5;241m.\u001b[39mfit(X_train, y_train, \u001b[38;5;241m*\u001b[39m\u001b[38;5;241m*\u001b[39mfit_params)\n\u001b[0;32m    868\u001b[0m \u001b[38;5;28;01mexcept\u001b[39;00m \u001b[38;5;167;01mException\u001b[39;00m:\n\u001b[0;32m    869\u001b[0m     \u001b[38;5;66;03m# Note fit time as time until error\u001b[39;00m\n\u001b[0;32m    870\u001b[0m     fit_time \u001b[38;5;241m=\u001b[39m time\u001b[38;5;241m.\u001b[39mtime() \u001b[38;5;241m-\u001b[39m start_time\n",
      "File \u001b[1;32mc:\\Users\\tjddl\\AppData\\Local\\Programs\\Python\\Python310\\lib\\site-packages\\sklearn\\utils\\validation.py:63\u001b[0m, in \u001b[0;36m_deprecate_positional_args.<locals>._inner_deprecate_positional_args.<locals>.inner_f\u001b[1;34m(*args, **kwargs)\u001b[0m\n\u001b[0;32m     61\u001b[0m extra_args \u001b[38;5;241m=\u001b[39m \u001b[38;5;28mlen\u001b[39m(args) \u001b[38;5;241m-\u001b[39m \u001b[38;5;28mlen\u001b[39m(all_args)\n\u001b[0;32m     62\u001b[0m \u001b[38;5;28;01mif\u001b[39;00m extra_args \u001b[38;5;241m<\u001b[39m\u001b[38;5;241m=\u001b[39m \u001b[38;5;241m0\u001b[39m:\n\u001b[1;32m---> 63\u001b[0m     \u001b[38;5;28;01mreturn\u001b[39;00m f(\u001b[38;5;241m*\u001b[39margs, \u001b[38;5;241m*\u001b[39m\u001b[38;5;241m*\u001b[39mkwargs)\n\u001b[0;32m     65\u001b[0m \u001b[38;5;66;03m# extra_args > 0\u001b[39;00m\n\u001b[0;32m     66\u001b[0m args_msg \u001b[38;5;241m=\u001b[39m [\n\u001b[0;32m     67\u001b[0m     \u001b[38;5;124m\"\u001b[39m\u001b[38;5;132;01m{}\u001b[39;00m\u001b[38;5;124m=\u001b[39m\u001b[38;5;132;01m{}\u001b[39;00m\u001b[38;5;124m\"\u001b[39m\u001b[38;5;241m.\u001b[39mformat(name, arg)\n\u001b[0;32m     68\u001b[0m     \u001b[38;5;28;01mfor\u001b[39;00m name, arg \u001b[38;5;129;01min\u001b[39;00m \u001b[38;5;28mzip\u001b[39m(kwonly_args[:extra_args], args[\u001b[38;5;241m-\u001b[39mextra_args:])\n\u001b[0;32m     69\u001b[0m ]\n",
      "File \u001b[1;32mc:\\Users\\tjddl\\AppData\\Local\\Programs\\Python\\Python310\\lib\\site-packages\\sklearn\\ensemble\\_stacking.py:717\u001b[0m, in \u001b[0;36mStackingClassifier.fit\u001b[1;34m(self, X, y, sample_weight, **fit_params)\u001b[0m\n\u001b[0;32m    715\u001b[0m \u001b[38;5;28;01mif\u001b[39;00m sample_weight \u001b[38;5;129;01mis\u001b[39;00m \u001b[38;5;129;01mnot\u001b[39;00m \u001b[38;5;28;01mNone\u001b[39;00m:\n\u001b[0;32m    716\u001b[0m     fit_params[\u001b[38;5;124m\"\u001b[39m\u001b[38;5;124msample_weight\u001b[39m\u001b[38;5;124m\"\u001b[39m] \u001b[38;5;241m=\u001b[39m sample_weight\n\u001b[1;32m--> 717\u001b[0m \u001b[38;5;28;01mreturn\u001b[39;00m \u001b[38;5;28msuper\u001b[39m()\u001b[38;5;241m.\u001b[39mfit(X, y_encoded, \u001b[38;5;241m*\u001b[39m\u001b[38;5;241m*\u001b[39mfit_params)\n",
      "File \u001b[1;32mc:\\Users\\tjddl\\AppData\\Local\\Programs\\Python\\Python310\\lib\\site-packages\\sklearn\\base.py:1389\u001b[0m, in \u001b[0;36m_fit_context.<locals>.decorator.<locals>.wrapper\u001b[1;34m(estimator, *args, **kwargs)\u001b[0m\n\u001b[0;32m   1382\u001b[0m     estimator\u001b[38;5;241m.\u001b[39m_validate_params()\n\u001b[0;32m   1384\u001b[0m \u001b[38;5;28;01mwith\u001b[39;00m config_context(\n\u001b[0;32m   1385\u001b[0m     skip_parameter_validation\u001b[38;5;241m=\u001b[39m(\n\u001b[0;32m   1386\u001b[0m         prefer_skip_nested_validation \u001b[38;5;129;01mor\u001b[39;00m global_skip_validation\n\u001b[0;32m   1387\u001b[0m     )\n\u001b[0;32m   1388\u001b[0m ):\n\u001b[1;32m-> 1389\u001b[0m     \u001b[38;5;28;01mreturn\u001b[39;00m fit_method(estimator, \u001b[38;5;241m*\u001b[39margs, \u001b[38;5;241m*\u001b[39m\u001b[38;5;241m*\u001b[39mkwargs)\n",
      "File \u001b[1;32mc:\\Users\\tjddl\\AppData\\Local\\Programs\\Python\\Python310\\lib\\site-packages\\sklearn\\ensemble\\_stacking.py:212\u001b[0m, in \u001b[0;36m_BaseStacking.fit\u001b[1;34m(self, X, y, **fit_params)\u001b[0m\n\u001b[0;32m    207\u001b[0m             \u001b[38;5;28mself\u001b[39m\u001b[38;5;241m.\u001b[39mestimators_\u001b[38;5;241m.\u001b[39mappend(estimator)\n\u001b[0;32m    208\u001b[0m \u001b[38;5;28;01melse\u001b[39;00m:\n\u001b[0;32m    209\u001b[0m     \u001b[38;5;66;03m# Fit the base estimators on the whole training data. Those\u001b[39;00m\n\u001b[0;32m    210\u001b[0m     \u001b[38;5;66;03m# base estimators will be used in transform, predict, and\u001b[39;00m\n\u001b[0;32m    211\u001b[0m     \u001b[38;5;66;03m# predict_proba. They are exposed publicly.\u001b[39;00m\n\u001b[1;32m--> 212\u001b[0m     \u001b[38;5;28mself\u001b[39m\u001b[38;5;241m.\u001b[39mestimators_ \u001b[38;5;241m=\u001b[39m \u001b[43mParallel\u001b[49m\u001b[43m(\u001b[49m\u001b[43mn_jobs\u001b[49m\u001b[38;5;241;43m=\u001b[39;49m\u001b[38;5;28;43mself\u001b[39;49m\u001b[38;5;241;43m.\u001b[39;49m\u001b[43mn_jobs\u001b[49m\u001b[43m)\u001b[49m\u001b[43m(\u001b[49m\n\u001b[0;32m    213\u001b[0m \u001b[43m        \u001b[49m\u001b[43mdelayed\u001b[49m\u001b[43m(\u001b[49m\u001b[43m_fit_single_estimator\u001b[49m\u001b[43m)\u001b[49m\u001b[43m(\u001b[49m\n\u001b[0;32m    214\u001b[0m \u001b[43m            \u001b[49m\u001b[43mclone\u001b[49m\u001b[43m(\u001b[49m\u001b[43mest\u001b[49m\u001b[43m)\u001b[49m\u001b[43m,\u001b[49m\u001b[43m \u001b[49m\u001b[43mX\u001b[49m\u001b[43m,\u001b[49m\u001b[43m \u001b[49m\u001b[43my\u001b[49m\u001b[43m,\u001b[49m\u001b[43m \u001b[49m\u001b[43mrouted_params\u001b[49m\u001b[43m[\u001b[49m\u001b[43mname\u001b[49m\u001b[43m]\u001b[49m\u001b[43m[\u001b[49m\u001b[38;5;124;43m\"\u001b[39;49m\u001b[38;5;124;43mfit\u001b[39;49m\u001b[38;5;124;43m\"\u001b[39;49m\u001b[43m]\u001b[49m\n\u001b[0;32m    215\u001b[0m \u001b[43m        \u001b[49m\u001b[43m)\u001b[49m\n\u001b[0;32m    216\u001b[0m \u001b[43m        \u001b[49m\u001b[38;5;28;43;01mfor\u001b[39;49;00m\u001b[43m \u001b[49m\u001b[43mname\u001b[49m\u001b[43m,\u001b[49m\u001b[43m \u001b[49m\u001b[43mest\u001b[49m\u001b[43m \u001b[49m\u001b[38;5;129;43;01min\u001b[39;49;00m\u001b[43m \u001b[49m\u001b[38;5;28;43mzip\u001b[39;49m\u001b[43m(\u001b[49m\u001b[43mnames\u001b[49m\u001b[43m,\u001b[49m\u001b[43m \u001b[49m\u001b[43mall_estimators\u001b[49m\u001b[43m)\u001b[49m\n\u001b[0;32m    217\u001b[0m \u001b[43m        \u001b[49m\u001b[38;5;28;43;01mif\u001b[39;49;00m\u001b[43m \u001b[49m\u001b[43mest\u001b[49m\u001b[43m \u001b[49m\u001b[38;5;241;43m!=\u001b[39;49m\u001b[43m \u001b[49m\u001b[38;5;124;43m\"\u001b[39;49m\u001b[38;5;124;43mdrop\u001b[39;49m\u001b[38;5;124;43m\"\u001b[39;49m\n\u001b[0;32m    218\u001b[0m \u001b[43m    \u001b[49m\u001b[43m)\u001b[49m\n\u001b[0;32m    220\u001b[0m \u001b[38;5;28mself\u001b[39m\u001b[38;5;241m.\u001b[39mnamed_estimators_ \u001b[38;5;241m=\u001b[39m Bunch()\n\u001b[0;32m    221\u001b[0m est_fitted_idx \u001b[38;5;241m=\u001b[39m \u001b[38;5;241m0\u001b[39m\n",
      "File \u001b[1;32mc:\\Users\\tjddl\\AppData\\Local\\Programs\\Python\\Python310\\lib\\site-packages\\sklearn\\utils\\parallel.py:77\u001b[0m, in \u001b[0;36mParallel.__call__\u001b[1;34m(self, iterable)\u001b[0m\n\u001b[0;32m     72\u001b[0m config \u001b[38;5;241m=\u001b[39m get_config()\n\u001b[0;32m     73\u001b[0m iterable_with_config \u001b[38;5;241m=\u001b[39m (\n\u001b[0;32m     74\u001b[0m     (_with_config(delayed_func, config), args, kwargs)\n\u001b[0;32m     75\u001b[0m     \u001b[38;5;28;01mfor\u001b[39;00m delayed_func, args, kwargs \u001b[38;5;129;01min\u001b[39;00m iterable\n\u001b[0;32m     76\u001b[0m )\n\u001b[1;32m---> 77\u001b[0m \u001b[38;5;28;01mreturn\u001b[39;00m \u001b[38;5;28;43msuper\u001b[39;49m\u001b[43m(\u001b[49m\u001b[43m)\u001b[49m\u001b[38;5;241;43m.\u001b[39;49m\u001b[38;5;21;43m__call__\u001b[39;49m\u001b[43m(\u001b[49m\u001b[43miterable_with_config\u001b[49m\u001b[43m)\u001b[49m\n",
      "File \u001b[1;32mc:\\Users\\tjddl\\AppData\\Local\\Programs\\Python\\Python310\\lib\\site-packages\\joblib\\parallel.py:1918\u001b[0m, in \u001b[0;36mParallel.__call__\u001b[1;34m(self, iterable)\u001b[0m\n\u001b[0;32m   1916\u001b[0m     output \u001b[38;5;241m=\u001b[39m \u001b[38;5;28mself\u001b[39m\u001b[38;5;241m.\u001b[39m_get_sequential_output(iterable)\n\u001b[0;32m   1917\u001b[0m     \u001b[38;5;28mnext\u001b[39m(output)\n\u001b[1;32m-> 1918\u001b[0m     \u001b[38;5;28;01mreturn\u001b[39;00m output \u001b[38;5;28;01mif\u001b[39;00m \u001b[38;5;28mself\u001b[39m\u001b[38;5;241m.\u001b[39mreturn_generator \u001b[38;5;28;01melse\u001b[39;00m \u001b[38;5;28;43mlist\u001b[39;49m\u001b[43m(\u001b[49m\u001b[43moutput\u001b[49m\u001b[43m)\u001b[49m\n\u001b[0;32m   1920\u001b[0m \u001b[38;5;66;03m# Let's create an ID that uniquely identifies the current call. If the\u001b[39;00m\n\u001b[0;32m   1921\u001b[0m \u001b[38;5;66;03m# call is interrupted early and that the same instance is immediately\u001b[39;00m\n\u001b[0;32m   1922\u001b[0m \u001b[38;5;66;03m# re-used, this id will be used to prevent workers that were\u001b[39;00m\n\u001b[0;32m   1923\u001b[0m \u001b[38;5;66;03m# concurrently finalizing a task from the previous call to run the\u001b[39;00m\n\u001b[0;32m   1924\u001b[0m \u001b[38;5;66;03m# callback.\u001b[39;00m\n\u001b[0;32m   1925\u001b[0m \u001b[38;5;28;01mwith\u001b[39;00m \u001b[38;5;28mself\u001b[39m\u001b[38;5;241m.\u001b[39m_lock:\n",
      "File \u001b[1;32mc:\\Users\\tjddl\\AppData\\Local\\Programs\\Python\\Python310\\lib\\site-packages\\joblib\\parallel.py:1847\u001b[0m, in \u001b[0;36mParallel._get_sequential_output\u001b[1;34m(self, iterable)\u001b[0m\n\u001b[0;32m   1845\u001b[0m \u001b[38;5;28mself\u001b[39m\u001b[38;5;241m.\u001b[39mn_dispatched_batches \u001b[38;5;241m+\u001b[39m\u001b[38;5;241m=\u001b[39m \u001b[38;5;241m1\u001b[39m\n\u001b[0;32m   1846\u001b[0m \u001b[38;5;28mself\u001b[39m\u001b[38;5;241m.\u001b[39mn_dispatched_tasks \u001b[38;5;241m+\u001b[39m\u001b[38;5;241m=\u001b[39m \u001b[38;5;241m1\u001b[39m\n\u001b[1;32m-> 1847\u001b[0m res \u001b[38;5;241m=\u001b[39m func(\u001b[38;5;241m*\u001b[39margs, \u001b[38;5;241m*\u001b[39m\u001b[38;5;241m*\u001b[39mkwargs)\n\u001b[0;32m   1848\u001b[0m \u001b[38;5;28mself\u001b[39m\u001b[38;5;241m.\u001b[39mn_completed_tasks \u001b[38;5;241m+\u001b[39m\u001b[38;5;241m=\u001b[39m \u001b[38;5;241m1\u001b[39m\n\u001b[0;32m   1849\u001b[0m \u001b[38;5;28mself\u001b[39m\u001b[38;5;241m.\u001b[39mprint_progress()\n",
      "File \u001b[1;32mc:\\Users\\tjddl\\AppData\\Local\\Programs\\Python\\Python310\\lib\\site-packages\\sklearn\\utils\\parallel.py:139\u001b[0m, in \u001b[0;36m_FuncWrapper.__call__\u001b[1;34m(self, *args, **kwargs)\u001b[0m\n\u001b[0;32m    137\u001b[0m     config \u001b[38;5;241m=\u001b[39m {}\n\u001b[0;32m    138\u001b[0m \u001b[38;5;28;01mwith\u001b[39;00m config_context(\u001b[38;5;241m*\u001b[39m\u001b[38;5;241m*\u001b[39mconfig):\n\u001b[1;32m--> 139\u001b[0m     \u001b[38;5;28;01mreturn\u001b[39;00m \u001b[38;5;28mself\u001b[39m\u001b[38;5;241m.\u001b[39mfunction(\u001b[38;5;241m*\u001b[39margs, \u001b[38;5;241m*\u001b[39m\u001b[38;5;241m*\u001b[39mkwargs)\n",
      "File \u001b[1;32mc:\\Users\\tjddl\\AppData\\Local\\Programs\\Python\\Python310\\lib\\site-packages\\sklearn\\ensemble\\_base.py:39\u001b[0m, in \u001b[0;36m_fit_single_estimator\u001b[1;34m(estimator, X, y, fit_params, message_clsname, message)\u001b[0m\n\u001b[0;32m     37\u001b[0m \u001b[38;5;28;01melse\u001b[39;00m:\n\u001b[0;32m     38\u001b[0m     \u001b[38;5;28;01mwith\u001b[39;00m _print_elapsed_time(message_clsname, message):\n\u001b[1;32m---> 39\u001b[0m         estimator\u001b[38;5;241m.\u001b[39mfit(X, y, \u001b[38;5;241m*\u001b[39m\u001b[38;5;241m*\u001b[39mfit_params)\n\u001b[0;32m     40\u001b[0m \u001b[38;5;28;01mreturn\u001b[39;00m estimator\n",
      "File \u001b[1;32mc:\\Users\\tjddl\\AppData\\Local\\Programs\\Python\\Python310\\lib\\site-packages\\sklearn\\base.py:1389\u001b[0m, in \u001b[0;36m_fit_context.<locals>.decorator.<locals>.wrapper\u001b[1;34m(estimator, *args, **kwargs)\u001b[0m\n\u001b[0;32m   1382\u001b[0m     estimator\u001b[38;5;241m.\u001b[39m_validate_params()\n\u001b[0;32m   1384\u001b[0m \u001b[38;5;28;01mwith\u001b[39;00m config_context(\n\u001b[0;32m   1385\u001b[0m     skip_parameter_validation\u001b[38;5;241m=\u001b[39m(\n\u001b[0;32m   1386\u001b[0m         prefer_skip_nested_validation \u001b[38;5;129;01mor\u001b[39;00m global_skip_validation\n\u001b[0;32m   1387\u001b[0m     )\n\u001b[0;32m   1388\u001b[0m ):\n\u001b[1;32m-> 1389\u001b[0m     \u001b[38;5;28;01mreturn\u001b[39;00m fit_method(estimator, \u001b[38;5;241m*\u001b[39margs, \u001b[38;5;241m*\u001b[39m\u001b[38;5;241m*\u001b[39mkwargs)\n",
      "File \u001b[1;32mc:\\Users\\tjddl\\AppData\\Local\\Programs\\Python\\Python310\\lib\\site-packages\\sklearn\\ensemble\\_forest.py:487\u001b[0m, in \u001b[0;36mBaseForest.fit\u001b[1;34m(self, X, y, sample_weight)\u001b[0m\n\u001b[0;32m    476\u001b[0m trees \u001b[38;5;241m=\u001b[39m [\n\u001b[0;32m    477\u001b[0m     \u001b[38;5;28mself\u001b[39m\u001b[38;5;241m.\u001b[39m_make_estimator(append\u001b[38;5;241m=\u001b[39m\u001b[38;5;28;01mFalse\u001b[39;00m, random_state\u001b[38;5;241m=\u001b[39mrandom_state)\n\u001b[0;32m    478\u001b[0m     \u001b[38;5;28;01mfor\u001b[39;00m i \u001b[38;5;129;01min\u001b[39;00m \u001b[38;5;28mrange\u001b[39m(n_more_estimators)\n\u001b[0;32m    479\u001b[0m ]\n\u001b[0;32m    481\u001b[0m \u001b[38;5;66;03m# Parallel loop: we prefer the threading backend as the Cython code\u001b[39;00m\n\u001b[0;32m    482\u001b[0m \u001b[38;5;66;03m# for fitting the trees is internally releasing the Python GIL\u001b[39;00m\n\u001b[0;32m    483\u001b[0m \u001b[38;5;66;03m# making threading more efficient than multiprocessing in\u001b[39;00m\n\u001b[0;32m    484\u001b[0m \u001b[38;5;66;03m# that case. However, for joblib 0.12+ we respect any\u001b[39;00m\n\u001b[0;32m    485\u001b[0m \u001b[38;5;66;03m# parallel_backend contexts set at a higher level,\u001b[39;00m\n\u001b[0;32m    486\u001b[0m \u001b[38;5;66;03m# since correctness does not rely on using threads.\u001b[39;00m\n\u001b[1;32m--> 487\u001b[0m trees \u001b[38;5;241m=\u001b[39m \u001b[43mParallel\u001b[49m\u001b[43m(\u001b[49m\n\u001b[0;32m    488\u001b[0m \u001b[43m    \u001b[49m\u001b[43mn_jobs\u001b[49m\u001b[38;5;241;43m=\u001b[39;49m\u001b[38;5;28;43mself\u001b[39;49m\u001b[38;5;241;43m.\u001b[39;49m\u001b[43mn_jobs\u001b[49m\u001b[43m,\u001b[49m\n\u001b[0;32m    489\u001b[0m \u001b[43m    \u001b[49m\u001b[43mverbose\u001b[49m\u001b[38;5;241;43m=\u001b[39;49m\u001b[38;5;28;43mself\u001b[39;49m\u001b[38;5;241;43m.\u001b[39;49m\u001b[43mverbose\u001b[49m\u001b[43m,\u001b[49m\n\u001b[0;32m    490\u001b[0m \u001b[43m    \u001b[49m\u001b[43mprefer\u001b[49m\u001b[38;5;241;43m=\u001b[39;49m\u001b[38;5;124;43m\"\u001b[39;49m\u001b[38;5;124;43mthreads\u001b[39;49m\u001b[38;5;124;43m\"\u001b[39;49m\u001b[43m,\u001b[49m\n\u001b[0;32m    491\u001b[0m \u001b[43m\u001b[49m\u001b[43m)\u001b[49m\u001b[43m(\u001b[49m\n\u001b[0;32m    492\u001b[0m \u001b[43m    \u001b[49m\u001b[43mdelayed\u001b[49m\u001b[43m(\u001b[49m\u001b[43m_parallel_build_trees\u001b[49m\u001b[43m)\u001b[49m\u001b[43m(\u001b[49m\n\u001b[0;32m    493\u001b[0m \u001b[43m        \u001b[49m\u001b[43mt\u001b[49m\u001b[43m,\u001b[49m\n\u001b[0;32m    494\u001b[0m \u001b[43m        \u001b[49m\u001b[38;5;28;43mself\u001b[39;49m\u001b[38;5;241;43m.\u001b[39;49m\u001b[43mbootstrap\u001b[49m\u001b[43m,\u001b[49m\n\u001b[0;32m    495\u001b[0m \u001b[43m        \u001b[49m\u001b[43mX\u001b[49m\u001b[43m,\u001b[49m\n\u001b[0;32m    496\u001b[0m \u001b[43m        \u001b[49m\u001b[43my\u001b[49m\u001b[43m,\u001b[49m\n\u001b[0;32m    497\u001b[0m \u001b[43m        \u001b[49m\u001b[43msample_weight\u001b[49m\u001b[43m,\u001b[49m\n\u001b[0;32m    498\u001b[0m \u001b[43m        \u001b[49m\u001b[43mi\u001b[49m\u001b[43m,\u001b[49m\n\u001b[0;32m    499\u001b[0m \u001b[43m        \u001b[49m\u001b[38;5;28;43mlen\u001b[39;49m\u001b[43m(\u001b[49m\u001b[43mtrees\u001b[49m\u001b[43m)\u001b[49m\u001b[43m,\u001b[49m\n\u001b[0;32m    500\u001b[0m \u001b[43m        \u001b[49m\u001b[43mverbose\u001b[49m\u001b[38;5;241;43m=\u001b[39;49m\u001b[38;5;28;43mself\u001b[39;49m\u001b[38;5;241;43m.\u001b[39;49m\u001b[43mverbose\u001b[49m\u001b[43m,\u001b[49m\n\u001b[0;32m    501\u001b[0m \u001b[43m        \u001b[49m\u001b[43mclass_weight\u001b[49m\u001b[38;5;241;43m=\u001b[39;49m\u001b[38;5;28;43mself\u001b[39;49m\u001b[38;5;241;43m.\u001b[39;49m\u001b[43mclass_weight\u001b[49m\u001b[43m,\u001b[49m\n\u001b[0;32m    502\u001b[0m \u001b[43m        \u001b[49m\u001b[43mn_samples_bootstrap\u001b[49m\u001b[38;5;241;43m=\u001b[39;49m\u001b[43mn_samples_bootstrap\u001b[49m\u001b[43m,\u001b[49m\n\u001b[0;32m    503\u001b[0m \u001b[43m        \u001b[49m\u001b[43mmissing_values_in_feature_mask\u001b[49m\u001b[38;5;241;43m=\u001b[39;49m\u001b[43mmissing_values_in_feature_mask\u001b[49m\u001b[43m,\u001b[49m\n\u001b[0;32m    504\u001b[0m \u001b[43m    \u001b[49m\u001b[43m)\u001b[49m\n\u001b[0;32m    505\u001b[0m \u001b[43m    \u001b[49m\u001b[38;5;28;43;01mfor\u001b[39;49;00m\u001b[43m \u001b[49m\u001b[43mi\u001b[49m\u001b[43m,\u001b[49m\u001b[43m \u001b[49m\u001b[43mt\u001b[49m\u001b[43m \u001b[49m\u001b[38;5;129;43;01min\u001b[39;49;00m\u001b[43m \u001b[49m\u001b[38;5;28;43menumerate\u001b[39;49m\u001b[43m(\u001b[49m\u001b[43mtrees\u001b[49m\u001b[43m)\u001b[49m\n\u001b[0;32m    506\u001b[0m \u001b[43m\u001b[49m\u001b[43m)\u001b[49m\n\u001b[0;32m    508\u001b[0m \u001b[38;5;66;03m# Collect newly grown trees\u001b[39;00m\n\u001b[0;32m    509\u001b[0m \u001b[38;5;28mself\u001b[39m\u001b[38;5;241m.\u001b[39mestimators_\u001b[38;5;241m.\u001b[39mextend(trees)\n",
      "File \u001b[1;32mc:\\Users\\tjddl\\AppData\\Local\\Programs\\Python\\Python310\\lib\\site-packages\\sklearn\\utils\\parallel.py:77\u001b[0m, in \u001b[0;36mParallel.__call__\u001b[1;34m(self, iterable)\u001b[0m\n\u001b[0;32m     72\u001b[0m config \u001b[38;5;241m=\u001b[39m get_config()\n\u001b[0;32m     73\u001b[0m iterable_with_config \u001b[38;5;241m=\u001b[39m (\n\u001b[0;32m     74\u001b[0m     (_with_config(delayed_func, config), args, kwargs)\n\u001b[0;32m     75\u001b[0m     \u001b[38;5;28;01mfor\u001b[39;00m delayed_func, args, kwargs \u001b[38;5;129;01min\u001b[39;00m iterable\n\u001b[0;32m     76\u001b[0m )\n\u001b[1;32m---> 77\u001b[0m \u001b[38;5;28;01mreturn\u001b[39;00m \u001b[38;5;28;43msuper\u001b[39;49m\u001b[43m(\u001b[49m\u001b[43m)\u001b[49m\u001b[38;5;241;43m.\u001b[39;49m\u001b[38;5;21;43m__call__\u001b[39;49m\u001b[43m(\u001b[49m\u001b[43miterable_with_config\u001b[49m\u001b[43m)\u001b[49m\n",
      "File \u001b[1;32mc:\\Users\\tjddl\\AppData\\Local\\Programs\\Python\\Python310\\lib\\site-packages\\joblib\\parallel.py:1918\u001b[0m, in \u001b[0;36mParallel.__call__\u001b[1;34m(self, iterable)\u001b[0m\n\u001b[0;32m   1916\u001b[0m     output \u001b[38;5;241m=\u001b[39m \u001b[38;5;28mself\u001b[39m\u001b[38;5;241m.\u001b[39m_get_sequential_output(iterable)\n\u001b[0;32m   1917\u001b[0m     \u001b[38;5;28mnext\u001b[39m(output)\n\u001b[1;32m-> 1918\u001b[0m     \u001b[38;5;28;01mreturn\u001b[39;00m output \u001b[38;5;28;01mif\u001b[39;00m \u001b[38;5;28mself\u001b[39m\u001b[38;5;241m.\u001b[39mreturn_generator \u001b[38;5;28;01melse\u001b[39;00m \u001b[38;5;28;43mlist\u001b[39;49m\u001b[43m(\u001b[49m\u001b[43moutput\u001b[49m\u001b[43m)\u001b[49m\n\u001b[0;32m   1920\u001b[0m \u001b[38;5;66;03m# Let's create an ID that uniquely identifies the current call. If the\u001b[39;00m\n\u001b[0;32m   1921\u001b[0m \u001b[38;5;66;03m# call is interrupted early and that the same instance is immediately\u001b[39;00m\n\u001b[0;32m   1922\u001b[0m \u001b[38;5;66;03m# re-used, this id will be used to prevent workers that were\u001b[39;00m\n\u001b[0;32m   1923\u001b[0m \u001b[38;5;66;03m# concurrently finalizing a task from the previous call to run the\u001b[39;00m\n\u001b[0;32m   1924\u001b[0m \u001b[38;5;66;03m# callback.\u001b[39;00m\n\u001b[0;32m   1925\u001b[0m \u001b[38;5;28;01mwith\u001b[39;00m \u001b[38;5;28mself\u001b[39m\u001b[38;5;241m.\u001b[39m_lock:\n",
      "File \u001b[1;32mc:\\Users\\tjddl\\AppData\\Local\\Programs\\Python\\Python310\\lib\\site-packages\\joblib\\parallel.py:1847\u001b[0m, in \u001b[0;36mParallel._get_sequential_output\u001b[1;34m(self, iterable)\u001b[0m\n\u001b[0;32m   1845\u001b[0m \u001b[38;5;28mself\u001b[39m\u001b[38;5;241m.\u001b[39mn_dispatched_batches \u001b[38;5;241m+\u001b[39m\u001b[38;5;241m=\u001b[39m \u001b[38;5;241m1\u001b[39m\n\u001b[0;32m   1846\u001b[0m \u001b[38;5;28mself\u001b[39m\u001b[38;5;241m.\u001b[39mn_dispatched_tasks \u001b[38;5;241m+\u001b[39m\u001b[38;5;241m=\u001b[39m \u001b[38;5;241m1\u001b[39m\n\u001b[1;32m-> 1847\u001b[0m res \u001b[38;5;241m=\u001b[39m func(\u001b[38;5;241m*\u001b[39margs, \u001b[38;5;241m*\u001b[39m\u001b[38;5;241m*\u001b[39mkwargs)\n\u001b[0;32m   1848\u001b[0m \u001b[38;5;28mself\u001b[39m\u001b[38;5;241m.\u001b[39mn_completed_tasks \u001b[38;5;241m+\u001b[39m\u001b[38;5;241m=\u001b[39m \u001b[38;5;241m1\u001b[39m\n\u001b[0;32m   1849\u001b[0m \u001b[38;5;28mself\u001b[39m\u001b[38;5;241m.\u001b[39mprint_progress()\n",
      "File \u001b[1;32mc:\\Users\\tjddl\\AppData\\Local\\Programs\\Python\\Python310\\lib\\site-packages\\sklearn\\utils\\parallel.py:139\u001b[0m, in \u001b[0;36m_FuncWrapper.__call__\u001b[1;34m(self, *args, **kwargs)\u001b[0m\n\u001b[0;32m    137\u001b[0m     config \u001b[38;5;241m=\u001b[39m {}\n\u001b[0;32m    138\u001b[0m \u001b[38;5;28;01mwith\u001b[39;00m config_context(\u001b[38;5;241m*\u001b[39m\u001b[38;5;241m*\u001b[39mconfig):\n\u001b[1;32m--> 139\u001b[0m     \u001b[38;5;28;01mreturn\u001b[39;00m \u001b[38;5;28mself\u001b[39m\u001b[38;5;241m.\u001b[39mfunction(\u001b[38;5;241m*\u001b[39margs, \u001b[38;5;241m*\u001b[39m\u001b[38;5;241m*\u001b[39mkwargs)\n",
      "File \u001b[1;32mc:\\Users\\tjddl\\AppData\\Local\\Programs\\Python\\Python310\\lib\\site-packages\\sklearn\\ensemble\\_forest.py:197\u001b[0m, in \u001b[0;36m_parallel_build_trees\u001b[1;34m(tree, bootstrap, X, y, sample_weight, tree_idx, n_trees, verbose, class_weight, n_samples_bootstrap, missing_values_in_feature_mask)\u001b[0m\n\u001b[0;32m    189\u001b[0m     tree\u001b[38;5;241m.\u001b[39m_fit(\n\u001b[0;32m    190\u001b[0m         X,\n\u001b[0;32m    191\u001b[0m         y,\n\u001b[1;32m   (...)\u001b[0m\n\u001b[0;32m    194\u001b[0m         missing_values_in_feature_mask\u001b[38;5;241m=\u001b[39mmissing_values_in_feature_mask,\n\u001b[0;32m    195\u001b[0m     )\n\u001b[0;32m    196\u001b[0m \u001b[38;5;28;01melse\u001b[39;00m:\n\u001b[1;32m--> 197\u001b[0m     \u001b[43mtree\u001b[49m\u001b[38;5;241;43m.\u001b[39;49m\u001b[43m_fit\u001b[49m\u001b[43m(\u001b[49m\n\u001b[0;32m    198\u001b[0m \u001b[43m        \u001b[49m\u001b[43mX\u001b[49m\u001b[43m,\u001b[49m\n\u001b[0;32m    199\u001b[0m \u001b[43m        \u001b[49m\u001b[43my\u001b[49m\u001b[43m,\u001b[49m\n\u001b[0;32m    200\u001b[0m \u001b[43m        \u001b[49m\u001b[43msample_weight\u001b[49m\u001b[38;5;241;43m=\u001b[39;49m\u001b[43msample_weight\u001b[49m\u001b[43m,\u001b[49m\n\u001b[0;32m    201\u001b[0m \u001b[43m        \u001b[49m\u001b[43mcheck_input\u001b[49m\u001b[38;5;241;43m=\u001b[39;49m\u001b[38;5;28;43;01mFalse\u001b[39;49;00m\u001b[43m,\u001b[49m\n\u001b[0;32m    202\u001b[0m \u001b[43m        \u001b[49m\u001b[43mmissing_values_in_feature_mask\u001b[49m\u001b[38;5;241;43m=\u001b[39;49m\u001b[43mmissing_values_in_feature_mask\u001b[49m\u001b[43m,\u001b[49m\n\u001b[0;32m    203\u001b[0m \u001b[43m    \u001b[49m\u001b[43m)\u001b[49m\n\u001b[0;32m    205\u001b[0m \u001b[38;5;28;01mreturn\u001b[39;00m tree\n",
      "File \u001b[1;32mc:\\Users\\tjddl\\AppData\\Local\\Programs\\Python\\Python310\\lib\\site-packages\\sklearn\\tree\\_classes.py:472\u001b[0m, in \u001b[0;36mBaseDecisionTree._fit\u001b[1;34m(self, X, y, sample_weight, check_input, missing_values_in_feature_mask)\u001b[0m\n\u001b[0;32m    461\u001b[0m \u001b[38;5;28;01melse\u001b[39;00m:\n\u001b[0;32m    462\u001b[0m     builder \u001b[38;5;241m=\u001b[39m BestFirstTreeBuilder(\n\u001b[0;32m    463\u001b[0m         splitter,\n\u001b[0;32m    464\u001b[0m         min_samples_split,\n\u001b[1;32m   (...)\u001b[0m\n\u001b[0;32m    469\u001b[0m         \u001b[38;5;28mself\u001b[39m\u001b[38;5;241m.\u001b[39mmin_impurity_decrease,\n\u001b[0;32m    470\u001b[0m     )\n\u001b[1;32m--> 472\u001b[0m \u001b[43mbuilder\u001b[49m\u001b[38;5;241;43m.\u001b[39;49m\u001b[43mbuild\u001b[49m\u001b[43m(\u001b[49m\u001b[38;5;28;43mself\u001b[39;49m\u001b[38;5;241;43m.\u001b[39;49m\u001b[43mtree_\u001b[49m\u001b[43m,\u001b[49m\u001b[43m \u001b[49m\u001b[43mX\u001b[49m\u001b[43m,\u001b[49m\u001b[43m \u001b[49m\u001b[43my\u001b[49m\u001b[43m,\u001b[49m\u001b[43m \u001b[49m\u001b[43msample_weight\u001b[49m\u001b[43m,\u001b[49m\u001b[43m \u001b[49m\u001b[43mmissing_values_in_feature_mask\u001b[49m\u001b[43m)\u001b[49m\n\u001b[0;32m    474\u001b[0m \u001b[38;5;28;01mif\u001b[39;00m \u001b[38;5;28mself\u001b[39m\u001b[38;5;241m.\u001b[39mn_outputs_ \u001b[38;5;241m==\u001b[39m \u001b[38;5;241m1\u001b[39m \u001b[38;5;129;01mand\u001b[39;00m is_classifier(\u001b[38;5;28mself\u001b[39m):\n\u001b[0;32m    475\u001b[0m     \u001b[38;5;28mself\u001b[39m\u001b[38;5;241m.\u001b[39mn_classes_ \u001b[38;5;241m=\u001b[39m \u001b[38;5;28mself\u001b[39m\u001b[38;5;241m.\u001b[39mn_classes_[\u001b[38;5;241m0\u001b[39m]\n",
      "\u001b[1;31mKeyboardInterrupt\u001b[0m: "
     ]
    }
   ],
   "source": [
    "!pip install pandas --upgrade\n",
    "!pip install numpy --upgrade\n",
    "\n",
    "import pandas as pd\n",
    "import numpy as np\n",
    "\n",
    "from sklearn.model_selection import train_test_split, GridSearchCV\n",
    "from sklearn.metrics import roc_auc_score\n",
    "from sklearn.linear_model import LogisticRegression\n",
    "from sklearn.ensemble import StackingClassifier, ExtraTreesClassifier\n",
    "from xgboost import XGBClassifier\n",
    "from lightgbm import LGBMClassifier\n",
    "\n",
    "# --- 1. 데이터 로드 ---\n",
    "# train.csv와 test.csv 파일에서 'ID' 컬럼은 제거합니다.\n",
    "train = pd.read_csv('./train.csv').drop(columns=['ID'])\n",
    "test = pd.read_csv('./test.csv').drop(columns=['ID'])\n",
    "\n",
    "# --- 2. \"시술 당시 나이\" 전처리 및 missing indicator 생성 ---\n",
    "# missing indicator: \"알 수 없음\"이면 1, 아니면 0\n",
    "train['시술 당시 나이_missing'] = train['시술 당시 나이'].apply(lambda x: 1 if x == '알 수 없음' else 0)\n",
    "test['시술 당시 나이_missing'] = test['시술 당시 나이'].apply(lambda x: 1 if x == '알 수 없음' else 0)\n",
    "\n",
    "# 나이 매핑: 높은 값이 나이가 많음을 의미 → 임신 성공 확률은 낮아짐.\n",
    "age_mapping = {\n",
    "    '만18-34세': 0,\n",
    "    '만35-37세': 1,\n",
    "    '만38-39세': 2,\n",
    "    '만40-42세': 3,\n",
    "    '만43-44세': 4,\n",
    "    '만45-50세': 5,\n",
    "    '알 수 없음': np.nan\n",
    "}\n",
    "train['시술 당시 나이'] = train['시술 당시 나이'].map(age_mapping)\n",
    "test['시술 당시 나이'] = test['시술 당시 나이'].map(age_mapping)\n",
    "\n",
    "# --- 3. 타겟 및 Feature 분리 ---\n",
    "X = train.drop('임신 성공 여부', axis=1)\n",
    "y = train['임신 성공 여부']\n",
    "\n",
    "# --- 4. 컬럼 목록 구성 ---\n",
    "# \"시술 당시 나이\"와 \"시술 당시 나이_missing\"은 수치형으로 처리됩니다.\n",
    "categorical_columns = [\n",
    "    \"시술 시기 코드\", \"시술 유형\", \"특정 시술 유형\", \"배란 자극 여부\", \"배란 유도 유형\",\n",
    "    \"단일 배아 이식 여부\", \"착상 전 유전 검사 사용 여부\", \"착상 전 유전 진단 사용 여부\",\n",
    "    \"남성 주 불임 원인\", \"남성 부 불임 원인\", \"여성 주 불임 원인\", \"여성 부 불임 원인\",\n",
    "    \"부부 주 불임 원인\", \"부부 부 불임 원인\", \"불명확 불임 원인\", \"불임 원인 - 난관 질환\",\n",
    "    \"불임 원인 - 남성 요인\", \"불임 원인 - 배란 장애\", \"불임 원인 - 여성 요인\",\n",
    "    \"불임 원인 - 자궁경부 문제\", \"불임 원인 - 자궁내막증\", \"불임 원인 - 정자 농도\",\n",
    "    \"불임 원인 - 정자 면역학적 요인\", \"불임 원인 - 정자 운동성\", \"불임 원인 - 정자 형태\",\n",
    "    \"배아 생성 주요 이유\", \"총 시술 횟수\", \"클리닉 내 총 시술 횟수\", \"IVF 시술 횟수\",\n",
    "    \"DI 시술 횟수\", \"총 임신 횟수\", \"IVF 임신 횟수\", \"DI 임신 횟수\",\n",
    "    \"총 출산 횟수\", \"IVF 출산 횟수\", \"DI 출산 횟수\", \"난자 출처\", \"정자 출처\",\n",
    "    \"난자 기증자 나이\", \"정자 기증자 나이\", \"동결 배아 사용 여부\", \"신선 배아 사용 여부\",\n",
    "    \"기증 배아 사용 여부\", \"대리모 여부\", \"PGD 시술 여부\", \"PGS 시술 여부\"\n",
    "]\n",
    "\n",
    "numeric_columns = [\n",
    "    \"시술 당시 나이\", \"시술 당시 나이_missing\",\n",
    "    \"임신 시도 또는 마지막 임신 경과 연수\",\n",
    "    \"총 생성 배아 수\", \"미세주입된 난자 수\", \"미세주입에서 생성된 배아 수\",\n",
    "    \"이식된 배아 수\", \"미세주입 배아 이식 수\", \"저장된 배아 수\", \"미세주입 후 저장된 배아 수\",\n",
    "    \"해동된 배아 수\", \"해동 난자 수\", \"수집된 신선 난자 수\", \"저장된 신선 난자 수\",\n",
    "    \"혼합된 난자 수\", \"파트너 정자와 혼합된 난자 수\", \"기증자 정자와 혼합된 난자 수\",\n",
    "    \"난자 채취 경과일\", \"난자 해동 경과일\", \"난자 혼합 경과일\",\n",
    "    \"배아 이식 경과일\", \"배아 해동 경과일\"\n",
    "]\n",
    "\n",
    "# --- 5. 결측치 처리 및 인코딩 ---\n",
    "# 수치형 변수: 결측치는 0으로 채웁니다.\n",
    "X[numeric_columns] = X[numeric_columns].fillna(0)\n",
    "test[numeric_columns] = test[numeric_columns].fillna(0)\n",
    "\n",
    "# 범주형 변수: pd.get_dummies를 사용 (dummy_na=True)\n",
    "X_encoded = pd.get_dummies(X, columns=categorical_columns, dummy_na=True)\n",
    "X_test_encoded = pd.get_dummies(test, columns=categorical_columns, dummy_na=True)\n",
    "\n",
    "# 학습 데이터와 테스트 데이터의 컬럼을 align (누락된 dummy 컬럼은 0으로 채움)\n",
    "X_encoded, X_test_encoded = X_encoded.align(X_test_encoded, join='outer', axis=1, fill_value=0)\n",
    "\n",
    "# 중복 컬럼 제거 (만약 발생했다면)\n",
    "X_encoded = X_encoded.loc[:, ~X_encoded.columns.duplicated()]\n",
    "X_test_encoded = X_test_encoded.loc[:, ~X_test_encoded.columns.duplicated()]\n",
    "\n",
    "# **중요**: 모든 feature 이름을 안전하게 (f0, f1, f2, ...) 재설정하여 특수문자 문제를 완전히 회피합니다.\n",
    "X_encoded.columns = [\"f\" + str(i) for i in range(X_encoded.shape[1])]\n",
    "X_test_encoded.columns = [\"f\" + str(i) for i in range(X_test_encoded.shape[1])]\n",
    "\n",
    "# --- 6. 학습/검증 데이터 분할 (교차 검증용) ---\n",
    "X_train, X_val, y_train, y_val = train_test_split(\n",
    "    X_encoded, y, test_size=0.2, random_state=42, stratify=y\n",
    ")\n",
    "\n",
    "# --- 7. Stacking 앙상블 모델 구성 ---\n",
    "from sklearn.ensemble import StackingClassifier\n",
    "from sklearn.linear_model import LogisticRegression\n",
    "\n",
    "# GPU 사용: XGBoost와 LGBM에 GPU 옵션 설정 (ExtraTreesClassifier는 CPU 사용)\n",
    "estimators = [\n",
    "    ('xgb', XGBClassifier(\n",
    "                objective='binary:logistic',\n",
    "                eval_metric='auc',\n",
    "                random_state=42,\n",
    "                use_label_encoder=False,\n",
    "                tree_method='gpu_hist',   # GPU 사용\n",
    "                predictor='gpu_predictor',\n",
    "                gpu_id=0,\n",
    "                n_jobs=1)),\n",
    "    ('lgbm', LGBMClassifier(\n",
    "                random_state=42,\n",
    "                # GPU 파라미터를 제거하여 CPU 모드로 동작 (OpenCL 문제가 발생하므로)\n",
    "                n_jobs=1)),\n",
    "    ('etc', ExtraTreesClassifier(\n",
    "                random_state=42,\n",
    "                n_jobs=1))\n",
    "]\n",
    "stack_clf = StackingClassifier(\n",
    "    estimators=estimators,\n",
    "    final_estimator=LogisticRegression(max_iter=1000),\n",
    "    cv=5,\n",
    "    n_jobs=1  # n_jobs=1로 설정하여 병렬 처리 관련 피클링 문제 회피\n",
    ")\n",
    "\n",
    "# --- 8. GridSearchCV를 통한 최종 메타 모델 튜닝 (LogisticRegression의 C값 튜닝) ---\n",
    "param_grid = {\n",
    "    'final_estimator__C': [0.1, 1.0, 10.0]\n",
    "}\n",
    "grid_search = GridSearchCV(stack_clf, param_grid, scoring='roc_auc', cv=5, n_jobs=1, verbose=1)\n",
    "grid_search.fit(X_train, y_train)\n",
    "print(\"Best parameters: \", grid_search.best_params_)\n",
    "print(\"Best CV ROC AUC Score: \", grid_search.best_score_)\n",
    "\n",
    "# --- 9. 검증 세트 평가 ---\n",
    "val_pred_proba = grid_search.predict_proba(X_val)[:, 1]\n",
    "val_roc_auc = roc_auc_score(y_val, val_pred_proba)\n",
    "print(\"Validation ROC AUC Score: {:.4f}\".format(val_roc_auc))\n",
    "\n",
    "# --- 10. 최종 모델 재학습 (전체 학습 데이터 이용) ---\n",
    "best_params = grid_search.best_params_\n",
    "final_model = StackingClassifier(\n",
    "    estimators=estimators,\n",
    "    final_estimator=LogisticRegression(max_iter=1000, C=best_params['final_estimator__C']),\n",
    "    cv=5,\n",
    "    n_jobs=1\n",
    ")\n",
    "final_model.fit(X_encoded, y)\n",
    "\n",
    "# --- 11. 테스트 데이터 예측 및 제출 파일 생성 ---\n",
    "pred_proba = final_model.predict_proba(X_test_encoded)[:, 1]\n",
    "submission = pd.DataFrame({\n",
    "    'ID': [\"TEST_\" + str(i).zfill(5) for i in range(len(test))]\n",
    "})\n",
    "submission['probability'] = pred_proba\n",
    "submission.to_csv('./improved_submit.csv', index=False)\n",
    "print(\"Submission 파일 'improved_submit.csv'가 생성되었습니다.\")\n",
    "\n",
    "# --- 12. Test 데이터에는 실제 타겟(임신 성공 여부)이 없으므로 ROC AUC 점수는 계산하지 않습니다.\n",
    "print(\"Test 데이터에는 실제 '임신 성공 여부'가 없으므로, ROC AUC 점수를 계산할 수 없습니다.\")\n",
    "\n"
   ]
  },
  {
   "cell_type": "code",
   "execution_count": null,
   "metadata": {},
   "outputs": [],
   "source": []
  }
 ],
 "metadata": {
  "kernelspec": {
   "display_name": "Python 3",
   "language": "python",
   "name": "python3"
  },
  "language_info": {
   "codemirror_mode": {
    "name": "ipython",
    "version": 3
   },
   "file_extension": ".py",
   "mimetype": "text/x-python",
   "name": "python",
   "nbconvert_exporter": "python",
   "pygments_lexer": "ipython3",
   "version": "3.10.0"
  }
 },
 "nbformat": 4,
 "nbformat_minor": 2
}
