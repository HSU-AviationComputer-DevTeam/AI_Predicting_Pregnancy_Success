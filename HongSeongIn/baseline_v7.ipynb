{
 "cells": [
  {
   "cell_type": "code",
   "execution_count": 1,
   "metadata": {
    "colab": {
     "base_uri": "https://localhost:8080/"
    },
    "executionInfo": {
     "elapsed": 18970,
     "status": "ok",
     "timestamp": 1739878789871,
     "user": {
      "displayName": "김재원",
      "userId": "17117179462261737652"
     },
     "user_tz": -540
    },
    "id": "EWhaPBcfqbkW",
    "outputId": "45a0eed7-70ef-4ea8-989b-ad522f2f8cf2"
   },
   "outputs": [
    {
     "name": "stdout",
     "output_type": "stream",
     "text": [
      "Mounted at /content/drive\n"
     ]
    }
   ],
   "source": [
    "from google.colab import drive\n",
    "drive.mount('/content/drive')"
   ]
  },
  {
   "cell_type": "code",
   "execution_count": 2,
   "metadata": {
    "colab": {
     "base_uri": "https://localhost:8080/"
    },
    "executionInfo": {
     "elapsed": 19642,
     "status": "ok",
     "timestamp": 1739878823760,
     "user": {
      "displayName": "김재원",
      "userId": "17117179462261737652"
     },
     "user_tz": -540
    },
    "id": "T8QJ9BsRpboK",
    "outputId": "b9cf9edf-12a1-4bcd-a7b6-59898843e1df"
   },
   "outputs": [
    {
     "name": "stdout",
     "output_type": "stream",
     "text": [
      "Requirement already satisfied: numpy==1.26.4 in /usr/local/lib/python3.11/dist-packages (1.26.4)\n",
      "Requirement already satisfied: pandas==2.2.2 in /usr/local/lib/python3.11/dist-packages (2.2.2)\n",
      "Collecting scikit-learn==1.3.2\n",
      "  Downloading scikit_learn-1.3.2-cp311-cp311-manylinux_2_17_x86_64.manylinux2014_x86_64.whl.metadata (11 kB)\n",
      "Collecting catboost==1.2.7\n",
      "  Downloading catboost-1.2.7-cp311-cp311-manylinux2014_x86_64.whl.metadata (1.2 kB)\n",
      "Requirement already satisfied: xgboost==2.1.4 in /usr/local/lib/python3.11/dist-packages (2.1.4)\n",
      "Requirement already satisfied: lightgbm in /usr/local/lib/python3.11/dist-packages (4.5.0)\n",
      "Requirement already satisfied: imbalanced-learn in /usr/local/lib/python3.11/dist-packages (0.13.0)\n",
      "Requirement already satisfied: python-dateutil>=2.8.2 in /usr/local/lib/python3.11/dist-packages (from pandas==2.2.2) (2.8.2)\n",
      "Requirement already satisfied: pytz>=2020.1 in /usr/local/lib/python3.11/dist-packages (from pandas==2.2.2) (2025.1)\n",
      "Requirement already satisfied: tzdata>=2022.7 in /usr/local/lib/python3.11/dist-packages (from pandas==2.2.2) (2025.1)\n",
      "Requirement already satisfied: scipy>=1.5.0 in /usr/local/lib/python3.11/dist-packages (from scikit-learn==1.3.2) (1.13.1)\n",
      "Requirement already satisfied: joblib>=1.1.1 in /usr/local/lib/python3.11/dist-packages (from scikit-learn==1.3.2) (1.4.2)\n",
      "Requirement already satisfied: threadpoolctl>=2.0.0 in /usr/local/lib/python3.11/dist-packages (from scikit-learn==1.3.2) (3.5.0)\n",
      "Requirement already satisfied: graphviz in /usr/local/lib/python3.11/dist-packages (from catboost==1.2.7) (0.20.3)\n",
      "Requirement already satisfied: matplotlib in /usr/local/lib/python3.11/dist-packages (from catboost==1.2.7) (3.10.0)\n",
      "Requirement already satisfied: plotly in /usr/local/lib/python3.11/dist-packages (from catboost==1.2.7) (5.24.1)\n",
      "Requirement already satisfied: six in /usr/local/lib/python3.11/dist-packages (from catboost==1.2.7) (1.17.0)\n",
      "Requirement already satisfied: nvidia-nccl-cu12 in /usr/local/lib/python3.11/dist-packages (from xgboost==2.1.4) (2.21.5)\n",
      "Requirement already satisfied: sklearn-compat<1,>=0.1 in /usr/local/lib/python3.11/dist-packages (from imbalanced-learn) (0.1.3)\n",
      "Requirement already satisfied: contourpy>=1.0.1 in /usr/local/lib/python3.11/dist-packages (from matplotlib->catboost==1.2.7) (1.3.1)\n",
      "Requirement already satisfied: cycler>=0.10 in /usr/local/lib/python3.11/dist-packages (from matplotlib->catboost==1.2.7) (0.12.1)\n",
      "Requirement already satisfied: fonttools>=4.22.0 in /usr/local/lib/python3.11/dist-packages (from matplotlib->catboost==1.2.7) (4.56.0)\n",
      "Requirement already satisfied: kiwisolver>=1.3.1 in /usr/local/lib/python3.11/dist-packages (from matplotlib->catboost==1.2.7) (1.4.8)\n",
      "Requirement already satisfied: packaging>=20.0 in /usr/local/lib/python3.11/dist-packages (from matplotlib->catboost==1.2.7) (24.2)\n",
      "Requirement already satisfied: pillow>=8 in /usr/local/lib/python3.11/dist-packages (from matplotlib->catboost==1.2.7) (11.1.0)\n",
      "Requirement already satisfied: pyparsing>=2.3.1 in /usr/local/lib/python3.11/dist-packages (from matplotlib->catboost==1.2.7) (3.2.1)\n",
      "Requirement already satisfied: tenacity>=6.2.0 in /usr/local/lib/python3.11/dist-packages (from plotly->catboost==1.2.7) (9.0.0)\n",
      "Downloading scikit_learn-1.3.2-cp311-cp311-manylinux_2_17_x86_64.manylinux2014_x86_64.whl (10.9 MB)\n",
      "\u001b[2K   \u001b[90m━━━━━━━━━━━━━━━━━━━━━━━━━━━━━━━━━━━━━━━━\u001b[0m \u001b[32m10.9/10.9 MB\u001b[0m \u001b[31m63.0 MB/s\u001b[0m eta \u001b[36m0:00:00\u001b[0m\n",
      "\u001b[?25hDownloading catboost-1.2.7-cp311-cp311-manylinux2014_x86_64.whl (98.7 MB)\n",
      "\u001b[2K   \u001b[90m━━━━━━━━━━━━━━━━━━━━━━━━━━━━━━━━━━━━━━━━\u001b[0m \u001b[32m98.7/98.7 MB\u001b[0m \u001b[31m7.6 MB/s\u001b[0m eta \u001b[36m0:00:00\u001b[0m\n",
      "\u001b[?25hInstalling collected packages: scikit-learn, catboost\n",
      "  Attempting uninstall: scikit-learn\n",
      "    Found existing installation: scikit-learn 1.6.1\n",
      "    Uninstalling scikit-learn-1.6.1:\n",
      "      Successfully uninstalled scikit-learn-1.6.1\n",
      "Successfully installed catboost-1.2.7 scikit-learn-1.3.2\n"
     ]
    }
   ],
   "source": [
    "!pip install numpy==1.26.4 pandas==2.2.2 scikit-learn==1.3.2 catboost==1.2.7 xgboost==2.1.4 lightgbm imbalanced-learn"
   ]
  },
  {
   "cell_type": "code",
   "execution_count": 3,
   "metadata": {
    "colab": {
     "base_uri": "https://localhost:8080/",
     "height": 1000
    },
    "executionInfo": {
     "elapsed": 5606711,
     "status": "ok",
     "timestamp": 1739884662106,
     "user": {
      "displayName": "김재원",
      "userId": "17117179462261737652"
     },
     "user_tz": -540
    },
    "id": "ee7BP5FHoppj",
    "outputId": "d84f2ef2-44d6-4fee-d83f-555cf86257fa"
   },
   "outputs": [
    {
     "name": "stdout",
     "output_type": "stream",
     "text": [
      "Fitting 3 folds for each of 30 candidates, totalling 90 fits\n"
     ]
    },
    {
     "name": "stderr",
     "output_type": "stream",
     "text": [
      "c:\\Users\\tjddl\\AppData\\Local\\Programs\\Python\\Python310\\lib\\site-packages\\xgboost\\core.py:158: UserWarning: [01:46:46] WARNING: C:\\buildkite-agent\\builds\\buildkite-windows-cpu-autoscaling-group-i-08cbc0333d8d4aae1-1\\xgboost\\xgboost-ci-windows\\src\\common\\error_msg.cc:27: The tree method `gpu_hist` is deprecated since 2.0.0. To use GPU training, set the `device` parameter to CUDA instead.\n",
      "\n",
      "    E.g. tree_method = \"hist\", device = \"cuda\"\n",
      "\n",
      "  warnings.warn(smsg, UserWarning)\n",
      "c:\\Users\\tjddl\\AppData\\Local\\Programs\\Python\\Python310\\lib\\site-packages\\xgboost\\core.py:158: UserWarning: [01:46:46] WARNING: C:\\buildkite-agent\\builds\\buildkite-windows-cpu-autoscaling-group-i-08cbc0333d8d4aae1-1\\xgboost\\xgboost-ci-windows\\src\\common\\error_msg.cc:58: Falling back to prediction using DMatrix due to mismatched devices. This might lead to higher memory usage and slower performance. XGBoost is running on: cuda:0, while the input data is on: cpu.\n",
      "Potential solutions:\n",
      "- Use a data structure that matches the device ordinal in the booster.\n",
      "- Set the device for booster before call to inplace_predict.\n",
      "\n",
      "This warning will only be shown once.\n",
      "\n",
      "  warnings.warn(smsg, UserWarning)\n"
     ]
    },
    {
     "name": "stdout",
     "output_type": "stream",
     "text": [
      "[CV] END cat__depth=4, cat__iterations=300, cat__learning_rate=0.05, final_estimator__lr__C=0.1, lgbm__learning_rate=0.025, lgbm__min_child_samples=50, lgbm__n_estimators=400, lgbm__num_leaves=63, xgb__learning_rate=0.025, xgb__max_depth=4, xgb__n_estimators=300; total time=  57.1s\n"
     ]
    },
    {
     "name": "stderr",
     "output_type": "stream",
     "text": [
      "c:\\Users\\tjddl\\AppData\\Local\\Programs\\Python\\Python310\\lib\\site-packages\\xgboost\\core.py:158: UserWarning: [01:47:39] WARNING: C:\\buildkite-agent\\builds\\buildkite-windows-cpu-autoscaling-group-i-08cbc0333d8d4aae1-1\\xgboost\\xgboost-ci-windows\\src\\common\\error_msg.cc:27: The tree method `gpu_hist` is deprecated since 2.0.0. To use GPU training, set the `device` parameter to CUDA instead.\n",
      "\n",
      "    E.g. tree_method = \"hist\", device = \"cuda\"\n",
      "\n",
      "  warnings.warn(smsg, UserWarning)\n"
     ]
    },
    {
     "name": "stdout",
     "output_type": "stream",
     "text": [
      "[CV] END cat__depth=4, cat__iterations=300, cat__learning_rate=0.05, final_estimator__lr__C=0.1, lgbm__learning_rate=0.025, lgbm__min_child_samples=50, lgbm__n_estimators=400, lgbm__num_leaves=63, xgb__learning_rate=0.025, xgb__max_depth=4, xgb__n_estimators=300; total time=  52.7s\n"
     ]
    },
    {
     "name": "stderr",
     "output_type": "stream",
     "text": [
      "c:\\Users\\tjddl\\AppData\\Local\\Programs\\Python\\Python310\\lib\\site-packages\\xgboost\\core.py:158: UserWarning: [01:48:43] WARNING: C:\\buildkite-agent\\builds\\buildkite-windows-cpu-autoscaling-group-i-08cbc0333d8d4aae1-1\\xgboost\\xgboost-ci-windows\\src\\common\\error_msg.cc:27: The tree method `gpu_hist` is deprecated since 2.0.0. To use GPU training, set the `device` parameter to CUDA instead.\n",
      "\n",
      "    E.g. tree_method = \"hist\", device = \"cuda\"\n",
      "\n",
      "  warnings.warn(smsg, UserWarning)\n"
     ]
    },
    {
     "name": "stdout",
     "output_type": "stream",
     "text": [
      "[CV] END cat__depth=4, cat__iterations=300, cat__learning_rate=0.05, final_estimator__lr__C=0.1, lgbm__learning_rate=0.025, lgbm__min_child_samples=50, lgbm__n_estimators=400, lgbm__num_leaves=63, xgb__learning_rate=0.025, xgb__max_depth=4, xgb__n_estimators=300; total time= 1.1min\n"
     ]
    },
    {
     "name": "stderr",
     "output_type": "stream",
     "text": [
      "c:\\Users\\tjddl\\AppData\\Local\\Programs\\Python\\Python310\\lib\\site-packages\\xgboost\\core.py:158: UserWarning: [01:49:07] WARNING: C:\\buildkite-agent\\builds\\buildkite-windows-cpu-autoscaling-group-i-08cbc0333d8d4aae1-1\\xgboost\\xgboost-ci-windows\\src\\common\\error_msg.cc:27: The tree method `gpu_hist` is deprecated since 2.0.0. To use GPU training, set the `device` parameter to CUDA instead.\n",
      "\n",
      "    E.g. tree_method = \"hist\", device = \"cuda\"\n",
      "\n",
      "  warnings.warn(smsg, UserWarning)\n"
     ]
    },
    {
     "name": "stdout",
     "output_type": "stream",
     "text": [
      "[CV] END cat__depth=4, cat__iterations=100, cat__learning_rate=0.025, final_estimator__lr__C=0.1, lgbm__learning_rate=0.1, lgbm__min_child_samples=50, lgbm__n_estimators=300, lgbm__num_leaves=63, xgb__learning_rate=0.1, xgb__max_depth=5, xgb__n_estimators=500; total time=  24.6s\n"
     ]
    },
    {
     "name": "stderr",
     "output_type": "stream",
     "text": [
      "c:\\Users\\tjddl\\AppData\\Local\\Programs\\Python\\Python310\\lib\\site-packages\\xgboost\\core.py:158: UserWarning: [01:49:35] WARNING: C:\\buildkite-agent\\builds\\buildkite-windows-cpu-autoscaling-group-i-08cbc0333d8d4aae1-1\\xgboost\\xgboost-ci-windows\\src\\common\\error_msg.cc:27: The tree method `gpu_hist` is deprecated since 2.0.0. To use GPU training, set the `device` parameter to CUDA instead.\n",
      "\n",
      "    E.g. tree_method = \"hist\", device = \"cuda\"\n",
      "\n",
      "  warnings.warn(smsg, UserWarning)\n"
     ]
    },
    {
     "name": "stdout",
     "output_type": "stream",
     "text": [
      "[CV] END cat__depth=4, cat__iterations=100, cat__learning_rate=0.025, final_estimator__lr__C=0.1, lgbm__learning_rate=0.1, lgbm__min_child_samples=50, lgbm__n_estimators=300, lgbm__num_leaves=63, xgb__learning_rate=0.1, xgb__max_depth=5, xgb__n_estimators=500; total time=  27.0s\n"
     ]
    },
    {
     "name": "stderr",
     "output_type": "stream",
     "text": [
      "c:\\Users\\tjddl\\AppData\\Local\\Programs\\Python\\Python310\\lib\\site-packages\\xgboost\\core.py:158: UserWarning: [01:50:03] WARNING: C:\\buildkite-agent\\builds\\buildkite-windows-cpu-autoscaling-group-i-08cbc0333d8d4aae1-1\\xgboost\\xgboost-ci-windows\\src\\common\\error_msg.cc:27: The tree method `gpu_hist` is deprecated since 2.0.0. To use GPU training, set the `device` parameter to CUDA instead.\n",
      "\n",
      "    E.g. tree_method = \"hist\", device = \"cuda\"\n",
      "\n",
      "  warnings.warn(smsg, UserWarning)\n"
     ]
    },
    {
     "name": "stdout",
     "output_type": "stream",
     "text": [
      "[CV] END cat__depth=4, cat__iterations=100, cat__learning_rate=0.025, final_estimator__lr__C=0.1, lgbm__learning_rate=0.1, lgbm__min_child_samples=50, lgbm__n_estimators=300, lgbm__num_leaves=63, xgb__learning_rate=0.1, xgb__max_depth=5, xgb__n_estimators=500; total time=  28.4s\n"
     ]
    },
    {
     "name": "stderr",
     "output_type": "stream",
     "text": [
      "c:\\Users\\tjddl\\AppData\\Local\\Programs\\Python\\Python310\\lib\\site-packages\\xgboost\\core.py:158: UserWarning: [01:52:37] WARNING: C:\\buildkite-agent\\builds\\buildkite-windows-cpu-autoscaling-group-i-08cbc0333d8d4aae1-1\\xgboost\\xgboost-ci-windows\\src\\common\\error_msg.cc:27: The tree method `gpu_hist` is deprecated since 2.0.0. To use GPU training, set the `device` parameter to CUDA instead.\n",
      "\n",
      "    E.g. tree_method = \"hist\", device = \"cuda\"\n",
      "\n",
      "  warnings.warn(smsg, UserWarning)\n"
     ]
    },
    {
     "name": "stdout",
     "output_type": "stream",
     "text": [
      "[CV] END cat__depth=6, cat__iterations=500, cat__learning_rate=0.1, final_estimator__lr__C=5.0, lgbm__learning_rate=0.1, lgbm__min_child_samples=20, lgbm__n_estimators=300, lgbm__num_leaves=31, xgb__learning_rate=0.05, xgb__max_depth=5, xgb__n_estimators=500; total time= 2.6min\n"
     ]
    },
    {
     "name": "stderr",
     "output_type": "stream",
     "text": [
      "c:\\Users\\tjddl\\AppData\\Local\\Programs\\Python\\Python310\\lib\\site-packages\\xgboost\\core.py:158: UserWarning: [01:55:18] WARNING: C:\\buildkite-agent\\builds\\buildkite-windows-cpu-autoscaling-group-i-08cbc0333d8d4aae1-1\\xgboost\\xgboost-ci-windows\\src\\common\\error_msg.cc:27: The tree method `gpu_hist` is deprecated since 2.0.0. To use GPU training, set the `device` parameter to CUDA instead.\n",
      "\n",
      "    E.g. tree_method = \"hist\", device = \"cuda\"\n",
      "\n",
      "  warnings.warn(smsg, UserWarning)\n"
     ]
    },
    {
     "name": "stdout",
     "output_type": "stream",
     "text": [
      "[CV] END cat__depth=6, cat__iterations=500, cat__learning_rate=0.1, final_estimator__lr__C=5.0, lgbm__learning_rate=0.1, lgbm__min_child_samples=20, lgbm__n_estimators=300, lgbm__num_leaves=31, xgb__learning_rate=0.05, xgb__max_depth=5, xgb__n_estimators=500; total time= 2.7min\n"
     ]
    },
    {
     "name": "stderr",
     "output_type": "stream",
     "text": [
      "c:\\Users\\tjddl\\AppData\\Local\\Programs\\Python\\Python310\\lib\\site-packages\\xgboost\\core.py:158: UserWarning: [01:58:07] WARNING: C:\\buildkite-agent\\builds\\buildkite-windows-cpu-autoscaling-group-i-08cbc0333d8d4aae1-1\\xgboost\\xgboost-ci-windows\\src\\common\\error_msg.cc:27: The tree method `gpu_hist` is deprecated since 2.0.0. To use GPU training, set the `device` parameter to CUDA instead.\n",
      "\n",
      "    E.g. tree_method = \"hist\", device = \"cuda\"\n",
      "\n",
      "  warnings.warn(smsg, UserWarning)\n"
     ]
    },
    {
     "name": "stdout",
     "output_type": "stream",
     "text": [
      "[CV] END cat__depth=6, cat__iterations=500, cat__learning_rate=0.1, final_estimator__lr__C=5.0, lgbm__learning_rate=0.1, lgbm__min_child_samples=20, lgbm__n_estimators=300, lgbm__num_leaves=31, xgb__learning_rate=0.05, xgb__max_depth=5, xgb__n_estimators=500; total time= 2.8min\n"
     ]
    },
    {
     "name": "stderr",
     "output_type": "stream",
     "text": [
      "c:\\Users\\tjddl\\AppData\\Local\\Programs\\Python\\Python310\\lib\\site-packages\\xgboost\\core.py:158: UserWarning: [01:58:50] WARNING: C:\\buildkite-agent\\builds\\buildkite-windows-cpu-autoscaling-group-i-08cbc0333d8d4aae1-1\\xgboost\\xgboost-ci-windows\\src\\common\\error_msg.cc:27: The tree method `gpu_hist` is deprecated since 2.0.0. To use GPU training, set the `device` parameter to CUDA instead.\n",
      "\n",
      "    E.g. tree_method = \"hist\", device = \"cuda\"\n",
      "\n",
      "  warnings.warn(smsg, UserWarning)\n"
     ]
    },
    {
     "name": "stdout",
     "output_type": "stream",
     "text": [
      "[CV] END cat__depth=6, cat__iterations=100, cat__learning_rate=0.05, final_estimator__lr__C=10.0, lgbm__learning_rate=0.025, lgbm__min_child_samples=20, lgbm__n_estimators=300, lgbm__num_leaves=63, xgb__learning_rate=0.025, xgb__max_depth=5, xgb__n_estimators=500; total time=  42.9s\n"
     ]
    },
    {
     "name": "stderr",
     "output_type": "stream",
     "text": [
      "c:\\Users\\tjddl\\AppData\\Local\\Programs\\Python\\Python310\\lib\\site-packages\\xgboost\\core.py:158: UserWarning: [01:59:33] WARNING: C:\\buildkite-agent\\builds\\buildkite-windows-cpu-autoscaling-group-i-08cbc0333d8d4aae1-1\\xgboost\\xgboost-ci-windows\\src\\common\\error_msg.cc:27: The tree method `gpu_hist` is deprecated since 2.0.0. To use GPU training, set the `device` parameter to CUDA instead.\n",
      "\n",
      "    E.g. tree_method = \"hist\", device = \"cuda\"\n",
      "\n",
      "  warnings.warn(smsg, UserWarning)\n"
     ]
    },
    {
     "name": "stdout",
     "output_type": "stream",
     "text": [
      "[CV] END cat__depth=6, cat__iterations=100, cat__learning_rate=0.05, final_estimator__lr__C=10.0, lgbm__learning_rate=0.025, lgbm__min_child_samples=20, lgbm__n_estimators=300, lgbm__num_leaves=63, xgb__learning_rate=0.025, xgb__max_depth=5, xgb__n_estimators=500; total time=  43.1s\n"
     ]
    },
    {
     "name": "stderr",
     "output_type": "stream",
     "text": [
      "c:\\Users\\tjddl\\AppData\\Local\\Programs\\Python\\Python310\\lib\\site-packages\\xgboost\\core.py:158: UserWarning: [02:00:11] WARNING: C:\\buildkite-agent\\builds\\buildkite-windows-cpu-autoscaling-group-i-08cbc0333d8d4aae1-1\\xgboost\\xgboost-ci-windows\\src\\common\\error_msg.cc:27: The tree method `gpu_hist` is deprecated since 2.0.0. To use GPU training, set the `device` parameter to CUDA instead.\n",
      "\n",
      "    E.g. tree_method = \"hist\", device = \"cuda\"\n",
      "\n",
      "  warnings.warn(smsg, UserWarning)\n"
     ]
    },
    {
     "name": "stdout",
     "output_type": "stream",
     "text": [
      "[CV] END cat__depth=6, cat__iterations=100, cat__learning_rate=0.05, final_estimator__lr__C=10.0, lgbm__learning_rate=0.025, lgbm__min_child_samples=20, lgbm__n_estimators=300, lgbm__num_leaves=63, xgb__learning_rate=0.025, xgb__max_depth=5, xgb__n_estimators=500; total time=  38.1s\n"
     ]
    },
    {
     "name": "stderr",
     "output_type": "stream",
     "text": [
      "c:\\Users\\tjddl\\AppData\\Local\\Programs\\Python\\Python310\\lib\\site-packages\\xgboost\\core.py:158: UserWarning: [02:01:50] WARNING: C:\\buildkite-agent\\builds\\buildkite-windows-cpu-autoscaling-group-i-08cbc0333d8d4aae1-1\\xgboost\\xgboost-ci-windows\\src\\common\\error_msg.cc:27: The tree method `gpu_hist` is deprecated since 2.0.0. To use GPU training, set the `device` parameter to CUDA instead.\n",
      "\n",
      "    E.g. tree_method = \"hist\", device = \"cuda\"\n",
      "\n",
      "  warnings.warn(smsg, UserWarning)\n"
     ]
    },
    {
     "name": "stdout",
     "output_type": "stream",
     "text": [
      "[CV] END cat__depth=5, cat__iterations=300, cat__learning_rate=0.1, final_estimator__lr__C=0.1, lgbm__learning_rate=0.05, lgbm__min_child_samples=20, lgbm__n_estimators=500, lgbm__num_leaves=31, xgb__learning_rate=0.1, xgb__max_depth=5, xgb__n_estimators=400; total time= 1.7min\n"
     ]
    },
    {
     "name": "stderr",
     "output_type": "stream",
     "text": [
      "c:\\Users\\tjddl\\AppData\\Local\\Programs\\Python\\Python310\\lib\\site-packages\\xgboost\\core.py:158: UserWarning: [02:03:21] WARNING: C:\\buildkite-agent\\builds\\buildkite-windows-cpu-autoscaling-group-i-08cbc0333d8d4aae1-1\\xgboost\\xgboost-ci-windows\\src\\common\\error_msg.cc:27: The tree method `gpu_hist` is deprecated since 2.0.0. To use GPU training, set the `device` parameter to CUDA instead.\n",
      "\n",
      "    E.g. tree_method = \"hist\", device = \"cuda\"\n",
      "\n",
      "  warnings.warn(smsg, UserWarning)\n"
     ]
    },
    {
     "name": "stdout",
     "output_type": "stream",
     "text": [
      "[CV] END cat__depth=5, cat__iterations=300, cat__learning_rate=0.1, final_estimator__lr__C=0.1, lgbm__learning_rate=0.05, lgbm__min_child_samples=20, lgbm__n_estimators=500, lgbm__num_leaves=31, xgb__learning_rate=0.1, xgb__max_depth=5, xgb__n_estimators=400; total time= 1.5min\n"
     ]
    },
    {
     "name": "stderr",
     "output_type": "stream",
     "text": [
      "c:\\Users\\tjddl\\AppData\\Local\\Programs\\Python\\Python310\\lib\\site-packages\\xgboost\\core.py:158: UserWarning: [02:05:24] WARNING: C:\\buildkite-agent\\builds\\buildkite-windows-cpu-autoscaling-group-i-08cbc0333d8d4aae1-1\\xgboost\\xgboost-ci-windows\\src\\common\\error_msg.cc:27: The tree method `gpu_hist` is deprecated since 2.0.0. To use GPU training, set the `device` parameter to CUDA instead.\n",
      "\n",
      "    E.g. tree_method = \"hist\", device = \"cuda\"\n",
      "\n",
      "  warnings.warn(smsg, UserWarning)\n"
     ]
    },
    {
     "name": "stdout",
     "output_type": "stream",
     "text": [
      "[CV] END cat__depth=5, cat__iterations=300, cat__learning_rate=0.1, final_estimator__lr__C=0.1, lgbm__learning_rate=0.05, lgbm__min_child_samples=20, lgbm__n_estimators=500, lgbm__num_leaves=31, xgb__learning_rate=0.1, xgb__max_depth=5, xgb__n_estimators=400; total time= 2.0min\n"
     ]
    },
    {
     "name": "stderr",
     "output_type": "stream",
     "text": [
      "c:\\Users\\tjddl\\AppData\\Local\\Programs\\Python\\Python310\\lib\\site-packages\\xgboost\\core.py:158: UserWarning: [02:05:58] WARNING: C:\\buildkite-agent\\builds\\buildkite-windows-cpu-autoscaling-group-i-08cbc0333d8d4aae1-1\\xgboost\\xgboost-ci-windows\\src\\common\\error_msg.cc:27: The tree method `gpu_hist` is deprecated since 2.0.0. To use GPU training, set the `device` parameter to CUDA instead.\n",
      "\n",
      "    E.g. tree_method = \"hist\", device = \"cuda\"\n",
      "\n",
      "  warnings.warn(smsg, UserWarning)\n"
     ]
    },
    {
     "name": "stdout",
     "output_type": "stream",
     "text": [
      "[CV] END cat__depth=4, cat__iterations=100, cat__learning_rate=0.05, final_estimator__lr__C=5.0, lgbm__learning_rate=0.05, lgbm__min_child_samples=20, lgbm__n_estimators=500, lgbm__num_leaves=31, xgb__learning_rate=0.025, xgb__max_depth=4, xgb__n_estimators=400; total time=  33.2s\n"
     ]
    },
    {
     "name": "stderr",
     "output_type": "stream",
     "text": [
      "c:\\Users\\tjddl\\AppData\\Local\\Programs\\Python\\Python310\\lib\\site-packages\\xgboost\\core.py:158: UserWarning: [02:06:31] WARNING: C:\\buildkite-agent\\builds\\buildkite-windows-cpu-autoscaling-group-i-08cbc0333d8d4aae1-1\\xgboost\\xgboost-ci-windows\\src\\common\\error_msg.cc:27: The tree method `gpu_hist` is deprecated since 2.0.0. To use GPU training, set the `device` parameter to CUDA instead.\n",
      "\n",
      "    E.g. tree_method = \"hist\", device = \"cuda\"\n",
      "\n",
      "  warnings.warn(smsg, UserWarning)\n"
     ]
    },
    {
     "name": "stdout",
     "output_type": "stream",
     "text": [
      "[CV] END cat__depth=4, cat__iterations=100, cat__learning_rate=0.05, final_estimator__lr__C=5.0, lgbm__learning_rate=0.05, lgbm__min_child_samples=20, lgbm__n_estimators=500, lgbm__num_leaves=31, xgb__learning_rate=0.025, xgb__max_depth=4, xgb__n_estimators=400; total time=  32.9s\n"
     ]
    },
    {
     "name": "stderr",
     "output_type": "stream",
     "text": [
      "c:\\Users\\tjddl\\AppData\\Local\\Programs\\Python\\Python310\\lib\\site-packages\\xgboost\\core.py:158: UserWarning: [02:07:07] WARNING: C:\\buildkite-agent\\builds\\buildkite-windows-cpu-autoscaling-group-i-08cbc0333d8d4aae1-1\\xgboost\\xgboost-ci-windows\\src\\common\\error_msg.cc:27: The tree method `gpu_hist` is deprecated since 2.0.0. To use GPU training, set the `device` parameter to CUDA instead.\n",
      "\n",
      "    E.g. tree_method = \"hist\", device = \"cuda\"\n",
      "\n",
      "  warnings.warn(smsg, UserWarning)\n"
     ]
    },
    {
     "name": "stdout",
     "output_type": "stream",
     "text": [
      "[CV] END cat__depth=4, cat__iterations=100, cat__learning_rate=0.05, final_estimator__lr__C=5.0, lgbm__learning_rate=0.05, lgbm__min_child_samples=20, lgbm__n_estimators=500, lgbm__num_leaves=31, xgb__learning_rate=0.025, xgb__max_depth=4, xgb__n_estimators=400; total time=  36.6s\n"
     ]
    },
    {
     "name": "stderr",
     "output_type": "stream",
     "text": [
      "c:\\Users\\tjddl\\AppData\\Local\\Programs\\Python\\Python310\\lib\\site-packages\\xgboost\\core.py:158: UserWarning: [02:09:10] WARNING: C:\\buildkite-agent\\builds\\buildkite-windows-cpu-autoscaling-group-i-08cbc0333d8d4aae1-1\\xgboost\\xgboost-ci-windows\\src\\common\\error_msg.cc:27: The tree method `gpu_hist` is deprecated since 2.0.0. To use GPU training, set the `device` parameter to CUDA instead.\n",
      "\n",
      "    E.g. tree_method = \"hist\", device = \"cuda\"\n",
      "\n",
      "  warnings.warn(smsg, UserWarning)\n"
     ]
    },
    {
     "name": "stdout",
     "output_type": "stream",
     "text": [
      "[CV] END cat__depth=6, cat__iterations=300, cat__learning_rate=0.025, final_estimator__lr__C=0.1, lgbm__learning_rate=0.1, lgbm__min_child_samples=20, lgbm__n_estimators=400, lgbm__num_leaves=63, xgb__learning_rate=0.05, xgb__max_depth=4, xgb__n_estimators=300; total time= 2.0min\n"
     ]
    },
    {
     "name": "stderr",
     "output_type": "stream",
     "text": [
      "c:\\Users\\tjddl\\AppData\\Local\\Programs\\Python\\Python310\\lib\\site-packages\\xgboost\\core.py:158: UserWarning: [02:11:09] WARNING: C:\\buildkite-agent\\builds\\buildkite-windows-cpu-autoscaling-group-i-08cbc0333d8d4aae1-1\\xgboost\\xgboost-ci-windows\\src\\common\\error_msg.cc:27: The tree method `gpu_hist` is deprecated since 2.0.0. To use GPU training, set the `device` parameter to CUDA instead.\n",
      "\n",
      "    E.g. tree_method = \"hist\", device = \"cuda\"\n",
      "\n",
      "  warnings.warn(smsg, UserWarning)\n"
     ]
    },
    {
     "name": "stdout",
     "output_type": "stream",
     "text": [
      "[CV] END cat__depth=6, cat__iterations=300, cat__learning_rate=0.025, final_estimator__lr__C=0.1, lgbm__learning_rate=0.1, lgbm__min_child_samples=20, lgbm__n_estimators=400, lgbm__num_leaves=63, xgb__learning_rate=0.05, xgb__max_depth=4, xgb__n_estimators=300; total time= 2.0min\n"
     ]
    },
    {
     "name": "stderr",
     "output_type": "stream",
     "text": [
      "c:\\Users\\tjddl\\AppData\\Local\\Programs\\Python\\Python310\\lib\\site-packages\\xgboost\\core.py:158: UserWarning: [02:13:28] WARNING: C:\\buildkite-agent\\builds\\buildkite-windows-cpu-autoscaling-group-i-08cbc0333d8d4aae1-1\\xgboost\\xgboost-ci-windows\\src\\common\\error_msg.cc:27: The tree method `gpu_hist` is deprecated since 2.0.0. To use GPU training, set the `device` parameter to CUDA instead.\n",
      "\n",
      "    E.g. tree_method = \"hist\", device = \"cuda\"\n",
      "\n",
      "  warnings.warn(smsg, UserWarning)\n"
     ]
    },
    {
     "name": "stdout",
     "output_type": "stream",
     "text": [
      "[CV] END cat__depth=6, cat__iterations=300, cat__learning_rate=0.025, final_estimator__lr__C=0.1, lgbm__learning_rate=0.1, lgbm__min_child_samples=20, lgbm__n_estimators=400, lgbm__num_leaves=63, xgb__learning_rate=0.05, xgb__max_depth=4, xgb__n_estimators=300; total time= 2.3min\n"
     ]
    },
    {
     "name": "stderr",
     "output_type": "stream",
     "text": [
      "c:\\Users\\tjddl\\AppData\\Local\\Programs\\Python\\Python310\\lib\\site-packages\\xgboost\\core.py:158: UserWarning: [02:14:06] WARNING: C:\\buildkite-agent\\builds\\buildkite-windows-cpu-autoscaling-group-i-08cbc0333d8d4aae1-1\\xgboost\\xgboost-ci-windows\\src\\common\\error_msg.cc:27: The tree method `gpu_hist` is deprecated since 2.0.0. To use GPU training, set the `device` parameter to CUDA instead.\n",
      "\n",
      "    E.g. tree_method = \"hist\", device = \"cuda\"\n",
      "\n",
      "  warnings.warn(smsg, UserWarning)\n"
     ]
    },
    {
     "name": "stdout",
     "output_type": "stream",
     "text": [
      "[CV] END cat__depth=5, cat__iterations=100, cat__learning_rate=0.025, final_estimator__lr__C=5.0, lgbm__learning_rate=0.025, lgbm__min_child_samples=50, lgbm__n_estimators=400, lgbm__num_leaves=63, xgb__learning_rate=0.05, xgb__max_depth=6, xgb__n_estimators=300; total time=  38.1s\n"
     ]
    },
    {
     "name": "stderr",
     "output_type": "stream",
     "text": [
      "c:\\Users\\tjddl\\AppData\\Local\\Programs\\Python\\Python310\\lib\\site-packages\\xgboost\\core.py:158: UserWarning: [02:14:46] WARNING: C:\\buildkite-agent\\builds\\buildkite-windows-cpu-autoscaling-group-i-08cbc0333d8d4aae1-1\\xgboost\\xgboost-ci-windows\\src\\common\\error_msg.cc:27: The tree method `gpu_hist` is deprecated since 2.0.0. To use GPU training, set the `device` parameter to CUDA instead.\n",
      "\n",
      "    E.g. tree_method = \"hist\", device = \"cuda\"\n",
      "\n",
      "  warnings.warn(smsg, UserWarning)\n"
     ]
    },
    {
     "name": "stdout",
     "output_type": "stream",
     "text": [
      "[CV] END cat__depth=5, cat__iterations=100, cat__learning_rate=0.025, final_estimator__lr__C=5.0, lgbm__learning_rate=0.025, lgbm__min_child_samples=50, lgbm__n_estimators=400, lgbm__num_leaves=63, xgb__learning_rate=0.05, xgb__max_depth=6, xgb__n_estimators=300; total time=  39.5s\n"
     ]
    },
    {
     "name": "stderr",
     "output_type": "stream",
     "text": [
      "c:\\Users\\tjddl\\AppData\\Local\\Programs\\Python\\Python310\\lib\\site-packages\\xgboost\\core.py:158: UserWarning: [02:15:31] WARNING: C:\\buildkite-agent\\builds\\buildkite-windows-cpu-autoscaling-group-i-08cbc0333d8d4aae1-1\\xgboost\\xgboost-ci-windows\\src\\common\\error_msg.cc:27: The tree method `gpu_hist` is deprecated since 2.0.0. To use GPU training, set the `device` parameter to CUDA instead.\n",
      "\n",
      "    E.g. tree_method = \"hist\", device = \"cuda\"\n",
      "\n",
      "  warnings.warn(smsg, UserWarning)\n"
     ]
    },
    {
     "name": "stdout",
     "output_type": "stream",
     "text": [
      "[CV] END cat__depth=5, cat__iterations=100, cat__learning_rate=0.025, final_estimator__lr__C=5.0, lgbm__learning_rate=0.025, lgbm__min_child_samples=50, lgbm__n_estimators=400, lgbm__num_leaves=63, xgb__learning_rate=0.05, xgb__max_depth=6, xgb__n_estimators=300; total time=  45.4s\n"
     ]
    },
    {
     "name": "stderr",
     "output_type": "stream",
     "text": [
      "c:\\Users\\tjddl\\AppData\\Local\\Programs\\Python\\Python310\\lib\\site-packages\\xgboost\\core.py:158: UserWarning: [02:17:33] WARNING: C:\\buildkite-agent\\builds\\buildkite-windows-cpu-autoscaling-group-i-08cbc0333d8d4aae1-1\\xgboost\\xgboost-ci-windows\\src\\common\\error_msg.cc:27: The tree method `gpu_hist` is deprecated since 2.0.0. To use GPU training, set the `device` parameter to CUDA instead.\n",
      "\n",
      "    E.g. tree_method = \"hist\", device = \"cuda\"\n",
      "\n",
      "  warnings.warn(smsg, UserWarning)\n"
     ]
    },
    {
     "name": "stdout",
     "output_type": "stream",
     "text": [
      "[CV] END cat__depth=6, cat__iterations=300, cat__learning_rate=0.05, final_estimator__lr__C=5.0, lgbm__learning_rate=0.025, lgbm__min_child_samples=20, lgbm__n_estimators=300, lgbm__num_leaves=31, xgb__learning_rate=0.1, xgb__max_depth=4, xgb__n_estimators=300; total time= 2.0min\n"
     ]
    },
    {
     "name": "stderr",
     "output_type": "stream",
     "text": [
      "c:\\Users\\tjddl\\AppData\\Local\\Programs\\Python\\Python310\\lib\\site-packages\\xgboost\\core.py:158: UserWarning: [02:19:52] WARNING: C:\\buildkite-agent\\builds\\buildkite-windows-cpu-autoscaling-group-i-08cbc0333d8d4aae1-1\\xgboost\\xgboost-ci-windows\\src\\common\\error_msg.cc:27: The tree method `gpu_hist` is deprecated since 2.0.0. To use GPU training, set the `device` parameter to CUDA instead.\n",
      "\n",
      "    E.g. tree_method = \"hist\", device = \"cuda\"\n",
      "\n",
      "  warnings.warn(smsg, UserWarning)\n"
     ]
    },
    {
     "name": "stdout",
     "output_type": "stream",
     "text": [
      "[CV] END cat__depth=6, cat__iterations=300, cat__learning_rate=0.05, final_estimator__lr__C=5.0, lgbm__learning_rate=0.025, lgbm__min_child_samples=20, lgbm__n_estimators=300, lgbm__num_leaves=31, xgb__learning_rate=0.1, xgb__max_depth=4, xgb__n_estimators=300; total time= 2.3min\n"
     ]
    },
    {
     "name": "stderr",
     "output_type": "stream",
     "text": [
      "c:\\Users\\tjddl\\AppData\\Local\\Programs\\Python\\Python310\\lib\\site-packages\\xgboost\\core.py:158: UserWarning: [02:22:12] WARNING: C:\\buildkite-agent\\builds\\buildkite-windows-cpu-autoscaling-group-i-08cbc0333d8d4aae1-1\\xgboost\\xgboost-ci-windows\\src\\common\\error_msg.cc:27: The tree method `gpu_hist` is deprecated since 2.0.0. To use GPU training, set the `device` parameter to CUDA instead.\n",
      "\n",
      "    E.g. tree_method = \"hist\", device = \"cuda\"\n",
      "\n",
      "  warnings.warn(smsg, UserWarning)\n"
     ]
    },
    {
     "name": "stdout",
     "output_type": "stream",
     "text": [
      "[CV] END cat__depth=6, cat__iterations=300, cat__learning_rate=0.05, final_estimator__lr__C=5.0, lgbm__learning_rate=0.025, lgbm__min_child_samples=20, lgbm__n_estimators=300, lgbm__num_leaves=31, xgb__learning_rate=0.1, xgb__max_depth=4, xgb__n_estimators=300; total time= 2.3min\n"
     ]
    },
    {
     "name": "stderr",
     "output_type": "stream",
     "text": [
      "c:\\Users\\tjddl\\AppData\\Local\\Programs\\Python\\Python310\\lib\\site-packages\\xgboost\\core.py:158: UserWarning: [02:22:52] WARNING: C:\\buildkite-agent\\builds\\buildkite-windows-cpu-autoscaling-group-i-08cbc0333d8d4aae1-1\\xgboost\\xgboost-ci-windows\\src\\common\\error_msg.cc:27: The tree method `gpu_hist` is deprecated since 2.0.0. To use GPU training, set the `device` parameter to CUDA instead.\n",
      "\n",
      "    E.g. tree_method = \"hist\", device = \"cuda\"\n",
      "\n",
      "  warnings.warn(smsg, UserWarning)\n"
     ]
    },
    {
     "name": "stdout",
     "output_type": "stream",
     "text": [
      "[CV] END cat__depth=5, cat__iterations=100, cat__learning_rate=0.1, final_estimator__lr__C=1.0, lgbm__learning_rate=0.05, lgbm__min_child_samples=20, lgbm__n_estimators=400, lgbm__num_leaves=31, xgb__learning_rate=0.05, xgb__max_depth=5, xgb__n_estimators=400; total time=  40.1s\n"
     ]
    },
    {
     "name": "stderr",
     "output_type": "stream",
     "text": [
      "c:\\Users\\tjddl\\AppData\\Local\\Programs\\Python\\Python310\\lib\\site-packages\\xgboost\\core.py:158: UserWarning: [02:23:32] WARNING: C:\\buildkite-agent\\builds\\buildkite-windows-cpu-autoscaling-group-i-08cbc0333d8d4aae1-1\\xgboost\\xgboost-ci-windows\\src\\common\\error_msg.cc:27: The tree method `gpu_hist` is deprecated since 2.0.0. To use GPU training, set the `device` parameter to CUDA instead.\n",
      "\n",
      "    E.g. tree_method = \"hist\", device = \"cuda\"\n",
      "\n",
      "  warnings.warn(smsg, UserWarning)\n"
     ]
    },
    {
     "name": "stdout",
     "output_type": "stream",
     "text": [
      "[CV] END cat__depth=5, cat__iterations=100, cat__learning_rate=0.1, final_estimator__lr__C=1.0, lgbm__learning_rate=0.05, lgbm__min_child_samples=20, lgbm__n_estimators=400, lgbm__num_leaves=31, xgb__learning_rate=0.05, xgb__max_depth=5, xgb__n_estimators=400; total time=  39.7s\n"
     ]
    },
    {
     "name": "stderr",
     "output_type": "stream",
     "text": [
      "c:\\Users\\tjddl\\AppData\\Local\\Programs\\Python\\Python310\\lib\\site-packages\\xgboost\\core.py:158: UserWarning: [02:24:17] WARNING: C:\\buildkite-agent\\builds\\buildkite-windows-cpu-autoscaling-group-i-08cbc0333d8d4aae1-1\\xgboost\\xgboost-ci-windows\\src\\common\\error_msg.cc:27: The tree method `gpu_hist` is deprecated since 2.0.0. To use GPU training, set the `device` parameter to CUDA instead.\n",
      "\n",
      "    E.g. tree_method = \"hist\", device = \"cuda\"\n",
      "\n",
      "  warnings.warn(smsg, UserWarning)\n"
     ]
    },
    {
     "name": "stdout",
     "output_type": "stream",
     "text": [
      "[CV] END cat__depth=5, cat__iterations=100, cat__learning_rate=0.1, final_estimator__lr__C=1.0, lgbm__learning_rate=0.05, lgbm__min_child_samples=20, lgbm__n_estimators=400, lgbm__num_leaves=31, xgb__learning_rate=0.05, xgb__max_depth=5, xgb__n_estimators=400; total time=  44.4s\n"
     ]
    },
    {
     "name": "stderr",
     "output_type": "stream",
     "text": [
      "c:\\Users\\tjddl\\AppData\\Local\\Programs\\Python\\Python310\\lib\\site-packages\\xgboost\\core.py:158: UserWarning: [02:27:23] WARNING: C:\\buildkite-agent\\builds\\buildkite-windows-cpu-autoscaling-group-i-08cbc0333d8d4aae1-1\\xgboost\\xgboost-ci-windows\\src\\common\\error_msg.cc:27: The tree method `gpu_hist` is deprecated since 2.0.0. To use GPU training, set the `device` parameter to CUDA instead.\n",
      "\n",
      "    E.g. tree_method = \"hist\", device = \"cuda\"\n",
      "\n",
      "  warnings.warn(smsg, UserWarning)\n"
     ]
    },
    {
     "name": "stdout",
     "output_type": "stream",
     "text": [
      "[CV] END cat__depth=5, cat__iterations=500, cat__learning_rate=0.025, final_estimator__lr__C=1.0, lgbm__learning_rate=0.1, lgbm__min_child_samples=50, lgbm__n_estimators=500, lgbm__num_leaves=63, xgb__learning_rate=0.1, xgb__max_depth=6, xgb__n_estimators=500; total time= 3.1min\n"
     ]
    },
    {
     "name": "stderr",
     "output_type": "stream",
     "text": [
      "c:\\Users\\tjddl\\AppData\\Local\\Programs\\Python\\Python310\\lib\\site-packages\\xgboost\\core.py:158: UserWarning: [02:30:09] WARNING: C:\\buildkite-agent\\builds\\buildkite-windows-cpu-autoscaling-group-i-08cbc0333d8d4aae1-1\\xgboost\\xgboost-ci-windows\\src\\common\\error_msg.cc:27: The tree method `gpu_hist` is deprecated since 2.0.0. To use GPU training, set the `device` parameter to CUDA instead.\n",
      "\n",
      "    E.g. tree_method = \"hist\", device = \"cuda\"\n",
      "\n",
      "  warnings.warn(smsg, UserWarning)\n"
     ]
    },
    {
     "name": "stdout",
     "output_type": "stream",
     "text": [
      "[CV] END cat__depth=5, cat__iterations=500, cat__learning_rate=0.025, final_estimator__lr__C=1.0, lgbm__learning_rate=0.1, lgbm__min_child_samples=50, lgbm__n_estimators=500, lgbm__num_leaves=63, xgb__learning_rate=0.1, xgb__max_depth=6, xgb__n_estimators=500; total time= 2.8min\n"
     ]
    },
    {
     "name": "stderr",
     "output_type": "stream",
     "text": [
      "c:\\Users\\tjddl\\AppData\\Local\\Programs\\Python\\Python310\\lib\\site-packages\\xgboost\\core.py:158: UserWarning: [02:32:21] WARNING: C:\\buildkite-agent\\builds\\buildkite-windows-cpu-autoscaling-group-i-08cbc0333d8d4aae1-1\\xgboost\\xgboost-ci-windows\\src\\common\\error_msg.cc:27: The tree method `gpu_hist` is deprecated since 2.0.0. To use GPU training, set the `device` parameter to CUDA instead.\n",
      "\n",
      "    E.g. tree_method = \"hist\", device = \"cuda\"\n",
      "\n",
      "  warnings.warn(smsg, UserWarning)\n"
     ]
    },
    {
     "name": "stdout",
     "output_type": "stream",
     "text": [
      "[CV] END cat__depth=5, cat__iterations=500, cat__learning_rate=0.025, final_estimator__lr__C=1.0, lgbm__learning_rate=0.1, lgbm__min_child_samples=50, lgbm__n_estimators=500, lgbm__num_leaves=63, xgb__learning_rate=0.1, xgb__max_depth=6, xgb__n_estimators=500; total time= 2.2min\n"
     ]
    },
    {
     "name": "stderr",
     "output_type": "stream",
     "text": [
      "c:\\Users\\tjddl\\AppData\\Local\\Programs\\Python\\Python310\\lib\\site-packages\\xgboost\\core.py:158: UserWarning: [02:33:29] WARNING: C:\\buildkite-agent\\builds\\buildkite-windows-cpu-autoscaling-group-i-08cbc0333d8d4aae1-1\\xgboost\\xgboost-ci-windows\\src\\common\\error_msg.cc:27: The tree method `gpu_hist` is deprecated since 2.0.0. To use GPU training, set the `device` parameter to CUDA instead.\n",
      "\n",
      "    E.g. tree_method = \"hist\", device = \"cuda\"\n",
      "\n",
      "  warnings.warn(smsg, UserWarning)\n"
     ]
    },
    {
     "name": "stdout",
     "output_type": "stream",
     "text": [
      "[CV] END cat__depth=4, cat__iterations=300, cat__learning_rate=0.05, final_estimator__lr__C=0.1, lgbm__learning_rate=0.05, lgbm__min_child_samples=20, lgbm__n_estimators=500, lgbm__num_leaves=63, xgb__learning_rate=0.05, xgb__max_depth=5, xgb__n_estimators=300; total time= 1.1min\n"
     ]
    },
    {
     "name": "stderr",
     "output_type": "stream",
     "text": [
      "c:\\Users\\tjddl\\AppData\\Local\\Programs\\Python\\Python310\\lib\\site-packages\\xgboost\\core.py:158: UserWarning: [02:34:42] WARNING: C:\\buildkite-agent\\builds\\buildkite-windows-cpu-autoscaling-group-i-08cbc0333d8d4aae1-1\\xgboost\\xgboost-ci-windows\\src\\common\\error_msg.cc:27: The tree method `gpu_hist` is deprecated since 2.0.0. To use GPU training, set the `device` parameter to CUDA instead.\n",
      "\n",
      "    E.g. tree_method = \"hist\", device = \"cuda\"\n",
      "\n",
      "  warnings.warn(smsg, UserWarning)\n"
     ]
    },
    {
     "name": "stdout",
     "output_type": "stream",
     "text": [
      "[CV] END cat__depth=4, cat__iterations=300, cat__learning_rate=0.05, final_estimator__lr__C=0.1, lgbm__learning_rate=0.05, lgbm__min_child_samples=20, lgbm__n_estimators=500, lgbm__num_leaves=63, xgb__learning_rate=0.05, xgb__max_depth=5, xgb__n_estimators=300; total time= 1.2min\n"
     ]
    },
    {
     "name": "stderr",
     "output_type": "stream",
     "text": [
      "c:\\Users\\tjddl\\AppData\\Local\\Programs\\Python\\Python310\\lib\\site-packages\\xgboost\\core.py:158: UserWarning: [02:35:46] WARNING: C:\\buildkite-agent\\builds\\buildkite-windows-cpu-autoscaling-group-i-08cbc0333d8d4aae1-1\\xgboost\\xgboost-ci-windows\\src\\common\\error_msg.cc:27: The tree method `gpu_hist` is deprecated since 2.0.0. To use GPU training, set the `device` parameter to CUDA instead.\n",
      "\n",
      "    E.g. tree_method = \"hist\", device = \"cuda\"\n",
      "\n",
      "  warnings.warn(smsg, UserWarning)\n"
     ]
    },
    {
     "name": "stdout",
     "output_type": "stream",
     "text": [
      "[CV] END cat__depth=4, cat__iterations=300, cat__learning_rate=0.05, final_estimator__lr__C=0.1, lgbm__learning_rate=0.05, lgbm__min_child_samples=20, lgbm__n_estimators=500, lgbm__num_leaves=63, xgb__learning_rate=0.05, xgb__max_depth=5, xgb__n_estimators=300; total time= 1.1min\n"
     ]
    },
    {
     "name": "stderr",
     "output_type": "stream",
     "text": [
      "c:\\Users\\tjddl\\AppData\\Local\\Programs\\Python\\Python310\\lib\\site-packages\\xgboost\\core.py:158: UserWarning: [02:36:17] WARNING: C:\\buildkite-agent\\builds\\buildkite-windows-cpu-autoscaling-group-i-08cbc0333d8d4aae1-1\\xgboost\\xgboost-ci-windows\\src\\common\\error_msg.cc:27: The tree method `gpu_hist` is deprecated since 2.0.0. To use GPU training, set the `device` parameter to CUDA instead.\n",
      "\n",
      "    E.g. tree_method = \"hist\", device = \"cuda\"\n",
      "\n",
      "  warnings.warn(smsg, UserWarning)\n"
     ]
    },
    {
     "name": "stdout",
     "output_type": "stream",
     "text": [
      "[CV] END cat__depth=5, cat__iterations=100, cat__learning_rate=0.05, final_estimator__lr__C=5.0, lgbm__learning_rate=0.025, lgbm__min_child_samples=50, lgbm__n_estimators=400, lgbm__num_leaves=63, xgb__learning_rate=0.1, xgb__max_depth=5, xgb__n_estimators=500; total time=  31.1s\n"
     ]
    },
    {
     "name": "stderr",
     "output_type": "stream",
     "text": [
      "c:\\Users\\tjddl\\AppData\\Local\\Programs\\Python\\Python310\\lib\\site-packages\\xgboost\\core.py:158: UserWarning: [02:36:45] WARNING: C:\\buildkite-agent\\builds\\buildkite-windows-cpu-autoscaling-group-i-08cbc0333d8d4aae1-1\\xgboost\\xgboost-ci-windows\\src\\common\\error_msg.cc:27: The tree method `gpu_hist` is deprecated since 2.0.0. To use GPU training, set the `device` parameter to CUDA instead.\n",
      "\n",
      "    E.g. tree_method = \"hist\", device = \"cuda\"\n",
      "\n",
      "  warnings.warn(smsg, UserWarning)\n"
     ]
    },
    {
     "name": "stdout",
     "output_type": "stream",
     "text": [
      "[CV] END cat__depth=5, cat__iterations=100, cat__learning_rate=0.05, final_estimator__lr__C=5.0, lgbm__learning_rate=0.025, lgbm__min_child_samples=50, lgbm__n_estimators=400, lgbm__num_leaves=63, xgb__learning_rate=0.1, xgb__max_depth=5, xgb__n_estimators=500; total time=  27.8s\n"
     ]
    },
    {
     "name": "stderr",
     "output_type": "stream",
     "text": [
      "c:\\Users\\tjddl\\AppData\\Local\\Programs\\Python\\Python310\\lib\\site-packages\\xgboost\\core.py:158: UserWarning: [02:37:16] WARNING: C:\\buildkite-agent\\builds\\buildkite-windows-cpu-autoscaling-group-i-08cbc0333d8d4aae1-1\\xgboost\\xgboost-ci-windows\\src\\common\\error_msg.cc:27: The tree method `gpu_hist` is deprecated since 2.0.0. To use GPU training, set the `device` parameter to CUDA instead.\n",
      "\n",
      "    E.g. tree_method = \"hist\", device = \"cuda\"\n",
      "\n",
      "  warnings.warn(smsg, UserWarning)\n"
     ]
    },
    {
     "name": "stdout",
     "output_type": "stream",
     "text": [
      "[CV] END cat__depth=5, cat__iterations=100, cat__learning_rate=0.05, final_estimator__lr__C=5.0, lgbm__learning_rate=0.025, lgbm__min_child_samples=50, lgbm__n_estimators=400, lgbm__num_leaves=63, xgb__learning_rate=0.1, xgb__max_depth=5, xgb__n_estimators=500; total time=  31.1s\n"
     ]
    },
    {
     "name": "stderr",
     "output_type": "stream",
     "text": [
      "c:\\Users\\tjddl\\AppData\\Local\\Programs\\Python\\Python310\\lib\\site-packages\\xgboost\\core.py:158: UserWarning: [02:39:16] WARNING: C:\\buildkite-agent\\builds\\buildkite-windows-cpu-autoscaling-group-i-08cbc0333d8d4aae1-1\\xgboost\\xgboost-ci-windows\\src\\common\\error_msg.cc:27: The tree method `gpu_hist` is deprecated since 2.0.0. To use GPU training, set the `device` parameter to CUDA instead.\n",
      "\n",
      "    E.g. tree_method = \"hist\", device = \"cuda\"\n",
      "\n",
      "  warnings.warn(smsg, UserWarning)\n"
     ]
    },
    {
     "name": "stdout",
     "output_type": "stream",
     "text": [
      "[CV] END cat__depth=5, cat__iterations=500, cat__learning_rate=0.1, final_estimator__lr__C=1.0, lgbm__learning_rate=0.025, lgbm__min_child_samples=20, lgbm__n_estimators=500, lgbm__num_leaves=63, xgb__learning_rate=0.1, xgb__max_depth=4, xgb__n_estimators=300; total time= 2.0min\n"
     ]
    },
    {
     "name": "stderr",
     "output_type": "stream",
     "text": [
      "c:\\Users\\tjddl\\AppData\\Local\\Programs\\Python\\Python310\\lib\\site-packages\\xgboost\\core.py:158: UserWarning: [02:41:02] WARNING: C:\\buildkite-agent\\builds\\buildkite-windows-cpu-autoscaling-group-i-08cbc0333d8d4aae1-1\\xgboost\\xgboost-ci-windows\\src\\common\\error_msg.cc:27: The tree method `gpu_hist` is deprecated since 2.0.0. To use GPU training, set the `device` parameter to CUDA instead.\n",
      "\n",
      "    E.g. tree_method = \"hist\", device = \"cuda\"\n",
      "\n",
      "  warnings.warn(smsg, UserWarning)\n"
     ]
    },
    {
     "name": "stdout",
     "output_type": "stream",
     "text": [
      "[CV] END cat__depth=5, cat__iterations=500, cat__learning_rate=0.1, final_estimator__lr__C=1.0, lgbm__learning_rate=0.025, lgbm__min_child_samples=20, lgbm__n_estimators=500, lgbm__num_leaves=63, xgb__learning_rate=0.1, xgb__max_depth=4, xgb__n_estimators=300; total time= 1.8min\n"
     ]
    },
    {
     "name": "stderr",
     "output_type": "stream",
     "text": [
      "c:\\Users\\tjddl\\AppData\\Local\\Programs\\Python\\Python310\\lib\\site-packages\\xgboost\\core.py:158: UserWarning: [02:43:15] WARNING: C:\\buildkite-agent\\builds\\buildkite-windows-cpu-autoscaling-group-i-08cbc0333d8d4aae1-1\\xgboost\\xgboost-ci-windows\\src\\common\\error_msg.cc:27: The tree method `gpu_hist` is deprecated since 2.0.0. To use GPU training, set the `device` parameter to CUDA instead.\n",
      "\n",
      "    E.g. tree_method = \"hist\", device = \"cuda\"\n",
      "\n",
      "  warnings.warn(smsg, UserWarning)\n"
     ]
    },
    {
     "name": "stdout",
     "output_type": "stream",
     "text": [
      "[CV] END cat__depth=5, cat__iterations=500, cat__learning_rate=0.1, final_estimator__lr__C=1.0, lgbm__learning_rate=0.025, lgbm__min_child_samples=20, lgbm__n_estimators=500, lgbm__num_leaves=63, xgb__learning_rate=0.1, xgb__max_depth=4, xgb__n_estimators=300; total time= 2.2min\n"
     ]
    },
    {
     "name": "stderr",
     "output_type": "stream",
     "text": [
      "c:\\Users\\tjddl\\AppData\\Local\\Programs\\Python\\Python310\\lib\\site-packages\\xgboost\\core.py:158: UserWarning: [02:45:20] WARNING: C:\\buildkite-agent\\builds\\buildkite-windows-cpu-autoscaling-group-i-08cbc0333d8d4aae1-1\\xgboost\\xgboost-ci-windows\\src\\common\\error_msg.cc:27: The tree method `gpu_hist` is deprecated since 2.0.0. To use GPU training, set the `device` parameter to CUDA instead.\n",
      "\n",
      "    E.g. tree_method = \"hist\", device = \"cuda\"\n",
      "\n",
      "  warnings.warn(smsg, UserWarning)\n"
     ]
    },
    {
     "name": "stdout",
     "output_type": "stream",
     "text": [
      "[CV] END cat__depth=5, cat__iterations=500, cat__learning_rate=0.05, final_estimator__lr__C=5.0, lgbm__learning_rate=0.1, lgbm__min_child_samples=20, lgbm__n_estimators=300, lgbm__num_leaves=31, xgb__learning_rate=0.1, xgb__max_depth=4, xgb__n_estimators=500; total time= 2.1min\n"
     ]
    },
    {
     "name": "stderr",
     "output_type": "stream",
     "text": [
      "c:\\Users\\tjddl\\AppData\\Local\\Programs\\Python\\Python310\\lib\\site-packages\\xgboost\\core.py:158: UserWarning: [02:47:17] WARNING: C:\\buildkite-agent\\builds\\buildkite-windows-cpu-autoscaling-group-i-08cbc0333d8d4aae1-1\\xgboost\\xgboost-ci-windows\\src\\common\\error_msg.cc:27: The tree method `gpu_hist` is deprecated since 2.0.0. To use GPU training, set the `device` parameter to CUDA instead.\n",
      "\n",
      "    E.g. tree_method = \"hist\", device = \"cuda\"\n",
      "\n",
      "  warnings.warn(smsg, UserWarning)\n"
     ]
    },
    {
     "name": "stdout",
     "output_type": "stream",
     "text": [
      "[CV] END cat__depth=5, cat__iterations=500, cat__learning_rate=0.05, final_estimator__lr__C=5.0, lgbm__learning_rate=0.1, lgbm__min_child_samples=20, lgbm__n_estimators=300, lgbm__num_leaves=31, xgb__learning_rate=0.1, xgb__max_depth=4, xgb__n_estimators=500; total time= 2.0min\n"
     ]
    },
    {
     "name": "stderr",
     "output_type": "stream",
     "text": [
      "c:\\Users\\tjddl\\AppData\\Local\\Programs\\Python\\Python310\\lib\\site-packages\\xgboost\\core.py:158: UserWarning: [02:49:32] WARNING: C:\\buildkite-agent\\builds\\buildkite-windows-cpu-autoscaling-group-i-08cbc0333d8d4aae1-1\\xgboost\\xgboost-ci-windows\\src\\common\\error_msg.cc:27: The tree method `gpu_hist` is deprecated since 2.0.0. To use GPU training, set the `device` parameter to CUDA instead.\n",
      "\n",
      "    E.g. tree_method = \"hist\", device = \"cuda\"\n",
      "\n",
      "  warnings.warn(smsg, UserWarning)\n"
     ]
    },
    {
     "name": "stdout",
     "output_type": "stream",
     "text": [
      "[CV] END cat__depth=5, cat__iterations=500, cat__learning_rate=0.05, final_estimator__lr__C=5.0, lgbm__learning_rate=0.1, lgbm__min_child_samples=20, lgbm__n_estimators=300, lgbm__num_leaves=31, xgb__learning_rate=0.1, xgb__max_depth=4, xgb__n_estimators=500; total time= 2.3min\n"
     ]
    },
    {
     "name": "stderr",
     "output_type": "stream",
     "text": [
      "c:\\Users\\tjddl\\AppData\\Local\\Programs\\Python\\Python310\\lib\\site-packages\\xgboost\\core.py:158: UserWarning: [02:50:00] WARNING: C:\\buildkite-agent\\builds\\buildkite-windows-cpu-autoscaling-group-i-08cbc0333d8d4aae1-1\\xgboost\\xgboost-ci-windows\\src\\common\\error_msg.cc:27: The tree method `gpu_hist` is deprecated since 2.0.0. To use GPU training, set the `device` parameter to CUDA instead.\n",
      "\n",
      "    E.g. tree_method = \"hist\", device = \"cuda\"\n",
      "\n",
      "  warnings.warn(smsg, UserWarning)\n"
     ]
    },
    {
     "name": "stdout",
     "output_type": "stream",
     "text": [
      "[CV] END cat__depth=4, cat__iterations=100, cat__learning_rate=0.025, final_estimator__lr__C=0.1, lgbm__learning_rate=0.1, lgbm__min_child_samples=20, lgbm__n_estimators=500, lgbm__num_leaves=31, xgb__learning_rate=0.05, xgb__max_depth=5, xgb__n_estimators=400; total time=  28.0s\n"
     ]
    },
    {
     "name": "stderr",
     "output_type": "stream",
     "text": [
      "c:\\Users\\tjddl\\AppData\\Local\\Programs\\Python\\Python310\\lib\\site-packages\\xgboost\\core.py:158: UserWarning: [02:50:26] WARNING: C:\\buildkite-agent\\builds\\buildkite-windows-cpu-autoscaling-group-i-08cbc0333d8d4aae1-1\\xgboost\\xgboost-ci-windows\\src\\common\\error_msg.cc:27: The tree method `gpu_hist` is deprecated since 2.0.0. To use GPU training, set the `device` parameter to CUDA instead.\n",
      "\n",
      "    E.g. tree_method = \"hist\", device = \"cuda\"\n",
      "\n",
      "  warnings.warn(smsg, UserWarning)\n"
     ]
    },
    {
     "name": "stdout",
     "output_type": "stream",
     "text": [
      "[CV] END cat__depth=4, cat__iterations=100, cat__learning_rate=0.025, final_estimator__lr__C=0.1, lgbm__learning_rate=0.1, lgbm__min_child_samples=20, lgbm__n_estimators=500, lgbm__num_leaves=31, xgb__learning_rate=0.05, xgb__max_depth=5, xgb__n_estimators=400; total time=  25.5s\n"
     ]
    },
    {
     "name": "stderr",
     "output_type": "stream",
     "text": [
      "c:\\Users\\tjddl\\AppData\\Local\\Programs\\Python\\Python310\\lib\\site-packages\\xgboost\\core.py:158: UserWarning: [02:50:57] WARNING: C:\\buildkite-agent\\builds\\buildkite-windows-cpu-autoscaling-group-i-08cbc0333d8d4aae1-1\\xgboost\\xgboost-ci-windows\\src\\common\\error_msg.cc:27: The tree method `gpu_hist` is deprecated since 2.0.0. To use GPU training, set the `device` parameter to CUDA instead.\n",
      "\n",
      "    E.g. tree_method = \"hist\", device = \"cuda\"\n",
      "\n",
      "  warnings.warn(smsg, UserWarning)\n"
     ]
    },
    {
     "name": "stdout",
     "output_type": "stream",
     "text": [
      "[CV] END cat__depth=4, cat__iterations=100, cat__learning_rate=0.025, final_estimator__lr__C=0.1, lgbm__learning_rate=0.1, lgbm__min_child_samples=20, lgbm__n_estimators=500, lgbm__num_leaves=31, xgb__learning_rate=0.05, xgb__max_depth=5, xgb__n_estimators=400; total time=  31.3s\n"
     ]
    },
    {
     "name": "stderr",
     "output_type": "stream",
     "text": [
      "c:\\Users\\tjddl\\AppData\\Local\\Programs\\Python\\Python310\\lib\\site-packages\\xgboost\\core.py:158: UserWarning: [02:53:23] WARNING: C:\\buildkite-agent\\builds\\buildkite-windows-cpu-autoscaling-group-i-08cbc0333d8d4aae1-1\\xgboost\\xgboost-ci-windows\\src\\common\\error_msg.cc:27: The tree method `gpu_hist` is deprecated since 2.0.0. To use GPU training, set the `device` parameter to CUDA instead.\n",
      "\n",
      "    E.g. tree_method = \"hist\", device = \"cuda\"\n",
      "\n",
      "  warnings.warn(smsg, UserWarning)\n"
     ]
    },
    {
     "name": "stdout",
     "output_type": "stream",
     "text": [
      "[CV] END cat__depth=5, cat__iterations=500, cat__learning_rate=0.025, final_estimator__lr__C=1.0, lgbm__learning_rate=0.05, lgbm__min_child_samples=20, lgbm__n_estimators=500, lgbm__num_leaves=31, xgb__learning_rate=0.05, xgb__max_depth=4, xgb__n_estimators=500; total time= 2.4min\n"
     ]
    },
    {
     "name": "stderr",
     "output_type": "stream",
     "text": [
      "c:\\Users\\tjddl\\AppData\\Local\\Programs\\Python\\Python310\\lib\\site-packages\\xgboost\\core.py:158: UserWarning: [02:55:32] WARNING: C:\\buildkite-agent\\builds\\buildkite-windows-cpu-autoscaling-group-i-08cbc0333d8d4aae1-1\\xgboost\\xgboost-ci-windows\\src\\common\\error_msg.cc:27: The tree method `gpu_hist` is deprecated since 2.0.0. To use GPU training, set the `device` parameter to CUDA instead.\n",
      "\n",
      "    E.g. tree_method = \"hist\", device = \"cuda\"\n",
      "\n",
      "  warnings.warn(smsg, UserWarning)\n"
     ]
    },
    {
     "name": "stdout",
     "output_type": "stream",
     "text": [
      "[CV] END cat__depth=5, cat__iterations=500, cat__learning_rate=0.025, final_estimator__lr__C=1.0, lgbm__learning_rate=0.05, lgbm__min_child_samples=20, lgbm__n_estimators=500, lgbm__num_leaves=31, xgb__learning_rate=0.05, xgb__max_depth=4, xgb__n_estimators=500; total time= 2.1min\n"
     ]
    },
    {
     "name": "stderr",
     "output_type": "stream",
     "text": [
      "c:\\Users\\tjddl\\AppData\\Local\\Programs\\Python\\Python310\\lib\\site-packages\\xgboost\\core.py:158: UserWarning: [02:57:26] WARNING: C:\\buildkite-agent\\builds\\buildkite-windows-cpu-autoscaling-group-i-08cbc0333d8d4aae1-1\\xgboost\\xgboost-ci-windows\\src\\common\\error_msg.cc:27: The tree method `gpu_hist` is deprecated since 2.0.0. To use GPU training, set the `device` parameter to CUDA instead.\n",
      "\n",
      "    E.g. tree_method = \"hist\", device = \"cuda\"\n",
      "\n",
      "  warnings.warn(smsg, UserWarning)\n"
     ]
    },
    {
     "name": "stdout",
     "output_type": "stream",
     "text": [
      "[CV] END cat__depth=5, cat__iterations=500, cat__learning_rate=0.025, final_estimator__lr__C=1.0, lgbm__learning_rate=0.05, lgbm__min_child_samples=20, lgbm__n_estimators=500, lgbm__num_leaves=31, xgb__learning_rate=0.05, xgb__max_depth=4, xgb__n_estimators=500; total time= 1.9min\n"
     ]
    },
    {
     "name": "stderr",
     "output_type": "stream",
     "text": [
      "c:\\Users\\tjddl\\AppData\\Local\\Programs\\Python\\Python310\\lib\\site-packages\\xgboost\\core.py:158: UserWarning: [02:59:24] WARNING: C:\\buildkite-agent\\builds\\buildkite-windows-cpu-autoscaling-group-i-08cbc0333d8d4aae1-1\\xgboost\\xgboost-ci-windows\\src\\common\\error_msg.cc:27: The tree method `gpu_hist` is deprecated since 2.0.0. To use GPU training, set the `device` parameter to CUDA instead.\n",
      "\n",
      "    E.g. tree_method = \"hist\", device = \"cuda\"\n",
      "\n",
      "  warnings.warn(smsg, UserWarning)\n"
     ]
    },
    {
     "name": "stdout",
     "output_type": "stream",
     "text": [
      "[CV] END cat__depth=5, cat__iterations=500, cat__learning_rate=0.05, final_estimator__lr__C=0.1, lgbm__learning_rate=0.1, lgbm__min_child_samples=20, lgbm__n_estimators=400, lgbm__num_leaves=63, xgb__learning_rate=0.1, xgb__max_depth=4, xgb__n_estimators=300; total time= 2.0min\n"
     ]
    },
    {
     "name": "stderr",
     "output_type": "stream",
     "text": [
      "c:\\Users\\tjddl\\AppData\\Local\\Programs\\Python\\Python310\\lib\\site-packages\\xgboost\\core.py:158: UserWarning: [03:01:25] WARNING: C:\\buildkite-agent\\builds\\buildkite-windows-cpu-autoscaling-group-i-08cbc0333d8d4aae1-1\\xgboost\\xgboost-ci-windows\\src\\common\\error_msg.cc:27: The tree method `gpu_hist` is deprecated since 2.0.0. To use GPU training, set the `device` parameter to CUDA instead.\n",
      "\n",
      "    E.g. tree_method = \"hist\", device = \"cuda\"\n",
      "\n",
      "  warnings.warn(smsg, UserWarning)\n"
     ]
    },
    {
     "name": "stdout",
     "output_type": "stream",
     "text": [
      "[CV] END cat__depth=5, cat__iterations=500, cat__learning_rate=0.05, final_estimator__lr__C=0.1, lgbm__learning_rate=0.1, lgbm__min_child_samples=20, lgbm__n_estimators=400, lgbm__num_leaves=63, xgb__learning_rate=0.1, xgb__max_depth=4, xgb__n_estimators=300; total time= 2.0min\n"
     ]
    },
    {
     "name": "stderr",
     "output_type": "stream",
     "text": [
      "c:\\Users\\tjddl\\AppData\\Local\\Programs\\Python\\Python310\\lib\\site-packages\\xgboost\\core.py:158: UserWarning: [03:03:32] WARNING: C:\\buildkite-agent\\builds\\buildkite-windows-cpu-autoscaling-group-i-08cbc0333d8d4aae1-1\\xgboost\\xgboost-ci-windows\\src\\common\\error_msg.cc:27: The tree method `gpu_hist` is deprecated since 2.0.0. To use GPU training, set the `device` parameter to CUDA instead.\n",
      "\n",
      "    E.g. tree_method = \"hist\", device = \"cuda\"\n",
      "\n",
      "  warnings.warn(smsg, UserWarning)\n"
     ]
    },
    {
     "name": "stdout",
     "output_type": "stream",
     "text": [
      "[CV] END cat__depth=5, cat__iterations=500, cat__learning_rate=0.05, final_estimator__lr__C=0.1, lgbm__learning_rate=0.1, lgbm__min_child_samples=20, lgbm__n_estimators=400, lgbm__num_leaves=63, xgb__learning_rate=0.1, xgb__max_depth=4, xgb__n_estimators=300; total time= 2.1min\n"
     ]
    },
    {
     "name": "stderr",
     "output_type": "stream",
     "text": [
      "c:\\Users\\tjddl\\AppData\\Local\\Programs\\Python\\Python310\\lib\\site-packages\\xgboost\\core.py:158: UserWarning: [03:05:38] WARNING: C:\\buildkite-agent\\builds\\buildkite-windows-cpu-autoscaling-group-i-08cbc0333d8d4aae1-1\\xgboost\\xgboost-ci-windows\\src\\common\\error_msg.cc:27: The tree method `gpu_hist` is deprecated since 2.0.0. To use GPU training, set the `device` parameter to CUDA instead.\n",
      "\n",
      "    E.g. tree_method = \"hist\", device = \"cuda\"\n",
      "\n",
      "  warnings.warn(smsg, UserWarning)\n"
     ]
    },
    {
     "name": "stdout",
     "output_type": "stream",
     "text": [
      "[CV] END cat__depth=5, cat__iterations=500, cat__learning_rate=0.05, final_estimator__lr__C=5.0, lgbm__learning_rate=0.1, lgbm__min_child_samples=20, lgbm__n_estimators=500, lgbm__num_leaves=31, xgb__learning_rate=0.05, xgb__max_depth=6, xgb__n_estimators=500; total time= 2.1min\n"
     ]
    },
    {
     "name": "stderr",
     "output_type": "stream",
     "text": [
      "c:\\Users\\tjddl\\AppData\\Local\\Programs\\Python\\Python310\\lib\\site-packages\\xgboost\\core.py:158: UserWarning: [03:07:39] WARNING: C:\\buildkite-agent\\builds\\buildkite-windows-cpu-autoscaling-group-i-08cbc0333d8d4aae1-1\\xgboost\\xgboost-ci-windows\\src\\common\\error_msg.cc:27: The tree method `gpu_hist` is deprecated since 2.0.0. To use GPU training, set the `device` parameter to CUDA instead.\n",
      "\n",
      "    E.g. tree_method = \"hist\", device = \"cuda\"\n",
      "\n",
      "  warnings.warn(smsg, UserWarning)\n"
     ]
    },
    {
     "name": "stdout",
     "output_type": "stream",
     "text": [
      "[CV] END cat__depth=5, cat__iterations=500, cat__learning_rate=0.05, final_estimator__lr__C=5.0, lgbm__learning_rate=0.1, lgbm__min_child_samples=20, lgbm__n_estimators=500, lgbm__num_leaves=31, xgb__learning_rate=0.05, xgb__max_depth=6, xgb__n_estimators=500; total time= 2.0min\n"
     ]
    },
    {
     "name": "stderr",
     "output_type": "stream",
     "text": [
      "c:\\Users\\tjddl\\AppData\\Local\\Programs\\Python\\Python310\\lib\\site-packages\\xgboost\\core.py:158: UserWarning: [03:09:45] WARNING: C:\\buildkite-agent\\builds\\buildkite-windows-cpu-autoscaling-group-i-08cbc0333d8d4aae1-1\\xgboost\\xgboost-ci-windows\\src\\common\\error_msg.cc:27: The tree method `gpu_hist` is deprecated since 2.0.0. To use GPU training, set the `device` parameter to CUDA instead.\n",
      "\n",
      "    E.g. tree_method = \"hist\", device = \"cuda\"\n",
      "\n",
      "  warnings.warn(smsg, UserWarning)\n"
     ]
    },
    {
     "name": "stdout",
     "output_type": "stream",
     "text": [
      "[CV] END cat__depth=5, cat__iterations=500, cat__learning_rate=0.05, final_estimator__lr__C=5.0, lgbm__learning_rate=0.1, lgbm__min_child_samples=20, lgbm__n_estimators=500, lgbm__num_leaves=31, xgb__learning_rate=0.05, xgb__max_depth=6, xgb__n_estimators=500; total time= 2.1min\n"
     ]
    },
    {
     "name": "stderr",
     "output_type": "stream",
     "text": [
      "c:\\Users\\tjddl\\AppData\\Local\\Programs\\Python\\Python310\\lib\\site-packages\\xgboost\\core.py:158: UserWarning: [03:11:47] WARNING: C:\\buildkite-agent\\builds\\buildkite-windows-cpu-autoscaling-group-i-08cbc0333d8d4aae1-1\\xgboost\\xgboost-ci-windows\\src\\common\\error_msg.cc:27: The tree method `gpu_hist` is deprecated since 2.0.0. To use GPU training, set the `device` parameter to CUDA instead.\n",
      "\n",
      "    E.g. tree_method = \"hist\", device = \"cuda\"\n",
      "\n",
      "  warnings.warn(smsg, UserWarning)\n"
     ]
    },
    {
     "name": "stdout",
     "output_type": "stream",
     "text": [
      "[CV] END cat__depth=5, cat__iterations=500, cat__learning_rate=0.1, final_estimator__lr__C=1.0, lgbm__learning_rate=0.1, lgbm__min_child_samples=50, lgbm__n_estimators=400, lgbm__num_leaves=63, xgb__learning_rate=0.05, xgb__max_depth=4, xgb__n_estimators=400; total time= 2.0min\n"
     ]
    },
    {
     "name": "stderr",
     "output_type": "stream",
     "text": [
      "c:\\Users\\tjddl\\AppData\\Local\\Programs\\Python\\Python310\\lib\\site-packages\\xgboost\\core.py:158: UserWarning: [03:13:44] WARNING: C:\\buildkite-agent\\builds\\buildkite-windows-cpu-autoscaling-group-i-08cbc0333d8d4aae1-1\\xgboost\\xgboost-ci-windows\\src\\common\\error_msg.cc:27: The tree method `gpu_hist` is deprecated since 2.0.0. To use GPU training, set the `device` parameter to CUDA instead.\n",
      "\n",
      "    E.g. tree_method = \"hist\", device = \"cuda\"\n",
      "\n",
      "  warnings.warn(smsg, UserWarning)\n"
     ]
    },
    {
     "name": "stdout",
     "output_type": "stream",
     "text": [
      "[CV] END cat__depth=5, cat__iterations=500, cat__learning_rate=0.1, final_estimator__lr__C=1.0, lgbm__learning_rate=0.1, lgbm__min_child_samples=50, lgbm__n_estimators=400, lgbm__num_leaves=63, xgb__learning_rate=0.05, xgb__max_depth=4, xgb__n_estimators=400; total time= 1.9min\n"
     ]
    },
    {
     "name": "stderr",
     "output_type": "stream",
     "text": [
      "c:\\Users\\tjddl\\AppData\\Local\\Programs\\Python\\Python310\\lib\\site-packages\\xgboost\\core.py:158: UserWarning: [03:15:47] WARNING: C:\\buildkite-agent\\builds\\buildkite-windows-cpu-autoscaling-group-i-08cbc0333d8d4aae1-1\\xgboost\\xgboost-ci-windows\\src\\common\\error_msg.cc:27: The tree method `gpu_hist` is deprecated since 2.0.0. To use GPU training, set the `device` parameter to CUDA instead.\n",
      "\n",
      "    E.g. tree_method = \"hist\", device = \"cuda\"\n",
      "\n",
      "  warnings.warn(smsg, UserWarning)\n"
     ]
    },
    {
     "name": "stdout",
     "output_type": "stream",
     "text": [
      "[CV] END cat__depth=5, cat__iterations=500, cat__learning_rate=0.1, final_estimator__lr__C=1.0, lgbm__learning_rate=0.1, lgbm__min_child_samples=50, lgbm__n_estimators=400, lgbm__num_leaves=63, xgb__learning_rate=0.05, xgb__max_depth=4, xgb__n_estimators=400; total time= 2.1min\n"
     ]
    },
    {
     "name": "stderr",
     "output_type": "stream",
     "text": [
      "c:\\Users\\tjddl\\AppData\\Local\\Programs\\Python\\Python310\\lib\\site-packages\\xgboost\\core.py:158: UserWarning: [03:16:12] WARNING: C:\\buildkite-agent\\builds\\buildkite-windows-cpu-autoscaling-group-i-08cbc0333d8d4aae1-1\\xgboost\\xgboost-ci-windows\\src\\common\\error_msg.cc:27: The tree method `gpu_hist` is deprecated since 2.0.0. To use GPU training, set the `device` parameter to CUDA instead.\n",
      "\n",
      "    E.g. tree_method = \"hist\", device = \"cuda\"\n",
      "\n",
      "  warnings.warn(smsg, UserWarning)\n"
     ]
    },
    {
     "name": "stdout",
     "output_type": "stream",
     "text": [
      "[CV] END cat__depth=4, cat__iterations=100, cat__learning_rate=0.05, final_estimator__lr__C=1.0, lgbm__learning_rate=0.05, lgbm__min_child_samples=20, lgbm__n_estimators=500, lgbm__num_leaves=31, xgb__learning_rate=0.1, xgb__max_depth=4, xgb__n_estimators=400; total time=  24.1s\n"
     ]
    },
    {
     "name": "stderr",
     "output_type": "stream",
     "text": [
      "c:\\Users\\tjddl\\AppData\\Local\\Programs\\Python\\Python310\\lib\\site-packages\\xgboost\\core.py:158: UserWarning: [03:16:33] WARNING: C:\\buildkite-agent\\builds\\buildkite-windows-cpu-autoscaling-group-i-08cbc0333d8d4aae1-1\\xgboost\\xgboost-ci-windows\\src\\common\\error_msg.cc:27: The tree method `gpu_hist` is deprecated since 2.0.0. To use GPU training, set the `device` parameter to CUDA instead.\n",
      "\n",
      "    E.g. tree_method = \"hist\", device = \"cuda\"\n",
      "\n",
      "  warnings.warn(smsg, UserWarning)\n"
     ]
    },
    {
     "name": "stdout",
     "output_type": "stream",
     "text": [
      "[CV] END cat__depth=4, cat__iterations=100, cat__learning_rate=0.05, final_estimator__lr__C=1.0, lgbm__learning_rate=0.05, lgbm__min_child_samples=20, lgbm__n_estimators=500, lgbm__num_leaves=31, xgb__learning_rate=0.1, xgb__max_depth=4, xgb__n_estimators=400; total time=  21.6s\n"
     ]
    },
    {
     "name": "stderr",
     "output_type": "stream",
     "text": [
      "c:\\Users\\tjddl\\AppData\\Local\\Programs\\Python\\Python310\\lib\\site-packages\\xgboost\\core.py:158: UserWarning: [03:16:55] WARNING: C:\\buildkite-agent\\builds\\buildkite-windows-cpu-autoscaling-group-i-08cbc0333d8d4aae1-1\\xgboost\\xgboost-ci-windows\\src\\common\\error_msg.cc:27: The tree method `gpu_hist` is deprecated since 2.0.0. To use GPU training, set the `device` parameter to CUDA instead.\n",
      "\n",
      "    E.g. tree_method = \"hist\", device = \"cuda\"\n",
      "\n",
      "  warnings.warn(smsg, UserWarning)\n"
     ]
    },
    {
     "name": "stdout",
     "output_type": "stream",
     "text": [
      "[CV] END cat__depth=4, cat__iterations=100, cat__learning_rate=0.05, final_estimator__lr__C=1.0, lgbm__learning_rate=0.05, lgbm__min_child_samples=20, lgbm__n_estimators=500, lgbm__num_leaves=31, xgb__learning_rate=0.1, xgb__max_depth=4, xgb__n_estimators=400; total time=  21.8s\n"
     ]
    },
    {
     "name": "stderr",
     "output_type": "stream",
     "text": [
      "c:\\Users\\tjddl\\AppData\\Local\\Programs\\Python\\Python310\\lib\\site-packages\\xgboost\\core.py:158: UserWarning: [03:19:15] WARNING: C:\\buildkite-agent\\builds\\buildkite-windows-cpu-autoscaling-group-i-08cbc0333d8d4aae1-1\\xgboost\\xgboost-ci-windows\\src\\common\\error_msg.cc:27: The tree method `gpu_hist` is deprecated since 2.0.0. To use GPU training, set the `device` parameter to CUDA instead.\n",
      "\n",
      "    E.g. tree_method = \"hist\", device = \"cuda\"\n",
      "\n",
      "  warnings.warn(smsg, UserWarning)\n"
     ]
    },
    {
     "name": "stdout",
     "output_type": "stream",
     "text": [
      "[CV] END cat__depth=6, cat__iterations=500, cat__learning_rate=0.1, final_estimator__lr__C=5.0, lgbm__learning_rate=0.025, lgbm__min_child_samples=50, lgbm__n_estimators=500, lgbm__num_leaves=63, xgb__learning_rate=0.1, xgb__max_depth=6, xgb__n_estimators=500; total time= 2.3min\n"
     ]
    },
    {
     "name": "stderr",
     "output_type": "stream",
     "text": [
      "c:\\Users\\tjddl\\AppData\\Local\\Programs\\Python\\Python310\\lib\\site-packages\\xgboost\\core.py:158: UserWarning: [03:21:38] WARNING: C:\\buildkite-agent\\builds\\buildkite-windows-cpu-autoscaling-group-i-08cbc0333d8d4aae1-1\\xgboost\\xgboost-ci-windows\\src\\common\\error_msg.cc:27: The tree method `gpu_hist` is deprecated since 2.0.0. To use GPU training, set the `device` parameter to CUDA instead.\n",
      "\n",
      "    E.g. tree_method = \"hist\", device = \"cuda\"\n",
      "\n",
      "  warnings.warn(smsg, UserWarning)\n"
     ]
    },
    {
     "name": "stdout",
     "output_type": "stream",
     "text": [
      "[CV] END cat__depth=6, cat__iterations=500, cat__learning_rate=0.1, final_estimator__lr__C=5.0, lgbm__learning_rate=0.025, lgbm__min_child_samples=50, lgbm__n_estimators=500, lgbm__num_leaves=63, xgb__learning_rate=0.1, xgb__max_depth=6, xgb__n_estimators=500; total time= 2.4min\n"
     ]
    },
    {
     "name": "stderr",
     "output_type": "stream",
     "text": [
      "c:\\Users\\tjddl\\AppData\\Local\\Programs\\Python\\Python310\\lib\\site-packages\\xgboost\\core.py:158: UserWarning: [03:24:11] WARNING: C:\\buildkite-agent\\builds\\buildkite-windows-cpu-autoscaling-group-i-08cbc0333d8d4aae1-1\\xgboost\\xgboost-ci-windows\\src\\common\\error_msg.cc:27: The tree method `gpu_hist` is deprecated since 2.0.0. To use GPU training, set the `device` parameter to CUDA instead.\n",
      "\n",
      "    E.g. tree_method = \"hist\", device = \"cuda\"\n",
      "\n",
      "  warnings.warn(smsg, UserWarning)\n"
     ]
    },
    {
     "name": "stdout",
     "output_type": "stream",
     "text": [
      "[CV] END cat__depth=6, cat__iterations=500, cat__learning_rate=0.1, final_estimator__lr__C=5.0, lgbm__learning_rate=0.025, lgbm__min_child_samples=50, lgbm__n_estimators=500, lgbm__num_leaves=63, xgb__learning_rate=0.1, xgb__max_depth=6, xgb__n_estimators=500; total time= 2.6min\n"
     ]
    },
    {
     "name": "stderr",
     "output_type": "stream",
     "text": [
      "c:\\Users\\tjddl\\AppData\\Local\\Programs\\Python\\Python310\\lib\\site-packages\\xgboost\\core.py:158: UserWarning: [03:26:31] WARNING: C:\\buildkite-agent\\builds\\buildkite-windows-cpu-autoscaling-group-i-08cbc0333d8d4aae1-1\\xgboost\\xgboost-ci-windows\\src\\common\\error_msg.cc:27: The tree method `gpu_hist` is deprecated since 2.0.0. To use GPU training, set the `device` parameter to CUDA instead.\n",
      "\n",
      "    E.g. tree_method = \"hist\", device = \"cuda\"\n",
      "\n",
      "  warnings.warn(smsg, UserWarning)\n"
     ]
    },
    {
     "name": "stdout",
     "output_type": "stream",
     "text": [
      "[CV] END cat__depth=6, cat__iterations=500, cat__learning_rate=0.1, final_estimator__lr__C=10.0, lgbm__learning_rate=0.1, lgbm__min_child_samples=20, lgbm__n_estimators=400, lgbm__num_leaves=31, xgb__learning_rate=0.1, xgb__max_depth=4, xgb__n_estimators=300; total time= 2.3min\n"
     ]
    },
    {
     "name": "stderr",
     "output_type": "stream",
     "text": [
      "c:\\Users\\tjddl\\AppData\\Local\\Programs\\Python\\Python310\\lib\\site-packages\\xgboost\\core.py:158: UserWarning: [03:29:00] WARNING: C:\\buildkite-agent\\builds\\buildkite-windows-cpu-autoscaling-group-i-08cbc0333d8d4aae1-1\\xgboost\\xgboost-ci-windows\\src\\common\\error_msg.cc:27: The tree method `gpu_hist` is deprecated since 2.0.0. To use GPU training, set the `device` parameter to CUDA instead.\n",
      "\n",
      "    E.g. tree_method = \"hist\", device = \"cuda\"\n",
      "\n",
      "  warnings.warn(smsg, UserWarning)\n"
     ]
    },
    {
     "name": "stdout",
     "output_type": "stream",
     "text": [
      "[CV] END cat__depth=6, cat__iterations=500, cat__learning_rate=0.1, final_estimator__lr__C=10.0, lgbm__learning_rate=0.1, lgbm__min_child_samples=20, lgbm__n_estimators=400, lgbm__num_leaves=31, xgb__learning_rate=0.1, xgb__max_depth=4, xgb__n_estimators=300; total time= 2.5min\n"
     ]
    },
    {
     "name": "stderr",
     "output_type": "stream",
     "text": [
      "c:\\Users\\tjddl\\AppData\\Local\\Programs\\Python\\Python310\\lib\\site-packages\\xgboost\\core.py:158: UserWarning: [03:31:12] WARNING: C:\\buildkite-agent\\builds\\buildkite-windows-cpu-autoscaling-group-i-08cbc0333d8d4aae1-1\\xgboost\\xgboost-ci-windows\\src\\common\\error_msg.cc:27: The tree method `gpu_hist` is deprecated since 2.0.0. To use GPU training, set the `device` parameter to CUDA instead.\n",
      "\n",
      "    E.g. tree_method = \"hist\", device = \"cuda\"\n",
      "\n",
      "  warnings.warn(smsg, UserWarning)\n"
     ]
    },
    {
     "name": "stdout",
     "output_type": "stream",
     "text": [
      "[CV] END cat__depth=6, cat__iterations=500, cat__learning_rate=0.1, final_estimator__lr__C=10.0, lgbm__learning_rate=0.1, lgbm__min_child_samples=20, lgbm__n_estimators=400, lgbm__num_leaves=31, xgb__learning_rate=0.1, xgb__max_depth=4, xgb__n_estimators=300; total time= 2.2min\n"
     ]
    },
    {
     "name": "stderr",
     "output_type": "stream",
     "text": [
      "c:\\Users\\tjddl\\AppData\\Local\\Programs\\Python\\Python310\\lib\\site-packages\\xgboost\\core.py:158: UserWarning: [03:32:48] WARNING: C:\\buildkite-agent\\builds\\buildkite-windows-cpu-autoscaling-group-i-08cbc0333d8d4aae1-1\\xgboost\\xgboost-ci-windows\\src\\common\\error_msg.cc:27: The tree method `gpu_hist` is deprecated since 2.0.0. To use GPU training, set the `device` parameter to CUDA instead.\n",
      "\n",
      "    E.g. tree_method = \"hist\", device = \"cuda\"\n",
      "\n",
      "  warnings.warn(smsg, UserWarning)\n"
     ]
    },
    {
     "name": "stdout",
     "output_type": "stream",
     "text": [
      "[CV] END cat__depth=6, cat__iterations=300, cat__learning_rate=0.025, final_estimator__lr__C=1.0, lgbm__learning_rate=0.05, lgbm__min_child_samples=20, lgbm__n_estimators=500, lgbm__num_leaves=63, xgb__learning_rate=0.1, xgb__max_depth=6, xgb__n_estimators=400; total time= 1.6min\n"
     ]
    },
    {
     "name": "stderr",
     "output_type": "stream",
     "text": [
      "c:\\Users\\tjddl\\AppData\\Local\\Programs\\Python\\Python310\\lib\\site-packages\\xgboost\\core.py:158: UserWarning: [03:34:13] WARNING: C:\\buildkite-agent\\builds\\buildkite-windows-cpu-autoscaling-group-i-08cbc0333d8d4aae1-1\\xgboost\\xgboost-ci-windows\\src\\common\\error_msg.cc:27: The tree method `gpu_hist` is deprecated since 2.0.0. To use GPU training, set the `device` parameter to CUDA instead.\n",
      "\n",
      "    E.g. tree_method = \"hist\", device = \"cuda\"\n",
      "\n",
      "  warnings.warn(smsg, UserWarning)\n"
     ]
    },
    {
     "name": "stdout",
     "output_type": "stream",
     "text": [
      "[CV] END cat__depth=6, cat__iterations=300, cat__learning_rate=0.025, final_estimator__lr__C=1.0, lgbm__learning_rate=0.05, lgbm__min_child_samples=20, lgbm__n_estimators=500, lgbm__num_leaves=63, xgb__learning_rate=0.1, xgb__max_depth=6, xgb__n_estimators=400; total time= 1.4min\n"
     ]
    },
    {
     "name": "stderr",
     "output_type": "stream",
     "text": [
      "c:\\Users\\tjddl\\AppData\\Local\\Programs\\Python\\Python310\\lib\\site-packages\\xgboost\\core.py:158: UserWarning: [03:35:41] WARNING: C:\\buildkite-agent\\builds\\buildkite-windows-cpu-autoscaling-group-i-08cbc0333d8d4aae1-1\\xgboost\\xgboost-ci-windows\\src\\common\\error_msg.cc:27: The tree method `gpu_hist` is deprecated since 2.0.0. To use GPU training, set the `device` parameter to CUDA instead.\n",
      "\n",
      "    E.g. tree_method = \"hist\", device = \"cuda\"\n",
      "\n",
      "  warnings.warn(smsg, UserWarning)\n"
     ]
    },
    {
     "name": "stdout",
     "output_type": "stream",
     "text": [
      "[CV] END cat__depth=6, cat__iterations=300, cat__learning_rate=0.025, final_estimator__lr__C=1.0, lgbm__learning_rate=0.05, lgbm__min_child_samples=20, lgbm__n_estimators=500, lgbm__num_leaves=63, xgb__learning_rate=0.1, xgb__max_depth=6, xgb__n_estimators=400; total time= 1.5min\n"
     ]
    },
    {
     "name": "stderr",
     "output_type": "stream",
     "text": [
      "c:\\Users\\tjddl\\AppData\\Local\\Programs\\Python\\Python310\\lib\\site-packages\\xgboost\\core.py:158: UserWarning: [03:36:56] WARNING: C:\\buildkite-agent\\builds\\buildkite-windows-cpu-autoscaling-group-i-08cbc0333d8d4aae1-1\\xgboost\\xgboost-ci-windows\\src\\common\\error_msg.cc:27: The tree method `gpu_hist` is deprecated since 2.0.0. To use GPU training, set the `device` parameter to CUDA instead.\n",
      "\n",
      "    E.g. tree_method = \"hist\", device = \"cuda\"\n",
      "\n",
      "  warnings.warn(smsg, UserWarning)\n"
     ]
    },
    {
     "name": "stdout",
     "output_type": "stream",
     "text": [
      "[CV] END cat__depth=5, cat__iterations=300, cat__learning_rate=0.05, final_estimator__lr__C=10.0, lgbm__learning_rate=0.025, lgbm__min_child_samples=50, lgbm__n_estimators=400, lgbm__num_leaves=63, xgb__learning_rate=0.025, xgb__max_depth=5, xgb__n_estimators=400; total time= 1.2min\n"
     ]
    },
    {
     "name": "stderr",
     "output_type": "stream",
     "text": [
      "c:\\Users\\tjddl\\AppData\\Local\\Programs\\Python\\Python310\\lib\\site-packages\\xgboost\\core.py:158: UserWarning: [03:38:13] WARNING: C:\\buildkite-agent\\builds\\buildkite-windows-cpu-autoscaling-group-i-08cbc0333d8d4aae1-1\\xgboost\\xgboost-ci-windows\\src\\common\\error_msg.cc:27: The tree method `gpu_hist` is deprecated since 2.0.0. To use GPU training, set the `device` parameter to CUDA instead.\n",
      "\n",
      "    E.g. tree_method = \"hist\", device = \"cuda\"\n",
      "\n",
      "  warnings.warn(smsg, UserWarning)\n"
     ]
    },
    {
     "name": "stdout",
     "output_type": "stream",
     "text": [
      "[CV] END cat__depth=5, cat__iterations=300, cat__learning_rate=0.05, final_estimator__lr__C=10.0, lgbm__learning_rate=0.025, lgbm__min_child_samples=50, lgbm__n_estimators=400, lgbm__num_leaves=63, xgb__learning_rate=0.025, xgb__max_depth=5, xgb__n_estimators=400; total time= 1.3min\n"
     ]
    },
    {
     "name": "stderr",
     "output_type": "stream",
     "text": [
      "c:\\Users\\tjddl\\AppData\\Local\\Programs\\Python\\Python310\\lib\\site-packages\\xgboost\\core.py:158: UserWarning: [03:39:37] WARNING: C:\\buildkite-agent\\builds\\buildkite-windows-cpu-autoscaling-group-i-08cbc0333d8d4aae1-1\\xgboost\\xgboost-ci-windows\\src\\common\\error_msg.cc:27: The tree method `gpu_hist` is deprecated since 2.0.0. To use GPU training, set the `device` parameter to CUDA instead.\n",
      "\n",
      "    E.g. tree_method = \"hist\", device = \"cuda\"\n",
      "\n",
      "  warnings.warn(smsg, UserWarning)\n"
     ]
    },
    {
     "name": "stdout",
     "output_type": "stream",
     "text": [
      "[CV] END cat__depth=5, cat__iterations=300, cat__learning_rate=0.05, final_estimator__lr__C=10.0, lgbm__learning_rate=0.025, lgbm__min_child_samples=50, lgbm__n_estimators=400, lgbm__num_leaves=63, xgb__learning_rate=0.025, xgb__max_depth=5, xgb__n_estimators=400; total time= 1.4min\n"
     ]
    },
    {
     "name": "stderr",
     "output_type": "stream",
     "text": [
      "c:\\Users\\tjddl\\AppData\\Local\\Programs\\Python\\Python310\\lib\\site-packages\\xgboost\\core.py:158: UserWarning: [03:41:06] WARNING: C:\\buildkite-agent\\builds\\buildkite-windows-cpu-autoscaling-group-i-08cbc0333d8d4aae1-1\\xgboost\\xgboost-ci-windows\\src\\common\\error_msg.cc:27: The tree method `gpu_hist` is deprecated since 2.0.0. To use GPU training, set the `device` parameter to CUDA instead.\n",
      "\n",
      "    E.g. tree_method = \"hist\", device = \"cuda\"\n",
      "\n",
      "  warnings.warn(smsg, UserWarning)\n"
     ]
    },
    {
     "name": "stdout",
     "output_type": "stream",
     "text": [
      "[CV] END cat__depth=6, cat__iterations=300, cat__learning_rate=0.025, final_estimator__lr__C=10.0, lgbm__learning_rate=0.1, lgbm__min_child_samples=20, lgbm__n_estimators=400, lgbm__num_leaves=63, xgb__learning_rate=0.05, xgb__max_depth=5, xgb__n_estimators=300; total time= 1.5min\n"
     ]
    },
    {
     "name": "stderr",
     "output_type": "stream",
     "text": [
      "c:\\Users\\tjddl\\AppData\\Local\\Programs\\Python\\Python310\\lib\\site-packages\\xgboost\\core.py:158: UserWarning: [03:42:31] WARNING: C:\\buildkite-agent\\builds\\buildkite-windows-cpu-autoscaling-group-i-08cbc0333d8d4aae1-1\\xgboost\\xgboost-ci-windows\\src\\common\\error_msg.cc:27: The tree method `gpu_hist` is deprecated since 2.0.0. To use GPU training, set the `device` parameter to CUDA instead.\n",
      "\n",
      "    E.g. tree_method = \"hist\", device = \"cuda\"\n",
      "\n",
      "  warnings.warn(smsg, UserWarning)\n"
     ]
    },
    {
     "name": "stdout",
     "output_type": "stream",
     "text": [
      "[CV] END cat__depth=6, cat__iterations=300, cat__learning_rate=0.025, final_estimator__lr__C=10.0, lgbm__learning_rate=0.1, lgbm__min_child_samples=20, lgbm__n_estimators=400, lgbm__num_leaves=63, xgb__learning_rate=0.05, xgb__max_depth=5, xgb__n_estimators=300; total time= 1.4min\n"
     ]
    },
    {
     "name": "stderr",
     "output_type": "stream",
     "text": [
      "c:\\Users\\tjddl\\AppData\\Local\\Programs\\Python\\Python310\\lib\\site-packages\\xgboost\\core.py:158: UserWarning: [03:43:51] WARNING: C:\\buildkite-agent\\builds\\buildkite-windows-cpu-autoscaling-group-i-08cbc0333d8d4aae1-1\\xgboost\\xgboost-ci-windows\\src\\common\\error_msg.cc:27: The tree method `gpu_hist` is deprecated since 2.0.0. To use GPU training, set the `device` parameter to CUDA instead.\n",
      "\n",
      "    E.g. tree_method = \"hist\", device = \"cuda\"\n",
      "\n",
      "  warnings.warn(smsg, UserWarning)\n"
     ]
    },
    {
     "name": "stdout",
     "output_type": "stream",
     "text": [
      "[CV] END cat__depth=6, cat__iterations=300, cat__learning_rate=0.025, final_estimator__lr__C=10.0, lgbm__learning_rate=0.1, lgbm__min_child_samples=20, lgbm__n_estimators=400, lgbm__num_leaves=63, xgb__learning_rate=0.05, xgb__max_depth=5, xgb__n_estimators=300; total time= 1.3min\n"
     ]
    },
    {
     "name": "stderr",
     "output_type": "stream",
     "text": [
      "c:\\Users\\tjddl\\AppData\\Local\\Programs\\Python\\Python310\\lib\\site-packages\\xgboost\\core.py:158: UserWarning: [03:45:39] WARNING: C:\\buildkite-agent\\builds\\buildkite-windows-cpu-autoscaling-group-i-08cbc0333d8d4aae1-1\\xgboost\\xgboost-ci-windows\\src\\common\\error_msg.cc:27: The tree method `gpu_hist` is deprecated since 2.0.0. To use GPU training, set the `device` parameter to CUDA instead.\n",
      "\n",
      "    E.g. tree_method = \"hist\", device = \"cuda\"\n",
      "\n",
      "  warnings.warn(smsg, UserWarning)\n"
     ]
    },
    {
     "name": "stdout",
     "output_type": "stream",
     "text": [
      "[CV] END cat__depth=4, cat__iterations=500, cat__learning_rate=0.05, final_estimator__lr__C=1.0, lgbm__learning_rate=0.05, lgbm__min_child_samples=50, lgbm__n_estimators=300, lgbm__num_leaves=31, xgb__learning_rate=0.1, xgb__max_depth=4, xgb__n_estimators=400; total time= 1.8min\n"
     ]
    },
    {
     "name": "stderr",
     "output_type": "stream",
     "text": [
      "c:\\Users\\tjddl\\AppData\\Local\\Programs\\Python\\Python310\\lib\\site-packages\\xgboost\\core.py:158: UserWarning: [03:47:14] WARNING: C:\\buildkite-agent\\builds\\buildkite-windows-cpu-autoscaling-group-i-08cbc0333d8d4aae1-1\\xgboost\\xgboost-ci-windows\\src\\common\\error_msg.cc:27: The tree method `gpu_hist` is deprecated since 2.0.0. To use GPU training, set the `device` parameter to CUDA instead.\n",
      "\n",
      "    E.g. tree_method = \"hist\", device = \"cuda\"\n",
      "\n",
      "  warnings.warn(smsg, UserWarning)\n"
     ]
    },
    {
     "name": "stdout",
     "output_type": "stream",
     "text": [
      "[CV] END cat__depth=4, cat__iterations=500, cat__learning_rate=0.05, final_estimator__lr__C=1.0, lgbm__learning_rate=0.05, lgbm__min_child_samples=50, lgbm__n_estimators=300, lgbm__num_leaves=31, xgb__learning_rate=0.1, xgb__max_depth=4, xgb__n_estimators=400; total time= 1.6min\n"
     ]
    },
    {
     "name": "stderr",
     "output_type": "stream",
     "text": [
      "c:\\Users\\tjddl\\AppData\\Local\\Programs\\Python\\Python310\\lib\\site-packages\\xgboost\\core.py:158: UserWarning: [03:48:59] WARNING: C:\\buildkite-agent\\builds\\buildkite-windows-cpu-autoscaling-group-i-08cbc0333d8d4aae1-1\\xgboost\\xgboost-ci-windows\\src\\common\\error_msg.cc:27: The tree method `gpu_hist` is deprecated since 2.0.0. To use GPU training, set the `device` parameter to CUDA instead.\n",
      "\n",
      "    E.g. tree_method = \"hist\", device = \"cuda\"\n",
      "\n",
      "  warnings.warn(smsg, UserWarning)\n"
     ]
    },
    {
     "name": "stdout",
     "output_type": "stream",
     "text": [
      "[CV] END cat__depth=4, cat__iterations=500, cat__learning_rate=0.05, final_estimator__lr__C=1.0, lgbm__learning_rate=0.05, lgbm__min_child_samples=50, lgbm__n_estimators=300, lgbm__num_leaves=31, xgb__learning_rate=0.1, xgb__max_depth=4, xgb__n_estimators=400; total time= 1.7min\n"
     ]
    },
    {
     "name": "stderr",
     "output_type": "stream",
     "text": [
      "c:\\Users\\tjddl\\AppData\\Local\\Programs\\Python\\Python310\\lib\\site-packages\\xgboost\\core.py:158: UserWarning: [03:49:27] WARNING: C:\\buildkite-agent\\builds\\buildkite-windows-cpu-autoscaling-group-i-08cbc0333d8d4aae1-1\\xgboost\\xgboost-ci-windows\\src\\common\\error_msg.cc:27: The tree method `gpu_hist` is deprecated since 2.0.0. To use GPU training, set the `device` parameter to CUDA instead.\n",
      "\n",
      "    E.g. tree_method = \"hist\", device = \"cuda\"\n",
      "\n",
      "  warnings.warn(smsg, UserWarning)\n"
     ]
    },
    {
     "name": "stdout",
     "output_type": "stream",
     "text": [
      "[CV] END cat__depth=6, cat__iterations=100, cat__learning_rate=0.025, final_estimator__lr__C=5.0, lgbm__learning_rate=0.025, lgbm__min_child_samples=20, lgbm__n_estimators=300, lgbm__num_leaves=31, xgb__learning_rate=0.025, xgb__max_depth=5, xgb__n_estimators=400; total time=  27.5s\n"
     ]
    },
    {
     "name": "stderr",
     "output_type": "stream",
     "text": [
      "c:\\Users\\tjddl\\AppData\\Local\\Programs\\Python\\Python310\\lib\\site-packages\\xgboost\\core.py:158: UserWarning: [03:49:53] WARNING: C:\\buildkite-agent\\builds\\buildkite-windows-cpu-autoscaling-group-i-08cbc0333d8d4aae1-1\\xgboost\\xgboost-ci-windows\\src\\common\\error_msg.cc:27: The tree method `gpu_hist` is deprecated since 2.0.0. To use GPU training, set the `device` parameter to CUDA instead.\n",
      "\n",
      "    E.g. tree_method = \"hist\", device = \"cuda\"\n",
      "\n",
      "  warnings.warn(smsg, UserWarning)\n"
     ]
    },
    {
     "name": "stdout",
     "output_type": "stream",
     "text": [
      "[CV] END cat__depth=6, cat__iterations=100, cat__learning_rate=0.025, final_estimator__lr__C=5.0, lgbm__learning_rate=0.025, lgbm__min_child_samples=20, lgbm__n_estimators=300, lgbm__num_leaves=31, xgb__learning_rate=0.025, xgb__max_depth=5, xgb__n_estimators=400; total time=  26.4s\n"
     ]
    },
    {
     "name": "stderr",
     "output_type": "stream",
     "text": [
      "c:\\Users\\tjddl\\AppData\\Local\\Programs\\Python\\Python310\\lib\\site-packages\\xgboost\\core.py:158: UserWarning: [03:50:19] WARNING: C:\\buildkite-agent\\builds\\buildkite-windows-cpu-autoscaling-group-i-08cbc0333d8d4aae1-1\\xgboost\\xgboost-ci-windows\\src\\common\\error_msg.cc:27: The tree method `gpu_hist` is deprecated since 2.0.0. To use GPU training, set the `device` parameter to CUDA instead.\n",
      "\n",
      "    E.g. tree_method = \"hist\", device = \"cuda\"\n",
      "\n",
      "  warnings.warn(smsg, UserWarning)\n"
     ]
    },
    {
     "name": "stdout",
     "output_type": "stream",
     "text": [
      "[CV] END cat__depth=6, cat__iterations=100, cat__learning_rate=0.025, final_estimator__lr__C=5.0, lgbm__learning_rate=0.025, lgbm__min_child_samples=20, lgbm__n_estimators=300, lgbm__num_leaves=31, xgb__learning_rate=0.025, xgb__max_depth=5, xgb__n_estimators=400; total time=  25.4s\n"
     ]
    },
    {
     "name": "stderr",
     "output_type": "stream",
     "text": [
      "c:\\Users\\tjddl\\AppData\\Local\\Programs\\Python\\Python310\\lib\\site-packages\\xgboost\\core.py:158: UserWarning: [03:51:44] WARNING: C:\\buildkite-agent\\builds\\buildkite-windows-cpu-autoscaling-group-i-08cbc0333d8d4aae1-1\\xgboost\\xgboost-ci-windows\\src\\common\\error_msg.cc:27: The tree method `gpu_hist` is deprecated since 2.0.0. To use GPU training, set the `device` parameter to CUDA instead.\n",
      "\n",
      "    E.g. tree_method = \"hist\", device = \"cuda\"\n",
      "\n",
      "  warnings.warn(smsg, UserWarning)\n"
     ]
    },
    {
     "name": "stdout",
     "output_type": "stream",
     "text": [
      "[CV] END cat__depth=6, cat__iterations=300, cat__learning_rate=0.1, final_estimator__lr__C=10.0, lgbm__learning_rate=0.1, lgbm__min_child_samples=20, lgbm__n_estimators=300, lgbm__num_leaves=63, xgb__learning_rate=0.025, xgb__max_depth=4, xgb__n_estimators=400; total time= 1.4min\n"
     ]
    },
    {
     "name": "stderr",
     "output_type": "stream",
     "text": [
      "c:\\Users\\tjddl\\AppData\\Local\\Programs\\Python\\Python310\\lib\\site-packages\\xgboost\\core.py:158: UserWarning: [03:53:10] WARNING: C:\\buildkite-agent\\builds\\buildkite-windows-cpu-autoscaling-group-i-08cbc0333d8d4aae1-1\\xgboost\\xgboost-ci-windows\\src\\common\\error_msg.cc:27: The tree method `gpu_hist` is deprecated since 2.0.0. To use GPU training, set the `device` parameter to CUDA instead.\n",
      "\n",
      "    E.g. tree_method = \"hist\", device = \"cuda\"\n",
      "\n",
      "  warnings.warn(smsg, UserWarning)\n"
     ]
    },
    {
     "name": "stdout",
     "output_type": "stream",
     "text": [
      "[CV] END cat__depth=6, cat__iterations=300, cat__learning_rate=0.1, final_estimator__lr__C=10.0, lgbm__learning_rate=0.1, lgbm__min_child_samples=20, lgbm__n_estimators=300, lgbm__num_leaves=63, xgb__learning_rate=0.025, xgb__max_depth=4, xgb__n_estimators=400; total time= 1.4min\n"
     ]
    },
    {
     "name": "stderr",
     "output_type": "stream",
     "text": [
      "c:\\Users\\tjddl\\AppData\\Local\\Programs\\Python\\Python310\\lib\\site-packages\\xgboost\\core.py:158: UserWarning: [03:54:35] WARNING: C:\\buildkite-agent\\builds\\buildkite-windows-cpu-autoscaling-group-i-08cbc0333d8d4aae1-1\\xgboost\\xgboost-ci-windows\\src\\common\\error_msg.cc:27: The tree method `gpu_hist` is deprecated since 2.0.0. To use GPU training, set the `device` parameter to CUDA instead.\n",
      "\n",
      "    E.g. tree_method = \"hist\", device = \"cuda\"\n",
      "\n",
      "  warnings.warn(smsg, UserWarning)\n"
     ]
    },
    {
     "name": "stdout",
     "output_type": "stream",
     "text": [
      "[CV] END cat__depth=6, cat__iterations=300, cat__learning_rate=0.1, final_estimator__lr__C=10.0, lgbm__learning_rate=0.1, lgbm__min_child_samples=20, lgbm__n_estimators=300, lgbm__num_leaves=63, xgb__learning_rate=0.025, xgb__max_depth=4, xgb__n_estimators=400; total time= 1.4min\n"
     ]
    },
    {
     "name": "stderr",
     "output_type": "stream",
     "text": [
      "c:\\Users\\tjddl\\AppData\\Local\\Programs\\Python\\Python310\\lib\\site-packages\\xgboost\\core.py:158: UserWarning: [03:56:21] WARNING: C:\\buildkite-agent\\builds\\buildkite-windows-cpu-autoscaling-group-i-08cbc0333d8d4aae1-1\\xgboost\\xgboost-ci-windows\\src\\common\\error_msg.cc:27: The tree method `gpu_hist` is deprecated since 2.0.0. To use GPU training, set the `device` parameter to CUDA instead.\n",
      "\n",
      "    E.g. tree_method = \"hist\", device = \"cuda\"\n",
      "\n",
      "  warnings.warn(smsg, UserWarning)\n"
     ]
    },
    {
     "name": "stdout",
     "output_type": "stream",
     "text": [
      "[CV] END cat__depth=4, cat__iterations=500, cat__learning_rate=0.025, final_estimator__lr__C=5.0, lgbm__learning_rate=0.05, lgbm__min_child_samples=20, lgbm__n_estimators=400, lgbm__num_leaves=31, xgb__learning_rate=0.025, xgb__max_depth=6, xgb__n_estimators=500; total time= 1.8min\n"
     ]
    },
    {
     "name": "stderr",
     "output_type": "stream",
     "text": [
      "c:\\Users\\tjddl\\AppData\\Local\\Programs\\Python\\Python310\\lib\\site-packages\\xgboost\\core.py:158: UserWarning: [03:57:59] WARNING: C:\\buildkite-agent\\builds\\buildkite-windows-cpu-autoscaling-group-i-08cbc0333d8d4aae1-1\\xgboost\\xgboost-ci-windows\\src\\common\\error_msg.cc:27: The tree method `gpu_hist` is deprecated since 2.0.0. To use GPU training, set the `device` parameter to CUDA instead.\n",
      "\n",
      "    E.g. tree_method = \"hist\", device = \"cuda\"\n",
      "\n",
      "  warnings.warn(smsg, UserWarning)\n"
     ]
    },
    {
     "name": "stdout",
     "output_type": "stream",
     "text": [
      "[CV] END cat__depth=4, cat__iterations=500, cat__learning_rate=0.025, final_estimator__lr__C=5.0, lgbm__learning_rate=0.05, lgbm__min_child_samples=20, lgbm__n_estimators=400, lgbm__num_leaves=31, xgb__learning_rate=0.025, xgb__max_depth=6, xgb__n_estimators=500; total time= 1.6min\n"
     ]
    },
    {
     "name": "stderr",
     "output_type": "stream",
     "text": [
      "c:\\Users\\tjddl\\AppData\\Local\\Programs\\Python\\Python310\\lib\\site-packages\\xgboost\\core.py:158: UserWarning: [03:59:38] WARNING: C:\\buildkite-agent\\builds\\buildkite-windows-cpu-autoscaling-group-i-08cbc0333d8d4aae1-1\\xgboost\\xgboost-ci-windows\\src\\common\\error_msg.cc:27: The tree method `gpu_hist` is deprecated since 2.0.0. To use GPU training, set the `device` parameter to CUDA instead.\n",
      "\n",
      "    E.g. tree_method = \"hist\", device = \"cuda\"\n",
      "\n",
      "  warnings.warn(smsg, UserWarning)\n"
     ]
    },
    {
     "name": "stdout",
     "output_type": "stream",
     "text": [
      "[CV] END cat__depth=4, cat__iterations=500, cat__learning_rate=0.025, final_estimator__lr__C=5.0, lgbm__learning_rate=0.05, lgbm__min_child_samples=20, lgbm__n_estimators=400, lgbm__num_leaves=31, xgb__learning_rate=0.025, xgb__max_depth=6, xgb__n_estimators=500; total time= 1.6min\n"
     ]
    },
    {
     "name": "stderr",
     "output_type": "stream",
     "text": [
      "c:\\Users\\tjddl\\AppData\\Local\\Programs\\Python\\Python310\\lib\\site-packages\\xgboost\\core.py:158: UserWarning: [04:02:06] WARNING: C:\\buildkite-agent\\builds\\buildkite-windows-cpu-autoscaling-group-i-08cbc0333d8d4aae1-1\\xgboost\\xgboost-ci-windows\\src\\common\\error_msg.cc:27: The tree method `gpu_hist` is deprecated since 2.0.0. To use GPU training, set the `device` parameter to CUDA instead.\n",
      "\n",
      "    E.g. tree_method = \"hist\", device = \"cuda\"\n",
      "\n",
      "  warnings.warn(smsg, UserWarning)\n"
     ]
    },
    {
     "name": "stdout",
     "output_type": "stream",
     "text": [
      "Validation ROC AUC: 0.74246\n",
      "제출 파일 생성 완료\n"
     ]
    }
   ],
   "source": [
    "\n",
    "import pandas as pd\n",
    "import numpy as np\n",
    "import re\n",
    "from sklearn.model_selection import train_test_split, GridSearchCV, RandomizedSearchCV, StratifiedKFold\n",
    "from sklearn.metrics import roc_auc_score\n",
    "from sklearn.linear_model import LogisticRegression\n",
    "from sklearn.ensemble import StackingClassifier, ExtraTreesClassifier, RandomForestClassifier\n",
    "from sklearn.pipeline import Pipeline\n",
    "from sklearn.preprocessing import StandardScaler\n",
    "from sklearn.impute import SimpleImputer\n",
    "from xgboost import XGBClassifier\n",
    "from lightgbm import LGBMClassifier\n",
    "from catboost import CatBoostClassifier\n",
    "from imblearn.under_sampling import RandomUnderSampler\n",
    "from sklearn.base import BaseEstimator, ClassifierMixin\n",
    "from sklearn.model_selection import RandomizedSearchCV\n",
    "import scipy.stats as stats\n",
    "from sklearn.preprocessing import RobustScaler\n",
    "\n",
    "#  문자열 → 숫자 int 로 변환하는 함수\n",
    "def convert_count_str(val):\n",
    "    if pd.isna(val):\n",
    "        return 0\n",
    "    val = str(val).strip()\n",
    "    if \"회 이상\" in val:\n",
    "        return 6\n",
    "    m = re.search(r'(\\d+)회?', val)\n",
    "    if m:\n",
    "        return int(m.group(1))\n",
    "    return 0\n",
    "\n",
    "# 정자 난자 기증자 나이 맵핑\n",
    "donor_age_mapping = {\n",
    "    '만20세 이하': 3, '만21-25세': 5, '만26-30세': 4, '만31-35세': 2,\n",
    "    '만36-40세': 1, '만41-45세': 0, '알 수 없음': 0\n",
    "}\n",
    "\n",
    "def convert_donor_age(val):\n",
    "    if pd.isna(val):\n",
    "        return np.nan\n",
    "    return donor_age_mapping.get(str(val).strip(), np.nan)\n",
    "\n",
    "# 카테고리형 변수들의 NaN을 문자열 'NaN'으로 변환하는 함수\n",
    "def convert_nan_to_string(df, category_columns):\n",
    "    df_copy = df.copy()\n",
    "    for col in category_columns:\n",
    "        df_copy[col] = df_copy[col].fillna('NaN')\n",
    "    return df_copy\n",
    "\n",
    "#  1. 데이터 로드 및 전처리\n",
    "train = pd.read_csv('train.csv').drop(columns=['ID'])\n",
    "test = pd.read_csv('test.csv').drop(columns=['ID'])\n",
    "\n",
    "# 가중치 데이터 로드 (인코딩 문제 해결)\n",
    "weight_data = pd.read_csv('weight_v2.csv', encoding='euc-kr')\n",
    "weight_dict = weight_data.set_index(\"데이터 항목\").to_dict()\n",
    "\n",
    "# '시술 당시 나이' 결측치 여부 추가\n",
    "train['시술 당시 나이_missing'] = train['시술 당시 나이'].apply(lambda x: 1.0 if str(x).strip() == '알 수 없음' else 0.0)\n",
    "test['시술 당시 나이_missing'] = test['시술 당시 나이'].apply(lambda x: 1.0 if str(x).strip() == '알 수 없음' else 0.0)\n",
    "\n",
    "# '시술 당시 나이' 변환 (나이가 낮을수록 높은 숫자 부여)\n",
    "age_mapping = {\n",
    "    '만18-34세': 5, '만35-37세': 4, '만38-39세': 3, '만40-42세': 2, '만43-44세': 1, '만45-50세': 0, '알 수 없음': np.nan\n",
    "}\n",
    "train['시술 당시 나이'] = train['시술 당시 나이'].apply(lambda x: float(age_mapping.get(str(x).strip(), 0)))\n",
    "test['시술 당시 나이'] = test['시술 당시 나이'].apply(lambda x: float(age_mapping.get(str(x).strip(), 0)))\n",
    "\n",
    "# 횟수 관련 컬럼 변환\n",
    "count_columns = [\"총 시술 횟수\", \"클리닉 내 총 시술 횟수\", \"IVF 시술 횟수\", \"DI 시술 횟수\",\n",
    "                 \"총 임신 횟수\", \"IVF 임신 횟수\", \"DI 임신 횟수\", \"총 출산 횟수\", \"IVF 출산 횟수\", \"DI 출산 횟수\"]\n",
    "for col in count_columns:\n",
    "    train[col] = train[col].astype(str).apply(convert_count_str).astype(int)\n",
    "    test[col] = test[col].astype(str).apply(convert_count_str).astype(int)\n",
    "\n",
    "# 난자/정자 기증자 나이 변환\n",
    "train['난자 기증자 나이'] = train['난자 기증자 나이'].astype(str).apply(convert_donor_age)\n",
    "test['난자 기증자 나이'] = test['난자 기증자 나이'].astype(str).apply(convert_donor_age)\n",
    "train['정자 기증자 나이'] = train['정자 기증자 나이'].astype(str).apply(convert_donor_age)\n",
    "test['정자 기증자 나이'] = test['정자 기증자 나이'].astype(str).apply(convert_donor_age)\n",
    "\n",
    "#  2. 가중치 적용 함수\n",
    "def apply_feature_weights(X, weight_dict):\n",
    "    X_weighted = X.copy()\n",
    "    for column in X.columns:\n",
    "        if column in weight_dict[\"IVF\"]:\n",
    "            X_weighted[column] *= weight_dict[\"IVF\"][column]  # IVF 가중치 적용\n",
    "    return X_weighted\n",
    "\n",
    "# 카테고리형 변수들의 인덱스 찾기\n",
    "def get_categorical_feature_indices(df):\n",
    "    cat_features = []\n",
    "    for idx, (column, dtype) in enumerate(df.dtypes.items()):\n",
    "        if dtype == 'category':\n",
    "            cat_features.append(idx)\n",
    "    return cat_features\n",
    "\n",
    "# Feature 가중치 적용\n",
    "X = train.drop('임신 성공 여부', axis=1)\n",
    "y = train['임신 성공 여부']\n",
    "\n",
    "X_weighted = apply_feature_weights(X, weight_dict)\n",
    "X_test_weighted = apply_feature_weights(test, weight_dict)\n",
    "\n",
    "#  3. 데이터 불균형 처리 (임신 성공 여부 기준)\n",
    "undersample = RandomUnderSampler(sampling_strategy=0.5, random_state=42)\n",
    "X_resampled, y_resampled = undersample.fit_resample(X_weighted, y)\n",
    "\n",
    "#  4. 데이터 타입 변환 (카테고리형 변수 처리)\n",
    "category_columns = [\n",
    "    \"시술 시기 코드\", \"시술 유형\", \"특정 시술 유형\", \"배란 유도 유형\",\n",
    "    \"배아 생성 주요 이유\", \"난자 출처\", \"정자 출처\"\n",
    "]\n",
    "X_resampled = convert_nan_to_string(X_resampled, category_columns)\n",
    "X_test_weighted = convert_nan_to_string(X_test_weighted, category_columns)\n",
    "for col in category_columns:\n",
    "    X_resampled[col] = X_resampled[col].astype(\"category\")\n",
    "    X_test_weighted[col] = X_test_weighted[col].astype(\"category\")\n",
    "\n",
    "#  5. 모델 학습용 데이터 분할\n",
    "X_train, X_val, y_train, y_val = train_test_split(X_resampled, y_resampled,\n",
    "                                                  test_size=0.2, random_state=42, stratify=y_resampled)\n",
    "\n",
    "# 모델 파라미터 수정\n",
    "stack_clf = StackingClassifier(\n",
    "    estimators=[\n",
    "        ('xgb', XGBClassifier(\n",
    "            tree_method='gpu_hist',\n",
    "            enable_categorical=True,\n",
    "            random_state=42\n",
    "        )),\n",
    "        ('lgbm', LGBMClassifier(\n",
    "            n_jobs=-2,\n",
    "            random_state=42,\n",
    "            verbose=-1\n",
    "        )),\n",
    "        ('cat', CatBoostClassifier(\n",
    "            task_type='CPU',\n",
    "            verbose=0,\n",
    "            cat_features=get_categorical_feature_indices(X_resampled)\n",
    "        ))\n",
    "    ],\n",
    "    final_estimator=Pipeline([\n",
    "        ('scaler', RobustScaler()),\n",
    "        ('lr', LogisticRegression(\n",
    "            max_iter=1000,\n",
    "            class_weight='balanced',\n",
    "            solver='liblinear'\n",
    "        ))\n",
    "    ]),\n",
    "    cv=3,  # CV 폴드 축소\n",
    "    n_jobs=-2\n",
    ")\n",
    "\n",
    "# 🔥 추가 파라미터 반영\n",
    "param_dist = {\n",
    "    # XGBoost 파라미터\n",
    "    'xgb__n_estimators': [300, 400, 500],\n",
    "    'xgb__max_depth': [4, 5, 6],\n",
    "    'xgb__learning_rate': [0.025, 0.05, 0.1],\n",
    "\n",
    "    # LightGBM 파라미터 (learning_rate 추가)\n",
    "    'lgbm__n_estimators': [300, 400, 500],\n",
    "    'lgbm__num_leaves': [31, 63],\n",
    "    'lgbm__min_child_samples': [20, 50],\n",
    "    'lgbm__learning_rate': [0.025, 0.05, 0.1],  # 추가됨\n",
    "\n",
    "    # CatBoost 파라미터 추가\n",
    "    'cat__iterations': [100, 300, 500],\n",
    "    'cat__depth': [4, 5, 6],\n",
    "    'cat__learning_rate': [0.025, 0.05, 0.1],\n",
    "\n",
    "    # 최종 분류기 (LogisticRegression) 파라미터\n",
    "    'final_estimator__lr__C': [0.1, 1.0, 5.0, 10.0]\n",
    "}\n",
    "\n",
    "random_search = RandomizedSearchCV(\n",
    "    stack_clf,\n",
    "    param_distributions=param_dist,\n",
    "    n_iter=30,  # 후보 수 30개로 제한\n",
    "    scoring='roc_auc',\n",
    "    cv=3,  # CV 폴드 축소\n",
    "    n_jobs=1,\n",
    "    random_state=42,\n",
    "    verbose=2\n",
    ")\n",
    "random_search.fit(X_train, y_train)\n",
    "\n",
    "# 최적 모델로 검증 데이터 평가\n",
    "y_val_pred = random_search.best_estimator_.predict_proba(X_val)[:, 1]\n",
    "roc_auc = roc_auc_score(y_val, y_val_pred)\n",
    "print(f\"Validation ROC AUC: {roc_auc:.5f}\")\n",
    "\n",
    "# 최적 모델로 테스트 데이터 예측 및 제출 파일 생성\n",
    "pred_proba = random_search.best_estimator_.predict_proba(X_test_weighted)[:, 1]\n",
    "submission = pd.DataFrame({'ID': [f\"TEST_{i:05d}\" for i in range(len(test))],\n",
    "                           'probability': pred_proba})\n",
    "submission.to_csv('baseline_v7_submit.csv', index=False)\n",
    "print(\"제출 파일 생성 완료\")\n",
    "\n",
    "# Validation ROC AUC: 0.74275\n"
   ]
  },
  {
   "cell_type": "code",
   "execution_count": null,
   "metadata": {},
   "outputs": [
    {
     "name": "stdout",
     "output_type": "stream",
     "text": [
      "Loading data...\n"
     ]
    },
    {
     "name": "stderr",
     "output_type": "stream",
     "text": [
      "C:\\Users\\tjddl\\AppData\\Local\\Temp\\ipykernel_10312\\61065206.py:94: PerformanceWarning: DataFrame is highly fragmented.  This is usually the result of calling `frame.insert` many times, which has poor performance.  Consider joining all columns at once using pd.concat(axis=1) instead. To get a de-fragmented frame, use `newframe = frame.copy()`\n",
      "  X[feat_name] = X[feat1] * X[feat2]\n",
      "C:\\Users\\tjddl\\AppData\\Local\\Temp\\ipykernel_10312\\61065206.py:95: PerformanceWarning: DataFrame is highly fragmented.  This is usually the result of calling `frame.insert` many times, which has poor performance.  Consider joining all columns at once using pd.concat(axis=1) instead. To get a de-fragmented frame, use `newframe = frame.copy()`\n",
      "  X_test[feat_name] = X_test[feat1] * X_test[feat2]\n",
      "C:\\Users\\tjddl\\AppData\\Local\\Temp\\ipykernel_10312\\61065206.py:94: PerformanceWarning: DataFrame is highly fragmented.  This is usually the result of calling `frame.insert` many times, which has poor performance.  Consider joining all columns at once using pd.concat(axis=1) instead. To get a de-fragmented frame, use `newframe = frame.copy()`\n",
      "  X[feat_name] = X[feat1] * X[feat2]\n",
      "C:\\Users\\tjddl\\AppData\\Local\\Temp\\ipykernel_10312\\61065206.py:95: PerformanceWarning: DataFrame is highly fragmented.  This is usually the result of calling `frame.insert` many times, which has poor performance.  Consider joining all columns at once using pd.concat(axis=1) instead. To get a de-fragmented frame, use `newframe = frame.copy()`\n",
      "  X_test[feat_name] = X_test[feat1] * X_test[feat2]\n",
      "C:\\Users\\tjddl\\AppData\\Local\\Temp\\ipykernel_10312\\61065206.py:94: PerformanceWarning: DataFrame is highly fragmented.  This is usually the result of calling `frame.insert` many times, which has poor performance.  Consider joining all columns at once using pd.concat(axis=1) instead. To get a de-fragmented frame, use `newframe = frame.copy()`\n",
      "  X[feat_name] = X[feat1] * X[feat2]\n",
      "C:\\Users\\tjddl\\AppData\\Local\\Temp\\ipykernel_10312\\61065206.py:95: PerformanceWarning: DataFrame is highly fragmented.  This is usually the result of calling `frame.insert` many times, which has poor performance.  Consider joining all columns at once using pd.concat(axis=1) instead. To get a de-fragmented frame, use `newframe = frame.copy()`\n",
      "  X_test[feat_name] = X_test[feat1] * X_test[feat2]\n",
      "C:\\Users\\tjddl\\AppData\\Local\\Temp\\ipykernel_10312\\61065206.py:94: PerformanceWarning: DataFrame is highly fragmented.  This is usually the result of calling `frame.insert` many times, which has poor performance.  Consider joining all columns at once using pd.concat(axis=1) instead. To get a de-fragmented frame, use `newframe = frame.copy()`\n",
      "  X[feat_name] = X[feat1] * X[feat2]\n",
      "C:\\Users\\tjddl\\AppData\\Local\\Temp\\ipykernel_10312\\61065206.py:95: PerformanceWarning: DataFrame is highly fragmented.  This is usually the result of calling `frame.insert` many times, which has poor performance.  Consider joining all columns at once using pd.concat(axis=1) instead. To get a de-fragmented frame, use `newframe = frame.copy()`\n",
      "  X_test[feat_name] = X_test[feat1] * X_test[feat2]\n",
      "C:\\Users\\tjddl\\AppData\\Local\\Temp\\ipykernel_10312\\61065206.py:94: PerformanceWarning: DataFrame is highly fragmented.  This is usually the result of calling `frame.insert` many times, which has poor performance.  Consider joining all columns at once using pd.concat(axis=1) instead. To get a de-fragmented frame, use `newframe = frame.copy()`\n",
      "  X[feat_name] = X[feat1] * X[feat2]\n",
      "C:\\Users\\tjddl\\AppData\\Local\\Temp\\ipykernel_10312\\61065206.py:95: PerformanceWarning: DataFrame is highly fragmented.  This is usually the result of calling `frame.insert` many times, which has poor performance.  Consider joining all columns at once using pd.concat(axis=1) instead. To get a de-fragmented frame, use `newframe = frame.copy()`\n",
      "  X_test[feat_name] = X_test[feat1] * X_test[feat2]\n",
      "C:\\Users\\tjddl\\AppData\\Local\\Temp\\ipykernel_10312\\61065206.py:94: PerformanceWarning: DataFrame is highly fragmented.  This is usually the result of calling `frame.insert` many times, which has poor performance.  Consider joining all columns at once using pd.concat(axis=1) instead. To get a de-fragmented frame, use `newframe = frame.copy()`\n",
      "  X[feat_name] = X[feat1] * X[feat2]\n",
      "C:\\Users\\tjddl\\AppData\\Local\\Temp\\ipykernel_10312\\61065206.py:95: PerformanceWarning: DataFrame is highly fragmented.  This is usually the result of calling `frame.insert` many times, which has poor performance.  Consider joining all columns at once using pd.concat(axis=1) instead. To get a de-fragmented frame, use `newframe = frame.copy()`\n",
      "  X_test[feat_name] = X_test[feat1] * X_test[feat2]\n",
      "C:\\Users\\tjddl\\AppData\\Local\\Temp\\ipykernel_10312\\61065206.py:94: PerformanceWarning: DataFrame is highly fragmented.  This is usually the result of calling `frame.insert` many times, which has poor performance.  Consider joining all columns at once using pd.concat(axis=1) instead. To get a de-fragmented frame, use `newframe = frame.copy()`\n",
      "  X[feat_name] = X[feat1] * X[feat2]\n",
      "C:\\Users\\tjddl\\AppData\\Local\\Temp\\ipykernel_10312\\61065206.py:95: PerformanceWarning: DataFrame is highly fragmented.  This is usually the result of calling `frame.insert` many times, which has poor performance.  Consider joining all columns at once using pd.concat(axis=1) instead. To get a de-fragmented frame, use `newframe = frame.copy()`\n",
      "  X_test[feat_name] = X_test[feat1] * X_test[feat2]\n",
      "C:\\Users\\tjddl\\AppData\\Local\\Temp\\ipykernel_10312\\61065206.py:94: PerformanceWarning: DataFrame is highly fragmented.  This is usually the result of calling `frame.insert` many times, which has poor performance.  Consider joining all columns at once using pd.concat(axis=1) instead. To get a de-fragmented frame, use `newframe = frame.copy()`\n",
      "  X[feat_name] = X[feat1] * X[feat2]\n",
      "C:\\Users\\tjddl\\AppData\\Local\\Temp\\ipykernel_10312\\61065206.py:95: PerformanceWarning: DataFrame is highly fragmented.  This is usually the result of calling `frame.insert` many times, which has poor performance.  Consider joining all columns at once using pd.concat(axis=1) instead. To get a de-fragmented frame, use `newframe = frame.copy()`\n",
      "  X_test[feat_name] = X_test[feat1] * X_test[feat2]\n",
      "C:\\Users\\tjddl\\AppData\\Local\\Temp\\ipykernel_10312\\61065206.py:94: PerformanceWarning: DataFrame is highly fragmented.  This is usually the result of calling `frame.insert` many times, which has poor performance.  Consider joining all columns at once using pd.concat(axis=1) instead. To get a de-fragmented frame, use `newframe = frame.copy()`\n",
      "  X[feat_name] = X[feat1] * X[feat2]\n",
      "C:\\Users\\tjddl\\AppData\\Local\\Temp\\ipykernel_10312\\61065206.py:95: PerformanceWarning: DataFrame is highly fragmented.  This is usually the result of calling `frame.insert` many times, which has poor performance.  Consider joining all columns at once using pd.concat(axis=1) instead. To get a de-fragmented frame, use `newframe = frame.copy()`\n",
      "  X_test[feat_name] = X_test[feat1] * X_test[feat2]\n",
      "C:\\Users\\tjddl\\AppData\\Local\\Temp\\ipykernel_10312\\61065206.py:94: PerformanceWarning: DataFrame is highly fragmented.  This is usually the result of calling `frame.insert` many times, which has poor performance.  Consider joining all columns at once using pd.concat(axis=1) instead. To get a de-fragmented frame, use `newframe = frame.copy()`\n",
      "  X[feat_name] = X[feat1] * X[feat2]\n",
      "C:\\Users\\tjddl\\AppData\\Local\\Temp\\ipykernel_10312\\61065206.py:95: PerformanceWarning: DataFrame is highly fragmented.  This is usually the result of calling `frame.insert` many times, which has poor performance.  Consider joining all columns at once using pd.concat(axis=1) instead. To get a de-fragmented frame, use `newframe = frame.copy()`\n",
      "  X_test[feat_name] = X_test[feat1] * X_test[feat2]\n",
      "C:\\Users\\tjddl\\AppData\\Local\\Temp\\ipykernel_10312\\61065206.py:94: PerformanceWarning: DataFrame is highly fragmented.  This is usually the result of calling `frame.insert` many times, which has poor performance.  Consider joining all columns at once using pd.concat(axis=1) instead. To get a de-fragmented frame, use `newframe = frame.copy()`\n",
      "  X[feat_name] = X[feat1] * X[feat2]\n",
      "C:\\Users\\tjddl\\AppData\\Local\\Temp\\ipykernel_10312\\61065206.py:95: PerformanceWarning: DataFrame is highly fragmented.  This is usually the result of calling `frame.insert` many times, which has poor performance.  Consider joining all columns at once using pd.concat(axis=1) instead. To get a de-fragmented frame, use `newframe = frame.copy()`\n",
      "  X_test[feat_name] = X_test[feat1] * X_test[feat2]\n",
      "C:\\Users\\tjddl\\AppData\\Local\\Temp\\ipykernel_10312\\61065206.py:94: PerformanceWarning: DataFrame is highly fragmented.  This is usually the result of calling `frame.insert` many times, which has poor performance.  Consider joining all columns at once using pd.concat(axis=1) instead. To get a de-fragmented frame, use `newframe = frame.copy()`\n",
      "  X[feat_name] = X[feat1] * X[feat2]\n",
      "C:\\Users\\tjddl\\AppData\\Local\\Temp\\ipykernel_10312\\61065206.py:95: PerformanceWarning: DataFrame is highly fragmented.  This is usually the result of calling `frame.insert` many times, which has poor performance.  Consider joining all columns at once using pd.concat(axis=1) instead. To get a de-fragmented frame, use `newframe = frame.copy()`\n",
      "  X_test[feat_name] = X_test[feat1] * X_test[feat2]\n",
      "C:\\Users\\tjddl\\AppData\\Local\\Temp\\ipykernel_10312\\61065206.py:94: PerformanceWarning: DataFrame is highly fragmented.  This is usually the result of calling `frame.insert` many times, which has poor performance.  Consider joining all columns at once using pd.concat(axis=1) instead. To get a de-fragmented frame, use `newframe = frame.copy()`\n",
      "  X[feat_name] = X[feat1] * X[feat2]\n",
      "C:\\Users\\tjddl\\AppData\\Local\\Temp\\ipykernel_10312\\61065206.py:95: PerformanceWarning: DataFrame is highly fragmented.  This is usually the result of calling `frame.insert` many times, which has poor performance.  Consider joining all columns at once using pd.concat(axis=1) instead. To get a de-fragmented frame, use `newframe = frame.copy()`\n",
      "  X_test[feat_name] = X_test[feat1] * X_test[feat2]\n",
      "C:\\Users\\tjddl\\AppData\\Local\\Temp\\ipykernel_10312\\61065206.py:94: PerformanceWarning: DataFrame is highly fragmented.  This is usually the result of calling `frame.insert` many times, which has poor performance.  Consider joining all columns at once using pd.concat(axis=1) instead. To get a de-fragmented frame, use `newframe = frame.copy()`\n",
      "  X[feat_name] = X[feat1] * X[feat2]\n",
      "C:\\Users\\tjddl\\AppData\\Local\\Temp\\ipykernel_10312\\61065206.py:95: PerformanceWarning: DataFrame is highly fragmented.  This is usually the result of calling `frame.insert` many times, which has poor performance.  Consider joining all columns at once using pd.concat(axis=1) instead. To get a de-fragmented frame, use `newframe = frame.copy()`\n",
      "  X_test[feat_name] = X_test[feat1] * X_test[feat2]\n",
      "C:\\Users\\tjddl\\AppData\\Local\\Temp\\ipykernel_10312\\61065206.py:94: PerformanceWarning: DataFrame is highly fragmented.  This is usually the result of calling `frame.insert` many times, which has poor performance.  Consider joining all columns at once using pd.concat(axis=1) instead. To get a de-fragmented frame, use `newframe = frame.copy()`\n",
      "  X[feat_name] = X[feat1] * X[feat2]\n",
      "C:\\Users\\tjddl\\AppData\\Local\\Temp\\ipykernel_10312\\61065206.py:95: PerformanceWarning: DataFrame is highly fragmented.  This is usually the result of calling `frame.insert` many times, which has poor performance.  Consider joining all columns at once using pd.concat(axis=1) instead. To get a de-fragmented frame, use `newframe = frame.copy()`\n",
      "  X_test[feat_name] = X_test[feat1] * X_test[feat2]\n",
      "C:\\Users\\tjddl\\AppData\\Local\\Temp\\ipykernel_10312\\61065206.py:94: PerformanceWarning: DataFrame is highly fragmented.  This is usually the result of calling `frame.insert` many times, which has poor performance.  Consider joining all columns at once using pd.concat(axis=1) instead. To get a de-fragmented frame, use `newframe = frame.copy()`\n",
      "  X[feat_name] = X[feat1] * X[feat2]\n",
      "C:\\Users\\tjddl\\AppData\\Local\\Temp\\ipykernel_10312\\61065206.py:95: PerformanceWarning: DataFrame is highly fragmented.  This is usually the result of calling `frame.insert` many times, which has poor performance.  Consider joining all columns at once using pd.concat(axis=1) instead. To get a de-fragmented frame, use `newframe = frame.copy()`\n",
      "  X_test[feat_name] = X_test[feat1] * X_test[feat2]\n",
      "C:\\Users\\tjddl\\AppData\\Local\\Temp\\ipykernel_10312\\61065206.py:94: PerformanceWarning: DataFrame is highly fragmented.  This is usually the result of calling `frame.insert` many times, which has poor performance.  Consider joining all columns at once using pd.concat(axis=1) instead. To get a de-fragmented frame, use `newframe = frame.copy()`\n",
      "  X[feat_name] = X[feat1] * X[feat2]\n",
      "C:\\Users\\tjddl\\AppData\\Local\\Temp\\ipykernel_10312\\61065206.py:95: PerformanceWarning: DataFrame is highly fragmented.  This is usually the result of calling `frame.insert` many times, which has poor performance.  Consider joining all columns at once using pd.concat(axis=1) instead. To get a de-fragmented frame, use `newframe = frame.copy()`\n",
      "  X_test[feat_name] = X_test[feat1] * X_test[feat2]\n",
      "C:\\Users\\tjddl\\AppData\\Local\\Temp\\ipykernel_10312\\61065206.py:94: PerformanceWarning: DataFrame is highly fragmented.  This is usually the result of calling `frame.insert` many times, which has poor performance.  Consider joining all columns at once using pd.concat(axis=1) instead. To get a de-fragmented frame, use `newframe = frame.copy()`\n",
      "  X[feat_name] = X[feat1] * X[feat2]\n",
      "C:\\Users\\tjddl\\AppData\\Local\\Temp\\ipykernel_10312\\61065206.py:95: PerformanceWarning: DataFrame is highly fragmented.  This is usually the result of calling `frame.insert` many times, which has poor performance.  Consider joining all columns at once using pd.concat(axis=1) instead. To get a de-fragmented frame, use `newframe = frame.copy()`\n",
      "  X_test[feat_name] = X_test[feat1] * X_test[feat2]\n",
      "C:\\Users\\tjddl\\AppData\\Local\\Temp\\ipykernel_10312\\61065206.py:94: PerformanceWarning: DataFrame is highly fragmented.  This is usually the result of calling `frame.insert` many times, which has poor performance.  Consider joining all columns at once using pd.concat(axis=1) instead. To get a de-fragmented frame, use `newframe = frame.copy()`\n",
      "  X[feat_name] = X[feat1] * X[feat2]\n",
      "C:\\Users\\tjddl\\AppData\\Local\\Temp\\ipykernel_10312\\61065206.py:95: PerformanceWarning: DataFrame is highly fragmented.  This is usually the result of calling `frame.insert` many times, which has poor performance.  Consider joining all columns at once using pd.concat(axis=1) instead. To get a de-fragmented frame, use `newframe = frame.copy()`\n",
      "  X_test[feat_name] = X_test[feat1] * X_test[feat2]\n",
      "C:\\Users\\tjddl\\AppData\\Local\\Temp\\ipykernel_10312\\61065206.py:94: PerformanceWarning: DataFrame is highly fragmented.  This is usually the result of calling `frame.insert` many times, which has poor performance.  Consider joining all columns at once using pd.concat(axis=1) instead. To get a de-fragmented frame, use `newframe = frame.copy()`\n",
      "  X[feat_name] = X[feat1] * X[feat2]\n",
      "C:\\Users\\tjddl\\AppData\\Local\\Temp\\ipykernel_10312\\61065206.py:95: PerformanceWarning: DataFrame is highly fragmented.  This is usually the result of calling `frame.insert` many times, which has poor performance.  Consider joining all columns at once using pd.concat(axis=1) instead. To get a de-fragmented frame, use `newframe = frame.copy()`\n",
      "  X_test[feat_name] = X_test[feat1] * X_test[feat2]\n",
      "C:\\Users\\tjddl\\AppData\\Local\\Temp\\ipykernel_10312\\61065206.py:94: PerformanceWarning: DataFrame is highly fragmented.  This is usually the result of calling `frame.insert` many times, which has poor performance.  Consider joining all columns at once using pd.concat(axis=1) instead. To get a de-fragmented frame, use `newframe = frame.copy()`\n",
      "  X[feat_name] = X[feat1] * X[feat2]\n",
      "C:\\Users\\tjddl\\AppData\\Local\\Temp\\ipykernel_10312\\61065206.py:95: PerformanceWarning: DataFrame is highly fragmented.  This is usually the result of calling `frame.insert` many times, which has poor performance.  Consider joining all columns at once using pd.concat(axis=1) instead. To get a de-fragmented frame, use `newframe = frame.copy()`\n",
      "  X_test[feat_name] = X_test[feat1] * X_test[feat2]\n",
      "C:\\Users\\tjddl\\AppData\\Local\\Temp\\ipykernel_10312\\61065206.py:94: PerformanceWarning: DataFrame is highly fragmented.  This is usually the result of calling `frame.insert` many times, which has poor performance.  Consider joining all columns at once using pd.concat(axis=1) instead. To get a de-fragmented frame, use `newframe = frame.copy()`\n",
      "  X[feat_name] = X[feat1] * X[feat2]\n",
      "C:\\Users\\tjddl\\AppData\\Local\\Temp\\ipykernel_10312\\61065206.py:95: PerformanceWarning: DataFrame is highly fragmented.  This is usually the result of calling `frame.insert` many times, which has poor performance.  Consider joining all columns at once using pd.concat(axis=1) instead. To get a de-fragmented frame, use `newframe = frame.copy()`\n",
      "  X_test[feat_name] = X_test[feat1] * X_test[feat2]\n"
     ]
    },
    {
     "name": "stdout",
     "output_type": "stream",
     "text": [
      "\n",
      "==== Fold 1/5 ====\n",
      "Fitting 5 folds for each of 50 candidates, totalling 250 fits\n"
     ]
    },
    {
     "name": "stderr",
     "output_type": "stream",
     "text": [
      "c:\\Users\\tjddl\\AppData\\Local\\Programs\\Python\\Python310\\lib\\site-packages\\xgboost\\core.py:158: UserWarning: [04:02:17] WARNING: C:\\buildkite-agent\\builds\\buildkite-windows-cpu-autoscaling-group-i-08cbc0333d8d4aae1-1\\xgboost\\xgboost-ci-windows\\src\\common\\error_msg.cc:27: The tree method `gpu_hist` is deprecated since 2.0.0. To use GPU training, set the `device` parameter to CUDA instead.\n",
      "\n",
      "    E.g. tree_method = \"hist\", device = \"cuda\"\n",
      "\n",
      "  warnings.warn(smsg, UserWarning)\n"
     ]
    },
    {
     "name": "stdout",
     "output_type": "stream",
     "text": [
      "0:\ttotal: 485ms\tremaining: 16m 9s\n",
      "100:\ttotal: 34.1s\tremaining: 10m 41s\n",
      "200:\ttotal: 1m 9s\tremaining: 10m 20s\n",
      "300:\ttotal: 1m 44s\tremaining: 9m 49s\n",
      "400:\ttotal: 2m 22s\tremaining: 9m 29s\n",
      "500:\ttotal: 2m 59s\tremaining: 8m 57s\n",
      "600:\ttotal: 3m 36s\tremaining: 8m 24s\n",
      "700:\ttotal: 4m 16s\tremaining: 7m 54s\n",
      "800:\ttotal: 4m 54s\tremaining: 7m 21s\n",
      "900:\ttotal: 5m 35s\tremaining: 6m 49s\n",
      "1000:\ttotal: 6m 15s\tremaining: 6m 15s\n",
      "1100:\ttotal: 6m 55s\tremaining: 5m 39s\n",
      "1200:\ttotal: 7m 35s\tremaining: 5m 2s\n",
      "1300:\ttotal: 8m 14s\tremaining: 4m 25s\n",
      "1400:\ttotal: 8m 53s\tremaining: 3m 47s\n",
      "1500:\ttotal: 9m 31s\tremaining: 3m 9s\n",
      "1600:\ttotal: 10m 5s\tremaining: 2m 30s\n",
      "1700:\ttotal: 10m 43s\tremaining: 1m 53s\n",
      "1800:\ttotal: 11m 19s\tremaining: 1m 15s\n",
      "1900:\ttotal: 11m 56s\tremaining: 37.3s\n",
      "1999:\ttotal: 12m 34s\tremaining: 0us\n"
     ]
    },
    {
     "name": "stderr",
     "output_type": "stream",
     "text": [
      "c:\\Users\\tjddl\\AppData\\Local\\Programs\\Python\\Python310\\lib\\site-packages\\xgboost\\core.py:158: UserWarning: [04:15:42] WARNING: C:\\buildkite-agent\\builds\\buildkite-windows-cpu-autoscaling-group-i-08cbc0333d8d4aae1-1\\xgboost\\xgboost-ci-windows\\src\\common\\error_msg.cc:27: The tree method `gpu_hist` is deprecated since 2.0.0. To use GPU training, set the `device` parameter to CUDA instead.\n",
      "\n",
      "    E.g. tree_method = \"hist\", device = \"cuda\"\n",
      "\n",
      "  warnings.warn(smsg, UserWarning)\n",
      "c:\\Users\\tjddl\\AppData\\Local\\Programs\\Python\\Python310\\lib\\site-packages\\xgboost\\core.py:158: UserWarning: [04:16:23] WARNING: C:\\buildkite-agent\\builds\\buildkite-windows-cpu-autoscaling-group-i-08cbc0333d8d4aae1-1\\xgboost\\xgboost-ci-windows\\src\\common\\error_msg.cc:27: The tree method `gpu_hist` is deprecated since 2.0.0. To use GPU training, set the `device` parameter to CUDA instead.\n",
      "\n",
      "    E.g. tree_method = \"hist\", device = \"cuda\"\n",
      "\n",
      "  warnings.warn(smsg, UserWarning)\n",
      "c:\\Users\\tjddl\\AppData\\Local\\Programs\\Python\\Python310\\lib\\site-packages\\xgboost\\core.py:158: UserWarning: [04:16:24] WARNING: C:\\buildkite-agent\\builds\\buildkite-windows-cpu-autoscaling-group-i-08cbc0333d8d4aae1-1\\xgboost\\xgboost-ci-windows\\src\\common\\error_msg.cc:27: The tree method `gpu_hist` is deprecated since 2.0.0. To use GPU training, set the `device` parameter to CUDA instead.\n",
      "\n",
      "    E.g. tree_method = \"hist\", device = \"cuda\"\n",
      "\n",
      "  warnings.warn(smsg, UserWarning)\n",
      "c:\\Users\\tjddl\\AppData\\Local\\Programs\\Python\\Python310\\lib\\site-packages\\xgboost\\core.py:158: UserWarning: [04:17:04] WARNING: C:\\buildkite-agent\\builds\\buildkite-windows-cpu-autoscaling-group-i-08cbc0333d8d4aae1-1\\xgboost\\xgboost-ci-windows\\src\\common\\error_msg.cc:27: The tree method `gpu_hist` is deprecated since 2.0.0. To use GPU training, set the `device` parameter to CUDA instead.\n",
      "\n",
      "    E.g. tree_method = \"hist\", device = \"cuda\"\n",
      "\n",
      "  warnings.warn(smsg, UserWarning)\n",
      "c:\\Users\\tjddl\\AppData\\Local\\Programs\\Python\\Python310\\lib\\site-packages\\xgboost\\core.py:158: UserWarning: [04:17:05] WARNING: C:\\buildkite-agent\\builds\\buildkite-windows-cpu-autoscaling-group-i-08cbc0333d8d4aae1-1\\xgboost\\xgboost-ci-windows\\src\\common\\error_msg.cc:27: The tree method `gpu_hist` is deprecated since 2.0.0. To use GPU training, set the `device` parameter to CUDA instead.\n",
      "\n",
      "    E.g. tree_method = \"hist\", device = \"cuda\"\n",
      "\n",
      "  warnings.warn(smsg, UserWarning)\n",
      "c:\\Users\\tjddl\\AppData\\Local\\Programs\\Python\\Python310\\lib\\site-packages\\xgboost\\core.py:158: UserWarning: [04:17:45] WARNING: C:\\buildkite-agent\\builds\\buildkite-windows-cpu-autoscaling-group-i-08cbc0333d8d4aae1-1\\xgboost\\xgboost-ci-windows\\src\\common\\error_msg.cc:27: The tree method `gpu_hist` is deprecated since 2.0.0. To use GPU training, set the `device` parameter to CUDA instead.\n",
      "\n",
      "    E.g. tree_method = \"hist\", device = \"cuda\"\n",
      "\n",
      "  warnings.warn(smsg, UserWarning)\n",
      "c:\\Users\\tjddl\\AppData\\Local\\Programs\\Python\\Python310\\lib\\site-packages\\xgboost\\core.py:158: UserWarning: [04:17:46] WARNING: C:\\buildkite-agent\\builds\\buildkite-windows-cpu-autoscaling-group-i-08cbc0333d8d4aae1-1\\xgboost\\xgboost-ci-windows\\src\\common\\error_msg.cc:27: The tree method `gpu_hist` is deprecated since 2.0.0. To use GPU training, set the `device` parameter to CUDA instead.\n",
      "\n",
      "    E.g. tree_method = \"hist\", device = \"cuda\"\n",
      "\n",
      "  warnings.warn(smsg, UserWarning)\n",
      "c:\\Users\\tjddl\\AppData\\Local\\Programs\\Python\\Python310\\lib\\site-packages\\xgboost\\core.py:158: UserWarning: [04:18:27] WARNING: C:\\buildkite-agent\\builds\\buildkite-windows-cpu-autoscaling-group-i-08cbc0333d8d4aae1-1\\xgboost\\xgboost-ci-windows\\src\\common\\error_msg.cc:27: The tree method `gpu_hist` is deprecated since 2.0.0. To use GPU training, set the `device` parameter to CUDA instead.\n",
      "\n",
      "    E.g. tree_method = \"hist\", device = \"cuda\"\n",
      "\n",
      "  warnings.warn(smsg, UserWarning)\n",
      "c:\\Users\\tjddl\\AppData\\Local\\Programs\\Python\\Python310\\lib\\site-packages\\xgboost\\core.py:158: UserWarning: [04:18:27] WARNING: C:\\buildkite-agent\\builds\\buildkite-windows-cpu-autoscaling-group-i-08cbc0333d8d4aae1-1\\xgboost\\xgboost-ci-windows\\src\\common\\error_msg.cc:27: The tree method `gpu_hist` is deprecated since 2.0.0. To use GPU training, set the `device` parameter to CUDA instead.\n",
      "\n",
      "    E.g. tree_method = \"hist\", device = \"cuda\"\n",
      "\n",
      "  warnings.warn(smsg, UserWarning)\n",
      "c:\\Users\\tjddl\\AppData\\Local\\Programs\\Python\\Python310\\lib\\site-packages\\xgboost\\core.py:158: UserWarning: [04:19:08] WARNING: C:\\buildkite-agent\\builds\\buildkite-windows-cpu-autoscaling-group-i-08cbc0333d8d4aae1-1\\xgboost\\xgboost-ci-windows\\src\\common\\error_msg.cc:27: The tree method `gpu_hist` is deprecated since 2.0.0. To use GPU training, set the `device` parameter to CUDA instead.\n",
      "\n",
      "    E.g. tree_method = \"hist\", device = \"cuda\"\n",
      "\n",
      "  warnings.warn(smsg, UserWarning)\n"
     ]
    },
    {
     "name": "stdout",
     "output_type": "stream",
     "text": [
      "0:\ttotal: 312ms\tremaining: 10m 24s\n",
      "100:\ttotal: 38.5s\tremaining: 12m 3s\n",
      "200:\ttotal: 1m 20s\tremaining: 12m\n",
      "300:\ttotal: 2m 3s\tremaining: 11m 35s\n",
      "400:\ttotal: 2m 45s\tremaining: 11m 1s\n",
      "500:\ttotal: 3m 29s\tremaining: 10m 28s\n",
      "600:\ttotal: 4m 17s\tremaining: 9m 58s\n",
      "700:\ttotal: 5m 3s\tremaining: 9m 23s\n",
      "800:\ttotal: 5m 53s\tremaining: 8m 49s\n",
      "900:\ttotal: 6m 44s\tremaining: 8m 12s\n",
      "1000:\ttotal: 7m 31s\tremaining: 7m 30s\n",
      "1100:\ttotal: 8m 18s\tremaining: 6m 47s\n",
      "1200:\ttotal: 9m 5s\tremaining: 6m 2s\n",
      "1300:\ttotal: 9m 49s\tremaining: 5m 16s\n",
      "1400:\ttotal: 10m 35s\tremaining: 4m 31s\n",
      "1500:\ttotal: 11m 24s\tremaining: 3m 47s\n",
      "1600:\ttotal: 12m 10s\tremaining: 3m 2s\n",
      "1700:\ttotal: 12m 59s\tremaining: 2m 17s\n",
      "1800:\ttotal: 13m 47s\tremaining: 1m 31s\n",
      "1900:\ttotal: 14m 34s\tremaining: 45.6s\n",
      "1999:\ttotal: 15m 22s\tremaining: 0us\n",
      "0:\ttotal: 387ms\tremaining: 12m 53s\n",
      "100:\ttotal: 39.9s\tremaining: 12m 30s\n",
      "200:\ttotal: 1m 20s\tremaining: 12m 4s\n",
      "300:\ttotal: 2m 4s\tremaining: 11m 42s\n",
      "400:\ttotal: 2m 48s\tremaining: 11m 13s\n",
      "500:\ttotal: 3m 35s\tremaining: 10m 45s\n",
      "600:\ttotal: 4m 21s\tremaining: 10m 9s\n",
      "700:\ttotal: 5m 11s\tremaining: 9m 36s\n",
      "800:\ttotal: 6m 2s\tremaining: 9m 2s\n",
      "900:\ttotal: 6m 54s\tremaining: 8m 25s\n",
      "1000:\ttotal: 7m 45s\tremaining: 7m 44s\n",
      "1100:\ttotal: 8m 34s\tremaining: 6m 59s\n",
      "1200:\ttotal: 9m 23s\tremaining: 6m 14s\n",
      "1300:\ttotal: 10m 11s\tremaining: 5m 28s\n",
      "1400:\ttotal: 10m 57s\tremaining: 4m 41s\n",
      "1500:\ttotal: 11m 43s\tremaining: 3m 53s\n",
      "1600:\ttotal: 12m 30s\tremaining: 3m 7s\n",
      "1700:\ttotal: 13m 19s\tremaining: 2m 20s\n",
      "1800:\ttotal: 14m 7s\tremaining: 1m 33s\n",
      "1900:\ttotal: 14m 55s\tremaining: 46.7s\n",
      "1999:\ttotal: 15m 46s\tremaining: 0us\n",
      "0:\ttotal: 400ms\tremaining: 13m 20s\n",
      "100:\ttotal: 37.1s\tremaining: 11m 37s\n",
      "200:\ttotal: 1m 17s\tremaining: 11m 33s\n",
      "300:\ttotal: 1m 59s\tremaining: 11m 12s\n",
      "400:\ttotal: 2m 40s\tremaining: 10m 39s\n",
      "500:\ttotal: 3m 21s\tremaining: 10m 3s\n",
      "600:\ttotal: 4m 5s\tremaining: 9m 32s\n",
      "700:\ttotal: 4m 52s\tremaining: 9m 1s\n",
      "800:\ttotal: 5m 40s\tremaining: 8m 29s\n",
      "900:\ttotal: 6m 28s\tremaining: 7m 53s\n",
      "1000:\ttotal: 7m 15s\tremaining: 7m 14s\n",
      "1100:\ttotal: 8m 2s\tremaining: 6m 34s\n",
      "1200:\ttotal: 8m 50s\tremaining: 5m 53s\n",
      "1300:\ttotal: 9m 36s\tremaining: 5m 9s\n",
      "1400:\ttotal: 10m 21s\tremaining: 4m 25s\n",
      "1500:\ttotal: 11m 10s\tremaining: 3m 42s\n",
      "1600:\ttotal: 11m 55s\tremaining: 2m 58s\n",
      "1700:\ttotal: 12m 42s\tremaining: 2m 14s\n",
      "1800:\ttotal: 13m 30s\tremaining: 1m 29s\n",
      "1900:\ttotal: 14m 20s\tremaining: 44.8s\n",
      "1999:\ttotal: 15m 8s\tremaining: 0us\n",
      "0:\ttotal: 373ms\tremaining: 12m 25s\n",
      "100:\ttotal: 37.6s\tremaining: 11m 47s\n",
      "200:\ttotal: 1m 16s\tremaining: 11m 28s\n",
      "300:\ttotal: 1m 59s\tremaining: 11m 14s\n",
      "400:\ttotal: 2m 40s\tremaining: 10m 40s\n",
      "500:\ttotal: 3m 26s\tremaining: 10m 16s\n",
      "600:\ttotal: 4m 11s\tremaining: 9m 45s\n",
      "700:\ttotal: 4m 57s\tremaining: 9m 11s\n",
      "800:\ttotal: 5m 46s\tremaining: 8m 38s\n",
      "900:\ttotal: 6m 35s\tremaining: 8m 2s\n",
      "1000:\ttotal: 7m 24s\tremaining: 7m 23s\n",
      "1100:\ttotal: 8m 12s\tremaining: 6m 42s\n",
      "1200:\ttotal: 8m 58s\tremaining: 5m 58s\n",
      "1300:\ttotal: 9m 47s\tremaining: 5m 15s\n",
      "1400:\ttotal: 10m 31s\tremaining: 4m 30s\n",
      "1500:\ttotal: 11m 19s\tremaining: 3m 45s\n",
      "1600:\ttotal: 12m 6s\tremaining: 3m 1s\n",
      "1700:\ttotal: 12m 55s\tremaining: 2m 16s\n",
      "1800:\ttotal: 13m 44s\tremaining: 1m 31s\n",
      "1900:\ttotal: 14m 33s\tremaining: 45.5s\n",
      "1999:\ttotal: 15m 21s\tremaining: 0us\n",
      "0:\ttotal: 374ms\tremaining: 12m 27s\n",
      "100:\ttotal: 37.8s\tremaining: 11m 51s\n",
      "200:\ttotal: 1m 17s\tremaining: 11m 34s\n",
      "300:\ttotal: 1m 59s\tremaining: 11m 12s\n",
      "400:\ttotal: 2m 43s\tremaining: 10m 53s\n",
      "500:\ttotal: 3m 29s\tremaining: 10m 27s\n",
      "600:\ttotal: 4m 18s\tremaining: 10m 1s\n",
      "700:\ttotal: 5m 6s\tremaining: 9m 27s\n",
      "800:\ttotal: 5m 57s\tremaining: 8m 55s\n",
      "900:\ttotal: 6m 47s\tremaining: 8m 17s\n",
      "1000:\ttotal: 7m 34s\tremaining: 7m 33s\n",
      "1100:\ttotal: 8m 22s\tremaining: 6m 50s\n",
      "1200:\ttotal: 9m 9s\tremaining: 6m 5s\n",
      "1300:\ttotal: 9m 58s\tremaining: 5m 21s\n",
      "1400:\ttotal: 10m 46s\tremaining: 4m 36s\n",
      "1500:\ttotal: 11m 32s\tremaining: 3m 50s\n",
      "1600:\ttotal: 12m 20s\tremaining: 3m 4s\n",
      "1700:\ttotal: 13m 5s\tremaining: 2m 18s\n",
      "1800:\ttotal: 13m 53s\tremaining: 1m 32s\n",
      "1900:\ttotal: 14m 44s\tremaining: 46s\n",
      "1999:\ttotal: 15m 31s\tremaining: 0us\n"
     ]
    },
    {
     "name": "stderr",
     "output_type": "stream",
     "text": [
      "c:\\Users\\tjddl\\AppData\\Local\\Programs\\Python\\Python310\\lib\\site-packages\\xgboost\\core.py:158: UserWarning: [05:36:55] WARNING: C:\\buildkite-agent\\builds\\buildkite-windows-cpu-autoscaling-group-i-08cbc0333d8d4aae1-1\\xgboost\\xgboost-ci-windows\\src\\common\\error_msg.cc:27: The tree method `gpu_hist` is deprecated since 2.0.0. To use GPU training, set the `device` parameter to CUDA instead.\n",
      "\n",
      "    E.g. tree_method = \"hist\", device = \"cuda\"\n",
      "\n",
      "  warnings.warn(smsg, UserWarning)\n"
     ]
    },
    {
     "name": "stdout",
     "output_type": "stream",
     "text": [
      "[CV] END cat__depth=10, cat__iterations=2000, cat__l2_leaf_reg=7, cat__learning_rate=0.005, cat__random_strength=0.5, final_estimator__lr__C=10.0, lgbm__learning_rate=0.02, lgbm__max_depth=12, lgbm__min_child_samples=10, lgbm__n_estimators=1500, lgbm__num_leaves=63, lgbm__reg_alpha=1, lgbm__reg_lambda=10, xgb__learning_rate=0.01, xgb__max_depth=10, xgb__min_child_weight=0.1, xgb__n_estimators=2500; total time=94.7min\n"
     ]
    },
    {
     "name": "stderr",
     "output_type": "stream",
     "text": [
      "c:\\Users\\tjddl\\AppData\\Local\\Programs\\Python\\Python310\\lib\\site-packages\\xgboost\\core.py:158: UserWarning: [05:36:57] WARNING: C:\\buildkite-agent\\builds\\buildkite-windows-cpu-autoscaling-group-i-08cbc0333d8d4aae1-1\\xgboost\\xgboost-ci-windows\\src\\common\\error_msg.cc:27: The tree method `gpu_hist` is deprecated since 2.0.0. To use GPU training, set the `device` parameter to CUDA instead.\n",
      "\n",
      "    E.g. tree_method = \"hist\", device = \"cuda\"\n",
      "\n",
      "  warnings.warn(smsg, UserWarning)\n"
     ]
    },
    {
     "name": "stdout",
     "output_type": "stream",
     "text": [
      "0:\ttotal: 439ms\tremaining: 14m 37s\n",
      "100:\ttotal: 41s\tremaining: 12m 50s\n",
      "200:\ttotal: 1m 22s\tremaining: 12m 17s\n",
      "300:\ttotal: 2m 6s\tremaining: 11m 54s\n",
      "400:\ttotal: 2m 53s\tremaining: 11m 32s\n",
      "500:\ttotal: 3m 41s\tremaining: 11m 1s\n",
      "600:\ttotal: 4m 30s\tremaining: 10m 30s\n",
      "700:\ttotal: 5m 23s\tremaining: 9m 58s\n",
      "800:\ttotal: 6m 13s\tremaining: 9m 19s\n",
      "900:\ttotal: 7m 5s\tremaining: 8m 39s\n",
      "1000:\ttotal: 7m 58s\tremaining: 7m 57s\n",
      "1100:\ttotal: 8m 50s\tremaining: 7m 13s\n",
      "1200:\ttotal: 9m 42s\tremaining: 6m 27s\n",
      "1300:\ttotal: 10m 34s\tremaining: 5m 40s\n",
      "1400:\ttotal: 11m 24s\tremaining: 4m 52s\n",
      "1500:\ttotal: 12m 16s\tremaining: 4m 4s\n",
      "1600:\ttotal: 13m 5s\tremaining: 3m 15s\n",
      "1700:\ttotal: 13m 54s\tremaining: 2m 26s\n",
      "1800:\ttotal: 14m 43s\tremaining: 1m 37s\n",
      "1900:\ttotal: 15m 35s\tremaining: 48.7s\n",
      "1999:\ttotal: 16m 26s\tremaining: 0us\n"
     ]
    },
    {
     "name": "stderr",
     "output_type": "stream",
     "text": [
      "c:\\Users\\tjddl\\AppData\\Local\\Programs\\Python\\Python310\\lib\\site-packages\\xgboost\\core.py:158: UserWarning: [05:54:14] WARNING: C:\\buildkite-agent\\builds\\buildkite-windows-cpu-autoscaling-group-i-08cbc0333d8d4aae1-1\\xgboost\\xgboost-ci-windows\\src\\common\\error_msg.cc:27: The tree method `gpu_hist` is deprecated since 2.0.0. To use GPU training, set the `device` parameter to CUDA instead.\n",
      "\n",
      "    E.g. tree_method = \"hist\", device = \"cuda\"\n",
      "\n",
      "  warnings.warn(smsg, UserWarning)\n",
      "c:\\Users\\tjddl\\AppData\\Local\\Programs\\Python\\Python310\\lib\\site-packages\\xgboost\\core.py:158: UserWarning: [05:54:54] WARNING: C:\\buildkite-agent\\builds\\buildkite-windows-cpu-autoscaling-group-i-08cbc0333d8d4aae1-1\\xgboost\\xgboost-ci-windows\\src\\common\\error_msg.cc:27: The tree method `gpu_hist` is deprecated since 2.0.0. To use GPU training, set the `device` parameter to CUDA instead.\n",
      "\n",
      "    E.g. tree_method = \"hist\", device = \"cuda\"\n",
      "\n",
      "  warnings.warn(smsg, UserWarning)\n",
      "c:\\Users\\tjddl\\AppData\\Local\\Programs\\Python\\Python310\\lib\\site-packages\\xgboost\\core.py:158: UserWarning: [05:54:55] WARNING: C:\\buildkite-agent\\builds\\buildkite-windows-cpu-autoscaling-group-i-08cbc0333d8d4aae1-1\\xgboost\\xgboost-ci-windows\\src\\common\\error_msg.cc:27: The tree method `gpu_hist` is deprecated since 2.0.0. To use GPU training, set the `device` parameter to CUDA instead.\n",
      "\n",
      "    E.g. tree_method = \"hist\", device = \"cuda\"\n",
      "\n",
      "  warnings.warn(smsg, UserWarning)\n",
      "c:\\Users\\tjddl\\AppData\\Local\\Programs\\Python\\Python310\\lib\\site-packages\\xgboost\\core.py:158: UserWarning: [05:55:35] WARNING: C:\\buildkite-agent\\builds\\buildkite-windows-cpu-autoscaling-group-i-08cbc0333d8d4aae1-1\\xgboost\\xgboost-ci-windows\\src\\common\\error_msg.cc:27: The tree method `gpu_hist` is deprecated since 2.0.0. To use GPU training, set the `device` parameter to CUDA instead.\n",
      "\n",
      "    E.g. tree_method = \"hist\", device = \"cuda\"\n",
      "\n",
      "  warnings.warn(smsg, UserWarning)\n",
      "c:\\Users\\tjddl\\AppData\\Local\\Programs\\Python\\Python310\\lib\\site-packages\\xgboost\\core.py:158: UserWarning: [05:55:36] WARNING: C:\\buildkite-agent\\builds\\buildkite-windows-cpu-autoscaling-group-i-08cbc0333d8d4aae1-1\\xgboost\\xgboost-ci-windows\\src\\common\\error_msg.cc:27: The tree method `gpu_hist` is deprecated since 2.0.0. To use GPU training, set the `device` parameter to CUDA instead.\n",
      "\n",
      "    E.g. tree_method = \"hist\", device = \"cuda\"\n",
      "\n",
      "  warnings.warn(smsg, UserWarning)\n",
      "c:\\Users\\tjddl\\AppData\\Local\\Programs\\Python\\Python310\\lib\\site-packages\\xgboost\\core.py:158: UserWarning: [05:56:16] WARNING: C:\\buildkite-agent\\builds\\buildkite-windows-cpu-autoscaling-group-i-08cbc0333d8d4aae1-1\\xgboost\\xgboost-ci-windows\\src\\common\\error_msg.cc:27: The tree method `gpu_hist` is deprecated since 2.0.0. To use GPU training, set the `device` parameter to CUDA instead.\n",
      "\n",
      "    E.g. tree_method = \"hist\", device = \"cuda\"\n",
      "\n",
      "  warnings.warn(smsg, UserWarning)\n",
      "c:\\Users\\tjddl\\AppData\\Local\\Programs\\Python\\Python310\\lib\\site-packages\\xgboost\\core.py:158: UserWarning: [05:56:17] WARNING: C:\\buildkite-agent\\builds\\buildkite-windows-cpu-autoscaling-group-i-08cbc0333d8d4aae1-1\\xgboost\\xgboost-ci-windows\\src\\common\\error_msg.cc:27: The tree method `gpu_hist` is deprecated since 2.0.0. To use GPU training, set the `device` parameter to CUDA instead.\n",
      "\n",
      "    E.g. tree_method = \"hist\", device = \"cuda\"\n",
      "\n",
      "  warnings.warn(smsg, UserWarning)\n",
      "c:\\Users\\tjddl\\AppData\\Local\\Programs\\Python\\Python310\\lib\\site-packages\\xgboost\\core.py:158: UserWarning: [05:56:57] WARNING: C:\\buildkite-agent\\builds\\buildkite-windows-cpu-autoscaling-group-i-08cbc0333d8d4aae1-1\\xgboost\\xgboost-ci-windows\\src\\common\\error_msg.cc:27: The tree method `gpu_hist` is deprecated since 2.0.0. To use GPU training, set the `device` parameter to CUDA instead.\n",
      "\n",
      "    E.g. tree_method = \"hist\", device = \"cuda\"\n",
      "\n",
      "  warnings.warn(smsg, UserWarning)\n",
      "c:\\Users\\tjddl\\AppData\\Local\\Programs\\Python\\Python310\\lib\\site-packages\\xgboost\\core.py:158: UserWarning: [05:56:57] WARNING: C:\\buildkite-agent\\builds\\buildkite-windows-cpu-autoscaling-group-i-08cbc0333d8d4aae1-1\\xgboost\\xgboost-ci-windows\\src\\common\\error_msg.cc:27: The tree method `gpu_hist` is deprecated since 2.0.0. To use GPU training, set the `device` parameter to CUDA instead.\n",
      "\n",
      "    E.g. tree_method = \"hist\", device = \"cuda\"\n",
      "\n",
      "  warnings.warn(smsg, UserWarning)\n",
      "c:\\Users\\tjddl\\AppData\\Local\\Programs\\Python\\Python310\\lib\\site-packages\\xgboost\\core.py:158: UserWarning: [05:57:38] WARNING: C:\\buildkite-agent\\builds\\buildkite-windows-cpu-autoscaling-group-i-08cbc0333d8d4aae1-1\\xgboost\\xgboost-ci-windows\\src\\common\\error_msg.cc:27: The tree method `gpu_hist` is deprecated since 2.0.0. To use GPU training, set the `device` parameter to CUDA instead.\n",
      "\n",
      "    E.g. tree_method = \"hist\", device = \"cuda\"\n",
      "\n",
      "  warnings.warn(smsg, UserWarning)\n"
     ]
    },
    {
     "name": "stdout",
     "output_type": "stream",
     "text": [
      "0:\ttotal: 447ms\tremaining: 14m 54s\n",
      "100:\ttotal: 47.3s\tremaining: 14m 48s\n",
      "200:\ttotal: 1m 34s\tremaining: 14m 2s\n",
      "300:\ttotal: 2m 23s\tremaining: 13m 27s\n",
      "400:\ttotal: 3m 16s\tremaining: 13m 3s\n",
      "500:\ttotal: 4m 9s\tremaining: 12m 27s\n",
      "600:\ttotal: 5m 5s\tremaining: 11m 51s\n",
      "700:\ttotal: 6m 4s\tremaining: 11m 15s\n",
      "800:\ttotal: 7m 2s\tremaining: 10m 32s\n",
      "900:\ttotal: 8m 1s\tremaining: 9m 46s\n",
      "1000:\ttotal: 9m\tremaining: 8m 59s\n",
      "1100:\ttotal: 10m\tremaining: 8m 10s\n",
      "1200:\ttotal: 10m 59s\tremaining: 7m 18s\n",
      "1300:\ttotal: 11m 55s\tremaining: 6m 24s\n",
      "1400:\ttotal: 12m 50s\tremaining: 5m 29s\n",
      "1500:\ttotal: 13m 48s\tremaining: 4m 35s\n",
      "1600:\ttotal: 14m 48s\tremaining: 3m 41s\n",
      "1700:\ttotal: 15m 50s\tremaining: 2m 47s\n",
      "1800:\ttotal: 16m 49s\tremaining: 1m 51s\n",
      "1900:\ttotal: 17m 48s\tremaining: 55.7s\n",
      "1999:\ttotal: 18m 46s\tremaining: 0us\n",
      "0:\ttotal: 490ms\tremaining: 16m 19s\n",
      "100:\ttotal: 49s\tremaining: 15m 21s\n",
      "200:\ttotal: 1m 41s\tremaining: 15m 5s\n",
      "300:\ttotal: 2m 35s\tremaining: 14m 35s\n",
      "400:\ttotal: 3m 31s\tremaining: 14m 2s\n",
      "500:\ttotal: 4m 29s\tremaining: 13m 26s\n",
      "600:\ttotal: 5m 26s\tremaining: 12m 40s\n",
      "700:\ttotal: 6m 25s\tremaining: 11m 55s\n",
      "800:\ttotal: 7m 29s\tremaining: 11m 13s\n",
      "900:\ttotal: 8m 33s\tremaining: 10m 26s\n",
      "1000:\ttotal: 9m 33s\tremaining: 9m 32s\n",
      "1100:\ttotal: 10m 37s\tremaining: 8m 40s\n",
      "1200:\ttotal: 11m 38s\tremaining: 7m 44s\n",
      "1300:\ttotal: 12m 39s\tremaining: 6m 48s\n",
      "1400:\ttotal: 13m 38s\tremaining: 5m 49s\n",
      "1500:\ttotal: 14m 37s\tremaining: 4m 51s\n",
      "1600:\ttotal: 15m 41s\tremaining: 3m 54s\n",
      "1700:\ttotal: 16m 41s\tremaining: 2m 56s\n",
      "1800:\ttotal: 17m 39s\tremaining: 1m 57s\n",
      "1900:\ttotal: 18m 40s\tremaining: 58.3s\n",
      "1999:\ttotal: 19m 41s\tremaining: 0us\n",
      "0:\ttotal: 462ms\tremaining: 15m 23s\n",
      "100:\ttotal: 46.8s\tremaining: 14m 39s\n",
      "200:\ttotal: 1m 34s\tremaining: 14m 7s\n",
      "300:\ttotal: 2m 25s\tremaining: 13m 38s\n",
      "400:\ttotal: 3m 21s\tremaining: 13m 22s\n",
      "500:\ttotal: 4m 16s\tremaining: 12m 47s\n",
      "600:\ttotal: 5m 11s\tremaining: 12m 5s\n",
      "700:\ttotal: 6m 10s\tremaining: 11m 26s\n",
      "800:\ttotal: 7m 10s\tremaining: 10m 44s\n",
      "900:\ttotal: 8m 11s\tremaining: 9m 59s\n",
      "1000:\ttotal: 9m 14s\tremaining: 9m 13s\n",
      "1100:\ttotal: 10m 16s\tremaining: 8m 23s\n",
      "1200:\ttotal: 11m 16s\tremaining: 7m 30s\n",
      "1300:\ttotal: 12m 17s\tremaining: 6m 36s\n",
      "1400:\ttotal: 13m 16s\tremaining: 5m 40s\n",
      "1500:\ttotal: 14m 20s\tremaining: 4m 46s\n",
      "1600:\ttotal: 15m 22s\tremaining: 3m 49s\n",
      "1700:\ttotal: 16m 25s\tremaining: 2m 53s\n",
      "1800:\ttotal: 17m 28s\tremaining: 1m 55s\n",
      "1900:\ttotal: 18m 29s\tremaining: 57.8s\n",
      "1999:\ttotal: 19m 31s\tremaining: 0us\n",
      "0:\ttotal: 475ms\tremaining: 15m 50s\n",
      "100:\ttotal: 50s\tremaining: 15m 39s\n",
      "200:\ttotal: 1m 42s\tremaining: 15m 20s\n",
      "300:\ttotal: 2m 38s\tremaining: 14m 53s\n",
      "400:\ttotal: 3m 35s\tremaining: 14m 19s\n",
      "500:\ttotal: 4m 34s\tremaining: 13m 40s\n",
      "600:\ttotal: 5m 34s\tremaining: 12m 57s\n",
      "700:\ttotal: 6m 33s\tremaining: 12m 9s\n",
      "800:\ttotal: 7m 35s\tremaining: 11m 21s\n",
      "900:\ttotal: 8m 38s\tremaining: 10m 32s\n",
      "1000:\ttotal: 9m 41s\tremaining: 9m 40s\n",
      "1100:\ttotal: 10m 41s\tremaining: 8m 44s\n",
      "1200:\ttotal: 11m 43s\tremaining: 7m 48s\n",
      "1300:\ttotal: 12m 43s\tremaining: 6m 50s\n",
      "1400:\ttotal: 13m 44s\tremaining: 5m 52s\n",
      "1500:\ttotal: 14m 44s\tremaining: 4m 54s\n",
      "1600:\ttotal: 15m 47s\tremaining: 3m 56s\n",
      "1700:\ttotal: 16m 46s\tremaining: 2m 56s\n",
      "1800:\ttotal: 17m 48s\tremaining: 1m 58s\n",
      "1900:\ttotal: 18m 49s\tremaining: 58.8s\n",
      "1999:\ttotal: 19m 47s\tremaining: 0us\n",
      "0:\ttotal: 487ms\tremaining: 16m 12s\n",
      "100:\ttotal: 50.9s\tremaining: 15m 56s\n",
      "200:\ttotal: 1m 43s\tremaining: 15m 22s\n",
      "300:\ttotal: 2m 40s\tremaining: 15m 4s\n",
      "400:\ttotal: 3m 36s\tremaining: 14m 22s\n",
      "500:\ttotal: 4m 34s\tremaining: 13m 40s\n",
      "600:\ttotal: 5m 34s\tremaining: 12m 59s\n",
      "700:\ttotal: 6m 36s\tremaining: 12m 14s\n",
      "800:\ttotal: 7m 39s\tremaining: 11m 28s\n",
      "900:\ttotal: 8m 43s\tremaining: 10m 38s\n",
      "1000:\ttotal: 9m 44s\tremaining: 9m 43s\n",
      "1100:\ttotal: 10m 46s\tremaining: 8m 47s\n",
      "1200:\ttotal: 11m 47s\tremaining: 7m 50s\n",
      "1300:\ttotal: 12m 49s\tremaining: 6m 53s\n",
      "1400:\ttotal: 13m 50s\tremaining: 5m 55s\n",
      "1500:\ttotal: 14m 52s\tremaining: 4m 56s\n",
      "1600:\ttotal: 15m 53s\tremaining: 3m 57s\n",
      "1700:\ttotal: 16m 55s\tremaining: 2m 58s\n",
      "1800:\ttotal: 17m 58s\tremaining: 1m 59s\n",
      "1900:\ttotal: 18m 59s\tremaining: 59.3s\n",
      "1999:\ttotal: 19m 59s\tremaining: 0us\n"
     ]
    },
    {
     "name": "stderr",
     "output_type": "stream",
     "text": [
      "c:\\Users\\tjddl\\AppData\\Local\\Programs\\Python\\Python310\\lib\\site-packages\\xgboost\\core.py:158: UserWarning: [07:36:04] WARNING: C:\\buildkite-agent\\builds\\buildkite-windows-cpu-autoscaling-group-i-08cbc0333d8d4aae1-1\\xgboost\\xgboost-ci-windows\\src\\common\\error_msg.cc:27: The tree method `gpu_hist` is deprecated since 2.0.0. To use GPU training, set the `device` parameter to CUDA instead.\n",
      "\n",
      "    E.g. tree_method = \"hist\", device = \"cuda\"\n",
      "\n",
      "  warnings.warn(smsg, UserWarning)\n"
     ]
    },
    {
     "name": "stdout",
     "output_type": "stream",
     "text": [
      "[CV] END cat__depth=10, cat__iterations=2000, cat__l2_leaf_reg=7, cat__learning_rate=0.005, cat__random_strength=0.5, final_estimator__lr__C=10.0, lgbm__learning_rate=0.02, lgbm__max_depth=12, lgbm__min_child_samples=10, lgbm__n_estimators=1500, lgbm__num_leaves=63, lgbm__reg_alpha=1, lgbm__reg_lambda=10, xgb__learning_rate=0.01, xgb__max_depth=10, xgb__min_child_weight=0.1, xgb__n_estimators=2500; total time=119.1min\n"
     ]
    },
    {
     "name": "stderr",
     "output_type": "stream",
     "text": [
      "c:\\Users\\tjddl\\AppData\\Local\\Programs\\Python\\Python310\\lib\\site-packages\\xgboost\\core.py:158: UserWarning: [07:36:06] WARNING: C:\\buildkite-agent\\builds\\buildkite-windows-cpu-autoscaling-group-i-08cbc0333d8d4aae1-1\\xgboost\\xgboost-ci-windows\\src\\common\\error_msg.cc:27: The tree method `gpu_hist` is deprecated since 2.0.0. To use GPU training, set the `device` parameter to CUDA instead.\n",
      "\n",
      "    E.g. tree_method = \"hist\", device = \"cuda\"\n",
      "\n",
      "  warnings.warn(smsg, UserWarning)\n"
     ]
    },
    {
     "name": "stdout",
     "output_type": "stream",
     "text": [
      "0:\ttotal: 411ms\tremaining: 13m 41s\n",
      "100:\ttotal: 41.9s\tremaining: 13m 8s\n",
      "200:\ttotal: 1m 24s\tremaining: 12m 35s\n",
      "300:\ttotal: 2m 8s\tremaining: 12m 3s\n",
      "400:\ttotal: 2m 57s\tremaining: 11m 45s\n",
      "500:\ttotal: 3m 46s\tremaining: 11m 16s\n",
      "600:\ttotal: 4m 36s\tremaining: 10m 42s\n",
      "700:\ttotal: 5m 27s\tremaining: 10m 7s\n",
      "800:\ttotal: 6m 20s\tremaining: 9m 29s\n",
      "900:\ttotal: 7m 15s\tremaining: 8m 50s\n",
      "1000:\ttotal: 8m 7s\tremaining: 8m 6s\n",
      "1100:\ttotal: 8m 58s\tremaining: 7m 20s\n",
      "1200:\ttotal: 9m 51s\tremaining: 6m 33s\n",
      "1300:\ttotal: 10m 43s\tremaining: 5m 45s\n",
      "1400:\ttotal: 11m 34s\tremaining: 4m 57s\n",
      "1500:\ttotal: 12m 27s\tremaining: 4m 8s\n",
      "1600:\ttotal: 13m 18s\tremaining: 3m 18s\n",
      "1700:\ttotal: 14m 9s\tremaining: 2m 29s\n",
      "1800:\ttotal: 14m 59s\tremaining: 1m 39s\n",
      "1900:\ttotal: 15m 50s\tremaining: 49.5s\n",
      "1999:\ttotal: 16m 43s\tremaining: 0us\n"
     ]
    },
    {
     "name": "stderr",
     "output_type": "stream",
     "text": [
      "c:\\Users\\tjddl\\AppData\\Local\\Programs\\Python\\Python310\\lib\\site-packages\\xgboost\\core.py:158: UserWarning: [07:53:41] WARNING: C:\\buildkite-agent\\builds\\buildkite-windows-cpu-autoscaling-group-i-08cbc0333d8d4aae1-1\\xgboost\\xgboost-ci-windows\\src\\common\\error_msg.cc:27: The tree method `gpu_hist` is deprecated since 2.0.0. To use GPU training, set the `device` parameter to CUDA instead.\n",
      "\n",
      "    E.g. tree_method = \"hist\", device = \"cuda\"\n",
      "\n",
      "  warnings.warn(smsg, UserWarning)\n",
      "c:\\Users\\tjddl\\AppData\\Local\\Programs\\Python\\Python310\\lib\\site-packages\\xgboost\\core.py:158: UserWarning: [07:54:21] WARNING: C:\\buildkite-agent\\builds\\buildkite-windows-cpu-autoscaling-group-i-08cbc0333d8d4aae1-1\\xgboost\\xgboost-ci-windows\\src\\common\\error_msg.cc:27: The tree method `gpu_hist` is deprecated since 2.0.0. To use GPU training, set the `device` parameter to CUDA instead.\n",
      "\n",
      "    E.g. tree_method = \"hist\", device = \"cuda\"\n",
      "\n",
      "  warnings.warn(smsg, UserWarning)\n",
      "c:\\Users\\tjddl\\AppData\\Local\\Programs\\Python\\Python310\\lib\\site-packages\\xgboost\\core.py:158: UserWarning: [07:54:22] WARNING: C:\\buildkite-agent\\builds\\buildkite-windows-cpu-autoscaling-group-i-08cbc0333d8d4aae1-1\\xgboost\\xgboost-ci-windows\\src\\common\\error_msg.cc:27: The tree method `gpu_hist` is deprecated since 2.0.0. To use GPU training, set the `device` parameter to CUDA instead.\n",
      "\n",
      "    E.g. tree_method = \"hist\", device = \"cuda\"\n",
      "\n",
      "  warnings.warn(smsg, UserWarning)\n",
      "c:\\Users\\tjddl\\AppData\\Local\\Programs\\Python\\Python310\\lib\\site-packages\\xgboost\\core.py:158: UserWarning: [07:55:02] WARNING: C:\\buildkite-agent\\builds\\buildkite-windows-cpu-autoscaling-group-i-08cbc0333d8d4aae1-1\\xgboost\\xgboost-ci-windows\\src\\common\\error_msg.cc:27: The tree method `gpu_hist` is deprecated since 2.0.0. To use GPU training, set the `device` parameter to CUDA instead.\n",
      "\n",
      "    E.g. tree_method = \"hist\", device = \"cuda\"\n",
      "\n",
      "  warnings.warn(smsg, UserWarning)\n",
      "c:\\Users\\tjddl\\AppData\\Local\\Programs\\Python\\Python310\\lib\\site-packages\\xgboost\\core.py:158: UserWarning: [07:55:03] WARNING: C:\\buildkite-agent\\builds\\buildkite-windows-cpu-autoscaling-group-i-08cbc0333d8d4aae1-1\\xgboost\\xgboost-ci-windows\\src\\common\\error_msg.cc:27: The tree method `gpu_hist` is deprecated since 2.0.0. To use GPU training, set the `device` parameter to CUDA instead.\n",
      "\n",
      "    E.g. tree_method = \"hist\", device = \"cuda\"\n",
      "\n",
      "  warnings.warn(smsg, UserWarning)\n",
      "c:\\Users\\tjddl\\AppData\\Local\\Programs\\Python\\Python310\\lib\\site-packages\\xgboost\\core.py:158: UserWarning: [07:55:43] WARNING: C:\\buildkite-agent\\builds\\buildkite-windows-cpu-autoscaling-group-i-08cbc0333d8d4aae1-1\\xgboost\\xgboost-ci-windows\\src\\common\\error_msg.cc:27: The tree method `gpu_hist` is deprecated since 2.0.0. To use GPU training, set the `device` parameter to CUDA instead.\n",
      "\n",
      "    E.g. tree_method = \"hist\", device = \"cuda\"\n",
      "\n",
      "  warnings.warn(smsg, UserWarning)\n",
      "c:\\Users\\tjddl\\AppData\\Local\\Programs\\Python\\Python310\\lib\\site-packages\\xgboost\\core.py:158: UserWarning: [07:55:44] WARNING: C:\\buildkite-agent\\builds\\buildkite-windows-cpu-autoscaling-group-i-08cbc0333d8d4aae1-1\\xgboost\\xgboost-ci-windows\\src\\common\\error_msg.cc:27: The tree method `gpu_hist` is deprecated since 2.0.0. To use GPU training, set the `device` parameter to CUDA instead.\n",
      "\n",
      "    E.g. tree_method = \"hist\", device = \"cuda\"\n",
      "\n",
      "  warnings.warn(smsg, UserWarning)\n",
      "c:\\Users\\tjddl\\AppData\\Local\\Programs\\Python\\Python310\\lib\\site-packages\\xgboost\\core.py:158: UserWarning: [07:56:24] WARNING: C:\\buildkite-agent\\builds\\buildkite-windows-cpu-autoscaling-group-i-08cbc0333d8d4aae1-1\\xgboost\\xgboost-ci-windows\\src\\common\\error_msg.cc:27: The tree method `gpu_hist` is deprecated since 2.0.0. To use GPU training, set the `device` parameter to CUDA instead.\n",
      "\n",
      "    E.g. tree_method = \"hist\", device = \"cuda\"\n",
      "\n",
      "  warnings.warn(smsg, UserWarning)\n",
      "c:\\Users\\tjddl\\AppData\\Local\\Programs\\Python\\Python310\\lib\\site-packages\\xgboost\\core.py:158: UserWarning: [07:56:25] WARNING: C:\\buildkite-agent\\builds\\buildkite-windows-cpu-autoscaling-group-i-08cbc0333d8d4aae1-1\\xgboost\\xgboost-ci-windows\\src\\common\\error_msg.cc:27: The tree method `gpu_hist` is deprecated since 2.0.0. To use GPU training, set the `device` parameter to CUDA instead.\n",
      "\n",
      "    E.g. tree_method = \"hist\", device = \"cuda\"\n",
      "\n",
      "  warnings.warn(smsg, UserWarning)\n",
      "c:\\Users\\tjddl\\AppData\\Local\\Programs\\Python\\Python310\\lib\\site-packages\\xgboost\\core.py:158: UserWarning: [07:57:05] WARNING: C:\\buildkite-agent\\builds\\buildkite-windows-cpu-autoscaling-group-i-08cbc0333d8d4aae1-1\\xgboost\\xgboost-ci-windows\\src\\common\\error_msg.cc:27: The tree method `gpu_hist` is deprecated since 2.0.0. To use GPU training, set the `device` parameter to CUDA instead.\n",
      "\n",
      "    E.g. tree_method = \"hist\", device = \"cuda\"\n",
      "\n",
      "  warnings.warn(smsg, UserWarning)\n"
     ]
    },
    {
     "name": "stdout",
     "output_type": "stream",
     "text": [
      "0:\ttotal: 502ms\tremaining: 16m 44s\n",
      "100:\ttotal: 46.6s\tremaining: 14m 35s\n",
      "200:\ttotal: 1m 36s\tremaining: 14m 26s\n",
      "300:\ttotal: 2m 27s\tremaining: 13m 51s\n",
      "400:\ttotal: 3m 21s\tremaining: 13m 24s\n",
      "500:\ttotal: 4m 20s\tremaining: 12m 59s\n",
      "600:\ttotal: 5m 22s\tremaining: 12m 31s\n",
      "700:\ttotal: 6m 23s\tremaining: 11m 50s\n",
      "800:\ttotal: 7m 24s\tremaining: 11m 5s\n",
      "900:\ttotal: 8m 27s\tremaining: 10m 19s\n",
      "1000:\ttotal: 9m 31s\tremaining: 9m 30s\n",
      "1100:\ttotal: 10m 34s\tremaining: 8m 38s\n",
      "1200:\ttotal: 11m 38s\tremaining: 7m 44s\n",
      "1300:\ttotal: 12m 38s\tremaining: 6m 47s\n",
      "1400:\ttotal: 13m 40s\tremaining: 5m 50s\n",
      "1500:\ttotal: 14m 40s\tremaining: 4m 52s\n",
      "1600:\ttotal: 15m 39s\tremaining: 3m 54s\n",
      "1700:\ttotal: 16m 42s\tremaining: 2m 56s\n",
      "1800:\ttotal: 17m 44s\tremaining: 1m 57s\n",
      "1900:\ttotal: 18m 47s\tremaining: 58.7s\n",
      "1999:\ttotal: 19m 53s\tremaining: 0us\n",
      "0:\ttotal: 538ms\tremaining: 17m 55s\n",
      "100:\ttotal: 53.4s\tremaining: 16m 44s\n",
      "200:\ttotal: 1m 48s\tremaining: 16m 9s\n",
      "300:\ttotal: 2m 45s\tremaining: 15m 33s\n",
      "400:\ttotal: 3m 43s\tremaining: 14m 51s\n",
      "500:\ttotal: 4m 45s\tremaining: 14m 14s\n",
      "600:\ttotal: 5m 48s\tremaining: 13m 30s\n",
      "700:\ttotal: 6m 51s\tremaining: 12m 42s\n",
      "800:\ttotal: 7m 57s\tremaining: 11m 55s\n",
      "900:\ttotal: 9m 7s\tremaining: 11m 7s\n",
      "1000:\ttotal: 10m 13s\tremaining: 10m 12s\n",
      "1100:\ttotal: 11m 20s\tremaining: 9m 15s\n",
      "1200:\ttotal: 12m 25s\tremaining: 8m 15s\n",
      "1300:\ttotal: 13m 28s\tremaining: 7m 14s\n",
      "1400:\ttotal: 14m 33s\tremaining: 6m 13s\n",
      "1500:\ttotal: 15m 39s\tremaining: 5m 12s\n",
      "1600:\ttotal: 16m 47s\tremaining: 4m 11s\n",
      "1700:\ttotal: 17m 56s\tremaining: 3m 9s\n",
      "1800:\ttotal: 19m 3s\tremaining: 2m 6s\n",
      "1900:\ttotal: 20m 11s\tremaining: 1m 3s\n",
      "1999:\ttotal: 21m 17s\tremaining: 0us\n",
      "0:\ttotal: 564ms\tremaining: 18m 47s\n",
      "100:\ttotal: 51.9s\tremaining: 16m 15s\n",
      "200:\ttotal: 1m 46s\tremaining: 15m 56s\n",
      "300:\ttotal: 2m 42s\tremaining: 15m 16s\n",
      "400:\ttotal: 3m 42s\tremaining: 14m 48s\n",
      "500:\ttotal: 4m 46s\tremaining: 14m 16s\n",
      "600:\ttotal: 5m 52s\tremaining: 13m 41s\n",
      "700:\ttotal: 6m 59s\tremaining: 12m 57s\n",
      "800:\ttotal: 7m 59s\tremaining: 11m 58s\n",
      "900:\ttotal: 9m 3s\tremaining: 11m 2s\n",
      "1000:\ttotal: 10m 6s\tremaining: 10m 5s\n",
      "1100:\ttotal: 11m 10s\tremaining: 9m 7s\n",
      "1200:\ttotal: 12m 14s\tremaining: 8m 8s\n",
      "1300:\ttotal: 13m 14s\tremaining: 7m 6s\n",
      "1400:\ttotal: 14m 16s\tremaining: 6m 6s\n",
      "1500:\ttotal: 15m 20s\tremaining: 5m 5s\n",
      "1600:\ttotal: 16m 21s\tremaining: 4m 4s\n",
      "1700:\ttotal: 17m 22s\tremaining: 3m 3s\n",
      "1800:\ttotal: 18m 27s\tremaining: 2m 2s\n",
      "1900:\ttotal: 19m 30s\tremaining: 1m\n",
      "1999:\ttotal: 20m 32s\tremaining: 0us\n",
      "0:\ttotal: 517ms\tremaining: 17m 14s\n",
      "100:\ttotal: 46.6s\tremaining: 14m 36s\n",
      "200:\ttotal: 1m 37s\tremaining: 14m 30s\n",
      "300:\ttotal: 2m 30s\tremaining: 14m 6s\n",
      "400:\ttotal: 3m 26s\tremaining: 13m 43s\n",
      "500:\ttotal: 4m 23s\tremaining: 13m 9s\n",
      "600:\ttotal: 5m 21s\tremaining: 12m 29s\n",
      "700:\ttotal: 6m 23s\tremaining: 11m 51s\n",
      "800:\ttotal: 7m 26s\tremaining: 11m 8s\n",
      "900:\ttotal: 8m 31s\tremaining: 10m 24s\n",
      "1000:\ttotal: 9m 38s\tremaining: 9m 37s\n",
      "1100:\ttotal: 10m 41s\tremaining: 8m 43s\n",
      "1200:\ttotal: 11m 41s\tremaining: 7m 46s\n",
      "1300:\ttotal: 12m 43s\tremaining: 6m 50s\n",
      "1400:\ttotal: 13m 44s\tremaining: 5m 52s\n",
      "1500:\ttotal: 14m 47s\tremaining: 4m 54s\n",
      "1600:\ttotal: 15m 50s\tremaining: 3m 56s\n",
      "1700:\ttotal: 16m 51s\tremaining: 2m 57s\n",
      "1800:\ttotal: 17m 51s\tremaining: 1m 58s\n",
      "1900:\ttotal: 18m 53s\tremaining: 59s\n",
      "1999:\ttotal: 19m 54s\tremaining: 0us\n",
      "0:\ttotal: 487ms\tremaining: 16m 13s\n",
      "100:\ttotal: 47.2s\tremaining: 14m 47s\n",
      "200:\ttotal: 1m 36s\tremaining: 14m 24s\n",
      "300:\ttotal: 2m 28s\tremaining: 13m 58s\n",
      "400:\ttotal: 3m 23s\tremaining: 13m 32s\n",
      "500:\ttotal: 4m 21s\tremaining: 13m 3s\n",
      "600:\ttotal: 5m 20s\tremaining: 12m 26s\n",
      "700:\ttotal: 6m 23s\tremaining: 11m 50s\n",
      "800:\ttotal: 7m 25s\tremaining: 11m 7s\n",
      "900:\ttotal: 8m 27s\tremaining: 10m 19s\n",
      "1000:\ttotal: 9m 30s\tremaining: 9m 29s\n",
      "1100:\ttotal: 10m 32s\tremaining: 8m 36s\n",
      "1200:\ttotal: 11m 33s\tremaining: 7m 41s\n",
      "1300:\ttotal: 12m 34s\tremaining: 6m 45s\n",
      "1400:\ttotal: 13m 36s\tremaining: 5m 49s\n",
      "1500:\ttotal: 14m 39s\tremaining: 4m 52s\n",
      "1600:\ttotal: 15m 51s\tremaining: 3m 57s\n",
      "1700:\ttotal: 16m 58s\tremaining: 2m 59s\n",
      "1800:\ttotal: 18m 2s\tremaining: 1m 59s\n",
      "1900:\ttotal: 19m 5s\tremaining: 59.7s\n",
      "1999:\ttotal: 20m 8s\tremaining: 0us\n"
     ]
    },
    {
     "name": "stderr",
     "output_type": "stream",
     "text": [
      "c:\\Users\\tjddl\\AppData\\Local\\Programs\\Python\\Python310\\lib\\site-packages\\xgboost\\core.py:158: UserWarning: [13:12:04] WARNING: C:\\buildkite-agent\\builds\\buildkite-windows-cpu-autoscaling-group-i-08cbc0333d8d4aae1-1\\xgboost\\xgboost-ci-windows\\src\\common\\error_msg.cc:27: The tree method `gpu_hist` is deprecated since 2.0.0. To use GPU training, set the `device` parameter to CUDA instead.\n",
      "\n",
      "    E.g. tree_method = \"hist\", device = \"cuda\"\n",
      "\n",
      "  warnings.warn(smsg, UserWarning)\n"
     ]
    },
    {
     "name": "stdout",
     "output_type": "stream",
     "text": [
      "[CV] END cat__depth=10, cat__iterations=2000, cat__l2_leaf_reg=7, cat__learning_rate=0.005, cat__random_strength=0.5, final_estimator__lr__C=10.0, lgbm__learning_rate=0.02, lgbm__max_depth=12, lgbm__min_child_samples=10, lgbm__n_estimators=1500, lgbm__num_leaves=63, lgbm__reg_alpha=1, lgbm__reg_lambda=10, xgb__learning_rate=0.01, xgb__max_depth=10, xgb__min_child_weight=0.1, xgb__n_estimators=2500; total time=336.0min\n"
     ]
    },
    {
     "name": "stderr",
     "output_type": "stream",
     "text": [
      "c:\\Users\\tjddl\\AppData\\Local\\Programs\\Python\\Python310\\lib\\site-packages\\xgboost\\core.py:158: UserWarning: [13:12:06] WARNING: C:\\buildkite-agent\\builds\\buildkite-windows-cpu-autoscaling-group-i-08cbc0333d8d4aae1-1\\xgboost\\xgboost-ci-windows\\src\\common\\error_msg.cc:27: The tree method `gpu_hist` is deprecated since 2.0.0. To use GPU training, set the `device` parameter to CUDA instead.\n",
      "\n",
      "    E.g. tree_method = \"hist\", device = \"cuda\"\n",
      "\n",
      "  warnings.warn(smsg, UserWarning)\n"
     ]
    },
    {
     "name": "stdout",
     "output_type": "stream",
     "text": [
      "0:\ttotal: 431ms\tremaining: 14m 21s\n",
      "100:\ttotal: 45.7s\tremaining: 14m 19s\n",
      "200:\ttotal: 1m 34s\tremaining: 14m 7s\n",
      "300:\ttotal: 2m 24s\tremaining: 13m 34s\n",
      "400:\ttotal: 3m 13s\tremaining: 12m 52s\n",
      "500:\ttotal: 4m 3s\tremaining: 12m 8s\n",
      "600:\ttotal: 4m 56s\tremaining: 11m 30s\n",
      "700:\ttotal: 5m 49s\tremaining: 10m 47s\n",
      "800:\ttotal: 6m 44s\tremaining: 10m 4s\n",
      "900:\ttotal: 7m 38s\tremaining: 9m 19s\n",
      "1000:\ttotal: 8m 34s\tremaining: 8m 33s\n",
      "1100:\ttotal: 9m 27s\tremaining: 7m 43s\n",
      "1200:\ttotal: 10m 22s\tremaining: 6m 54s\n",
      "1300:\ttotal: 11m 14s\tremaining: 6m 2s\n",
      "1400:\ttotal: 12m 4s\tremaining: 5m 9s\n",
      "1500:\ttotal: 12m 58s\tremaining: 4m 18s\n",
      "1600:\ttotal: 13m 52s\tremaining: 3m 27s\n",
      "1700:\ttotal: 14m 44s\tremaining: 2m 35s\n",
      "1800:\ttotal: 15m 36s\tremaining: 1m 43s\n",
      "1900:\ttotal: 16m 29s\tremaining: 51.5s\n",
      "1999:\ttotal: 17m 20s\tremaining: 0us\n"
     ]
    },
    {
     "name": "stderr",
     "output_type": "stream",
     "text": [
      "c:\\Users\\tjddl\\AppData\\Local\\Programs\\Python\\Python310\\lib\\site-packages\\xgboost\\core.py:158: UserWarning: [13:30:16] WARNING: C:\\buildkite-agent\\builds\\buildkite-windows-cpu-autoscaling-group-i-08cbc0333d8d4aae1-1\\xgboost\\xgboost-ci-windows\\src\\common\\error_msg.cc:27: The tree method `gpu_hist` is deprecated since 2.0.0. To use GPU training, set the `device` parameter to CUDA instead.\n",
      "\n",
      "    E.g. tree_method = \"hist\", device = \"cuda\"\n",
      "\n",
      "  warnings.warn(smsg, UserWarning)\n",
      "c:\\Users\\tjddl\\AppData\\Local\\Programs\\Python\\Python310\\lib\\site-packages\\xgboost\\core.py:158: UserWarning: [13:30:54] WARNING: C:\\buildkite-agent\\builds\\buildkite-windows-cpu-autoscaling-group-i-08cbc0333d8d4aae1-1\\xgboost\\xgboost-ci-windows\\src\\common\\error_msg.cc:27: The tree method `gpu_hist` is deprecated since 2.0.0. To use GPU training, set the `device` parameter to CUDA instead.\n",
      "\n",
      "    E.g. tree_method = \"hist\", device = \"cuda\"\n",
      "\n",
      "  warnings.warn(smsg, UserWarning)\n",
      "c:\\Users\\tjddl\\AppData\\Local\\Programs\\Python\\Python310\\lib\\site-packages\\xgboost\\core.py:158: UserWarning: [13:30:54] WARNING: C:\\buildkite-agent\\builds\\buildkite-windows-cpu-autoscaling-group-i-08cbc0333d8d4aae1-1\\xgboost\\xgboost-ci-windows\\src\\common\\error_msg.cc:27: The tree method `gpu_hist` is deprecated since 2.0.0. To use GPU training, set the `device` parameter to CUDA instead.\n",
      "\n",
      "    E.g. tree_method = \"hist\", device = \"cuda\"\n",
      "\n",
      "  warnings.warn(smsg, UserWarning)\n",
      "c:\\Users\\tjddl\\AppData\\Local\\Programs\\Python\\Python310\\lib\\site-packages\\xgboost\\core.py:158: UserWarning: [13:31:32] WARNING: C:\\buildkite-agent\\builds\\buildkite-windows-cpu-autoscaling-group-i-08cbc0333d8d4aae1-1\\xgboost\\xgboost-ci-windows\\src\\common\\error_msg.cc:27: The tree method `gpu_hist` is deprecated since 2.0.0. To use GPU training, set the `device` parameter to CUDA instead.\n",
      "\n",
      "    E.g. tree_method = \"hist\", device = \"cuda\"\n",
      "\n",
      "  warnings.warn(smsg, UserWarning)\n",
      "c:\\Users\\tjddl\\AppData\\Local\\Programs\\Python\\Python310\\lib\\site-packages\\xgboost\\core.py:158: UserWarning: [13:31:33] WARNING: C:\\buildkite-agent\\builds\\buildkite-windows-cpu-autoscaling-group-i-08cbc0333d8d4aae1-1\\xgboost\\xgboost-ci-windows\\src\\common\\error_msg.cc:27: The tree method `gpu_hist` is deprecated since 2.0.0. To use GPU training, set the `device` parameter to CUDA instead.\n",
      "\n",
      "    E.g. tree_method = \"hist\", device = \"cuda\"\n",
      "\n",
      "  warnings.warn(smsg, UserWarning)\n",
      "c:\\Users\\tjddl\\AppData\\Local\\Programs\\Python\\Python310\\lib\\site-packages\\xgboost\\core.py:158: UserWarning: [13:32:11] WARNING: C:\\buildkite-agent\\builds\\buildkite-windows-cpu-autoscaling-group-i-08cbc0333d8d4aae1-1\\xgboost\\xgboost-ci-windows\\src\\common\\error_msg.cc:27: The tree method `gpu_hist` is deprecated since 2.0.0. To use GPU training, set the `device` parameter to CUDA instead.\n",
      "\n",
      "    E.g. tree_method = \"hist\", device = \"cuda\"\n",
      "\n",
      "  warnings.warn(smsg, UserWarning)\n",
      "c:\\Users\\tjddl\\AppData\\Local\\Programs\\Python\\Python310\\lib\\site-packages\\xgboost\\core.py:158: UserWarning: [13:32:11] WARNING: C:\\buildkite-agent\\builds\\buildkite-windows-cpu-autoscaling-group-i-08cbc0333d8d4aae1-1\\xgboost\\xgboost-ci-windows\\src\\common\\error_msg.cc:27: The tree method `gpu_hist` is deprecated since 2.0.0. To use GPU training, set the `device` parameter to CUDA instead.\n",
      "\n",
      "    E.g. tree_method = \"hist\", device = \"cuda\"\n",
      "\n",
      "  warnings.warn(smsg, UserWarning)\n",
      "c:\\Users\\tjddl\\AppData\\Local\\Programs\\Python\\Python310\\lib\\site-packages\\xgboost\\core.py:158: UserWarning: [13:32:49] WARNING: C:\\buildkite-agent\\builds\\buildkite-windows-cpu-autoscaling-group-i-08cbc0333d8d4aae1-1\\xgboost\\xgboost-ci-windows\\src\\common\\error_msg.cc:27: The tree method `gpu_hist` is deprecated since 2.0.0. To use GPU training, set the `device` parameter to CUDA instead.\n",
      "\n",
      "    E.g. tree_method = \"hist\", device = \"cuda\"\n",
      "\n",
      "  warnings.warn(smsg, UserWarning)\n",
      "c:\\Users\\tjddl\\AppData\\Local\\Programs\\Python\\Python310\\lib\\site-packages\\xgboost\\core.py:158: UserWarning: [13:32:50] WARNING: C:\\buildkite-agent\\builds\\buildkite-windows-cpu-autoscaling-group-i-08cbc0333d8d4aae1-1\\xgboost\\xgboost-ci-windows\\src\\common\\error_msg.cc:27: The tree method `gpu_hist` is deprecated since 2.0.0. To use GPU training, set the `device` parameter to CUDA instead.\n",
      "\n",
      "    E.g. tree_method = \"hist\", device = \"cuda\"\n",
      "\n",
      "  warnings.warn(smsg, UserWarning)\n",
      "c:\\Users\\tjddl\\AppData\\Local\\Programs\\Python\\Python310\\lib\\site-packages\\xgboost\\core.py:158: UserWarning: [13:33:28] WARNING: C:\\buildkite-agent\\builds\\buildkite-windows-cpu-autoscaling-group-i-08cbc0333d8d4aae1-1\\xgboost\\xgboost-ci-windows\\src\\common\\error_msg.cc:27: The tree method `gpu_hist` is deprecated since 2.0.0. To use GPU training, set the `device` parameter to CUDA instead.\n",
      "\n",
      "    E.g. tree_method = \"hist\", device = \"cuda\"\n",
      "\n",
      "  warnings.warn(smsg, UserWarning)\n"
     ]
    },
    {
     "name": "stdout",
     "output_type": "stream",
     "text": [
      "0:\ttotal: 548ms\tremaining: 18m 15s\n",
      "100:\ttotal: 49.2s\tremaining: 15m 25s\n",
      "200:\ttotal: 1m 38s\tremaining: 14m 45s\n",
      "300:\ttotal: 2m 32s\tremaining: 14m 20s\n",
      "400:\ttotal: 3m 31s\tremaining: 14m 4s\n",
      "500:\ttotal: 4m 30s\tremaining: 13m 30s\n",
      "600:\ttotal: 5m 31s\tremaining: 12m 51s\n",
      "700:\ttotal: 6m 34s\tremaining: 12m 10s\n",
      "800:\ttotal: 7m 38s\tremaining: 11m 25s\n",
      "900:\ttotal: 8m 41s\tremaining: 10m 36s\n",
      "1000:\ttotal: 9m 43s\tremaining: 9m 42s\n",
      "1100:\ttotal: 10m 45s\tremaining: 8m 47s\n",
      "1200:\ttotal: 11m 46s\tremaining: 7m 50s\n",
      "1300:\ttotal: 12m 48s\tremaining: 6m 52s\n",
      "1400:\ttotal: 13m 51s\tremaining: 5m 55s\n",
      "1500:\ttotal: 14m 52s\tremaining: 4m 56s\n",
      "1600:\ttotal: 15m 54s\tremaining: 3m 57s\n",
      "1700:\ttotal: 17m\tremaining: 2m 59s\n",
      "1800:\ttotal: 18m 2s\tremaining: 1m 59s\n",
      "1900:\ttotal: 19m 3s\tremaining: 59.5s\n",
      "1999:\ttotal: 20m 5s\tremaining: 0us\n",
      "0:\ttotal: 512ms\tremaining: 17m 4s\n",
      "100:\ttotal: 50.3s\tremaining: 15m 45s\n",
      "200:\ttotal: 1m 42s\tremaining: 15m 17s\n",
      "300:\ttotal: 2m 37s\tremaining: 14m 51s\n",
      "400:\ttotal: 3m 35s\tremaining: 14m 20s\n",
      "500:\ttotal: 4m 37s\tremaining: 13m 50s\n",
      "600:\ttotal: 5m 40s\tremaining: 13m 13s\n",
      "700:\ttotal: 6m 45s\tremaining: 12m 30s\n",
      "800:\ttotal: 7m 49s\tremaining: 11m 42s\n",
      "900:\ttotal: 8m 56s\tremaining: 10m 54s\n",
      "1000:\ttotal: 10m 1s\tremaining: 10m\n",
      "1100:\ttotal: 11m 6s\tremaining: 9m 4s\n",
      "1200:\ttotal: 12m 9s\tremaining: 8m 5s\n",
      "1300:\ttotal: 13m 7s\tremaining: 7m 3s\n",
      "1400:\ttotal: 14m 11s\tremaining: 6m 3s\n",
      "1500:\ttotal: 15m 12s\tremaining: 5m 3s\n",
      "1600:\ttotal: 16m 18s\tremaining: 4m 3s\n",
      "1700:\ttotal: 17m 22s\tremaining: 3m 3s\n",
      "1800:\ttotal: 18m 28s\tremaining: 2m 2s\n",
      "1900:\ttotal: 19m 31s\tremaining: 1m 1s\n",
      "1999:\ttotal: 20m 29s\tremaining: 0us\n",
      "0:\ttotal: 482ms\tremaining: 16m 2s\n",
      "100:\ttotal: 50.9s\tremaining: 15m 56s\n",
      "200:\ttotal: 1m 47s\tremaining: 15m 59s\n",
      "300:\ttotal: 2m 44s\tremaining: 15m 27s\n",
      "400:\ttotal: 3m 44s\tremaining: 14m 56s\n",
      "500:\ttotal: 4m 41s\tremaining: 14m 2s\n",
      "600:\ttotal: 5m 41s\tremaining: 13m 14s\n",
      "700:\ttotal: 6m 46s\tremaining: 12m 32s\n",
      "800:\ttotal: 7m 50s\tremaining: 11m 44s\n",
      "900:\ttotal: 8m 58s\tremaining: 10m 56s\n",
      "1000:\ttotal: 10m 5s\tremaining: 10m 3s\n",
      "1100:\ttotal: 11m 9s\tremaining: 9m 6s\n",
      "1200:\ttotal: 12m 12s\tremaining: 8m 7s\n",
      "1300:\ttotal: 13m 15s\tremaining: 7m 7s\n",
      "1400:\ttotal: 14m 17s\tremaining: 6m 6s\n",
      "1500:\ttotal: 15m 22s\tremaining: 5m 6s\n",
      "1600:\ttotal: 16m 25s\tremaining: 4m 5s\n",
      "1700:\ttotal: 17m 28s\tremaining: 3m 4s\n",
      "1800:\ttotal: 18m 32s\tremaining: 2m 2s\n",
      "1900:\ttotal: 19m 34s\tremaining: 1m 1s\n",
      "1999:\ttotal: 20m 37s\tremaining: 0us\n",
      "0:\ttotal: 485ms\tremaining: 16m 9s\n",
      "100:\ttotal: 51.8s\tremaining: 16m 14s\n",
      "200:\ttotal: 1m 42s\tremaining: 15m 17s\n",
      "300:\ttotal: 2m 36s\tremaining: 14m 41s\n",
      "400:\ttotal: 3m 26s\tremaining: 13m 44s\n",
      "500:\ttotal: 4m 20s\tremaining: 12m 58s\n",
      "600:\ttotal: 5m 14s\tremaining: 12m 10s\n",
      "700:\ttotal: 6m 11s\tremaining: 11m 28s\n",
      "800:\ttotal: 7m 8s\tremaining: 10m 41s\n",
      "900:\ttotal: 8m 6s\tremaining: 9m 53s\n",
      "1000:\ttotal: 9m 6s\tremaining: 9m 5s\n",
      "1100:\ttotal: 10m 7s\tremaining: 8m 15s\n",
      "1200:\ttotal: 11m 3s\tremaining: 7m 21s\n",
      "1300:\ttotal: 11m 55s\tremaining: 6m 24s\n",
      "1400:\ttotal: 12m 48s\tremaining: 5m 28s\n",
      "1500:\ttotal: 13m 46s\tremaining: 4m 34s\n",
      "1600:\ttotal: 14m 39s\tremaining: 3m 39s\n",
      "1700:\ttotal: 15m 31s\tremaining: 2m 43s\n",
      "1800:\ttotal: 16m 25s\tremaining: 1m 48s\n",
      "1900:\ttotal: 17m 23s\tremaining: 54.3s\n",
      "1999:\ttotal: 18m 19s\tremaining: 0us\n",
      "0:\ttotal: 437ms\tremaining: 14m 32s\n",
      "100:\ttotal: 44.8s\tremaining: 14m 2s\n",
      "200:\ttotal: 1m 33s\tremaining: 13m 55s\n",
      "300:\ttotal: 2m 25s\tremaining: 13m 43s\n",
      "400:\ttotal: 3m 18s\tremaining: 13m 13s\n",
      "500:\ttotal: 4m 17s\tremaining: 12m 49s\n",
      "600:\ttotal: 5m 14s\tremaining: 12m 12s\n",
      "700:\ttotal: 6m 17s\tremaining: 11m 40s\n",
      "800:\ttotal: 7m 22s\tremaining: 11m 2s\n",
      "900:\ttotal: 8m 38s\tremaining: 10m 32s\n"
     ]
    }
   ],
   "source": [
    "# pandas >= 1.3.0\n",
    "# numpy >= 1.20.0\n",
    "# matplotlib >= 3.4.0\n",
    "# seaborn >= 0.11.0\n",
    "# scikit-learn >= 1.0.0\n",
    "# imbalanced-learn >= 0.8.0\n",
    "# catboost >= 1.0.0\n",
    "# lightgbm >= 3.3.0\n",
    "# scipy >= 1.7.0\n",
    "# xgboost >= 1.7.0\n",
    "\n",
    "import pandas as pd\n",
    "import numpy as np\n",
    "import gc\n",
    "import matplotlib.pyplot as plt\n",
    "import seaborn as sns\n",
    "from sklearn.preprocessing import OrdinalEncoder, MinMaxScaler, PowerTransformer\n",
    "from sklearn.model_selection import StratifiedKFold\n",
    "from sklearn.metrics import roc_auc_score\n",
    "from imblearn.under_sampling import RandomUnderSampler\n",
    "from catboost import CatBoostClassifier, Pool\n",
    "import lightgbm as lgb\n",
    "from lightgbm import LGBMClassifier\n",
    "import xgboost as xgb\n",
    "from xgboost import XGBClassifier\n",
    "from scipy.optimize import minimize\n",
    "from sklearn.linear_model import LogisticRegression\n",
    "from sklearn.ensemble import StackingClassifier\n",
    "from sklearn.pipeline import Pipeline\n",
    "from sklearn.preprocessing import RobustScaler\n",
    "\n",
    "# 데이터 불러오기 및 전처리\n",
    "def preprocess_data(train_path, test_path):\n",
    "    print(\"Loading data...\")\n",
    "    train = pd.read_csv(train_path)\n",
    "    test = pd.read_csv(test_path)\n",
    "    sample_submission = pd.read_csv(test_path.replace('test.csv', 'sample_submission.csv'))\n",
    "    \n",
    "    # ID 컬럼 제거\n",
    "    if 'ID' in train.columns:\n",
    "        train.drop(columns=['ID'], inplace=True)\n",
    "    if 'ID' in test.columns:\n",
    "        test.drop(columns=['ID'], inplace=True)\n",
    "\n",
    "    y = train['임신 성공 여부']\n",
    "    X = train.drop(columns=['임신 성공 여부'])\n",
    "    X_test = test.copy()\n",
    "\n",
    "    # 결측치 처리\n",
    "    for col in X.columns:\n",
    "        if X[col].dtype == 'object':\n",
    "            X[col] = X[col].fillna('Unknown')\n",
    "            X_test[col] = X_test[col].fillna('Unknown')\n",
    "        else:\n",
    "            X[col] = X[col].fillna(X[col].median())  # mean 대신 median 사용\n",
    "            X_test[col] = X_test[col].fillna(X_test[col].median())\n",
    "\n",
    "    # 범주형/수치형 변수 구분\n",
    "    categorical_features = X.select_dtypes(include=['object']).columns.tolist()\n",
    "    numerical_features = X.select_dtypes(exclude=['object']).columns.tolist()\n",
    "\n",
    "    # 범주형 변수 인코딩\n",
    "    ordinal_encoder = OrdinalEncoder(handle_unknown='use_encoded_value', unknown_value=-1)\n",
    "    X[categorical_features] = ordinal_encoder.fit_transform(X[categorical_features])\n",
    "    X_test[categorical_features] = ordinal_encoder.transform(X_test[categorical_features])\n",
    "\n",
    "    # 수치형 변수 스케일링\n",
    "    scaler = MinMaxScaler()\n",
    "    X[numerical_features] = scaler.fit_transform(X[numerical_features])\n",
    "    X_test[numerical_features] = scaler.transform(X_test[numerical_features])\n",
    "\n",
    "    # 이상치 처리 (IQR 방법)\n",
    "    for col in numerical_features:\n",
    "        Q1 = X[col].quantile(0.25)\n",
    "        Q3 = X[col].quantile(0.75)\n",
    "        IQR = Q3 - Q1\n",
    "        lower_bound = Q1 - 1.5 * IQR\n",
    "        upper_bound = Q3 + 1.5 * IQR\n",
    "        X[col] = np.clip(X[col], lower_bound, upper_bound)\n",
    "        X_test[col] = np.clip(X_test[col], lower_bound, upper_bound)\n",
    "\n",
    "    # 파워 변환으로 분포 개선\n",
    "    power = PowerTransformer(method='yeo-johnson')\n",
    "    X[numerical_features] = power.fit_transform(X[numerical_features])\n",
    "    X_test[numerical_features] = power.transform(X_test[numerical_features])\n",
    "    \n",
    "    # 상호작용 특성 생성\n",
    "    interact_features = []\n",
    "    for i in range(min(10, len(numerical_features))):\n",
    "        for j in range(i+1, min(11, len(numerical_features))):\n",
    "            feat1, feat2 = numerical_features[i], numerical_features[j]\n",
    "            feat_name = f'{feat1}_{feat2}_interact'\n",
    "            interact_features.append(feat_name)\n",
    "            X[feat_name] = X[feat1] * X[feat2]\n",
    "            X_test[feat_name] = X_test[feat1] * X_test[feat2]\n",
    "    \n",
    "    # 데이터 타입 변환\n",
    "    X[numerical_features + interact_features] = X[numerical_features + interact_features].astype(float)\n",
    "    X_test[numerical_features + interact_features] = X_test[numerical_features + interact_features].astype(float)\n",
    "    X[categorical_features] = X[categorical_features].astype(int)\n",
    "    X_test[categorical_features] = X_test[categorical_features].astype(int)\n",
    "    \n",
    "    return X, y, X_test, sample_submission, categorical_features\n",
    "\n",
    "# CatBoost 최적 파라미터\n",
    "def get_cat_params():\n",
    "    return {\n",
    "        \"iterations\": 2000,      # 반복 횟수 증가\n",
    "        \"learning_rate\": 0.01,   # 학습률 조정\n",
    "        \"depth\": 10,             # 트리 깊이 증가\n",
    "        \"l2_leaf_reg\": 7,        # L2 정규화 강화\n",
    "        \"border_count\": 255,     # 경계 카운트 증가\n",
    "        \"subsample\": 0.85,       # 서브샘플링 비율 조정\n",
    "        \"random_strength\": 0.7,  # 랜덤 강도 증가\n",
    "        \"bagging_temperature\": 1.2,  # 배깅 온도 조정\n",
    "        \"od_type\": \"Iter\",\n",
    "        \"od_wait\": 75,           # 조기 종료 대기 라운드 증가\n",
    "        \"loss_function\": \"Logloss\",\n",
    "        \"eval_metric\": \"AUC\",\n",
    "        \"verbose\": 100,\n",
    "        \"random_seed\": 42,\n",
    "        \"class_weights\": [1, 4]  # 클래스 불균형 가중치 조정\n",
    "    }\n",
    "\n",
    "# LightGBM 최적 파라미터\n",
    "def get_lgb_params():\n",
    "    return {\n",
    "        \"n_estimators\": 2000,    # 트리 수 증가\n",
    "        \"learning_rate\": 0.01,   # 학습률 조정\n",
    "        \"num_leaves\": 127,       # 리프 노드 수 증가\n",
    "        \"max_depth\": 14,         # 트리 깊이 증가\n",
    "        \"min_data_in_leaf\": 15,  # 리프 노드 최소 데이터 수 조정\n",
    "        \"max_bin\": 511,          # 최대 빈 수 증가\n",
    "        \"subsample\": 0.85,       # 서브샘플링 비율 조정\n",
    "        \"subsample_freq\": 1,\n",
    "        \"colsample_bytree\": 0.85,# 열 샘플링 비율 조정\n",
    "        \"min_child_weight\": 0.0001,  # 자식 노드 가중치 조정\n",
    "        \"reg_alpha\": 7,          # L1 정규화 강화\n",
    "        \"reg_lambda\": 15,        # L2 정규화 강화\n",
    "        \"objective\": \"binary\",\n",
    "        \"metric\": \"auc\",\n",
    "        \"boosting_type\": \"gbdt\",\n",
    "        \"verbose\": -1,\n",
    "        \"random_state\": 42,\n",
    "        \"scale_pos_weight\": 4.0  # 클래스 불균형 가중치 조정\n",
    "    }\n",
    "\n",
    "# XGBoost 최적 파라미터\n",
    "def get_xgb_params():\n",
    "    return {\n",
    "        \"n_estimators\": 2000,    # 트리 수 증가\n",
    "        \"learning_rate\": 0.01,   # 학습률 조정\n",
    "        \"max_depth\": 12,         # 트리 깊이 증가\n",
    "        \"min_child_weight\": 0.5, # 자식 노드 가중치 조정\n",
    "        \"subsample\": 0.85,       # 서브샘플링 비율 조정\n",
    "        \"colsample_bytree\": 0.85,# 열 샘플링 비율 조정\n",
    "        \"gamma\": 0.2,            # 분할 페널티 증가\n",
    "        \"reg_alpha\": 7,          # L1 정규화 강화\n",
    "        \"reg_lambda\": 15,        # L2 정규화 강화\n",
    "        \"objective\": \"binary:logistic\",\n",
    "        \"eval_metric\": \"auc\",\n",
    "        \"tree_method\": \"gpu_hist\",\n",
    "        \"random_state\": 42,\n",
    "        \"scale_pos_weight\": 4.0  # 클래스 불균형 가중치 조정\n",
    "    }\n",
    "\n",
    "# 가중치 최적화 함수\n",
    "def optimize_weights(predictions, y_true):\n",
    "    def objective(weights):\n",
    "        weights = np.array(weights)\n",
    "        weights = weights / np.sum(weights)  # 정규화\n",
    "        weighted_pred = np.sum([w * p for w, p in zip(weights, predictions)], axis=0)\n",
    "        return -roc_auc_score(y_true, weighted_pred)  # 최대화를 위해 음수 사용\n",
    "    \n",
    "    n_models = len(predictions)\n",
    "    # 기본 가중치를 모델 성능 기반으로 초기화\n",
    "    initial_aucs = [roc_auc_score(y_true, pred) for pred in predictions]\n",
    "    initial_weights = np.array(initial_aucs) / sum(initial_aucs)\n",
    "    \n",
    "    bounds = [(0, 1) for _ in range(n_models)]\n",
    "    constraints = ({'type': 'eq', 'fun': lambda w: np.sum(w) - 1})\n",
    "    \n",
    "    try:\n",
    "        result = minimize(objective, initial_weights, method='SLSQP', bounds=bounds, constraints=constraints)\n",
    "        return result.x\n",
    "    except Exception as e:\n",
    "        print(f\"최적화 실패, 기본 가중치 사용: {e}\")\n",
    "        return initial_weights\n",
    "\n",
    "# 배치 예측 함수\n",
    "def batch_predict(model, X, batch_size=10000):\n",
    "    predictions = []\n",
    "    for i in range(0, len(X), batch_size):\n",
    "        batch_pred = model.predict_proba(X.iloc[i:i+batch_size])[:, 1]\n",
    "        predictions.append(batch_pred)\n",
    "    return np.concatenate(predictions)\n",
    "\n",
    "# 모델 훈련 및 예측 함수\n",
    "def train_and_predict():\n",
    "    # 데이터 로드 및 전처리\n",
    "    X, y, X_test, sample_submission, categorical_features = preprocess_data(\n",
    "        'train.csv',\n",
    "        'test.csv'\n",
    "    )\n",
    "    \n",
    "    # 스태킹 분류기 파라미터 그리드\n",
    "    param_dist = {\n",
    "        # XGBoost 파라미터\n",
    "        'xgb__n_estimators': [1500, 2000, 2500],\n",
    "        'xgb__max_depth': [8, 10, 12, 14],\n",
    "        'xgb__learning_rate': [0.005, 0.01, 0.02],\n",
    "        'xgb__min_child_weight': [0.1, 0.5, 1],\n",
    "\n",
    "        # LightGBM 파라미터\n",
    "        'lgbm__n_estimators': [1500, 2000, 2500],\n",
    "        'lgbm__num_leaves': [63, 127, 255],\n",
    "        'lgbm__max_depth': [10, 12, 14, 16],\n",
    "        'lgbm__learning_rate': [0.005, 0.01, 0.02],\n",
    "        'lgbm__min_child_samples': [10, 15, 20],\n",
    "        'lgbm__reg_alpha': [1, 5, 7],\n",
    "        'lgbm__reg_lambda': [10, 15, 20],\n",
    "\n",
    "        # CatBoost 파라미터\n",
    "        'cat__iterations': [1500, 2000, 2500],\n",
    "        'cat__depth': [8, 10, 12],\n",
    "        'cat__learning_rate': [0.005, 0.01, 0.02],\n",
    "        'cat__l2_leaf_reg': [3, 5, 7],\n",
    "        'cat__random_strength': [0.5, 0.7, 1.0],\n",
    "\n",
    "        # 최종 분류기 (LogisticRegression) 파라미터\n",
    "        'final_estimator__lr__C': [0.01, 0.1, 1.0, 5.0, 10.0]\n",
    "    }\n",
    "    \n",
    "    # 스태킹 분류기 설정\n",
    "    stack_clf = StackingClassifier(\n",
    "        estimators=[\n",
    "            ('xgb', XGBClassifier(**get_xgb_params())),\n",
    "            ('lgbm', LGBMClassifier(**get_lgb_params())),\n",
    "            ('cat', CatBoostClassifier(\n",
    "                **get_cat_params(), \n",
    "                cat_features=categorical_features\n",
    "            ))\n",
    "        ],\n",
    "        final_estimator=Pipeline([\n",
    "            ('scaler', RobustScaler()),\n",
    "            ('lr', LogisticRegression(\n",
    "                max_iter=1000,\n",
    "                class_weight='balanced',\n",
    "                solver='liblinear'\n",
    "            ))\n",
    "        ]),\n",
    "        cv=5,  # 폴드 수 증가\n",
    "        n_jobs=1\n",
    "    )\n",
    "    \n",
    "    # 교차 검증 설정\n",
    "    from sklearn.model_selection import RandomizedSearchCV\n",
    "    random_search = RandomizedSearchCV(\n",
    "        stack_clf,\n",
    "        param_distributions=param_dist,\n",
    "        n_iter=50,  # 탐색 후보 수 증가\n",
    "        scoring='roc_auc',\n",
    "        cv=5,  # 폴드 수 증가\n",
    "        n_jobs=1,\n",
    "        random_state=42,\n",
    "        verbose=2\n",
    "    )\n",
    "    \n",
    "    # 데이터 분할\n",
    "    n_splits = 5\n",
    "    skf = StratifiedKFold(n_splits=n_splits, shuffle=True, random_state=42)\n",
    "    \n",
    "    # 예측 결과 저장 (3개 모델)\n",
    "    oof_preds_cat = np.zeros(len(X))\n",
    "    oof_preds_lgb = np.zeros(len(X))\n",
    "    oof_preds_xgb = np.zeros(len(X))\n",
    "    test_preds_cat = np.zeros(len(X_test))\n",
    "    test_preds_lgb = np.zeros(len(X_test))\n",
    "    test_preds_xgb = np.zeros(len(X_test))\n",
    "\n",
    "\n",
    "    # 각 폴드별 최고 성능 모델 저장\n",
    "    best_models = {'cat': None, 'lgb': None, 'xgb': None}\n",
    "    best_score = 0\n",
    "    \n",
    "    # K-Fold 훈련\n",
    "    for fold_idx, (tr_idx, val_idx) in enumerate(skf.split(X, y), 1):\n",
    "        print(f\"\\n==== Fold {fold_idx}/{n_splits} ====\")\n",
    "        X_tr, X_val = X.iloc[tr_idx], X.iloc[val_idx]\n",
    "        y_tr, y_val = y.iloc[tr_idx], y.iloc[val_idx]\n",
    "        \n",
    "        try:\n",
    "            # RandomUnderSampler 사용\n",
    "            rus = RandomUnderSampler(sampling_strategy=0.5, random_state=42)  \n",
    "            X_tr_res, y_tr_res = rus.fit_resample(X_tr, y_tr)\n",
    "            \n",
    "            # 모델 학습\n",
    "            random_search.fit(X_tr_res, y_tr_res)\n",
    "            \n",
    "            # 최적 모델 선택\n",
    "            best_stacked_model = random_search.best_estimator_\n",
    "            \n",
    "            # 개별 모델 추출\n",
    "            cat_model = best_stacked_model.estimators_[2]\n",
    "            lgb_model = best_stacked_model.estimators_[1]\n",
    "            xgb_model = best_stacked_model.estimators_[0]\n",
    "            \n",
    "            # 개별 모델 검증 세트 예측\n",
    "            cat_val_pred = cat_model.predict_proba(X_val)[:, 1]\n",
    "            lgb_val_pred = lgb_model.predict_proba(X_val)[:, 1]\n",
    "            xgb_val_pred = xgb_model.predict_proba(X_val)[:, 1]\n",
    "            \n",
    "            # OOF 예측 저장\n",
    "            oof_preds_cat[val_idx] = cat_val_pred\n",
    "            oof_preds_lgb[val_idx] = lgb_val_pred\n",
    "            oof_preds_xgb[val_idx] = xgb_val_pred\n",
    "            \n",
    "            # 테스트 세트 예측\n",
    "            test_preds_cat += batch_predict(cat_model, X_test) / n_splits\n",
    "            test_preds_lgb += batch_predict(lgb_model, X_test) / n_splits\n",
    "            test_preds_xgb += batch_predict(xgb_model, X_test) / n_splits\n",
    "            \n",
    "            # 개별 모델 성능 확인\n",
    "            cat_auc = roc_auc_score(y_val, cat_val_pred)\n",
    "            lgb_auc = roc_auc_score(y_val, lgb_val_pred)\n",
    "            xgb_auc = roc_auc_score(y_val, xgb_val_pred)\n",
    "            print(f\"CatBoost Fold {fold_idx} AUC: {cat_auc:.6f}\")\n",
    "            print(f\"LightGBM Fold {fold_idx} AUC: {lgb_auc:.6f}\")\n",
    "            print(f\"XGBoost Fold {fold_idx} AUC: {xgb_auc:.6f}\")\n",
    "            \n",
    "            # 가중치 최적화로 앙상블\n",
    "            weights = optimize_weights(\n",
    "                [cat_val_pred, lgb_val_pred, xgb_val_pred], \n",
    "                y_val\n",
    "            )\n",
    "            weighted_val_pred = (\n",
    "                weights[0] * cat_val_pred + \n",
    "                weights[1] * lgb_val_pred + \n",
    "                weights[2] * xgb_val_pred\n",
    "            )\n",
    "            ensemble_auc = roc_auc_score(y_val, weighted_val_pred)\n",
    "            print(f\"Ensemble Fold {fold_idx} AUC: {ensemble_auc:.6f} (weights: {weights})\")\n",
    "            \n",
    "            # 최고 성능 모델 업데이트\n",
    "            if ensemble_auc > best_score:\n",
    "                best_score = ensemble_auc\n",
    "                best_models['cat'] = cat_model\n",
    "                best_models['lgb'] = lgb_model\n",
    "                best_models['xgb'] = xgb_model\n",
    "                print(f\"New best model found! Score: {best_score:.6f}\")\n",
    "                \n",
    "                # 모델 저장\n",
    "                import joblib\n",
    "                best_models['cat'].save_model(f'best_cat_model_fold{fold_idx}.cbm')\n",
    "                joblib.dump(best_models['lgb'], f'best_lgb_model_fold{fold_idx}.bin')\n",
    "                joblib.dump(best_models['xgb'], f'best_xgb_model_fold{fold_idx}.bin')\n",
    "            \n",
    "            # 모델 훈련 진행 확인을 위한 로깅 추가\n",
    "            print(f\"훈련 데이터 크기: {len(X_tr)} -> 리샘플링 후: {len(X_tr_res)}\")\n",
    "            print(f\"훈련 데이터 클래스 분포: {np.bincount(y_tr)}\")\n",
    "            print(f\"리샘플링 후 클래스 분포: {np.bincount(y_tr_res)}\")\n",
    "            \n",
    "        except Exception as e:\n",
    "            print(f\"Error in fold {fold_idx}: {e}\")\n",
    "            continue\n",
    "            \n",
    "        # 메모리 정리\n",
    "        gc.collect()\n",
    "    \n",
    "    # 전체 OOF 성능 평가\n",
    "    cat_oof_auc = roc_auc_score(y, oof_preds_cat)\n",
    "    lgb_oof_auc = roc_auc_score(y, oof_preds_lgb)\n",
    "    xgb_oof_auc = roc_auc_score(y, oof_preds_xgb)\n",
    "    print(f\"\\nCatBoost OOF AUC: {cat_oof_auc:.6f}\")\n",
    "    print(f\"LightGBM OOF AUC: {lgb_oof_auc:.6f}\")\n",
    "    print(f\"XGBoost OOF AUC: {xgb_oof_auc:.6f}\")\n",
    "    \n",
    "    # 전체 데이터에 대한 최적 가중치 계산\n",
    "    final_weights = optimize_weights(\n",
    "        [oof_preds_cat, oof_preds_lgb, oof_preds_xgb], \n",
    "        y\n",
    "    )\n",
    "    oof_ensemble = (\n",
    "        final_weights[0] * oof_preds_cat + \n",
    "        final_weights[1] * oof_preds_lgb + \n",
    "        final_weights[2] * oof_preds_xgb\n",
    "    )\n",
    "    ensemble_oof_auc = roc_auc_score(y, oof_ensemble)\n",
    "    print(f\"Final Ensemble OOF AUC: {ensemble_oof_auc:.6f}\")\n",
    "    print(f\"Final weights: CatBoost={final_weights[0]:.4f}, LightGBM={final_weights[1]:.4f}, XGBoost={final_weights[2]:.4f}\")\n",
    "    \n",
    "    # 테스트 데이터 최종 예측\n",
    "    final_prediction = (\n",
    "        final_weights[0] * test_preds_cat + \n",
    "        final_weights[1] * test_preds_lgb + \n",
    "        final_weights[2] * test_preds_xgb\n",
    "    )\n",
    "    \n",
    "    # 특성 중요도 시각화 (LightGBM 기준)\n",
    "    if best_models['lgb'] is not None:\n",
    "        feature_importance = pd.DataFrame({\n",
    "            'feature': X.columns,\n",
    "            'importance': best_models['lgb'].feature_importances_\n",
    "        }).sort_values('importance', ascending=False)\n",
    "        \n",
    "        plt.figure(figsize=(12, 8))\n",
    "        sns.barplot(x='importance', y='feature', data=feature_importance.head(20))\n",
    "        plt.title('LightGBM Feature Importance')\n",
    "        plt.tight_layout()\n",
    "        plt.savefig('feature_importance.png')\n",
    "        print(\"Feature importance plot saved.\")\n",
    "    \n",
    "    # 제출 파일 생성\n",
    "    sample_submission['probability'] = final_prediction\n",
    "    submission_path = \"cat_lgb_xgb_ensemble.csv\"\n",
    "    sample_submission.to_csv(submission_path, index=False)\n",
    "    print(f\"\\nSubmission saved: {submission_path}\")\n",
    "    print(f\"Final Ensemble OOF AUC: {ensemble_oof_auc:.6f}\")\n",
    "\n",
    "# 메인 실행\n",
    "if __name__ == \"__main__\":\n",
    "    train_and_predict()"
   ]
  }
 ],
 "metadata": {
  "accelerator": "GPU",
  "colab": {
   "authorship_tag": "ABX9TyNkEsRI8xzkoHcNeWltcVaE",
   "gpuType": "T4",
   "provenance": []
  },
  "kernelspec": {
   "display_name": "Python 3",
   "name": "python3"
  },
  "language_info": {
   "codemirror_mode": {
    "name": "ipython",
    "version": 3
   },
   "file_extension": ".py",
   "mimetype": "text/x-python",
   "name": "python",
   "nbconvert_exporter": "python",
   "pygments_lexer": "ipython3",
   "version": "3.10.0"
  }
 },
 "nbformat": 4,
 "nbformat_minor": 0
}
